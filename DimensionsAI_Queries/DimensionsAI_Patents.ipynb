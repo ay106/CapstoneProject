{
 "cells": [
  {
   "cell_type": "code",
   "execution_count": 5,
   "id": "007daaf9",
   "metadata": {},
   "outputs": [],
   "source": [
    "from tqdm.notebook import tqdm as progress\n",
    "import pandas as pd\n",
    "import plotly.express as px\n",
    "from plotly.offline import plot\n",
    "import dimcli\n",
    "from dimcli.utils import *\n",
    "import os, sys, time, json\n",
    "from IPython.display import Image\n",
    "from IPython.core.display import HTML \n",
    "import csv\n",
    "from itertools import islice\n",
    "import ast"
   ]
  },
  {
   "cell_type": "code",
   "execution_count": 14,
   "id": "b1c6f19b",
   "metadata": {},
   "outputs": [
    {
     "name": "stdout",
     "output_type": "stream",
     "text": [
      "==\n",
      "Logging in..\n",
      "\u001b[2mDimcli - Dimensions API Client (v1.2)\u001b[0m\n",
      "\u001b[2mConnected to: <https://app.dimensions.ai/api/dsl> - DSL v2.9\u001b[0m\n",
      "\u001b[2mMethod: manual login\u001b[0m\n"
     ]
    }
   ],
   "source": [
    "#Log into Dimensions\n",
    "#API key is: 9F8D648F0D7E437CB1736BEBDF007F02\n",
    "#!pip install dimcli -U --quiet \n",
    "\n",
    "print(\"==\\nLogging in..\")\n",
    "# https://digital-science.github.io/dimcli/getting-started.html#authentication\n",
    "ENDPOINT = \"https://app.dimensions.ai\"\n",
    "if 'google.colab' in sys.modules:\n",
    "    import getpass\n",
    "    KEY = getpass.getpass(prompt='API Key: ')  \n",
    "    dimcli.login(key=KEY, endpoint=ENDPOINT)\n",
    "else:\n",
    "    KEY = \"9F8D648F0D7E437CB1736BEBDF007F02\"\n",
    "    dimcli.login(key=KEY, endpoint=ENDPOINT)\n",
    "dsl = dimcli.Dsl()"
   ]
  },
  {
   "cell_type": "code",
   "execution_count": 7,
   "id": "47072668",
   "metadata": {},
   "outputs": [
    {
     "name": "stdout",
     "output_type": "stream",
     "text": [
      "993\n",
      "{'Yale Nemerson': ['ur.01277425615.41'], 'Elia Ayoub': ['ur.0735577112.30'], 'John Dietschy': ['ur.01025071275.97'], 'Yale Enson': ['ur.0101401022.42'], 'Mehran Goulian': ['ur.0110335427.79'], 'Norman Javitt': ['ur.014367154157.97'], 'Hermes Kontos': ['ur.01365573305.13'], 'Gilbert Levinson': ['ur.063473265.70'], 'Harvey Marver': ['ur.0103350205.47'], 'Harold Neu': ['ur.0770536113.50'], 'Arthur Eisen': ['ur.01205720337.52'], 'Barry Fanburg': ['ur.01371673556.42'], 'Dorothea Zucker-Franklin': ['ur.053601322.36'], 'Nathan Zvaifler': ['ur.0105303412.71'], 'Phyllis Bodel': ['ur.052632615.36'], 'Sidney Cooperband': ['ur.056035721.35'], 'Jacques Kessler': ['ur.0103451421.33'], 'Stanley Korenman': ['ur.054037724.92'], 'Gildon Beall': ['ur.0745507037.13'], 'Neil Cherniack': ['ur.01115513255.09'], 'Blas Frangione': ['ur.01346307176.17'], 'Irwin Freedberg': ['ur.0751444026.49'], 'Thomas Merimee': ['ur.070327605.06'], 'I Samloff': ['ur.047134623.93'], 'Wadi Suki': ['ur.01162021515.51'], 'Shirley Ebbe': ['ur.01240650601.63'], 'Clyde Bardin': ['ur.012322211332.27'], 'Ward Bullock': ['ur.0722437767.92'], 'Jack Coburn': ['ur.057162657.14'], 'Richard Levere': ['ur.01120432047.56'], 'Michael Mosesson': ['ur.015122611337.60'], 'Ursula Muller-Eberhard': ['ur.065441563.04'], 'Leon Sabath': ['ur.052345724.22'], 'Burton Sobel': ['ur.01255545437.45'], 'Martin Surks': ['ur.0615233566.88'], 'Siamak Adibi': ['ur.01160461772.93'], 'Carl Bentzel': ['ur.01173542743.88'], 'Kevin Catt': ['ur.01062710551.51'], 'Wallace Clyde': ['ur.0604674001.96'], 'Harvey Colten': ['ur.0713143534.23'], 'Bernard Forget': ['ur.01061255657.32'], 'Eugene Frenkel': ['ur.0105070462.54'], 'Jared Grantham': ['ur.013741776477.58'], 'Mitchell Halperin': ['ur.0634305514.71'], 'Leon Hoyer': ['ur.01243144546.88'], 'Jamshid Javid': ['ur.066764457.21'], 'Marshall Lichtman': ['ur.01224770411.99'], 'Ruy Lourenco': ['ur.0105167756.85'], 'John Salvaggio': ['ur.0110452137.82'], 'Manning Thaler': ['ur.0107305341.81'], 'Harry Beaty': ['ur.053552725.23'], 'Viktor Bokisch': ['ur.067314304.25'], 'Inder Chopra': ['ur.01161623132.59'], 'Darrell Fanestil': ['ur.065312163.22'], 'Alexander Fefer': ['ur.0100115522.65'], 'Darryl Granner': ['ur.010704766044.23'], 'Ronald Kalkhoff': ['ur.052212163.08'], 'Sanford Krantz': ['ur.0622452513.91'], 'Sheldon Rothenberg': ['ur.01132362500.17'], 'John Voorhees': ['ur.01144600536.45'], 'Joseph Warshaw': ['ur.01327560533.39'], 'Aubie Angel': ['ur.01242453510.02'], 'Edgar Cathcart': ['ur.01133267027.05'], 'Mortimer Civan': ['ur.0673454003.15'], 'Coy Fitch': ['ur.0100334157.02'], 'Franklyn Knox': ['ur.01135051561.21'], 'Julian Niemetz': ['ur.0112767513.11'], 'Jeremiah Silbert': ['ur.0720403045.44'], 'Antero So': ['ur.01021113321.80'], 'Frank Stockdale': ['ur.077567555.00'], 'Leonard Jarett': ['ur.01347725216.99'], 'Edwin Beachey': ['ur.01365524565.68'], 'Stanley Birge': ['ur.01067473175.85'], 'Guenther Boden': ['ur.01304430314.14'], 'Donald Castell': ['ur.01335607170.34'], 'Willard Daggett': ['ur.0714217163.19'], 'Vincent Discala': ['ur.074512464.09'], 'Aron Fisher': ['ur.01360652102.21'], 'Harvey Gralnick': ['ur.0653122372.66'], 'Khursheed Jeejeebhoy': ['ur.01027555135.23'], 'George Kaloyanides': ['ur.0113073505.56'], 'Laurence Kedes': ['ur.014777410327.76'], 'Robert Orange': ['ur.072330537.93'], 'Hugo Jasin': ['ur.01161777342.36'], 'Robert Adelstein': ['ur.01274046465.50'], 'Joseph Avruch': ['ur.01074100404.77'], 'Roland Blantz': ['ur.01064334401.20'], 'John Brunzell': ['ur.0620666024.50'], 'Frederick DeRubertis': ['ur.01141346353.49'], 'Kenneth Gabbay': ['ur.0717212123.10'], 'Jack Hawiger': ['ur.010760566354.87'], 'Micheline Mathews-Roth': ['ur.0106420001.97'], 'Ward Olsen': ['ur.015621773264.02'], 'Ruy Soeiro': ['ur.0702451700.67'], 'Bobby Stinebaugh': ['ur.0103421055.06'], 'Andre Van Herle': ['ur.046322757.06'], 'Kirk Wuepper': ['ur.055577330.41'], 'Ashley Haase': ['ur.01326661540.74'], 'Philip Askenase': ['ur.0707235634.37'], 'Philip Coffino': ['ur.01032407212.73'], 'Raphael Dolin': ['ur.01315101707.18'], 'Dwain Eckberg': ['ur.01330025277.57'], 'Glenn Peake': ['ur.01312714517.94'], 'Daniel Roncari': ['ur.055156511.56'], 'Irwin Scher': ['ur.051627001.58'], 'Isaias Spilberg': ['ur.01170420345.15'], 'Gordon Weir': ['ur.01216727245.57'], 'Otto Goetze': ['ur.014030620012.48'], 'Nicholas Kredich': ['ur.0763567002.34'], 'Chang-Seng Liang': ['ur.0752122552.59'], 'Makio Ogawa': ['ur.012261630322.11'], 'Sheldon Pinnell': ['ur.0702413542.58'], 'Matthew Rechler': ['ur.071502227.17'], 'David Rosenstreich': ['ur.0716730202.22'], 'Shigeru Sassa': ['ur.01260500466.30'], 'Babette Weksler': ['ur.01351646547.75'], 'Thalia Papayannopoulou': ['ur.016531141257.18'], 'David Bilheimer': ['ur.013441053107.09'], 'Neil Blacklow': ['ur.0100464437.49'], 'Mark Entman': ['ur.012772670437.26'], 'Philip Guzelian': ['ur.01037317567.10'], 'David Kleinberg': ['ur.01137756763.04'], 'Ione Kourides': ['ur.01306056457.74'], 'Rob MacGregor': ['ur.01323725124.37'], 'Charles Mansbach': ['ur.01266342401.36'], 'Harry Margolius': ['ur.0612054261.54'], 'Philip Schein': ['ur.071644501.94'], 'Richard Shadduck': ['ur.01360551575.15'], 'William Yarger': ['ur.01116362437.96'], 'Jouni Uitto': ['ur.011756021477.10'], 'Blanche Alter': ['ur.01145461404.61'], 'Merrill Benson': ['ur.0630027464.43'], 'Herbert Bonkovsky': ['ur.0747161456.53'], 'Raymond Burk': ['ur.01326520265.81'], 'EDWARD CRANDALL': ['ur.0747561545.16'], 'Bertram Felsher': ['ur.073646005.12'], 'Marvin Gershengorn': ['ur.01337042652.97'], 'Sherman Levine': ['ur.0775220057.44'], 'Willis Maddrey': ['ur.01122634607.84'], 'Howard Nankin': ['ur.01041267517.62'], 'Thomas Provost': ['ur.01066416153.51'], 'Detlef Schlondorff': ['ur.0631616531.98'], 'Manjeri Venkatachalam': ['ur.01225547501.90'], 'Roger Winkle': ['ur.01147356113.66'], 'Jr. Benz': ['ur.01177243765.40'], 'Tomas Berl': ['ur.01075023337.00'], 'Steven Burakoff': ['ur.01007001471.61'], 'Leon Fine': ['ur.01323237522.19'], 'Ralph Giannella': ['ur.01231041637.37'], 'Nortin Hadler': ['ur.0677157243.68'], 'Keith Hruska': ['ur.01103241125.97'], 'J. Kolhouse': ['ur.0750646733.23'], 'Douglas Lowy': ['ur.011446042637.05'], 'Aubrey Morrison': ['ur.01113146030.98'], 'Carl Pepine': ['ur.013762667337.28'], 'Arnold Postlethwaite': ['ur.01055556723.00'], 'Alex Rabinovitch': ['ur.01346240462.26'], 'Elliot Rayfield': ['ur.01207552345.57'], 'Arleen Rifkind': ['ur.0621030446.00'], 'Morris Schambelan': ['ur.0102433731.31'], 'Eugene Straus': ['ur.01002251711.59'], 'Bevra Hahn': ['ur.07513071212.08'], 'Carl Nathan': ['ur.0740455253.29'], 'Zalman Agus': ['ur.01332355273.62'], 'Carl Apstein': ['ur.01225171763.21'], 'Jay Berzofsky': ['ur.01043742346.49'], 'Barton Haynes': ['ur.012332732537.73'], 'Carl Leier': ['ur.015572344117.13'], 'Meyer Lifschitz': ['ur.0734220567.62'], 'James Niedel': ['ur.01043015516.87'], 'John Repine': ['ur.012226113657.42'], 'Anton Schoolwerth': ['ur.01260062126.48'], 'Sanford Shattil': ['ur.0103102412.32'], 'F. Toback': ['ur.0741330002.15'], 'George Wilner': ['ur.01140220037.74'], 'Allan Wolkoff': ['ur.01136354062.19'], 'Stephen Zinner': ['ur.01021210130.06'], 'Thomas Lawley': ['ur.01133451070.97'], 'Itamar Abrass': ['ur.0737034617.62'], 'Robert Bast Jr.': ['ur.012331422137.36'], 'Barry Festoff': ['ur.052772662.71'], 'Fred Finkelman': ['ur.0652635006.60'], 'Curt Freed': ['ur.01140751111.99'], 'Harvey Golomb': ['ur.01152404751.28'], 'Charles Homcy': ['ur.064446050.15'], 'Mae Hultin': ['ur.01112364336.85'], 'Vanda Lennon': ['ur.0575723637.50'], 'Thurman McKinney': ['ur.01305767605.92'], 'Bruce Nisula': ['ur.0665544671.41'], 'Ivor Royston': ['ur.01125066005.24'], 'Glen Van Loon': ['ur.0656712353.96'], 'Ronald Whisler': ['ur.0657415202.19'], 'Reed Wickner': ['ur.0711651377.29'], 'Iekuni Ichikawa': ['ur.0716254467.38'], 'Douglas Cines': ['ur.0677731563.23'], 'Martin Cogan': ['ur.0731357426.44'], 'Theodore Gabig': ['ur.01072513462.18'], 'Louis Lange': ['ur.01126051654.01'], 'Mercio Perrin': ['ur.01361155126.55'], 'Zaverio Ruggeri': ['ur.0610325312.98'], 'Allen Steere': ['ur.01052600064.98'], 'William Stenson': ['ur.01101357510.82'], 'Jimmie Sylvester': ['ur.0733263207.26'], 'Robert Yolken': ['ur.015256461622.27'], 'Ernesto Canalis': ['ur.01246623425.29'], 'Clifton Bogardus': ['ur.01346142621.31'], 'Kiertisin Dharmsathaphorn': ['ur.01015651621.72'], 'Boris Draznin': ['ur.01151345414.67'], 'Leslie Hillis': ['ur.01242325500.75'], 'Marguerite Kay': ['ur.011411421337.71'], 'Stanley Korsmeyer': ['ur.01060743620.36'], 'Anne Nicholson-Weller': ['ur.01112475503.47'], 'Jerry Radziuk': ['ur.01160751167.95'], 'Edward Shortliffe': ['ur.01302067362.24'], 'Jess Thoene': ['ur.01225466430.62'], 'Allan Pack': ['ur.014136312017.32'], 'Bennett Blitzer': ['ur.01142616362.27'], 'Gerry Boss': ['ur.01217032657.75'], 'Gary Brittenham': ['ur.0653017245.35'], 'Dan Granoff': ['ur.0664252775.48'], 'Henry Hulter': ['ur.0111510653.49'], 'Vishwanath Lingappa': ['ur.01146211452.37'], 'Virginia Savin': ['ur.011164443717.74'], 'Arthur Slutsky': ['ur.0676632646.68'], 'Frederick Southwick': ['ur.01350703006.10'], 'Joseph Verbalis': ['ur.01157327243.98'], 'Samuel Santoro': ['ur.01345531157.31'], 'Greti Aguilera': ['ur.01307740237.22'], 'Celso Gomez-Sanchez': ['ur.015105677677.40'], 'Mark Knepper': ['ur.01321354236.49'], 'Roger Perlmutter': ['ur.01072037264.42'], 'Salvatore Pizzo': ['ur.01216472205.69'], 'Kenneth Polonsky': ['ur.01221713604.51'], 'Paul Sondel': ['ur.01101570400.85'], 'Howard Welgus': ['ur.065230134.38'], 'Mark Zern': ['ur.01201656612.94'], 'Lee Nadler': ['ur.0753443440.69'], 'Christine Abrass': ['ur.0702771071.12'], 'David Benditt': ['ur.01175471261.07'], 'Loran Clement': ['ur.01267651242.46'], 'Andre De Troyer': ['ur.01110763154.52'], 'Douglas Faller': ['ur.01274361400.12'], 'James Gadek': ['ur.063653037.37'], 'Jeffrey Kudlow': ['ur.0762656205.09'], 'Henry Masur': ['ur.01255302340.86'], 'Phillip Pizzo': ['ur.012563065204.62'], 'Edward Prochownik': ['ur.015016321337.89'], 'William Scheld': ['ur.01271341606.29'], 'James Shelhamer': ['ur.01034525706.01'], 'Manikkam Suthanthiran': ['ur.01055764270.32'], 'William Tamborlane': ['ur.014041244377.34'], 'Owen Witte': ['ur.0721120124.57'], 'Wishwa Kapoor': ['ur.01254045526.51'], 'Jonathan Ashwell': ['ur.01306576276.19'], 'Bruce Beutler': ['ur.01341052376.68'], 'David Bushinsky': ['ur.01316247023.50'], 'Mario Chojkier': ['ur.0102123415.07'], 'Charles Czeisler': ['ur.0707242143.09'], 'Clark Distelhorst': ['ur.01154550601.10'], 'Subhash Kukreja': ['ur.01062534762.61'], 'Joseph Majzoub': ['ur.0765421661.26'], 'Cary Mariash': ['ur.01221232163.40'], 'Robert Meenan': ['ur.01307516763.51'], 'Reed Pyeritz': ['ur.0744465762.69'], 'Alvin Schmaier': ['ur.014144017545.24'], 'II Thomas': ['ur.0623262740.47'], 'Eric Topol': ['ur.0731336524.18'], 'Robert Califf': ['ur.01042151240.70'], 'Lawrence Samelson': ['ur.0772355732.83'], 'Carmen Allegra': ['ur.0736106170.33'], 'Akhil Bidani': ['ur.01064433422.44'], 'Gordon Ginder': ['ur.0752765456.96'], 'Michael Goligorsky': ['ur.01214375371.45'], 'Yusuf Hannun': ['ur.0706130231.54'], 'Anne Klibanski': ['ur.0630661505.97'], 'Richard Kolesnick': ['ur.01277724577.12'], 'Theodore Krontiris': ['ur.0647545076.53'], 'Jeffrey Leiden': ['ur.0600436375.25'], 'John Lollar': ['ur.0602664374.19'], 'York Miller': ['ur.0600050640.33'], 'Chikao Morimoto': ['ur.01257751664.41'], 'Mortimer Poncz': ['ur.011401601037.34'], 'Lanny Rosenwasser': ['ur.01156200275.54'], 'Julian Solway': ['ur.0616357771.60'], 'Joel Taurog': ['ur.0615524341.08'], 'Petros Tsipouras': ['ur.01351762701.50'], 'Carl-Wilhelm Vogel': ['ur.0611137240.46'], 'Janis Abkowitz': ['ur.07365743047.65'], 'Marilyn Telen': ['ur.0741177060.19'], 'Andres Blei': ['ur.01236756320.61'], 'Allan Detsky': ['ur.016210700061.88'], 'Francisco Gonzalez-Scarano': ['ur.0102251521.31'], 'Frederick Gorelick': ['ur.01114017073.53'], 'Carl June': ['ur.014235534277.63'], 'Dennis Klinman': ['ur.01252416533.07'], 'Neil Reiner': ['ur.01335247766.01'], 'Victor Schuster': ['ur.010707121234.89'], 'Harry Shamoon': ['ur.0623351271.28'], 'Elizabeth Nabel': ['ur.01065024137.49'], 'William Nauseef': ['ur.0651332106.96'], 'Perumal Thiagarajan': ['ur.01165200501.93'], 'Mark Zeidel': ['ur.01340412425.56'], 'Bradley Britigan': ['ur.0720013116.88'], 'George Caughey': ['ur.0731571070.25'], 'Israel Charo': ['ur.016337611277.13'], 'Arthur Gutierrez-Hartmann': ['ur.01007263401.00'], 'V. Holers': ['ur.01364413472.54'], 'John Kehrl': ['ur.010416624237.26'], 'Daniel Rotrosen': ['ur.01006031751.08'], 'Steven Shoelson': ['ur.01021130270.20'], 'Gregory Vercellotti': ['ur.015676236177.39'], 'Katherine Hajjar': ['ur.01320571066.70'], 'Jeff Sands': ['ur.01112411132.31'], 'Elliot Androphy': ['ur.0706401556.06'], 'Barbara Ballermann': ['ur.0630632272.79'], 'Luiz Belardinelli': ['ur.01016751310.55'], 'Peter Bitterman': ['ur.01133367346.77'], 'Karol Bomsztyk': ['ur.0611642544.54'], 'John Cowdery': ['ur.01040621322.83'], 'Jörg Goronzy': ['ur.01025271203.51'], 'Richard Granstein': ['ur.066402533.95'], 'Lisa Iezzoni': ['ur.0716700712.01'], 'Seigo Izumo': ['ur.01236367336.23'], 'Donald Kohan': ['ur.01202645067.18'], 'Alan Krensky': ['ur.01322023063.43'], 'Elias Lianos': ['ur.01076655475.08'], 'Charles Natanson': ['ur.0652122055.36'], 'Michael Selsted': ['ur.015352363614.30'], 'James Shayman': ['ur.01300670354.66'], 'Steven Spitalnik': ['ur.0630221300.13'], 'Mary Sunday': ['ur.01050616075.82'], 'Larry Tobacman': ['ur.01372654133.72'], 'Dale Umetsu': ['ur.0626116504.78'], 'Cornelia Weyand': ['ur.016037521777.49'], 'Jay Zweier': ['ur.014544026677.21'], 'Karl Nath': ['ur.0621613670.95'], 'Bishr Omary': ['ur.014730211054.29'], 'Fuad Ziyadeh': ['ur.0761676730.05'], 'Peter Arvan': ['ur.01002760245.88'], 'Webster Cavenee': ['ur.012740223223.69'], 'Fabio Cominelli': ['ur.0620555626.93'], 'Mary Dinauer': ['ur.0651722340.16'], 'Samuel Hawgood': ['ur.013155066547.55'], 'Brian Kobilka': ['ur.01107022045.13'], 'Howard Lippton': ['ur.01236526331.24'], 'Sanford Markowitz': ['ur.015750001717.89'], 'Thomas Pallone': ['ur.01122016026.09'], 'William Petri Jr.': ['ur.012610556027.35'], 'Peter St. George-Hyslop': ['ur.01272213066.16'], 'Jonathan Stamler': ['ur.0673753523.71'], 'Laurence Turka': ['ur.01315400021.90'], 'Stephen Wank': ['ur.01014762776.19'], 'Fredric Wondisford': ['ur.0575545206.08'], 'Troyen Brennan': ['ur.01331435353.26'], 'Richard Bucala': ['ur.013151720017.63'], 'Phillip Chance': ['ur.01224060372.64'], 'John DiPersio': ['ur.0755514036.46'], 'Lee Helman': ['ur.01051423553.47'], 'Harald Jüppner': ['ur.0106121602.29'], 'Thomas Kleyman': ['ur.01134462774.93'], 'Gary Koretzky': ['ur.01325632021.52'], 'Joan Kreiss': ['ur.0727765034.53'], 'Laurence McMahon': ['ur.012104761257.50'], 'Westley Reeves': ['ur.015510134432.24'], 'Barrett Rollins': ['ur.01322200237.75'], 'Robert Star': ['ur.0706001031.03'], 'CY Stein': ['ur.011234664717.69'], 'Mary Tinetti': ['ur.0621050500.59'], 'Peter Igarashi': ['ur.01207143557.99'], 'Sally Radovick': ['ur.01345726370.58'], 'Virginia Broudy': ['ur.01176653602.55'], 'Sherin Devaskar': ['ur.01030214547.07'], 'Robert Doms': ['ur.0726513326.02'], 'Pascal Goldschmidt-Clermont': ['ur.01115362635.66'], 'Douglas Golenbock': ['ur.01246314570.56'], 'Razelle Kurzrock': ['ur.0772022470.64'], 'Stephen Meltzer': ['ur.01033746104.09'], 'Mark Musen': ['ur.01356117464.07'], 'Stephen Nimer': ['ur.0657552271.41'], 'Dwain Thiele': ['ur.01272072077.09'], 'Hagop Youssoufian': ['ur.0643440511.18'], 'Ferric Fang': ['ur.01121315670.74'], 'Donald Landry': ['ur.0646271436.68'], 'Michael Parmacek': ['ur.01234756730.32'], 'Wadie Bahou': ['ur.01344055300.40'], 'Roberto Civitelli': ['ur.0754007721.11'], 'Terence Dermody': ['ur.01372314464.01'], 'Erol Fikrig': ['ur.01312272166.40'], 'Alfred George Jr.': ['ur.07420031403.62'], 'Richard Kitsis': ['ur.01175742446.56'], 'Alan Kopin': ['ur.01342231200.09'], 'Juanita Merchant': ['ur.01200341421.80'], 'Ori Rotstein': ['ur.01361663050.08'], 'Mark Schlissel': ['ur.0654100716.33'], 'Robert Seder': ['ur.0704216004.06'], 'Stefan Somlo': ['ur.0613627742.50'], 'Howard Worman': ['ur.01037567300.85'], 'Wafik El-Deiry': ['ur.01320537310.58'], 'Robert Farese Jr.': ['ur.010616253707.83'], 'Andrew Karaplis': ['ur.0622300504.22'], 'Richard Koup': ['ur.01240331671.16'], 'Donna Mancini': ['ur.01260056524.04'], 'Paul McCray Jr.': ['ur.012736403121.07'], 'Michel Nussenzweig': ['ur.0747627025.50'], 'Marc Reitman': ['ur.0754355623.51'], 'Marschall Runge': ['ur.01221036340.24'], 'Clay Semenkovich': ['ur.0753760235.39'], 'Philip Shaul': ['ur.015253471557.49'], 'Virend Somers': ['ur.01004656642.21'], 'Raymond Warrell': ['ur.01311602010.22'], 'George Yancopoulos': ['ur.01274702531.47'], 'Jonathan Barasch': ['ur.0634104106.31'], 'David Virshup': ['ur.01257716635.83'], 'Mone Zaidi': ['ur.01033627435.43'], 'Mario Capecchi': ['ur.0612270466.89'], 'Timothy Cover': ['ur.0755340136.89'], 'Linda Demer': ['ur.01275466263.45'], 'Iswar Hariharan': ['ur.0612735026.41'], 'Kirk Knowlton': ['ur.01321112106.55'], 'Larry Moreland': ['ur.01164505111.49'], 'William Skach': ['ur.0603523346.14'], 'Francis Spinale': ['ur.0612643232.34'], 'Jerry Vockley': ['ur.01172556164.02'], 'Per Westermark': ['ur.01006211233.89'], 'Jeffrey Balser': ['ur.01107664536.85'], 'Lionel Ivashkiv': ['ur.01340413302.95'], 'David Nanus': ['ur.0666217770.24'], 'Allan Brasier': ['ur.0641133151.51'], 'Ethel Cesarman': ['ur.010354631757.33'], 'Augustine Choi': ['ur.014051624337.94'], 'Michael Donnenberg': ['ur.01201060406.46'], 'Serpil Erzurum': ['ur.01307127066.72'], 'Glenn Fishman': ['ur.0757734310.99'], 'David Harlan': ['ur.01107602660.28'], 'Stella Kourembanas': ['ur.01113441707.90'], 'Jonathan Kurie': ['ur.015150666017.55'], 'Jonathan Licht': ['ur.0660223576.18'], 'MacRae Linton': ['ur.01326031522.43'], 'Keith McCrae': ['ur.0657530756.17'], 'Orson Moe': ['ur.01002056472.36'], 'Lloyd Cantley': ['ur.012165654677.03'], 'Fadi Lakkis': ['ur.01250743131.99'], 'William Bishai': ['ur.0624476515.28'], 'Peter Carmeliet': ['ur.01033041553.19'], 'Lewis Chodosh': ['ur.01027647073.78'], 'Marie Demay': ['ur.01260410553.34'], 'Jennifer Grandis': ['ur.01201503470.99'], 'Charles Lowenstein': ['ur.010106671017.42'], 'Anne Moscona': ['ur.0643475446.79'], 'Warren Pear': ['ur.01116244651.73'], 'David Pellman': ['ur.01156360632.48'], 'Anthony Wynshaw-Boris': ['ur.01312427622.05'], 'John Wysolmerski': ['ur.0614453416.31'], 'Christopher Karp': ['ur.01225126262.18'], 'Wadih Arap': ['ur.013303034437.60'], 'Serdar Bulun': ['ur.0641515534.52'], 'Bruce Conklin': ['ur.01333157723.84'], 'Kenneth Freedberg': ['ur.01007601275.21'], 'Joseph Heitman': ['ur.01125225044.68'], 'Larry Kwak': ['ur.012503557017.43'], 'Louis Luttrell': ['ur.012561325357.16'], 'Louis Muglia': ['ur.014754421537.43'], 'Peter Mundel': ['ur.01040233763.03'], 'Ellis Neufeld': ['ur.01017443554.56'], 'Douglas Nixon': ['ur.012521445402.96'], 'Ariel Pablos-Mendez': ['ur.0604100243.29'], 'Richard Quigg': ['ur.0635763137.76'], 'Theodore Standiford': ['ur.015014473357.17'], 'Luc Teyton': ['ur.0715310154.73'], 'Andrew Blauvelt': ['ur.01317345752.47'], 'Fabio Candotti': ['ur.01114542411.82'], 'Preet Chaudhary': ['ur.015264075137.21'], 'Maripat Corr': ['ur.010600637157.24'], 'Phyllis Dennery': ['ur.01277365703.50'], 'Mary Disis': ['ur.01165771723.17'], 'Glenn Dranoff': ['ur.01002076313.06'], 'Samir El-Dahr': ['ur.01211742755.37'], 'Paul Frenette': ['ur.016616142042.21'], 'I-Cheng Ho': ['ur.0764577653.99'], 'Clay Marsh': ['ur.01067422171.15'], 'Jorge Plutzky': ['ur.01146472616.47'], 'Theodora Ross': ['ur.01033070736.59'], 'Barry Sleckman': ['ur.01115412332.53'], 'Dwight Towler': ['ur.011122213674.07'], 'Flordeliza Villanueva': ['ur.0606520215.55'], 'Rexford Ahima': ['ur.01317072404.15'], 'Crystal Mackall': ['ur.0644163123.96'], 'Carol Mangione': ['ur.0703105717.40'], 'Rhoda Alani': ['ur.0744431504.68'], 'José Baselga': ['ur.01063677263.55'], 'Tamara Doering': ['ur.01313356712.60'], 'Daniel Eitzman': ['ur.0707347445.42'], 'Elizabeth Henske': ['ur.01244765354.89'], 'Alp Ikizler': ['ur.01210642425.39'], 'Hans-Peter Kiem': ['ur.01350411276.47'], 'Sharon Moe': ['ur.01205600534.26'], 'Kelle Moley': ['ur.01203460064.68'], 'Alessandra Pernis': ['ur.01366200252.53'], 'Kenneth Pienta': ['ur.013271155377.15'], 'Ernestina Schipani': ['ur.01110701370.06'], 'Ramesh Shivdasani': ['ur.0666246216.28'], 'Andrea Todisco': ['ur.01236772504.97'], 'Pier Pandolfi': ['ur.01355745464.73'], 'Susan Quaggin': ['ur.01065272160.75'], 'Joseph Zabner': ['ur.0715343137.38'], 'George Gittes': ['ur.01307216424.37'], 'Julie Saba': ['ur.01352644654.67'], 'Shanthi Sitaraman': ['ur.014245472677.03'], 'John Spertus': ['ur.01212501203.03'], 'Kai Wucherpfennig': ['ur.01342205752.62'], 'Jayakrishna Ambati': ['ur.0733426416.91'], 'George Cotsarelis': ['ur.0665451323.77'], 'Kenneth Covinsky': ['ur.015415235177.37'], 'David Engman': ['ur.01112672004.80'], 'John Frangioni': ['ur.01153672301.91'], 'Tejvir Khurana': ['ur.014505252207.17'], 'Fadlo Khuri': ['ur.01057764272.14'], 'Christos Mantzoros': ['ur.014006214657.80'], 'Scott Plevy': ['ur.0605173564.47'], 'Chaim Putterman': ['ur.01121735072.06'], 'Doris Stoffers': ['ur.01205103105.56'], 'Marcus Altfeld': ['ur.01235116353.64'], 'Frank Anania': ['ur.0730304123.13'], 'Gerard Blobe': ['ur.0754271650.99'], 'Ivan Fuss': ['ur.01025737641.97'], 'Sanjiv Gambhir': ['ur.0616337446.39'], 'Steve Georas': ['ur.01266174106.03'], 'Michael Girardi': ['ur.01143314231.31'], 'Todd Golub': ['ur.01152644406.14'], 'Robert Heuckeroth': ['ur.01365052013.37'], 'Pasi Janne': ['ur.0767133752.11'], 'Igor Koralnik': ['ur.01342420117.42'], 'Barry Paw': ['ur.01372633162.92'], 'Warren Shlomchik': ['ur.0633511062.24'], 'Chloe Thio': ['ur.01244336023.55'], 'Kevin Volpp': ['ur.01121642400.62'], 'Dan Barouch': ['ur.0644324362.10'], 'David Hackam': ['ur.016365175357.79'], 'Rulan Parekh': ['ur.0637647532.17'], 'Murat Arcasoy': ['ur.01365700023.08'], 'Valder Arruda': ['ur.01035106403.91'], 'Phillip Febbo': ['ur.01031472200.54'], 'Tina Hartert': ['ur.01145642531.34'], 'JeanMarie Houghton': ['ur.014652421020.78'], 'Samir Khleif': ['ur.01240104744.46'], 'Keith March': ['ur.0763046066.09'], 'Ari Melnick': ['ur.01364576130.10'], 'Vamsi Mootha': ['ur.01022252731.58'], 'Mary Patti': ['ur.01236117732.88'], 'Stephanie Seminara': ['ur.01026162025.21'], 'John Stamatoyannopoulos': ['ur.01107035267.40'], 'Sapna Syngal': ['ur.01351357352.20'], 'Michael Tomasson': ['ur.0707031611.51'], 'Hensin Tsao': ['ur.0656033046.08'], 'Omaida Velazquez': ['ur.0615376463.10'], 'Feroz Papa': ['ur.01147037443.33'], 'Loren Walensky': ['ur.01324277771.74'], 'Ernesto Bernal-Mizrachi': ['ur.01101102662.02'], 'Catherine Bollard': ['ur.01125327571.07'], 'Russ Carstens': ['ur.011070650007.71'], 'Juan Celedón': ['ur.01210111627.99'], 'Charleen Chu': ['ur.07665720167.12'], 'Jonathan Dranoff': ['ur.0703642674.64'], 'Charles Esmon': ['ur.01065507416.27'], 'Nikolaos Frangogiannis': ['ur.01255200715.86'], 'Maura Gillison': ['ur.01106271435.77'], 'Paul Goepfert': ['ur.0625272302.13'], 'Laura Haneline': ['ur.0711517452.48'], 'Tzung Hsiai': ['ur.01134672503.93'], 'Terrie Inder': ['ur.0620674221.66'], 'Bjorn Knollmann': ['ur.015045506007.80'], 'Gary Luker': ['ur.0727657075.71'], 'Mehrdad Matloubian': ['ur.0772745010.90'], 'Franck Mauvais-Jarvis': ['ur.0703373116.16'], 'Raghavendra Mirmira': ['ur.0762775110.66'], 'Lucila Ohno-Machado': ['ur.01143047214.87'], 'Jordan Orange': ['ur.0774334672.45'], 'Muredach Reilly': ['ur.013551442357.17'], 'Constantine Stratakis': ['ur.011151216517.08'], 'Andrew Alspaugh': ['ur.014045614114.05'], 'Kenneth Ataga': ['ur.01220231147.23'], 'James Bradner': ['ur.01002551055.27'], 'Jen-Tsan Chi': ['ur.0746365402.76'], 'Kojo Elenitoba-Johnson': ['ur.0654674363.79'], 'Evanthia Galanis': ['ur.014046757077.00'], 'Terrence Geiger': ['ur.01371420370.01'], 'Michael Kapiloff': ['ur.01000532205.19'], 'Nancy Keating': ['ur.01104417227.04'], 'Darrell Kotton': ['ur.01156612166.12'], 'Christopher Landrigan': ['ur.01122604435.71'], 'Theresa Lu': ['ur.01171122331.16'], 'William Matsui': ['ur.01302741605.47'], 'Flora Sam': ['ur.0730324566.85'], 'Anath Shalev': ['ur.01174747033.45'], 'David Solit': ['ur.0656335277.50'], 'Katalin Susztak': ['ur.0732415023.51'], 'Eric Sweet-Cordero': ['ur.01057154336.23'], 'Joshua Thurman': ['ur.011250753545.99'], 'Xander Wehrens': ['ur.0734467474.24'], 'John Wemmie': ['ur.0721745324.62'], 'Michelle Winn': ['ur.0654140477.41'], 'James Zimring': ['ur.0635217446.08'], 'Rochelle Walensky': ['ur.0723304767.87'], 'Brian Zuckerbraun': ['ur.01025663232.84'], 'Joel Blankson': ['ur.0661712365.40'], 'Jorge Di Paola': ['ur.01333402326.06'], 'Adolfo Ferrando': ['ur.0715007174.81'], 'Keith Flaherty': ['ur.01365026210.96'], 'Jaime Grutzendler': ['ur.01313314270.12'], 'Chyi-Song Hsieh': ['ur.011447535552.01'], 'Ola Landgren': ['ur.0651746766.54'], 'Jonathan Maltzman': ['ur.01235523737.30'], 'Kieren Mather': ['ur.01057653066.21'], 'Hidayatullah Munshi': ['ur.01242536354.02'], 'Nuria Pastor-Soler': ['ur.01307642610.92'], 'Amanda Paulovich': ['ur.01262142655.23'], 'Irina Petrache': ['ur.0755302003.05'], 'Marc Sabatine': ['ur.01367356600.00'], 'Dorry Segev': ['ur.01217305616.11'], 'Michael Shlipak': ['ur.013125514737.99'], 'Fayyaz Sutterwala': ['ur.01206027610.86'], 'Lorraine Ware': ['ur.01305004322.38'], 'Scott Floyd': ['ur.0672322664.16'], 'Benjamin Gewurz': ['ur.01067120151.18'], 'Anne Cappola': ['ur.01372326653.64'], 'Iris Jaffe': ['ur.01303277503.36'], 'Vibha Lama': ['ur.01045210302.52'], 'Sana Al-Khatib': ['ur.01241720007.14'], 'John Amory': ['ur.01102707136.86'], 'Mary Armanios': ['ur.01056710562.57'], 'Carlos Bernal-Mizrachi': ['ur.01000340656.51'], 'Ebony Boulware': ['ur.07760362735.09'], 'Laura Calvi': ['ur.01163437623.48'], 'Andrew Einstein': ['ur.0614472645.05'], 'John Fingert': ['ur.0711761543.83'], 'Kelly Gebo': ['ur.0763356577.14'], 'Wolfram Goessling': ['ur.01204140017.27'], 'Noyan Gokce': ['ur.01206146072.36'], 'Sherita Golden': ['ur.01161310313.07'], 'Priscilla Hsue': ['ur.01147711775.28'], 'Farouc Jaffer': ['ur.01124234272.64'], 'Steven Kawut': ['ur.01362671357.72'], 'Bryan Kestenbaum': ['ur.011642263477.11'], 'Ivan Maillard': ['ur.0757222567.42'], 'Borna Mehrad': ['ur.0762766274.13'], 'Yaël Mossé': ['ur.01161336657.05'], 'Matthias Nahrendorf': ['ur.01150220444.39'], 'Puneet Opal': ['ur.01050777706.26'], 'Jean-Charles Soria': ['ur.01225022325.73'], 'Elizabeth Speliotes': ['ur.01201362637.02'], 'Hans-Guido Wendel': ['ur.0736447334.62'], 'Motoko Yanagita': ['ur.0664266345.68'], 'Gaorav Gupta': ['ur.01225632266.74'], 'Alex Kentsis': ['ur.01231737377.70'], 'Jeniel Nett': ['ur.01152513476.12'], 'Clara Abraham': ['ur.01135543255.38'], 'Rajendra Apte': ['ur.0615726070.20'], 'Hulya Bayir': ['ur.01173334407.00'], 'Alison Bertuch': ['ur.01372672770.51'], 'Jonathan Bogan': ['ur.010155215404.24'], 'G.R. Budinger': ['ur.010140303337.54'], 'Raphaela Goldbach-Mansky': ['ur.01073273404.52'], 'Eric Haura': ['ur.01074505475.56'], 'Gurjit Hershey': ['ur.012744603621.79'], 'Ken Inoki': ['ur.0746223072.08'], 'Catherine Keegan': ['ur.011404773207.41'], 'Celina Kleer': ['ur.01230603732.44'], 'Kenneth Langa': ['ur.0647564343.25'], 'Frederick Masoudi': ['ur.01251027006.99'], 'Linda McAllister-Lucas': ['ur.0640007770.66'], 'Leonid Metelitsa': ['ur.01245651625.97'], 'Ivan Moskowitz': ['ur.014260320207.36'], 'Paul Nghiem': ['ur.0717057310.23'], 'Mark Nicolls': ['ur.01364051402.81'], 'Shuji Ogino': ['ur.01006336021.57'], 'Sophie Paczesny': ['ur.0707544173.95'], 'Akhilesh Reddy': ['ur.01053445115.29'], 'Amr Sawalha': ['ur.015226365724.06'], 'Hans-Willem Snoeck': ['ur.01155621056.58'], 'Lorenz Studer': ['ur.0642253700.03'], 'Viviane Tabar': ['ur.01127720751.27'], 'Jens Titze': ['ur.01115624740.06'], 'Natalie Török': ['ur.01245573343.45'], 'Sing Way': ['ur.01035051773.68'], 'Jedd Wolchok': ['ur.0645565266.33'], 'Theresa Alenghat': ['ur.0764061137.20'], 'Christina Barkauskas': ['ur.01132010630.04'], 'Ethan Goldberg': ['ur.0733255332.16'], 'Jeffery Klco': ['ur.0576400340.12'], 'Anita McElroy': ['ur.0607534146.06'], 'Sudarshan Rajagopal': ['ur.01146061502.40'], 'Christine Iacobuzio-Donahue': ['ur.016324315037.55'], 'Sohail Tavazoie': ['ur.01371400664.16'], 'Jennifer Temel': ['ur.01054735246.72'], 'Muneesh Tewari': ['ur.01063436237.05'], 'Manish Aghi': ['ur.01217717045.90'], 'Ravi Amaravadi': ['ur.0734561146.72'], 'Jennifer Anolik': ['ur.01325214006.43'], 'Elliott Bennett-Guerrero': ['ur.0620010140.17'], 'Thomas Benzing': ['ur.01105315753.95'], 'Renier Brentjens': ['ur.01263050511.77'], 'Michael Fessler': ['ur.0722037512.05'], 'Joachim Ix': ['ur.015356647617.45'], 'Alec Kimmelman': ['ur.01210461443.18'], 'Atsushi Kumanogoh': ['ur.01244566417.20'], 'Mathias Lichterfeld': ['ur.01001144433.77'], 'Steven Lipkin': ['ur.011567734677.67'], 'Thorsten Mempel': ['ur.0737642720.88'], 'János Peti-Peterdi': ['ur.0607153637.02'], 'Ekihiro Seki': ['ur.0660041130.56'], 'William Steinbach': ['ur.01051711774.08'], 'Lynda Stuart': ['ur.01315205133.09'], 'Wolfgang Winkelmayer': ['ur.01354524121.05'], 'Jennifer Alexander-Brett': ['ur.0604042027.56'], 'Shadmehr Demehri': ['ur.01330767377.02'], 'Charles Gawad': ['ur.01051561736.35'], 'Kory Lavine': ['ur.01212603713.24'], 'Bluma Lesch': ['ur.01167764670.05'], 'Anna Molofsky': ['ur.0737541257.66'], 'Sahar Nissim': ['ur.0646602476.63'], 'Vahid Afshar-Kharghan': ['ur.0626731255.90'], 'Balamurali Ambati': ['ur.013531474347.30'], 'Joseph Arron': ['ur.010514764655.00'], 'Kamran Atabai': ['ur.0770545255.39'], 'Jasmohan Bajaj': ['ur.0666534530.94'], 'Trever Bivona': ['ur.01025720552.73'], 'Catherine Blish': ['ur.01214745664.12'], 'Keith Choate': ['ur.01125360070.51'], 'Wonder Drake': ['ur.01137202377.23'], 'Elia Duh': ['ur.01127416463.40'], 'Todd Fehniger': ['ur.01346061322.31'], 'Hitinder Gurm': ['ur.0673633560.16'], 'Melina Kibbe': ['ur.0730532315.48'], 'Pamela Ling': ['ur.0772067763.56'], 'Funda Meric-Bernstam': ['ur.01065126442.79'], 'Andy Minn': ['ur.01304251301.12'], 'Sallie Permar': ['ur.0653420277.08'], 'Carla Pugh': ['ur.01356377717.79'], 'Ivan Rosas': ['ur.01107642366.87'], 'Lecia Sequist': ['ur.01272154434.30'], 'Agata Smogorzewska': ['ur.01025167624.38'], 'Rebecca Sudore': ['ur.01252742741.86'], 'David Tuveson': ['ur.01344557251.86'], 'Koji Yasutomo': ['ur.01171407151.99'], 'Heidi Cook-Andersen': ['ur.01241376653.14'], 'Mariella Filbin': ['ur.01104216651.29'], 'Andrew Intlekofer': ['ur.0651360045.44'], 'Devanand Manoli': ['ur.0731162421.11'], 'Seth Rakoff-Nahoum': ['ur.0744452335.27'], 'Dhakshin Ramanathan': ['ur.0726020447.78'], 'Tiffany Scharschmidt': ['ur.01360143743.71'], 'Aida Habtezion': ['ur.01217742035.31'], 'Reshma Jagsi': ['ur.01221741634.15'], 'Ravindra Majeti': ['ur.01252143533.94'], 'Sarki Abdulkadir': ['ur.01151331063.92'], 'Ash Alizadeh': ['ur.01350734042.58'], 'Nicole Calakos': ['ur.0760705217.24'], 'Sarat Chandarlapaty': ['ur.0717331640.11'], 'Aaron Cypess': ['ur.01142301773.01'], 'Justin Dimick': ['ur.01275742424.25'], 'Ariel Feldstein': ['ur.01007031103.93'], 'Martin Fernandez-Zapico': ['ur.012356677447.93'], 'Alessia Fornoni': ['ur.01201546624.28'], 'Anna Greka': ['ur.01225347230.93'], 'Erica Herzog': ['ur.01240201510.36'], 'Beth Kirkpatrick': ['ur.01107067740.47'], 'Shyamasundaran Kottilil': ['ur.014003652657.02'], 'Mondira Kundu': ['ur.0742512260.11'], 'Jonathan Kurtis': ['ur.01162774623.50'], 'Lona Mody': ['ur.0776622753.40'], 'Thangamani Muthukumar': ['ur.01115401722.27'], 'Ivona Pandrea': ['ur.015765661627.12'], 'Vijay Bhoj': ['ur.01130071251.63'], 'Aaron Carlin': ['ur.0674046076.97'], 'Whitney Harrington': ['ur.0771441056.74'], 'Tamia Harris-Tryon': ['ur.012277651022.12'], 'Kara Maxwell': ['ur.01366422751.52'], 'Kent Mouw': ['ur.01331645101.36'], 'Tamer Sallam': ['ur.01020612200.64'], 'Craig Wilen': ['ur.01043721773.73'], 'Michael Agus': ['ur.0611721335.42'], 'Jodie Babitt': ['ur.01270350137.14'], 'Murat Bastepe': ['ur.01317656475.13'], 'Sudha Biddinger': ['ur.01334721411.83'], 'Paul Bollyky': ['ur.01261010362.33'], 'Jeremy Dittman': ['ur.01023564545.38'], 'Alexandre Dombrovski': ['ur.015767744007.71'], 'Matthew Freiberg': ['ur.012232140147.52'], 'Cary Gross': ['ur.0644541224.26'], 'Saptarsi Haldar': ['ur.011650114277.94'], 'Megan Haymart': ['ur.01321343543.15'], 'Maureen Horton': ['ur.01162563617.58'], 'Leora Horwitz': ['ur.0612600561.47'], 'Yujin Hoshida': ['ur.01001522721.19'], 'Arti Hurria': ['ur.01340273066.85'], 'Rahul Kohli': ['ur.01270371277.11'], 'Suneil Koliwad': ['ur.01300606711.41'], 'Margot Kushel': ['ur.0710064446.97'], 'Nehal Mehta': ['ur.01364247030.02'], 'Ann Mullally': ['ur.01234654663.53'], 'Eirini Papapetrou': ['ur.01175455717.64'], 'Simone Sanna-Cherchi': ['ur.0637544657.23'], 'Brad Spellberg': ['ur.01204141712.61'], 'Charlotte Sumner': ['ur.01336640712.23'], 'David Teachey': ['ur.0724555002.86'], 'Mintu Turakhia': ['ur.01265041163.04'], 'Kareem Zaghloul': ['ur.01015255665.57'], 'Samuel Bakhoum': ['ur.01342062715.43'], 'Elizabeth Bhoj': ['ur.01112225651.32'], 'Keira Cohen': ['ur.01076470631.32'], 'Benjamin Izar': ['ur.01030712070.07'], 'Corrine Kliment': ['ur.0610355470.25'], 'Mark Sellmyer': ['ur.01266550211.89'], 'Tanya Sippy': ['ur.0707556420.22'], 'Joshi Alumkal': ['ur.0603711133.51'], 'Eran Bendavid': ['ur.0642551050.54'], 'Bibiana Bielekova': ['ur.01170750371.02'], 'Barry Borlaug': ['ur.0673200436.20'], 'Marina Caskey': ['ur.0753131466.05'], 'Kafui Dzirasa': ['ur.0765703711.66'], 'Souheil El-Chemaly': ['ur.0775001434.11'], 'Peter Groeneveld': ['ur.0763462601.60'], 'Elliott Haut': ['ur.01154073677.02'], 'Anna Hemnes': ['ur.01013105004.73'], 'Renee Hsia': ['ur.0626721046.54'], 'Dineo Khabele': ['ur.01361417762.10'], 'Scott Kopetz': ['ur.01320500077.48'], 'Siavash Kurdistani': ['ur.0635771607.43'], 'Samia Mora': ['ur.0713067525.42'], 'Nima Mosammaparast': ['ur.01161222753.49'], 'Nicolas Musi': ['ur.01130262641.11'], 'Markus Müschen': ['ur.0635415317.27'], 'Sattva Neelapu': ['ur.013107607437.89'], 'Brian Primack': ['ur.015275051047.40'], 'Jianwen Que': ['ur.01102527734.95'], 'Manuela Raffatellu': ['ur.01031553477.19'], 'Jordan Shavit': ['ur.01353465236.93'], 'Aaron Tobian': ['ur.01344661677.25'], 'Matthew Vander Heiden': ['ur.01204736037.13'], 'Arnold Weissler': ['ur.053126143.88'], 'Jonathan Brestoff': ['ur.01353262371.38'], 'Gaurav Gaiha': ['ur.01137537325.80'], 'Karuna Ganesh': ['ur.01262315126.38'], 'Marie Guerraty': ['ur.0624557505.32'], 'Michael Kattah': ['ur.01011433375.48'], 'Robert Samstein': ['ur.01147566056.48'], 'Santosha Vardhana': ['ur.07610707050.75'], 'Andrew Venteicher': ['ur.0711540714.19'], 'Themistocles Assimes': ['ur.0716373565.06'], 'Julie Bastarache': ['ur.0777464651.51'], 'Gregory Bisson': ['ur.01033115570.02'], 'Katrin Chua': ['ur.0774552402.95'], 'Stephanie Eisenbarth': ['ur.01212733661.87'], 'Amit Gaggar': ['ur.0660114053.00'], 'Santhi Ganesh': ['ur.01041573706.30'], 'Johann Gudjonsson': ['ur.01242054035.01'], 'Alan Hanash': ['ur.0667203543.79'], 'Mark Hatley': ['ur.0670106460.27'], 'Brent Hollenbeck': ['ur.01170431256.00'], 'Erik Ingelsson': ['ur.01145654113.82'], 'Shuta Ishibe': ['ur.0577762654.83'], 'Fasiha Kanwal': ['ur.01054747732.03'], 'James Kochenderfer': ['ur.01022631461.07'], 'Michail Lionakis': ['ur.01044511164.71'], 'Meenakshi Madhur': ['ur.07443060614.49'], 'Denise Marciano': ['ur.01261750610.91'], 'Erica Marsh': ['ur.0742116405.08'], 'Marcela Maus': ['ur.0617760334.42'], 'Javid Moslehi': ['ur.0720267646.48'], 'Lauren Sansing': ['ur.01207610716.07'], 'Daichi Shimbo': ['ur.0657425506.62'], 'Jennifer Taylor-Cousar': ['ur.01206322714.70'], 'Shreyas Vasanawala': ['ur.0645560304.68'], 'Renda Wiener': ['ur.01003501106.20'], 'Jennifer Woyach': ['ur.01203627343.88'], 'Xilma Ortiz-Gonzalez': ['ur.0746426567.23'], 'Muktar Aliyu': ['ur.01000217046.81'], 'Himisha Beltran': ['ur.0612157504.96'], 'Supinda Bunyavanich': ['ur.0717207646.45'], 'Mark Burkard': ['ur.0733777727.54'], 'Nataki Douglas': ['ur.01044336330.82'], 'Brian Edelson': ['ur.01240757245.78'], 'Peter Fecci': ['ur.0750523305.07'], 'Walid Gellad': ['ur.0626621021.68'], 'Peyman Golshani': ['ur.0612725321.87'], 'Petros Karakousis': ['ur.0613641725.44'], 'Purna Kashyap': ['ur.01007613452.86'], 'Anna Köttgen': ['ur.01145454311.94'], 'Philana Lin': ['ur.01147736760.42'], 'Piro Lito': ['ur.01116324012.77'], 'Carey Lumeng': ['ur.0721566206.32'], 'Tippi MacKenzie': ['ur.01273256011.82'], 'Nuala Meyer': ['ur.01325122762.14'], 'Erik Musiek': ['ur.01201306234.13'], 'Peggy Myung': ['ur.0642330361.12'], 'Utpal Pajvani': ['ur.01227611626.52'], 'Chad Pecot': ['ur.01234015225.22'], 'Jalees Rehman': ['ur.0611613645.20'], 'Nasia Safdar': ['ur.01350751743.31'], 'Joanna Steinglass': ['ur.0752143106.19'], 'Nathan Stitziel': ['ur.01065735320.09'], 'Hilary Tindle': ['ur.01320225021.62'], 'Jinoos Yazdany': ['ur.01113575266.18'], 'Julie Zikherman': ['ur.0704166426.67'], 'Serine Avagyan': ['ur.0773257256.10'], 'Jeeyeon Cha': ['ur.01345327306.14'], 'Raghu Chivukula': ['ur.01065210026.17'], 'Carlos Diaz-Balzac': ['ur.01073223207.22'], 'Neir Eshel': ['ur.01313320247.74'], 'Celestine Wanjalla': ['ur.01054776357.12'], 'Suneet Agarwal': ['ur.01140173463.29'], 'Emmanuel Antonarakis': ['ur.01050245067.85'], 'Valerie Arboleda': ['ur.0622760450.87'], 'Ashwin Balagopal': ['ur.01031777650.00'], 'Grant Barish': ['ur.01314524742.38'], 'Ann Chahroudi': ['ur.01027071546.34'], 'William Checkley': ['ur.0701142553.39'], 'Daniel Chertow': ['ur.0734560734.09'], 'Julio Chirinos': ['ur.01012127216.20'], 'Vineet Chopra': ['ur.01262352477.33'], 'Hitesh Deshmukh': ['ur.01307323402.77'], 'Tarek Ashkar': ['ur.0716644276.63'], 'Areej El-Jawahri': ['ur.0714551420.04'], 'Zachary Freyberg': ['ur.01054404241.14'], 'Ankush Gosain': ['ur.01277770016.06'], 'Ronna Hertzano': ['ur.01176562041.07'], 'Lori Jordan': ['ur.01351572451.48'], 'Kristopher Kahle': ['ur.01061277120.04'], 'Rosandra Kaplan': ['ur.01232776263.17'], 'Navin Kapur': ['ur.01056327621.83'], 'Tim Lahm': ['ur.0716536315.46'], 'Scott Lorch': ['ur.01346416652.80'], 'Vincent Marconi': ['ur.0632745504.19'], 'Emanual Maverakis': ['ur.01061513235.38'], 'Saurabh Mehandru': ['ur.0734133062.00'], 'Raina Merchant': ['ur.01057507054.23'], 'Marcella Nunez-Smith': ['ur.0771202634.00'], 'Sara Pai': ['ur.01053524376.38'], 'Matthew Rondina': ['ur.01074046201.27'], 'Mara Schonberg': ['ur.0746153667.13'], 'Julie Schwarz': ['ur.0707061024.05'], 'Mark Siedner': ['ur.01362575676.38'], 'Jason Sperry': ['ur.01170444001.02'], 'Consuelo Wilkins': ['ur.0740353704.37'], 'Rachel Zemans': ['ur.01200476165.38'], 'Shan Zha': ['ur.0776545751.25'], 'William Freed-Pastor': ['ur.01361423240.48'], 'Alexander Gitlin': ['ur.01357104206.78'], 'Gil Hoftman': ['ur.0656645312.25'], 'Kartik Pattabiraman': ['ur.01327566116.14'], 'Carolyn Sangokoya': ['ur.0751554667.55'], 'Jay Sarthy': ['ur.0767276205.71'], 'Josephine Thinwa': ['ur.0615333007.52'], 'Maria  Basil': ['ur.07427726171.80'], 'Glynnis Garry': ['ur.0711535432.99'], 'Sattar Khoshkhoo': ['ur.016402323760.15'], 'Paulo Lizano': ['ur.0647533747.03'], 'Jacqueline Parchem': ['ur.014203572140.09'], 'Sheila Shanmugan': ['ur.0734443231.49'], 'Diana Shi': ['ur.011770622237.08'], 'Joelle Straehla': ['ur.01335645364.68'], 'Brian Sweis': ['ur.01315145763.77'], 'Tobiloba Oni': ['ur.015123200237.36'], 'Joelle  Straehla': ['ur.01335645364.68'], 'Sean Agbor-Enoh': ['ur.0707636060.17'], 'Megan Baldridge': ['ur.0633667433.22'], 'Evan Brittain': ['ur.01126107351.55'], 'Eugenio Cingolani': ['ur.0730017155.21'], 'Brian DeBosch': ['ur.0705555013.31'], 'Courtney DiNardo': ['ur.01106306220.13'], 'Cynthia Gyamfi-Bannerman': ['ur.01231067147.32'], 'Lesley Inker': ['ur.01015332750.97'], 'Yelena Janjigian': ['ur.01117753275.35'], 'Christopher Klebanoff': ['ur.01351343672.57'], 'Joanna Klubo-Gwiezdzinska': ['ur.01366223722.25'], 'Krista Lentine': ['ur.0730602411.42'], 'Josh Levitsky': ['ur.01117616661.21'], 'Harmeet Malhi': ['ur.0605731065.94'], 'Sandeep Mallipattu': ['ur.0607235055.77'], 'Supriya Mohile': ['ur.0704273077.38'], 'Rahmi Oklu': ['ur.01042746057.07'], 'Tiffany Powell-Wiley': ['ur.0733152466.52'], 'Stacey Rentschler': ['ur.01254760707.06'], 'Katy Rezvani': ['ur.014105203344.24'], 'Todd Ridky': ['ur.01143741766.44'], 'Aylin Rodan': ['ur.0621704354.13'], 'Marco Ruella': ['ur.0757762374.57'], 'Cyndya Shibao': ['ur.01205732650.11'], 'Barbara Trautner': ['ur.0631447710.41'], 'Duane Wesemann': ['ur.0755035374.92'], 'Amir Zarrinpar': ['ur.010546227027.19'], 'Elad Ziv': ['ur.01052411656.50'], 'Behdad Afzali': ['ur.01205077360.52']}\n"
     ]
    }
   ],
   "source": [
    "singleRead = {}\n",
    "file_path = r'\\Users\\ashle\\OneDrive\\School\\Capstone\\dimensionsAI\\nameOneIDs.csv'\n",
    "with open(file_path, 'r') as csv_file:\n",
    "    # Create a CSV DictReader object\n",
    "    csv_reader = csv.DictReader(csv_file)\n",
    "\n",
    "    # Iterate through the rows in the CSV file\n",
    "    for row in csv_reader:\n",
    "        # Each row is now a dictionary with column names as keys\n",
    "        singleRead[row['Name']] = ast.literal_eval(row['ID'])\n",
    "        \n",
    "        \n",
    "first_half_items = list(singleRead.items())\n",
    "# Create a new dictionary using the first half items\n",
    "whole_Dict = dict(first_half_items)\n",
    "\n",
    "print(len(whole_Dict))\n",
    "print(whole_Dict)\n"
   ]
  },
  {
   "cell_type": "code",
   "execution_count": 2,
   "id": "d45fad6e",
   "metadata": {},
   "outputs": [],
   "source": [
    "search_Var = \"abstract + additional_filters + application_number + assignee_cities + assignee_countries + assignee_names + assignee_state_codes + assignees + associated_grant_ids + category_bra + category_for + category_for_2020 + category_hra + category_hrcs_hc + category_hrcs_rac + category_icrp_cso + category_icrp_ct + category_rcdc + claims_amount + current_assignee_names + current_assignees + date + date_inserted + dimensions_url + expiration_date + family_count + family_id + federal_support + filing_date + filing_status + funder_countries + funders + granted_date + granted_year + id + inventor_names + inventors + ipcr + jurisdiction + kind + legal_status + orange_book + original_assignee_names + original_assignees + priority_date + priority_year + publication_date + publication_ids + publication_year + publications + reference_ids + researchers + score + times_cited + title + year\""
   ]
  },
  {
   "cell_type": "code",
   "execution_count": 8,
   "id": "d0ec2bf1",
   "metadata": {},
   "outputs": [
    {
     "name": "stderr",
     "output_type": "stream",
     "text": [
      "Starting iteration with limit=1000 skip=0 ...\u001b[0m\n",
      "0-97 / 97 (0.91s)\u001b[0m\n",
      "===\n",
      "Records extracted: 97\u001b[0m\n"
     ]
    },
    {
     "name": "stdout",
     "output_type": "stream",
     "text": [
      "ur.0706401556.06 id has 97 patents\n"
     ]
    },
    {
     "data": {
      "text/plain": [
       "[{'assignee_names': ['UNIV INDIANA RES & TECH CORP',\n",
       "   'BRIGHAM & WOMENS HOSPITAL INC'],\n",
       "  'assignees': [{'acronym': 'IUPUI',\n",
       "    'city_name': 'Indianapolis',\n",
       "    'country_code': 'US',\n",
       "    'country_name': 'United States',\n",
       "    'id': 'grid.257413.6',\n",
       "    'latitude': 39.776966,\n",
       "    'linkout': ['http://www.iupui.edu/'],\n",
       "    'longitude': -86.16858,\n",
       "    'name': 'Indiana University – Purdue University Indianapolis',\n",
       "    'state_name': 'Indiana',\n",
       "    'types': ['Education']},\n",
       "   {'acronym': 'BWH',\n",
       "    'city_name': 'Boston',\n",
       "    'country_code': 'US',\n",
       "    'country_name': 'United States',\n",
       "    'id': 'grid.62560.37',\n",
       "    'latitude': 42.3356,\n",
       "    'linkout': ['http://www.brighamandwomens.org/'],\n",
       "    'longitude': -71.106415,\n",
       "    'name': \"Brigham and Women's Hospital\",\n",
       "    'state_name': 'Massachusetts',\n",
       "    'types': ['Healthcare']}],\n",
       "  'cpc': ['A61K31/4985',\n",
       "   'A61K31/501',\n",
       "   'A61K31/517',\n",
       "   'A61K45/06',\n",
       "   'A61P21/00',\n",
       "   'A61K31/4704',\n",
       "   'A61K31/4418',\n",
       "   'A61K31/422',\n",
       "   'A61K31/437',\n",
       "   'A61K31/4709',\n",
       "   'Y02A50/30',\n",
       "   'A01K2227/105',\n",
       "   'A61K31/444',\n",
       "   'A61K31/506',\n",
       "   'A61K31/427',\n",
       "   'A01K2267/0318',\n",
       "   'A61K31/7125',\n",
       "   'A61K31/426'],\n",
       "  'date': '2018-08-16',\n",
       "  'family_count': 15,\n",
       "  'family_id': 59631461,\n",
       "  'filing_date': '2018-08-16',\n",
       "  'filing_status': 'N/A',\n",
       "  'id': 'ZA-201805486-B',\n",
       "  'inventor_names': ['ANDROPHY ELLIOT J',\n",
       "   'HODGETTS KEVIN',\n",
       "   'CALDER ALYSSA NICOLE'],\n",
       "  'legal_status': 'N/A',\n",
       "  'priority_date': '2016-02-23',\n",
       "  'publication_date': '2019-07-31',\n",
       "  'times_cited': 0,\n",
       "  'title': 'COMBINATION THERAPIES FOR TREATMENT OF SPINAL MUSCULAR ATROPHY',\n",
       "  'year': 2018},\n",
       " {'assignee_names': ['UNIV INDIANA RES & TECH CORP',\n",
       "   'BRIGHAM & WOMENS HOSPITAL INC'],\n",
       "  'assignees': [{'acronym': 'IUPUI',\n",
       "    'city_name': 'Indianapolis',\n",
       "    'country_code': 'US',\n",
       "    'country_name': 'United States',\n",
       "    'id': 'grid.257413.6',\n",
       "    'latitude': 39.776966,\n",
       "    'linkout': ['http://www.iupui.edu/'],\n",
       "    'longitude': -86.16858,\n",
       "    'name': 'Indiana University – Purdue University Indianapolis',\n",
       "    'state_name': 'Indiana',\n",
       "    'types': ['Education']},\n",
       "   {'acronym': 'BWH',\n",
       "    'city_name': 'Boston',\n",
       "    'country_code': 'US',\n",
       "    'country_name': 'United States',\n",
       "    'id': 'grid.62560.37',\n",
       "    'latitude': 42.3356,\n",
       "    'linkout': ['http://www.brighamandwomens.org/'],\n",
       "    'longitude': -71.106415,\n",
       "    'name': \"Brigham and Women's Hospital\",\n",
       "    'state_name': 'Massachusetts',\n",
       "    'types': ['Healthcare']}],\n",
       "  'category_bra': [{'id': '4001', 'name': 'Clinical Medicine and Science'}],\n",
       "  'category_for': [{'id': '80003',\n",
       "    'name': '32 Biomedical and Clinical Sciences'},\n",
       "   {'id': '80003', 'name': '32 Biomedical and Clinical Sciences'},\n",
       "   {'id': '80052', 'name': '3209 Neurosciences'}],\n",
       "  'category_hra': [{'id': '3900', 'name': 'Biomedical'}],\n",
       "  'category_hrcs_hc': [{'id': '897', 'name': 'Neurological'}],\n",
       "  'category_hrcs_rac': [{'id': '10501', 'name': '5.1 Pharmaceuticals'}],\n",
       "  'category_rcdc': [{'id': '543', 'name': 'Orphan Drug'},\n",
       "   {'id': '483', 'name': 'Spinal Muscular Atrophy'},\n",
       "   {'id': '559', 'name': 'Rare Diseases'},\n",
       "   {'id': '387', 'name': 'Neurosciences'},\n",
       "   {'id': '542', 'name': 'Neurodegenerative'},\n",
       "   {'id': '547', 'name': 'Pediatric'}],\n",
       "  'cpc': ['A61K31/517',\n",
       "   'A61K31/7125',\n",
       "   'A61K31/4709',\n",
       "   'A61K31/4985',\n",
       "   'A61K45/06',\n",
       "   'A61K31/427',\n",
       "   'A61K31/422',\n",
       "   'A61K31/4704',\n",
       "   'A61K31/437',\n",
       "   'Y02A50/30',\n",
       "   'A61K31/4418',\n",
       "   'A61P21/00',\n",
       "   'A61K31/426',\n",
       "   'A61K31/506',\n",
       "   'A61K31/444',\n",
       "   'A61K31/501',\n",
       "   'A01K2267/0318',\n",
       "   'A01K2227/105'],\n",
       "  'date': '2017-02-23',\n",
       "  'family_count': 15,\n",
       "  'family_id': 59631461,\n",
       "  'filing_date': '2017-02-23',\n",
       "  'filing_status': 'Application',\n",
       "  'id': 'WO-2017147312-A1',\n",
       "  'inventor_names': ['ANDROPHY ELLIOT J',\n",
       "   'HODGETTS KEVIN',\n",
       "   'CALDER ALYSSA NICOLE'],\n",
       "  'ipcr': ['A61K31/4353', 'C07D513/04', 'A61K31/429'],\n",
       "  'legal_status': 'N/A',\n",
       "  'priority_date': '2016-02-23',\n",
       "  'publication_date': '2017-08-31',\n",
       "  'publication_ids': ['pub.1004943029'],\n",
       "  'times_cited': 0,\n",
       "  'title': 'COMBINATION THERAPIES FOR TREATMENT OF SPINAL MUSCULAR ATROPHY',\n",
       "  'year': 2017},\n",
       " {'assignee_names': ['UNIV INDIANA RES & TECH CORP',\n",
       "   'BRIGHAM & WOMENS HOSPITAL',\n",
       "   'UNIV MASSACHUSETTS'],\n",
       "  'assignees': [{'acronym': 'IUPUI',\n",
       "    'city_name': 'Indianapolis',\n",
       "    'country_code': 'US',\n",
       "    'country_name': 'United States',\n",
       "    'id': 'grid.257413.6',\n",
       "    'latitude': 39.776966,\n",
       "    'linkout': ['http://www.iupui.edu/'],\n",
       "    'longitude': -86.16858,\n",
       "    'name': 'Indiana University – Purdue University Indianapolis',\n",
       "    'state_name': 'Indiana',\n",
       "    'types': ['Education']},\n",
       "   {'acronym': 'BWH',\n",
       "    'city_name': 'Boston',\n",
       "    'country_code': 'US',\n",
       "    'country_name': 'United States',\n",
       "    'id': 'grid.62560.37',\n",
       "    'latitude': 42.3356,\n",
       "    'linkout': ['http://www.brighamandwomens.org/'],\n",
       "    'longitude': -71.106415,\n",
       "    'name': \"Brigham and Women's Hospital\",\n",
       "    'state_name': 'Massachusetts',\n",
       "    'types': ['Healthcare']},\n",
       "   {'city_name': 'Boston',\n",
       "    'country_code': 'US',\n",
       "    'country_name': 'United States',\n",
       "    'id': 'grid.266684.8',\n",
       "    'latitude': 42.312634,\n",
       "    'linkout': ['http://www.massachusetts.edu/'],\n",
       "    'longitude': -71.03584,\n",
       "    'name': 'University of Massachusetts System',\n",
       "    'state_name': 'Massachusetts',\n",
       "    'types': ['Education']}],\n",
       "  'category_bra': [{'id': '4001', 'name': 'Clinical Medicine and Science'}],\n",
       "  'category_for': [{'id': '80003',\n",
       "    'name': '32 Biomedical and Clinical Sciences'},\n",
       "   {'id': '80003', 'name': '32 Biomedical and Clinical Sciences'},\n",
       "   {'id': '80052', 'name': '3209 Neurosciences'}],\n",
       "  'category_hra': [{'id': '3900', 'name': 'Biomedical'}],\n",
       "  'category_hrcs_hc': [{'id': '897', 'name': 'Neurological'}],\n",
       "  'category_hrcs_rac': [{'id': '10501', 'name': '5.1 Pharmaceuticals'}],\n",
       "  'cpc': ['C07D215/44',\n",
       "   'A61P21/00',\n",
       "   'C07D417/04',\n",
       "   'C07D267/14',\n",
       "   'C07D239/47',\n",
       "   'C07D261/14',\n",
       "   'C07D261/06',\n",
       "   'C07D231/14',\n",
       "   'C07D493/04',\n",
       "   'C07D405/12',\n",
       "   'C07D277/46',\n",
       "   'C07D233/88',\n",
       "   'C07D413/12',\n",
       "   'C07D213/75',\n",
       "   'C07D471/04',\n",
       "   'C07D215/227',\n",
       "   'C07D221/10',\n",
       "   'C07D285/135',\n",
       "   'C07D263/48',\n",
       "   'C07K14/47',\n",
       "   'C07D261/18',\n",
       "   'C07D405/04',\n",
       "   'C07D401/04',\n",
       "   'C07C2603/20',\n",
       "   'C07D487/04',\n",
       "   'C07C311/37',\n",
       "   'C07D417/12',\n",
       "   'C07C2601/08',\n",
       "   'C07D239/82'],\n",
       "  'date': '2013-07-12',\n",
       "  'family_count': 10,\n",
       "  'family_id': 49916705,\n",
       "  'filing_date': '2013-07-12',\n",
       "  'filing_status': 'Application',\n",
       "  'id': 'WO-2014012050-A3',\n",
       "  'inventor_names': ['ANDROPHY ELLIOT J',\n",
       "   'CHERRY JONATHON J',\n",
       "   'CUNY GREGORY D',\n",
       "   'GLICKSMAN MARCIE A'],\n",
       "  'ipcr': ['C07D413/12', 'A61P21/00', 'A61K31/42', 'C07D261/06'],\n",
       "  'legal_status': 'N/A',\n",
       "  'priority_date': '2012-07-13',\n",
       "  'publication_date': '2014-03-20',\n",
       "  'times_cited': 1,\n",
       "  'title': 'COMPOUNDS FOR TREATMENT OF SPINAL MUSCULAR ATROPHY',\n",
       "  'year': 2013},\n",
       " {'assignee_names': ['UNIV INDIANA RES & TECH CORP',\n",
       "   'BRIGHAM & WOMENS HOSPITAL',\n",
       "   'UNIV MASSACHUSETTS'],\n",
       "  'assignees': [{'acronym': 'IUPUI',\n",
       "    'city_name': 'Indianapolis',\n",
       "    'country_code': 'US',\n",
       "    'country_name': 'United States',\n",
       "    'id': 'grid.257413.6',\n",
       "    'latitude': 39.776966,\n",
       "    'linkout': ['http://www.iupui.edu/'],\n",
       "    'longitude': -86.16858,\n",
       "    'name': 'Indiana University – Purdue University Indianapolis',\n",
       "    'state_name': 'Indiana',\n",
       "    'types': ['Education']},\n",
       "   {'acronym': 'BWH',\n",
       "    'city_name': 'Boston',\n",
       "    'country_code': 'US',\n",
       "    'country_name': 'United States',\n",
       "    'id': 'grid.62560.37',\n",
       "    'latitude': 42.3356,\n",
       "    'linkout': ['http://www.brighamandwomens.org/'],\n",
       "    'longitude': -71.106415,\n",
       "    'name': \"Brigham and Women's Hospital\",\n",
       "    'state_name': 'Massachusetts',\n",
       "    'types': ['Healthcare']},\n",
       "   {'city_name': 'Boston',\n",
       "    'country_code': 'US',\n",
       "    'country_name': 'United States',\n",
       "    'id': 'grid.266684.8',\n",
       "    'latitude': 42.312634,\n",
       "    'linkout': ['http://www.massachusetts.edu/'],\n",
       "    'longitude': -71.03584,\n",
       "    'name': 'University of Massachusetts System',\n",
       "    'state_name': 'Massachusetts',\n",
       "    'types': ['Education']}],\n",
       "  'category_bra': [{'id': '4001', 'name': 'Clinical Medicine and Science'}],\n",
       "  'category_for': [{'id': '80003',\n",
       "    'name': '32 Biomedical and Clinical Sciences'},\n",
       "   {'id': '80003', 'name': '32 Biomedical and Clinical Sciences'},\n",
       "   {'id': '80052', 'name': '3209 Neurosciences'}],\n",
       "  'category_hra': [{'id': '3900', 'name': 'Biomedical'}],\n",
       "  'category_hrcs_hc': [{'id': '897', 'name': 'Neurological'}],\n",
       "  'category_hrcs_rac': [{'id': '10501', 'name': '5.1 Pharmaceuticals'}],\n",
       "  'cpc': ['C07D267/14',\n",
       "   'C07D261/06',\n",
       "   'C07D231/14',\n",
       "   'C07C2603/20',\n",
       "   'C07C2601/08',\n",
       "   'C07D239/82',\n",
       "   'C07D471/04',\n",
       "   'C07D261/14',\n",
       "   'C07D417/04',\n",
       "   'C07D285/135',\n",
       "   'C07D215/227',\n",
       "   'C07C311/37',\n",
       "   'C07D487/04',\n",
       "   'C07D493/04',\n",
       "   'C07D261/18',\n",
       "   'C07D221/10',\n",
       "   'C07D401/04',\n",
       "   'C07K14/47',\n",
       "   'C07D405/04',\n",
       "   'C07D263/48',\n",
       "   'C07D405/12',\n",
       "   'C07D413/12',\n",
       "   'A61P21/00',\n",
       "   'C07D233/88',\n",
       "   'C07D277/46',\n",
       "   'C07D215/44',\n",
       "   'C07D417/12',\n",
       "   'C07D213/75',\n",
       "   'C07D239/47'],\n",
       "  'date': '2013-07-12',\n",
       "  'family_count': 10,\n",
       "  'family_id': 49916705,\n",
       "  'filing_date': '2013-07-12',\n",
       "  'filing_status': 'Application',\n",
       "  'id': 'WO-2014012050-A2',\n",
       "  'inventor_names': ['ANDROPHY ELLIOT J',\n",
       "   'CHERRY JONATHON J',\n",
       "   'CUNY GREGORY D',\n",
       "   'GLICKSMAN MARCIE A'],\n",
       "  'legal_status': 'N/A',\n",
       "  'priority_date': '2012-07-13',\n",
       "  'publication_date': '2014-01-16',\n",
       "  'publication_ids': ['pub.1042359449', 'pub.1030834024'],\n",
       "  'times_cited': 43,\n",
       "  'title': 'COMPOUNDS FOR TREATMENT OF SPINAL MUSCULAR ATROPHY',\n",
       "  'year': 2013},\n",
       " {'assignee_names': ['US HEALTH',\n",
       "   'UNIV MASSACHUSETTS',\n",
       "   'MARUGAN JUAN JOSE',\n",
       "   'XIAO JINGBO',\n",
       "   'TITUS STEVEN A',\n",
       "   'SOUTHALL NOEL',\n",
       "   'ZHENG WEI',\n",
       "   'ANDROPHY ELLIOT J',\n",
       "   'CHERRY JONATHAN'],\n",
       "  'assignees': [{'acronym': 'USPHS',\n",
       "    'city_name': 'Washington D.C.',\n",
       "    'country_code': 'US',\n",
       "    'country_name': 'United States',\n",
       "    'id': 'grid.417684.8',\n",
       "    'latitude': 38.919567,\n",
       "    'linkout': ['http://www.usphs.gov/'],\n",
       "    'longitude': -77.029,\n",
       "    'name': 'United States Public Health Service',\n",
       "    'state_name': 'District of Columbia',\n",
       "    'types': ['Government']},\n",
       "   {'city_name': 'Boston',\n",
       "    'country_code': 'US',\n",
       "    'country_name': 'United States',\n",
       "    'id': 'grid.266684.8',\n",
       "    'latitude': 42.312634,\n",
       "    'linkout': ['http://www.massachusetts.edu/'],\n",
       "    'longitude': -71.03584,\n",
       "    'name': 'University of Massachusetts System',\n",
       "    'state_name': 'Massachusetts',\n",
       "    'types': ['Education']}],\n",
       "  'category_for': [{'id': '80005', 'name': '34 Chemical Sciences'},\n",
       "   {'id': '80066', 'name': '3402 Inorganic Chemistry'},\n",
       "   {'id': '80005', 'name': '34 Chemical Sciences'}],\n",
       "  'category_hrcs_hc': [{'id': '897', 'name': 'Neurological'}],\n",
       "  'category_hrcs_rac': [{'id': '10501', 'name': '5.1 Pharmaceuticals'}],\n",
       "  'category_rcdc': [{'id': '387', 'name': 'Neurosciences'},\n",
       "   {'id': '483', 'name': 'Spinal Muscular Atrophy'},\n",
       "   {'id': '542', 'name': 'Neurodegenerative'},\n",
       "   {'id': '559', 'name': 'Rare Diseases'},\n",
       "   {'id': '547', 'name': 'Pediatric'}],\n",
       "  'cpc': ['C07D401/04', 'A61P21/00', 'C07D417/04', 'C07D405/14', 'C07D417/14'],\n",
       "  'date': '2011-04-14',\n",
       "  'family_count': 2,\n",
       "  'family_id': 44070478,\n",
       "  'filing_date': '2011-04-14',\n",
       "  'filing_status': 'Application',\n",
       "  'id': 'WO-2011130515-A1',\n",
       "  'inventor_names': ['MARUGAN JUAN JOSE',\n",
       "   'XIAO JINGBO',\n",
       "   'TITUS STEVEN A',\n",
       "   'SOUTHALL NOEL',\n",
       "   'ZHENG WEI',\n",
       "   'ANDROPHY ELLIOT J',\n",
       "   'CHERRY JONATHAN'],\n",
       "  'ipcr': ['C07D417/04',\n",
       "   'A61K31/517',\n",
       "   'A61P21/00',\n",
       "   'A61K31/53',\n",
       "   'C07D401/04',\n",
       "   'C07D405/14',\n",
       "   'A61K31/506',\n",
       "   'A61K31/5377',\n",
       "   'C07D417/14',\n",
       "   'A61K31/454',\n",
       "   'A61K31/496'],\n",
       "  'legal_status': 'N/A',\n",
       "  'priority_date': '2010-04-14',\n",
       "  'publication_date': '2011-10-20',\n",
       "  'publication_ids': ['pub.1025020884', 'pub.1052931841', 'pub.1025595477'],\n",
       "  'times_cited': 38,\n",
       "  'title': 'ARYLTHIAZOLYL PIPERIDINES AND RELATED COMPOUNDS AS MODULATORS OF SURVIVAL MOTOR NEURON (SMN) PROTEIN PRODUCTION',\n",
       "  'year': 2011},\n",
       " {'assignee_names': ['UNIV MASSACHUSETTS',\n",
       "   'ANDROPHY ELLIOT J',\n",
       "   'BALEJA JAMES D'],\n",
       "  'assignees': [{'city_name': 'Boston',\n",
       "    'country_code': 'US',\n",
       "    'country_name': 'United States',\n",
       "    'id': 'grid.266684.8',\n",
       "    'latitude': 42.312634,\n",
       "    'linkout': ['http://www.massachusetts.edu/'],\n",
       "    'longitude': -71.03584,\n",
       "    'name': 'University of Massachusetts System',\n",
       "    'state_name': 'Massachusetts',\n",
       "    'types': ['Education']}],\n",
       "  'category_bra': [{'id': '4001', 'name': 'Clinical Medicine and Science'}],\n",
       "  'category_for': [{'id': '80003',\n",
       "    'name': '32 Biomedical and Clinical Sciences'},\n",
       "   {'id': '80056', 'name': '3213 Paediatrics'},\n",
       "   {'id': '80003', 'name': '32 Biomedical and Clinical Sciences'}],\n",
       "  'category_icrp_cso': [{'id': '3767',\n",
       "    'name': '5.3 Systemic Therapies - Discovery and Development'},\n",
       "   {'id': '3751',\n",
       "    'name': '2.1 Exogenous Factors in the Origin and Cause of Cancer'}],\n",
       "  'category_icrp_ct': [{'id': '3792', 'name': 'Cervical Cancer'},\n",
       "   {'id': '3785', 'name': 'Anal Cancer'}],\n",
       "  'cpc': ['G01N2333/025', 'A61K31/165', 'A61P31/20', 'G01N2500/02'],\n",
       "  'date': '2005-04-07',\n",
       "  'family_count': 5,\n",
       "  'family_id': 35394652,\n",
       "  'filing_date': '2005-04-07',\n",
       "  'filing_status': 'Application',\n",
       "  'id': 'WO-2005110391-A3',\n",
       "  'inventor_names': ['ANDROPHY ELLIOT J', 'BALEJA JAMES D'],\n",
       "  'ipcr': ['C12Q1/70', 'A61K31/165'],\n",
       "  'legal_status': 'N/A',\n",
       "  'priority_date': '2004-04-08',\n",
       "  'publication_date': '2006-08-31',\n",
       "  'times_cited': 0,\n",
       "  'title': 'COMPOUNDS FOR TREATING HUMAN PAPILLOMAVIRUS',\n",
       "  'year': 2005},\n",
       " {'assignee_names': ['UNIV MASSACHUSETTS',\n",
       "   'ANDROPHY ELLIOT J',\n",
       "   'BALEJA JAMES D'],\n",
       "  'assignees': [{'city_name': 'Boston',\n",
       "    'country_code': 'US',\n",
       "    'country_name': 'United States',\n",
       "    'id': 'grid.266684.8',\n",
       "    'latitude': 42.312634,\n",
       "    'linkout': ['http://www.massachusetts.edu/'],\n",
       "    'longitude': -71.03584,\n",
       "    'name': 'University of Massachusetts System',\n",
       "    'state_name': 'Massachusetts',\n",
       "    'types': ['Education']}],\n",
       "  'category_bra': [{'id': '4001', 'name': 'Clinical Medicine and Science'}],\n",
       "  'category_for': [{'id': '80003',\n",
       "    'name': '32 Biomedical and Clinical Sciences'},\n",
       "   {'id': '80056', 'name': '3213 Paediatrics'},\n",
       "   {'id': '80003', 'name': '32 Biomedical and Clinical Sciences'}],\n",
       "  'category_icrp_cso': [{'id': '3767',\n",
       "    'name': '5.3 Systemic Therapies - Discovery and Development'},\n",
       "   {'id': '3751',\n",
       "    'name': '2.1 Exogenous Factors in the Origin and Cause of Cancer'}],\n",
       "  'category_icrp_ct': [{'id': '3792', 'name': 'Cervical Cancer'},\n",
       "   {'id': '3785', 'name': 'Anal Cancer'}],\n",
       "  'cpc': ['G01N2333/025', 'A61K31/165', 'A61P31/20', 'G01N2500/02'],\n",
       "  'date': '2005-04-07',\n",
       "  'family_count': 5,\n",
       "  'family_id': 35394652,\n",
       "  'filing_date': '2005-04-07',\n",
       "  'filing_status': 'Application',\n",
       "  'id': 'WO-2005110391-A2',\n",
       "  'inventor_names': ['ANDROPHY ELLIOT J', 'BALEJA JAMES D'],\n",
       "  'ipcr': ['C12Q1/70', 'A61K31/165'],\n",
       "  'legal_status': 'N/A',\n",
       "  'priority_date': '2004-04-08',\n",
       "  'publication_date': '2005-11-24',\n",
       "  'times_cited': 4,\n",
       "  'title': 'COMPOUNDS FOR TREATING HUMAN PAPILLOMAVIRUS',\n",
       "  'year': 2005},\n",
       " {'assignee_names': ['UNIV MASSACHUSETTS',\n",
       "   'SINGH RAVINDRA N',\n",
       "   'SINGH NATALIA N',\n",
       "   'ANDROPHY ELLIOT J'],\n",
       "  'assignees': [{'city_name': 'Boston',\n",
       "    'country_code': 'US',\n",
       "    'country_name': 'United States',\n",
       "    'id': 'grid.266684.8',\n",
       "    'latitude': 42.312634,\n",
       "    'linkout': ['http://www.massachusetts.edu/'],\n",
       "    'longitude': -71.03584,\n",
       "    'name': 'University of Massachusetts System',\n",
       "    'state_name': 'Massachusetts',\n",
       "    'types': ['Education']}],\n",
       "  'category_bra': [{'id': '4000', 'name': 'Basic Science'}],\n",
       "  'category_for': [{'id': '80002', 'name': '31 Biological Sciences'},\n",
       "   {'id': '80002', 'name': '31 Biological Sciences'},\n",
       "   {'id': '80035', 'name': '3102 Bioinformatics and Computational Biology'}],\n",
       "  'category_hra': [{'id': '3900', 'name': 'Biomedical'}],\n",
       "  'category_rcdc': [{'id': '526', 'name': 'Genetics'}],\n",
       "  'cpc': ['C12N15/1034', 'C12N15/1051'],\n",
       "  'date': '2004-06-16',\n",
       "  'family_count': 2,\n",
       "  'family_id': 33544372,\n",
       "  'filing_date': '2004-06-16',\n",
       "  'filing_status': 'Application',\n",
       "  'id': 'WO-2004113867-A3',\n",
       "  'inventor_names': ['SINGH RAVINDRA N',\n",
       "   'SINGH NATALIA N',\n",
       "   'ANDROPHY ELLIOT J'],\n",
       "  'ipcr': ['A61K48/00', 'C07H21/04', 'C12N15/10', 'G01N'],\n",
       "  'legal_status': 'N/A',\n",
       "  'priority_date': '2003-06-16',\n",
       "  'publication_date': '2006-02-02',\n",
       "  'times_cited': 1,\n",
       "  'title': 'EXON ANALYSIS',\n",
       "  'year': 2004},\n",
       " {'assignee_names': ['UNIV MASSACHUSETTS',\n",
       "   'SINGH RAVINDRA N',\n",
       "   'SINGH NATALIA N',\n",
       "   'ANDROPHY ELLIOT J'],\n",
       "  'assignees': [{'city_name': 'Boston',\n",
       "    'country_code': 'US',\n",
       "    'country_name': 'United States',\n",
       "    'id': 'grid.266684.8',\n",
       "    'latitude': 42.312634,\n",
       "    'linkout': ['http://www.massachusetts.edu/'],\n",
       "    'longitude': -71.03584,\n",
       "    'name': 'University of Massachusetts System',\n",
       "    'state_name': 'Massachusetts',\n",
       "    'types': ['Education']}],\n",
       "  'category_bra': [{'id': '4000', 'name': 'Basic Science'}],\n",
       "  'category_for': [{'id': '80002', 'name': '31 Biological Sciences'},\n",
       "   {'id': '80002', 'name': '31 Biological Sciences'},\n",
       "   {'id': '80035', 'name': '3102 Bioinformatics and Computational Biology'}],\n",
       "  'category_hra': [{'id': '3900', 'name': 'Biomedical'}],\n",
       "  'category_rcdc': [{'id': '526', 'name': 'Genetics'}],\n",
       "  'cpc': ['C12N15/1034', 'C12N15/1051'],\n",
       "  'date': '2004-06-16',\n",
       "  'family_count': 2,\n",
       "  'family_id': 33544372,\n",
       "  'filing_date': '2004-06-16',\n",
       "  'filing_status': 'Application',\n",
       "  'id': 'WO-2004113867-A2',\n",
       "  'inventor_names': ['SINGH RAVINDRA N',\n",
       "   'SINGH NATALIA N',\n",
       "   'ANDROPHY ELLIOT J'],\n",
       "  'ipcr': ['G01N/', 'C12N15/10', 'G01N'],\n",
       "  'legal_status': 'N/A',\n",
       "  'priority_date': '2003-06-16',\n",
       "  'publication_date': '2004-12-29',\n",
       "  'publication_ids': ['pub.1043189619', 'pub.1020588786'],\n",
       "  'times_cited': 30,\n",
       "  'title': 'EXON ANALYSIS',\n",
       "  'year': 2004},\n",
       " {'assignee_names': ['NEW ENGLAND MEDICAL CENTER INC',\n",
       "   'ANDROPHY ELLIOT J',\n",
       "   'DOSHI NISHITA',\n",
       "   'BELAYEW ALEXANDRA'],\n",
       "  'assignees': [{'city_name': 'Boston',\n",
       "    'country_code': 'US',\n",
       "    'country_name': 'United States',\n",
       "    'id': 'grid.67033.31',\n",
       "    'latitude': 42.34951,\n",
       "    'linkout': ['https://www.tuftsmedicalcenter.org/'],\n",
       "    'longitude': -71.06331,\n",
       "    'name': 'Tufts Medical Center',\n",
       "    'state_name': 'Massachusetts',\n",
       "    'types': ['Healthcare']}],\n",
       "  'category_for': [{'id': '80003',\n",
       "    'name': '32 Biomedical and Clinical Sciences'},\n",
       "   {'id': '80003', 'name': '32 Biomedical and Clinical Sciences'},\n",
       "   {'id': '80054', 'name': '3211 Oncology and Carcinogenesis'}],\n",
       "  'category_hra': [{'id': '3900', 'name': 'Biomedical'}],\n",
       "  'category_hrcs_hc': [{'id': '911', 'name': 'Cancer'}],\n",
       "  'category_rcdc': [{'id': '503', 'name': 'Cancer'},\n",
       "   {'id': '476', 'name': 'Sexually Transmitted Infections'}],\n",
       "  'cpc': ['C12Q2600/158',\n",
       "   'G01N33/74',\n",
       "   'C12Q1/6886',\n",
       "   'G01N2333/025',\n",
       "   'A61K38/1709',\n",
       "   'G01N33/574',\n",
       "   'G01N2333/4706'],\n",
       "  'date': '2002-06-27',\n",
       "  'family_count': 7,\n",
       "  'family_id': 23163118,\n",
       "  'filing_date': '2002-06-27',\n",
       "  'filing_status': 'Application',\n",
       "  'id': 'WO-2003002068-A3',\n",
       "  'inventor_names': ['ANDROPHY ELLIOT J',\n",
       "   'DOSHI NISHITA',\n",
       "   'BELAYEW ALEXANDRA'],\n",
       "  'ipcr': ['C12Q1/68',\n",
       "   'A61K39/395',\n",
       "   'C12N15/87',\n",
       "   'A61K39/00',\n",
       "   'G01N33/574',\n",
       "   'C12Q1/6886',\n",
       "   'G01N33/74',\n",
       "   'A61K38/43',\n",
       "   'A61K48/00',\n",
       "   'A61K38/17'],\n",
       "  'legal_status': 'N/A',\n",
       "  'priority_date': '2001-06-27',\n",
       "  'publication_date': '2003-12-18',\n",
       "  'publication_ids': ['pub.1017569648'],\n",
       "  'times_cited': 0,\n",
       "  'title': 'DIAGNOSIS AND TREATMENT OF CANCER',\n",
       "  'year': 2002},\n",
       " {'assignee_names': ['NEW ENGLAND MEDICAL CENTER INC',\n",
       "   'ANDROPHY ELLIOT J',\n",
       "   'DOSHI NISHITA',\n",
       "   'DELAYEW ALEXANDRA'],\n",
       "  'assignees': [{'city_name': 'Boston',\n",
       "    'country_code': 'US',\n",
       "    'country_name': 'United States',\n",
       "    'id': 'grid.67033.31',\n",
       "    'latitude': 42.34951,\n",
       "    'linkout': ['https://www.tuftsmedicalcenter.org/'],\n",
       "    'longitude': -71.06331,\n",
       "    'name': 'Tufts Medical Center',\n",
       "    'state_name': 'Massachusetts',\n",
       "    'types': ['Healthcare']}],\n",
       "  'category_for': [{'id': '80003',\n",
       "    'name': '32 Biomedical and Clinical Sciences'},\n",
       "   {'id': '80003', 'name': '32 Biomedical and Clinical Sciences'},\n",
       "   {'id': '80054', 'name': '3211 Oncology and Carcinogenesis'}],\n",
       "  'category_hra': [{'id': '3900', 'name': 'Biomedical'}],\n",
       "  'category_hrcs_hc': [{'id': '911', 'name': 'Cancer'}],\n",
       "  'category_rcdc': [{'id': '503', 'name': 'Cancer'},\n",
       "   {'id': '476', 'name': 'Sexually Transmitted Infections'}],\n",
       "  'cpc': ['C12Q2600/158',\n",
       "   'G01N33/74',\n",
       "   'C12Q1/6886',\n",
       "   'G01N2333/025',\n",
       "   'A61K38/1709',\n",
       "   'G01N33/574',\n",
       "   'G01N2333/4706'],\n",
       "  'date': '2002-06-27',\n",
       "  'family_count': 7,\n",
       "  'family_id': 23163118,\n",
       "  'filing_date': '2002-06-27',\n",
       "  'filing_status': 'Application',\n",
       "  'id': 'WO-2003002068-A2',\n",
       "  'inventor_names': ['ANDROPHY ELLIOT J',\n",
       "   'DOSHI NISHITA',\n",
       "   'DELAYEW ALEXANDRA'],\n",
       "  'ipcr': ['C12Q1/68',\n",
       "   'A61K39/395',\n",
       "   'A61K/',\n",
       "   'G01N33/574',\n",
       "   'C12Q1/6886',\n",
       "   'G01N33/74',\n",
       "   'A61K48/00',\n",
       "   'A61K38/17'],\n",
       "  'legal_status': 'N/A',\n",
       "  'priority_date': '2001-06-27',\n",
       "  'publication_date': '2003-01-09',\n",
       "  'publication_ids': ['pub.1035769111', 'pub.1017569648'],\n",
       "  'times_cited': 1,\n",
       "  'title': 'DIAGNOSIS AND TREATMENT OF CANCER',\n",
       "  'year': 2002},\n",
       " {'assignee_names': ['NEW ENGLAND MEDICAL CENTER INC'],\n",
       "  'assignees': [{'city_name': 'Boston',\n",
       "    'country_code': 'US',\n",
       "    'country_name': 'United States',\n",
       "    'id': 'grid.67033.31',\n",
       "    'latitude': 42.34951,\n",
       "    'linkout': ['https://www.tuftsmedicalcenter.org/'],\n",
       "    'longitude': -71.06331,\n",
       "    'name': 'Tufts Medical Center',\n",
       "    'state_name': 'Massachusetts',\n",
       "    'types': ['Healthcare']}],\n",
       "  'category_for': [{'id': '80005', 'name': '34 Chemical Sciences'},\n",
       "   {'id': '80068', 'name': '3404 Medicinal and Biomolecular Chemistry'},\n",
       "   {'id': '80005', 'name': '34 Chemical Sciences'}],\n",
       "  'category_icrp_cso': [{'id': '3751',\n",
       "    'name': '2.1 Exogenous Factors in the Origin and Cause of Cancer'}],\n",
       "  'category_icrp_ct': [{'id': '3792', 'name': 'Cervical Cancer'}],\n",
       "  'category_rcdc': [{'id': '533', 'name': 'Infectious Diseases'},\n",
       "   {'id': '476', 'name': 'Sexually Transmitted Infections'},\n",
       "   {'id': '503', 'name': 'Cancer'}],\n",
       "  'cpc': ['C12N2730/10122',\n",
       "   'A61P31/20',\n",
       "   'C07K14/005',\n",
       "   'C07K14/001',\n",
       "   'G01N33/56983'],\n",
       "  'date': '1998-10-06',\n",
       "  'family_count': 5,\n",
       "  'family_id': 22034861,\n",
       "  'filing_date': '1998-10-06',\n",
       "  'filing_status': 'Application',\n",
       "  'id': 'WO-1999017616-A1',\n",
       "  'inventor_names': ['ANDROPHY ELLIOT J', 'BALEJA JAMES D', 'CHEN JASON J'],\n",
       "  'ipcr': ['G01N33/569',\n",
       "   'A61K45/00',\n",
       "   'G06T1/00',\n",
       "   'G06F17/30',\n",
       "   'C07K14/02',\n",
       "   'C07K14/00',\n",
       "   'A61K38/00',\n",
       "   'A61P31/20',\n",
       "   'C07K14/025',\n",
       "   'A01N61/00',\n",
       "   'G01N33/566',\n",
       "   'C12Q1/70'],\n",
       "  'legal_status': 'N/A',\n",
       "  'priority_date': '1997-10-07',\n",
       "  'publication_date': '1999-04-15',\n",
       "  'publication_ids': ['pub.1062648191'],\n",
       "  'times_cited': 7,\n",
       "  'title': 'STRUCTURE-BASED RATIONAL DESIGN OF COMPOUNDS TO INHIBIT PAPILLOMAVIRUS INFECTION',\n",
       "  'year': 1998},\n",
       " {'assignee_names': ['NEW ENGLAND MEDICAL CENTER INC'],\n",
       "  'assignees': [{'city_name': 'Boston',\n",
       "    'country_code': 'US',\n",
       "    'country_name': 'United States',\n",
       "    'id': 'grid.67033.31',\n",
       "    'latitude': 42.34951,\n",
       "    'linkout': ['https://www.tuftsmedicalcenter.org/'],\n",
       "    'longitude': -71.06331,\n",
       "    'name': 'Tufts Medical Center',\n",
       "    'state_name': 'Massachusetts',\n",
       "    'types': ['Healthcare']}],\n",
       "  'cpc': ['A61P31/12',\n",
       "   'C07K14/47',\n",
       "   'C07K2319/00',\n",
       "   'A61K38/00',\n",
       "   'A61P43/00',\n",
       "   'A61P35/00',\n",
       "   'A01K2217/05'],\n",
       "  'date': '1996-11-14',\n",
       "  'family_count': 7,\n",
       "  'family_id': 24218361,\n",
       "  'filing_date': '1996-11-14',\n",
       "  'filing_status': 'Application',\n",
       "  'id': 'WO-1997018309-A1',\n",
       "  'inventor_names': ['ANDROPHY ELLIOT J', 'CHEN JASON J'],\n",
       "  'ipcr': ['A61P31/12',\n",
       "   'A61K39/12',\n",
       "   'A61P43/00',\n",
       "   'A01K67/027',\n",
       "   'C12N15/09',\n",
       "   'C07K19/00',\n",
       "   'A61K38/17',\n",
       "   'G01N33/48',\n",
       "   'G01N33/566',\n",
       "   'A61K38/16',\n",
       "   'A61K45/00',\n",
       "   'C12N1/21',\n",
       "   'C12N15/12',\n",
       "   'G01N33/15',\n",
       "   'G01N33/50',\n",
       "   'C12N15/62',\n",
       "   'C07K14/47',\n",
       "   'A61P35/00',\n",
       "   'C12N1/19',\n",
       "   'A61K38/00',\n",
       "   'C12P21/02',\n",
       "   'C12Q1/68',\n",
       "   'C12R1/19',\n",
       "   'G01N33/569',\n",
       "   'A61K38/43'],\n",
       "  'legal_status': 'N/A',\n",
       "  'priority_date': '1995-11-14',\n",
       "  'publication_date': '1997-05-22',\n",
       "  'times_cited': 7,\n",
       "  'title': 'E6 BINDING PROTEINS',\n",
       "  'year': 1996},\n",
       " {'assignee_names': ['NEW ENGLAND MEDICAL CENTER INC',\n",
       "   'ANDROPHY ELLIOT J',\n",
       "   'BREIDING DAVID E'],\n",
       "  'assignees': [{'city_name': 'Boston',\n",
       "    'country_code': 'US',\n",
       "    'country_name': 'United States',\n",
       "    'id': 'grid.67033.31',\n",
       "    'latitude': 42.34951,\n",
       "    'linkout': ['https://www.tuftsmedicalcenter.org/'],\n",
       "    'longitude': -71.06331,\n",
       "    'name': 'Tufts Medical Center',\n",
       "    'state_name': 'Massachusetts',\n",
       "    'types': ['Healthcare']}],\n",
       "  'cpc': ['C12N2710/20022',\n",
       "   'C07K14/47',\n",
       "   'G01N33/68',\n",
       "   'A61P43/00',\n",
       "   'A01K2217/05',\n",
       "   'G01N2333/025',\n",
       "   'C07K16/081',\n",
       "   'C07K14/005'],\n",
       "  'date': '1995-12-22',\n",
       "  'family_count': 9,\n",
       "  'family_id': 23423520,\n",
       "  'filing_date': '1995-12-22',\n",
       "  'filing_status': 'Application',\n",
       "  'id': 'WO-1996019566-A1',\n",
       "  'inventor_names': ['ANDROPHY ELLIOT J', 'BREIDING DAVID E'],\n",
       "  'ipcr': ['A01K67/027',\n",
       "   'C12Q1/02',\n",
       "   'C12N15/09',\n",
       "   'C07K14/47',\n",
       "   'C12N5/00',\n",
       "   'C07K1/00',\n",
       "   'A61K45/00',\n",
       "   'A61K38/00',\n",
       "   'C12P21/02',\n",
       "   'C07K14/025',\n",
       "   'C07K16/08',\n",
       "   'C12P21/06',\n",
       "   'A61K49/00',\n",
       "   'C12R1/91',\n",
       "   'C07H21/04',\n",
       "   'A61P43/00',\n",
       "   'C12N1/19',\n",
       "   'G01N33/53',\n",
       "   'C12Q1/68',\n",
       "   'C12N5/10',\n",
       "   'C12R1/865',\n",
       "   'C07K16/00',\n",
       "   'G01N33/68',\n",
       "   'C12N15/00'],\n",
       "  'legal_status': 'N/A',\n",
       "  'priority_date': '1994-12-22',\n",
       "  'publication_date': '1996-06-27',\n",
       "  'publication_ids': ['pub.1082643841'],\n",
       "  'times_cited': 6,\n",
       "  'title': 'E2 BINDING PROTEINS',\n",
       "  'year': 1995},\n",
       " {'assignee_names': ['NEW ENGLAND MEDICAL CENTER INC'],\n",
       "  'assignees': [{'city_name': 'Boston',\n",
       "    'country_code': 'US',\n",
       "    'country_name': 'United States',\n",
       "    'id': 'grid.67033.31',\n",
       "    'latitude': 42.34951,\n",
       "    'linkout': ['https://www.tuftsmedicalcenter.org/'],\n",
       "    'longitude': -71.06331,\n",
       "    'name': 'Tufts Medical Center',\n",
       "    'state_name': 'Massachusetts',\n",
       "    'types': ['Healthcare']}],\n",
       "  'cpc': ['A61P31/12',\n",
       "   'A61P35/00',\n",
       "   'A61K38/00',\n",
       "   'C07K14/47',\n",
       "   'A61P43/00',\n",
       "   'A01K2217/05',\n",
       "   'C07K2319/00'],\n",
       "  'date': '1995-06-15',\n",
       "  'family_count': 4,\n",
       "  'family_id': 23042372,\n",
       "  'filing_date': '1995-06-15',\n",
       "  'filing_status': 'Application',\n",
       "  'id': 'WO-1996002000-A1',\n",
       "  'inventor_names': ['ANDROPHY ELLIOT', 'CHEN JASON J'],\n",
       "  'ipcr': ['A61P43/00',\n",
       "   'G01N33/53',\n",
       "   'C12N5/00',\n",
       "   'G01N33/569',\n",
       "   'C07K19/00',\n",
       "   'C12R1/19',\n",
       "   'A61P35/00',\n",
       "   'G01N33/48',\n",
       "   'C12N1/21',\n",
       "   'G01N33/15',\n",
       "   'A61P31/12',\n",
       "   'A61K38/16',\n",
       "   'C12N15/09',\n",
       "   'C12P21/06',\n",
       "   'A61K39/12',\n",
       "   'A01K67/027',\n",
       "   'C07K1/00',\n",
       "   'A61K38/17',\n",
       "   'C07K14/47',\n",
       "   'C12Q1/68',\n",
       "   'A61K38/43',\n",
       "   'C12P21/02',\n",
       "   'A61K38/00'],\n",
       "  'legal_status': 'N/A',\n",
       "  'priority_date': '1994-07-08',\n",
       "  'publication_date': '1996-01-25',\n",
       "  'publication_ids': ['pub.1002634445', 'pub.1062648191', 'pub.1082619591'],\n",
       "  'times_cited': 7,\n",
       "  'title': 'E6 BINDING PROTEINS',\n",
       "  'year': 1995},\n",
       " {'assignee_names': ['BIOGEN INC', 'NEW ENGLAND MEDICAL CENTER HOR'],\n",
       "  'assignees': [{'city_name': 'Cambridge',\n",
       "    'country_code': 'US',\n",
       "    'country_name': 'United States',\n",
       "    'id': 'grid.417832.b',\n",
       "    'latitude': 42.36644,\n",
       "    'linkout': ['https://www.biogen.com/'],\n",
       "    'longitude': -71.08527,\n",
       "    'name': 'Biogen (United States)',\n",
       "    'state_name': 'Massachusetts',\n",
       "    'types': ['Company']},\n",
       "   {'city_name': 'Boston',\n",
       "    'country_code': 'US',\n",
       "    'country_name': 'United States',\n",
       "    'id': 'grid.67033.31',\n",
       "    'latitude': 42.34951,\n",
       "    'linkout': ['https://www.tuftsmedicalcenter.org/'],\n",
       "    'longitude': -71.06331,\n",
       "    'name': 'Tufts Medical Center',\n",
       "    'state_name': 'Massachusetts',\n",
       "    'types': ['Healthcare']}],\n",
       "  'category_bra': [{'id': '4000', 'name': 'Basic Science'}],\n",
       "  'category_for': [{'id': '80002', 'name': '31 Biological Sciences'},\n",
       "   {'id': '80034', 'name': '3101 Biochemistry and Cell Biology'},\n",
       "   {'id': '80002', 'name': '31 Biological Sciences'}],\n",
       "  'category_hra': [{'id': '3900', 'name': 'Biomedical'}],\n",
       "  'category_hrcs_rac': [{'id': '10101',\n",
       "    'name': '1.1 Normal biological development and functioning'}],\n",
       "  'category_rcdc': [{'id': '526', 'name': 'Genetics'},\n",
       "   {'id': '503', 'name': 'Cancer'}],\n",
       "  'cpc': ['C12N2710/20022',\n",
       "   'A61K38/00',\n",
       "   'C12N2740/16322',\n",
       "   'Y10S530/826',\n",
       "   'C07K2319/00',\n",
       "   'C07K14/005',\n",
       "   'C07K2319/61',\n",
       "   'A61P31/12',\n",
       "   'C07K2319/80'],\n",
       "  'date': '1992-01-28',\n",
       "  'family_count': 12,\n",
       "  'family_id': 24595296,\n",
       "  'filing_date': '1992-01-28',\n",
       "  'filing_status': 'Application',\n",
       "  'id': 'WO-1992012728-A1',\n",
       "  'inventor_names': ['ANDROPHY ELLIOT J', 'BARSOUM JAMES G'],\n",
       "  'ipcr': ['A61K38/00',\n",
       "   'C07K14/16',\n",
       "   'C07K13/00',\n",
       "   'A61P31/12',\n",
       "   'C12R1/85',\n",
       "   'C12R1/19',\n",
       "   'C07K14/025',\n",
       "   'C12N15/09',\n",
       "   'C12N15/37',\n",
       "   'C12N1/21',\n",
       "   'C12P21/02',\n",
       "   'C12N1/19'],\n",
       "  'legal_status': 'N/A',\n",
       "  'priority_date': '1991-01-28',\n",
       "  'publication_date': '1992-08-06',\n",
       "  'publication_ids': ['pub.1048244831'],\n",
       "  'times_cited': 12,\n",
       "  'title': 'REPRESSORS OF THE TRANS-ACTIVATING FUNCTION OF PAPILLOMAVIRUS E2 PROTEINS',\n",
       "  'year': 1992},\n",
       " {'assignee_names': ['NEW ENGLAND MEDICAL CENTER INC'],\n",
       "  'assignees': [{'city_name': 'Boston',\n",
       "    'country_code': 'US',\n",
       "    'country_name': 'United States',\n",
       "    'id': 'grid.67033.31',\n",
       "    'latitude': 42.34951,\n",
       "    'linkout': ['https://www.tuftsmedicalcenter.org/'],\n",
       "    'longitude': -71.06331,\n",
       "    'name': 'Tufts Medical Center',\n",
       "    'state_name': 'Massachusetts',\n",
       "    'types': ['Healthcare']}],\n",
       "  'category_bra': [{'id': '4000', 'name': 'Basic Science'}],\n",
       "  'category_for': [{'id': '80002', 'name': '31 Biological Sciences'},\n",
       "   {'id': '80034', 'name': '3101 Biochemistry and Cell Biology'},\n",
       "   {'id': '80002', 'name': '31 Biological Sciences'}],\n",
       "  'category_hrcs_rac': [{'id': '10101',\n",
       "    'name': '1.1 Normal biological development and functioning'}],\n",
       "  'category_rcdc': [{'id': '526', 'name': 'Genetics'},\n",
       "   {'id': '476', 'name': 'Sexually Transmitted Infections'}],\n",
       "  'cpc': ['A61K38/00',\n",
       "   'C07K2319/80',\n",
       "   'C12N2710/20022',\n",
       "   'C07K2319/00',\n",
       "   'C12Q1/6897',\n",
       "   'C12Q1/708',\n",
       "   'C07K14/005',\n",
       "   'C07K2319/71'],\n",
       "  'date': '1991-03-27',\n",
       "  'family_count': 1,\n",
       "  'family_id': 23988480,\n",
       "  'filing_date': '1991-03-27',\n",
       "  'filing_status': 'Application',\n",
       "  'id': 'WO-1991014790-A1',\n",
       "  'inventor_names': ['ANDROPHY ELLIOT J'],\n",
       "  'ipcr': ['A61K38/00', 'C07H15/12', 'C12Q1/70', 'C07K14/025', 'C12Q1/68'],\n",
       "  'legal_status': 'N/A',\n",
       "  'priority_date': '1990-03-27',\n",
       "  'publication_date': '1991-10-03',\n",
       "  'times_cited': 3,\n",
       "  'title': 'INHIBITORS OF TRANSCRIPTION ACTIVATION ACTIVITY OF PAPILLOMAVIRUSES',\n",
       "  'year': 1991},\n",
       " {'assignee_names': ['Brigham and Womens Hospital Inc',\n",
       "   'Indiana University Research and Technology Corp'],\n",
       "  'assignees': [{'acronym': 'BWH',\n",
       "    'city_name': 'Boston',\n",
       "    'country_code': 'US',\n",
       "    'country_name': 'United States',\n",
       "    'id': 'grid.62560.37',\n",
       "    'latitude': 42.3356,\n",
       "    'linkout': ['http://www.brighamandwomens.org/'],\n",
       "    'longitude': -71.106415,\n",
       "    'name': \"Brigham and Women's Hospital\",\n",
       "    'state_name': 'Massachusetts',\n",
       "    'types': ['Healthcare']},\n",
       "   {'acronym': 'IUPUI',\n",
       "    'city_name': 'Indianapolis',\n",
       "    'country_code': 'US',\n",
       "    'country_name': 'United States',\n",
       "    'id': 'grid.257413.6',\n",
       "    'latitude': 39.776966,\n",
       "    'linkout': ['http://www.iupui.edu/'],\n",
       "    'longitude': -86.16858,\n",
       "    'name': 'Indiana University – Purdue University Indianapolis',\n",
       "    'state_name': 'Indiana',\n",
       "    'types': ['Education']}],\n",
       "  'category_bra': [{'id': '4001', 'name': 'Clinical Medicine and Science'}],\n",
       "  'category_for': [{'id': '80003',\n",
       "    'name': '32 Biomedical and Clinical Sciences'},\n",
       "   {'id': '80003', 'name': '32 Biomedical and Clinical Sciences'},\n",
       "   {'id': '80052', 'name': '3209 Neurosciences'}],\n",
       "  'category_hra': [{'id': '3900', 'name': 'Biomedical'}],\n",
       "  'category_hrcs_hc': [{'id': '897', 'name': 'Neurological'}],\n",
       "  'category_hrcs_rac': [{'id': '10501', 'name': '5.1 Pharmaceuticals'}],\n",
       "  'category_rcdc': [{'id': '483', 'name': 'Spinal Muscular Atrophy'},\n",
       "   {'id': '387', 'name': 'Neurosciences'},\n",
       "   {'id': '547', 'name': 'Pediatric'},\n",
       "   {'id': '542', 'name': 'Neurodegenerative'},\n",
       "   {'id': '559', 'name': 'Rare Diseases'},\n",
       "   {'id': '543', 'name': 'Orphan Drug'}],\n",
       "  'cpc': ['A61K31/7125',\n",
       "   'A61K31/426',\n",
       "   'A61K31/422',\n",
       "   'A61K31/517',\n",
       "   'A61K31/444',\n",
       "   'A01K2267/0318',\n",
       "   'Y02A50/30',\n",
       "   'A61P21/00',\n",
       "   'A61K31/501',\n",
       "   'A61K31/4418',\n",
       "   'A61K31/4985',\n",
       "   'A61K31/506',\n",
       "   'A61K31/437',\n",
       "   'A61K31/4709',\n",
       "   'A61K31/4704',\n",
       "   'A01K2227/105',\n",
       "   'A61K31/427',\n",
       "   'A61K45/06'],\n",
       "  'date': '2017-02-23',\n",
       "  'expiration_date': '2037-02-23',\n",
       "  'family_count': 15,\n",
       "  'family_id': 59631461,\n",
       "  'federal_support': ['This invention was made with government support under HD064850 and NS088522 awarded by the National Institutes of Health. The U.S. Government has certain rights in the invention. \\n    '],\n",
       "  'filing_date': '2017-02-23',\n",
       "  'filing_status': 'Grant',\n",
       "  'granted_date': '2018-02-20',\n",
       "  'granted_year': 2018,\n",
       "  'id': 'US-9895358-B2',\n",
       "  'inventor_names': ['ANDROPHY ELLIOT J',\n",
       "   'HODGETTS KEVIN',\n",
       "   'CALDER ALYSSA NICOLE'],\n",
       "  'ipcr': ['A61K31/437',\n",
       "   'A61K31/4704',\n",
       "   'A61K31/506',\n",
       "   'A61K31/444',\n",
       "   'A61K31/501',\n",
       "   'A61K31/50'],\n",
       "  'legal_status': 'Active',\n",
       "  'priority_date': '2016-02-23',\n",
       "  'publication_date': '2018-02-20',\n",
       "  'publication_ids': ['pub.1053209309',\n",
       "   'pub.1062446833',\n",
       "   'pub.1004943029',\n",
       "   'pub.1055100204',\n",
       "   'pub.1064353416',\n",
       "   'pub.1044259300'],\n",
       "  'times_cited': 8,\n",
       "  'title': 'Combination therapies for treatment of spinal muscular atrophy',\n",
       "  'year': 2017},\n",
       " {'assignee_names': ['University of Massachusetts UMass'],\n",
       "  'assignees': [{'city_name': 'Boston',\n",
       "    'country_code': 'US',\n",
       "    'country_name': 'United States',\n",
       "    'id': 'grid.266684.8',\n",
       "    'latitude': 42.312634,\n",
       "    'linkout': ['http://www.massachusetts.edu/'],\n",
       "    'longitude': -71.03584,\n",
       "    'name': 'University of Massachusetts System',\n",
       "    'state_name': 'Massachusetts',\n",
       "    'types': ['Education']}],\n",
       "  'category_bra': [{'id': '4001', 'name': 'Clinical Medicine and Science'}],\n",
       "  'category_for': [{'id': '80003',\n",
       "    'name': '32 Biomedical and Clinical Sciences'},\n",
       "   {'id': '80003', 'name': '32 Biomedical and Clinical Sciences'},\n",
       "   {'id': '80045', 'name': '3202 Clinical Sciences'}],\n",
       "  'category_hrcs_rac': [{'id': '10501', 'name': '5.1 Pharmaceuticals'}],\n",
       "  'category_rcdc': [{'id': '483', 'name': 'Spinal Muscular Atrophy'},\n",
       "   {'id': '543', 'name': 'Orphan Drug'},\n",
       "   {'id': '547', 'name': 'Pediatric'},\n",
       "   {'id': '559', 'name': 'Rare Diseases'},\n",
       "   {'id': '526', 'name': 'Genetics'},\n",
       "   {'id': '542', 'name': 'Neurodegenerative'}],\n",
       "  'cpc': ['C12N2310/322',\n",
       "   'C12N2310/315',\n",
       "   'C12N2320/30',\n",
       "   'G01N2500/04',\n",
       "   'C12N2310/11',\n",
       "   'C12N15/113',\n",
       "   'G01N2800/28',\n",
       "   'G01N33/6896',\n",
       "   'C12N2320/33',\n",
       "   'A61P21/00'],\n",
       "  'date': '2013-10-15',\n",
       "  'expiration_date': '2025-12-05',\n",
       "  'family_count': 12,\n",
       "  'family_id': 38861806,\n",
       "  'federal_support': ['This invention was made with Government support under grant no. NS040275 awarded by the National Institute of Health. The Government has certain rights in the invention. \\n    '],\n",
       "  'filing_date': '2013-10-15',\n",
       "  'filing_status': 'Grant',\n",
       "  'granted_date': '2016-10-25',\n",
       "  'granted_year': 2016,\n",
       "  'id': 'US-9476042-B2',\n",
       "  'inventor_names': ['SINGH RAVINDRA N',\n",
       "   'SINGH NATALIA N',\n",
       "   'SINGH NIRMAL K',\n",
       "   'ANDROPHY ELLIOT J'],\n",
       "  'ipcr': ['G01N33/68', 'C07H21/02', 'C07H21/04', 'C12N15/113'],\n",
       "  'legal_status': 'Active',\n",
       "  'priority_date': '2004-12-03',\n",
       "  'publication_date': '2016-10-25',\n",
       "  'publication_ids': ['pub.1011784219',\n",
       "   'pub.1012008673',\n",
       "   'pub.1044955691',\n",
       "   'pub.1006789482',\n",
       "   'pub.1003091732',\n",
       "   'pub.1076857916',\n",
       "   'pub.1034982850',\n",
       "   'pub.1037582913',\n",
       "   'pub.1055153574',\n",
       "   'pub.1069185608',\n",
       "   'pub.1064347391',\n",
       "   'pub.1036956205',\n",
       "   'pub.1032998897',\n",
       "   'pub.1048196312',\n",
       "   'pub.1017528542',\n",
       "   'pub.1025801453',\n",
       "   'pub.1069180239',\n",
       "   'pub.1063416406',\n",
       "   'pub.1042767881',\n",
       "   'pub.1032899890',\n",
       "   'pub.1034456720',\n",
       "   'pub.1017698685',\n",
       "   'pub.1024078682'],\n",
       "  'times_cited': 2,\n",
       "  'title': 'Spinal muscular atrophy (SMA) treatment via targeting of SMN2 splice site inhibitory sequences',\n",
       "  'year': 2013},\n",
       " {'assignee_names': ['Brigham and Womens Hospital Inc',\n",
       "   'University of Massachusetts UMass',\n",
       "   'Indiana University Research and Technology Corp'],\n",
       "  'assignees': [{'acronym': 'BWH',\n",
       "    'city_name': 'Boston',\n",
       "    'country_code': 'US',\n",
       "    'country_name': 'United States',\n",
       "    'id': 'grid.62560.37',\n",
       "    'latitude': 42.3356,\n",
       "    'linkout': ['http://www.brighamandwomens.org/'],\n",
       "    'longitude': -71.106415,\n",
       "    'name': \"Brigham and Women's Hospital\",\n",
       "    'state_name': 'Massachusetts',\n",
       "    'types': ['Healthcare']},\n",
       "   {'city_name': 'Boston',\n",
       "    'country_code': 'US',\n",
       "    'country_name': 'United States',\n",
       "    'id': 'grid.266684.8',\n",
       "    'latitude': 42.312634,\n",
       "    'linkout': ['http://www.massachusetts.edu/'],\n",
       "    'longitude': -71.03584,\n",
       "    'name': 'University of Massachusetts System',\n",
       "    'state_name': 'Massachusetts',\n",
       "    'types': ['Education']},\n",
       "   {'acronym': 'IUPUI',\n",
       "    'city_name': 'Indianapolis',\n",
       "    'country_code': 'US',\n",
       "    'country_name': 'United States',\n",
       "    'id': 'grid.257413.6',\n",
       "    'latitude': 39.776966,\n",
       "    'linkout': ['http://www.iupui.edu/'],\n",
       "    'longitude': -86.16858,\n",
       "    'name': 'Indiana University – Purdue University Indianapolis',\n",
       "    'state_name': 'Indiana',\n",
       "    'types': ['Education']}],\n",
       "  'category_for': [{'id': '80003',\n",
       "    'name': '32 Biomedical and Clinical Sciences'},\n",
       "   {'id': '80003', 'name': '32 Biomedical and Clinical Sciences'},\n",
       "   {'id': '80052', 'name': '3209 Neurosciences'}],\n",
       "  'category_hrcs_hc': [{'id': '897', 'name': 'Neurological'}],\n",
       "  'category_rcdc': [{'id': '542', 'name': 'Neurodegenerative'},\n",
       "   {'id': '547', 'name': 'Pediatric'},\n",
       "   {'id': '483', 'name': 'Spinal Muscular Atrophy'},\n",
       "   {'id': '387', 'name': 'Neurosciences'},\n",
       "   {'id': '559', 'name': 'Rare Diseases'},\n",
       "   {'id': '543', 'name': 'Orphan Drug'}],\n",
       "  'cpc': ['C07D267/14',\n",
       "   'C07D261/14',\n",
       "   'C07D221/10',\n",
       "   'C07C2101/08',\n",
       "   'A61P21/00',\n",
       "   'C07D401/04',\n",
       "   'C07C2103/20',\n",
       "   'C07D263/48',\n",
       "   'C07D233/88',\n",
       "   'C07C311/37',\n",
       "   'C07D413/12',\n",
       "   'C07D285/135',\n",
       "   'C07D277/46',\n",
       "   'C07D261/18',\n",
       "   'C07D239/82',\n",
       "   'C07D417/12',\n",
       "   'C07D493/04',\n",
       "   'C07D487/04',\n",
       "   'C07D215/227',\n",
       "   'C07D417/04',\n",
       "   'C07D405/04',\n",
       "   'C07D471/04',\n",
       "   'C07C2601/08',\n",
       "   'C07C2603/20',\n",
       "   'C07D405/12',\n",
       "   'C07D213/75',\n",
       "   'C07D261/06',\n",
       "   'C07D239/47',\n",
       "   'C07D231/14',\n",
       "   'C07K14/47',\n",
       "   'C07D215/44'],\n",
       "  'date': '2013-07-12',\n",
       "  'expiration_date': '2034-04-11',\n",
       "  'family_count': 10,\n",
       "  'family_id': 49916705,\n",
       "  'federal_support': ['This invention was made with government support under grant numbers HD064850 and NS064349 awarded by the National Institutes of Health. The U.S. Government has certain rights in the invention. \\n    '],\n",
       "  'filing_date': '2013-07-12',\n",
       "  'filing_status': 'Grant',\n",
       "  'granted_date': '2015-12-15',\n",
       "  'granted_year': 2015,\n",
       "  'id': 'US-9212209-B2',\n",
       "  'inventor_names': ['ANDROPHY ELLIOT',\n",
       "   'CUNY GREGORY D',\n",
       "   'CHERRY JONATHAN',\n",
       "   'GLICKSMAN MARCIE A'],\n",
       "  'ipcr': ['C07D405/12',\n",
       "   'C07D471/04',\n",
       "   'C07D487/04',\n",
       "   'C07D401/04',\n",
       "   'C07D213/75',\n",
       "   'C07D413/12',\n",
       "   'C12N15/12',\n",
       "   'C07D417/12',\n",
       "   'C07D493/04',\n",
       "   'C12N5/00',\n",
       "   'C07D277/46',\n",
       "   'C07D261/06',\n",
       "   'C07C311/37',\n",
       "   'C07D239/82',\n",
       "   'C07D215/227',\n",
       "   'C07K14/47'],\n",
       "  'legal_status': 'Active',\n",
       "  'priority_date': '2012-07-13',\n",
       "  'publication_date': '2015-12-15',\n",
       "  'publication_ids': ['pub.1014276815',\n",
       "   'pub.1025595477',\n",
       "   'pub.1018495480',\n",
       "   'pub.1072310564',\n",
       "   'pub.1029556421',\n",
       "   'pub.1058609949',\n",
       "   'pub.1012008673',\n",
       "   'pub.1012043377',\n",
       "   'pub.1044977534',\n",
       "   'pub.1010839165',\n",
       "   'pub.1040659526',\n",
       "   'pub.1058609221',\n",
       "   'pub.1043881254',\n",
       "   'pub.1032899890'],\n",
       "  'times_cited': 0,\n",
       "  'title': 'Screening methods for spinal muscular atrophy',\n",
       "  'year': 2013},\n",
       " {'assignee_names': ['University of Massachusetts UMass'],\n",
       "  'assignees': [{'city_name': 'Boston',\n",
       "    'country_code': 'US',\n",
       "    'country_name': 'United States',\n",
       "    'id': 'grid.266684.8',\n",
       "    'latitude': 42.312634,\n",
       "    'linkout': ['http://www.massachusetts.edu/'],\n",
       "    'longitude': -71.03584,\n",
       "    'name': 'University of Massachusetts System',\n",
       "    'state_name': 'Massachusetts',\n",
       "    'types': ['Education']}],\n",
       "  'category_bra': [{'id': '4001', 'name': 'Clinical Medicine and Science'}],\n",
       "  'category_for': [{'id': '80003',\n",
       "    'name': '32 Biomedical and Clinical Sciences'},\n",
       "   {'id': '80003', 'name': '32 Biomedical and Clinical Sciences'},\n",
       "   {'id': '80045', 'name': '3202 Clinical Sciences'}],\n",
       "  'category_hrcs_rac': [{'id': '10501', 'name': '5.1 Pharmaceuticals'}],\n",
       "  'category_rcdc': [{'id': '542', 'name': 'Neurodegenerative'},\n",
       "   {'id': '559', 'name': 'Rare Diseases'},\n",
       "   {'id': '547', 'name': 'Pediatric'},\n",
       "   {'id': '526', 'name': 'Genetics'},\n",
       "   {'id': '543', 'name': 'Orphan Drug'},\n",
       "   {'id': '483', 'name': 'Spinal Muscular Atrophy'}],\n",
       "  'cpc': ['G01N2500/04',\n",
       "   'G01N33/6896',\n",
       "   'C12N2320/30',\n",
       "   'C12N2310/11',\n",
       "   'C12N2320/33',\n",
       "   'C12N15/113',\n",
       "   'C12N2310/322',\n",
       "   'G01N2800/28',\n",
       "   'C12N2310/315',\n",
       "   'A61P21/00'],\n",
       "  'date': '2011-12-19',\n",
       "  'expiration_date': '2025-12-05',\n",
       "  'family_count': 12,\n",
       "  'family_id': 38861806,\n",
       "  'federal_support': ['This invention was made with Government support under grant no. NS040275 awarded by the National Institutes of Health. The Government has certain rights in the invention. \\n    '],\n",
       "  'filing_date': '2011-12-19',\n",
       "  'filing_status': 'Grant',\n",
       "  'granted_date': '2013-11-19',\n",
       "  'granted_year': 2013,\n",
       "  'id': 'US-8586559-B2',\n",
       "  'inventor_names': ['SINGH RAVINDRA N',\n",
       "   'SINGH NATALIA N',\n",
       "   'SINGH NIRMAL K',\n",
       "   'ANDROPHY ELLIOT J'],\n",
       "  'ipcr': ['A61K48/00', 'C12N15/113', 'C07H21/04'],\n",
       "  'legal_status': 'Active',\n",
       "  'priority_date': '2004-12-03',\n",
       "  'publication_date': '2013-11-19',\n",
       "  'publication_ids': ['pub.1069180239',\n",
       "   'pub.1064347391',\n",
       "   'pub.1012008673',\n",
       "   'pub.1011784219',\n",
       "   'pub.1003091732',\n",
       "   'pub.1055153574',\n",
       "   'pub.1048196312',\n",
       "   'pub.1017698685',\n",
       "   'pub.1069185608',\n",
       "   'pub.1032899890',\n",
       "   'pub.1024078682',\n",
       "   'pub.1044955691',\n",
       "   'pub.1036956205',\n",
       "   'pub.1063416406',\n",
       "   'pub.1017528542',\n",
       "   'pub.1042767881',\n",
       "   'pub.1032998897',\n",
       "   'pub.1034982850',\n",
       "   'pub.1006789482',\n",
       "   'pub.1076857916',\n",
       "   'pub.1034456720',\n",
       "   'pub.1025801453',\n",
       "   'pub.1037582913'],\n",
       "  'times_cited': 12,\n",
       "  'title': 'Spinal muscular atrophy (SMA) treatment via targeting of SMN2 splice site inhibitory sequences',\n",
       "  'year': 2011},\n",
       " {'assignee_names': ['University of Massachusetts UMass'],\n",
       "  'assignees': [{'city_name': 'Boston',\n",
       "    'country_code': 'US',\n",
       "    'country_name': 'United States',\n",
       "    'id': 'grid.266684.8',\n",
       "    'latitude': 42.312634,\n",
       "    'linkout': ['http://www.massachusetts.edu/'],\n",
       "    'longitude': -71.03584,\n",
       "    'name': 'University of Massachusetts System',\n",
       "    'state_name': 'Massachusetts',\n",
       "    'types': ['Education']}],\n",
       "  'category_bra': [{'id': '4001', 'name': 'Clinical Medicine and Science'}],\n",
       "  'category_for': [{'id': '80003',\n",
       "    'name': '32 Biomedical and Clinical Sciences'},\n",
       "   {'id': '80003', 'name': '32 Biomedical and Clinical Sciences'},\n",
       "   {'id': '80045', 'name': '3202 Clinical Sciences'}],\n",
       "  'category_hrcs_rac': [{'id': '10501', 'name': '5.1 Pharmaceuticals'}],\n",
       "  'category_rcdc': [{'id': '559', 'name': 'Rare Diseases'},\n",
       "   {'id': '542', 'name': 'Neurodegenerative'},\n",
       "   {'id': '543', 'name': 'Orphan Drug'},\n",
       "   {'id': '547', 'name': 'Pediatric'},\n",
       "   {'id': '483', 'name': 'Spinal Muscular Atrophy'},\n",
       "   {'id': '526', 'name': 'Genetics'}],\n",
       "  'cpc': ['G01N2800/28',\n",
       "   'C12N15/113',\n",
       "   'C12N2310/11',\n",
       "   'C12N2320/30',\n",
       "   'C12N2310/315',\n",
       "   'G01N2500/04',\n",
       "   'C12N2310/322',\n",
       "   'G01N33/6896',\n",
       "   'A61P21/00',\n",
       "   'C12N2320/33'],\n",
       "  'date': '2009-08-21',\n",
       "  'expiration_date': '2025-12-05',\n",
       "  'family_count': 12,\n",
       "  'family_id': 38861806,\n",
       "  'federal_support': ['Funding for the work described herein was at least in part provided by the federal government (N.I.H. grant R01 NS40275). The government may, therefore, have certain rights in the invention. \\n    '],\n",
       "  'filing_date': '2009-08-21',\n",
       "  'filing_status': 'Grant',\n",
       "  'granted_date': '2012-02-07',\n",
       "  'granted_year': 2012,\n",
       "  'id': 'US-8110560-B2',\n",
       "  'inventor_names': ['SINGH RAVINDRA N',\n",
       "   'SINGH NATALIA N',\n",
       "   'SINGH NIRMAL K',\n",
       "   'ANDROPHY ELLIOT J'],\n",
       "  'ipcr': ['C07H21/02', 'C07H21/04', 'A61K48/00', 'C12N15/113'],\n",
       "  'legal_status': 'Active',\n",
       "  'priority_date': '2004-12-03',\n",
       "  'publication_date': '2012-02-07',\n",
       "  'publication_ids': ['pub.1032998897',\n",
       "   'pub.1064347391',\n",
       "   'pub.1012008673',\n",
       "   'pub.1044955691',\n",
       "   'pub.1011784219',\n",
       "   'pub.1024078682',\n",
       "   'pub.1025801453',\n",
       "   'pub.1006789482',\n",
       "   'pub.1048196312',\n",
       "   'pub.1069180239',\n",
       "   'pub.1076857916',\n",
       "   'pub.1055153574',\n",
       "   'pub.1017528542',\n",
       "   'pub.1017698685',\n",
       "   'pub.1036956205',\n",
       "   'pub.1037582913',\n",
       "   'pub.1032899890',\n",
       "   'pub.1034982850',\n",
       "   'pub.1069185608',\n",
       "   'pub.1042767881',\n",
       "   'pub.1003091732',\n",
       "   'pub.1063416406',\n",
       "   'pub.1034456720'],\n",
       "  'times_cited': 36,\n",
       "  'title': 'Spinal muscular atrophy (SMA) treatment via targeting of SMN2 splice site inhibitory sequences',\n",
       "  'year': 2009},\n",
       " {'assignee_names': ['University of Massachusetts UMass', 'Tufts University'],\n",
       "  'assignees': [{'city_name': 'Boston',\n",
       "    'country_code': 'US',\n",
       "    'country_name': 'United States',\n",
       "    'id': 'grid.266684.8',\n",
       "    'latitude': 42.312634,\n",
       "    'linkout': ['http://www.massachusetts.edu/'],\n",
       "    'longitude': -71.03584,\n",
       "    'name': 'University of Massachusetts System',\n",
       "    'state_name': 'Massachusetts',\n",
       "    'types': ['Education']},\n",
       "   {'city_name': 'Medford',\n",
       "    'country_code': 'US',\n",
       "    'country_name': 'United States',\n",
       "    'id': 'grid.429997.8',\n",
       "    'latitude': 42.40983,\n",
       "    'linkout': ['http://www.tufts.edu/'],\n",
       "    'longitude': -71.12194,\n",
       "    'name': 'Tufts University',\n",
       "    'state_name': 'Massachusetts',\n",
       "    'types': ['Education']}],\n",
       "  'category_bra': [{'id': '4001', 'name': 'Clinical Medicine and Science'}],\n",
       "  'category_for': [{'id': '80003',\n",
       "    'name': '32 Biomedical and Clinical Sciences'},\n",
       "   {'id': '80056', 'name': '3213 Paediatrics'},\n",
       "   {'id': '80003', 'name': '32 Biomedical and Clinical Sciences'}],\n",
       "  'category_icrp_cso': [{'id': '3767',\n",
       "    'name': '5.3 Systemic Therapies - Discovery and Development'},\n",
       "   {'id': '3751',\n",
       "    'name': '2.1 Exogenous Factors in the Origin and Cause of Cancer'}],\n",
       "  'category_icrp_ct': [{'id': '3792', 'name': 'Cervical Cancer'},\n",
       "   {'id': '3785', 'name': 'Anal Cancer'}],\n",
       "  'cpc': ['G01N2333/025', 'G01N2500/02', 'A61K31/165', 'A61P31/20'],\n",
       "  'date': '2005-04-07',\n",
       "  'expiration_date': '2029-09-29',\n",
       "  'family_count': 5,\n",
       "  'family_id': 35394652,\n",
       "  'federal_support': ['This invention was made with government support under AI038001 awarded by the National Institutes of Health. The government has certain rights in the invention. \\n    '],\n",
       "  'filing_date': '2005-04-07',\n",
       "  'filing_status': 'Grant',\n",
       "  'granted_date': '2011-03-29',\n",
       "  'granted_year': 2011,\n",
       "  'id': 'US-7914769-B2',\n",
       "  'inventor_names': ['ANDROPHY ELLIOT J', 'BALEJA JAMES D'],\n",
       "  'ipcr': ['A61K31/165', 'A61K49/00', 'C12Q1/70'],\n",
       "  'legal_status': 'Active',\n",
       "  'priority_date': '2004-04-08',\n",
       "  'publication_date': '2011-03-29',\n",
       "  'times_cited': 2,\n",
       "  'title': 'Compounds for treating human papillomavirus',\n",
       "  'year': 2005},\n",
       " {'assignee_names': ['University of Massachusetts UMass'],\n",
       "  'assignees': [{'city_name': 'Boston',\n",
       "    'country_code': 'US',\n",
       "    'country_name': 'United States',\n",
       "    'id': 'grid.266684.8',\n",
       "    'latitude': 42.312634,\n",
       "    'linkout': ['http://www.massachusetts.edu/'],\n",
       "    'longitude': -71.03584,\n",
       "    'name': 'University of Massachusetts System',\n",
       "    'state_name': 'Massachusetts',\n",
       "    'types': ['Education']}],\n",
       "  'category_bra': [{'id': '4001', 'name': 'Clinical Medicine and Science'}],\n",
       "  'category_for': [{'id': '80003',\n",
       "    'name': '32 Biomedical and Clinical Sciences'},\n",
       "   {'id': '80003', 'name': '32 Biomedical and Clinical Sciences'},\n",
       "   {'id': '80045', 'name': '3202 Clinical Sciences'}],\n",
       "  'category_hrcs_rac': [{'id': '10501', 'name': '5.1 Pharmaceuticals'}],\n",
       "  'category_rcdc': [{'id': '543', 'name': 'Orphan Drug'},\n",
       "   {'id': '542', 'name': 'Neurodegenerative'},\n",
       "   {'id': '483', 'name': 'Spinal Muscular Atrophy'},\n",
       "   {'id': '526', 'name': 'Genetics'},\n",
       "   {'id': '559', 'name': 'Rare Diseases'},\n",
       "   {'id': '547', 'name': 'Pediatric'}],\n",
       "  'cpc': ['C12N2320/33',\n",
       "   'G01N2800/28',\n",
       "   'C12N2310/322',\n",
       "   'C12N15/113',\n",
       "   'G01N2500/04',\n",
       "   'G01N33/6896',\n",
       "   'C12N2310/11',\n",
       "   'C12N2310/315',\n",
       "   'C12N2320/30',\n",
       "   'A61P21/00'],\n",
       "  'date': '2005-12-05',\n",
       "  'expiration_date': '2027-07-11',\n",
       "  'family_count': 12,\n",
       "  'family_id': 38861806,\n",
       "  'federal_support': ['Funding for the work described herein was at least in part provided by the federal government (N.I.H. grant ROI NS40275). The government may, therefore, have certain rights in the invention. \\n    '],\n",
       "  'filing_date': '2005-12-05',\n",
       "  'filing_status': 'Grant',\n",
       "  'granted_date': '2010-11-23',\n",
       "  'granted_year': 2010,\n",
       "  'id': 'US-7838657-B2',\n",
       "  'inventor_names': ['SINGH RAVINDRA N',\n",
       "   'SINGH NATALIA N',\n",
       "   'SINGH NIRMAL K',\n",
       "   'ANDROPHY ELLIOT J'],\n",
       "  'ipcr': ['C07H21/04', 'C07H21/02', 'C12N15/113', 'A61K48/00'],\n",
       "  'legal_status': 'Active',\n",
       "  'priority_date': '2004-12-03',\n",
       "  'publication_date': '2010-11-23',\n",
       "  'publication_ids': ['pub.1034456720',\n",
       "   'pub.1025801453',\n",
       "   'pub.1034982850',\n",
       "   'pub.1017698685',\n",
       "   'pub.1003091732',\n",
       "   'pub.1017528542',\n",
       "   'pub.1032899890',\n",
       "   'pub.1036956205',\n",
       "   'pub.1076857916',\n",
       "   'pub.1006789482',\n",
       "   'pub.1064347391',\n",
       "   'pub.1037582913',\n",
       "   'pub.1063416406',\n",
       "   'pub.1069180239',\n",
       "   'pub.1055153574',\n",
       "   'pub.1032998897',\n",
       "   'pub.1069185608',\n",
       "   'pub.1024078682',\n",
       "   'pub.1044955691'],\n",
       "  'times_cited': 73,\n",
       "  'title': 'Spinal muscular atrophy (SMA) treatment via targeting of SMN2 splice site inhibitory sequences',\n",
       "  'year': 2005},\n",
       " {'assignee_names': ['Universite de Mons-Hainaut',\n",
       "   'New England Medical Center Hospitals Inc'],\n",
       "  'assignees': [{'city_name': 'Mons',\n",
       "    'country_code': 'BE',\n",
       "    'country_name': 'Belgium',\n",
       "    'id': 'grid.8364.9',\n",
       "    'latitude': 50.451855,\n",
       "    'linkout': ['http://portail.umons.ac.be/en2/Pages/default.aspx'],\n",
       "    'longitude': 3.953206,\n",
       "    'name': 'University of Mons',\n",
       "    'types': ['Education']},\n",
       "   {'city_name': 'Boston',\n",
       "    'country_code': 'US',\n",
       "    'country_name': 'United States',\n",
       "    'id': 'grid.67033.31',\n",
       "    'latitude': 42.34951,\n",
       "    'linkout': ['https://www.tuftsmedicalcenter.org/'],\n",
       "    'longitude': -71.06331,\n",
       "    'name': 'Tufts Medical Center',\n",
       "    'state_name': 'Massachusetts',\n",
       "    'types': ['Healthcare']}],\n",
       "  'category_for': [{'id': '80003',\n",
       "    'name': '32 Biomedical and Clinical Sciences'},\n",
       "   {'id': '80003', 'name': '32 Biomedical and Clinical Sciences'},\n",
       "   {'id': '80054', 'name': '3211 Oncology and Carcinogenesis'}],\n",
       "  'category_hra': [{'id': '3900', 'name': 'Biomedical'}],\n",
       "  'category_hrcs_hc': [{'id': '911', 'name': 'Cancer'}],\n",
       "  'category_rcdc': [{'id': '476', 'name': 'Sexually Transmitted Infections'},\n",
       "   {'id': '503', 'name': 'Cancer'}],\n",
       "  'cpc': ['G01N33/574',\n",
       "   'A61K38/1709',\n",
       "   'G01N2333/4706',\n",
       "   'C12Q1/6886',\n",
       "   'G01N33/74',\n",
       "   'C12Q2600/158',\n",
       "   'G01N2333/025'],\n",
       "  'date': '2002-06-27',\n",
       "  'expiration_date': '2024-06-19',\n",
       "  'family_count': 7,\n",
       "  'family_id': 23163118,\n",
       "  'filing_date': '2002-06-27',\n",
       "  'filing_status': 'Grant',\n",
       "  'granted_date': '2007-02-27',\n",
       "  'granted_year': 2007,\n",
       "  'id': 'US-7183051-B2',\n",
       "  'inventor_names': ['ANDROPHY ELLIOT J',\n",
       "   'DOSHI NISHITA',\n",
       "   'BELAYEW ALEXANDRA'],\n",
       "  'ipcr': ['A61K38/17',\n",
       "   'C12Q1/6886',\n",
       "   'G01N33/74',\n",
       "   'G01N33/574',\n",
       "   'A61K48/00',\n",
       "   'A61K39/395',\n",
       "   'C12Q1/68',\n",
       "   'G01N33/50'],\n",
       "  'legal_status': 'Expired - Fee Related',\n",
       "  'priority_date': '2001-06-27',\n",
       "  'publication_date': '2007-02-27',\n",
       "  'publication_ids': ['pub.1059413859',\n",
       "   'pub.1031173447',\n",
       "   'pub.1013114099',\n",
       "   'pub.1031750191',\n",
       "   'pub.1020840177',\n",
       "   'pub.1035769111',\n",
       "   'pub.1062477287',\n",
       "   'pub.1025662608',\n",
       "   'pub.1062446612',\n",
       "   'pub.1082578855',\n",
       "   'pub.1042373236',\n",
       "   'pub.1082633634',\n",
       "   'pub.1017569648',\n",
       "   'pub.1059251577',\n",
       "   'pub.1010646450',\n",
       "   'pub.1049910216',\n",
       "   'pub.1020993705',\n",
       "   'pub.1020282698'],\n",
       "  'times_cited': 6,\n",
       "  'title': 'Diagnosis and treatment of cancer',\n",
       "  'year': 2002},\n",
       " {'assignee_names': ['New England Medical Center Hospitals Inc'],\n",
       "  'assignees': [{'city_name': 'Boston',\n",
       "    'country_code': 'US',\n",
       "    'country_name': 'United States',\n",
       "    'id': 'grid.67033.31',\n",
       "    'latitude': 42.34951,\n",
       "    'linkout': ['https://www.tuftsmedicalcenter.org/'],\n",
       "    'longitude': -71.06331,\n",
       "    'name': 'Tufts Medical Center',\n",
       "    'state_name': 'Massachusetts',\n",
       "    'types': ['Healthcare']}],\n",
       "  'cpc': ['A61P43/00',\n",
       "   'C07K14/47',\n",
       "   'A01K2217/05',\n",
       "   'C07K2319/00',\n",
       "   'A61P31/12',\n",
       "   'A61P35/00',\n",
       "   'A61K38/00'],\n",
       "  'date': '1999-08-26',\n",
       "  'expiration_date': '2014-07-08',\n",
       "  'family_count': 7,\n",
       "  'family_id': 24218361,\n",
       "  'filing_date': '1999-08-26',\n",
       "  'filing_status': 'Grant',\n",
       "  'granted_date': '2001-10-02',\n",
       "  'granted_year': 2001,\n",
       "  'id': 'US-6296853-B1',\n",
       "  'inventor_names': ['ANDROPHY ELLIOT J', 'CHEN JASON J'],\n",
       "  'ipcr': ['A61P35/00',\n",
       "   'C12N15/09',\n",
       "   'A61K38/00',\n",
       "   'C12Q1/68',\n",
       "   'C12N1/19',\n",
       "   'C12N1/21',\n",
       "   'G01N33/50',\n",
       "   'A61K45/00',\n",
       "   'A61P43/00',\n",
       "   'A61K38/43',\n",
       "   'C12R1/19',\n",
       "   'A01K67/027',\n",
       "   'C12P21/02',\n",
       "   'A61P31/12',\n",
       "   'C07K14/47',\n",
       "   'G01N33/566',\n",
       "   'G01N33/569',\n",
       "   'A61K38/17',\n",
       "   'G01N33/15',\n",
       "   'A61K39/12',\n",
       "   'C07K19/00',\n",
       "   'A61K38/16',\n",
       "   'G01N33/48',\n",
       "   'C12N15/12'],\n",
       "  'legal_status': 'Expired - Fee Related',\n",
       "  'priority_date': '1994-07-08',\n",
       "  'publication_date': '2001-10-02',\n",
       "  'publication_ids': ['pub.1031924359',\n",
       "   'pub.1017949400',\n",
       "   'pub.1052189176',\n",
       "   'pub.1016097718',\n",
       "   'pub.1079013533',\n",
       "   'pub.1075526108',\n",
       "   'pub.1077222969',\n",
       "   'pub.1001879253',\n",
       "   'pub.1015619873',\n",
       "   'pub.1062648191',\n",
       "   'pub.1082619591',\n",
       "   'pub.1039526404',\n",
       "   'pub.1076604163',\n",
       "   'pub.1052600277',\n",
       "   'pub.1040120250',\n",
       "   'pub.1082701699',\n",
       "   'pub.1078402312',\n",
       "   'pub.1047801193',\n",
       "   'pub.1006969540',\n",
       "   'pub.1075549619'],\n",
       "  'times_cited': 10,\n",
       "  'title': 'E6 binding proteins',\n",
       "  'year': 1999},\n",
       " {'assignee_names': ['New England Medical Center Hospitals Inc'],\n",
       "  'assignees': [{'city_name': 'Boston',\n",
       "    'country_code': 'US',\n",
       "    'country_name': 'United States',\n",
       "    'id': 'grid.67033.31',\n",
       "    'latitude': 42.34951,\n",
       "    'linkout': ['https://www.tuftsmedicalcenter.org/'],\n",
       "    'longitude': -71.06331,\n",
       "    'name': 'Tufts Medical Center',\n",
       "    'state_name': 'Massachusetts',\n",
       "    'types': ['Healthcare']}],\n",
       "  'cpc': ['C07K14/47',\n",
       "   'A61P43/00',\n",
       "   'C07K2319/00',\n",
       "   'A61P35/00',\n",
       "   'A01K2217/05',\n",
       "   'A61K38/00',\n",
       "   'A61P31/12'],\n",
       "  'date': '1995-11-14',\n",
       "  'expiration_date': '2014-07-08',\n",
       "  'family_count': 7,\n",
       "  'family_id': 24218361,\n",
       "  'federal_support': ['Work described herein was supported in part by funding from the National Institute of Health. The United States Government has certain rights in the invention. \\n    '],\n",
       "  'filing_date': '1995-11-14',\n",
       "  'filing_status': 'Grant',\n",
       "  'granted_date': '1999-11-23',\n",
       "  'granted_year': 1999,\n",
       "  'id': 'US-5989804-A',\n",
       "  'inventor_names': ['ANDROPHY ELLIOT J', 'CHEN JASON J'],\n",
       "  'ipcr': ['C12Q1/68',\n",
       "   'A61P35/00',\n",
       "   'A61P43/00',\n",
       "   'C12R1/19',\n",
       "   'A61K38/43',\n",
       "   'A61K38/16',\n",
       "   'C12N15/12',\n",
       "   'C12P21/02',\n",
       "   'G01N33/574',\n",
       "   'C12N1/21',\n",
       "   'C12Q1/70',\n",
       "   'G01N33/569',\n",
       "   'G01N33/48',\n",
       "   'G01N33/15',\n",
       "   'C07H21/04',\n",
       "   'C12N15/09',\n",
       "   'C07K19/00',\n",
       "   'A61K38/00',\n",
       "   'C07K14/47',\n",
       "   'A01K67/027',\n",
       "   'A61K38/17',\n",
       "   'A61K45/00',\n",
       "   'G01N33/566',\n",
       "   'G01N33/50',\n",
       "   'A61K39/12',\n",
       "   'A61P31/12',\n",
       "   'C12N1/19'],\n",
       "  'legal_status': 'Expired - Fee Related',\n",
       "  'priority_date': '1994-07-08',\n",
       "  'publication_date': '1999-11-23',\n",
       "  'publication_ids': ['pub.1016097718',\n",
       "   'pub.1079013533',\n",
       "   'pub.1006969540',\n",
       "   'pub.1082701699',\n",
       "   'pub.1052189176',\n",
       "   'pub.1039526404',\n",
       "   'pub.1078402312',\n",
       "   'pub.1076604163',\n",
       "   'pub.1082619591',\n",
       "   'pub.1062648191',\n",
       "   'pub.1040120250',\n",
       "   'pub.1052600277',\n",
       "   'pub.1075549619',\n",
       "   'pub.1075526108',\n",
       "   'pub.1031924359',\n",
       "   'pub.1047801193',\n",
       "   'pub.1015619873',\n",
       "   'pub.1001879253',\n",
       "   'pub.1077222969',\n",
       "   'pub.1017949400'],\n",
       "  'times_cited': 13,\n",
       "  'title': 'E6 binding proteins',\n",
       "  'year': 1995},\n",
       " {'assignee_names': ['New England Medical Center Hospitals Inc'],\n",
       "  'assignees': [{'city_name': 'Boston',\n",
       "    'country_code': 'US',\n",
       "    'country_name': 'United States',\n",
       "    'id': 'grid.67033.31',\n",
       "    'latitude': 42.34951,\n",
       "    'linkout': ['https://www.tuftsmedicalcenter.org/'],\n",
       "    'longitude': -71.06331,\n",
       "    'name': 'Tufts Medical Center',\n",
       "    'state_name': 'Massachusetts',\n",
       "    'types': ['Healthcare']}],\n",
       "  'category_bra': [{'id': '4000', 'name': 'Basic Science'}],\n",
       "  'category_for': [{'id': '80002', 'name': '31 Biological Sciences'},\n",
       "   {'id': '80034', 'name': '3101 Biochemistry and Cell Biology'},\n",
       "   {'id': '80002', 'name': '31 Biological Sciences'}],\n",
       "  'category_hra': [{'id': '3900', 'name': 'Biomedical'}],\n",
       "  'category_hrcs_hc': [{'id': '890', 'name': 'Generic health relevance'}],\n",
       "  'category_rcdc': [{'id': '533', 'name': 'Infectious Diseases'},\n",
       "   {'id': '476', 'name': 'Sexually Transmitted Infections'}],\n",
       "  'cpc': ['A61K38/00',\n",
       "   'A01K2217/05',\n",
       "   'C07K2319/00',\n",
       "   'A61P31/12',\n",
       "   'C07K14/47',\n",
       "   'A61P43/00',\n",
       "   'A61P35/00'],\n",
       "  'date': '1997-04-29',\n",
       "  'expiration_date': '2014-07-08',\n",
       "  'family_count': 4,\n",
       "  'family_id': 23042372,\n",
       "  'federal_support': ['Work described herein was supported in part by funding from the National Institute of Health, Grant number CA 44174. The United States Government has certain rights in the invention. \\n    '],\n",
       "  'filing_date': '1997-04-29',\n",
       "  'filing_status': 'Grant',\n",
       "  'granted_date': '1998-10-13',\n",
       "  'granted_year': 1998,\n",
       "  'id': 'US-5821051-A',\n",
       "  'inventor_names': ['ANDROPHY ELLIOT', 'CHEN JASON J'],\n",
       "  'ipcr': ['A61P35/00',\n",
       "   'C12N15/09',\n",
       "   'C07K19/00',\n",
       "   'A61P31/12',\n",
       "   'A61P43/00',\n",
       "   'A61K39/12',\n",
       "   'C07K14/47',\n",
       "   'A61K38/16',\n",
       "   'A61K38/43',\n",
       "   'A61K38/00',\n",
       "   'A01K67/027',\n",
       "   'C12R1/19',\n",
       "   'G01N33/48',\n",
       "   'C12N1/21',\n",
       "   'G01N33/569',\n",
       "   'G01N33/15',\n",
       "   'C12Q1/70',\n",
       "   'C12Q1/68',\n",
       "   'A61K38/17',\n",
       "   'C12P21/02'],\n",
       "  'legal_status': 'Expired - Fee Related',\n",
       "  'priority_date': '1994-07-08',\n",
       "  'publication_date': '1998-10-13',\n",
       "  'publication_ids': ['pub.1015619873',\n",
       "   'pub.1079013533',\n",
       "   'pub.1076604163',\n",
       "   'pub.1075549619',\n",
       "   'pub.1017949400',\n",
       "   'pub.1031924359',\n",
       "   'pub.1075526108',\n",
       "   'pub.1006969540',\n",
       "   'pub.1052600277',\n",
       "   'pub.1039526404',\n",
       "   'pub.1040120250',\n",
       "   'pub.1052189176',\n",
       "   'pub.1077222969',\n",
       "   'pub.1082701699',\n",
       "   'pub.1001879253',\n",
       "   'pub.1016097718',\n",
       "   'pub.1047801193',\n",
       "   'pub.1078402312'],\n",
       "  'times_cited': 30,\n",
       "  'title': 'E6 binding proteins',\n",
       "  'year': 1997},\n",
       " {'assignee_names': ['New England Medical Center Hospitals Inc'],\n",
       "  'assignees': [{'city_name': 'Boston',\n",
       "    'country_code': 'US',\n",
       "    'country_name': 'United States',\n",
       "    'id': 'grid.67033.31',\n",
       "    'latitude': 42.34951,\n",
       "    'linkout': ['https://www.tuftsmedicalcenter.org/'],\n",
       "    'longitude': -71.06331,\n",
       "    'name': 'Tufts Medical Center',\n",
       "    'state_name': 'Massachusetts',\n",
       "    'types': ['Healthcare']}],\n",
       "  'cpc': ['G01N2333/025',\n",
       "   'A01K2217/05',\n",
       "   'C07K14/47',\n",
       "   'A61P43/00',\n",
       "   'C07K16/081',\n",
       "   'C12N2710/20022',\n",
       "   'G01N33/68',\n",
       "   'C07K14/005'],\n",
       "  'date': '1994-12-22',\n",
       "  'expiration_date': '2015-08-11',\n",
       "  'family_count': 9,\n",
       "  'family_id': 23423520,\n",
       "  'federal_support': ['Work described herein was supported in part by funding from the National Institute of Health, Grant number RO1CA58376. The United States Government has certain rights in the invention. \\n    '],\n",
       "  'filing_date': '1994-12-22',\n",
       "  'filing_status': 'Grant',\n",
       "  'granted_date': '1998-08-11',\n",
       "  'granted_year': 1998,\n",
       "  'id': 'US-5792833-A',\n",
       "  'inventor_names': ['ANDROPHY ELLIOT J', 'BREIDING DAVID E'],\n",
       "  'ipcr': ['C12Q1/02',\n",
       "   'A61K45/00',\n",
       "   'C07K16/08',\n",
       "   'C12R1/91',\n",
       "   'C07K14/47',\n",
       "   'A61K49/00',\n",
       "   'C12N5/10',\n",
       "   'C07K14/025',\n",
       "   'C07K14/00',\n",
       "   'A61K38/00',\n",
       "   'C12P21/02',\n",
       "   'A01K67/027',\n",
       "   'C12N15/09',\n",
       "   'C12R1/865',\n",
       "   'A61P43/00',\n",
       "   'C12N1/19',\n",
       "   'G01N33/68'],\n",
       "  'legal_status': 'Expired - Fee Related',\n",
       "  'priority_date': '1994-12-22',\n",
       "  'publication_date': '1998-08-11',\n",
       "  'publication_ids': ['pub.1079422282',\n",
       "   'pub.1030684594',\n",
       "   'pub.1082786686',\n",
       "   'pub.1082643841',\n",
       "   'pub.1075602154',\n",
       "   'pub.1079413667'],\n",
       "  'times_cited': 17,\n",
       "  'title': 'E2 binding proteins',\n",
       "  'year': 1994},\n",
       " {'assignee_names': ['New England Medical Center Hospitals Inc'],\n",
       "  'assignees': [{'city_name': 'Boston',\n",
       "    'country_code': 'US',\n",
       "    'country_name': 'United States',\n",
       "    'id': 'grid.67033.31',\n",
       "    'latitude': 42.34951,\n",
       "    'linkout': ['https://www.tuftsmedicalcenter.org/'],\n",
       "    'longitude': -71.06331,\n",
       "    'name': 'Tufts Medical Center',\n",
       "    'state_name': 'Massachusetts',\n",
       "    'types': ['Healthcare']}],\n",
       "  'category_for': [{'id': '80022', 'name': '51 Physical Sciences'},\n",
       "   {'id': '80229', 'name': '5110 Synchrotrons and Accelerators'},\n",
       "   {'id': '80022', 'name': '51 Physical Sciences'}],\n",
       "  'category_hrcs_rac': [{'id': '10201',\n",
       "    'name': '2.1 Biological and endogenous factors'}],\n",
       "  'cpc': ['G01N33/68',\n",
       "   'C07K14/47',\n",
       "   'C07K16/081',\n",
       "   'A61P43/00',\n",
       "   'C12N2710/20022',\n",
       "   'G01N2333/025',\n",
       "   'C07K14/005',\n",
       "   'A01K2217/05'],\n",
       "  'date': '1996-03-06',\n",
       "  'expiration_date': '2014-12-22',\n",
       "  'family_count': 9,\n",
       "  'family_id': 23423520,\n",
       "  'federal_support': ['Work described herein was supported in part by funding from the National Institute of Health, Grant number RO1CA58376. The United States Government has certain rights in the invention. \\n    '],\n",
       "  'filing_date': '1996-03-06',\n",
       "  'filing_status': 'Grant',\n",
       "  'granted_date': '1998-06-23',\n",
       "  'granted_year': 1998,\n",
       "  'id': 'US-5770384-A',\n",
       "  'inventor_names': ['ANDROPHY ELLIOT J', 'BREIDING DAVID E'],\n",
       "  'ipcr': ['C07K14/47',\n",
       "   'G01N33/68',\n",
       "   'C12N5/10',\n",
       "   'C12Q1/02',\n",
       "   'C12P21/02',\n",
       "   'C12Q1/00',\n",
       "   'C12P21/06',\n",
       "   'C07K14/025',\n",
       "   'C07K16/08',\n",
       "   'C12R1/91',\n",
       "   'A61K49/00',\n",
       "   'A61P43/00',\n",
       "   'C12N15/09',\n",
       "   'A01K67/027',\n",
       "   'A61K38/00',\n",
       "   'C12N1/19',\n",
       "   'A61K45/00',\n",
       "   'C12R1/865'],\n",
       "  'legal_status': 'Expired - Fee Related',\n",
       "  'priority_date': '1994-12-22',\n",
       "  'publication_date': '1998-06-23',\n",
       "  'publication_ids': ['pub.1082786686',\n",
       "   'pub.1032585840',\n",
       "   'pub.1075602154',\n",
       "   'pub.1030684594',\n",
       "   'pub.1079422282',\n",
       "   'pub.1079413667',\n",
       "   'pub.1082643841'],\n",
       "  'times_cited': 24,\n",
       "  'title': 'Method for determining compound interaction with E2 binding proteins',\n",
       "  'year': 1996},\n",
       " {'assignee_names': ['Clariant Finance BVI Ltd',\n",
       "   'US Department of Health and Human Services',\n",
       "   'New England Medical Center Hospitals Inc'],\n",
       "  'assignees': [{'city_name': 'Leeds',\n",
       "    'country_code': 'GB',\n",
       "    'country_name': 'United Kingdom',\n",
       "    'id': 'grid.480127.8',\n",
       "    'latitude': 53.858498,\n",
       "    'linkout': ['http://www.clariant.com/'],\n",
       "    'longitude': -1.686288,\n",
       "    'name': 'Clariant (United Kingdom)',\n",
       "    'types': ['Company']},\n",
       "   {'acronym': 'DHHS',\n",
       "    'city_name': 'Washington D.C.',\n",
       "    'country_code': 'US',\n",
       "    'country_name': 'United States',\n",
       "    'id': 'grid.27235.31',\n",
       "    'latitude': 38.886665,\n",
       "    'linkout': ['http://www.hhs.gov/'],\n",
       "    'longitude': -77.01444,\n",
       "    'name': 'United States Department of Health and Human Services',\n",
       "    'state_name': 'District of Columbia',\n",
       "    'types': ['Government']},\n",
       "   {'city_name': 'Boston',\n",
       "    'country_code': 'US',\n",
       "    'country_name': 'United States',\n",
       "    'id': 'grid.67033.31',\n",
       "    'latitude': 42.34951,\n",
       "    'linkout': ['https://www.tuftsmedicalcenter.org/'],\n",
       "    'longitude': -71.06331,\n",
       "    'name': 'Tufts Medical Center',\n",
       "    'state_name': 'Massachusetts',\n",
       "    'types': ['Healthcare']}],\n",
       "  'category_bra': [{'id': '4000', 'name': 'Basic Science'}],\n",
       "  'category_for': [{'id': '80002', 'name': '31 Biological Sciences'},\n",
       "   {'id': '80041', 'name': '3108 Plant Biology'},\n",
       "   {'id': '80002', 'name': '31 Biological Sciences'}],\n",
       "  'category_hra': [{'id': '3900', 'name': 'Biomedical'}],\n",
       "  'category_rcdc': [{'id': '526', 'name': 'Genetics'},\n",
       "   {'id': '338', 'name': 'Biotechnology'}],\n",
       "  'cpc': ['C07K14/005',\n",
       "   'C07K2319/00',\n",
       "   'A61K31/70',\n",
       "   'C12N15/1131',\n",
       "   'C12N2710/20022',\n",
       "   'C12N2310/13',\n",
       "   'A61K38/00'],\n",
       "  'date': '1995-06-06',\n",
       "  'expiration_date': '2014-10-07',\n",
       "  'family_count': 9,\n",
       "  'family_id': 22180594,\n",
       "  'filing_date': '1995-06-06',\n",
       "  'filing_status': 'Grant',\n",
       "  'granted_date': '1997-10-07',\n",
       "  'granted_year': 1997,\n",
       "  'id': 'US-5674835-A',\n",
       "  'inventor_names': ['ANDROPHY ELLIOT J', 'LOWY DOUGLAS R', 'SCHILLER JOHN T'],\n",
       "  'ipcr': ['C12N15/113',\n",
       "   'C12N7/00',\n",
       "   'C12N15/37',\n",
       "   'A61K31/70',\n",
       "   'C12N15/09',\n",
       "   'C07H21/04',\n",
       "   'C12N7/04',\n",
       "   'C07K14/025',\n",
       "   'C07K14/01',\n",
       "   'A61K38/00'],\n",
       "  'legal_status': 'Expired - Fee Related',\n",
       "  'priority_date': '1987-08-07',\n",
       "  'publication_date': '1997-10-07',\n",
       "  'publication_ids': ['pub.1003222809',\n",
       "   'pub.1014397854',\n",
       "   'pub.1030953295',\n",
       "   'pub.1002873047',\n",
       "   'pub.1005941445',\n",
       "   'pub.1041078173',\n",
       "   'pub.1000570836'],\n",
       "  'times_cited': 8,\n",
       "  'title': 'Papillomaviral expression inhibitors',\n",
       "  'year': 1995},\n",
       " {'assignee_names': ['New England Medical Center Hospitals Inc', 'Biogen Inc'],\n",
       "  'assignees': [{'city_name': 'Boston',\n",
       "    'country_code': 'US',\n",
       "    'country_name': 'United States',\n",
       "    'id': 'grid.67033.31',\n",
       "    'latitude': 42.34951,\n",
       "    'linkout': ['https://www.tuftsmedicalcenter.org/'],\n",
       "    'longitude': -71.06331,\n",
       "    'name': 'Tufts Medical Center',\n",
       "    'state_name': 'Massachusetts',\n",
       "    'types': ['Healthcare']},\n",
       "   {'city_name': 'Cambridge',\n",
       "    'country_code': 'US',\n",
       "    'country_name': 'United States',\n",
       "    'id': 'grid.417832.b',\n",
       "    'latitude': 42.36644,\n",
       "    'linkout': ['https://www.biogen.com/'],\n",
       "    'longitude': -71.08527,\n",
       "    'name': 'Biogen (United States)',\n",
       "    'state_name': 'Massachusetts',\n",
       "    'types': ['Company']}],\n",
       "  'category_bra': [{'id': '4000', 'name': 'Basic Science'}],\n",
       "  'category_for': [{'id': '80002', 'name': '31 Biological Sciences'},\n",
       "   {'id': '80034', 'name': '3101 Biochemistry and Cell Biology'},\n",
       "   {'id': '80002', 'name': '31 Biological Sciences'}],\n",
       "  'category_hra': [{'id': '3900', 'name': 'Biomedical'}],\n",
       "  'category_hrcs_rac': [{'id': '10101',\n",
       "    'name': '1.1 Normal biological development and functioning'}],\n",
       "  'category_rcdc': [{'id': '526', 'name': 'Genetics'},\n",
       "   {'id': '503', 'name': 'Cancer'}],\n",
       "  'cpc': ['C07K2319/61',\n",
       "   'A61K38/00',\n",
       "   'C07K14/005',\n",
       "   'C07K2319/00',\n",
       "   'A61P31/12',\n",
       "   'C12N2740/16322',\n",
       "   'Y10S530/826',\n",
       "   'C12N2710/20022',\n",
       "   'C07K2319/80'],\n",
       "  'date': '1995-05-31',\n",
       "  'expiration_date': '2014-09-16',\n",
       "  'family_count': 12,\n",
       "  'family_id': 24595296,\n",
       "  'filing_date': '1995-05-31',\n",
       "  'filing_status': 'Grant',\n",
       "  'granted_date': '1997-09-16',\n",
       "  'granted_year': 1997,\n",
       "  'id': 'US-5667965-A',\n",
       "  'inventor_names': ['ANDROPHY ELLIOT J', 'BARSOUM JAMES G'],\n",
       "  'ipcr': ['C12P21/06',\n",
       "   'C12N1/19',\n",
       "   'C12N7/02',\n",
       "   'C12N7/00',\n",
       "   'C12R1/19',\n",
       "   'A61P31/12',\n",
       "   'C12P21/02',\n",
       "   'A61K38/00',\n",
       "   'C07K14/16',\n",
       "   'C12Q1/70',\n",
       "   'C12N15/37',\n",
       "   'C07K14/025',\n",
       "   'C12R1/85',\n",
       "   'C12N1/21',\n",
       "   'C12N15/09'],\n",
       "  'legal_status': 'Expired - Fee Related',\n",
       "  'priority_date': '1991-01-28',\n",
       "  'publication_date': '1997-09-16',\n",
       "  'publication_ids': ['pub.1036288099',\n",
       "   'pub.1079517115',\n",
       "   'pub.1062580021',\n",
       "   'pub.1050647830',\n",
       "   'pub.1079424238',\n",
       "   'pub.1078390253',\n",
       "   'pub.1025848877',\n",
       "   'pub.1055755677',\n",
       "   'pub.1005941445',\n",
       "   'pub.1015635721',\n",
       "   'pub.1079000249',\n",
       "   'pub.1005896999',\n",
       "   'pub.1030953295',\n",
       "   'pub.1027371814',\n",
       "   'pub.1048244831',\n",
       "   'pub.1079518205',\n",
       "   'pub.1041078173',\n",
       "   'pub.1035732044',\n",
       "   'pub.1035209952',\n",
       "   'pub.1075509755',\n",
       "   'pub.1015185081',\n",
       "   'pub.1079417069',\n",
       "   'pub.1079417068',\n",
       "   'pub.1013460789',\n",
       "   'pub.1000570836',\n",
       "   'pub.1006660067',\n",
       "   'pub.1059250992',\n",
       "   'pub.1079517403',\n",
       "   'pub.1079005444',\n",
       "   'pub.1003524156',\n",
       "   'pub.1059931650',\n",
       "   'pub.1079426183',\n",
       "   'pub.1079018295',\n",
       "   'pub.1079013533',\n",
       "   'pub.1007403208',\n",
       "   'pub.1016229210',\n",
       "   'pub.1003222809',\n",
       "   'pub.1062525539',\n",
       "   'pub.1027975899'],\n",
       "  'times_cited': 18,\n",
       "  'title': 'Papillomavirus E2 trans-activation repressors',\n",
       "  'year': 1995},\n",
       " {'assignee_names': ['New England Medical Center Hospitals Inc', 'Biogen Inc'],\n",
       "  'assignees': [{'city_name': 'Boston',\n",
       "    'country_code': 'US',\n",
       "    'country_name': 'United States',\n",
       "    'id': 'grid.67033.31',\n",
       "    'latitude': 42.34951,\n",
       "    'linkout': ['https://www.tuftsmedicalcenter.org/'],\n",
       "    'longitude': -71.06331,\n",
       "    'name': 'Tufts Medical Center',\n",
       "    'state_name': 'Massachusetts',\n",
       "    'types': ['Healthcare']},\n",
       "   {'city_name': 'Cambridge',\n",
       "    'country_code': 'US',\n",
       "    'country_name': 'United States',\n",
       "    'id': 'grid.417832.b',\n",
       "    'latitude': 42.36644,\n",
       "    'linkout': ['https://www.biogen.com/'],\n",
       "    'longitude': -71.08527,\n",
       "    'name': 'Biogen (United States)',\n",
       "    'state_name': 'Massachusetts',\n",
       "    'types': ['Company']}],\n",
       "  'category_bra': [{'id': '4000', 'name': 'Basic Science'}],\n",
       "  'category_for': [{'id': '80002', 'name': '31 Biological Sciences'},\n",
       "   {'id': '80034', 'name': '3101 Biochemistry and Cell Biology'},\n",
       "   {'id': '80002', 'name': '31 Biological Sciences'}],\n",
       "  'category_hra': [{'id': '3900', 'name': 'Biomedical'}],\n",
       "  'category_hrcs_rac': [{'id': '10101',\n",
       "    'name': '1.1 Normal biological development and functioning'}],\n",
       "  'category_rcdc': [{'id': '526', 'name': 'Genetics'},\n",
       "   {'id': '503', 'name': 'Cancer'}],\n",
       "  'cpc': ['C12N2740/16322',\n",
       "   'C07K14/005',\n",
       "   'C07K2319/80',\n",
       "   'C07K2319/00',\n",
       "   'Y10S530/826',\n",
       "   'C12N2710/20022',\n",
       "   'A61K38/00',\n",
       "   'A61P31/12',\n",
       "   'C07K2319/61'],\n",
       "  'date': '1995-05-31',\n",
       "  'expiration_date': '2014-08-12',\n",
       "  'family_count': 12,\n",
       "  'family_id': 24595296,\n",
       "  'filing_date': '1995-05-31',\n",
       "  'filing_status': 'Grant',\n",
       "  'granted_date': '1997-08-12',\n",
       "  'granted_year': 1997,\n",
       "  'id': 'US-5656599-A',\n",
       "  'inventor_names': ['ANDROPHY ELLIOT J', 'BARSOUM JAMES G'],\n",
       "  'ipcr': ['C12N1/21',\n",
       "   'A61P31/12',\n",
       "   'C12R1/19',\n",
       "   'C12P21/02',\n",
       "   'C07K14/00',\n",
       "   'C12N15/37',\n",
       "   'C07K14/025',\n",
       "   'C12N15/09',\n",
       "   'C07K14/16',\n",
       "   'C12R1/85',\n",
       "   'C12N1/19',\n",
       "   'A61K38/00'],\n",
       "  'legal_status': 'Expired - Fee Related',\n",
       "  'priority_date': '1991-01-28',\n",
       "  'publication_date': '1997-08-12',\n",
       "  'publication_ids': ['pub.1016229210',\n",
       "   'pub.1062525539',\n",
       "   'pub.1035732044',\n",
       "   'pub.1030953295',\n",
       "   'pub.1007403208',\n",
       "   'pub.1005896999',\n",
       "   'pub.1005941445',\n",
       "   'pub.1079417068',\n",
       "   'pub.1079018295',\n",
       "   'pub.1079417069',\n",
       "   'pub.1025848877',\n",
       "   'pub.1035209952',\n",
       "   'pub.1079426183',\n",
       "   'pub.1078390253',\n",
       "   'pub.1079013533',\n",
       "   'pub.1079518205',\n",
       "   'pub.1059931650',\n",
       "   'pub.1000570836',\n",
       "   'pub.1050647830',\n",
       "   'pub.1003222809',\n",
       "   'pub.1048244831',\n",
       "   'pub.1003524156',\n",
       "   'pub.1075509755',\n",
       "   'pub.1055755677',\n",
       "   'pub.1062580021',\n",
       "   'pub.1079424238',\n",
       "   'pub.1027975899',\n",
       "   'pub.1079005444',\n",
       "   'pub.1079000249',\n",
       "   'pub.1013460789',\n",
       "   'pub.1015185081',\n",
       "   'pub.1027371814',\n",
       "   'pub.1006660067',\n",
       "   'pub.1015635721',\n",
       "   'pub.1079517403',\n",
       "   'pub.1041078173',\n",
       "   'pub.1036288099',\n",
       "   'pub.1059250992'],\n",
       "  'times_cited': 14,\n",
       "  'title': 'Papillomavirus E2 trans-activation repressors',\n",
       "  'year': 1995},\n",
       " {'assignee_names': ['New England Medical Center Hospitals Inc', 'Biogen Inc'],\n",
       "  'assignees': [{'city_name': 'Boston',\n",
       "    'country_code': 'US',\n",
       "    'country_name': 'United States',\n",
       "    'id': 'grid.67033.31',\n",
       "    'latitude': 42.34951,\n",
       "    'linkout': ['https://www.tuftsmedicalcenter.org/'],\n",
       "    'longitude': -71.06331,\n",
       "    'name': 'Tufts Medical Center',\n",
       "    'state_name': 'Massachusetts',\n",
       "    'types': ['Healthcare']},\n",
       "   {'city_name': 'Cambridge',\n",
       "    'country_code': 'US',\n",
       "    'country_name': 'United States',\n",
       "    'id': 'grid.417832.b',\n",
       "    'latitude': 42.36644,\n",
       "    'linkout': ['https://www.biogen.com/'],\n",
       "    'longitude': -71.08527,\n",
       "    'name': 'Biogen (United States)',\n",
       "    'state_name': 'Massachusetts',\n",
       "    'types': ['Company']}],\n",
       "  'category_bra': [{'id': '4000', 'name': 'Basic Science'}],\n",
       "  'category_for': [{'id': '80002', 'name': '31 Biological Sciences'},\n",
       "   {'id': '80034', 'name': '3101 Biochemistry and Cell Biology'},\n",
       "   {'id': '80002', 'name': '31 Biological Sciences'}],\n",
       "  'category_hra': [{'id': '3900', 'name': 'Biomedical'}],\n",
       "  'category_hrcs_rac': [{'id': '10101',\n",
       "    'name': '1.1 Normal biological development and functioning'}],\n",
       "  'category_rcdc': [{'id': '526', 'name': 'Genetics'},\n",
       "   {'id': '503', 'name': 'Cancer'}],\n",
       "  'cpc': ['A61P31/12',\n",
       "   'C07K14/005',\n",
       "   'C07K2319/00',\n",
       "   'A61K38/00',\n",
       "   'C07K2319/61',\n",
       "   'C12N2710/20022',\n",
       "   'Y10S530/826',\n",
       "   'C12N2740/16322',\n",
       "   'C07K2319/80'],\n",
       "  'date': '1995-05-31',\n",
       "  'expiration_date': '2014-04-01',\n",
       "  'family_count': 12,\n",
       "  'family_id': 24595296,\n",
       "  'filing_date': '1995-05-31',\n",
       "  'filing_status': 'Grant',\n",
       "  'granted_date': '1997-04-01',\n",
       "  'granted_year': 1997,\n",
       "  'id': 'US-5616559-A',\n",
       "  'inventor_names': ['ANDROPHY ELLIOT J', 'BARSOUM JAMES G'],\n",
       "  'ipcr': ['C12P21/02',\n",
       "   'C12N15/09',\n",
       "   'C07K14/025',\n",
       "   'A61P31/12',\n",
       "   'C12N1/21',\n",
       "   'C12N15/37',\n",
       "   'C12R1/85',\n",
       "   'C07K14/16',\n",
       "   'C12N1/19',\n",
       "   'A61K38/00',\n",
       "   'C12R1/19',\n",
       "   'C07K14/00'],\n",
       "  'legal_status': 'Expired - Fee Related',\n",
       "  'priority_date': '1991-01-28',\n",
       "  'publication_date': '1997-04-01',\n",
       "  'publication_ids': ['pub.1003524156',\n",
       "   'pub.1079518205',\n",
       "   'pub.1079018295',\n",
       "   'pub.1027371814',\n",
       "   'pub.1006660067',\n",
       "   'pub.1015635721',\n",
       "   'pub.1025848877',\n",
       "   'pub.1000570836',\n",
       "   'pub.1035209952',\n",
       "   'pub.1079417068',\n",
       "   'pub.1003222809',\n",
       "   'pub.1050647830',\n",
       "   'pub.1005941445',\n",
       "   'pub.1041078173',\n",
       "   'pub.1079005444',\n",
       "   'pub.1005896999',\n",
       "   'pub.1078390253',\n",
       "   'pub.1079000249',\n",
       "   'pub.1062525539',\n",
       "   'pub.1015185081',\n",
       "   'pub.1030953295',\n",
       "   'pub.1007403208',\n",
       "   'pub.1062580021',\n",
       "   'pub.1013460789',\n",
       "   'pub.1079013533',\n",
       "   'pub.1079517403',\n",
       "   'pub.1079417069',\n",
       "   'pub.1016229210',\n",
       "   'pub.1059931650',\n",
       "   'pub.1059250992',\n",
       "   'pub.1055755677',\n",
       "   'pub.1075509755',\n",
       "   'pub.1079426183',\n",
       "   'pub.1079424238',\n",
       "   'pub.1035732044',\n",
       "   'pub.1027975899',\n",
       "   'pub.1048244831',\n",
       "   'pub.1036288099'],\n",
       "  'times_cited': 23,\n",
       "  'title': 'Papillomavirus E2 trans-activation repressors',\n",
       "  'year': 1995},\n",
       " {'assignee_names': ['New England Medical Center Hospitals Inc', 'Biogen Inc'],\n",
       "  'assignees': [{'city_name': 'Boston',\n",
       "    'country_code': 'US',\n",
       "    'country_name': 'United States',\n",
       "    'id': 'grid.67033.31',\n",
       "    'latitude': 42.34951,\n",
       "    'linkout': ['https://www.tuftsmedicalcenter.org/'],\n",
       "    'longitude': -71.06331,\n",
       "    'name': 'Tufts Medical Center',\n",
       "    'state_name': 'Massachusetts',\n",
       "    'types': ['Healthcare']},\n",
       "   {'city_name': 'Cambridge',\n",
       "    'country_code': 'US',\n",
       "    'country_name': 'United States',\n",
       "    'id': 'grid.417832.b',\n",
       "    'latitude': 42.36644,\n",
       "    'linkout': ['https://www.biogen.com/'],\n",
       "    'longitude': -71.08527,\n",
       "    'name': 'Biogen (United States)',\n",
       "    'state_name': 'Massachusetts',\n",
       "    'types': ['Company']}],\n",
       "  'category_bra': [{'id': '4000', 'name': 'Basic Science'}],\n",
       "  'category_for': [{'id': '80002', 'name': '31 Biological Sciences'},\n",
       "   {'id': '80034', 'name': '3101 Biochemistry and Cell Biology'},\n",
       "   {'id': '80002', 'name': '31 Biological Sciences'}],\n",
       "  'category_hra': [{'id': '3900', 'name': 'Biomedical'}],\n",
       "  'category_hrcs_rac': [{'id': '10101',\n",
       "    'name': '1.1 Normal biological development and functioning'}],\n",
       "  'category_rcdc': [{'id': '526', 'name': 'Genetics'},\n",
       "   {'id': '503', 'name': 'Cancer'},\n",
       "   {'id': '338', 'name': 'Biotechnology'}],\n",
       "  'cpc': ['C12N2710/20022',\n",
       "   'C07K2319/61',\n",
       "   'C07K2319/00',\n",
       "   'A61K38/00',\n",
       "   'C12N2740/16322',\n",
       "   'C07K2319/80',\n",
       "   'A61P31/12',\n",
       "   'Y10S530/826',\n",
       "   'C07K14/005'],\n",
       "  'date': '1993-09-24',\n",
       "  'expiration_date': '2014-01-21',\n",
       "  'family_count': 12,\n",
       "  'family_id': 24595296,\n",
       "  'filing_date': '1993-09-24',\n",
       "  'filing_status': 'Grant',\n",
       "  'granted_date': '1997-01-21',\n",
       "  'granted_year': 1997,\n",
       "  'id': 'US-5595884-A',\n",
       "  'inventor_names': ['ANDROPHY ELLIOT J', 'BARSOUM JAMES G'],\n",
       "  'ipcr': ['C12N1/19',\n",
       "   'A61K38/00',\n",
       "   'C12R1/19',\n",
       "   'A61P31/12',\n",
       "   'C12N15/09',\n",
       "   'C12R1/85',\n",
       "   'C12N15/37',\n",
       "   'C07K14/16',\n",
       "   'C12P21/02',\n",
       "   'C07K14/025',\n",
       "   'C12N1/15',\n",
       "   'C12N1/21'],\n",
       "  'legal_status': 'Expired - Fee Related',\n",
       "  'priority_date': '1991-01-28',\n",
       "  'publication_date': '1997-01-21',\n",
       "  'publication_ids': ['pub.1000570836',\n",
       "   'pub.1016229210',\n",
       "   'pub.1079517403',\n",
       "   'pub.1003222809',\n",
       "   'pub.1003524156',\n",
       "   'pub.1079517115',\n",
       "   'pub.1059931650',\n",
       "   'pub.1036288099',\n",
       "   'pub.1041078173',\n",
       "   'pub.1055755677',\n",
       "   'pub.1050647830',\n",
       "   'pub.1015635721',\n",
       "   'pub.1077216319',\n",
       "   'pub.1035209952',\n",
       "   'pub.1079424238',\n",
       "   'pub.1062580021',\n",
       "   'pub.1007403208',\n",
       "   'pub.1079005444',\n",
       "   'pub.1027371814',\n",
       "   'pub.1048244831',\n",
       "   'pub.1079013533',\n",
       "   'pub.1025848877',\n",
       "   'pub.1027975899',\n",
       "   'pub.1062525539',\n",
       "   'pub.1079000249',\n",
       "   'pub.1006660067',\n",
       "   'pub.1059250992',\n",
       "   'pub.1005896999',\n",
       "   'pub.1013460789',\n",
       "   'pub.1030953295',\n",
       "   'pub.1079018295',\n",
       "   'pub.1015185081',\n",
       "   'pub.1079417069',\n",
       "   'pub.1079417068',\n",
       "   'pub.1079426183',\n",
       "   'pub.1035732044',\n",
       "   'pub.1079518205',\n",
       "   'pub.1075509755',\n",
       "   'pub.1005941445'],\n",
       "  'times_cited': 8,\n",
       "  'title': 'Papillomavirus E2 transactivation repressor proteins and DNA',\n",
       "  'year': 1993},\n",
       " {'assignee_names': ['New England Medical Center Hospitals Inc', 'Biogen Inc'],\n",
       "  'assignees': [{'city_name': 'Boston',\n",
       "    'country_code': 'US',\n",
       "    'country_name': 'United States',\n",
       "    'id': 'grid.67033.31',\n",
       "    'latitude': 42.34951,\n",
       "    'linkout': ['https://www.tuftsmedicalcenter.org/'],\n",
       "    'longitude': -71.06331,\n",
       "    'name': 'Tufts Medical Center',\n",
       "    'state_name': 'Massachusetts',\n",
       "    'types': ['Healthcare']},\n",
       "   {'city_name': 'Cambridge',\n",
       "    'country_code': 'US',\n",
       "    'country_name': 'United States',\n",
       "    'id': 'grid.417832.b',\n",
       "    'latitude': 42.36644,\n",
       "    'linkout': ['https://www.biogen.com/'],\n",
       "    'longitude': -71.08527,\n",
       "    'name': 'Biogen (United States)',\n",
       "    'state_name': 'Massachusetts',\n",
       "    'types': ['Company']}],\n",
       "  'category_bra': [{'id': '4000', 'name': 'Basic Science'}],\n",
       "  'category_for': [{'id': '80002', 'name': '31 Biological Sciences'},\n",
       "   {'id': '80034', 'name': '3101 Biochemistry and Cell Biology'},\n",
       "   {'id': '80002', 'name': '31 Biological Sciences'}],\n",
       "  'category_hra': [{'id': '3900', 'name': 'Biomedical'}],\n",
       "  'category_hrcs_rac': [{'id': '10101',\n",
       "    'name': '1.1 Normal biological development and functioning'}],\n",
       "  'category_rcdc': [{'id': '526', 'name': 'Genetics'},\n",
       "   {'id': '503', 'name': 'Cancer'}],\n",
       "  'cpc': ['C07K2319/00',\n",
       "   'A61P31/12',\n",
       "   'C07K2319/80',\n",
       "   'C07K2319/61',\n",
       "   'C12N2710/20022',\n",
       "   'Y10S530/826',\n",
       "   'A61K38/00',\n",
       "   'C12N2740/16322',\n",
       "   'C07K14/005'],\n",
       "  'date': '1991-01-28',\n",
       "  'expiration_date': '2011-01-28',\n",
       "  'family_count': 12,\n",
       "  'family_id': 24595296,\n",
       "  'filing_date': '1991-01-28',\n",
       "  'filing_status': 'Grant',\n",
       "  'granted_date': '1993-06-15',\n",
       "  'granted_year': 1993,\n",
       "  'id': 'US-5219990-A',\n",
       "  'inventor_names': ['ANDROPHY ELLIOT J', 'BARSOUM JAMES G'],\n",
       "  'ipcr': ['C07K14/025',\n",
       "   'C07K7/04',\n",
       "   'C12R1/85',\n",
       "   'C07K15/02',\n",
       "   'C07K13/00',\n",
       "   'A61P31/12',\n",
       "   'C12N15/37',\n",
       "   'C12N1/21',\n",
       "   'C12R1/19',\n",
       "   'C07K14/16',\n",
       "   'C12N15/09',\n",
       "   'C12N1/19',\n",
       "   'A61K38/00',\n",
       "   'C12P21/02'],\n",
       "  'legal_status': 'Expired - Lifetime',\n",
       "  'priority_date': '1991-01-28',\n",
       "  'publication_date': '1993-06-15',\n",
       "  'publication_ids': ['pub.1025848877',\n",
       "   'pub.1079417068',\n",
       "   'pub.1035732044',\n",
       "   'pub.1005941445',\n",
       "   'pub.1030953295',\n",
       "   'pub.1079013533',\n",
       "   'pub.1035209952',\n",
       "   'pub.1059250992',\n",
       "   'pub.1034216899',\n",
       "   'pub.1079518205',\n",
       "   'pub.1079018295',\n",
       "   'pub.1079424238',\n",
       "   'pub.1062525539',\n",
       "   'pub.1079517403',\n",
       "   'pub.1079517115',\n",
       "   'pub.1003524156',\n",
       "   'pub.1016229210',\n",
       "   'pub.1036288099',\n",
       "   'pub.1050647830',\n",
       "   'pub.1027371814',\n",
       "   'pub.1007403208',\n",
       "   'pub.1015635721',\n",
       "   'pub.1027975899',\n",
       "   'pub.1041078173',\n",
       "   'pub.1079000249',\n",
       "   'pub.1079005444',\n",
       "   'pub.1015185081',\n",
       "   'pub.1079417069',\n",
       "   'pub.1006660067',\n",
       "   'pub.1079426183',\n",
       "   'pub.1062580021',\n",
       "   'pub.1059931650',\n",
       "   'pub.1003222809'],\n",
       "  'times_cited': 37,\n",
       "  'title': 'PAPILLOMAVIRUS E2 TRANS-ACTIVATION REPRESSORS',\n",
       "  'year': 1991},\n",
       " {'assignee_names': ['In Diana University, University of, Trustees of',\n",
       "   'Kovina Therapeutics Inc',\n",
       "   'Indiana University'],\n",
       "  'assignees': [{'acronym': 'IU',\n",
       "    'city_name': 'Bloomington',\n",
       "    'country_code': 'US',\n",
       "    'country_name': 'United States',\n",
       "    'id': 'grid.257410.5',\n",
       "    'latitude': 39.17106,\n",
       "    'linkout': ['http://www.iu.edu/'],\n",
       "    'longitude': -86.51388,\n",
       "    'name': 'Indiana University',\n",
       "    'state_name': 'Indiana',\n",
       "    'types': ['Education']}],\n",
       "  'category_bra': [{'id': '4000', 'name': 'Basic Science'}],\n",
       "  'category_for': [{'id': '80003',\n",
       "    'name': '32 Biomedical and Clinical Sciences'},\n",
       "   {'id': '80003', 'name': '32 Biomedical and Clinical Sciences'},\n",
       "   {'id': '80045', 'name': '3202 Clinical Sciences'}],\n",
       "  'category_hra': [{'id': '3900', 'name': 'Biomedical'}],\n",
       "  'category_hrcs_hc': [{'id': '911', 'name': 'Cancer'},\n",
       "   {'id': '898', 'name': 'Infection'}],\n",
       "  'category_hrcs_rac': [{'id': '10501', 'name': '5.1 Pharmaceuticals'}],\n",
       "  'category_icrp_cso': [{'id': '3751',\n",
       "    'name': '2.1 Exogenous Factors in the Origin and Cause of Cancer'},\n",
       "   {'id': '3767',\n",
       "    'name': '5.3 Systemic Therapies - Discovery and Development'}],\n",
       "  'category_icrp_ct': [{'id': '3792', 'name': 'Cervical Cancer'},\n",
       "   {'id': '3785', 'name': 'Anal Cancer'}],\n",
       "  'category_rcdc': [{'id': '527', 'name': 'HIV/AIDS'},\n",
       "   {'id': '533', 'name': 'Infectious Diseases'},\n",
       "   {'id': '503', 'name': 'Cancer'},\n",
       "   {'id': '476', 'name': 'Sexually Transmitted Infections'},\n",
       "   {'id': '317', 'name': 'Cervical Cancer'}],\n",
       "  'cpc': ['C07D217/04',\n",
       "   'A61K9/0002',\n",
       "   'C07D215/06',\n",
       "   'A61K38/10',\n",
       "   'A61K31/381',\n",
       "   'A61P31/20',\n",
       "   'C07D487/04',\n",
       "   'C07D495/04'],\n",
       "  'date': '2022-09-26',\n",
       "  'family_count': 8,\n",
       "  'family_id': 78083780,\n",
       "  'federal_support': ['This invention was made with government support under TR001108 awarded by the National Institutes of Health. The government has certain rights in the invention. \\n    '],\n",
       "  'filing_date': '2022-09-26',\n",
       "  'filing_status': 'Application',\n",
       "  'id': 'US-20230047626-A1',\n",
       "  'inventor_names': ['ANDROPHY ELLIOT J',\n",
       "   'MEROUEH SAMY',\n",
       "   'LU ZHIJIAN',\n",
       "   'RIETZ ANNE'],\n",
       "  'ipcr': ['A61K9/00',\n",
       "   'A61P31/20',\n",
       "   'A61K31/381',\n",
       "   'A61K38/10',\n",
       "   'C07D495/04',\n",
       "   'C07D215/06',\n",
       "   'C07D487/04'],\n",
       "  'legal_status': 'Granted',\n",
       "  'priority_date': '2020-04-17',\n",
       "  'publication_date': '2023-02-16',\n",
       "  'times_cited': 0,\n",
       "  'title': 'SMALL MOLECULE ANTIVIRAL DRUG TREATMENT FOR HUMAN PAPILLOMAVIRUS INFECTIONS',\n",
       "  'year': 2022},\n",
       " {'assignee_names': ['Kovina Therapeutics Inc', 'Indiana University'],\n",
       "  'assignees': [{'acronym': 'IU',\n",
       "    'city_name': 'Bloomington',\n",
       "    'country_code': 'US',\n",
       "    'country_name': 'United States',\n",
       "    'id': 'grid.257410.5',\n",
       "    'latitude': 39.17106,\n",
       "    'linkout': ['http://www.iu.edu/'],\n",
       "    'longitude': -86.51388,\n",
       "    'name': 'Indiana University',\n",
       "    'state_name': 'Indiana',\n",
       "    'types': ['Education']}],\n",
       "  'category_bra': [{'id': '4000', 'name': 'Basic Science'}],\n",
       "  'category_for': [{'id': '80003',\n",
       "    'name': '32 Biomedical and Clinical Sciences'},\n",
       "   {'id': '80003', 'name': '32 Biomedical and Clinical Sciences'},\n",
       "   {'id': '80045', 'name': '3202 Clinical Sciences'}],\n",
       "  'category_hra': [{'id': '3900', 'name': 'Biomedical'}],\n",
       "  'category_hrcs_hc': [{'id': '898', 'name': 'Infection'},\n",
       "   {'id': '911', 'name': 'Cancer'}],\n",
       "  'category_hrcs_rac': [{'id': '10501', 'name': '5.1 Pharmaceuticals'}],\n",
       "  'category_icrp_cso': [{'id': '3751',\n",
       "    'name': '2.1 Exogenous Factors in the Origin and Cause of Cancer'},\n",
       "   {'id': '3767',\n",
       "    'name': '5.3 Systemic Therapies - Discovery and Development'}],\n",
       "  'category_icrp_ct': [{'id': '3792', 'name': 'Cervical Cancer'},\n",
       "   {'id': '3785', 'name': 'Anal Cancer'}],\n",
       "  'category_rcdc': [{'id': '503', 'name': 'Cancer'},\n",
       "   {'id': '476', 'name': 'Sexually Transmitted Infections'},\n",
       "   {'id': '533', 'name': 'Infectious Diseases'},\n",
       "   {'id': '317', 'name': 'Cervical Cancer'},\n",
       "   {'id': '527', 'name': 'HIV/AIDS'}],\n",
       "  'cpc': ['C07D487/04',\n",
       "   'C07D215/06',\n",
       "   'A61P31/20',\n",
       "   'C07D495/04',\n",
       "   'A61K9/0002',\n",
       "   'A61K31/381',\n",
       "   'A61K38/10',\n",
       "   'C07D217/04'],\n",
       "  'date': '2022-01-19',\n",
       "  'family_count': 8,\n",
       "  'family_id': 78083780,\n",
       "  'federal_support': ['This invention was made with government support under TR001108 awarded by the National Institutes of Health. The government has certain rights in the invention. \\n    '],\n",
       "  'filing_date': '2022-01-19',\n",
       "  'filing_status': 'Application',\n",
       "  'id': 'US-20220142973-A1',\n",
       "  'inventor_names': ['ANDROPHY ELLIOT J',\n",
       "   'MEROUEH SAMY',\n",
       "   'LU ZHIJIAN',\n",
       "   'RIETZ ANNE'],\n",
       "  'ipcr': ['A61K9/00', 'A61K31/381'],\n",
       "  'legal_status': 'Granted',\n",
       "  'priority_date': '2020-04-17',\n",
       "  'publication_date': '2022-05-12',\n",
       "  'times_cited': 0,\n",
       "  'title': 'SMALL MOLECULE ANTIVIRAL DRUG TREATMENT FOR HUMAN PAPILLOMAVIRUS INFECTIONS',\n",
       "  'year': 2022},\n",
       " {'assignee_names': ['University of Massachusetts UMass'],\n",
       "  'assignees': [{'city_name': 'Boston',\n",
       "    'country_code': 'US',\n",
       "    'country_name': 'United States',\n",
       "    'id': 'grid.266684.8',\n",
       "    'latitude': 42.312634,\n",
       "    'linkout': ['http://www.massachusetts.edu/'],\n",
       "    'longitude': -71.03584,\n",
       "    'name': 'University of Massachusetts System',\n",
       "    'state_name': 'Massachusetts',\n",
       "    'types': ['Education']}],\n",
       "  'category_bra': [{'id': '4001', 'name': 'Clinical Medicine and Science'}],\n",
       "  'category_for': [{'id': '80003',\n",
       "    'name': '32 Biomedical and Clinical Sciences'},\n",
       "   {'id': '80003', 'name': '32 Biomedical and Clinical Sciences'},\n",
       "   {'id': '80045', 'name': '3202 Clinical Sciences'}],\n",
       "  'category_hrcs_rac': [{'id': '10501', 'name': '5.1 Pharmaceuticals'}],\n",
       "  'category_rcdc': [{'id': '526', 'name': 'Genetics'},\n",
       "   {'id': '543', 'name': 'Orphan Drug'},\n",
       "   {'id': '547', 'name': 'Pediatric'},\n",
       "   {'id': '559', 'name': 'Rare Diseases'},\n",
       "   {'id': '542', 'name': 'Neurodegenerative'},\n",
       "   {'id': '483', 'name': 'Spinal Muscular Atrophy'}],\n",
       "  'cpc': ['C12N2320/33',\n",
       "   'C12N15/113',\n",
       "   'G01N33/6896',\n",
       "   'A61P21/00',\n",
       "   'G01N2500/04',\n",
       "   'C12N2310/322',\n",
       "   'G01N2800/28',\n",
       "   'C12N2320/30',\n",
       "   'C12N2310/315',\n",
       "   'C12N2310/11'],\n",
       "  'date': '2021-08-19',\n",
       "  'family_count': 12,\n",
       "  'family_id': 38861806,\n",
       "  'federal_support': ['This invention was made with government support under Grant No. NS040275 awarded by the National Institutes of Health. The Government has certain rights in the invention. \\n    '],\n",
       "  'filing_date': '2021-08-19',\n",
       "  'filing_status': 'Application',\n",
       "  'id': 'US-20220090071-A1',\n",
       "  'inventor_names': ['SINGH RAVINDRA N',\n",
       "   'SINGH NATALIA N',\n",
       "   'SINGH NIRMAL K',\n",
       "   'ANDROPHY ELLIOT J'],\n",
       "  'ipcr': ['G01N33/68', 'C12N15/113'],\n",
       "  'legal_status': 'Abandoned',\n",
       "  'priority_date': '2004-12-03',\n",
       "  'publication_date': '2022-03-24',\n",
       "  'times_cited': 0,\n",
       "  'title': 'SPINAL MUSCULAR ATROPHY (SMA) TREATMENT VIA TARGETING OF SMN2 SPLICE SITE INHIBITORY SEQUENCES',\n",
       "  'year': 2021},\n",
       " {'assignee_names': ['University of Massachusetts UMass'],\n",
       "  'assignees': [{'city_name': 'Boston',\n",
       "    'country_code': 'US',\n",
       "    'country_name': 'United States',\n",
       "    'id': 'grid.266684.8',\n",
       "    'latitude': 42.312634,\n",
       "    'linkout': ['http://www.massachusetts.edu/'],\n",
       "    'longitude': -71.03584,\n",
       "    'name': 'University of Massachusetts System',\n",
       "    'state_name': 'Massachusetts',\n",
       "    'types': ['Education']}],\n",
       "  'category_bra': [{'id': '4001', 'name': 'Clinical Medicine and Science'}],\n",
       "  'category_for': [{'id': '80003',\n",
       "    'name': '32 Biomedical and Clinical Sciences'},\n",
       "   {'id': '80003', 'name': '32 Biomedical and Clinical Sciences'},\n",
       "   {'id': '80045', 'name': '3202 Clinical Sciences'}],\n",
       "  'category_hrcs_rac': [{'id': '10501', 'name': '5.1 Pharmaceuticals'}],\n",
       "  'category_rcdc': [{'id': '483', 'name': 'Spinal Muscular Atrophy'},\n",
       "   {'id': '526', 'name': 'Genetics'},\n",
       "   {'id': '542', 'name': 'Neurodegenerative'},\n",
       "   {'id': '543', 'name': 'Orphan Drug'},\n",
       "   {'id': '559', 'name': 'Rare Diseases'},\n",
       "   {'id': '547', 'name': 'Pediatric'}],\n",
       "  'cpc': ['G01N33/6896',\n",
       "   'C12N2310/315',\n",
       "   'C12N2320/30',\n",
       "   'C12N2320/33',\n",
       "   'C12N15/113',\n",
       "   'C12N2310/11',\n",
       "   'A61P21/00',\n",
       "   'G01N2800/28',\n",
       "   'G01N2500/04',\n",
       "   'C12N2310/322'],\n",
       "  'date': '2019-03-04',\n",
       "  'family_count': 12,\n",
       "  'family_id': 38861806,\n",
       "  'federal_support': ['This invention was made with government support under Grant No. NS040275 awarded by the National Institutes of Health. The Government has certain rights in the invention. \\n    '],\n",
       "  'filing_date': '2019-03-04',\n",
       "  'filing_status': 'Application',\n",
       "  'id': 'US-20190292540-A1',\n",
       "  'inventor_names': ['SINGH RAVINDRA N',\n",
       "   'SINGH NATALIA N',\n",
       "   'SINGH NIRMAL K',\n",
       "   'ANDROPHY ELLIOT J'],\n",
       "  'ipcr': ['C12N15/113', 'G01N33/68'],\n",
       "  'legal_status': 'Abandoned',\n",
       "  'priority_date': '2004-12-03',\n",
       "  'publication_date': '2019-09-26',\n",
       "  'times_cited': 9,\n",
       "  'title': 'SPINAL MUSCULAR ATROPHY (SMA) TREATMENT VIA TARGETING OF SMN2 SPLICE SITE INHIBITORY SEQUENCES',\n",
       "  'year': 2019},\n",
       " {'assignee_names': ['Brigham and Womens Hospital Inc',\n",
       "   'Indiana University Research and Technology Corp'],\n",
       "  'assignees': [{'acronym': 'BWH',\n",
       "    'city_name': 'Boston',\n",
       "    'country_code': 'US',\n",
       "    'country_name': 'United States',\n",
       "    'id': 'grid.62560.37',\n",
       "    'latitude': 42.3356,\n",
       "    'linkout': ['http://www.brighamandwomens.org/'],\n",
       "    'longitude': -71.106415,\n",
       "    'name': \"Brigham and Women's Hospital\",\n",
       "    'state_name': 'Massachusetts',\n",
       "    'types': ['Healthcare']},\n",
       "   {'acronym': 'IUPUI',\n",
       "    'city_name': 'Indianapolis',\n",
       "    'country_code': 'US',\n",
       "    'country_name': 'United States',\n",
       "    'id': 'grid.257413.6',\n",
       "    'latitude': 39.776966,\n",
       "    'linkout': ['http://www.iupui.edu/'],\n",
       "    'longitude': -86.16858,\n",
       "    'name': 'Indiana University – Purdue University Indianapolis',\n",
       "    'state_name': 'Indiana',\n",
       "    'types': ['Education']}],\n",
       "  'category_bra': [{'id': '4001', 'name': 'Clinical Medicine and Science'}],\n",
       "  'category_for': [{'id': '80003',\n",
       "    'name': '32 Biomedical and Clinical Sciences'},\n",
       "   {'id': '80003', 'name': '32 Biomedical and Clinical Sciences'},\n",
       "   {'id': '80052', 'name': '3209 Neurosciences'}],\n",
       "  'category_hra': [{'id': '3900', 'name': 'Biomedical'}],\n",
       "  'category_hrcs_hc': [{'id': '897', 'name': 'Neurological'}],\n",
       "  'category_hrcs_rac': [{'id': '10501', 'name': '5.1 Pharmaceuticals'}],\n",
       "  'category_rcdc': [{'id': '543', 'name': 'Orphan Drug'},\n",
       "   {'id': '483', 'name': 'Spinal Muscular Atrophy'},\n",
       "   {'id': '542', 'name': 'Neurodegenerative'},\n",
       "   {'id': '387', 'name': 'Neurosciences'},\n",
       "   {'id': '547', 'name': 'Pediatric'},\n",
       "   {'id': '559', 'name': 'Rare Diseases'}],\n",
       "  'cpc': ['A61K31/506',\n",
       "   'A61K31/501',\n",
       "   'A61K45/06',\n",
       "   'A61K31/426',\n",
       "   'A61K31/7125',\n",
       "   'A01K2227/105',\n",
       "   'A61K31/517',\n",
       "   'Y02A50/30',\n",
       "   'A61K31/437',\n",
       "   'A61K31/4418',\n",
       "   'A01K2267/0318',\n",
       "   'A61K31/422',\n",
       "   'A61K31/427',\n",
       "   'A61K31/444',\n",
       "   'A61K31/4709',\n",
       "   'A61K31/4704',\n",
       "   'A61P21/00',\n",
       "   'A61K31/4985'],\n",
       "  'date': '2018-01-05',\n",
       "  'family_count': 15,\n",
       "  'family_id': 59631461,\n",
       "  'federal_support': ['This invention was made with government support under HD064850 and NS088522 awarded by the National Institutes of Health. The government has certain rights in the invention. \\n    '],\n",
       "  'filing_date': '2018-01-05',\n",
       "  'filing_status': 'Application',\n",
       "  'id': 'US-20180235943-A1',\n",
       "  'inventor_names': ['ANDROPHY ELLIOT J',\n",
       "   'HODGETTS KEVIN',\n",
       "   'CALDER ALYSSA NICOLE'],\n",
       "  'ipcr': ['A61K31/444',\n",
       "   'A61K31/501',\n",
       "   'A61K31/4704',\n",
       "   'A61K31/506',\n",
       "   'A61K31/437'],\n",
       "  'legal_status': 'Granted',\n",
       "  'priority_date': '2016-02-23',\n",
       "  'publication_date': '2018-08-23',\n",
       "  'times_cited': 0,\n",
       "  'title': 'COMBINATION THERAPIES FOR TREATMENT OF SPINAL MUSCULAR ATROPHY',\n",
       "  'year': 2018},\n",
       " {'assignee_names': ['Brigham and Womens Hospital Inc',\n",
       "   'Indiana University Research and Technology Corp'],\n",
       "  'assignees': [{'acronym': 'BWH',\n",
       "    'city_name': 'Boston',\n",
       "    'country_code': 'US',\n",
       "    'country_name': 'United States',\n",
       "    'id': 'grid.62560.37',\n",
       "    'latitude': 42.3356,\n",
       "    'linkout': ['http://www.brighamandwomens.org/'],\n",
       "    'longitude': -71.106415,\n",
       "    'name': \"Brigham and Women's Hospital\",\n",
       "    'state_name': 'Massachusetts',\n",
       "    'types': ['Healthcare']},\n",
       "   {'acronym': 'IUPUI',\n",
       "    'city_name': 'Indianapolis',\n",
       "    'country_code': 'US',\n",
       "    'country_name': 'United States',\n",
       "    'id': 'grid.257413.6',\n",
       "    'latitude': 39.776966,\n",
       "    'linkout': ['http://www.iupui.edu/'],\n",
       "    'longitude': -86.16858,\n",
       "    'name': 'Indiana University – Purdue University Indianapolis',\n",
       "    'state_name': 'Indiana',\n",
       "    'types': ['Education']}],\n",
       "  'category_bra': [{'id': '4001', 'name': 'Clinical Medicine and Science'}],\n",
       "  'category_for': [{'id': '80003',\n",
       "    'name': '32 Biomedical and Clinical Sciences'},\n",
       "   {'id': '80003', 'name': '32 Biomedical and Clinical Sciences'},\n",
       "   {'id': '80052', 'name': '3209 Neurosciences'}],\n",
       "  'category_hra': [{'id': '3900', 'name': 'Biomedical'}],\n",
       "  'category_hrcs_hc': [{'id': '897', 'name': 'Neurological'}],\n",
       "  'category_hrcs_rac': [{'id': '10501', 'name': '5.1 Pharmaceuticals'}],\n",
       "  'category_rcdc': [{'id': '387', 'name': 'Neurosciences'},\n",
       "   {'id': '543', 'name': 'Orphan Drug'},\n",
       "   {'id': '483', 'name': 'Spinal Muscular Atrophy'},\n",
       "   {'id': '547', 'name': 'Pediatric'},\n",
       "   {'id': '542', 'name': 'Neurodegenerative'},\n",
       "   {'id': '559', 'name': 'Rare Diseases'}],\n",
       "  'cpc': ['A61K31/4985',\n",
       "   'A01K2227/105',\n",
       "   'A61K31/422',\n",
       "   'A61K31/7125',\n",
       "   'A61K31/4709',\n",
       "   'Y02A50/30',\n",
       "   'A61K31/437',\n",
       "   'A61K31/517',\n",
       "   'A61K31/426',\n",
       "   'A61K45/06',\n",
       "   'A61K31/501',\n",
       "   'A61K31/506',\n",
       "   'A61K31/427',\n",
       "   'A01K2267/0318',\n",
       "   'A61K31/4418',\n",
       "   'A61K31/4704',\n",
       "   'A61K31/444',\n",
       "   'A61P21/00'],\n",
       "  'date': '2017-02-23',\n",
       "  'family_count': 15,\n",
       "  'family_id': 59631461,\n",
       "  'federal_support': ['This invention was made with government support under HD064850 and NS088522 awarded by the National Institutes of Health. The U.S. Government has certain rights in the invention. \\n    '],\n",
       "  'filing_date': '2017-02-23',\n",
       "  'filing_status': 'Application',\n",
       "  'id': 'US-20170239225-A1',\n",
       "  'inventor_names': ['ANDROPHY ELLIOT J',\n",
       "   'HODGETTS KEVIN',\n",
       "   'CALDER ALYSSA NICOLE'],\n",
       "  'ipcr': ['A61K31/4704',\n",
       "   'A61K31/506',\n",
       "   'A61K31/444',\n",
       "   'A61K31/501',\n",
       "   'A61K31/437'],\n",
       "  'legal_status': 'Granted',\n",
       "  'priority_date': '2016-02-23',\n",
       "  'publication_date': '2017-08-24',\n",
       "  'times_cited': 11,\n",
       "  'title': 'COMBINATION THERAPIES FOR TREATMENT OF SPINAL MUSCULAR ATROPHY',\n",
       "  'year': 2017},\n",
       " {'assignee_names': ['University of Massachusetts UMass'],\n",
       "  'assignees': [{'city_name': 'Boston',\n",
       "    'country_code': 'US',\n",
       "    'country_name': 'United States',\n",
       "    'id': 'grid.266684.8',\n",
       "    'latitude': 42.312634,\n",
       "    'linkout': ['http://www.massachusetts.edu/'],\n",
       "    'longitude': -71.03584,\n",
       "    'name': 'University of Massachusetts System',\n",
       "    'state_name': 'Massachusetts',\n",
       "    'types': ['Education']}],\n",
       "  'category_bra': [{'id': '4001', 'name': 'Clinical Medicine and Science'}],\n",
       "  'category_for': [{'id': '80003',\n",
       "    'name': '32 Biomedical and Clinical Sciences'},\n",
       "   {'id': '80003', 'name': '32 Biomedical and Clinical Sciences'},\n",
       "   {'id': '80045', 'name': '3202 Clinical Sciences'}],\n",
       "  'category_hrcs_rac': [{'id': '10501', 'name': '5.1 Pharmaceuticals'}],\n",
       "  'category_rcdc': [{'id': '526', 'name': 'Genetics'},\n",
       "   {'id': '559', 'name': 'Rare Diseases'},\n",
       "   {'id': '543', 'name': 'Orphan Drug'},\n",
       "   {'id': '547', 'name': 'Pediatric'},\n",
       "   {'id': '542', 'name': 'Neurodegenerative'},\n",
       "   {'id': '483', 'name': 'Spinal Muscular Atrophy'}],\n",
       "  'cpc': ['C12N15/113',\n",
       "   'C12N2310/315',\n",
       "   'C12N2310/11',\n",
       "   'G01N2800/28',\n",
       "   'G01N2500/04',\n",
       "   'G01N33/6896',\n",
       "   'C12N2320/30',\n",
       "   'C12N2320/33',\n",
       "   'C12N2310/322',\n",
       "   'A61P21/00'],\n",
       "  'date': '2016-09-19',\n",
       "  'family_count': 12,\n",
       "  'family_id': 38861806,\n",
       "  'federal_support': ['Funding for the work described herein was at least in part provided by the federal government (N.I.H. grant R01 NS40275). The government may, therefore, have certain rights in the invention. \\n    '],\n",
       "  'filing_date': '2016-09-19',\n",
       "  'filing_status': 'Application',\n",
       "  'id': 'US-20170096664-A1',\n",
       "  'inventor_names': ['SINGH RAVINDRA N',\n",
       "   'SINGH NATALIA N',\n",
       "   'SINGH NIRMAL K',\n",
       "   'ANDROPHY ELLIOT J'],\n",
       "  'ipcr': ['C12N15/113'],\n",
       "  'legal_status': 'Granted',\n",
       "  'priority_date': '2004-12-03',\n",
       "  'publication_date': '2017-04-06',\n",
       "  'times_cited': 0,\n",
       "  'title': 'SPINAL MUSCULAR ATROPHY (SMA) TREATMENT VIA TARGETING OF SMN2 SPLICE SITE INHIBITORY SEQUENCES',\n",
       "  'year': 2016},\n",
       " {'assignee_names': ['Brigham and Womens Hospital Inc',\n",
       "   'University of Massachusetts UMass',\n",
       "   'Indiana University Research and Technology Corp'],\n",
       "  'assignees': [{'acronym': 'BWH',\n",
       "    'city_name': 'Boston',\n",
       "    'country_code': 'US',\n",
       "    'country_name': 'United States',\n",
       "    'id': 'grid.62560.37',\n",
       "    'latitude': 42.3356,\n",
       "    'linkout': ['http://www.brighamandwomens.org/'],\n",
       "    'longitude': -71.106415,\n",
       "    'name': \"Brigham and Women's Hospital\",\n",
       "    'state_name': 'Massachusetts',\n",
       "    'types': ['Healthcare']},\n",
       "   {'city_name': 'Boston',\n",
       "    'country_code': 'US',\n",
       "    'country_name': 'United States',\n",
       "    'id': 'grid.266684.8',\n",
       "    'latitude': 42.312634,\n",
       "    'linkout': ['http://www.massachusetts.edu/'],\n",
       "    'longitude': -71.03584,\n",
       "    'name': 'University of Massachusetts System',\n",
       "    'state_name': 'Massachusetts',\n",
       "    'types': ['Education']},\n",
       "   {'acronym': 'IUPUI',\n",
       "    'city_name': 'Indianapolis',\n",
       "    'country_code': 'US',\n",
       "    'country_name': 'United States',\n",
       "    'id': 'grid.257413.6',\n",
       "    'latitude': 39.776966,\n",
       "    'linkout': ['http://www.iupui.edu/'],\n",
       "    'longitude': -86.16858,\n",
       "    'name': 'Indiana University – Purdue University Indianapolis',\n",
       "    'state_name': 'Indiana',\n",
       "    'types': ['Education']}],\n",
       "  'category_for': [{'id': '80003',\n",
       "    'name': '32 Biomedical and Clinical Sciences'},\n",
       "   {'id': '80003', 'name': '32 Biomedical and Clinical Sciences'},\n",
       "   {'id': '80052', 'name': '3209 Neurosciences'}],\n",
       "  'category_hra': [{'id': '3900', 'name': 'Biomedical'}],\n",
       "  'category_hrcs_hc': [{'id': '897', 'name': 'Neurological'}],\n",
       "  'category_hrcs_rac': [{'id': '10501', 'name': '5.1 Pharmaceuticals'}],\n",
       "  'category_rcdc': [{'id': '483', 'name': 'Spinal Muscular Atrophy'},\n",
       "   {'id': '543', 'name': 'Orphan Drug'},\n",
       "   {'id': '559', 'name': 'Rare Diseases'},\n",
       "   {'id': '547', 'name': 'Pediatric'},\n",
       "   {'id': '542', 'name': 'Neurodegenerative'},\n",
       "   {'id': '387', 'name': 'Neurosciences'}],\n",
       "  'cpc': ['C07D401/04',\n",
       "   'C07D221/10',\n",
       "   'C07D213/75',\n",
       "   'C07D239/47',\n",
       "   'C07D487/04',\n",
       "   'C07D261/06',\n",
       "   'C07D417/12',\n",
       "   'C07K14/47',\n",
       "   'C07D417/04',\n",
       "   'C07D239/82',\n",
       "   'C07C311/37',\n",
       "   'C07D261/14',\n",
       "   'C07D405/12',\n",
       "   'C07D215/227',\n",
       "   'C07C2603/20',\n",
       "   'C07D263/48',\n",
       "   'C07D233/88',\n",
       "   'C07D277/46',\n",
       "   'C07D471/04',\n",
       "   'C07D215/44',\n",
       "   'C07C2601/08',\n",
       "   'C07D493/04',\n",
       "   'C07D261/18',\n",
       "   'C07D267/14',\n",
       "   'C07D413/12',\n",
       "   'C07D405/04',\n",
       "   'A61P21/00',\n",
       "   'C07D285/135',\n",
       "   'C07D231/14'],\n",
       "  'date': '2015-11-10',\n",
       "  'family_count': 10,\n",
       "  'family_id': 49916705,\n",
       "  'federal_support': ['This invention was made with government support under grant numbers HD064850 and NS064349 awarded by the National Institutes of Health. The U.S. Government has certain rights in the invention. \\n    '],\n",
       "  'filing_date': '2015-11-10',\n",
       "  'filing_status': 'Application',\n",
       "  'id': 'US-20160052935-A1',\n",
       "  'inventor_names': ['ANDROPHY ELLIOT',\n",
       "   'CUNY GREGORY D',\n",
       "   'CHERRY JONATHAN',\n",
       "   'GLICKSMAN MARCIE A'],\n",
       "  'ipcr': ['C07D277/46',\n",
       "   'C07D239/47',\n",
       "   'C07D215/44',\n",
       "   'C07D401/04',\n",
       "   'C07D487/04',\n",
       "   'C07D261/18',\n",
       "   'C07D215/227',\n",
       "   'C07D285/135',\n",
       "   'C07D261/14',\n",
       "   'C07D405/04',\n",
       "   'C07D233/88',\n",
       "   'C07D231/14',\n",
       "   'C07D493/04',\n",
       "   'C07D417/12',\n",
       "   'C07D221/10',\n",
       "   'C07D417/04',\n",
       "   'C07D263/48',\n",
       "   'C07D471/04',\n",
       "   'C07D267/14',\n",
       "   'C07D413/12',\n",
       "   'C07D239/82'],\n",
       "  'legal_status': 'Abandoned',\n",
       "  'priority_date': '2012-07-13',\n",
       "  'publication_date': '2016-02-25',\n",
       "  'times_cited': 0,\n",
       "  'title': 'COMPOUNDS FOR USE IN SCREENING METHODS FOR SPINAL MUSCULAR ATROPHY',\n",
       "  'year': 2015},\n",
       " {'assignee_names': ['Brigham and Womens Hospital Inc',\n",
       "   'University of Massachusetts UMass',\n",
       "   'Indiana University Research and Technology Corp'],\n",
       "  'assignees': [{'acronym': 'BWH',\n",
       "    'city_name': 'Boston',\n",
       "    'country_code': 'US',\n",
       "    'country_name': 'United States',\n",
       "    'id': 'grid.62560.37',\n",
       "    'latitude': 42.3356,\n",
       "    'linkout': ['http://www.brighamandwomens.org/'],\n",
       "    'longitude': -71.106415,\n",
       "    'name': \"Brigham and Women's Hospital\",\n",
       "    'state_name': 'Massachusetts',\n",
       "    'types': ['Healthcare']},\n",
       "   {'city_name': 'Boston',\n",
       "    'country_code': 'US',\n",
       "    'country_name': 'United States',\n",
       "    'id': 'grid.266684.8',\n",
       "    'latitude': 42.312634,\n",
       "    'linkout': ['http://www.massachusetts.edu/'],\n",
       "    'longitude': -71.03584,\n",
       "    'name': 'University of Massachusetts System',\n",
       "    'state_name': 'Massachusetts',\n",
       "    'types': ['Education']},\n",
       "   {'acronym': 'IUPUI',\n",
       "    'city_name': 'Indianapolis',\n",
       "    'country_code': 'US',\n",
       "    'country_name': 'United States',\n",
       "    'id': 'grid.257413.6',\n",
       "    'latitude': 39.776966,\n",
       "    'linkout': ['http://www.iupui.edu/'],\n",
       "    'longitude': -86.16858,\n",
       "    'name': 'Indiana University – Purdue University Indianapolis',\n",
       "    'state_name': 'Indiana',\n",
       "    'types': ['Education']}],\n",
       "  'category_for': [{'id': '80003',\n",
       "    'name': '32 Biomedical and Clinical Sciences'},\n",
       "   {'id': '80003', 'name': '32 Biomedical and Clinical Sciences'},\n",
       "   {'id': '80052', 'name': '3209 Neurosciences'}],\n",
       "  'category_hrcs_hc': [{'id': '897', 'name': 'Neurological'}],\n",
       "  'category_rcdc': [{'id': '543', 'name': 'Orphan Drug'},\n",
       "   {'id': '542', 'name': 'Neurodegenerative'},\n",
       "   {'id': '387', 'name': 'Neurosciences'},\n",
       "   {'id': '547', 'name': 'Pediatric'},\n",
       "   {'id': '483', 'name': 'Spinal Muscular Atrophy'},\n",
       "   {'id': '559', 'name': 'Rare Diseases'}],\n",
       "  'cpc': ['C07D239/82',\n",
       "   'C07D215/227',\n",
       "   'C07C2601/08',\n",
       "   'C07D233/88',\n",
       "   'C07D239/47',\n",
       "   'C07D471/04',\n",
       "   'C07D405/04',\n",
       "   'C07D405/12',\n",
       "   'C07D263/48',\n",
       "   'C07D401/04',\n",
       "   'C07D261/06',\n",
       "   'C07D493/04',\n",
       "   'C07D213/75',\n",
       "   'C07D417/04',\n",
       "   'C07C2603/20',\n",
       "   'C07D277/46',\n",
       "   'C07D417/12',\n",
       "   'A61P21/00',\n",
       "   'C07D267/14',\n",
       "   'C07D215/44',\n",
       "   'C07D285/135',\n",
       "   'C07D261/14',\n",
       "   'C07D221/10',\n",
       "   'C07D261/18',\n",
       "   'C07K14/47',\n",
       "   'C07C311/37',\n",
       "   'C07D231/14',\n",
       "   'C07D413/12',\n",
       "   'C07D487/04'],\n",
       "  'date': '2013-07-12',\n",
       "  'family_count': 10,\n",
       "  'family_id': 49916705,\n",
       "  'federal_support': ['This invention was made with government support under grant numbers HD064850 and NS064349 awarded by the National Institutes of Health. The U.S. Government has certain rights in the invention. \\n    '],\n",
       "  'filing_date': '2013-07-12',\n",
       "  'filing_status': 'Application',\n",
       "  'id': 'US-20140193906-A1',\n",
       "  'inventor_names': ['ANDROPHY ELLIOT',\n",
       "   'CUNY GREGORY D',\n",
       "   'CHERRY JONATHAN',\n",
       "   'GLICKSMAN MARCIE A'],\n",
       "  'ipcr': ['C07K14/47'],\n",
       "  'legal_status': 'Granted',\n",
       "  'priority_date': '2012-07-13',\n",
       "  'publication_date': '2014-07-10',\n",
       "  'times_cited': 7,\n",
       "  'title': 'SCREENING METHODS FOR SPINAL MUSCULAR ATROPHY',\n",
       "  'year': 2013},\n",
       " {'assignee_names': ['University of Massachusetts UMass'],\n",
       "  'assignees': [{'city_name': 'Boston',\n",
       "    'country_code': 'US',\n",
       "    'country_name': 'United States',\n",
       "    'id': 'grid.266684.8',\n",
       "    'latitude': 42.312634,\n",
       "    'linkout': ['http://www.massachusetts.edu/'],\n",
       "    'longitude': -71.03584,\n",
       "    'name': 'University of Massachusetts System',\n",
       "    'state_name': 'Massachusetts',\n",
       "    'types': ['Education']}],\n",
       "  'category_bra': [{'id': '4001', 'name': 'Clinical Medicine and Science'}],\n",
       "  'category_for': [{'id': '80003',\n",
       "    'name': '32 Biomedical and Clinical Sciences'},\n",
       "   {'id': '80003', 'name': '32 Biomedical and Clinical Sciences'},\n",
       "   {'id': '80045', 'name': '3202 Clinical Sciences'}],\n",
       "  'category_hrcs_rac': [{'id': '10501', 'name': '5.1 Pharmaceuticals'}],\n",
       "  'category_rcdc': [{'id': '542', 'name': 'Neurodegenerative'},\n",
       "   {'id': '483', 'name': 'Spinal Muscular Atrophy'},\n",
       "   {'id': '559', 'name': 'Rare Diseases'},\n",
       "   {'id': '543', 'name': 'Orphan Drug'},\n",
       "   {'id': '547', 'name': 'Pediatric'},\n",
       "   {'id': '526', 'name': 'Genetics'}],\n",
       "  'cpc': ['C12N2310/11',\n",
       "   'G01N2500/04',\n",
       "   'G01N2800/28',\n",
       "   'A61P21/00',\n",
       "   'C12N2320/30',\n",
       "   'G01N33/6896',\n",
       "   'C12N2310/315',\n",
       "   'C12N15/113',\n",
       "   'C12N2320/33',\n",
       "   'C12N2310/322'],\n",
       "  'date': '2013-10-15',\n",
       "  'family_count': 12,\n",
       "  'family_id': 38861806,\n",
       "  'federal_support': ['Funding for the work described herein was at least in part provided by the federal government (N.I.H. grant R01 NS40275). The government may, therefore, have certain rights in the invention. \\n    '],\n",
       "  'filing_date': '2013-10-15',\n",
       "  'filing_status': 'Application',\n",
       "  'id': 'US-20140066492-A1',\n",
       "  'inventor_names': ['SINGH RAVINDRA N',\n",
       "   'SINGH NATALIA N',\n",
       "   'SINGH NIRMAL K',\n",
       "   'ANDROPHY ELLIOT J'],\n",
       "  'ipcr': ['C12N15/113'],\n",
       "  'legal_status': 'Granted',\n",
       "  'priority_date': '2004-12-03',\n",
       "  'publication_date': '2014-03-06',\n",
       "  'times_cited': 3,\n",
       "  'title': 'SPINAL MUSCULAR ATROPHY (SMA) TREATMENT VIA TARGETING OF SMN2 SPLICE SITE INHIBITORY SEQUENCES',\n",
       "  'year': 2013},\n",
       " {'assignee_names': ['US Department of Health and Human Services',\n",
       "   'University of Massachusetts UMass'],\n",
       "  'assignees': [{'acronym': 'DHHS',\n",
       "    'city_name': 'Washington D.C.',\n",
       "    'country_code': 'US',\n",
       "    'country_name': 'United States',\n",
       "    'id': 'grid.27235.31',\n",
       "    'latitude': 38.886665,\n",
       "    'linkout': ['http://www.hhs.gov/'],\n",
       "    'longitude': -77.01444,\n",
       "    'name': 'United States Department of Health and Human Services',\n",
       "    'state_name': 'District of Columbia',\n",
       "    'types': ['Government']},\n",
       "   {'city_name': 'Boston',\n",
       "    'country_code': 'US',\n",
       "    'country_name': 'United States',\n",
       "    'id': 'grid.266684.8',\n",
       "    'latitude': 42.312634,\n",
       "    'linkout': ['http://www.massachusetts.edu/'],\n",
       "    'longitude': -71.03584,\n",
       "    'name': 'University of Massachusetts System',\n",
       "    'state_name': 'Massachusetts',\n",
       "    'types': ['Education']}],\n",
       "  'category_for': [{'id': '80005', 'name': '34 Chemical Sciences'},\n",
       "   {'id': '80066', 'name': '3402 Inorganic Chemistry'},\n",
       "   {'id': '80005', 'name': '34 Chemical Sciences'}],\n",
       "  'category_hrcs_hc': [{'id': '897', 'name': 'Neurological'}],\n",
       "  'category_hrcs_rac': [{'id': '10501', 'name': '5.1 Pharmaceuticals'}],\n",
       "  'category_rcdc': [{'id': '559', 'name': 'Rare Diseases'},\n",
       "   {'id': '483', 'name': 'Spinal Muscular Atrophy'},\n",
       "   {'id': '542', 'name': 'Neurodegenerative'},\n",
       "   {'id': '547', 'name': 'Pediatric'},\n",
       "   {'id': '387', 'name': 'Neurosciences'}],\n",
       "  'cpc': ['A61P21/00', 'C07D417/04', 'C07D417/14', 'C07D405/14', 'C07D401/04'],\n",
       "  'date': '2011-04-14',\n",
       "  'family_count': 2,\n",
       "  'family_id': 44070478,\n",
       "  'federal_support': ['This invention was made in part with government support from the National Institutes of Health. The government has certain rights in this invention. \\n    '],\n",
       "  'filing_date': '2011-04-14',\n",
       "  'filing_status': 'Application',\n",
       "  'id': 'US-20130096160-A1',\n",
       "  'inventor_names': ['MARUGAN JUAN JOSE',\n",
       "   'XIAO JINGBO',\n",
       "   'TITUS STEVEN A',\n",
       "   'SOUTHALL NOEL',\n",
       "   'ZHENG WEI',\n",
       "   'ANDROPHY ELLIOT J',\n",
       "   'CHERRY JONATHAN'],\n",
       "  'ipcr': ['C07D417/04'],\n",
       "  'legal_status': 'Abandoned',\n",
       "  'priority_date': '2010-04-14',\n",
       "  'publication_date': '2013-04-18',\n",
       "  'times_cited': 10,\n",
       "  'title': 'ARYLTHIAZOLYL PIPERIDINES AND RELATED COMPOUNDS AS MODULATORS OF SURVIVAL MOTOR NEURON (SMN) PROTEIN PRODUCTION',\n",
       "  'year': 2011},\n",
       " {'assignee_names': ['University of Massachusetts UMass'],\n",
       "  'assignees': [{'city_name': 'Boston',\n",
       "    'country_code': 'US',\n",
       "    'country_name': 'United States',\n",
       "    'id': 'grid.266684.8',\n",
       "    'latitude': 42.312634,\n",
       "    'linkout': ['http://www.massachusetts.edu/'],\n",
       "    'longitude': -71.03584,\n",
       "    'name': 'University of Massachusetts System',\n",
       "    'state_name': 'Massachusetts',\n",
       "    'types': ['Education']}],\n",
       "  'category_bra': [{'id': '4001', 'name': 'Clinical Medicine and Science'}],\n",
       "  'category_for': [{'id': '80003',\n",
       "    'name': '32 Biomedical and Clinical Sciences'},\n",
       "   {'id': '80003', 'name': '32 Biomedical and Clinical Sciences'},\n",
       "   {'id': '80045', 'name': '3202 Clinical Sciences'}],\n",
       "  'category_hrcs_rac': [{'id': '10501', 'name': '5.1 Pharmaceuticals'}],\n",
       "  'category_rcdc': [{'id': '526', 'name': 'Genetics'},\n",
       "   {'id': '543', 'name': 'Orphan Drug'},\n",
       "   {'id': '547', 'name': 'Pediatric'},\n",
       "   {'id': '542', 'name': 'Neurodegenerative'},\n",
       "   {'id': '483', 'name': 'Spinal Muscular Atrophy'},\n",
       "   {'id': '559', 'name': 'Rare Diseases'}],\n",
       "  'cpc': ['C12N2310/11',\n",
       "   'A61P21/00',\n",
       "   'G01N33/6896',\n",
       "   'C12N2320/30',\n",
       "   'C12N2310/322',\n",
       "   'C12N2310/315',\n",
       "   'C12N2320/33',\n",
       "   'G01N2500/04',\n",
       "   'C12N15/113',\n",
       "   'G01N2800/28'],\n",
       "  'date': '2011-12-19',\n",
       "  'family_count': 12,\n",
       "  'family_id': 38861806,\n",
       "  'federal_support': ['Funding for the work described herein was at least in part provided by the federal government (N.I.H. grant R01 NS40275). The government may, therefore, have certain rights in the invention. \\n    '],\n",
       "  'filing_date': '2011-12-19',\n",
       "  'filing_status': 'Application',\n",
       "  'id': 'US-20120165394-A1',\n",
       "  'inventor_names': ['SINGH RAVINDRA N',\n",
       "   'SINGH NATALIA N',\n",
       "   'SINGH NIRMAL K',\n",
       "   'ANDROPHY ELLIOT J'],\n",
       "  'ipcr': ['C12N5/07', 'C12N15/113', 'A61K31/7052', 'A61P21/00'],\n",
       "  'legal_status': 'Granted',\n",
       "  'priority_date': '2004-12-03',\n",
       "  'publication_date': '2012-06-28',\n",
       "  'times_cited': 22,\n",
       "  'title': 'SPINAL MUSCULAR ATROPHY (SMA) TREATMENT VIA TARGETING OF SMN2 SPLICE SITE INHIBITORY SEQUENCES',\n",
       "  'year': 2011},\n",
       " {'assignee_names': ['University of Massachusetts UMass', 'Tufts University'],\n",
       "  'assignees': [{'city_name': 'Boston',\n",
       "    'country_code': 'US',\n",
       "    'country_name': 'United States',\n",
       "    'id': 'grid.266684.8',\n",
       "    'latitude': 42.312634,\n",
       "    'linkout': ['http://www.massachusetts.edu/'],\n",
       "    'longitude': -71.03584,\n",
       "    'name': 'University of Massachusetts System',\n",
       "    'state_name': 'Massachusetts',\n",
       "    'types': ['Education']},\n",
       "   {'city_name': 'Medford',\n",
       "    'country_code': 'US',\n",
       "    'country_name': 'United States',\n",
       "    'id': 'grid.429997.8',\n",
       "    'latitude': 42.40983,\n",
       "    'linkout': ['http://www.tufts.edu/'],\n",
       "    'longitude': -71.12194,\n",
       "    'name': 'Tufts University',\n",
       "    'state_name': 'Massachusetts',\n",
       "    'types': ['Education']}],\n",
       "  'category_bra': [{'id': '4001', 'name': 'Clinical Medicine and Science'}],\n",
       "  'category_for': [{'id': '80003',\n",
       "    'name': '32 Biomedical and Clinical Sciences'},\n",
       "   {'id': '80056', 'name': '3213 Paediatrics'},\n",
       "   {'id': '80003', 'name': '32 Biomedical and Clinical Sciences'}],\n",
       "  'category_icrp_cso': [{'id': '3767',\n",
       "    'name': '5.3 Systemic Therapies - Discovery and Development'},\n",
       "   {'id': '3751',\n",
       "    'name': '2.1 Exogenous Factors in the Origin and Cause of Cancer'}],\n",
       "  'category_icrp_ct': [{'id': '3792', 'name': 'Cervical Cancer'},\n",
       "   {'id': '3785', 'name': 'Anal Cancer'}],\n",
       "  'cpc': ['A61K31/165', 'G01N2500/02', 'A61P31/20', 'G01N2333/025'],\n",
       "  'date': '2011-03-28',\n",
       "  'family_count': 5,\n",
       "  'family_id': 35394652,\n",
       "  'filing_date': '2011-03-28',\n",
       "  'filing_status': 'Application',\n",
       "  'id': 'US-20110172311-A1',\n",
       "  'inventor_names': ['ANDROPHY ELLIOT J', 'BALEJA JAMES D'],\n",
       "  'ipcr': ['G01N33/566', 'A61K31/167', 'C12Q1/70', 'A61P31/20', 'A61K31/165'],\n",
       "  'legal_status': 'Abandoned',\n",
       "  'priority_date': '2004-04-08',\n",
       "  'publication_date': '2011-07-14',\n",
       "  'times_cited': 0,\n",
       "  'title': 'Compounds For Treating Human Papillomavirus',\n",
       "  'year': 2011},\n",
       " {'assignee_names': ['University of Massachusetts UMass'],\n",
       "  'assignees': [{'city_name': 'Boston',\n",
       "    'country_code': 'US',\n",
       "    'country_name': 'United States',\n",
       "    'id': 'grid.266684.8',\n",
       "    'latitude': 42.312634,\n",
       "    'linkout': ['http://www.massachusetts.edu/'],\n",
       "    'longitude': -71.03584,\n",
       "    'name': 'University of Massachusetts System',\n",
       "    'state_name': 'Massachusetts',\n",
       "    'types': ['Education']}],\n",
       "  'category_bra': [{'id': '4001', 'name': 'Clinical Medicine and Science'}],\n",
       "  'category_for': [{'id': '80003',\n",
       "    'name': '32 Biomedical and Clinical Sciences'},\n",
       "   {'id': '80003', 'name': '32 Biomedical and Clinical Sciences'},\n",
       "   {'id': '80045', 'name': '3202 Clinical Sciences'}],\n",
       "  'category_hrcs_rac': [{'id': '10501', 'name': '5.1 Pharmaceuticals'}],\n",
       "  'category_rcdc': [{'id': '526', 'name': 'Genetics'},\n",
       "   {'id': '547', 'name': 'Pediatric'},\n",
       "   {'id': '542', 'name': 'Neurodegenerative'},\n",
       "   {'id': '559', 'name': 'Rare Diseases'},\n",
       "   {'id': '543', 'name': 'Orphan Drug'},\n",
       "   {'id': '483', 'name': 'Spinal Muscular Atrophy'}],\n",
       "  'cpc': ['C12N15/113',\n",
       "   'C12N2310/315',\n",
       "   'A61P21/00',\n",
       "   'G01N33/6896',\n",
       "   'C12N2320/33',\n",
       "   'C12N2310/322',\n",
       "   'G01N2800/28',\n",
       "   'C12N2310/11',\n",
       "   'C12N2320/30',\n",
       "   'G01N2500/04'],\n",
       "  'date': '2009-08-21',\n",
       "  'family_count': 12,\n",
       "  'family_id': 38861806,\n",
       "  'federal_support': ['Funding for the work described herein was at least in part provided by the federal government (N.I.H. grant R01 NS40275). The government may, therefore, have certain rights in the invention. \\n    '],\n",
       "  'filing_date': '2009-08-21',\n",
       "  'filing_status': 'Application',\n",
       "  'id': 'US-20100087511-A1',\n",
       "  'inventor_names': ['SINGH RAVINDRA N',\n",
       "   'SINGH NATALIA N',\n",
       "   'SINGH NIRMAL K',\n",
       "   'ANDROPHY ELLIOT J'],\n",
       "  'ipcr': ['C12N15/00', 'A61K31/7088', 'C12N15/113'],\n",
       "  'legal_status': 'Granted',\n",
       "  'priority_date': '2004-12-03',\n",
       "  'publication_date': '2010-04-08',\n",
       "  'times_cited': 34,\n",
       "  'title': 'SPINAL MUSCULAR ATROPHY (SMA) TREATMENT VIA TARGETING OF SMN2 SPLICE SITE INHIBITORY SEQUENCES',\n",
       "  'year': 2009},\n",
       " {'assignee_names': ['University of Massachusetts UMass'],\n",
       "  'assignees': [{'city_name': 'Boston',\n",
       "    'country_code': 'US',\n",
       "    'country_name': 'United States',\n",
       "    'id': 'grid.266684.8',\n",
       "    'latitude': 42.312634,\n",
       "    'linkout': ['http://www.massachusetts.edu/'],\n",
       "    'longitude': -71.03584,\n",
       "    'name': 'University of Massachusetts System',\n",
       "    'state_name': 'Massachusetts',\n",
       "    'types': ['Education']}],\n",
       "  'category_bra': [{'id': '4001', 'name': 'Clinical Medicine and Science'}],\n",
       "  'category_for': [{'id': '80003',\n",
       "    'name': '32 Biomedical and Clinical Sciences'},\n",
       "   {'id': '80003', 'name': '32 Biomedical and Clinical Sciences'},\n",
       "   {'id': '80045', 'name': '3202 Clinical Sciences'}],\n",
       "  'category_hrcs_rac': [{'id': '10501', 'name': '5.1 Pharmaceuticals'}],\n",
       "  'category_rcdc': [{'id': '547', 'name': 'Pediatric'},\n",
       "   {'id': '542', 'name': 'Neurodegenerative'},\n",
       "   {'id': '559', 'name': 'Rare Diseases'},\n",
       "   {'id': '526', 'name': 'Genetics'},\n",
       "   {'id': '483', 'name': 'Spinal Muscular Atrophy'},\n",
       "   {'id': '543', 'name': 'Orphan Drug'}],\n",
       "  'cpc': ['G01N2500/04',\n",
       "   'C12N2310/322',\n",
       "   'C12N2320/30',\n",
       "   'C12N15/113',\n",
       "   'C12N2310/315',\n",
       "   'A61P21/00',\n",
       "   'G01N2800/28',\n",
       "   'C12N2320/33',\n",
       "   'G01N33/6896',\n",
       "   'C12N2310/11'],\n",
       "  'date': '2005-12-05',\n",
       "  'family_count': 12,\n",
       "  'family_id': 38861806,\n",
       "  'federal_support': [' Funding for the work described herein was at least in part provided by the federal government (N.I.H. grant ROI NS40275). The government may, therefore, have certain rights in the invention. \\n    '],\n",
       "  'filing_date': '2005-12-05',\n",
       "  'filing_status': 'Application',\n",
       "  'id': 'US-20070292408-A1',\n",
       "  'inventor_names': ['SINGH RAVINDRA N',\n",
       "   'SINGH NATALIA N',\n",
       "   'SINGH NIRMAL K',\n",
       "   'ANDROPHY ELLIOT J'],\n",
       "  'ipcr': ['C12Q1/02',\n",
       "   'C07H21/04',\n",
       "   'C12N15/113',\n",
       "   'A61P21/00',\n",
       "   'A61K38/00',\n",
       "   'A61K48/00'],\n",
       "  'legal_status': 'Granted',\n",
       "  'priority_date': '2004-12-03',\n",
       "  'publication_date': '2007-12-20',\n",
       "  'times_cited': 103,\n",
       "  'title': 'Spinal Muscular Atrophy (SMA) treatment via targeting of SMN2 splice site inhibitory sequences',\n",
       "  'year': 2005},\n",
       " {'assignee_names': ['University of Massachusetts UMass', 'Tufts University'],\n",
       "  'assignees': [{'city_name': 'Boston',\n",
       "    'country_code': 'US',\n",
       "    'country_name': 'United States',\n",
       "    'id': 'grid.266684.8',\n",
       "    'latitude': 42.312634,\n",
       "    'linkout': ['http://www.massachusetts.edu/'],\n",
       "    'longitude': -71.03584,\n",
       "    'name': 'University of Massachusetts System',\n",
       "    'state_name': 'Massachusetts',\n",
       "    'types': ['Education']},\n",
       "   {'city_name': 'Medford',\n",
       "    'country_code': 'US',\n",
       "    'country_name': 'United States',\n",
       "    'id': 'grid.429997.8',\n",
       "    'latitude': 42.40983,\n",
       "    'linkout': ['http://www.tufts.edu/'],\n",
       "    'longitude': -71.12194,\n",
       "    'name': 'Tufts University',\n",
       "    'state_name': 'Massachusetts',\n",
       "    'types': ['Education']}],\n",
       "  'category_bra': [{'id': '4001', 'name': 'Clinical Medicine and Science'}],\n",
       "  'category_for': [{'id': '80003',\n",
       "    'name': '32 Biomedical and Clinical Sciences'},\n",
       "   {'id': '80056', 'name': '3213 Paediatrics'},\n",
       "   {'id': '80003', 'name': '32 Biomedical and Clinical Sciences'}],\n",
       "  'category_icrp_cso': [{'id': '3767',\n",
       "    'name': '5.3 Systemic Therapies - Discovery and Development'},\n",
       "   {'id': '3751',\n",
       "    'name': '2.1 Exogenous Factors in the Origin and Cause of Cancer'}],\n",
       "  'category_icrp_ct': [{'id': '3792', 'name': 'Cervical Cancer'},\n",
       "   {'id': '3785', 'name': 'Anal Cancer'}],\n",
       "  'cpc': ['A61P31/20', 'G01N2500/02', 'G01N2333/025', 'A61K31/165'],\n",
       "  'date': '2005-04-07',\n",
       "  'family_count': 5,\n",
       "  'family_id': 35394652,\n",
       "  'filing_date': '2005-04-07',\n",
       "  'filing_status': 'Application',\n",
       "  'id': 'US-20050250855-A1',\n",
       "  'inventor_names': ['ANDROPHY ELLIOT J', 'BALEJA JAMES D'],\n",
       "  'ipcr': ['A61K31/165', 'C12Q1/70'],\n",
       "  'legal_status': 'Granted',\n",
       "  'priority_date': '2004-04-08',\n",
       "  'publication_date': '2005-11-10',\n",
       "  'times_cited': 1,\n",
       "  'title': 'Compounds for treating human papillomavirus',\n",
       "  'year': 2005},\n",
       " {'assignee_names': ['Kovina Therapeutics Inc', 'Indiana University'],\n",
       "  'assignees': [{'acronym': 'IU',\n",
       "    'city_name': 'Bloomington',\n",
       "    'country_code': 'US',\n",
       "    'country_name': 'United States',\n",
       "    'id': 'grid.257410.5',\n",
       "    'latitude': 39.17106,\n",
       "    'linkout': ['http://www.iu.edu/'],\n",
       "    'longitude': -86.51388,\n",
       "    'name': 'Indiana University',\n",
       "    'state_name': 'Indiana',\n",
       "    'types': ['Education']}],\n",
       "  'category_bra': [{'id': '4000', 'name': 'Basic Science'}],\n",
       "  'category_for': [{'id': '80003',\n",
       "    'name': '32 Biomedical and Clinical Sciences'},\n",
       "   {'id': '80003', 'name': '32 Biomedical and Clinical Sciences'},\n",
       "   {'id': '80045', 'name': '3202 Clinical Sciences'}],\n",
       "  'category_hra': [{'id': '3900', 'name': 'Biomedical'}],\n",
       "  'category_hrcs_hc': [{'id': '898', 'name': 'Infection'},\n",
       "   {'id': '911', 'name': 'Cancer'}],\n",
       "  'category_hrcs_rac': [{'id': '10501', 'name': '5.1 Pharmaceuticals'}],\n",
       "  'category_icrp_cso': [{'id': '3751',\n",
       "    'name': '2.1 Exogenous Factors in the Origin and Cause of Cancer'},\n",
       "   {'id': '3767',\n",
       "    'name': '5.3 Systemic Therapies - Discovery and Development'}],\n",
       "  'category_icrp_ct': [{'id': '3792', 'name': 'Cervical Cancer'},\n",
       "   {'id': '3785', 'name': 'Anal Cancer'}],\n",
       "  'category_rcdc': [{'id': '476', 'name': 'Sexually Transmitted Infections'},\n",
       "   {'id': '527', 'name': 'HIV/AIDS'},\n",
       "   {'id': '317', 'name': 'Cervical Cancer'},\n",
       "   {'id': '503', 'name': 'Cancer'},\n",
       "   {'id': '533', 'name': 'Infectious Diseases'}],\n",
       "  'cpc': ['C07D495/04',\n",
       "   'A61K31/381',\n",
       "   'C07D487/04',\n",
       "   'C07D215/06',\n",
       "   'C07D217/04',\n",
       "   'A61P31/20',\n",
       "   'A61K38/10',\n",
       "   'A61K9/0002'],\n",
       "  'date': '2022-09-26',\n",
       "  'expiration_date': '2041-04-16',\n",
       "  'family_count': 8,\n",
       "  'family_id': 78083780,\n",
       "  'federal_support': ['This invention was made with government support under TR001108 awarded by the National Institutes of Health. The government has certain rights in the invention. \\n    '],\n",
       "  'filing_date': '2022-09-26',\n",
       "  'filing_status': 'Grant',\n",
       "  'granted_date': '2024-01-23',\n",
       "  'granted_year': 2024,\n",
       "  'id': 'US-11877999-B2',\n",
       "  'inventor_names': ['ANDROPHY ELLIOT J',\n",
       "   'MEROUEH SAMY',\n",
       "   'LU ZHIJIAN',\n",
       "   'RIETZ ANNE'],\n",
       "  'ipcr': ['C07D495/04',\n",
       "   'C07D487/04',\n",
       "   'A61K9/00',\n",
       "   'A61K38/10',\n",
       "   'A61P31/20',\n",
       "   'C07D215/06',\n",
       "   'A61K31/381'],\n",
       "  'legal_status': 'Active',\n",
       "  'priority_date': '2020-04-17',\n",
       "  'publication_date': '2024-01-23',\n",
       "  'publication_ids': ['pub.1035378564', 'pub.1055081080'],\n",
       "  'times_cited': 0,\n",
       "  'title': 'Small molecule antiviral drug treatment for human papillomavirus infections',\n",
       "  'year': 2022},\n",
       " {'assignee_names': ['Kovina Therapeutics Inc', 'Indiana University'],\n",
       "  'assignees': [{'acronym': 'IU',\n",
       "    'city_name': 'Bloomington',\n",
       "    'country_code': 'US',\n",
       "    'country_name': 'United States',\n",
       "    'id': 'grid.257410.5',\n",
       "    'latitude': 39.17106,\n",
       "    'linkout': ['http://www.iu.edu/'],\n",
       "    'longitude': -86.51388,\n",
       "    'name': 'Indiana University',\n",
       "    'state_name': 'Indiana',\n",
       "    'types': ['Education']}],\n",
       "  'category_bra': [{'id': '4000', 'name': 'Basic Science'}],\n",
       "  'category_for': [{'id': '80003',\n",
       "    'name': '32 Biomedical and Clinical Sciences'},\n",
       "   {'id': '80003', 'name': '32 Biomedical and Clinical Sciences'},\n",
       "   {'id': '80045', 'name': '3202 Clinical Sciences'}],\n",
       "  'category_hra': [{'id': '3900', 'name': 'Biomedical'}],\n",
       "  'category_hrcs_hc': [{'id': '898', 'name': 'Infection'},\n",
       "   {'id': '911', 'name': 'Cancer'}],\n",
       "  'category_hrcs_rac': [{'id': '10501', 'name': '5.1 Pharmaceuticals'}],\n",
       "  'category_icrp_cso': [{'id': '3751',\n",
       "    'name': '2.1 Exogenous Factors in the Origin and Cause of Cancer'},\n",
       "   {'id': '3767',\n",
       "    'name': '5.3 Systemic Therapies - Discovery and Development'}],\n",
       "  'category_icrp_ct': [{'id': '3792', 'name': 'Cervical Cancer'},\n",
       "   {'id': '3785', 'name': 'Anal Cancer'}],\n",
       "  'category_rcdc': [{'id': '533', 'name': 'Infectious Diseases'},\n",
       "   {'id': '476', 'name': 'Sexually Transmitted Infections'},\n",
       "   {'id': '503', 'name': 'Cancer'},\n",
       "   {'id': '317', 'name': 'Cervical Cancer'},\n",
       "   {'id': '527', 'name': 'HIV/AIDS'}],\n",
       "  'cpc': ['A61K31/381',\n",
       "   'C07D495/04',\n",
       "   'C07D217/04',\n",
       "   'C07D215/06',\n",
       "   'C07D487/04',\n",
       "   'A61K38/10',\n",
       "   'A61K9/0002',\n",
       "   'A61P31/20'],\n",
       "  'date': '2022-01-19',\n",
       "  'expiration_date': '2041-04-16',\n",
       "  'family_count': 8,\n",
       "  'family_id': 78083780,\n",
       "  'federal_support': ['This invention was made with government support under TR001108 awarded by the National Institutes of Health. The government has certain rights in the invention. \\n    '],\n",
       "  'filing_date': '2022-01-19',\n",
       "  'filing_status': 'Grant',\n",
       "  'granted_date': '2023-04-18',\n",
       "  'granted_year': 2023,\n",
       "  'id': 'US-11628158-B2',\n",
       "  'inventor_names': ['ANDROPHY ELLIOT J', 'MEROUEH SAMY', 'LU ZHIJIAN'],\n",
       "  'ipcr': ['A61K9/00',\n",
       "   'A61P31/20',\n",
       "   'C07D487/04',\n",
       "   'A61K31/381',\n",
       "   'C07D495/04',\n",
       "   'A61K38/10',\n",
       "   'C07D215/06'],\n",
       "  'legal_status': 'Active',\n",
       "  'priority_date': '2020-04-17',\n",
       "  'publication_date': '2023-04-18',\n",
       "  'publication_ids': ['pub.1035378564', 'pub.1055081080'],\n",
       "  'times_cited': 0,\n",
       "  'title': 'Small molecule antiviral drug treatment for human papillomavirus infections',\n",
       "  'year': 2022},\n",
       " {'assignee_names': ['Brigham and Womens Hospital Inc',\n",
       "   'Indiana University Research and Technology Corp'],\n",
       "  'assignees': [{'acronym': 'BWH',\n",
       "    'city_name': 'Boston',\n",
       "    'country_code': 'US',\n",
       "    'country_name': 'United States',\n",
       "    'id': 'grid.62560.37',\n",
       "    'latitude': 42.3356,\n",
       "    'linkout': ['http://www.brighamandwomens.org/'],\n",
       "    'longitude': -71.106415,\n",
       "    'name': \"Brigham and Women's Hospital\",\n",
       "    'state_name': 'Massachusetts',\n",
       "    'types': ['Healthcare']},\n",
       "   {'acronym': 'IUPUI',\n",
       "    'city_name': 'Indianapolis',\n",
       "    'country_code': 'US',\n",
       "    'country_name': 'United States',\n",
       "    'id': 'grid.257413.6',\n",
       "    'latitude': 39.776966,\n",
       "    'linkout': ['http://www.iupui.edu/'],\n",
       "    'longitude': -86.16858,\n",
       "    'name': 'Indiana University – Purdue University Indianapolis',\n",
       "    'state_name': 'Indiana',\n",
       "    'types': ['Education']}],\n",
       "  'category_bra': [{'id': '4001', 'name': 'Clinical Medicine and Science'}],\n",
       "  'category_for': [{'id': '80003',\n",
       "    'name': '32 Biomedical and Clinical Sciences'},\n",
       "   {'id': '80003', 'name': '32 Biomedical and Clinical Sciences'},\n",
       "   {'id': '80052', 'name': '3209 Neurosciences'}],\n",
       "  'category_hra': [{'id': '3900', 'name': 'Biomedical'}],\n",
       "  'category_hrcs_hc': [{'id': '897', 'name': 'Neurological'}],\n",
       "  'category_hrcs_rac': [{'id': '10501', 'name': '5.1 Pharmaceuticals'}],\n",
       "  'category_rcdc': [{'id': '542', 'name': 'Neurodegenerative'},\n",
       "   {'id': '543', 'name': 'Orphan Drug'},\n",
       "   {'id': '559', 'name': 'Rare Diseases'},\n",
       "   {'id': '547', 'name': 'Pediatric'},\n",
       "   {'id': '483', 'name': 'Spinal Muscular Atrophy'},\n",
       "   {'id': '387', 'name': 'Neurosciences'}],\n",
       "  'cpc': ['A61K31/437',\n",
       "   'A61K2300/00',\n",
       "   'A61K31/427',\n",
       "   'A61K31/422',\n",
       "   'A61K31/4709',\n",
       "   'A61K31/4704',\n",
       "   'A01K2267/0318',\n",
       "   'A61P21/00',\n",
       "   'A61K31/4985',\n",
       "   'A61K31/444',\n",
       "   'A61K31/517',\n",
       "   'Y02A50/30',\n",
       "   'A61K31/4418',\n",
       "   'A61K31/426',\n",
       "   'A61K31/501',\n",
       "   'A61K45/06',\n",
       "   'A01K2227/105',\n",
       "   'A61K31/7125',\n",
       "   'A61K31/506'],\n",
       "  'date': '2018-01-05',\n",
       "  'expiration_date': '2037-02-23',\n",
       "  'family_count': 15,\n",
       "  'family_id': 59631461,\n",
       "  'federal_support': ['This invention was made with government support under HD064850, NS064349, NS088522 and NS095139 awarded by the National Institutes of Health. The government has certain rights in the invention. \\n    '],\n",
       "  'filing_date': '2018-01-05',\n",
       "  'filing_status': 'Grant',\n",
       "  'granted_date': '2019-09-24',\n",
       "  'granted_year': 2019,\n",
       "  'id': 'US-10420753-B2',\n",
       "  'inventor_names': ['ANDROPHY ELLIOT J',\n",
       "   'HODGETTS KEVIN',\n",
       "   'CALDER ALYSSA NICOLE'],\n",
       "  'ipcr': ['A61K31/4709',\n",
       "   'A61K45/06',\n",
       "   'A61K31/444',\n",
       "   'A61K31/427',\n",
       "   'A61K31/517',\n",
       "   'A61K31/501',\n",
       "   'A61K31/4985',\n",
       "   'A61K31/7125',\n",
       "   'A61K31/437',\n",
       "   'A61K31/426',\n",
       "   'A61K31/422',\n",
       "   'A61K31/4704',\n",
       "   'A61K31/4418',\n",
       "   'A61K31/50',\n",
       "   'A61K31/506'],\n",
       "  'legal_status': 'Active',\n",
       "  'priority_date': '2016-02-23',\n",
       "  'publication_date': '2019-09-24',\n",
       "  'publication_ids': ['pub.1064353416',\n",
       "   'pub.1044259300',\n",
       "   'pub.1004943029',\n",
       "   'pub.1055100204',\n",
       "   'pub.1062446833',\n",
       "   'pub.1053209309'],\n",
       "  'times_cited': 0,\n",
       "  'title': 'Combination therapies for treatment of spinal muscular atrophy',\n",
       "  'year': 2018},\n",
       " {'assignee_names': ['University of Massachusetts UMass'],\n",
       "  'assignees': [{'city_name': 'Boston',\n",
       "    'country_code': 'US',\n",
       "    'country_name': 'United States',\n",
       "    'id': 'grid.266684.8',\n",
       "    'latitude': 42.312634,\n",
       "    'linkout': ['http://www.massachusetts.edu/'],\n",
       "    'longitude': -71.03584,\n",
       "    'name': 'University of Massachusetts System',\n",
       "    'state_name': 'Massachusetts',\n",
       "    'types': ['Education']}],\n",
       "  'category_bra': [{'id': '4001', 'name': 'Clinical Medicine and Science'}],\n",
       "  'category_for': [{'id': '80003',\n",
       "    'name': '32 Biomedical and Clinical Sciences'},\n",
       "   {'id': '80003', 'name': '32 Biomedical and Clinical Sciences'},\n",
       "   {'id': '80045', 'name': '3202 Clinical Sciences'}],\n",
       "  'category_hrcs_rac': [{'id': '10501', 'name': '5.1 Pharmaceuticals'}],\n",
       "  'category_rcdc': [{'id': '559', 'name': 'Rare Diseases'},\n",
       "   {'id': '526', 'name': 'Genetics'},\n",
       "   {'id': '547', 'name': 'Pediatric'},\n",
       "   {'id': '542', 'name': 'Neurodegenerative'},\n",
       "   {'id': '483', 'name': 'Spinal Muscular Atrophy'},\n",
       "   {'id': '543', 'name': 'Orphan Drug'}],\n",
       "  'cpc': ['C12N2310/322',\n",
       "   'C12N2310/315',\n",
       "   'G01N33/6896',\n",
       "   'C12N15/113',\n",
       "   'C12N2310/11',\n",
       "   'G01N2500/04',\n",
       "   'G01N2800/28',\n",
       "   'C12N2320/30',\n",
       "   'A61P21/00',\n",
       "   'C12N2320/33'],\n",
       "  'date': '2016-09-19',\n",
       "  'expiration_date': '2025-12-05',\n",
       "  'family_count': 12,\n",
       "  'family_id': 38861806,\n",
       "  'federal_support': ['This invention was made with government support under Grant No. NS040275 awarded by the National Institutes of Health. The Government has certain rights in the invention. \\n    '],\n",
       "  'filing_date': '2016-09-19',\n",
       "  'filing_status': 'Grant',\n",
       "  'granted_date': '2019-04-23',\n",
       "  'granted_year': 2019,\n",
       "  'id': 'US-10266822-B2',\n",
       "  'inventor_names': ['SINGH RAVINDRA N',\n",
       "   'SINGH NATALIA N',\n",
       "   'SINGH NIRMAL K',\n",
       "   'ANDROPHY ELLIOT J'],\n",
       "  'ipcr': ['G01N33/68', 'C12N15/113', 'C07H21/02', 'C07H21/04'],\n",
       "  'legal_status': 'Active',\n",
       "  'priority_date': '2004-12-03',\n",
       "  'publication_date': '2019-04-23',\n",
       "  'publication_ids': ['pub.1055153574',\n",
       "   'pub.1044955691',\n",
       "   'pub.1076857916',\n",
       "   'pub.1064347391',\n",
       "   'pub.1042767881',\n",
       "   'pub.1069185608',\n",
       "   'pub.1003091732',\n",
       "   'pub.1025801453',\n",
       "   'pub.1034456720',\n",
       "   'pub.1048196312',\n",
       "   'pub.1017698685',\n",
       "   'pub.1063416406',\n",
       "   'pub.1011784219',\n",
       "   'pub.1032899890',\n",
       "   'pub.1024078682',\n",
       "   'pub.1032998897',\n",
       "   'pub.1012008673',\n",
       "   'pub.1017528542',\n",
       "   'pub.1006789482',\n",
       "   'pub.1034982850',\n",
       "   'pub.1036956205',\n",
       "   'pub.1037582913',\n",
       "   'pub.1069180239'],\n",
       "  'times_cited': 4,\n",
       "  'title': 'Spinal muscular atrophy (SMA) treatment via targeting of SMN2 splice site inhibitory sequences',\n",
       "  'year': 2016},\n",
       " {'assignee_names': ['UNIV INDIANA RES & TECH CORP'],\n",
       "  'assignees': [{'acronym': 'IUPUI',\n",
       "    'city_name': 'Indianapolis',\n",
       "    'country_code': 'US',\n",
       "    'country_name': 'United States',\n",
       "    'id': 'grid.257413.6',\n",
       "    'latitude': 39.776966,\n",
       "    'linkout': ['http://www.iupui.edu/'],\n",
       "    'longitude': -86.16858,\n",
       "    'name': 'Indiana University – Purdue University Indianapolis',\n",
       "    'state_name': 'Indiana',\n",
       "    'types': ['Education']}],\n",
       "  'category_for': [{'id': '80008', 'name': '37 Earth Sciences'},\n",
       "   {'id': '80003', 'name': '32 Biomedical and Clinical Sciences'},\n",
       "   {'id': '80046', 'name': '3203 Dentistry'}],\n",
       "  'category_rcdc': [{'id': '483', 'name': 'Spinal Muscular Atrophy'},\n",
       "   {'id': '542', 'name': 'Neurodegenerative'},\n",
       "   {'id': '387', 'name': 'Neurosciences'},\n",
       "   {'id': '547', 'name': 'Pediatric'},\n",
       "   {'id': '559', 'name': 'Rare Diseases'}],\n",
       "  'cpc': ['A61K45/06',\n",
       "   'A61K31/427',\n",
       "   'A61K31/501',\n",
       "   'A61K31/506',\n",
       "   'A61K31/4985',\n",
       "   'A61K31/517',\n",
       "   'A61K31/4709',\n",
       "   'A01K2267/0318',\n",
       "   'A61K31/444',\n",
       "   'A61K31/7125',\n",
       "   'A61P21/00',\n",
       "   'A61K31/4704',\n",
       "   'Y02A50/30',\n",
       "   'A61K31/437',\n",
       "   'A01K2227/105',\n",
       "   'A61K31/422',\n",
       "   'A61K31/4418',\n",
       "   'A61K31/426'],\n",
       "  'date': '2017-02-23',\n",
       "  'family_count': 15,\n",
       "  'family_id': 59631461,\n",
       "  'filing_date': '2017-02-23',\n",
       "  'filing_status': 'N/A',\n",
       "  'id': 'MX-2018010109-A',\n",
       "  'inventor_names': ['ELLIOT J ANDROPHY',\n",
       "   'KEVIN HODGETTS',\n",
       "   'ALYSSA NICOLE CALDER'],\n",
       "  'ipcr': ['C07D513/04', 'A61K31/429', 'A61K31/4353'],\n",
       "  'legal_status': 'N/A',\n",
       "  'priority_date': '2016-02-23',\n",
       "  'publication_date': '2018-12-17',\n",
       "  'times_cited': 0,\n",
       "  'title': 'COMBINATION THERAPIES FOR TREATMENT OF SPINAL MUSCULAR ATROPHY.',\n",
       "  'year': 2017},\n",
       " {'assignee_names': ['New England Medical Center Hospitals Inc'],\n",
       "  'assignees': [{'city_name': 'Boston',\n",
       "    'country_code': 'US',\n",
       "    'country_name': 'United States',\n",
       "    'id': 'grid.67033.31',\n",
       "    'latitude': 42.34951,\n",
       "    'linkout': ['https://www.tuftsmedicalcenter.org/'],\n",
       "    'longitude': -71.06331,\n",
       "    'name': 'Tufts Medical Center',\n",
       "    'state_name': 'Massachusetts',\n",
       "    'types': ['Healthcare']}],\n",
       "  'category_bra': [{'id': '4000', 'name': 'Basic Science'}],\n",
       "  'category_for': [{'id': '80002', 'name': '31 Biological Sciences'},\n",
       "   {'id': '80041', 'name': '3108 Plant Biology'},\n",
       "   {'id': '80002', 'name': '31 Biological Sciences'}],\n",
       "  'category_hra': [{'id': '3900', 'name': 'Biomedical'}],\n",
       "  'category_rcdc': [{'id': '526', 'name': 'Genetics'}],\n",
       "  'cpc': ['C07K14/005',\n",
       "   'C12N2710/20022',\n",
       "   'C07K2319/00',\n",
       "   'A61K38/00',\n",
       "   'A61K31/70',\n",
       "   'C12N15/1131',\n",
       "   'C12N2310/13'],\n",
       "  'date': '1988-08-08',\n",
       "  'family_count': 9,\n",
       "  'family_id': 22180594,\n",
       "  'filing_date': '1988-08-08',\n",
       "  'filing_status': 'Application',\n",
       "  'id': 'JP-H01137970-A',\n",
       "  'inventor_names': ['ANDROPHY ELLIOT J', 'LOWY DOUGLAS R', 'SCHILLER JOHN T'],\n",
       "  'ipcr': ['C12N15/37',\n",
       "   'A61K38/00',\n",
       "   'C12N15/00',\n",
       "   'C07K14/025',\n",
       "   'C07H21/04',\n",
       "   'C07K14/01',\n",
       "   'C12N7/04',\n",
       "   'C12N15/113',\n",
       "   'C12N15/09'],\n",
       "  'legal_status': 'Pending',\n",
       "  'priority_date': '1987-08-07',\n",
       "  'publication_date': '1989-05-30',\n",
       "  'times_cited': 0,\n",
       "  'title': 'INHIBITOR FOR MANIFESTATION OF VIRUS',\n",
       "  'year': 1988},\n",
       " {'assignee_names': ['INDIANA UNIVERSITY RESEARCH & TECHNOLOGY CORPORATION',\n",
       "   'THE BRIGHAM AND WOMEN S HOSPITAL INC'],\n",
       "  'assignees': [{'acronym': 'IUPUI',\n",
       "    'city_name': 'Indianapolis',\n",
       "    'country_code': 'US',\n",
       "    'country_name': 'United States',\n",
       "    'id': 'grid.257413.6',\n",
       "    'latitude': 39.776966,\n",
       "    'linkout': ['http://www.iupui.edu/'],\n",
       "    'longitude': -86.16858,\n",
       "    'name': 'Indiana University – Purdue University Indianapolis',\n",
       "    'state_name': 'Indiana',\n",
       "    'types': ['Education']}],\n",
       "  'category_bra': [{'id': '4001', 'name': 'Clinical Medicine and Science'}],\n",
       "  'category_for': [{'id': '80003',\n",
       "    'name': '32 Biomedical and Clinical Sciences'},\n",
       "   {'id': '80003', 'name': '32 Biomedical and Clinical Sciences'},\n",
       "   {'id': '80052', 'name': '3209 Neurosciences'}],\n",
       "  'category_hra': [{'id': '3900', 'name': 'Biomedical'}],\n",
       "  'category_hrcs_hc': [{'id': '897', 'name': 'Neurological'}],\n",
       "  'category_hrcs_rac': [{'id': '10501', 'name': '5.1 Pharmaceuticals'}],\n",
       "  'category_rcdc': [{'id': '387', 'name': 'Neurosciences'},\n",
       "   {'id': '543', 'name': 'Orphan Drug'},\n",
       "   {'id': '483', 'name': 'Spinal Muscular Atrophy'},\n",
       "   {'id': '542', 'name': 'Neurodegenerative'},\n",
       "   {'id': '559', 'name': 'Rare Diseases'},\n",
       "   {'id': '547', 'name': 'Pediatric'}],\n",
       "  'date': '2018-08-20',\n",
       "  'family_count': 0,\n",
       "  'filing_date': '2018-08-20',\n",
       "  'filing_status': 'Application',\n",
       "  'id': 'IN-201817031111-A',\n",
       "  'inventor_names': ['ANDROPHY, ELLIOT J.',\n",
       "   'HODGETTS, KEVIN',\n",
       "   'CALDER, ALYSSA NICOLE'],\n",
       "  'ipcr': ['A61K31/4353', 'C07D513/04', 'A61K31/429'],\n",
       "  'legal_status': 'N/A',\n",
       "  'priority_date': '2016-02-23',\n",
       "  'publication_date': '2018-12-28',\n",
       "  'times_cited': 0,\n",
       "  'title': 'COMBINATION THERAPIES FOR TREATMENT OF SPINAL MUSCULAR ATROPHY',\n",
       "  'year': 2018},\n",
       " {'assignee_names': ['UNIV INDIANA RES & TECH CORP',\n",
       "   'THE BRIGHAM AND WOMEN’S HOSPITAL INC',\n",
       "   'ANDROPHY ELLIOT J',\n",
       "   'HODGETTS KEVIN',\n",
       "   'CALDER ALYSSA NICOLE'],\n",
       "  'assignees': [{'acronym': 'IUPUI',\n",
       "    'city_name': 'Indianapolis',\n",
       "    'country_code': 'US',\n",
       "    'country_name': 'United States',\n",
       "    'id': 'grid.257413.6',\n",
       "    'latitude': 39.776966,\n",
       "    'linkout': ['http://www.iupui.edu/'],\n",
       "    'longitude': -86.16858,\n",
       "    'name': 'Indiana University – Purdue University Indianapolis',\n",
       "    'state_name': 'Indiana',\n",
       "    'types': ['Education']},\n",
       "   {'acronym': 'BWH',\n",
       "    'city_name': 'Boston',\n",
       "    'country_code': 'US',\n",
       "    'country_name': 'United States',\n",
       "    'id': 'grid.62560.37',\n",
       "    'latitude': 42.3356,\n",
       "    'linkout': ['http://www.brighamandwomens.org/'],\n",
       "    'longitude': -71.106415,\n",
       "    'name': \"Brigham and Women's Hospital\",\n",
       "    'state_name': 'Massachusetts',\n",
       "    'types': ['Healthcare']}],\n",
       "  'cpc': ['A61K45/06',\n",
       "   'Y02A50/30',\n",
       "   'A61K31/517',\n",
       "   'A61K31/426',\n",
       "   'A61K31/501',\n",
       "   'A61K31/444',\n",
       "   'A61K31/437',\n",
       "   'A61K31/4985',\n",
       "   'A01K2267/0318',\n",
       "   'A61K31/506',\n",
       "   'A01K2227/105',\n",
       "   'A61K31/422',\n",
       "   'A61K31/7125',\n",
       "   'A61K31/4704',\n",
       "   'A61P21/00',\n",
       "   'A61K31/427',\n",
       "   'A61K31/4709',\n",
       "   'A61K31/4418'],\n",
       "  'date': '2018-08-21',\n",
       "  'family_count': 15,\n",
       "  'family_id': 59631461,\n",
       "  'filing_date': '2018-08-21',\n",
       "  'filing_status': 'N/A',\n",
       "  'id': 'IL-261277-A',\n",
       "  'inventor_names': ['ANDROPHY ELLIOT J',\n",
       "   'HODGETTS KEVIN',\n",
       "   'CALDER ALYSSA NICOLE'],\n",
       "  'legal_status': 'N/A',\n",
       "  'priority_date': '2016-02-23',\n",
       "  'publication_date': '2018-10-31',\n",
       "  'times_cited': 0,\n",
       "  'title': 'Combination therapies for treatment of spinal muscular atrophy',\n",
       "  'year': 2018},\n",
       " {'assignee_names': ['NEW ENGLAND MEDICAL CENTER INC', 'BIOGEN INC'],\n",
       "  'assignees': [{'city_name': 'Boston',\n",
       "    'country_code': 'US',\n",
       "    'country_name': 'United States',\n",
       "    'id': 'grid.67033.31',\n",
       "    'latitude': 42.34951,\n",
       "    'linkout': ['https://www.tuftsmedicalcenter.org/'],\n",
       "    'longitude': -71.06331,\n",
       "    'name': 'Tufts Medical Center',\n",
       "    'state_name': 'Massachusetts',\n",
       "    'types': ['Healthcare']},\n",
       "   {'city_name': 'Cambridge',\n",
       "    'country_code': 'US',\n",
       "    'country_name': 'United States',\n",
       "    'id': 'grid.417832.b',\n",
       "    'latitude': 42.36644,\n",
       "    'linkout': ['https://www.biogen.com/'],\n",
       "    'longitude': -71.08527,\n",
       "    'name': 'Biogen (United States)',\n",
       "    'state_name': 'Massachusetts',\n",
       "    'types': ['Company']}],\n",
       "  'date': '1995-06-30',\n",
       "  'family_count': 1,\n",
       "  'family_id': 10986576,\n",
       "  'filing_date': '1995-06-30',\n",
       "  'filing_status': 'N/A',\n",
       "  'id': 'HU-211629-A9',\n",
       "  'inventor_names': ['ANDROPHY ELLIOT J', 'BARSOUM JAMES G'],\n",
       "  'ipcr': ['C07K14/025', 'C12N15/37'],\n",
       "  'legal_status': 'N/A',\n",
       "  'priority_date': '1995-06-30',\n",
       "  'publication_date': '1995-12-28',\n",
       "  'times_cited': 0,\n",
       "  'title': 'PAPILLOMAVIRUS E2 TRANSACTIVATION REPRESSORS',\n",
       "  'year': 1995},\n",
       " {'assignee_names': ['New England Medical Center Hospitals Inc'],\n",
       "  'assignees': [{'city_name': 'Boston',\n",
       "    'country_code': 'US',\n",
       "    'country_name': 'United States',\n",
       "    'id': 'grid.67033.31',\n",
       "    'latitude': 42.34951,\n",
       "    'linkout': ['https://www.tuftsmedicalcenter.org/'],\n",
       "    'longitude': -71.06331,\n",
       "    'name': 'Tufts Medical Center',\n",
       "    'state_name': 'Massachusetts',\n",
       "    'types': ['Healthcare']}],\n",
       "  'category_bra': [{'id': '4000', 'name': 'Basic Science'}],\n",
       "  'category_for': [{'id': '80002', 'name': '31 Biological Sciences'},\n",
       "   {'id': '80041', 'name': '3108 Plant Biology'},\n",
       "   {'id': '80002', 'name': '31 Biological Sciences'}],\n",
       "  'category_hra': [{'id': '3900', 'name': 'Biomedical'}],\n",
       "  'category_rcdc': [{'id': '526', 'name': 'Genetics'}],\n",
       "  'cpc': ['C12N2310/13',\n",
       "   'C07K2319/00',\n",
       "   'C12N2710/20022',\n",
       "   'A61K38/00',\n",
       "   'A61K31/70',\n",
       "   'C07K14/005',\n",
       "   'C12N15/1131'],\n",
       "  'date': '1988-08-08',\n",
       "  'expiration_date': '2008-08-08',\n",
       "  'family_count': 9,\n",
       "  'family_id': 22180594,\n",
       "  'filing_date': '1988-08-08',\n",
       "  'filing_status': 'Grant',\n",
       "  'granted_date': '1994-12-16',\n",
       "  'granted_year': 1994,\n",
       "  'id': 'ES-2061661-T3',\n",
       "  'inventor_names': ['ANDROPHY ELLIOT J', 'LOWY DOUGLAS R', 'SCHILLER JOHN T'],\n",
       "  'ipcr': ['C12N7/04',\n",
       "   'C07K14/01',\n",
       "   'C07K14/025',\n",
       "   'C07H21/04',\n",
       "   'C12N15/09',\n",
       "   'C12N15/37',\n",
       "   'C12N15/113',\n",
       "   'A61K38/00'],\n",
       "  'legal_status': 'Expired - Lifetime',\n",
       "  'priority_date': '1987-08-07',\n",
       "  'publication_date': '1994-12-16',\n",
       "  'times_cited': 0,\n",
       "  'title': 'VIRIC EXPRESSION INHIBITORS.',\n",
       "  'year': 1988},\n",
       " {'assignee_names': ['Kovina Therapeutics Inc', 'Indiana University'],\n",
       "  'assignees': [{'acronym': 'IU',\n",
       "    'city_name': 'Bloomington',\n",
       "    'country_code': 'US',\n",
       "    'country_name': 'United States',\n",
       "    'id': 'grid.257410.5',\n",
       "    'latitude': 39.17106,\n",
       "    'linkout': ['http://www.iu.edu/'],\n",
       "    'longitude': -86.51388,\n",
       "    'name': 'Indiana University',\n",
       "    'state_name': 'Indiana',\n",
       "    'types': ['Education']}],\n",
       "  'category_bra': [{'id': '4000', 'name': 'Basic Science'}],\n",
       "  'category_for': [{'id': '80003',\n",
       "    'name': '32 Biomedical and Clinical Sciences'},\n",
       "   {'id': '80003', 'name': '32 Biomedical and Clinical Sciences'},\n",
       "   {'id': '80045', 'name': '3202 Clinical Sciences'}],\n",
       "  'category_hra': [{'id': '3900', 'name': 'Biomedical'}],\n",
       "  'category_hrcs_hc': [{'id': '898', 'name': 'Infection'},\n",
       "   {'id': '911', 'name': 'Cancer'}],\n",
       "  'category_hrcs_rac': [{'id': '10501', 'name': '5.1 Pharmaceuticals'}],\n",
       "  'category_icrp_cso': [{'id': '3751',\n",
       "    'name': '2.1 Exogenous Factors in the Origin and Cause of Cancer'},\n",
       "   {'id': '3767',\n",
       "    'name': '5.3 Systemic Therapies - Discovery and Development'}],\n",
       "  'category_icrp_ct': [{'id': '3792', 'name': 'Cervical Cancer'},\n",
       "   {'id': '3785', 'name': 'Anal Cancer'}],\n",
       "  'cpc': ['C07D495/04',\n",
       "   'A61P31/20',\n",
       "   'C07D217/04',\n",
       "   'A61K38/10',\n",
       "   'C07D487/04',\n",
       "   'A61K31/381',\n",
       "   'A61K9/0002',\n",
       "   'C07D215/06'],\n",
       "  'date': '2021-04-16',\n",
       "  'family_count': 8,\n",
       "  'family_id': 78083780,\n",
       "  'filing_date': '2021-04-16',\n",
       "  'filing_status': 'Application',\n",
       "  'id': 'EP-4135698-A2',\n",
       "  'inventor_names': ['ANDROPHY ELLIOT J', 'MEROUEH SAMY', 'LU ZHIJIAN'],\n",
       "  'ipcr': ['A61K31/496', 'A61K31/7068'],\n",
       "  'legal_status': 'Pending',\n",
       "  'priority_date': '2020-04-17',\n",
       "  'publication_date': '2023-02-22',\n",
       "  'times_cited': 0,\n",
       "  'title': 'SMALL MOLECULE ANTIVIRAL DRUG TREATMENT FOR HUMAN PAPILLOMAVIRUS INFECTIONS',\n",
       "  'year': 2021},\n",
       " {'assignee_names': ['Brigham and Womens Hospital Inc',\n",
       "   'Indiana University Research and Technology Corp'],\n",
       "  'assignees': [{'acronym': 'BWH',\n",
       "    'city_name': 'Boston',\n",
       "    'country_code': 'US',\n",
       "    'country_name': 'United States',\n",
       "    'id': 'grid.62560.37',\n",
       "    'latitude': 42.3356,\n",
       "    'linkout': ['http://www.brighamandwomens.org/'],\n",
       "    'longitude': -71.106415,\n",
       "    'name': \"Brigham and Women's Hospital\",\n",
       "    'state_name': 'Massachusetts',\n",
       "    'types': ['Healthcare']},\n",
       "   {'acronym': 'IUPUI',\n",
       "    'city_name': 'Indianapolis',\n",
       "    'country_code': 'US',\n",
       "    'country_name': 'United States',\n",
       "    'id': 'grid.257413.6',\n",
       "    'latitude': 39.776966,\n",
       "    'linkout': ['http://www.iupui.edu/'],\n",
       "    'longitude': -86.16858,\n",
       "    'name': 'Indiana University – Purdue University Indianapolis',\n",
       "    'state_name': 'Indiana',\n",
       "    'types': ['Education']}],\n",
       "  'cpc': ['A61K31/7125',\n",
       "   'A61K31/426',\n",
       "   'A61P21/00',\n",
       "   'Y02A50/30',\n",
       "   'A61K31/4985',\n",
       "   'A61K31/422',\n",
       "   'A61K31/501',\n",
       "   'A61K31/444',\n",
       "   'A61K31/506',\n",
       "   'A01K2267/0318',\n",
       "   'A01K2227/105',\n",
       "   'A61K45/06',\n",
       "   'A61K31/4418',\n",
       "   'A61K31/427',\n",
       "   'A61K31/4709',\n",
       "   'A61K31/437',\n",
       "   'A61K31/517',\n",
       "   'A61K31/4704'],\n",
       "  'date': '2017-02-23',\n",
       "  'family_count': 15,\n",
       "  'family_id': 59631461,\n",
       "  'filing_date': '2017-02-23',\n",
       "  'filing_status': 'Application',\n",
       "  'id': 'EP-3419981-A4',\n",
       "  'inventor_names': ['ANDROPHY ELLIOT J',\n",
       "   'HODGETTS KEVIN',\n",
       "   'CALDER ALYSSA NICOLE'],\n",
       "  'ipcr': ['A61K31/4353', 'A61P21/00', 'A61K31/429'],\n",
       "  'legal_status': 'Withdrawn',\n",
       "  'priority_date': '2016-02-23',\n",
       "  'publication_date': '2019-09-18',\n",
       "  'publication_ids': ['pub.1031149987'],\n",
       "  'times_cited': 0,\n",
       "  'title': 'COMBINATION THERAPIES FOR TREATMENT OF SPINAL MUSCULAR ATROPHY',\n",
       "  'year': 2017},\n",
       " {'assignee_names': ['Brigham and Womens Hospital Inc',\n",
       "   'Indiana University Research and Technology Corp'],\n",
       "  'assignees': [{'acronym': 'BWH',\n",
       "    'city_name': 'Boston',\n",
       "    'country_code': 'US',\n",
       "    'country_name': 'United States',\n",
       "    'id': 'grid.62560.37',\n",
       "    'latitude': 42.3356,\n",
       "    'linkout': ['http://www.brighamandwomens.org/'],\n",
       "    'longitude': -71.106415,\n",
       "    'name': \"Brigham and Women's Hospital\",\n",
       "    'state_name': 'Massachusetts',\n",
       "    'types': ['Healthcare']},\n",
       "   {'acronym': 'IUPUI',\n",
       "    'city_name': 'Indianapolis',\n",
       "    'country_code': 'US',\n",
       "    'country_name': 'United States',\n",
       "    'id': 'grid.257413.6',\n",
       "    'latitude': 39.776966,\n",
       "    'linkout': ['http://www.iupui.edu/'],\n",
       "    'longitude': -86.16858,\n",
       "    'name': 'Indiana University – Purdue University Indianapolis',\n",
       "    'state_name': 'Indiana',\n",
       "    'types': ['Education']}],\n",
       "  'category_bra': [{'id': '4001', 'name': 'Clinical Medicine and Science'}],\n",
       "  'category_for': [{'id': '80003',\n",
       "    'name': '32 Biomedical and Clinical Sciences'},\n",
       "   {'id': '80003', 'name': '32 Biomedical and Clinical Sciences'},\n",
       "   {'id': '80052', 'name': '3209 Neurosciences'}],\n",
       "  'category_hra': [{'id': '3900', 'name': 'Biomedical'}],\n",
       "  'category_hrcs_hc': [{'id': '897', 'name': 'Neurological'}],\n",
       "  'category_hrcs_rac': [{'id': '10501', 'name': '5.1 Pharmaceuticals'}],\n",
       "  'category_rcdc': [{'id': '542', 'name': 'Neurodegenerative'},\n",
       "   {'id': '547', 'name': 'Pediatric'},\n",
       "   {'id': '559', 'name': 'Rare Diseases'},\n",
       "   {'id': '387', 'name': 'Neurosciences'},\n",
       "   {'id': '543', 'name': 'Orphan Drug'},\n",
       "   {'id': '483', 'name': 'Spinal Muscular Atrophy'}],\n",
       "  'cpc': ['A61K31/422',\n",
       "   'A61K45/06',\n",
       "   'A61K31/444',\n",
       "   'A61K31/4985',\n",
       "   'A61K31/426',\n",
       "   'A61K31/4418',\n",
       "   'A61K31/7125',\n",
       "   'A61K31/427',\n",
       "   'A61K31/501',\n",
       "   'A61K31/506',\n",
       "   'A61K31/517',\n",
       "   'A01K2267/0318',\n",
       "   'A61K31/4704',\n",
       "   'A61K31/437',\n",
       "   'Y02A50/30',\n",
       "   'A61K31/4709',\n",
       "   'A01K2227/105',\n",
       "   'A61P21/00'],\n",
       "  'date': '2017-02-23',\n",
       "  'family_count': 15,\n",
       "  'family_id': 59631461,\n",
       "  'filing_date': '2017-02-23',\n",
       "  'filing_status': 'Application',\n",
       "  'id': 'EP-3419981-A1',\n",
       "  'inventor_names': ['ANDROPHY ELLIOT J',\n",
       "   'HODGETTS KEVIN',\n",
       "   'CALDER ALYSSA NICOLE'],\n",
       "  'ipcr': ['A61K31/4353', 'C07D513/04', 'A61K31/429'],\n",
       "  'legal_status': 'Withdrawn',\n",
       "  'priority_date': '2016-02-23',\n",
       "  'publication_date': '2019-01-02',\n",
       "  'times_cited': 0,\n",
       "  'title': 'COMBINATION THERAPIES FOR TREATMENT OF SPINAL MUSCULAR ATROPHY',\n",
       "  'year': 2017},\n",
       " {'assignee_names': ['Brigham and Womens Hospital Inc',\n",
       "   'University of Massachusetts UMass',\n",
       "   'Indiana University Research and Technology Corp'],\n",
       "  'assignees': [{'acronym': 'BWH',\n",
       "    'city_name': 'Boston',\n",
       "    'country_code': 'US',\n",
       "    'country_name': 'United States',\n",
       "    'id': 'grid.62560.37',\n",
       "    'latitude': 42.3356,\n",
       "    'linkout': ['http://www.brighamandwomens.org/'],\n",
       "    'longitude': -71.106415,\n",
       "    'name': \"Brigham and Women's Hospital\",\n",
       "    'state_name': 'Massachusetts',\n",
       "    'types': ['Healthcare']},\n",
       "   {'city_name': 'Boston',\n",
       "    'country_code': 'US',\n",
       "    'country_name': 'United States',\n",
       "    'id': 'grid.266684.8',\n",
       "    'latitude': 42.312634,\n",
       "    'linkout': ['http://www.massachusetts.edu/'],\n",
       "    'longitude': -71.03584,\n",
       "    'name': 'University of Massachusetts System',\n",
       "    'state_name': 'Massachusetts',\n",
       "    'types': ['Education']},\n",
       "   {'acronym': 'IUPUI',\n",
       "    'city_name': 'Indianapolis',\n",
       "    'country_code': 'US',\n",
       "    'country_name': 'United States',\n",
       "    'id': 'grid.257413.6',\n",
       "    'latitude': 39.776966,\n",
       "    'linkout': ['http://www.iupui.edu/'],\n",
       "    'longitude': -86.16858,\n",
       "    'name': 'Indiana University – Purdue University Indianapolis',\n",
       "    'state_name': 'Indiana',\n",
       "    'types': ['Education']}],\n",
       "  'cpc': ['C07D285/135',\n",
       "   'A61P21/00',\n",
       "   'C07D261/06',\n",
       "   'C07D487/04',\n",
       "   'C07D405/12',\n",
       "   'C07D261/18',\n",
       "   'C07K14/47',\n",
       "   'C07D215/44',\n",
       "   'C07D261/14',\n",
       "   'C07D417/04',\n",
       "   'C07C2603/20',\n",
       "   'C07D221/10',\n",
       "   'C07D239/82',\n",
       "   'C07D401/04',\n",
       "   'C07D417/12',\n",
       "   'C07D413/12',\n",
       "   'C07D493/04',\n",
       "   'C07D233/88',\n",
       "   'C07D405/04',\n",
       "   'C07D239/47',\n",
       "   'C07C2601/08',\n",
       "   'C07D231/14',\n",
       "   'C07D213/75',\n",
       "   'C07C311/37',\n",
       "   'C07D267/14',\n",
       "   'C07D277/46',\n",
       "   'C07D215/227',\n",
       "   'C07D471/04',\n",
       "   'C07D263/48'],\n",
       "  'date': '2013-07-12',\n",
       "  'expiration_date': '2033-07-12',\n",
       "  'family_count': 10,\n",
       "  'family_id': 49916705,\n",
       "  'filing_date': '2013-07-12',\n",
       "  'filing_status': 'Grant',\n",
       "  'granted_date': '2018-11-14',\n",
       "  'granted_year': 2018,\n",
       "  'id': 'EP-2872493-B1',\n",
       "  'inventor_names': ['ANDROPHY ELLIOT J',\n",
       "   'CHERRY JONATHON J',\n",
       "   'CUNY GREGORY D',\n",
       "   'GLICKSMAN MARCIE A'],\n",
       "  'ipcr': ['A61P21/00', 'C07D261/06', 'A61K31/42', 'C07D413/12'],\n",
       "  'legal_status': 'Active',\n",
       "  'priority_date': '2012-07-13',\n",
       "  'publication_date': '2018-11-14',\n",
       "  'publication_ids': ['pub.1021095024', 'pub.1017789655'],\n",
       "  'times_cited': 0,\n",
       "  'title': '5,6,7-TRIMETHOXY 4-PHENYL QUINOLIN-2-ONE DERIVATIVES FOR TREATMENT OF SPINAL MUSCULAR ATROPHY',\n",
       "  'year': 2013},\n",
       " {'assignee_names': ['Brigham and Womens Hospital Inc',\n",
       "   'University of Massachusetts UMass',\n",
       "   'Indiana University Research and Technology Corp'],\n",
       "  'assignees': [{'acronym': 'BWH',\n",
       "    'city_name': 'Boston',\n",
       "    'country_code': 'US',\n",
       "    'country_name': 'United States',\n",
       "    'id': 'grid.62560.37',\n",
       "    'latitude': 42.3356,\n",
       "    'linkout': ['http://www.brighamandwomens.org/'],\n",
       "    'longitude': -71.106415,\n",
       "    'name': \"Brigham and Women's Hospital\",\n",
       "    'state_name': 'Massachusetts',\n",
       "    'types': ['Healthcare']},\n",
       "   {'city_name': 'Boston',\n",
       "    'country_code': 'US',\n",
       "    'country_name': 'United States',\n",
       "    'id': 'grid.266684.8',\n",
       "    'latitude': 42.312634,\n",
       "    'linkout': ['http://www.massachusetts.edu/'],\n",
       "    'longitude': -71.03584,\n",
       "    'name': 'University of Massachusetts System',\n",
       "    'state_name': 'Massachusetts',\n",
       "    'types': ['Education']},\n",
       "   {'acronym': 'IUPUI',\n",
       "    'city_name': 'Indianapolis',\n",
       "    'country_code': 'US',\n",
       "    'country_name': 'United States',\n",
       "    'id': 'grid.257413.6',\n",
       "    'latitude': 39.776966,\n",
       "    'linkout': ['http://www.iupui.edu/'],\n",
       "    'longitude': -86.16858,\n",
       "    'name': 'Indiana University – Purdue University Indianapolis',\n",
       "    'state_name': 'Indiana',\n",
       "    'types': ['Education']}],\n",
       "  'cpc': ['C07D261/18',\n",
       "   'C07D285/135',\n",
       "   'C07D417/04',\n",
       "   'C07C2601/08',\n",
       "   'C07D401/04',\n",
       "   'C07C2603/20',\n",
       "   'C07D417/12',\n",
       "   'C07D277/46',\n",
       "   'C07D261/06',\n",
       "   'C07D239/82',\n",
       "   'C07D487/04',\n",
       "   'C07D263/48',\n",
       "   'A61P21/00',\n",
       "   'C07D471/04',\n",
       "   'C07D215/227',\n",
       "   'C07D261/14',\n",
       "   'C07D233/88',\n",
       "   'C07D493/04',\n",
       "   'C07K14/47',\n",
       "   'C07D215/44',\n",
       "   'C07D405/12',\n",
       "   'C07D405/04',\n",
       "   'C07D239/47',\n",
       "   'C07C311/37',\n",
       "   'C07D267/14',\n",
       "   'C07D231/14',\n",
       "   'C07D213/75',\n",
       "   'C07D413/12',\n",
       "   'C07D221/10'],\n",
       "  'date': '2013-07-12',\n",
       "  'family_count': 10,\n",
       "  'family_id': 49916705,\n",
       "  'filing_date': '2013-07-12',\n",
       "  'filing_status': 'Application',\n",
       "  'id': 'EP-2872493-A4',\n",
       "  'inventor_names': ['ANDROPHY ELLIOT J',\n",
       "   'CHERRY JONATHON J',\n",
       "   'CUNY GREGORY D',\n",
       "   'GLICKSMAN MARCIE A'],\n",
       "  'ipcr': ['C07D413/12', 'C07D261/06', 'A61P21/00', 'A61K31/42'],\n",
       "  'legal_status': 'Granted',\n",
       "  'priority_date': '2012-07-13',\n",
       "  'publication_date': '2016-04-13',\n",
       "  'times_cited': 0,\n",
       "  'title': 'COMPOUNDS FOR TREATMENT OF SPINAL MUSCULAR ATROPHY',\n",
       "  'year': 2013},\n",
       " {'assignee_names': ['Brigham and Womens Hospital Inc',\n",
       "   'University of Massachusetts UMass',\n",
       "   'Indiana University Research and Technology Corp'],\n",
       "  'assignees': [{'acronym': 'BWH',\n",
       "    'city_name': 'Boston',\n",
       "    'country_code': 'US',\n",
       "    'country_name': 'United States',\n",
       "    'id': 'grid.62560.37',\n",
       "    'latitude': 42.3356,\n",
       "    'linkout': ['http://www.brighamandwomens.org/'],\n",
       "    'longitude': -71.106415,\n",
       "    'name': \"Brigham and Women's Hospital\",\n",
       "    'state_name': 'Massachusetts',\n",
       "    'types': ['Healthcare']},\n",
       "   {'city_name': 'Boston',\n",
       "    'country_code': 'US',\n",
       "    'country_name': 'United States',\n",
       "    'id': 'grid.266684.8',\n",
       "    'latitude': 42.312634,\n",
       "    'linkout': ['http://www.massachusetts.edu/'],\n",
       "    'longitude': -71.03584,\n",
       "    'name': 'University of Massachusetts System',\n",
       "    'state_name': 'Massachusetts',\n",
       "    'types': ['Education']},\n",
       "   {'acronym': 'IUPUI',\n",
       "    'city_name': 'Indianapolis',\n",
       "    'country_code': 'US',\n",
       "    'country_name': 'United States',\n",
       "    'id': 'grid.257413.6',\n",
       "    'latitude': 39.776966,\n",
       "    'linkout': ['http://www.iupui.edu/'],\n",
       "    'longitude': -86.16858,\n",
       "    'name': 'Indiana University – Purdue University Indianapolis',\n",
       "    'state_name': 'Indiana',\n",
       "    'types': ['Education']}],\n",
       "  'category_bra': [{'id': '4001', 'name': 'Clinical Medicine and Science'}],\n",
       "  'category_for': [{'id': '80003',\n",
       "    'name': '32 Biomedical and Clinical Sciences'},\n",
       "   {'id': '80003', 'name': '32 Biomedical and Clinical Sciences'},\n",
       "   {'id': '80052', 'name': '3209 Neurosciences'}],\n",
       "  'category_hra': [{'id': '3900', 'name': 'Biomedical'}],\n",
       "  'category_hrcs_hc': [{'id': '897', 'name': 'Neurological'}],\n",
       "  'category_hrcs_rac': [{'id': '10501', 'name': '5.1 Pharmaceuticals'}],\n",
       "  'category_rcdc': [{'id': '559', 'name': 'Rare Diseases'},\n",
       "   {'id': '542', 'name': 'Neurodegenerative'},\n",
       "   {'id': '543', 'name': 'Orphan Drug'},\n",
       "   {'id': '483', 'name': 'Spinal Muscular Atrophy'},\n",
       "   {'id': '387', 'name': 'Neurosciences'},\n",
       "   {'id': '547', 'name': 'Pediatric'}],\n",
       "  'cpc': ['C07D263/48',\n",
       "   'C07D405/12',\n",
       "   'C07D239/82',\n",
       "   'C07D233/88',\n",
       "   'C07D215/227',\n",
       "   'C07D261/06',\n",
       "   'C07C2601/08',\n",
       "   'C07D413/12',\n",
       "   'C07D267/14',\n",
       "   'C07D493/04',\n",
       "   'C07D487/04',\n",
       "   'C07D471/04',\n",
       "   'C07D277/46',\n",
       "   'C07C2603/20',\n",
       "   'C07D221/10',\n",
       "   'C07C311/37',\n",
       "   'C07D261/18',\n",
       "   'C07K14/47',\n",
       "   'C07D401/04',\n",
       "   'A61P21/00',\n",
       "   'C07D213/75',\n",
       "   'C07D231/14',\n",
       "   'C07D215/44',\n",
       "   'C07D417/04',\n",
       "   'C07D285/135',\n",
       "   'C07D239/47',\n",
       "   'C07D405/04',\n",
       "   'C07D417/12',\n",
       "   'C07D261/14'],\n",
       "  'date': '2013-07-12',\n",
       "  'family_count': 10,\n",
       "  'family_id': 49916705,\n",
       "  'filing_date': '2013-07-12',\n",
       "  'filing_status': 'Application',\n",
       "  'id': 'EP-2872493-A2',\n",
       "  'inventor_names': ['ANDROPHY ELLIOT J',\n",
       "   'CHERRY JONATHON J',\n",
       "   'CUNY GREGORY D',\n",
       "   'GLICKSMAN MARCIE A'],\n",
       "  'ipcr': ['C07D413/12', 'A61P21/00', 'C07D261/06', 'A61K31/42'],\n",
       "  'legal_status': 'Granted',\n",
       "  'priority_date': '2012-07-13',\n",
       "  'publication_date': '2015-05-20',\n",
       "  'times_cited': 0,\n",
       "  'title': 'COMPOUNDS FOR TREATMENT OF SPINAL MUSCULAR ATROPHY',\n",
       "  'year': 2013},\n",
       " {'assignee_names': ['New England Medical Center Hospitals Inc'],\n",
       "  'assignees': [{'city_name': 'Boston',\n",
       "    'country_code': 'US',\n",
       "    'country_name': 'United States',\n",
       "    'id': 'grid.67033.31',\n",
       "    'latitude': 42.34951,\n",
       "    'linkout': ['https://www.tuftsmedicalcenter.org/'],\n",
       "    'longitude': -71.06331,\n",
       "    'name': 'Tufts Medical Center',\n",
       "    'state_name': 'Massachusetts',\n",
       "    'types': ['Healthcare']}],\n",
       "  'cpc': ['G01N33/574',\n",
       "   'C12Q2600/158',\n",
       "   'G01N33/74',\n",
       "   'G01N2333/025',\n",
       "   'C12Q1/6886',\n",
       "   'A61K38/1709',\n",
       "   'G01N2333/4706'],\n",
       "  'date': '2002-06-27',\n",
       "  'family_count': 7,\n",
       "  'family_id': 23163118,\n",
       "  'filing_date': '2002-06-27',\n",
       "  'filing_status': 'Application',\n",
       "  'id': 'EP-1409734-A4',\n",
       "  'inventor_names': ['ANDROPHY ELLIOT J',\n",
       "   'DOSHI NISHITA',\n",
       "   'BELAYEW ALEXANDRA'],\n",
       "  'ipcr': ['A61K48/00',\n",
       "   'C12N15/87',\n",
       "   'G01N33/574',\n",
       "   'G01N33/74',\n",
       "   'C12Q1/6886',\n",
       "   'A61K38/43',\n",
       "   'A61K38/17',\n",
       "   'A61K39/395',\n",
       "   'C12Q1/68',\n",
       "   'A61K39/00'],\n",
       "  'legal_status': 'Withdrawn',\n",
       "  'priority_date': '2001-06-27',\n",
       "  'publication_date': '2005-10-19',\n",
       "  'publication_ids': ['pub.1049910216'],\n",
       "  'times_cited': 0,\n",
       "  'title': 'DIAGNOSIS AND TREATMENT OF CANCER',\n",
       "  'year': 2002},\n",
       " {'assignee_names': ['New England Medical Center Hospitals Inc'],\n",
       "  'assignees': [{'city_name': 'Boston',\n",
       "    'country_code': 'US',\n",
       "    'country_name': 'United States',\n",
       "    'id': 'grid.67033.31',\n",
       "    'latitude': 42.34951,\n",
       "    'linkout': ['https://www.tuftsmedicalcenter.org/'],\n",
       "    'longitude': -71.06331,\n",
       "    'name': 'Tufts Medical Center',\n",
       "    'state_name': 'Massachusetts',\n",
       "    'types': ['Healthcare']}],\n",
       "  'category_for': [{'id': '80003',\n",
       "    'name': '32 Biomedical and Clinical Sciences'},\n",
       "   {'id': '80003', 'name': '32 Biomedical and Clinical Sciences'},\n",
       "   {'id': '80054', 'name': '3211 Oncology and Carcinogenesis'}],\n",
       "  'category_hra': [{'id': '3900', 'name': 'Biomedical'}],\n",
       "  'category_hrcs_hc': [{'id': '911', 'name': 'Cancer'}],\n",
       "  'category_rcdc': [{'id': '503', 'name': 'Cancer'},\n",
       "   {'id': '476', 'name': 'Sexually Transmitted Infections'}],\n",
       "  'cpc': ['G01N33/574',\n",
       "   'C12Q2600/158',\n",
       "   'G01N33/74',\n",
       "   'G01N2333/025',\n",
       "   'C12Q1/6886',\n",
       "   'A61K38/1709',\n",
       "   'G01N2333/4706'],\n",
       "  'date': '2002-06-27',\n",
       "  'family_count': 7,\n",
       "  'family_id': 23163118,\n",
       "  'filing_date': '2002-06-27',\n",
       "  'filing_status': 'Application',\n",
       "  'id': 'EP-1409734-A2',\n",
       "  'inventor_names': ['ANDROPHY ELLIOT J',\n",
       "   'DOSHI NISHITA',\n",
       "   'BELAYEW ALEXANDRA'],\n",
       "  'ipcr': ['A61K48/00',\n",
       "   'C12N15/87',\n",
       "   'G01N33/574',\n",
       "   'G01N33/74',\n",
       "   'C12Q1/6886',\n",
       "   'A61K38/43',\n",
       "   'A61K38/17',\n",
       "   'A61K39/395',\n",
       "   'C12Q1/68',\n",
       "   'A61K39/00'],\n",
       "  'legal_status': 'Withdrawn',\n",
       "  'priority_date': '2001-06-27',\n",
       "  'publication_date': '2004-04-21',\n",
       "  'publication_ids': ['pub.1049910216'],\n",
       "  'times_cited': 0,\n",
       "  'title': 'DIAGNOSIS AND TREATMENT OF CANCER',\n",
       "  'year': 2002},\n",
       " {'assignee_names': ['New England Medical Center Hospitals Inc',\n",
       "   'Tufts University'],\n",
       "  'assignees': [{'city_name': 'Boston',\n",
       "    'country_code': 'US',\n",
       "    'country_name': 'United States',\n",
       "    'id': 'grid.67033.31',\n",
       "    'latitude': 42.34951,\n",
       "    'linkout': ['https://www.tuftsmedicalcenter.org/'],\n",
       "    'longitude': -71.06331,\n",
       "    'name': 'Tufts Medical Center',\n",
       "    'state_name': 'Massachusetts',\n",
       "    'types': ['Healthcare']},\n",
       "   {'city_name': 'Medford',\n",
       "    'country_code': 'US',\n",
       "    'country_name': 'United States',\n",
       "    'id': 'grid.429997.8',\n",
       "    'latitude': 42.40983,\n",
       "    'linkout': ['http://www.tufts.edu/'],\n",
       "    'longitude': -71.12194,\n",
       "    'name': 'Tufts University',\n",
       "    'state_name': 'Massachusetts',\n",
       "    'types': ['Education']}],\n",
       "  'category_for': [{'id': '80005', 'name': '34 Chemical Sciences'},\n",
       "   {'id': '80068', 'name': '3404 Medicinal and Biomolecular Chemistry'},\n",
       "   {'id': '80005', 'name': '34 Chemical Sciences'}],\n",
       "  'category_icrp_cso': [{'id': '3751',\n",
       "    'name': '2.1 Exogenous Factors in the Origin and Cause of Cancer'}],\n",
       "  'category_icrp_ct': [{'id': '3792', 'name': 'Cervical Cancer'}],\n",
       "  'category_rcdc': [{'id': '533', 'name': 'Infectious Diseases'},\n",
       "   {'id': '503', 'name': 'Cancer'},\n",
       "   {'id': '476', 'name': 'Sexually Transmitted Infections'}],\n",
       "  'cpc': ['C07K14/001',\n",
       "   'C12N2730/10122',\n",
       "   'G01N33/56983',\n",
       "   'A61P31/20',\n",
       "   'C07K14/005'],\n",
       "  'date': '1998-10-06',\n",
       "  'family_count': 5,\n",
       "  'family_id': 22034861,\n",
       "  'filing_date': '1998-10-06',\n",
       "  'filing_status': 'Application',\n",
       "  'id': 'EP-0964617-A1',\n",
       "  'inventor_names': ['ANDROPHY ELLIOT J', 'BALEJA JAMES D', 'CHEN JASON J'],\n",
       "  'ipcr': ['A61P31/20',\n",
       "   'A01N61/00',\n",
       "   'C07K14/025',\n",
       "   'G06F17/30',\n",
       "   'A61K45/00',\n",
       "   'A61K38/00',\n",
       "   'C12Q1/70',\n",
       "   'C07K14/02',\n",
       "   'G01N33/566',\n",
       "   'G01N33/569',\n",
       "   'C07K14/00',\n",
       "   'G06T1/00'],\n",
       "  'legal_status': 'Withdrawn',\n",
       "  'priority_date': '1997-10-07',\n",
       "  'publication_date': '1999-12-22',\n",
       "  'times_cited': 0,\n",
       "  'title': 'STRUCTURE-BASED RATIONAL DESIGN OF COMPOUNDS TO INHIBIT PAPILLOMAVIRUS INFECTION',\n",
       "  'year': 1998},\n",
       " {'assignee_names': ['New England Medical Center Hospitals Inc'],\n",
       "  'assignees': [{'city_name': 'Boston',\n",
       "    'country_code': 'US',\n",
       "    'country_name': 'United States',\n",
       "    'id': 'grid.67033.31',\n",
       "    'latitude': 42.34951,\n",
       "    'linkout': ['https://www.tuftsmedicalcenter.org/'],\n",
       "    'longitude': -71.06331,\n",
       "    'name': 'Tufts Medical Center',\n",
       "    'state_name': 'Massachusetts',\n",
       "    'types': ['Healthcare']}],\n",
       "  'cpc': ['A01K2217/05',\n",
       "   'A61P31/12',\n",
       "   'A61K38/00',\n",
       "   'A61P35/00',\n",
       "   'A61P43/00',\n",
       "   'C07K14/47',\n",
       "   'C07K2319/00'],\n",
       "  'date': '1996-11-14',\n",
       "  'family_count': 7,\n",
       "  'family_id': 24218361,\n",
       "  'filing_date': '1996-11-14',\n",
       "  'filing_status': 'Application',\n",
       "  'id': 'EP-0866857-A1',\n",
       "  'inventor_names': ['ANDROPHY ELLIOT J', 'CHEN JASON J'],\n",
       "  'ipcr': ['G01N33/569',\n",
       "   'A61P31/12',\n",
       "   'A61K38/16',\n",
       "   'A61K38/43',\n",
       "   'G01N33/566',\n",
       "   'C07K19/00',\n",
       "   'A61P43/00',\n",
       "   'C12P21/02',\n",
       "   'A61P35/00',\n",
       "   'A61K38/17',\n",
       "   'C12N1/19',\n",
       "   'A61K39/12',\n",
       "   'G01N33/48',\n",
       "   'C12R1/19',\n",
       "   'C07K14/47',\n",
       "   'G01N33/50',\n",
       "   'A01K67/027',\n",
       "   'A61K38/00',\n",
       "   'C12N15/12',\n",
       "   'C12N15/09',\n",
       "   'C12N1/21',\n",
       "   'A61K45/00',\n",
       "   'G01N33/15',\n",
       "   'C12Q1/68',\n",
       "   'C12N15/62'],\n",
       "  'legal_status': 'Withdrawn',\n",
       "  'priority_date': '1995-11-14',\n",
       "  'publication_date': '1998-09-30',\n",
       "  'times_cited': 0,\n",
       "  'title': 'E6 BINDING PROTEINS',\n",
       "  'year': 1996},\n",
       " {'assignee_names': ['New England Medical Center Hospitals Inc'],\n",
       "  'assignees': [{'city_name': 'Boston',\n",
       "    'country_code': 'US',\n",
       "    'country_name': 'United States',\n",
       "    'id': 'grid.67033.31',\n",
       "    'latitude': 42.34951,\n",
       "    'linkout': ['https://www.tuftsmedicalcenter.org/'],\n",
       "    'longitude': -71.06331,\n",
       "    'name': 'Tufts Medical Center',\n",
       "    'state_name': 'Massachusetts',\n",
       "    'types': ['Healthcare']}],\n",
       "  'cpc': ['C12N2710/20022',\n",
       "   'C07K16/081',\n",
       "   'C07K14/47',\n",
       "   'G01N33/68',\n",
       "   'A01K2217/05',\n",
       "   'A61P43/00',\n",
       "   'C07K14/005',\n",
       "   'G01N2333/025'],\n",
       "  'date': '1995-12-22',\n",
       "  'family_count': 9,\n",
       "  'family_id': 23423520,\n",
       "  'filing_date': '1995-12-22',\n",
       "  'filing_status': 'Application',\n",
       "  'id': 'EP-0796321-A4',\n",
       "  'inventor_names': ['ANDROPHY ELLIOT J', 'BREIDING DAVID E'],\n",
       "  'ipcr': ['C07K14/025',\n",
       "   'C12R1/91',\n",
       "   'G01N33/68',\n",
       "   'C12Q1/02',\n",
       "   'A61P43/00',\n",
       "   'A01K67/027',\n",
       "   'A61K45/00',\n",
       "   'C07K1/00',\n",
       "   'C07H21/04',\n",
       "   'C12N5/10',\n",
       "   'C12P21/02',\n",
       "   'C12P21/06',\n",
       "   'A61K38/00',\n",
       "   'C12N5/00',\n",
       "   'C07K14/47',\n",
       "   'G01N33/53',\n",
       "   'C12Q1/68',\n",
       "   'C12R1/865',\n",
       "   'C07K16/08',\n",
       "   'A61K49/00',\n",
       "   'C12N15/00',\n",
       "   'C12N15/09',\n",
       "   'C07K16/00',\n",
       "   'C12N1/19'],\n",
       "  'legal_status': 'Withdrawn',\n",
       "  'priority_date': '1994-12-22',\n",
       "  'publication_date': '1999-01-27',\n",
       "  'times_cited': 0,\n",
       "  'title': 'E2 BINDING PROTEINS',\n",
       "  'year': 1995},\n",
       " {'assignee_names': ['New England Medical Center Hospitals Inc'],\n",
       "  'assignees': [{'city_name': 'Boston',\n",
       "    'country_code': 'US',\n",
       "    'country_name': 'United States',\n",
       "    'id': 'grid.67033.31',\n",
       "    'latitude': 42.34951,\n",
       "    'linkout': ['https://www.tuftsmedicalcenter.org/'],\n",
       "    'longitude': -71.06331,\n",
       "    'name': 'Tufts Medical Center',\n",
       "    'state_name': 'Massachusetts',\n",
       "    'types': ['Healthcare']}],\n",
       "  'cpc': ['C12N2710/20022',\n",
       "   'C07K16/081',\n",
       "   'C07K14/47',\n",
       "   'G01N33/68',\n",
       "   'A01K2217/05',\n",
       "   'A61P43/00',\n",
       "   'C07K14/005',\n",
       "   'G01N2333/025'],\n",
       "  'date': '1995-12-22',\n",
       "  'family_count': 9,\n",
       "  'family_id': 23423520,\n",
       "  'filing_date': '1995-12-22',\n",
       "  'filing_status': 'Application',\n",
       "  'id': 'EP-0796321-A1',\n",
       "  'inventor_names': ['ANDROPHY ELLIOT J', 'BREIDING DAVID E'],\n",
       "  'ipcr': ['C07K14/025',\n",
       "   'C12R1/91',\n",
       "   'G01N33/68',\n",
       "   'C12Q1/02',\n",
       "   'A61P43/00',\n",
       "   'A01K67/027',\n",
       "   'A61K45/00',\n",
       "   'C07K1/00',\n",
       "   'C07H21/04',\n",
       "   'C12N5/10',\n",
       "   'C12P21/02',\n",
       "   'C12P21/06',\n",
       "   'A61K38/00',\n",
       "   'C12N5/00',\n",
       "   'C07K14/47',\n",
       "   'G01N33/53',\n",
       "   'C12Q1/68',\n",
       "   'C12R1/865',\n",
       "   'C07K16/08',\n",
       "   'A61K49/00',\n",
       "   'C12N15/00',\n",
       "   'C12N15/09',\n",
       "   'C07K16/00',\n",
       "   'C12N1/19'],\n",
       "  'legal_status': 'Withdrawn',\n",
       "  'priority_date': '1994-12-22',\n",
       "  'publication_date': '1997-09-24',\n",
       "  'times_cited': 0,\n",
       "  'title': 'E2 BINDING PROTEINS',\n",
       "  'year': 1995},\n",
       " {'assignee_names': ['New England Medical Center Hospitals Inc', 'Biogen Inc'],\n",
       "  'assignees': [{'city_name': 'Boston',\n",
       "    'country_code': 'US',\n",
       "    'country_name': 'United States',\n",
       "    'id': 'grid.67033.31',\n",
       "    'latitude': 42.34951,\n",
       "    'linkout': ['https://www.tuftsmedicalcenter.org/'],\n",
       "    'longitude': -71.06331,\n",
       "    'name': 'Tufts Medical Center',\n",
       "    'state_name': 'Massachusetts',\n",
       "    'types': ['Healthcare']},\n",
       "   {'city_name': 'Cambridge',\n",
       "    'country_code': 'US',\n",
       "    'country_name': 'United States',\n",
       "    'id': 'grid.417832.b',\n",
       "    'latitude': 42.36644,\n",
       "    'linkout': ['https://www.biogen.com/'],\n",
       "    'longitude': -71.08527,\n",
       "    'name': 'Biogen (United States)',\n",
       "    'state_name': 'Massachusetts',\n",
       "    'types': ['Company']}],\n",
       "  'category_bra': [{'id': '4000', 'name': 'Basic Science'}],\n",
       "  'category_for': [{'id': '80002', 'name': '31 Biological Sciences'},\n",
       "   {'id': '80034', 'name': '3101 Biochemistry and Cell Biology'},\n",
       "   {'id': '80002', 'name': '31 Biological Sciences'}],\n",
       "  'category_hra': [{'id': '3900', 'name': 'Biomedical'}],\n",
       "  'category_rcdc': [{'id': '526', 'name': 'Genetics'},\n",
       "   {'id': '533', 'name': 'Infectious Diseases'},\n",
       "   {'id': '503', 'name': 'Cancer'}],\n",
       "  'cpc': ['C07K2319/00',\n",
       "   'C12N2740/16322',\n",
       "   'C07K2319/61',\n",
       "   'A61K38/00',\n",
       "   'C07K14/005',\n",
       "   'C07K2319/80',\n",
       "   'C12N2710/20022',\n",
       "   'A61P31/12',\n",
       "   'Y10S530/826'],\n",
       "  'date': '1992-01-28',\n",
       "  'family_count': 12,\n",
       "  'family_id': 24595296,\n",
       "  'filing_date': '1992-01-28',\n",
       "  'filing_status': 'Application',\n",
       "  'id': 'EP-0569476-A1',\n",
       "  'inventor_names': ['ANDROPHY ELLIOT J', 'BARSOUM JAMES G'],\n",
       "  'ipcr': ['C12N15/09',\n",
       "   'C12N1/21',\n",
       "   'C12R1/85',\n",
       "   'A61P31/12',\n",
       "   'C07K14/025',\n",
       "   'C12N1/00',\n",
       "   'A61K38/00',\n",
       "   'C07K13/00',\n",
       "   'C07K14/16',\n",
       "   'C12P21/02',\n",
       "   'C12N15/62',\n",
       "   'C12N1/19',\n",
       "   'C12N15/37',\n",
       "   'C12R1/19'],\n",
       "  'legal_status': 'Withdrawn',\n",
       "  'priority_date': '1991-01-28',\n",
       "  'publication_date': '1993-11-18',\n",
       "  'times_cited': 0,\n",
       "  'title': 'REPRESSORS OF THE TRANS-ACTIVATING FUNCTION OF PAPILLOMAVIRUS E2 PROTEINS',\n",
       "  'year': 1992},\n",
       " {'assignee_names': ['New England Medical Center Hospitals Inc'],\n",
       "  'assignees': [{'city_name': 'Boston',\n",
       "    'country_code': 'US',\n",
       "    'country_name': 'United States',\n",
       "    'id': 'grid.67033.31',\n",
       "    'latitude': 42.34951,\n",
       "    'linkout': ['https://www.tuftsmedicalcenter.org/'],\n",
       "    'longitude': -71.06331,\n",
       "    'name': 'Tufts Medical Center',\n",
       "    'state_name': 'Massachusetts',\n",
       "    'types': ['Healthcare']}],\n",
       "  'category_bra': [{'id': '4000', 'name': 'Basic Science'}],\n",
       "  'category_for': [{'id': '80002', 'name': '31 Biological Sciences'},\n",
       "   {'id': '80050', 'name': '3207 Medical Microbiology'},\n",
       "   {'id': '80003', 'name': '32 Biomedical and Clinical Sciences'}],\n",
       "  'category_hra': [{'id': '3900', 'name': 'Biomedical'}],\n",
       "  'category_hrcs_hc': [{'id': '898', 'name': 'Infection'}],\n",
       "  'category_rcdc': [{'id': '526', 'name': 'Genetics'}],\n",
       "  'cpc': ['A61K31/70',\n",
       "   'C07K2319/00',\n",
       "   'A61K38/00',\n",
       "   'C12N2310/13',\n",
       "   'C12N2710/20022',\n",
       "   'C07K14/005',\n",
       "   'C12N15/1131'],\n",
       "  'date': '1988-08-08',\n",
       "  'expiration_date': '2008-08-08',\n",
       "  'family_count': 9,\n",
       "  'family_id': 22180594,\n",
       "  'filing_date': '1988-08-08',\n",
       "  'filing_status': 'Grant',\n",
       "  'granted_date': '1994-03-16',\n",
       "  'granted_year': 1994,\n",
       "  'id': 'EP-0302758-B1',\n",
       "  'inventor_names': ['ANDROPHY ELLIOT J', 'LOWY DOUGLAS R', 'SCHILLER JOHN T'],\n",
       "  'ipcr': ['C12N7/04',\n",
       "   'C07H21/04',\n",
       "   'C07K14/025',\n",
       "   'C12N15/37',\n",
       "   'C12N15/09',\n",
       "   'C12N15/113',\n",
       "   'A61K38/00',\n",
       "   'C07K14/01'],\n",
       "  'legal_status': 'Expired - Lifetime',\n",
       "  'priority_date': '1987-08-07',\n",
       "  'publication_date': '1994-03-16',\n",
       "  'times_cited': 20,\n",
       "  'title': 'Viral expression inhibitors',\n",
       "  'year': 1988},\n",
       " {'assignee_names': ['New England Medical Center Hospitals Inc'],\n",
       "  'assignees': [{'city_name': 'Boston',\n",
       "    'country_code': 'US',\n",
       "    'country_name': 'United States',\n",
       "    'id': 'grid.67033.31',\n",
       "    'latitude': 42.34951,\n",
       "    'linkout': ['https://www.tuftsmedicalcenter.org/'],\n",
       "    'longitude': -71.06331,\n",
       "    'name': 'Tufts Medical Center',\n",
       "    'state_name': 'Massachusetts',\n",
       "    'types': ['Healthcare']}],\n",
       "  'category_bra': [{'id': '4000', 'name': 'Basic Science'}],\n",
       "  'category_for': [{'id': '80002', 'name': '31 Biological Sciences'},\n",
       "   {'id': '80050', 'name': '3207 Medical Microbiology'},\n",
       "   {'id': '80003', 'name': '32 Biomedical and Clinical Sciences'}],\n",
       "  'category_hra': [{'id': '3900', 'name': 'Biomedical'}],\n",
       "  'category_hrcs_hc': [{'id': '898', 'name': 'Infection'}],\n",
       "  'category_rcdc': [{'id': '526', 'name': 'Genetics'},\n",
       "   {'id': '338', 'name': 'Biotechnology'}],\n",
       "  'cpc': ['A61K31/70',\n",
       "   'C07K2319/00',\n",
       "   'A61K38/00',\n",
       "   'C12N2310/13',\n",
       "   'C12N2710/20022',\n",
       "   'C07K14/005',\n",
       "   'C12N15/1131'],\n",
       "  'date': '1988-08-08',\n",
       "  'family_count': 9,\n",
       "  'family_id': 22180594,\n",
       "  'filing_date': '1988-08-08',\n",
       "  'filing_status': 'Application',\n",
       "  'id': 'EP-0302758-A1',\n",
       "  'inventor_names': ['ANDROPHY ELLIOT J', 'LOWY DOUGLAS R', 'SCHILLER JOHN T'],\n",
       "  'ipcr': ['C12N7/04',\n",
       "   'C07H21/04',\n",
       "   'C07K14/025',\n",
       "   'C12N15/37',\n",
       "   'C12N15/09',\n",
       "   'C12N15/113',\n",
       "   'C12N7/00',\n",
       "   'A61K38/00',\n",
       "   'C12N15/00',\n",
       "   'C07K14/01'],\n",
       "  'legal_status': 'Granted',\n",
       "  'priority_date': '1987-08-07',\n",
       "  'publication_date': '1989-02-08',\n",
       "  'publication_ids': ['pub.1041078173', 'pub.1014397854'],\n",
       "  'times_cited': 43,\n",
       "  'title': 'Viral expression inhibitors',\n",
       "  'year': 1988},\n",
       " {'assignee_names': ['New England Medical Center Hospitals Inc'],\n",
       "  'assignees': [{'city_name': 'Boston',\n",
       "    'country_code': 'US',\n",
       "    'country_name': 'United States',\n",
       "    'id': 'grid.67033.31',\n",
       "    'latitude': 42.34951,\n",
       "    'linkout': ['https://www.tuftsmedicalcenter.org/'],\n",
       "    'longitude': -71.06331,\n",
       "    'name': 'Tufts Medical Center',\n",
       "    'state_name': 'Massachusetts',\n",
       "    'types': ['Healthcare']}],\n",
       "  'category_bra': [{'id': '4000', 'name': 'Basic Science'}],\n",
       "  'category_for': [{'id': '80002', 'name': '31 Biological Sciences'},\n",
       "   {'id': '80050', 'name': '3207 Medical Microbiology'},\n",
       "   {'id': '80003', 'name': '32 Biomedical and Clinical Sciences'}],\n",
       "  'category_hra': [{'id': '3900', 'name': 'Biomedical'}],\n",
       "  'category_hrcs_hc': [{'id': '898', 'name': 'Infection'}],\n",
       "  'category_rcdc': [{'id': '526', 'name': 'Genetics'}],\n",
       "  'cpc': ['A61K38/00',\n",
       "   'C12N15/1131',\n",
       "   'C12N2710/20022',\n",
       "   'C07K2319/00',\n",
       "   'C12N2310/13',\n",
       "   'C07K14/005',\n",
       "   'A61K31/70'],\n",
       "  'date': '1988-08-08',\n",
       "  'expiration_date': '2008-08-09',\n",
       "  'family_count': 9,\n",
       "  'family_id': 22180594,\n",
       "  'filing_date': '1988-08-08',\n",
       "  'filing_status': 'Grant',\n",
       "  'granted_date': '1994-06-23',\n",
       "  'granted_year': 1994,\n",
       "  'id': 'DE-3888425-T2',\n",
       "  'inventor_names': ['ANDROPHY ELLIOT J', 'LOWY DOUGLAS R', 'SCHILLER JOHN T'],\n",
       "  'ipcr': ['C12N15/37',\n",
       "   'C07H21/04',\n",
       "   'C07K14/01',\n",
       "   'C12N15/09',\n",
       "   'C07K14/025',\n",
       "   'A61K38/00',\n",
       "   'C12N15/113',\n",
       "   'C12N7/04'],\n",
       "  'legal_status': 'Expired - Fee Related',\n",
       "  'priority_date': '1987-08-07',\n",
       "  'publication_date': '1994-06-23',\n",
       "  'times_cited': 0,\n",
       "  'title': 'Viral expression inhibitors.',\n",
       "  'year': 1988},\n",
       " {'assignee_names': ['New England Medical Center Hospitals Inc'],\n",
       "  'assignees': [{'city_name': 'Boston',\n",
       "    'country_code': 'US',\n",
       "    'country_name': 'United States',\n",
       "    'id': 'grid.67033.31',\n",
       "    'latitude': 42.34951,\n",
       "    'linkout': ['https://www.tuftsmedicalcenter.org/'],\n",
       "    'longitude': -71.06331,\n",
       "    'name': 'Tufts Medical Center',\n",
       "    'state_name': 'Massachusetts',\n",
       "    'types': ['Healthcare']}],\n",
       "  'category_bra': [{'id': '4000', 'name': 'Basic Science'}],\n",
       "  'category_for': [{'id': '80002', 'name': '31 Biological Sciences'},\n",
       "   {'id': '80050', 'name': '3207 Medical Microbiology'},\n",
       "   {'id': '80003', 'name': '32 Biomedical and Clinical Sciences'}],\n",
       "  'category_hra': [{'id': '3900', 'name': 'Biomedical'}],\n",
       "  'category_hrcs_hc': [{'id': '898', 'name': 'Infection'}],\n",
       "  'category_rcdc': [{'id': '526', 'name': 'Genetics'}],\n",
       "  'cpc': ['A61K38/00',\n",
       "   'C12N15/1131',\n",
       "   'C12N2710/20022',\n",
       "   'C07K2319/00',\n",
       "   'C12N2310/13',\n",
       "   'C07K14/005',\n",
       "   'A61K31/70'],\n",
       "  'date': '1988-08-08',\n",
       "  'expiration_date': '2008-08-09',\n",
       "  'family_count': 9,\n",
       "  'family_id': 22180594,\n",
       "  'filing_date': '1988-08-08',\n",
       "  'filing_status': 'Grant',\n",
       "  'granted_date': '1994-04-21',\n",
       "  'granted_year': 1994,\n",
       "  'id': 'DE-3888425-D1',\n",
       "  'inventor_names': ['ANDROPHY ELLIOT J', 'LOWY DOUGLAS R', 'SCHILLER JOHN T'],\n",
       "  'ipcr': ['C12N15/37',\n",
       "   'C07H21/04',\n",
       "   'C07K14/01',\n",
       "   'A61K38/00',\n",
       "   'C07K14/025',\n",
       "   'C12N15/09',\n",
       "   'C12N15/113',\n",
       "   'C12N7/04'],\n",
       "  'legal_status': 'Expired - Fee Related',\n",
       "  'priority_date': '1987-08-07',\n",
       "  'publication_date': '1994-04-21',\n",
       "  'times_cited': 0,\n",
       "  'title': 'Viral expression inhibitors.',\n",
       "  'year': 1988},\n",
       " {'assignee_names': ['Brigham and Womens Hospital Inc',\n",
       "   'Indiana University Research and Technology Corp'],\n",
       "  'assignees': [{'acronym': 'BWH',\n",
       "    'city_name': 'Boston',\n",
       "    'country_code': 'US',\n",
       "    'country_name': 'United States',\n",
       "    'id': 'grid.62560.37',\n",
       "    'latitude': 42.3356,\n",
       "    'linkout': ['http://www.brighamandwomens.org/'],\n",
       "    'longitude': -71.106415,\n",
       "    'name': \"Brigham and Women's Hospital\",\n",
       "    'state_name': 'Massachusetts',\n",
       "    'types': ['Healthcare']},\n",
       "   {'acronym': 'IUPUI',\n",
       "    'city_name': 'Indianapolis',\n",
       "    'country_code': 'US',\n",
       "    'country_name': 'United States',\n",
       "    'id': 'grid.257413.6',\n",
       "    'latitude': 39.776966,\n",
       "    'linkout': ['http://www.iupui.edu/'],\n",
       "    'longitude': -86.16858,\n",
       "    'name': 'Indiana University – Purdue University Indianapolis',\n",
       "    'state_name': 'Indiana',\n",
       "    'types': ['Education']}],\n",
       "  'category_bra': [{'id': '4001', 'name': 'Clinical Medicine and Science'}],\n",
       "  'category_for': [{'id': '80003',\n",
       "    'name': '32 Biomedical and Clinical Sciences'},\n",
       "   {'id': '80003', 'name': '32 Biomedical and Clinical Sciences'},\n",
       "   {'id': '80052', 'name': '3209 Neurosciences'}],\n",
       "  'category_hra': [{'id': '3900', 'name': 'Biomedical'}],\n",
       "  'category_hrcs_hc': [{'id': '897', 'name': 'Neurological'}],\n",
       "  'category_hrcs_rac': [{'id': '10501', 'name': '5.1 Pharmaceuticals'}],\n",
       "  'category_rcdc': [{'id': '387', 'name': 'Neurosciences'},\n",
       "   {'id': '547', 'name': 'Pediatric'},\n",
       "   {'id': '542', 'name': 'Neurodegenerative'},\n",
       "   {'id': '559', 'name': 'Rare Diseases'},\n",
       "   {'id': '483', 'name': 'Spinal Muscular Atrophy'}],\n",
       "  'cpc': ['A61K31/4704',\n",
       "   'A61K31/444',\n",
       "   'A61K31/4709',\n",
       "   'A61K31/422',\n",
       "   'A61K45/06',\n",
       "   'A61K31/517',\n",
       "   'A61K31/506',\n",
       "   'A61P21/00',\n",
       "   'A61K31/4418',\n",
       "   'Y02A50/30',\n",
       "   'A61K31/427',\n",
       "   'A61K31/7125',\n",
       "   'A01K2267/0318',\n",
       "   'A61K31/4985',\n",
       "   'A61K31/437',\n",
       "   'A61K31/426',\n",
       "   'A61K31/501',\n",
       "   'A01K2227/105'],\n",
       "  'date': '2017-02-23',\n",
       "  'family_count': 15,\n",
       "  'family_id': 59631461,\n",
       "  'filing_date': '2017-02-23',\n",
       "  'filing_status': 'Application',\n",
       "  'id': 'CA-3015345-A1',\n",
       "  'inventor_names': ['ANDROPHY ELLIOT J',\n",
       "   'HODGETTS KEVIN',\n",
       "   'CALDER ALYSSA NICOLE'],\n",
       "  'ipcr': ['A61K31/429', 'C07D513/04', 'A61K31/4353'],\n",
       "  'legal_status': 'Abandoned',\n",
       "  'priority_date': '2016-02-23',\n",
       "  'publication_date': '2017-08-31',\n",
       "  'times_cited': 0,\n",
       "  'title': 'COMBINATION THERAPIES FOR TREATMENT OF SPINAL MUSCULAR ATROPHY',\n",
       "  'year': 2017},\n",
       " {'assignee_names': ['Brigham and Womens Hospital Inc',\n",
       "   'University of Massachusetts UMass',\n",
       "   'Indiana University Research and Technology Corp'],\n",
       "  'assignees': [{'acronym': 'BWH',\n",
       "    'city_name': 'Boston',\n",
       "    'country_code': 'US',\n",
       "    'country_name': 'United States',\n",
       "    'id': 'grid.62560.37',\n",
       "    'latitude': 42.3356,\n",
       "    'linkout': ['http://www.brighamandwomens.org/'],\n",
       "    'longitude': -71.106415,\n",
       "    'name': \"Brigham and Women's Hospital\",\n",
       "    'state_name': 'Massachusetts',\n",
       "    'types': ['Healthcare']},\n",
       "   {'city_name': 'Boston',\n",
       "    'country_code': 'US',\n",
       "    'country_name': 'United States',\n",
       "    'id': 'grid.266684.8',\n",
       "    'latitude': 42.312634,\n",
       "    'linkout': ['http://www.massachusetts.edu/'],\n",
       "    'longitude': -71.03584,\n",
       "    'name': 'University of Massachusetts System',\n",
       "    'state_name': 'Massachusetts',\n",
       "    'types': ['Education']},\n",
       "   {'acronym': 'IUPUI',\n",
       "    'city_name': 'Indianapolis',\n",
       "    'country_code': 'US',\n",
       "    'country_name': 'United States',\n",
       "    'id': 'grid.257413.6',\n",
       "    'latitude': 39.776966,\n",
       "    'linkout': ['http://www.iupui.edu/'],\n",
       "    'longitude': -86.16858,\n",
       "    'name': 'Indiana University – Purdue University Indianapolis',\n",
       "    'state_name': 'Indiana',\n",
       "    'types': ['Education']}],\n",
       "  'category_bra': [{'id': '4001', 'name': 'Clinical Medicine and Science'}],\n",
       "  'category_for': [{'id': '80003',\n",
       "    'name': '32 Biomedical and Clinical Sciences'},\n",
       "   {'id': '80003', 'name': '32 Biomedical and Clinical Sciences'},\n",
       "   {'id': '80052', 'name': '3209 Neurosciences'}],\n",
       "  'category_hra': [{'id': '3900', 'name': 'Biomedical'}],\n",
       "  'category_hrcs_hc': [{'id': '897', 'name': 'Neurological'}],\n",
       "  'category_hrcs_rac': [{'id': '10501', 'name': '5.1 Pharmaceuticals'}],\n",
       "  'cpc': ['C07D277/46',\n",
       "   'C07D267/14',\n",
       "   'C07D471/04',\n",
       "   'C07D261/14',\n",
       "   'C07D417/12',\n",
       "   'C07D285/135',\n",
       "   'C07D413/12',\n",
       "   'C07D263/48',\n",
       "   'C07C2603/20',\n",
       "   'C07D221/10',\n",
       "   'C07D215/227',\n",
       "   'C07D233/88',\n",
       "   'C07D487/04',\n",
       "   'C07D401/04',\n",
       "   'C07D405/04',\n",
       "   'A61P21/00',\n",
       "   'C07D405/12',\n",
       "   'C07D239/82',\n",
       "   'C07D213/75',\n",
       "   'C07D215/44',\n",
       "   'C07D417/04',\n",
       "   'C07D261/06',\n",
       "   'C07D261/18',\n",
       "   'C07D493/04',\n",
       "   'C07D231/14',\n",
       "   'C07C311/37',\n",
       "   'C07C2601/08',\n",
       "   'C07D239/47',\n",
       "   'C07K14/47'],\n",
       "  'date': '2013-07-12',\n",
       "  'family_count': 10,\n",
       "  'family_id': 49916705,\n",
       "  'filing_date': '2013-07-12',\n",
       "  'filing_status': 'Application',\n",
       "  'id': 'CA-2878895-A1',\n",
       "  'inventor_names': ['ANDROPHY ELLIOT J',\n",
       "   'CHERRY JONATHON J',\n",
       "   'CUNY GREGORY D',\n",
       "   'GLICKSMAN MARCIE A'],\n",
       "  'ipcr': ['C07D261/06', 'A61P21/00', 'C07D413/12', 'A61K31/42'],\n",
       "  'legal_status': 'Abandoned',\n",
       "  'priority_date': '2012-07-13',\n",
       "  'publication_date': '2014-01-16',\n",
       "  'times_cited': 0,\n",
       "  'title': 'COMPOUNDS FOR TREATMENT OF SPINAL MUSCULAR ATROPHY',\n",
       "  'year': 2013},\n",
       " {'assignee_names': ['New England Medical Center Hospitals Inc', 'Biogen Inc'],\n",
       "  'assignees': [{'city_name': 'Boston',\n",
       "    'country_code': 'US',\n",
       "    'country_name': 'United States',\n",
       "    'id': 'grid.67033.31',\n",
       "    'latitude': 42.34951,\n",
       "    'linkout': ['https://www.tuftsmedicalcenter.org/'],\n",
       "    'longitude': -71.06331,\n",
       "    'name': 'Tufts Medical Center',\n",
       "    'state_name': 'Massachusetts',\n",
       "    'types': ['Healthcare']},\n",
       "   {'city_name': 'Cambridge',\n",
       "    'country_code': 'US',\n",
       "    'country_name': 'United States',\n",
       "    'id': 'grid.417832.b',\n",
       "    'latitude': 42.36644,\n",
       "    'linkout': ['https://www.biogen.com/'],\n",
       "    'longitude': -71.08527,\n",
       "    'name': 'Biogen (United States)',\n",
       "    'state_name': 'Massachusetts',\n",
       "    'types': ['Company']}],\n",
       "  'category_bra': [{'id': '4000', 'name': 'Basic Science'}],\n",
       "  'category_for': [{'id': '80002', 'name': '31 Biological Sciences'},\n",
       "   {'id': '80034', 'name': '3101 Biochemistry and Cell Biology'},\n",
       "   {'id': '80002', 'name': '31 Biological Sciences'}],\n",
       "  'category_hra': [{'id': '3900', 'name': 'Biomedical'}],\n",
       "  'category_hrcs_rac': [{'id': '10101',\n",
       "    'name': '1.1 Normal biological development and functioning'}],\n",
       "  'category_rcdc': [{'id': '526', 'name': 'Genetics'},\n",
       "   {'id': '503', 'name': 'Cancer'}],\n",
       "  'cpc': ['C07K2319/80',\n",
       "   'A61K38/00',\n",
       "   'Y10S530/826',\n",
       "   'C12N2740/16322',\n",
       "   'A61P31/12',\n",
       "   'C12N2710/20022',\n",
       "   'C07K2319/61',\n",
       "   'C07K2319/00',\n",
       "   'C07K14/005'],\n",
       "  'date': '1992-01-28',\n",
       "  'expiration_date': '2012-01-28',\n",
       "  'family_count': 12,\n",
       "  'family_id': 24595296,\n",
       "  'filing_date': '1992-01-28',\n",
       "  'filing_status': 'Grant',\n",
       "  'granted_date': '2000-08-01',\n",
       "  'granted_year': 2000,\n",
       "  'id': 'CA-2099976-C',\n",
       "  'inventor_names': ['ANDROPHY ELLIOT J', 'BARSOUM JAMES G'],\n",
       "  'ipcr': ['A61K47/48',\n",
       "   'C12R1/85',\n",
       "   'C07K14/16',\n",
       "   'C12N1/15',\n",
       "   'C12N15/09',\n",
       "   'C12N1/19',\n",
       "   'A61P31/12',\n",
       "   'C07K14/025',\n",
       "   'C12R1/19',\n",
       "   'C12N15/62',\n",
       "   'C12P21/02',\n",
       "   'C07K19/00',\n",
       "   'C12N1/21',\n",
       "   'A61K38/16',\n",
       "   'A61K31/70',\n",
       "   'A61K38/00',\n",
       "   'C12N15/37',\n",
       "   'C12N5/10',\n",
       "   'C12N15/10'],\n",
       "  'legal_status': 'Expired - Fee Related',\n",
       "  'priority_date': '1991-01-28',\n",
       "  'publication_date': '2000-08-01',\n",
       "  'times_cited': 0,\n",
       "  'title': 'REPRESSORS OF THE TRANS-ACTIVATING FUNCTION OF PAPILLOMAVIRUS E2 PROTEINS',\n",
       "  'year': 1992},\n",
       " {'assignee_names': ['New England Medical Center Hospitals Inc',\n",
       "   'Biogen Inc',\n",
       "   'ANDROPHY, ELLIOT J.',\n",
       "   'BARSOUM, JAMES G.',\n",
       "   'NEW ENGLAND MEDICAL CENTER HOSPITALS, INC.',\n",
       "   'BIOGEN INC'],\n",
       "  'assignees': [{'city_name': 'Boston',\n",
       "    'country_code': 'US',\n",
       "    'country_name': 'United States',\n",
       "    'id': 'grid.67033.31',\n",
       "    'latitude': 42.34951,\n",
       "    'linkout': ['https://www.tuftsmedicalcenter.org/'],\n",
       "    'longitude': -71.06331,\n",
       "    'name': 'Tufts Medical Center',\n",
       "    'state_name': 'Massachusetts',\n",
       "    'types': ['Healthcare']},\n",
       "   {'city_name': 'Cambridge',\n",
       "    'country_code': 'US',\n",
       "    'country_name': 'United States',\n",
       "    'id': 'grid.417832.b',\n",
       "    'latitude': 42.36644,\n",
       "    'linkout': ['https://www.biogen.com/'],\n",
       "    'longitude': -71.08527,\n",
       "    'name': 'Biogen (United States)',\n",
       "    'state_name': 'Massachusetts',\n",
       "    'types': ['Company']}],\n",
       "  'category_bra': [{'id': '4000', 'name': 'Basic Science'}],\n",
       "  'category_for': [{'id': '80002', 'name': '31 Biological Sciences'},\n",
       "   {'id': '80034', 'name': '3101 Biochemistry and Cell Biology'},\n",
       "   {'id': '80002', 'name': '31 Biological Sciences'}],\n",
       "  'category_hra': [{'id': '3900', 'name': 'Biomedical'}],\n",
       "  'category_hrcs_rac': [{'id': '10101',\n",
       "    'name': '1.1 Normal biological development and functioning'}],\n",
       "  'category_rcdc': [{'id': '526', 'name': 'Genetics'},\n",
       "   {'id': '503', 'name': 'Cancer'}],\n",
       "  'cpc': ['C07K2319/80',\n",
       "   'A61K38/00',\n",
       "   'Y10S530/826',\n",
       "   'C12N2740/16322',\n",
       "   'A61P31/12',\n",
       "   'C12N2710/20022',\n",
       "   'C07K2319/61',\n",
       "   'C07K2319/00',\n",
       "   'C07K14/005'],\n",
       "  'date': '1992-01-28',\n",
       "  'family_count': 12,\n",
       "  'family_id': 24595296,\n",
       "  'filing_date': '1992-01-28',\n",
       "  'filing_status': 'Application',\n",
       "  'id': 'CA-2099976-A1',\n",
       "  'inventor_names': ['ANDROPHY ELLIOT J', 'BARSOUM JAMES G'],\n",
       "  'ipcr': ['C12N1/19',\n",
       "   'C12R1/85',\n",
       "   'C12N1/21',\n",
       "   'C12N15/37',\n",
       "   'C12R1/19',\n",
       "   'C07K14/16',\n",
       "   'A61P31/12',\n",
       "   'C07K14/025',\n",
       "   'A61K38/00',\n",
       "   'C12P21/02',\n",
       "   'C12N15/09'],\n",
       "  'legal_status': 'Granted',\n",
       "  'priority_date': '1991-01-28',\n",
       "  'publication_date': '1992-07-29',\n",
       "  'times_cited': 0,\n",
       "  'title': 'REPRESSORS OF THE TRANS-ACTIVATING FUNCTION OF PAPILLOMAVIRUS E2 PROTEINS',\n",
       "  'year': 1992},\n",
       " {'assignee_names': ['US Department of Health and Human Services',\n",
       "   'New England Medical Center Hospitals Inc'],\n",
       "  'assignees': [{'acronym': 'DHHS',\n",
       "    'city_name': 'Washington D.C.',\n",
       "    'country_code': 'US',\n",
       "    'country_name': 'United States',\n",
       "    'id': 'grid.27235.31',\n",
       "    'latitude': 38.886665,\n",
       "    'linkout': ['http://www.hhs.gov/'],\n",
       "    'longitude': -77.01444,\n",
       "    'name': 'United States Department of Health and Human Services',\n",
       "    'state_name': 'District of Columbia',\n",
       "    'types': ['Government']},\n",
       "   {'city_name': 'Boston',\n",
       "    'country_code': 'US',\n",
       "    'country_name': 'United States',\n",
       "    'id': 'grid.67033.31',\n",
       "    'latitude': 42.34951,\n",
       "    'linkout': ['https://www.tuftsmedicalcenter.org/'],\n",
       "    'longitude': -71.06331,\n",
       "    'name': 'Tufts Medical Center',\n",
       "    'state_name': 'Massachusetts',\n",
       "    'types': ['Healthcare']}],\n",
       "  'category_bra': [{'id': '4000', 'name': 'Basic Science'}],\n",
       "  'category_for': [{'id': '80002', 'name': '31 Biological Sciences'},\n",
       "   {'id': '80050', 'name': '3207 Medical Microbiology'},\n",
       "   {'id': '80041', 'name': '3108 Plant Biology'},\n",
       "   {'id': '80002', 'name': '31 Biological Sciences'},\n",
       "   {'id': '80003', 'name': '32 Biomedical and Clinical Sciences'}],\n",
       "  'category_hra': [{'id': '3900', 'name': 'Biomedical'}],\n",
       "  'category_hrcs_hc': [{'id': '898', 'name': 'Infection'}],\n",
       "  'category_rcdc': [{'id': '526', 'name': 'Genetics'},\n",
       "   {'id': '338', 'name': 'Biotechnology'}],\n",
       "  'cpc': ['A61K38/00',\n",
       "   'A61K31/70',\n",
       "   'C07K14/005',\n",
       "   'C07K2319/00',\n",
       "   'C12N2710/20022',\n",
       "   'C12N15/1131',\n",
       "   'C12N2310/13'],\n",
       "  'date': '1988-08-05',\n",
       "  'expiration_date': '2014-12-23',\n",
       "  'family_count': 9,\n",
       "  'family_id': 22180594,\n",
       "  'filing_date': '1988-08-05',\n",
       "  'filing_status': 'Grant',\n",
       "  'granted_date': '1997-12-23',\n",
       "  'granted_year': 1997,\n",
       "  'id': 'CA-1339596-C',\n",
       "  'inventor_names': ['ANDROPHY ELLIOT J', 'LOWY DOUGLAS R', 'SCHILLER JOHN T'],\n",
       "  'ipcr': ['C12N7/04',\n",
       "   'C07K14/01',\n",
       "   'C12N7/06',\n",
       "   'C12N15/86',\n",
       "   'C12N15/09',\n",
       "   'A61K38/00',\n",
       "   'C07H21/04',\n",
       "   'C12N15/37',\n",
       "   'C07K14/025',\n",
       "   'C12N15/113'],\n",
       "  'legal_status': 'Expired - Fee Related',\n",
       "  'priority_date': '1987-08-07',\n",
       "  'publication_date': '1997-12-23',\n",
       "  'times_cited': 0,\n",
       "  'title': 'VIRAL EXPRESSION INHIBITORS',\n",
       "  'year': 1988},\n",
       " {'assignee_names': ['UNIV INDIANA RES & TECH CORP',\n",
       "   'BRIGHAM & WOMENS HOSPITAL INC'],\n",
       "  'assignees': [{'acronym': 'IUPUI',\n",
       "    'city_name': 'Indianapolis',\n",
       "    'country_code': 'US',\n",
       "    'country_name': 'United States',\n",
       "    'id': 'grid.257413.6',\n",
       "    'latitude': 39.776966,\n",
       "    'linkout': ['http://www.iupui.edu/'],\n",
       "    'longitude': -86.16858,\n",
       "    'name': 'Indiana University – Purdue University Indianapolis',\n",
       "    'state_name': 'Indiana',\n",
       "    'types': ['Education']},\n",
       "   {'acronym': 'BWH',\n",
       "    'city_name': 'Boston',\n",
       "    'country_code': 'US',\n",
       "    'country_name': 'United States',\n",
       "    'id': 'grid.62560.37',\n",
       "    'latitude': 42.3356,\n",
       "    'linkout': ['http://www.brighamandwomens.org/'],\n",
       "    'longitude': -71.106415,\n",
       "    'name': \"Brigham and Women's Hospital\",\n",
       "    'state_name': 'Massachusetts',\n",
       "    'types': ['Healthcare']}],\n",
       "  'category_bra': [{'id': '4001', 'name': 'Clinical Medicine and Science'}],\n",
       "  'category_for': [{'id': '80003',\n",
       "    'name': '32 Biomedical and Clinical Sciences'},\n",
       "   {'id': '80003', 'name': '32 Biomedical and Clinical Sciences'},\n",
       "   {'id': '80052', 'name': '3209 Neurosciences'}],\n",
       "  'category_hra': [{'id': '3900', 'name': 'Biomedical'}],\n",
       "  'category_hrcs_hc': [{'id': '897', 'name': 'Neurological'}],\n",
       "  'category_hrcs_rac': [{'id': '10501', 'name': '5.1 Pharmaceuticals'}],\n",
       "  'category_rcdc': [{'id': '547', 'name': 'Pediatric'},\n",
       "   {'id': '387', 'name': 'Neurosciences'},\n",
       "   {'id': '559', 'name': 'Rare Diseases'},\n",
       "   {'id': '542', 'name': 'Neurodegenerative'},\n",
       "   {'id': '543', 'name': 'Orphan Drug'},\n",
       "   {'id': '483', 'name': 'Spinal Muscular Atrophy'}],\n",
       "  'cpc': ['A01K2267/0318',\n",
       "   'A61K31/4709',\n",
       "   'A61K31/501',\n",
       "   'Y02A50/30',\n",
       "   'A61K31/437',\n",
       "   'A61K31/444',\n",
       "   'A61K31/7125',\n",
       "   'A61K31/517',\n",
       "   'A61K31/422',\n",
       "   'A61K31/4985',\n",
       "   'A61K31/427',\n",
       "   'A61K31/506',\n",
       "   'A01K2227/105',\n",
       "   'A61K31/426',\n",
       "   'A61K31/4704',\n",
       "   'A61P21/00',\n",
       "   'A61K45/06',\n",
       "   'A61K31/4418'],\n",
       "  'date': '2017-02-23',\n",
       "  'family_count': 15,\n",
       "  'family_id': 59631461,\n",
       "  'filing_date': '2017-02-23',\n",
       "  'filing_status': 'N/A',\n",
       "  'id': 'BR-112018017077-A2',\n",
       "  'inventor_names': ['ALYSSA NICOLE CALDER',\n",
       "   'ELLIOT J ANDROPHY',\n",
       "   'KEVIN HODGETTS'],\n",
       "  'ipcr': ['A61K31/4353', 'C07D513/04', 'A61K31/429'],\n",
       "  'legal_status': 'N/A',\n",
       "  'priority_date': '2016-02-23',\n",
       "  'publication_date': '2018-12-26',\n",
       "  'times_cited': 0,\n",
       "  'title': 'combination therapies for treatment of spinal muscular atrophy',\n",
       "  'year': 2017},\n",
       " {'assignee_names': ['New England Medical Center Hospitals Inc'],\n",
       "  'assignees': [{'city_name': 'Boston',\n",
       "    'country_code': 'US',\n",
       "    'country_name': 'United States',\n",
       "    'id': 'grid.67033.31',\n",
       "    'latitude': 42.34951,\n",
       "    'linkout': ['https://www.tuftsmedicalcenter.org/'],\n",
       "    'longitude': -71.06331,\n",
       "    'name': 'Tufts Medical Center',\n",
       "    'state_name': 'Massachusetts',\n",
       "    'types': ['Healthcare']}],\n",
       "  'cpc': ['A61P43/00',\n",
       "   'A61P35/00',\n",
       "   'A61P31/12',\n",
       "   'C07K2319/00',\n",
       "   'C07K14/47',\n",
       "   'A01K2217/05',\n",
       "   'A61K38/00'],\n",
       "  'date': '1996-11-14',\n",
       "  'family_count': 7,\n",
       "  'family_id': 24218361,\n",
       "  'filing_date': '1996-11-14',\n",
       "  'filing_status': 'Application',\n",
       "  'id': 'AU-7737296-A',\n",
       "  'inventor_names': ['ANDROPHY ELLIOT J', 'CHEN JASON J'],\n",
       "  'ipcr': ['A61K38/00',\n",
       "   'A61K38/17',\n",
       "   'G01N33/50',\n",
       "   'A61K38/16',\n",
       "   'C07K19/00',\n",
       "   'C12Q1/68',\n",
       "   'G01N33/569',\n",
       "   'A61K45/00',\n",
       "   'C12R1/19',\n",
       "   'G01N33/48',\n",
       "   'C12P21/02',\n",
       "   'G01N33/566',\n",
       "   'C12N1/19',\n",
       "   'C12N15/09',\n",
       "   'A61K38/43',\n",
       "   'G01N33/15',\n",
       "   'C12N15/62',\n",
       "   'A61P35/00',\n",
       "   'C07K14/47',\n",
       "   'A61K39/12',\n",
       "   'A61P43/00',\n",
       "   'C12N1/21',\n",
       "   'C12N15/12',\n",
       "   'A01K67/027',\n",
       "   'A61P31/12'],\n",
       "  'legal_status': 'Abandoned',\n",
       "  'priority_date': '1995-11-14',\n",
       "  'publication_date': '1997-06-05',\n",
       "  'times_cited': 0,\n",
       "  'title': 'E6 binding proteins',\n",
       "  'year': 1996},\n",
       " {'assignee_names': ['New England Medical Center Hospitals Inc'],\n",
       "  'assignees': [{'city_name': 'Boston',\n",
       "    'country_code': 'US',\n",
       "    'country_name': 'United States',\n",
       "    'id': 'grid.67033.31',\n",
       "    'latitude': 42.34951,\n",
       "    'linkout': ['https://www.tuftsmedicalcenter.org/'],\n",
       "    'longitude': -71.06331,\n",
       "    'name': 'Tufts Medical Center',\n",
       "    'state_name': 'Massachusetts',\n",
       "    'types': ['Healthcare']}],\n",
       "  'date': '2000-12-11',\n",
       "  'family_count': 1,\n",
       "  'family_id': 3754937,\n",
       "  'filing_date': '2000-12-11',\n",
       "  'filing_status': 'Application',\n",
       "  'id': 'AU-7217400-A',\n",
       "  'inventor_names': ['ANDROPHY ELLIOT J', 'CHEN JASON J'],\n",
       "  'ipcr': ['G01N33/50',\n",
       "   'C12N15/62',\n",
       "   'A61K38/17',\n",
       "   'C12Q1/68',\n",
       "   'C12N15/12',\n",
       "   'C07K14/47'],\n",
       "  'legal_status': 'Abandoned',\n",
       "  'priority_date': '1995-11-14',\n",
       "  'publication_date': '2001-02-22',\n",
       "  'times_cited': 0,\n",
       "  'title': 'E6 binding proteins',\n",
       "  'year': 2000},\n",
       " {'assignee_names': ['New England Medical Center Hospitals Inc'],\n",
       "  'assignees': [{'city_name': 'Boston',\n",
       "    'country_code': 'US',\n",
       "    'country_name': 'United States',\n",
       "    'id': 'grid.67033.31',\n",
       "    'latitude': 42.34951,\n",
       "    'linkout': ['https://www.tuftsmedicalcenter.org/'],\n",
       "    'longitude': -71.06331,\n",
       "    'name': 'Tufts Medical Center',\n",
       "    'state_name': 'Massachusetts',\n",
       "    'types': ['Healthcare']}],\n",
       "  'cpc': ['G01N33/68',\n",
       "   'C07K14/47',\n",
       "   'C07K16/081',\n",
       "   'A61P43/00',\n",
       "   'G01N2333/025',\n",
       "   'A01K2217/05',\n",
       "   'C12N2710/20022',\n",
       "   'C07K14/005'],\n",
       "  'date': '1995-12-22',\n",
       "  'expiration_date': '2015-12-22',\n",
       "  'family_count': 9,\n",
       "  'family_id': 23423520,\n",
       "  'filing_date': '1995-12-22',\n",
       "  'filing_status': 'Grant',\n",
       "  'granted_date': '1999-10-21',\n",
       "  'granted_year': 1999,\n",
       "  'id': 'AU-711651-B2',\n",
       "  'inventor_names': ['ANDROPHY ELLIOT J', 'BREIDING DAVID E'],\n",
       "  'ipcr': ['C07K16/00',\n",
       "   'A61K45/00',\n",
       "   'C12Q1/02',\n",
       "   'C12N1/19',\n",
       "   'A61K49/00',\n",
       "   'G01N33/53',\n",
       "   'C12R1/865',\n",
       "   'A01K67/027',\n",
       "   'C07K16/08',\n",
       "   'G01N33/68',\n",
       "   'C12Q1/68',\n",
       "   'C07H21/04',\n",
       "   'C12R1/91',\n",
       "   'A61P43/00',\n",
       "   'C12N5/00',\n",
       "   'C12P21/06',\n",
       "   'C07K14/47',\n",
       "   'C12N15/09',\n",
       "   'C07K14/025',\n",
       "   'A61K38/00',\n",
       "   'C07K1/00',\n",
       "   'C12P21/02',\n",
       "   'C12N15/00',\n",
       "   'C12N5/10'],\n",
       "  'legal_status': 'Ceased',\n",
       "  'priority_date': '1994-12-22',\n",
       "  'publication_date': '1999-10-21',\n",
       "  'times_cited': 0,\n",
       "  'title': 'E2 binding proteins',\n",
       "  'year': 1995},\n",
       " {'assignee_names': ['New England Medical Center Hospitals Inc', 'Biogen Inc'],\n",
       "  'assignees': [{'city_name': 'Boston',\n",
       "    'country_code': 'US',\n",
       "    'country_name': 'United States',\n",
       "    'id': 'grid.67033.31',\n",
       "    'latitude': 42.34951,\n",
       "    'linkout': ['https://www.tuftsmedicalcenter.org/'],\n",
       "    'longitude': -71.06331,\n",
       "    'name': 'Tufts Medical Center',\n",
       "    'state_name': 'Massachusetts',\n",
       "    'types': ['Healthcare']},\n",
       "   {'city_name': 'Cambridge',\n",
       "    'country_code': 'US',\n",
       "    'country_name': 'United States',\n",
       "    'id': 'grid.417832.b',\n",
       "    'latitude': 42.36644,\n",
       "    'linkout': ['https://www.biogen.com/'],\n",
       "    'longitude': -71.08527,\n",
       "    'name': 'Biogen (United States)',\n",
       "    'state_name': 'Massachusetts',\n",
       "    'types': ['Company']}],\n",
       "  'cpc': ['A61K38/00',\n",
       "   'C07K14/005',\n",
       "   'C12N2710/20022',\n",
       "   'Y10S530/826',\n",
       "   'C07K2319/80',\n",
       "   'C07K2319/61',\n",
       "   'C12N2740/16322',\n",
       "   'C07K2319/00',\n",
       "   'A61P31/12'],\n",
       "  'date': '1992-01-28',\n",
       "  'expiration_date': '2012-01-28',\n",
       "  'family_count': 12,\n",
       "  'family_id': 24595296,\n",
       "  'filing_date': '1992-01-28',\n",
       "  'filing_status': 'Grant',\n",
       "  'granted_date': '1996-06-27',\n",
       "  'granted_year': 1996,\n",
       "  'id': 'AU-669843-B2',\n",
       "  'inventor_names': ['ANDROPHY ELLIOT J', 'BARSOUM JAMES G'],\n",
       "  'ipcr': ['C07K14/16',\n",
       "   'A61K38/00',\n",
       "   'C07K14/025',\n",
       "   'C07K13/00',\n",
       "   'C12N15/09',\n",
       "   'C12N1/19',\n",
       "   'C12R1/19',\n",
       "   'A61K37/02',\n",
       "   'C12R1/85',\n",
       "   'A61P31/12',\n",
       "   'C12N15/37',\n",
       "   'C07K7/08',\n",
       "   'C12N1/21',\n",
       "   'C07K7/10',\n",
       "   'C12P21/02',\n",
       "   'C12N15/62'],\n",
       "  'legal_status': 'Ceased',\n",
       "  'priority_date': '1991-01-28',\n",
       "  'publication_date': '1996-06-27',\n",
       "  'times_cited': 0,\n",
       "  'title': 'Repressors of the trans-activating function of papillomavirus E2 proteins',\n",
       "  'year': 1992},\n",
       " {'assignee_names': ['New England Medical Center Hospitals Inc'],\n",
       "  'assignees': [{'city_name': 'Boston',\n",
       "    'country_code': 'US',\n",
       "    'country_name': 'United States',\n",
       "    'id': 'grid.67033.31',\n",
       "    'latitude': 42.34951,\n",
       "    'linkout': ['https://www.tuftsmedicalcenter.org/'],\n",
       "    'longitude': -71.06331,\n",
       "    'name': 'Tufts Medical Center',\n",
       "    'state_name': 'Massachusetts',\n",
       "    'types': ['Healthcare']}],\n",
       "  'cpc': ['G01N33/68',\n",
       "   'C12N2710/20022',\n",
       "   'C07K14/005',\n",
       "   'C07K14/47',\n",
       "   'A61P43/00',\n",
       "   'C07K16/081',\n",
       "   'A01K2217/05',\n",
       "   'G01N2333/025'],\n",
       "  'date': '1995-12-22',\n",
       "  'family_count': 9,\n",
       "  'family_id': 23423520,\n",
       "  'filing_date': '1995-12-22',\n",
       "  'filing_status': 'Application',\n",
       "  'id': 'AU-4607096-A',\n",
       "  'inventor_names': ['ANDROPHY ELLIOT J', 'BREIDING DAVID E'],\n",
       "  'ipcr': ['C12N5/10',\n",
       "   'G01N33/53',\n",
       "   'C12P21/06',\n",
       "   'C07K16/00',\n",
       "   'C12N15/09',\n",
       "   'G01N33/68',\n",
       "   'C07K14/47',\n",
       "   'C07K14/025',\n",
       "   'A61K49/00',\n",
       "   'C12N15/00',\n",
       "   'C12R1/865',\n",
       "   'C12N1/19',\n",
       "   'A01K67/027',\n",
       "   'C07H21/04',\n",
       "   'C12Q1/68',\n",
       "   'A61K38/00',\n",
       "   'C12Q1/02',\n",
       "   'C12P21/02',\n",
       "   'A61P43/00',\n",
       "   'A61K45/00',\n",
       "   'C07K1/00',\n",
       "   'C07K16/08',\n",
       "   'C12R1/91',\n",
       "   'C12N5/00'],\n",
       "  'legal_status': 'Granted',\n",
       "  'priority_date': '1994-12-22',\n",
       "  'publication_date': '1996-07-10',\n",
       "  'times_cited': 0,\n",
       "  'title': 'E2 binding proteins',\n",
       "  'year': 1995},\n",
       " {'assignee_names': ['New England Medical Center Hospitals Inc'],\n",
       "  'assignees': [{'city_name': 'Boston',\n",
       "    'country_code': 'US',\n",
       "    'country_name': 'United States',\n",
       "    'id': 'grid.67033.31',\n",
       "    'latitude': 42.34951,\n",
       "    'linkout': ['https://www.tuftsmedicalcenter.org/'],\n",
       "    'longitude': -71.06331,\n",
       "    'name': 'Tufts Medical Center',\n",
       "    'state_name': 'Massachusetts',\n",
       "    'types': ['Healthcare']}],\n",
       "  'cpc': ['A61P43/00',\n",
       "   'C07K14/47',\n",
       "   'A61P35/00',\n",
       "   'A61K38/00',\n",
       "   'A01K2217/05',\n",
       "   'A61P31/12',\n",
       "   'C07K2319/00'],\n",
       "  'date': '1995-06-15',\n",
       "  'family_count': 4,\n",
       "  'family_id': 23042372,\n",
       "  'filing_date': '1995-06-15',\n",
       "  'filing_status': 'Application',\n",
       "  'id': 'AU-2866695-A',\n",
       "  'inventor_names': ['ANDROPHY ELLIOT', 'CHEN JASON J'],\n",
       "  'ipcr': ['C12R1/19',\n",
       "   'C12N15/09',\n",
       "   'A61K38/00',\n",
       "   'C12P21/02',\n",
       "   'C12P21/06',\n",
       "   'A61P31/12',\n",
       "   'A61P43/00',\n",
       "   'G01N33/48',\n",
       "   'A61K39/12',\n",
       "   'G01N33/53',\n",
       "   'C07K14/47',\n",
       "   'A61K38/17',\n",
       "   'A01K67/027',\n",
       "   'C12Q1/68',\n",
       "   'C12N5/00',\n",
       "   'A61K38/43',\n",
       "   'G01N33/569',\n",
       "   'A61P35/00',\n",
       "   'C12N1/21',\n",
       "   'C07K1/00',\n",
       "   'G01N33/15',\n",
       "   'A61K38/16',\n",
       "   'C07K19/00'],\n",
       "  'legal_status': 'Abandoned',\n",
       "  'priority_date': '1994-07-08',\n",
       "  'publication_date': '1996-02-09',\n",
       "  'times_cited': 0,\n",
       "  'title': 'E6 binding proteins',\n",
       "  'year': 1995},\n",
       " {'assignee_names': ['Brigham and Womens Hospital Inc',\n",
       "   'Indiana University Research and Technology Corp'],\n",
       "  'assignees': [{'acronym': 'BWH',\n",
       "    'city_name': 'Boston',\n",
       "    'country_code': 'US',\n",
       "    'country_name': 'United States',\n",
       "    'id': 'grid.62560.37',\n",
       "    'latitude': 42.3356,\n",
       "    'linkout': ['http://www.brighamandwomens.org/'],\n",
       "    'longitude': -71.106415,\n",
       "    'name': \"Brigham and Women's Hospital\",\n",
       "    'state_name': 'Massachusetts',\n",
       "    'types': ['Healthcare']},\n",
       "   {'acronym': 'IUPUI',\n",
       "    'city_name': 'Indianapolis',\n",
       "    'country_code': 'US',\n",
       "    'country_name': 'United States',\n",
       "    'id': 'grid.257413.6',\n",
       "    'latitude': 39.776966,\n",
       "    'linkout': ['http://www.iupui.edu/'],\n",
       "    'longitude': -86.16858,\n",
       "    'name': 'Indiana University – Purdue University Indianapolis',\n",
       "    'state_name': 'Indiana',\n",
       "    'types': ['Education']}],\n",
       "  'category_bra': [{'id': '4001', 'name': 'Clinical Medicine and Science'}],\n",
       "  'category_for': [{'id': '80003',\n",
       "    'name': '32 Biomedical and Clinical Sciences'},\n",
       "   {'id': '80003', 'name': '32 Biomedical and Clinical Sciences'},\n",
       "   {'id': '80052', 'name': '3209 Neurosciences'}],\n",
       "  'category_hra': [{'id': '3900', 'name': 'Biomedical'}],\n",
       "  'category_hrcs_hc': [{'id': '897', 'name': 'Neurological'}],\n",
       "  'category_hrcs_rac': [{'id': '10501', 'name': '5.1 Pharmaceuticals'}],\n",
       "  'category_rcdc': [{'id': '387', 'name': 'Neurosciences'},\n",
       "   {'id': '483', 'name': 'Spinal Muscular Atrophy'},\n",
       "   {'id': '547', 'name': 'Pediatric'},\n",
       "   {'id': '559', 'name': 'Rare Diseases'},\n",
       "   {'id': '543', 'name': 'Orphan Drug'},\n",
       "   {'id': '542', 'name': 'Neurodegenerative'}],\n",
       "  'cpc': ['A61K31/4418',\n",
       "   'A01K2267/0318',\n",
       "   'A61K31/422',\n",
       "   'A61K31/4985',\n",
       "   'Y02A50/30',\n",
       "   'A61K31/517',\n",
       "   'A61K31/4709',\n",
       "   'A61K31/427',\n",
       "   'A61K31/4704',\n",
       "   'A61K31/437',\n",
       "   'A61K31/7125',\n",
       "   'A61P21/00',\n",
       "   'A61K31/444',\n",
       "   'A61K31/501',\n",
       "   'A61K31/426',\n",
       "   'A01K2227/105',\n",
       "   'A61K31/506',\n",
       "   'A61K45/06'],\n",
       "  'date': '2017-02-23',\n",
       "  'family_count': 15,\n",
       "  'family_id': 59631461,\n",
       "  'filing_date': '2017-02-23',\n",
       "  'filing_status': 'Application',\n",
       "  'id': 'AU-2017223706-A1',\n",
       "  'inventor_names': ['ANDROPHY ELLIOT J',\n",
       "   'HODGETTS KEVIN',\n",
       "   'CALDER ALYSSA NICOLE'],\n",
       "  'ipcr': ['A61K31/429', 'C07D513/04', 'A61K31/4353'],\n",
       "  'legal_status': 'Abandoned',\n",
       "  'priority_date': '2016-02-23',\n",
       "  'publication_date': '2018-09-20',\n",
       "  'times_cited': 0,\n",
       "  'title': 'Combination therapies for treatment of spinal muscular atrophy',\n",
       "  'year': 2017},\n",
       " {'assignee_names': ['Brigham and Womens Hospital Inc',\n",
       "   'University of Massachusetts UMass',\n",
       "   'Indiana University Research and Technology Corp'],\n",
       "  'assignees': [{'acronym': 'BWH',\n",
       "    'city_name': 'Boston',\n",
       "    'country_code': 'US',\n",
       "    'country_name': 'United States',\n",
       "    'id': 'grid.62560.37',\n",
       "    'latitude': 42.3356,\n",
       "    'linkout': ['http://www.brighamandwomens.org/'],\n",
       "    'longitude': -71.106415,\n",
       "    'name': \"Brigham and Women's Hospital\",\n",
       "    'state_name': 'Massachusetts',\n",
       "    'types': ['Healthcare']},\n",
       "   {'city_name': 'Boston',\n",
       "    'country_code': 'US',\n",
       "    'country_name': 'United States',\n",
       "    'id': 'grid.266684.8',\n",
       "    'latitude': 42.312634,\n",
       "    'linkout': ['http://www.massachusetts.edu/'],\n",
       "    'longitude': -71.03584,\n",
       "    'name': 'University of Massachusetts System',\n",
       "    'state_name': 'Massachusetts',\n",
       "    'types': ['Education']},\n",
       "   {'acronym': 'IUPUI',\n",
       "    'city_name': 'Indianapolis',\n",
       "    'country_code': 'US',\n",
       "    'country_name': 'United States',\n",
       "    'id': 'grid.257413.6',\n",
       "    'latitude': 39.776966,\n",
       "    'linkout': ['http://www.iupui.edu/'],\n",
       "    'longitude': -86.16858,\n",
       "    'name': 'Indiana University – Purdue University Indianapolis',\n",
       "    'state_name': 'Indiana',\n",
       "    'types': ['Education']}],\n",
       "  'category_bra': [{'id': '4001', 'name': 'Clinical Medicine and Science'}],\n",
       "  'category_for': [{'id': '80003',\n",
       "    'name': '32 Biomedical and Clinical Sciences'},\n",
       "   {'id': '80003', 'name': '32 Biomedical and Clinical Sciences'},\n",
       "   {'id': '80052', 'name': '3209 Neurosciences'}],\n",
       "  'category_hra': [{'id': '3900', 'name': 'Biomedical'}],\n",
       "  'category_hrcs_hc': [{'id': '897', 'name': 'Neurological'}],\n",
       "  'category_hrcs_rac': [{'id': '10501', 'name': '5.1 Pharmaceuticals'}],\n",
       "  'cpc': ['C07D405/12',\n",
       "   'C07D261/06',\n",
       "   'C07D231/14',\n",
       "   'C07D417/12',\n",
       "   'C07D239/47',\n",
       "   'C07D417/04',\n",
       "   'C07D233/88',\n",
       "   'C07D261/14',\n",
       "   'C07K14/47',\n",
       "   'C07D471/04',\n",
       "   'C07C2601/08',\n",
       "   'C07D285/135',\n",
       "   'C07D239/82',\n",
       "   'A61P21/00',\n",
       "   'C07D267/14',\n",
       "   'C07D277/46',\n",
       "   'C07C311/37',\n",
       "   'C07D405/04',\n",
       "   'C07D221/10',\n",
       "   'C07D215/227',\n",
       "   'C07D493/04',\n",
       "   'C07D261/18',\n",
       "   'C07D215/44',\n",
       "   'C07D413/12',\n",
       "   'C07D401/04',\n",
       "   'C07D263/48',\n",
       "   'C07D487/04',\n",
       "   'C07D213/75',\n",
       "   'C07C2603/20'],\n",
       "  'date': '2013-07-12',\n",
       "  'family_count': 10,\n",
       "  'family_id': 49916705,\n",
       "  'filing_date': '2013-07-12',\n",
       "  'filing_status': 'Application',\n",
       "  'id': 'AU-2013289938-A1',\n",
       "  'inventor_names': ['ANDROPHY ELLIOT J',\n",
       "   'CHERRY JONATHON J',\n",
       "   'CUNY GREGORY D',\n",
       "   'GLICKSMAN MARCIE A'],\n",
       "  'ipcr': ['A61K31/42', 'C07D413/12', 'C07D261/06', 'A61P21/00'],\n",
       "  'legal_status': 'Abandoned',\n",
       "  'priority_date': '2012-07-13',\n",
       "  'publication_date': '2015-01-29',\n",
       "  'times_cited': 0,\n",
       "  'title': 'Compounds for treatment of spinal muscular atrophy',\n",
       "  'year': 2013},\n",
       " {'assignee_names': ['New England Medical Center Hospitals Inc'],\n",
       "  'assignees': [{'city_name': 'Boston',\n",
       "    'country_code': 'US',\n",
       "    'country_name': 'United States',\n",
       "    'id': 'grid.67033.31',\n",
       "    'latitude': 42.34951,\n",
       "    'linkout': ['https://www.tuftsmedicalcenter.org/'],\n",
       "    'longitude': -71.06331,\n",
       "    'name': 'Tufts Medical Center',\n",
       "    'state_name': 'Massachusetts',\n",
       "    'types': ['Healthcare']}],\n",
       "  'date': '2002-06-27',\n",
       "  'family_count': 0,\n",
       "  'filing_date': '2002-06-27',\n",
       "  'filing_status': 'Application',\n",
       "  'id': 'AU-2002346016-A1',\n",
       "  'inventor_names': ['ANDROPHY, ELLIOT J.',\n",
       "   'BELAYEW, ALEXANDRA',\n",
       "   'DOSHI, NISHITA'],\n",
       "  'ipcr': ['C12Q1/68',\n",
       "   'A61K48/00',\n",
       "   'G01N33/74',\n",
       "   'A61K39/395',\n",
       "   'A61K38/17',\n",
       "   'G01N33/574'],\n",
       "  'legal_status': 'Abandoned',\n",
       "  'priority_date': '2001-06-27',\n",
       "  'publication_date': '2003-03-03',\n",
       "  'times_cited': 0,\n",
       "  'title': 'Diagnosis and treatment of cancer',\n",
       "  'year': 2002},\n",
       " {'assignee_names': ['New England Medical Center Hospitals Inc', 'Biogen Inc'],\n",
       "  'assignees': [{'city_name': 'Boston',\n",
       "    'country_code': 'US',\n",
       "    'country_name': 'United States',\n",
       "    'id': 'grid.67033.31',\n",
       "    'latitude': 42.34951,\n",
       "    'linkout': ['https://www.tuftsmedicalcenter.org/'],\n",
       "    'longitude': -71.06331,\n",
       "    'name': 'Tufts Medical Center',\n",
       "    'state_name': 'Massachusetts',\n",
       "    'types': ['Healthcare']},\n",
       "   {'city_name': 'Cambridge',\n",
       "    'country_code': 'US',\n",
       "    'country_name': 'United States',\n",
       "    'id': 'grid.417832.b',\n",
       "    'latitude': 42.36644,\n",
       "    'linkout': ['https://www.biogen.com/'],\n",
       "    'longitude': -71.08527,\n",
       "    'name': 'Biogen (United States)',\n",
       "    'state_name': 'Massachusetts',\n",
       "    'types': ['Company']}],\n",
       "  'cpc': ['A61P31/12',\n",
       "   'C07K2319/00',\n",
       "   'C07K14/005',\n",
       "   'A61K38/00',\n",
       "   'C07K2319/61',\n",
       "   'C12N2710/20022',\n",
       "   'Y10S530/826',\n",
       "   'C12N2740/16322',\n",
       "   'C07K2319/80'],\n",
       "  'date': '1992-01-28',\n",
       "  'family_count': 12,\n",
       "  'family_id': 24595296,\n",
       "  'filing_date': '1992-01-28',\n",
       "  'filing_status': 'Application',\n",
       "  'id': 'AU-1242492-A',\n",
       "  'inventor_names': ['ANDROPHY ELLIOT J', 'BARSOUM JAMES G'],\n",
       "  'ipcr': ['C12P21/02',\n",
       "   'C12N1/00',\n",
       "   'C12N15/62',\n",
       "   'C12N1/19',\n",
       "   'C12R1/85',\n",
       "   'C12N15/37',\n",
       "   'A61K37/02',\n",
       "   'C12N1/21',\n",
       "   'C07K14/025',\n",
       "   'A61K38/00',\n",
       "   'A61P31/12',\n",
       "   'C07K13/00',\n",
       "   'C12R1/19',\n",
       "   'C07K14/16',\n",
       "   'C12N15/09'],\n",
       "  'legal_status': 'Granted',\n",
       "  'priority_date': '1991-01-28',\n",
       "  'publication_date': '1992-08-27',\n",
       "  'times_cited': 0,\n",
       "  'title': 'REPRESSORS OF THE TRANS-ACTIVATING FUNCTION OF PAPILLOMAVIRUS E2 PROTEINS',\n",
       "  'year': 1992},\n",
       " {'assignee_names': ['New England Medical Center Hospitals Inc'],\n",
       "  'assignees': [{'city_name': 'Boston',\n",
       "    'country_code': 'US',\n",
       "    'country_name': 'United States',\n",
       "    'id': 'grid.67033.31',\n",
       "    'latitude': 42.34951,\n",
       "    'linkout': ['https://www.tuftsmedicalcenter.org/'],\n",
       "    'longitude': -71.06331,\n",
       "    'name': 'Tufts Medical Center',\n",
       "    'state_name': 'Massachusetts',\n",
       "    'types': ['Healthcare']}],\n",
       "  'cpc': ['C12N2730/10122',\n",
       "   'C07K14/005',\n",
       "   'C07K14/001',\n",
       "   'G01N33/56983',\n",
       "   'A61P31/20'],\n",
       "  'date': '1998-10-06',\n",
       "  'family_count': 5,\n",
       "  'family_id': 22034861,\n",
       "  'filing_date': '1998-10-06',\n",
       "  'filing_status': 'Application',\n",
       "  'id': 'AU-1067699-A',\n",
       "  'inventor_names': ['ANDROPHY ELLIOT J', 'BALEJA JAMES D', 'CHEN JASON J'],\n",
       "  'ipcr': ['G01N33/566',\n",
       "   'A61K38/00',\n",
       "   'G06T1/00',\n",
       "   'A61P31/20',\n",
       "   'A61K45/00',\n",
       "   'C07K14/00',\n",
       "   'G01N33/569',\n",
       "   'C07K14/02',\n",
       "   'C07K14/025',\n",
       "   'C12Q1/70',\n",
       "   'G06F17/30',\n",
       "   'A01N61/00'],\n",
       "  'legal_status': 'Abandoned',\n",
       "  'priority_date': '1997-10-07',\n",
       "  'publication_date': '1999-04-27',\n",
       "  'times_cited': 0,\n",
       "  'title': 'Structure-based rational design of compounds to inhibit papillomavirus infe ction',\n",
       "  'year': 1998},\n",
       " {'assignee_names': ['NEW ENGLAND MEDICAL CENTER INC'],\n",
       "  'assignees': [{'city_name': 'Boston',\n",
       "    'country_code': 'US',\n",
       "    'country_name': 'United States',\n",
       "    'id': 'grid.67033.31',\n",
       "    'latitude': 42.34951,\n",
       "    'linkout': ['https://www.tuftsmedicalcenter.org/'],\n",
       "    'longitude': -71.06331,\n",
       "    'name': 'Tufts Medical Center',\n",
       "    'state_name': 'Massachusetts',\n",
       "    'types': ['Healthcare']}],\n",
       "  'category_bra': [{'id': '4000', 'name': 'Basic Science'}],\n",
       "  'category_for': [{'id': '80002', 'name': '31 Biological Sciences'},\n",
       "   {'id': '80050', 'name': '3207 Medical Microbiology'},\n",
       "   {'id': '80003', 'name': '32 Biomedical and Clinical Sciences'}],\n",
       "  'category_hra': [{'id': '3900', 'name': 'Biomedical'}],\n",
       "  'category_hrcs_hc': [{'id': '898', 'name': 'Infection'}],\n",
       "  'category_rcdc': [{'id': '526', 'name': 'Genetics'}],\n",
       "  'cpc': ['C07K14/005',\n",
       "   'C12N2310/13',\n",
       "   'C07K2319/00',\n",
       "   'A61K31/70',\n",
       "   'C12N15/1131',\n",
       "   'A61K38/00',\n",
       "   'C12N2710/20022'],\n",
       "  'date': '1988-08-08',\n",
       "  'family_count': 9,\n",
       "  'family_id': 22180594,\n",
       "  'filing_date': '1988-08-08',\n",
       "  'filing_status': 'N/A',\n",
       "  'id': 'AT-E102993-T1',\n",
       "  'inventor_names': ['ANDROPHY ELLIOT J', 'LOWY DOUGLAS R', 'SCHILLER JOHN T'],\n",
       "  'ipcr': ['C07K14/01',\n",
       "   'C12N15/09',\n",
       "   'A61K38/00',\n",
       "   'C12N7/04',\n",
       "   'C07H21/04',\n",
       "   'C12N15/37',\n",
       "   'C12N15/113',\n",
       "   'C07K14/025'],\n",
       "  'legal_status': 'N/A',\n",
       "  'priority_date': '1987-08-07',\n",
       "  'publication_date': '1994-04-15',\n",
       "  'times_cited': 0,\n",
       "  'title': 'VIRAL EXPRESSION INHIBITORS.',\n",
       "  'year': 1988}]"
      ]
     },
     "execution_count": 8,
     "metadata": {},
     "output_type": "execute_result"
    }
   ],
   "source": [
    "def single_id(person_id):\n",
    "    #[basics+categories+extras]\n",
    "    res3 = dsl.query_iterative(f\"\"\"search patents where researchers = \"{person_id}\" return patents[basics+categories+extras+family_count+family_id+federal_support+filing_date+granted_date+publication_ids]\"\"\")\n",
    "    listDict3 = res3.json['patents']\n",
    "    number = res3.json['_stats']['total_count']\n",
    "    print(f'{person_id} id has {number} patents')\n",
    "    name_list = []\n",
    "    for patent in listDict3:\n",
    "        name_list.append(patent)\n",
    "        \n",
    "\n",
    "    return(name_list)\n",
    "\n",
    "\n",
    "#\"ur.0706401556.06\", Elliot Androphy\n",
    "#ur.01112411132.31\n",
    "single_id(\"ur.0706401556.06\")"
   ]
  },
  {
   "cell_type": "code",
   "execution_count": 11,
   "id": "54874f22",
   "metadata": {
    "scrolled": true
   },
   "outputs": [
    {
     "name": "stderr",
     "output_type": "stream",
     "text": [
      "Starting iteration with limit=1000 skip=0 ...\u001b[0m\n"
     ]
    },
    {
     "name": "stdout",
     "output_type": "stream",
     "text": [
      "ur.01277425615.41\n"
     ]
    },
    {
     "name": "stderr",
     "output_type": "stream",
     "text": [
      "0-48 / 48 (1.75s)\u001b[0m\n",
      "===\n",
      "Records extracted: 48\u001b[0m\n",
      "Starting iteration with limit=1000 skip=0 ...\u001b[0m\n"
     ]
    },
    {
     "name": "stdout",
     "output_type": "stream",
     "text": [
      "ur.01277425615.41 id has 48 patents\n",
      "1. Yale Nemerson\n",
      "ur.0735577112.30\n"
     ]
    },
    {
     "name": "stderr",
     "output_type": "stream",
     "text": [
      "0-1 / 1 (1.98s)\u001b[0m\n",
      "===\n",
      "Records extracted: 1\u001b[0m\n",
      "Starting iteration with limit=1000 skip=0 ...\u001b[0m\n"
     ]
    },
    {
     "name": "stdout",
     "output_type": "stream",
     "text": [
      "ur.0735577112.30 id has 1 patents\n",
      "2. Elia Ayoub\n",
      "ur.01025071275.97\n"
     ]
    },
    {
     "name": "stderr",
     "output_type": "stream",
     "text": [
      "0-6 / 6 (4.53s)\u001b[0m\n",
      "===\n",
      "Records extracted: 6\u001b[0m\n",
      "Starting iteration with limit=1000 skip=0 ...\u001b[0m\n"
     ]
    },
    {
     "name": "stdout",
     "output_type": "stream",
     "text": [
      "ur.01025071275.97 id has 6 patents\n",
      "3. John Dietschy\n",
      "ur.0101401022.42\n"
     ]
    },
    {
     "name": "stderr",
     "output_type": "stream",
     "text": [
      "===\n",
      "Records extracted: 0\u001b[0m\n",
      "Starting iteration with limit=1000 skip=0 ...\u001b[0m\n"
     ]
    },
    {
     "name": "stdout",
     "output_type": "stream",
     "text": [
      "ur.0101401022.42 id has 0 patents\n",
      "4. Yale Enson\n",
      "ur.0110335427.79\n"
     ]
    },
    {
     "name": "stderr",
     "output_type": "stream",
     "text": [
      "===\n",
      "Records extracted: 0\u001b[0m\n",
      "Starting iteration with limit=1000 skip=0 ...\u001b[0m\n"
     ]
    },
    {
     "name": "stdout",
     "output_type": "stream",
     "text": [
      "ur.0110335427.79 id has 0 patents\n",
      "5. Mehran Goulian\n",
      "ur.014367154157.97\n"
     ]
    },
    {
     "name": "stderr",
     "output_type": "stream",
     "text": [
      "0-23 / 23 (4.63s)\u001b[0m\n",
      "===\n",
      "Records extracted: 23\u001b[0m\n",
      "Starting iteration with limit=1000 skip=0 ...\u001b[0m\n"
     ]
    },
    {
     "name": "stdout",
     "output_type": "stream",
     "text": [
      "ur.014367154157.97 id has 23 patents\n",
      "6. Norman Javitt\n",
      "ur.01365573305.13\n"
     ]
    },
    {
     "name": "stderr",
     "output_type": "stream",
     "text": [
      "===\n",
      "Records extracted: 0\u001b[0m\n",
      "Starting iteration with limit=1000 skip=0 ...\u001b[0m\n"
     ]
    },
    {
     "name": "stdout",
     "output_type": "stream",
     "text": [
      "ur.01365573305.13 id has 0 patents\n",
      "7. Hermes Kontos\n",
      "ur.063473265.70\n"
     ]
    },
    {
     "name": "stderr",
     "output_type": "stream",
     "text": [
      "===\n",
      "Records extracted: 0\u001b[0m\n",
      "Starting iteration with limit=1000 skip=0 ...\u001b[0m\n"
     ]
    },
    {
     "name": "stdout",
     "output_type": "stream",
     "text": [
      "ur.063473265.70 id has 0 patents\n",
      "8. Gilbert Levinson\n",
      "ur.0103350205.47\n"
     ]
    },
    {
     "name": "stderr",
     "output_type": "stream",
     "text": [
      "===\n",
      "Records extracted: 0\u001b[0m\n",
      "Starting iteration with limit=1000 skip=0 ...\u001b[0m\n"
     ]
    },
    {
     "name": "stdout",
     "output_type": "stream",
     "text": [
      "ur.0103350205.47 id has 0 patents\n",
      "9. Harvey Marver\n",
      "ur.0770536113.50\n"
     ]
    },
    {
     "name": "stderr",
     "output_type": "stream",
     "text": [
      "0-3 / 3 (3.40s)\u001b[0m\n",
      "===\n",
      "Records extracted: 3\u001b[0m\n",
      "Starting iteration with limit=1000 skip=0 ...\u001b[0m\n"
     ]
    },
    {
     "name": "stdout",
     "output_type": "stream",
     "text": [
      "ur.0770536113.50 id has 3 patents\n",
      "10. Harold Neu\n",
      "ur.01205720337.52\n"
     ]
    },
    {
     "name": "stderr",
     "output_type": "stream",
     "text": [
      "0-15 / 15 (0.96s)\u001b[0m\n",
      "===\n",
      "Records extracted: 15\u001b[0m\n",
      "Starting iteration with limit=1000 skip=0 ...\u001b[0m\n"
     ]
    },
    {
     "name": "stdout",
     "output_type": "stream",
     "text": [
      "ur.01205720337.52 id has 15 patents\n",
      "11. Arthur Eisen\n",
      "ur.01371673556.42\n"
     ]
    },
    {
     "name": "stderr",
     "output_type": "stream",
     "text": [
      "===\n",
      "Records extracted: 0\u001b[0m\n",
      "Starting iteration with limit=1000 skip=0 ...\u001b[0m\n"
     ]
    },
    {
     "name": "stdout",
     "output_type": "stream",
     "text": [
      "ur.01371673556.42 id has 0 patents\n",
      "12. Barry Fanburg\n",
      "ur.053601322.36\n"
     ]
    },
    {
     "name": "stderr",
     "output_type": "stream",
     "text": [
      "0-6 / 6 (1.27s)\u001b[0m\n",
      "===\n",
      "Records extracted: 6\u001b[0m\n",
      "Starting iteration with limit=1000 skip=0 ...\u001b[0m\n"
     ]
    },
    {
     "name": "stdout",
     "output_type": "stream",
     "text": [
      "ur.053601322.36 id has 6 patents\n",
      "13. Dorothea Zucker-Franklin\n",
      "ur.0105303412.71\n"
     ]
    },
    {
     "name": "stderr",
     "output_type": "stream",
     "text": [
      "0-3 / 3 (2.60s)\u001b[0m\n",
      "===\n",
      "Records extracted: 3\u001b[0m\n",
      "Starting iteration with limit=1000 skip=0 ...\u001b[0m\n"
     ]
    },
    {
     "name": "stdout",
     "output_type": "stream",
     "text": [
      "ur.0105303412.71 id has 3 patents\n",
      "14. Nathan Zvaifler\n",
      "ur.052632615.36\n"
     ]
    },
    {
     "name": "stderr",
     "output_type": "stream",
     "text": [
      "===\n",
      "Records extracted: 0\u001b[0m\n",
      "Starting iteration with limit=1000 skip=0 ...\u001b[0m\n"
     ]
    },
    {
     "name": "stdout",
     "output_type": "stream",
     "text": [
      "ur.052632615.36 id has 0 patents\n",
      "15. Phyllis Bodel\n",
      "ur.056035721.35\n"
     ]
    },
    {
     "name": "stderr",
     "output_type": "stream",
     "text": [
      "===\n",
      "Records extracted: 0\u001b[0m\n",
      "Starting iteration with limit=1000 skip=0 ...\u001b[0m\n"
     ]
    },
    {
     "name": "stdout",
     "output_type": "stream",
     "text": [
      "ur.056035721.35 id has 0 patents\n",
      "16. Sidney Cooperband\n",
      "ur.0103451421.33\n"
     ]
    },
    {
     "name": "stderr",
     "output_type": "stream",
     "text": [
      "===\n",
      "Records extracted: 0\u001b[0m\n",
      "Starting iteration with limit=1000 skip=0 ...\u001b[0m\n"
     ]
    },
    {
     "name": "stdout",
     "output_type": "stream",
     "text": [
      "ur.0103451421.33 id has 0 patents\n",
      "17. Jacques Kessler\n",
      "ur.054037724.92\n"
     ]
    },
    {
     "name": "stderr",
     "output_type": "stream",
     "text": [
      "===\n",
      "Records extracted: 0\u001b[0m\n",
      "Starting iteration with limit=1000 skip=0 ...\u001b[0m\n"
     ]
    },
    {
     "name": "stdout",
     "output_type": "stream",
     "text": [
      "ur.054037724.92 id has 0 patents\n",
      "18. Stanley Korenman\n",
      "ur.0745507037.13\n"
     ]
    },
    {
     "name": "stderr",
     "output_type": "stream",
     "text": [
      "===\n",
      "Records extracted: 0\u001b[0m\n",
      "Starting iteration with limit=1000 skip=0 ...\u001b[0m\n"
     ]
    },
    {
     "name": "stdout",
     "output_type": "stream",
     "text": [
      "ur.0745507037.13 id has 0 patents\n",
      "19. Gildon Beall\n",
      "ur.01115513255.09\n"
     ]
    },
    {
     "name": "stderr",
     "output_type": "stream",
     "text": [
      "===\n",
      "Records extracted: 0\u001b[0m\n",
      "Starting iteration with limit=1000 skip=0 ...\u001b[0m\n"
     ]
    },
    {
     "name": "stdout",
     "output_type": "stream",
     "text": [
      "ur.01115513255.09 id has 0 patents\n",
      "20. Neil Cherniack\n",
      "ur.01346307176.17\n"
     ]
    },
    {
     "name": "stderr",
     "output_type": "stream",
     "text": [
      "0-82 / 82 (1.35s)\u001b[0m\n",
      "===\n",
      "Records extracted: 82\u001b[0m\n",
      "Starting iteration with limit=1000 skip=0 ...\u001b[0m\n"
     ]
    },
    {
     "name": "stdout",
     "output_type": "stream",
     "text": [
      "ur.01346307176.17 id has 82 patents\n",
      "21. Blas Frangione\n",
      "ur.0751444026.49\n"
     ]
    },
    {
     "name": "stderr",
     "output_type": "stream",
     "text": [
      "===\n",
      "Records extracted: 0\u001b[0m\n",
      "Starting iteration with limit=1000 skip=0 ...\u001b[0m\n"
     ]
    },
    {
     "name": "stdout",
     "output_type": "stream",
     "text": [
      "ur.0751444026.49 id has 0 patents\n",
      "22. Irwin Freedberg\n",
      "ur.070327605.06\n"
     ]
    },
    {
     "name": "stderr",
     "output_type": "stream",
     "text": [
      "===\n",
      "Records extracted: 0\u001b[0m\n",
      "Starting iteration with limit=1000 skip=0 ...\u001b[0m\n"
     ]
    },
    {
     "name": "stdout",
     "output_type": "stream",
     "text": [
      "ur.070327605.06 id has 0 patents\n",
      "23. Thomas Merimee\n",
      "ur.047134623.93\n"
     ]
    },
    {
     "name": "stderr",
     "output_type": "stream",
     "text": [
      "===\n",
      "Records extracted: 0\u001b[0m\n",
      "Starting iteration with limit=1000 skip=0 ...\u001b[0m\n"
     ]
    },
    {
     "name": "stdout",
     "output_type": "stream",
     "text": [
      "ur.047134623.93 id has 0 patents\n",
      "24. I Samloff\n",
      "ur.01162021515.51\n"
     ]
    },
    {
     "name": "stderr",
     "output_type": "stream",
     "text": [
      "0-2 / 2 (1.01s)\u001b[0m\n",
      "===\n",
      "Records extracted: 2\u001b[0m\n",
      "Starting iteration with limit=1000 skip=0 ...\u001b[0m\n"
     ]
    },
    {
     "name": "stdout",
     "output_type": "stream",
     "text": [
      "ur.01162021515.51 id has 2 patents\n",
      "25. Wadi Suki\n",
      "ur.01240650601.63\n"
     ]
    },
    {
     "name": "stderr",
     "output_type": "stream",
     "text": [
      "===\n",
      "Records extracted: 0\u001b[0m\n",
      "Starting iteration with limit=1000 skip=0 ...\u001b[0m\n"
     ]
    },
    {
     "name": "stdout",
     "output_type": "stream",
     "text": [
      "ur.01240650601.63 id has 0 patents\n",
      "26. Shirley Ebbe\n",
      "ur.012322211332.27\n"
     ]
    },
    {
     "name": "stderr",
     "output_type": "stream",
     "text": [
      "===\n",
      "Records extracted: 0\u001b[0m\n",
      "Starting iteration with limit=1000 skip=0 ...\u001b[0m\n"
     ]
    },
    {
     "name": "stdout",
     "output_type": "stream",
     "text": [
      "ur.012322211332.27 id has 0 patents\n",
      "27. Clyde Bardin\n",
      "ur.0722437767.92\n"
     ]
    },
    {
     "name": "stderr",
     "output_type": "stream",
     "text": [
      "===\n",
      "Records extracted: 0\u001b[0m\n",
      "Starting iteration with limit=1000 skip=0 ...\u001b[0m\n"
     ]
    },
    {
     "name": "stdout",
     "output_type": "stream",
     "text": [
      "ur.0722437767.92 id has 0 patents\n",
      "28. Ward Bullock\n",
      "ur.057162657.14\n"
     ]
    },
    {
     "name": "stderr",
     "output_type": "stream",
     "text": [
      "===\n",
      "Records extracted: 0\u001b[0m\n",
      "Starting iteration with limit=1000 skip=0 ...\u001b[0m\n"
     ]
    },
    {
     "name": "stdout",
     "output_type": "stream",
     "text": [
      "ur.057162657.14 id has 0 patents\n",
      "29. Jack Coburn\n",
      "ur.01120432047.56\n"
     ]
    },
    {
     "name": "stderr",
     "output_type": "stream",
     "text": [
      "0-12 / 12 (0.66s)\u001b[0m\n",
      "===\n",
      "Records extracted: 12\u001b[0m\n",
      "Starting iteration with limit=1000 skip=0 ...\u001b[0m\n"
     ]
    },
    {
     "name": "stdout",
     "output_type": "stream",
     "text": [
      "ur.01120432047.56 id has 12 patents\n",
      "30. Richard Levere\n",
      "ur.015122611337.60\n"
     ]
    },
    {
     "name": "stderr",
     "output_type": "stream",
     "text": [
      "===\n",
      "Records extracted: 0\u001b[0m\n",
      "Starting iteration with limit=1000 skip=0 ...\u001b[0m\n"
     ]
    },
    {
     "name": "stdout",
     "output_type": "stream",
     "text": [
      "ur.015122611337.60 id has 0 patents\n",
      "31. Michael Mosesson\n",
      "ur.065441563.04\n"
     ]
    },
    {
     "name": "stderr",
     "output_type": "stream",
     "text": [
      "===\n",
      "Records extracted: 0\u001b[0m\n",
      "Starting iteration with limit=1000 skip=0 ...\u001b[0m\n"
     ]
    },
    {
     "name": "stdout",
     "output_type": "stream",
     "text": [
      "ur.065441563.04 id has 0 patents\n",
      "32. Ursula Muller-Eberhard\n",
      "ur.052345724.22\n"
     ]
    },
    {
     "name": "stderr",
     "output_type": "stream",
     "text": [
      "===\n",
      "Records extracted: 0\u001b[0m\n",
      "Starting iteration with limit=1000 skip=0 ...\u001b[0m\n"
     ]
    },
    {
     "name": "stdout",
     "output_type": "stream",
     "text": [
      "ur.052345724.22 id has 0 patents\n",
      "33. Leon Sabath\n",
      "ur.01255545437.45\n"
     ]
    },
    {
     "name": "stderr",
     "output_type": "stream",
     "text": [
      "0-8 / 8 (1.54s)\u001b[0m\n",
      "===\n",
      "Records extracted: 8\u001b[0m\n",
      "Starting iteration with limit=1000 skip=0 ...\u001b[0m\n"
     ]
    },
    {
     "name": "stdout",
     "output_type": "stream",
     "text": [
      "ur.01255545437.45 id has 8 patents\n",
      "34. Burton Sobel\n",
      "ur.0615233566.88\n"
     ]
    },
    {
     "name": "stderr",
     "output_type": "stream",
     "text": [
      "===\n",
      "Records extracted: 0\u001b[0m\n",
      "Starting iteration with limit=1000 skip=0 ...\u001b[0m\n"
     ]
    },
    {
     "name": "stdout",
     "output_type": "stream",
     "text": [
      "ur.0615233566.88 id has 0 patents\n",
      "35. Martin Surks\n",
      "ur.01160461772.93\n"
     ]
    },
    {
     "name": "stderr",
     "output_type": "stream",
     "text": [
      "===\n",
      "Records extracted: 0\u001b[0m\n",
      "Starting iteration with limit=1000 skip=0 ...\u001b[0m\n"
     ]
    },
    {
     "name": "stdout",
     "output_type": "stream",
     "text": [
      "ur.01160461772.93 id has 0 patents\n",
      "36. Siamak Adibi\n",
      "ur.01173542743.88\n"
     ]
    },
    {
     "name": "stderr",
     "output_type": "stream",
     "text": [
      "===\n",
      "Records extracted: 0\u001b[0m\n",
      "Starting iteration with limit=1000 skip=0 ...\u001b[0m\n"
     ]
    },
    {
     "name": "stdout",
     "output_type": "stream",
     "text": [
      "ur.01173542743.88 id has 0 patents\n",
      "37. Carl Bentzel\n",
      "ur.01062710551.51\n"
     ]
    },
    {
     "name": "stderr",
     "output_type": "stream",
     "text": [
      "===\n",
      "Records extracted: 0\u001b[0m\n",
      "Starting iteration with limit=1000 skip=0 ...\u001b[0m\n"
     ]
    },
    {
     "name": "stdout",
     "output_type": "stream",
     "text": [
      "ur.01062710551.51 id has 0 patents\n",
      "38. Kevin Catt\n",
      "ur.0604674001.96\n"
     ]
    },
    {
     "name": "stderr",
     "output_type": "stream",
     "text": [
      "===\n",
      "Records extracted: 0\u001b[0m\n",
      "Starting iteration with limit=1000 skip=0 ...\u001b[0m\n"
     ]
    },
    {
     "name": "stdout",
     "output_type": "stream",
     "text": [
      "ur.0604674001.96 id has 0 patents\n",
      "39. Wallace Clyde\n",
      "ur.0713143534.23\n"
     ]
    },
    {
     "name": "stderr",
     "output_type": "stream",
     "text": [
      "===\n",
      "Records extracted: 0\u001b[0m\n",
      "Starting iteration with limit=1000 skip=0 ...\u001b[0m\n"
     ]
    },
    {
     "name": "stdout",
     "output_type": "stream",
     "text": [
      "ur.0713143534.23 id has 0 patents\n",
      "40. Harvey Colten\n",
      "ur.01061255657.32\n"
     ]
    },
    {
     "name": "stderr",
     "output_type": "stream",
     "text": [
      "===\n",
      "Records extracted: 0\u001b[0m\n",
      "Starting iteration with limit=1000 skip=0 ...\u001b[0m\n"
     ]
    },
    {
     "name": "stdout",
     "output_type": "stream",
     "text": [
      "ur.01061255657.32 id has 0 patents\n",
      "41. Bernard Forget\n",
      "ur.0105070462.54\n"
     ]
    },
    {
     "name": "stderr",
     "output_type": "stream",
     "text": [
      "===\n",
      "Records extracted: 0\u001b[0m\n",
      "Starting iteration with limit=1000 skip=0 ...\u001b[0m\n"
     ]
    },
    {
     "name": "stdout",
     "output_type": "stream",
     "text": [
      "ur.0105070462.54 id has 0 patents\n",
      "42. Eugene Frenkel\n",
      "ur.013741776477.58\n"
     ]
    },
    {
     "name": "stderr",
     "output_type": "stream",
     "text": [
      "===\n",
      "Records extracted: 0\u001b[0m\n",
      "Starting iteration with limit=1000 skip=0 ...\u001b[0m\n"
     ]
    },
    {
     "name": "stdout",
     "output_type": "stream",
     "text": [
      "ur.013741776477.58 id has 0 patents\n",
      "43. Jared Grantham\n",
      "ur.0634305514.71\n"
     ]
    },
    {
     "name": "stderr",
     "output_type": "stream",
     "text": [
      "===\n",
      "Records extracted: 0\u001b[0m\n",
      "Starting iteration with limit=1000 skip=0 ...\u001b[0m\n"
     ]
    },
    {
     "name": "stdout",
     "output_type": "stream",
     "text": [
      "ur.0634305514.71 id has 0 patents\n",
      "44. Mitchell Halperin\n",
      "ur.01243144546.88\n"
     ]
    },
    {
     "name": "stderr",
     "output_type": "stream",
     "text": [
      "===\n",
      "Records extracted: 0\u001b[0m\n",
      "Starting iteration with limit=1000 skip=0 ...\u001b[0m\n"
     ]
    },
    {
     "name": "stdout",
     "output_type": "stream",
     "text": [
      "ur.01243144546.88 id has 0 patents\n",
      "45. Leon Hoyer\n",
      "ur.066764457.21\n"
     ]
    },
    {
     "name": "stderr",
     "output_type": "stream",
     "text": [
      "0-1 / 1 (0.81s)\u001b[0m\n",
      "===\n",
      "Records extracted: 1\u001b[0m\n",
      "Starting iteration with limit=1000 skip=0 ...\u001b[0m\n"
     ]
    },
    {
     "name": "stdout",
     "output_type": "stream",
     "text": [
      "ur.066764457.21 id has 1 patents\n",
      "46. Jamshid Javid\n",
      "ur.01224770411.99\n"
     ]
    },
    {
     "name": "stderr",
     "output_type": "stream",
     "text": [
      "===\n",
      "Records extracted: 0\u001b[0m\n",
      "Starting iteration with limit=1000 skip=0 ...\u001b[0m\n"
     ]
    },
    {
     "name": "stdout",
     "output_type": "stream",
     "text": [
      "ur.01224770411.99 id has 0 patents\n",
      "47. Marshall Lichtman\n",
      "ur.0105167756.85\n"
     ]
    },
    {
     "name": "stderr",
     "output_type": "stream",
     "text": [
      "===\n",
      "Records extracted: 0\u001b[0m\n",
      "Starting iteration with limit=1000 skip=0 ...\u001b[0m\n"
     ]
    },
    {
     "name": "stdout",
     "output_type": "stream",
     "text": [
      "ur.0105167756.85 id has 0 patents\n",
      "48. Ruy Lourenco\n",
      "ur.0110452137.82\n"
     ]
    },
    {
     "name": "stderr",
     "output_type": "stream",
     "text": [
      "===\n",
      "Records extracted: 0\u001b[0m\n",
      "Starting iteration with limit=1000 skip=0 ...\u001b[0m\n"
     ]
    },
    {
     "name": "stdout",
     "output_type": "stream",
     "text": [
      "ur.0110452137.82 id has 0 patents\n",
      "49. John Salvaggio\n",
      "ur.0107305341.81\n"
     ]
    },
    {
     "name": "stderr",
     "output_type": "stream",
     "text": [
      "===\n",
      "Records extracted: 0\u001b[0m\n",
      "Starting iteration with limit=1000 skip=0 ...\u001b[0m\n"
     ]
    },
    {
     "name": "stdout",
     "output_type": "stream",
     "text": [
      "ur.0107305341.81 id has 0 patents\n",
      "50. Manning Thaler\n",
      "ur.053552725.23\n"
     ]
    },
    {
     "name": "stderr",
     "output_type": "stream",
     "text": [
      "===\n",
      "Records extracted: 0\u001b[0m\n",
      "Starting iteration with limit=1000 skip=0 ...\u001b[0m\n"
     ]
    },
    {
     "name": "stdout",
     "output_type": "stream",
     "text": [
      "ur.053552725.23 id has 0 patents\n",
      "51. Harry Beaty\n",
      "ur.067314304.25\n"
     ]
    },
    {
     "name": "stderr",
     "output_type": "stream",
     "text": [
      "===\n",
      "Records extracted: 0\u001b[0m\n",
      "Starting iteration with limit=1000 skip=0 ...\u001b[0m\n"
     ]
    },
    {
     "name": "stdout",
     "output_type": "stream",
     "text": [
      "ur.067314304.25 id has 0 patents\n",
      "52. Viktor Bokisch\n",
      "ur.01161623132.59\n"
     ]
    },
    {
     "name": "stderr",
     "output_type": "stream",
     "text": [
      "0-1 / 1 (0.85s)\u001b[0m\n",
      "===\n",
      "Records extracted: 1\u001b[0m\n",
      "Starting iteration with limit=1000 skip=0 ...\u001b[0m\n"
     ]
    },
    {
     "name": "stdout",
     "output_type": "stream",
     "text": [
      "ur.01161623132.59 id has 1 patents\n",
      "53. Inder Chopra\n",
      "ur.065312163.22\n"
     ]
    },
    {
     "name": "stderr",
     "output_type": "stream",
     "text": [
      "===\n",
      "Records extracted: 0\u001b[0m\n",
      "Starting iteration with limit=1000 skip=0 ...\u001b[0m\n"
     ]
    },
    {
     "name": "stdout",
     "output_type": "stream",
     "text": [
      "ur.065312163.22 id has 0 patents\n",
      "54. Darrell Fanestil\n",
      "ur.0100115522.65\n"
     ]
    },
    {
     "name": "stderr",
     "output_type": "stream",
     "text": [
      "===\n",
      "Records extracted: 0\u001b[0m\n",
      "Starting iteration with limit=1000 skip=0 ...\u001b[0m\n"
     ]
    },
    {
     "name": "stdout",
     "output_type": "stream",
     "text": [
      "ur.0100115522.65 id has 0 patents\n",
      "55. Alexander Fefer\n",
      "ur.010704766044.23\n"
     ]
    },
    {
     "name": "stderr",
     "output_type": "stream",
     "text": [
      "===\n",
      "Records extracted: 0\u001b[0m\n",
      "Starting iteration with limit=1000 skip=0 ...\u001b[0m\n"
     ]
    },
    {
     "name": "stdout",
     "output_type": "stream",
     "text": [
      "ur.010704766044.23 id has 0 patents\n",
      "56. Darryl Granner\n",
      "ur.052212163.08\n"
     ]
    },
    {
     "name": "stderr",
     "output_type": "stream",
     "text": [
      "===\n",
      "Records extracted: 0\u001b[0m\n",
      "Starting iteration with limit=1000 skip=0 ...\u001b[0m\n"
     ]
    },
    {
     "name": "stdout",
     "output_type": "stream",
     "text": [
      "ur.052212163.08 id has 0 patents\n",
      "57. Ronald Kalkhoff\n",
      "ur.0622452513.91\n"
     ]
    },
    {
     "name": "stderr",
     "output_type": "stream",
     "text": [
      "===\n",
      "Records extracted: 0\u001b[0m\n",
      "Starting iteration with limit=1000 skip=0 ...\u001b[0m\n"
     ]
    },
    {
     "name": "stdout",
     "output_type": "stream",
     "text": [
      "ur.0622452513.91 id has 0 patents\n",
      "58. Sanford Krantz\n",
      "ur.01132362500.17\n"
     ]
    },
    {
     "name": "stderr",
     "output_type": "stream",
     "text": [
      "0-8 / 8 (1.56s)\u001b[0m\n",
      "===\n",
      "Records extracted: 8\u001b[0m\n",
      "Starting iteration with limit=1000 skip=0 ...\u001b[0m\n"
     ]
    },
    {
     "name": "stdout",
     "output_type": "stream",
     "text": [
      "ur.01132362500.17 id has 8 patents\n",
      "59. Sheldon Rothenberg\n",
      "ur.01144600536.45\n"
     ]
    },
    {
     "name": "stderr",
     "output_type": "stream",
     "text": [
      "0-214 / 214 (2.01s)\u001b[0m\n",
      "===\n",
      "Records extracted: 214\u001b[0m\n",
      "Starting iteration with limit=1000 skip=0 ...\u001b[0m\n"
     ]
    },
    {
     "name": "stdout",
     "output_type": "stream",
     "text": [
      "ur.01144600536.45 id has 214 patents\n",
      "60. John Voorhees\n",
      "ur.01327560533.39\n"
     ]
    },
    {
     "name": "stderr",
     "output_type": "stream",
     "text": [
      "===\n",
      "Records extracted: 0\u001b[0m\n",
      "Starting iteration with limit=1000 skip=0 ...\u001b[0m\n"
     ]
    },
    {
     "name": "stdout",
     "output_type": "stream",
     "text": [
      "ur.01327560533.39 id has 0 patents\n",
      "61. Joseph Warshaw\n",
      "ur.01242453510.02\n"
     ]
    },
    {
     "name": "stderr",
     "output_type": "stream",
     "text": [
      "===\n",
      "Records extracted: 0\u001b[0m\n",
      "Starting iteration with limit=1000 skip=0 ...\u001b[0m\n"
     ]
    },
    {
     "name": "stdout",
     "output_type": "stream",
     "text": [
      "ur.01242453510.02 id has 0 patents\n",
      "62. Aubie Angel\n",
      "ur.01133267027.05\n"
     ]
    },
    {
     "name": "stderr",
     "output_type": "stream",
     "text": [
      "===\n",
      "Records extracted: 0\u001b[0m\n",
      "Starting iteration with limit=1000 skip=0 ...\u001b[0m\n"
     ]
    },
    {
     "name": "stdout",
     "output_type": "stream",
     "text": [
      "ur.01133267027.05 id has 0 patents\n",
      "63. Edgar Cathcart\n",
      "ur.0673454003.15\n"
     ]
    },
    {
     "name": "stderr",
     "output_type": "stream",
     "text": [
      "0-10 / 10 (4.65s)\u001b[0m\n",
      "===\n",
      "Records extracted: 10\u001b[0m\n",
      "Starting iteration with limit=1000 skip=0 ...\u001b[0m\n"
     ]
    },
    {
     "name": "stdout",
     "output_type": "stream",
     "text": [
      "ur.0673454003.15 id has 10 patents\n",
      "64. Mortimer Civan\n",
      "ur.0100334157.02\n"
     ]
    },
    {
     "name": "stderr",
     "output_type": "stream",
     "text": [
      "===\n",
      "Records extracted: 0\u001b[0m\n",
      "Starting iteration with limit=1000 skip=0 ...\u001b[0m\n"
     ]
    },
    {
     "name": "stdout",
     "output_type": "stream",
     "text": [
      "ur.0100334157.02 id has 0 patents\n",
      "65. Coy Fitch\n",
      "ur.01135051561.21\n"
     ]
    },
    {
     "name": "stderr",
     "output_type": "stream",
     "text": [
      "===\n",
      "Records extracted: 0\u001b[0m\n",
      "Starting iteration with limit=1000 skip=0 ...\u001b[0m\n"
     ]
    },
    {
     "name": "stdout",
     "output_type": "stream",
     "text": [
      "ur.01135051561.21 id has 0 patents\n",
      "66. Franklyn Knox\n",
      "ur.0112767513.11\n"
     ]
    },
    {
     "name": "stderr",
     "output_type": "stream",
     "text": [
      "===\n",
      "Records extracted: 0\u001b[0m\n",
      "Starting iteration with limit=1000 skip=0 ...\u001b[0m\n"
     ]
    },
    {
     "name": "stdout",
     "output_type": "stream",
     "text": [
      "ur.0112767513.11 id has 0 patents\n",
      "67. Julian Niemetz\n",
      "ur.0720403045.44\n"
     ]
    },
    {
     "name": "stderr",
     "output_type": "stream",
     "text": [
      "===\n",
      "Records extracted: 0\u001b[0m\n",
      "Starting iteration with limit=1000 skip=0 ...\u001b[0m\n"
     ]
    },
    {
     "name": "stdout",
     "output_type": "stream",
     "text": [
      "ur.0720403045.44 id has 0 patents\n",
      "68. Jeremiah Silbert\n",
      "ur.01021113321.80\n"
     ]
    },
    {
     "name": "stderr",
     "output_type": "stream",
     "text": [
      "===\n",
      "Records extracted: 0\u001b[0m\n",
      "Starting iteration with limit=1000 skip=0 ...\u001b[0m\n"
     ]
    },
    {
     "name": "stdout",
     "output_type": "stream",
     "text": [
      "ur.01021113321.80 id has 0 patents\n",
      "69. Antero So\n",
      "ur.077567555.00\n"
     ]
    },
    {
     "name": "stderr",
     "output_type": "stream",
     "text": [
      "===\n",
      "Records extracted: 0\u001b[0m\n",
      "Starting iteration with limit=1000 skip=0 ...\u001b[0m\n"
     ]
    },
    {
     "name": "stdout",
     "output_type": "stream",
     "text": [
      "ur.077567555.00 id has 0 patents\n",
      "70. Frank Stockdale\n",
      "ur.01347725216.99\n"
     ]
    },
    {
     "name": "stderr",
     "output_type": "stream",
     "text": [
      "===\n",
      "Records extracted: 0\u001b[0m\n",
      "Starting iteration with limit=1000 skip=0 ...\u001b[0m\n"
     ]
    },
    {
     "name": "stdout",
     "output_type": "stream",
     "text": [
      "ur.01347725216.99 id has 0 patents\n",
      "71. Leonard Jarett\n",
      "ur.01365524565.68\n"
     ]
    },
    {
     "name": "stderr",
     "output_type": "stream",
     "text": [
      "0-18 / 18 (4.68s)\u001b[0m\n",
      "===\n",
      "Records extracted: 18\u001b[0m\n",
      "Starting iteration with limit=1000 skip=0 ...\u001b[0m\n"
     ]
    },
    {
     "name": "stdout",
     "output_type": "stream",
     "text": [
      "ur.01365524565.68 id has 18 patents\n",
      "72. Edwin Beachey\n",
      "ur.01067473175.85\n"
     ]
    },
    {
     "name": "stderr",
     "output_type": "stream",
     "text": [
      "===\n",
      "Records extracted: 0\u001b[0m\n",
      "Starting iteration with limit=1000 skip=0 ...\u001b[0m\n"
     ]
    },
    {
     "name": "stdout",
     "output_type": "stream",
     "text": [
      "ur.01067473175.85 id has 0 patents\n",
      "73. Stanley Birge\n",
      "ur.01304430314.14\n"
     ]
    },
    {
     "name": "stderr",
     "output_type": "stream",
     "text": [
      "===\n",
      "Records extracted: 0\u001b[0m\n",
      "Starting iteration with limit=1000 skip=0 ...\u001b[0m\n"
     ]
    },
    {
     "name": "stdout",
     "output_type": "stream",
     "text": [
      "ur.01304430314.14 id has 0 patents\n",
      "74. Guenther Boden\n",
      "ur.01335607170.34\n"
     ]
    },
    {
     "name": "stderr",
     "output_type": "stream",
     "text": [
      "===\n",
      "Records extracted: 0\u001b[0m\n",
      "Starting iteration with limit=1000 skip=0 ...\u001b[0m\n"
     ]
    },
    {
     "name": "stdout",
     "output_type": "stream",
     "text": [
      "ur.01335607170.34 id has 0 patents\n",
      "75. Donald Castell\n",
      "ur.0714217163.19\n"
     ]
    },
    {
     "name": "stderr",
     "output_type": "stream",
     "text": [
      "===\n",
      "Records extracted: 0\u001b[0m\n",
      "Starting iteration with limit=1000 skip=0 ...\u001b[0m\n"
     ]
    },
    {
     "name": "stdout",
     "output_type": "stream",
     "text": [
      "ur.0714217163.19 id has 0 patents\n",
      "76. Willard Daggett\n",
      "ur.074512464.09\n"
     ]
    },
    {
     "name": "stderr",
     "output_type": "stream",
     "text": [
      "===\n",
      "Records extracted: 0\u001b[0m\n",
      "Starting iteration with limit=1000 skip=0 ...\u001b[0m\n"
     ]
    },
    {
     "name": "stdout",
     "output_type": "stream",
     "text": [
      "ur.074512464.09 id has 0 patents\n",
      "77. Vincent Discala\n",
      "ur.01360652102.21\n"
     ]
    },
    {
     "name": "stderr",
     "output_type": "stream",
     "text": [
      "0-11 / 11 (0.96s)\u001b[0m\n",
      "===\n",
      "Records extracted: 11\u001b[0m\n",
      "Starting iteration with limit=1000 skip=0 ...\u001b[0m\n"
     ]
    },
    {
     "name": "stdout",
     "output_type": "stream",
     "text": [
      "ur.01360652102.21 id has 11 patents\n",
      "78. Aron Fisher\n",
      "ur.0653122372.66\n"
     ]
    },
    {
     "name": "stderr",
     "output_type": "stream",
     "text": [
      "===\n",
      "Records extracted: 0\u001b[0m\n",
      "Starting iteration with limit=1000 skip=0 ...\u001b[0m\n"
     ]
    },
    {
     "name": "stdout",
     "output_type": "stream",
     "text": [
      "ur.0653122372.66 id has 0 patents\n",
      "79. Harvey Gralnick\n",
      "ur.01027555135.23\n"
     ]
    },
    {
     "name": "stderr",
     "output_type": "stream",
     "text": [
      "===\n",
      "Records extracted: 0\u001b[0m\n",
      "Starting iteration with limit=1000 skip=0 ...\u001b[0m\n"
     ]
    },
    {
     "name": "stdout",
     "output_type": "stream",
     "text": [
      "ur.01027555135.23 id has 0 patents\n",
      "80. Khursheed Jeejeebhoy\n",
      "ur.0113073505.56\n"
     ]
    },
    {
     "name": "stderr",
     "output_type": "stream",
     "text": [
      "===\n",
      "Records extracted: 0\u001b[0m\n",
      "Starting iteration with limit=1000 skip=0 ...\u001b[0m\n"
     ]
    },
    {
     "name": "stdout",
     "output_type": "stream",
     "text": [
      "ur.0113073505.56 id has 0 patents\n",
      "81. George Kaloyanides\n",
      "ur.014777410327.76\n"
     ]
    },
    {
     "name": "stderr",
     "output_type": "stream",
     "text": [
      "0-6 / 6 (0.72s)\u001b[0m\n",
      "===\n",
      "Records extracted: 6\u001b[0m\n",
      "Starting iteration with limit=1000 skip=0 ...\u001b[0m\n"
     ]
    },
    {
     "name": "stdout",
     "output_type": "stream",
     "text": [
      "ur.014777410327.76 id has 6 patents\n",
      "82. Laurence Kedes\n",
      "ur.072330537.93\n"
     ]
    },
    {
     "name": "stderr",
     "output_type": "stream",
     "text": [
      "===\n",
      "Records extracted: 0\u001b[0m\n",
      "Starting iteration with limit=1000 skip=0 ...\u001b[0m\n"
     ]
    },
    {
     "name": "stdout",
     "output_type": "stream",
     "text": [
      "ur.072330537.93 id has 0 patents\n",
      "83. Robert Orange\n",
      "ur.01161777342.36\n"
     ]
    },
    {
     "name": "stderr",
     "output_type": "stream",
     "text": [
      "===\n",
      "Records extracted: 0\u001b[0m\n",
      "Starting iteration with limit=1000 skip=0 ...\u001b[0m\n"
     ]
    },
    {
     "name": "stdout",
     "output_type": "stream",
     "text": [
      "ur.01161777342.36 id has 0 patents\n",
      "84. Hugo Jasin\n",
      "ur.01274046465.50\n"
     ]
    },
    {
     "name": "stderr",
     "output_type": "stream",
     "text": [
      "===\n",
      "Records extracted: 0\u001b[0m\n",
      "Starting iteration with limit=1000 skip=0 ...\u001b[0m\n"
     ]
    },
    {
     "name": "stdout",
     "output_type": "stream",
     "text": [
      "ur.01274046465.50 id has 0 patents\n",
      "85. Robert Adelstein\n",
      "ur.01074100404.77\n"
     ]
    },
    {
     "name": "stderr",
     "output_type": "stream",
     "text": [
      "0-35 / 35 (6.26s)\u001b[0m\n",
      "===\n",
      "Records extracted: 35\u001b[0m\n",
      "Starting iteration with limit=1000 skip=0 ...\u001b[0m\n"
     ]
    },
    {
     "name": "stdout",
     "output_type": "stream",
     "text": [
      "ur.01074100404.77 id has 35 patents\n",
      "86. Joseph Avruch\n",
      "ur.01064334401.20\n"
     ]
    },
    {
     "name": "stderr",
     "output_type": "stream",
     "text": [
      "0-2 / 2 (0.88s)\u001b[0m\n",
      "===\n",
      "Records extracted: 2\u001b[0m\n",
      "Starting iteration with limit=1000 skip=0 ...\u001b[0m\n"
     ]
    },
    {
     "name": "stdout",
     "output_type": "stream",
     "text": [
      "ur.01064334401.20 id has 2 patents\n",
      "87. Roland Blantz\n",
      "ur.0620666024.50\n"
     ]
    },
    {
     "name": "stderr",
     "output_type": "stream",
     "text": [
      "===\n",
      "Records extracted: 0\u001b[0m\n",
      "Starting iteration with limit=1000 skip=0 ...\u001b[0m\n"
     ]
    },
    {
     "name": "stdout",
     "output_type": "stream",
     "text": [
      "ur.0620666024.50 id has 0 patents\n",
      "88. John Brunzell\n",
      "ur.01141346353.49\n"
     ]
    },
    {
     "name": "stderr",
     "output_type": "stream",
     "text": [
      "===\n",
      "Records extracted: 0\u001b[0m\n",
      "Starting iteration with limit=1000 skip=0 ...\u001b[0m\n"
     ]
    },
    {
     "name": "stdout",
     "output_type": "stream",
     "text": [
      "ur.01141346353.49 id has 0 patents\n",
      "89. Frederick DeRubertis\n",
      "ur.0717212123.10\n"
     ]
    },
    {
     "name": "stderr",
     "output_type": "stream",
     "text": [
      "0-2 / 2 (0.98s)\u001b[0m\n",
      "===\n",
      "Records extracted: 2\u001b[0m\n",
      "Starting iteration with limit=1000 skip=0 ...\u001b[0m\n"
     ]
    },
    {
     "name": "stdout",
     "output_type": "stream",
     "text": [
      "ur.0717212123.10 id has 2 patents\n",
      "90. Kenneth Gabbay\n",
      "ur.010760566354.87\n"
     ]
    },
    {
     "name": "stderr",
     "output_type": "stream",
     "text": [
      "0-105 / 105 (4.85s)\u001b[0m\n",
      "===\n",
      "Records extracted: 105\u001b[0m\n",
      "Starting iteration with limit=1000 skip=0 ...\u001b[0m\n"
     ]
    },
    {
     "name": "stdout",
     "output_type": "stream",
     "text": [
      "ur.010760566354.87 id has 105 patents\n",
      "91. Jack Hawiger\n",
      "ur.0106420001.97\n"
     ]
    },
    {
     "name": "stderr",
     "output_type": "stream",
     "text": [
      "===\n",
      "Records extracted: 0\u001b[0m\n",
      "Starting iteration with limit=1000 skip=0 ...\u001b[0m\n"
     ]
    },
    {
     "name": "stdout",
     "output_type": "stream",
     "text": [
      "ur.0106420001.97 id has 0 patents\n",
      "92. Micheline Mathews-Roth\n",
      "ur.015621773264.02\n"
     ]
    },
    {
     "name": "stderr",
     "output_type": "stream",
     "text": [
      "===\n",
      "Records extracted: 0\u001b[0m\n",
      "Starting iteration with limit=1000 skip=0 ...\u001b[0m\n"
     ]
    },
    {
     "name": "stdout",
     "output_type": "stream",
     "text": [
      "ur.015621773264.02 id has 0 patents\n",
      "93. Ward Olsen\n",
      "ur.0702451700.67\n"
     ]
    },
    {
     "name": "stderr",
     "output_type": "stream",
     "text": [
      "===\n",
      "Records extracted: 0\u001b[0m\n",
      "Starting iteration with limit=1000 skip=0 ...\u001b[0m\n"
     ]
    },
    {
     "name": "stdout",
     "output_type": "stream",
     "text": [
      "ur.0702451700.67 id has 0 patents\n",
      "94. Ruy Soeiro\n",
      "ur.0103421055.06\n"
     ]
    },
    {
     "name": "stderr",
     "output_type": "stream",
     "text": [
      "===\n",
      "Records extracted: 0\u001b[0m\n",
      "Starting iteration with limit=1000 skip=0 ...\u001b[0m\n"
     ]
    },
    {
     "name": "stdout",
     "output_type": "stream",
     "text": [
      "ur.0103421055.06 id has 0 patents\n",
      "95. Bobby Stinebaugh\n",
      "ur.046322757.06\n"
     ]
    },
    {
     "name": "stderr",
     "output_type": "stream",
     "text": [
      "===\n",
      "Records extracted: 0\u001b[0m\n",
      "Starting iteration with limit=1000 skip=0 ...\u001b[0m\n"
     ]
    },
    {
     "name": "stdout",
     "output_type": "stream",
     "text": [
      "ur.046322757.06 id has 0 patents\n",
      "96. Andre Van Herle\n",
      "ur.055577330.41\n"
     ]
    },
    {
     "name": "stderr",
     "output_type": "stream",
     "text": [
      "===\n",
      "Records extracted: 0\u001b[0m\n",
      "Starting iteration with limit=1000 skip=0 ...\u001b[0m\n"
     ]
    },
    {
     "name": "stdout",
     "output_type": "stream",
     "text": [
      "ur.055577330.41 id has 0 patents\n",
      "97. Kirk Wuepper\n",
      "ur.01326661540.74\n"
     ]
    },
    {
     "name": "stderr",
     "output_type": "stream",
     "text": [
      "0-5 / 5 (6.00s)\u001b[0m\n",
      "===\n",
      "Records extracted: 5\u001b[0m\n",
      "Starting iteration with limit=1000 skip=0 ...\u001b[0m\n"
     ]
    },
    {
     "name": "stdout",
     "output_type": "stream",
     "text": [
      "ur.01326661540.74 id has 5 patents\n",
      "98. Ashley Haase\n",
      "ur.0707235634.37\n"
     ]
    },
    {
     "name": "stderr",
     "output_type": "stream",
     "text": [
      "0-3 / 3 (1.04s)\u001b[0m\n",
      "===\n",
      "Records extracted: 3\u001b[0m\n",
      "Starting iteration with limit=1000 skip=0 ...\u001b[0m\n"
     ]
    },
    {
     "name": "stdout",
     "output_type": "stream",
     "text": [
      "ur.0707235634.37 id has 3 patents\n",
      "99. Philip Askenase\n",
      "ur.01032407212.73\n"
     ]
    },
    {
     "name": "stderr",
     "output_type": "stream",
     "text": [
      "===\n",
      "Records extracted: 0\u001b[0m\n",
      "Starting iteration with limit=1000 skip=0 ...\u001b[0m\n"
     ]
    },
    {
     "name": "stdout",
     "output_type": "stream",
     "text": [
      "ur.01032407212.73 id has 0 patents\n",
      "100. Philip Coffino\n",
      "ur.01315101707.18\n"
     ]
    },
    {
     "name": "stderr",
     "output_type": "stream",
     "text": [
      "===\n",
      "Records extracted: 0\u001b[0m\n",
      "Starting iteration with limit=1000 skip=0 ...\u001b[0m\n"
     ]
    },
    {
     "name": "stdout",
     "output_type": "stream",
     "text": [
      "ur.01315101707.18 id has 0 patents\n",
      "101. Raphael Dolin\n",
      "ur.01330025277.57\n"
     ]
    },
    {
     "name": "stderr",
     "output_type": "stream",
     "text": [
      "===\n",
      "Records extracted: 0\u001b[0m\n",
      "Starting iteration with limit=1000 skip=0 ...\u001b[0m\n"
     ]
    },
    {
     "name": "stdout",
     "output_type": "stream",
     "text": [
      "ur.01330025277.57 id has 0 patents\n",
      "102. Dwain Eckberg\n",
      "ur.01312714517.94\n"
     ]
    },
    {
     "name": "stderr",
     "output_type": "stream",
     "text": [
      "===\n",
      "Records extracted: 0\u001b[0m\n",
      "Starting iteration with limit=1000 skip=0 ...\u001b[0m\n"
     ]
    },
    {
     "name": "stdout",
     "output_type": "stream",
     "text": [
      "ur.01312714517.94 id has 0 patents\n",
      "103. Glenn Peake\n",
      "ur.055156511.56\n"
     ]
    },
    {
     "name": "stderr",
     "output_type": "stream",
     "text": [
      "===\n",
      "Records extracted: 0\u001b[0m\n",
      "Starting iteration with limit=1000 skip=0 ...\u001b[0m\n"
     ]
    },
    {
     "name": "stdout",
     "output_type": "stream",
     "text": [
      "ur.055156511.56 id has 0 patents\n",
      "104. Daniel Roncari\n",
      "ur.051627001.58\n"
     ]
    },
    {
     "name": "stderr",
     "output_type": "stream",
     "text": [
      "===\n",
      "Records extracted: 0\u001b[0m\n",
      "Starting iteration with limit=1000 skip=0 ...\u001b[0m\n"
     ]
    },
    {
     "name": "stdout",
     "output_type": "stream",
     "text": [
      "ur.051627001.58 id has 0 patents\n",
      "105. Irwin Scher\n",
      "ur.01170420345.15\n"
     ]
    },
    {
     "name": "stderr",
     "output_type": "stream",
     "text": [
      "===\n",
      "Records extracted: 0\u001b[0m\n",
      "Starting iteration with limit=1000 skip=0 ...\u001b[0m\n"
     ]
    },
    {
     "name": "stdout",
     "output_type": "stream",
     "text": [
      "ur.01170420345.15 id has 0 patents\n",
      "106. Isaias Spilberg\n",
      "ur.01216727245.57\n"
     ]
    },
    {
     "name": "stderr",
     "output_type": "stream",
     "text": [
      "0-18 / 18 (0.84s)\u001b[0m\n",
      "===\n",
      "Records extracted: 18\u001b[0m\n",
      "Starting iteration with limit=1000 skip=0 ...\u001b[0m\n"
     ]
    },
    {
     "name": "stdout",
     "output_type": "stream",
     "text": [
      "ur.01216727245.57 id has 18 patents\n",
      "107. Gordon Weir\n",
      "ur.014030620012.48\n"
     ]
    },
    {
     "name": "stderr",
     "output_type": "stream",
     "text": [
      "===\n",
      "Records extracted: 0\u001b[0m\n",
      "Starting iteration with limit=1000 skip=0 ...\u001b[0m\n"
     ]
    },
    {
     "name": "stdout",
     "output_type": "stream",
     "text": [
      "ur.014030620012.48 id has 0 patents\n",
      "108. Otto Goetze\n",
      "ur.0763567002.34\n"
     ]
    },
    {
     "name": "stderr",
     "output_type": "stream",
     "text": [
      "===\n",
      "Records extracted: 0\u001b[0m\n",
      "Starting iteration with limit=1000 skip=0 ...\u001b[0m\n"
     ]
    },
    {
     "name": "stdout",
     "output_type": "stream",
     "text": [
      "ur.0763567002.34 id has 0 patents\n",
      "109. Nicholas Kredich\n",
      "ur.0752122552.59\n"
     ]
    },
    {
     "name": "stderr",
     "output_type": "stream",
     "text": [
      "===\n",
      "Records extracted: 0\u001b[0m\n",
      "Starting iteration with limit=1000 skip=0 ...\u001b[0m\n"
     ]
    },
    {
     "name": "stdout",
     "output_type": "stream",
     "text": [
      "ur.0752122552.59 id has 0 patents\n",
      "110. Chang-Seng Liang\n",
      "ur.012261630322.11\n"
     ]
    },
    {
     "name": "stderr",
     "output_type": "stream",
     "text": [
      "===\n",
      "Records extracted: 0\u001b[0m\n",
      "Starting iteration with limit=1000 skip=0 ...\u001b[0m\n"
     ]
    },
    {
     "name": "stdout",
     "output_type": "stream",
     "text": [
      "ur.012261630322.11 id has 0 patents\n",
      "111. Makio Ogawa\n",
      "ur.0702413542.58\n"
     ]
    },
    {
     "name": "stderr",
     "output_type": "stream",
     "text": [
      "0-34 / 34 (0.90s)\u001b[0m\n",
      "===\n",
      "Records extracted: 34\u001b[0m\n",
      "Starting iteration with limit=1000 skip=0 ...\u001b[0m\n"
     ]
    },
    {
     "name": "stdout",
     "output_type": "stream",
     "text": [
      "ur.0702413542.58 id has 34 patents\n",
      "112. Sheldon Pinnell\n",
      "ur.071502227.17\n"
     ]
    },
    {
     "name": "stderr",
     "output_type": "stream",
     "text": [
      "===\n",
      "Records extracted: 0\u001b[0m\n",
      "Starting iteration with limit=1000 skip=0 ...\u001b[0m\n"
     ]
    },
    {
     "name": "stdout",
     "output_type": "stream",
     "text": [
      "ur.071502227.17 id has 0 patents\n",
      "113. Matthew Rechler\n",
      "ur.0716730202.22\n"
     ]
    },
    {
     "name": "stderr",
     "output_type": "stream",
     "text": [
      "===\n",
      "Records extracted: 0\u001b[0m\n",
      "Starting iteration with limit=1000 skip=0 ...\u001b[0m\n"
     ]
    },
    {
     "name": "stdout",
     "output_type": "stream",
     "text": [
      "ur.0716730202.22 id has 0 patents\n",
      "114. David Rosenstreich\n",
      "ur.01260500466.30\n"
     ]
    },
    {
     "name": "stderr",
     "output_type": "stream",
     "text": [
      "0-5 / 5 (1.19s)\u001b[0m\n",
      "===\n",
      "Records extracted: 5\u001b[0m\n",
      "Starting iteration with limit=1000 skip=0 ...\u001b[0m\n"
     ]
    },
    {
     "name": "stdout",
     "output_type": "stream",
     "text": [
      "ur.01260500466.30 id has 5 patents\n",
      "115. Shigeru Sassa\n",
      "ur.01351646547.75\n"
     ]
    },
    {
     "name": "stderr",
     "output_type": "stream",
     "text": [
      "0-5 / 5 (3.36s)\u001b[0m\n",
      "===\n",
      "Records extracted: 5\u001b[0m\n",
      "Starting iteration with limit=1000 skip=0 ...\u001b[0m\n"
     ]
    },
    {
     "name": "stdout",
     "output_type": "stream",
     "text": [
      "ur.01351646547.75 id has 5 patents\n",
      "116. Babette Weksler\n",
      "ur.016531141257.18\n"
     ]
    },
    {
     "name": "stderr",
     "output_type": "stream",
     "text": [
      "0-35 / 35 (1.02s)\u001b[0m\n",
      "===\n",
      "Records extracted: 35\u001b[0m\n",
      "Starting iteration with limit=1000 skip=0 ...\u001b[0m\n"
     ]
    },
    {
     "name": "stdout",
     "output_type": "stream",
     "text": [
      "ur.016531141257.18 id has 35 patents\n",
      "117. Thalia Papayannopoulou\n",
      "ur.013441053107.09\n"
     ]
    },
    {
     "name": "stderr",
     "output_type": "stream",
     "text": [
      "===\n",
      "Records extracted: 0\u001b[0m\n",
      "Starting iteration with limit=1000 skip=0 ...\u001b[0m\n"
     ]
    },
    {
     "name": "stdout",
     "output_type": "stream",
     "text": [
      "ur.013441053107.09 id has 0 patents\n",
      "118. David Bilheimer\n",
      "ur.0100464437.49\n"
     ]
    },
    {
     "name": "stderr",
     "output_type": "stream",
     "text": [
      "0-3 / 3 (1.49s)\u001b[0m\n",
      "===\n",
      "Records extracted: 3\u001b[0m\n",
      "Starting iteration with limit=1000 skip=0 ...\u001b[0m\n"
     ]
    },
    {
     "name": "stdout",
     "output_type": "stream",
     "text": [
      "ur.0100464437.49 id has 3 patents\n",
      "119. Neil Blacklow\n",
      "ur.012772670437.26\n"
     ]
    },
    {
     "name": "stderr",
     "output_type": "stream",
     "text": [
      "0-14 / 14 (4.44s)\u001b[0m\n",
      "===\n",
      "Records extracted: 14\u001b[0m\n",
      "Starting iteration with limit=1000 skip=0 ...\u001b[0m\n"
     ]
    },
    {
     "name": "stdout",
     "output_type": "stream",
     "text": [
      "ur.012772670437.26 id has 14 patents\n",
      "120. Mark Entman\n",
      "ur.01037317567.10\n"
     ]
    },
    {
     "name": "stderr",
     "output_type": "stream",
     "text": [
      "===\n",
      "Records extracted: 0\u001b[0m\n",
      "Starting iteration with limit=1000 skip=0 ...\u001b[0m\n"
     ]
    },
    {
     "name": "stdout",
     "output_type": "stream",
     "text": [
      "ur.01037317567.10 id has 0 patents\n",
      "121. Philip Guzelian\n",
      "ur.01137756763.04\n"
     ]
    },
    {
     "name": "stderr",
     "output_type": "stream",
     "text": [
      "0-18 / 18 (6.08s)\u001b[0m\n",
      "===\n",
      "Records extracted: 18\u001b[0m\n",
      "Starting iteration with limit=1000 skip=0 ...\u001b[0m\n"
     ]
    },
    {
     "name": "stdout",
     "output_type": "stream",
     "text": [
      "ur.01137756763.04 id has 18 patents\n",
      "122. David Kleinberg\n",
      "ur.01306056457.74\n"
     ]
    },
    {
     "name": "stderr",
     "output_type": "stream",
     "text": [
      "0-7 / 7 (5.95s)\u001b[0m\n",
      "===\n",
      "Records extracted: 7\u001b[0m\n",
      "Starting iteration with limit=1000 skip=0 ...\u001b[0m\n"
     ]
    },
    {
     "name": "stdout",
     "output_type": "stream",
     "text": [
      "ur.01306056457.74 id has 7 patents\n",
      "123. Ione Kourides\n",
      "ur.01323725124.37\n"
     ]
    },
    {
     "name": "stderr",
     "output_type": "stream",
     "text": [
      "===\n",
      "Records extracted: 0\u001b[0m\n",
      "Starting iteration with limit=1000 skip=0 ...\u001b[0m\n"
     ]
    },
    {
     "name": "stdout",
     "output_type": "stream",
     "text": [
      "ur.01323725124.37 id has 0 patents\n",
      "124. Rob MacGregor\n",
      "ur.01266342401.36\n"
     ]
    },
    {
     "name": "stderr",
     "output_type": "stream",
     "text": [
      "===\n",
      "Records extracted: 0\u001b[0m\n",
      "Starting iteration with limit=1000 skip=0 ...\u001b[0m\n"
     ]
    },
    {
     "name": "stdout",
     "output_type": "stream",
     "text": [
      "ur.01266342401.36 id has 0 patents\n",
      "125. Charles Mansbach\n",
      "ur.0612054261.54\n"
     ]
    },
    {
     "name": "stderr",
     "output_type": "stream",
     "text": [
      "0-2 / 2 (0.92s)\u001b[0m\n",
      "===\n",
      "Records extracted: 2\u001b[0m\n",
      "Starting iteration with limit=1000 skip=0 ...\u001b[0m\n"
     ]
    },
    {
     "name": "stdout",
     "output_type": "stream",
     "text": [
      "ur.0612054261.54 id has 2 patents\n",
      "126. Harry Margolius\n",
      "ur.071644501.94\n"
     ]
    },
    {
     "name": "stderr",
     "output_type": "stream",
     "text": [
      "0-81 / 81 (1.22s)\u001b[0m\n",
      "===\n",
      "Records extracted: 81\u001b[0m\n",
      "Starting iteration with limit=1000 skip=0 ...\u001b[0m\n"
     ]
    },
    {
     "name": "stdout",
     "output_type": "stream",
     "text": [
      "ur.071644501.94 id has 81 patents\n",
      "127. Philip Schein\n",
      "ur.01360551575.15\n"
     ]
    },
    {
     "name": "stderr",
     "output_type": "stream",
     "text": [
      "===\n",
      "Records extracted: 0\u001b[0m\n",
      "Starting iteration with limit=1000 skip=0 ...\u001b[0m\n"
     ]
    },
    {
     "name": "stdout",
     "output_type": "stream",
     "text": [
      "ur.01360551575.15 id has 0 patents\n",
      "128. Richard Shadduck\n",
      "ur.01116362437.96\n"
     ]
    },
    {
     "name": "stderr",
     "output_type": "stream",
     "text": [
      "===\n",
      "Records extracted: 0\u001b[0m\n",
      "Starting iteration with limit=1000 skip=0 ...\u001b[0m\n"
     ]
    },
    {
     "name": "stdout",
     "output_type": "stream",
     "text": [
      "ur.01116362437.96 id has 0 patents\n",
      "129. William Yarger\n",
      "ur.011756021477.10\n"
     ]
    },
    {
     "name": "stderr",
     "output_type": "stream",
     "text": [
      "0-5 / 5 (6.20s)\u001b[0m\n",
      "===\n",
      "Records extracted: 5\u001b[0m\n",
      "Starting iteration with limit=1000 skip=0 ...\u001b[0m\n"
     ]
    },
    {
     "name": "stdout",
     "output_type": "stream",
     "text": [
      "ur.011756021477.10 id has 5 patents\n",
      "130. Jouni Uitto\n",
      "ur.01145461404.61\n"
     ]
    },
    {
     "name": "stderr",
     "output_type": "stream",
     "text": [
      "0-12 / 12 (0.93s)\u001b[0m\n",
      "===\n",
      "Records extracted: 12\u001b[0m\n",
      "Starting iteration with limit=1000 skip=0 ...\u001b[0m\n"
     ]
    },
    {
     "name": "stdout",
     "output_type": "stream",
     "text": [
      "ur.01145461404.61 id has 12 patents\n",
      "131. Blanche Alter\n",
      "ur.0630027464.43\n"
     ]
    },
    {
     "name": "stderr",
     "output_type": "stream",
     "text": [
      "0-2 / 2 (4.43s)\u001b[0m\n",
      "===\n",
      "Records extracted: 2\u001b[0m\n",
      "Starting iteration with limit=1000 skip=0 ...\u001b[0m\n"
     ]
    },
    {
     "name": "stdout",
     "output_type": "stream",
     "text": [
      "ur.0630027464.43 id has 2 patents\n",
      "132. Merrill Benson\n",
      "ur.0747161456.53\n"
     ]
    },
    {
     "name": "stderr",
     "output_type": "stream",
     "text": [
      "0-24 / 24 (1.00s)\u001b[0m\n",
      "===\n",
      "Records extracted: 24\u001b[0m\n",
      "Starting iteration with limit=1000 skip=0 ...\u001b[0m\n"
     ]
    },
    {
     "name": "stdout",
     "output_type": "stream",
     "text": [
      "ur.0747161456.53 id has 24 patents\n",
      "133. Herbert Bonkovsky\n",
      "ur.01326520265.81\n"
     ]
    },
    {
     "name": "stderr",
     "output_type": "stream",
     "text": [
      "===\n",
      "Records extracted: 0\u001b[0m\n",
      "Starting iteration with limit=1000 skip=0 ...\u001b[0m\n"
     ]
    },
    {
     "name": "stdout",
     "output_type": "stream",
     "text": [
      "ur.01326520265.81 id has 0 patents\n",
      "134. Raymond Burk\n",
      "ur.0747561545.16\n"
     ]
    },
    {
     "name": "stderr",
     "output_type": "stream",
     "text": [
      "0-4 / 4 (6.03s)\u001b[0m\n",
      "===\n",
      "Records extracted: 4\u001b[0m\n",
      "Starting iteration with limit=1000 skip=0 ...\u001b[0m\n"
     ]
    },
    {
     "name": "stdout",
     "output_type": "stream",
     "text": [
      "ur.0747561545.16 id has 4 patents\n",
      "135. EDWARD CRANDALL\n",
      "ur.073646005.12\n"
     ]
    },
    {
     "name": "stderr",
     "output_type": "stream",
     "text": [
      "===\n",
      "Records extracted: 0\u001b[0m\n",
      "Starting iteration with limit=1000 skip=0 ...\u001b[0m\n"
     ]
    },
    {
     "name": "stdout",
     "output_type": "stream",
     "text": [
      "ur.073646005.12 id has 0 patents\n",
      "136. Bertram Felsher\n",
      "ur.01337042652.97\n"
     ]
    },
    {
     "name": "stderr",
     "output_type": "stream",
     "text": [
      "0-56 / 56 (3.80s)\u001b[0m\n",
      "===\n",
      "Records extracted: 56\u001b[0m\n",
      "Starting iteration with limit=1000 skip=0 ...\u001b[0m\n"
     ]
    },
    {
     "name": "stdout",
     "output_type": "stream",
     "text": [
      "ur.01337042652.97 id has 56 patents\n",
      "137. Marvin Gershengorn\n",
      "ur.0775220057.44\n"
     ]
    },
    {
     "name": "stderr",
     "output_type": "stream",
     "text": [
      "===\n",
      "Records extracted: 0\u001b[0m\n",
      "Starting iteration with limit=1000 skip=0 ...\u001b[0m\n"
     ]
    },
    {
     "name": "stdout",
     "output_type": "stream",
     "text": [
      "ur.0775220057.44 id has 0 patents\n",
      "138. Sherman Levine\n",
      "ur.01122634607.84\n"
     ]
    },
    {
     "name": "stderr",
     "output_type": "stream",
     "text": [
      "===\n",
      "Records extracted: 0\u001b[0m\n",
      "Starting iteration with limit=1000 skip=0 ...\u001b[0m\n"
     ]
    },
    {
     "name": "stdout",
     "output_type": "stream",
     "text": [
      "ur.01122634607.84 id has 0 patents\n",
      "139. Willis Maddrey\n",
      "ur.01041267517.62\n"
     ]
    },
    {
     "name": "stderr",
     "output_type": "stream",
     "text": [
      "===\n",
      "Records extracted: 0\u001b[0m\n",
      "Starting iteration with limit=1000 skip=0 ...\u001b[0m\n"
     ]
    },
    {
     "name": "stdout",
     "output_type": "stream",
     "text": [
      "ur.01041267517.62 id has 0 patents\n",
      "140. Howard Nankin\n",
      "ur.01066416153.51\n"
     ]
    },
    {
     "name": "stderr",
     "output_type": "stream",
     "text": [
      "===\n",
      "Records extracted: 0\u001b[0m\n",
      "Starting iteration with limit=1000 skip=0 ...\u001b[0m\n"
     ]
    },
    {
     "name": "stdout",
     "output_type": "stream",
     "text": [
      "ur.01066416153.51 id has 0 patents\n",
      "141. Thomas Provost\n",
      "ur.0631616531.98\n"
     ]
    },
    {
     "name": "stderr",
     "output_type": "stream",
     "text": [
      "===\n",
      "Records extracted: 0\u001b[0m\n",
      "Starting iteration with limit=1000 skip=0 ...\u001b[0m\n"
     ]
    },
    {
     "name": "stdout",
     "output_type": "stream",
     "text": [
      "ur.0631616531.98 id has 0 patents\n",
      "142. Detlef Schlondorff\n",
      "ur.01225547501.90\n"
     ]
    },
    {
     "name": "stderr",
     "output_type": "stream",
     "text": [
      "===\n",
      "Records extracted: 0\u001b[0m\n",
      "Starting iteration with limit=1000 skip=0 ...\u001b[0m\n"
     ]
    },
    {
     "name": "stdout",
     "output_type": "stream",
     "text": [
      "ur.01225547501.90 id has 0 patents\n",
      "143. Manjeri Venkatachalam\n",
      "ur.01147356113.66\n"
     ]
    },
    {
     "name": "stderr",
     "output_type": "stream",
     "text": [
      "===\n",
      "Records extracted: 0\u001b[0m\n",
      "Starting iteration with limit=1000 skip=0 ...\u001b[0m\n"
     ]
    },
    {
     "name": "stdout",
     "output_type": "stream",
     "text": [
      "ur.01147356113.66 id has 0 patents\n",
      "144. Roger Winkle\n",
      "ur.01177243765.40\n"
     ]
    },
    {
     "name": "stderr",
     "output_type": "stream",
     "text": [
      "===\n",
      "Records extracted: 0\u001b[0m\n",
      "Starting iteration with limit=1000 skip=0 ...\u001b[0m\n"
     ]
    },
    {
     "name": "stdout",
     "output_type": "stream",
     "text": [
      "ur.01177243765.40 id has 0 patents\n",
      "145. Jr. Benz\n",
      "ur.01075023337.00\n"
     ]
    },
    {
     "name": "stderr",
     "output_type": "stream",
     "text": [
      "===\n",
      "Records extracted: 0\u001b[0m\n",
      "Starting iteration with limit=1000 skip=0 ...\u001b[0m\n"
     ]
    },
    {
     "name": "stdout",
     "output_type": "stream",
     "text": [
      "ur.01075023337.00 id has 0 patents\n",
      "146. Tomas Berl\n",
      "ur.01007001471.61\n"
     ]
    },
    {
     "name": "stderr",
     "output_type": "stream",
     "text": [
      "0-9 / 9 (6.14s)\u001b[0m\n",
      "===\n",
      "Records extracted: 9\u001b[0m\n",
      "Starting iteration with limit=1000 skip=0 ...\u001b[0m\n"
     ]
    },
    {
     "name": "stdout",
     "output_type": "stream",
     "text": [
      "ur.01007001471.61 id has 9 patents\n",
      "147. Steven Burakoff\n",
      "ur.01323237522.19\n"
     ]
    },
    {
     "name": "stderr",
     "output_type": "stream",
     "text": [
      "0-1 / 1 (0.73s)\u001b[0m\n",
      "===\n",
      "Records extracted: 1\u001b[0m\n",
      "Starting iteration with limit=1000 skip=0 ...\u001b[0m\n"
     ]
    },
    {
     "name": "stdout",
     "output_type": "stream",
     "text": [
      "ur.01323237522.19 id has 1 patents\n",
      "148. Leon Fine\n",
      "ur.01231041637.37\n"
     ]
    },
    {
     "name": "stderr",
     "output_type": "stream",
     "text": [
      "===\n",
      "Records extracted: 0\u001b[0m\n",
      "Starting iteration with limit=1000 skip=0 ...\u001b[0m\n"
     ]
    },
    {
     "name": "stdout",
     "output_type": "stream",
     "text": [
      "ur.01231041637.37 id has 0 patents\n",
      "149. Ralph Giannella\n",
      "ur.0677157243.68\n"
     ]
    },
    {
     "name": "stderr",
     "output_type": "stream",
     "text": [
      "===\n",
      "Records extracted: 0\u001b[0m\n",
      "Starting iteration with limit=1000 skip=0 ...\u001b[0m\n"
     ]
    },
    {
     "name": "stdout",
     "output_type": "stream",
     "text": [
      "ur.0677157243.68 id has 0 patents\n",
      "150. Nortin Hadler\n",
      "ur.01103241125.97\n"
     ]
    },
    {
     "name": "stderr",
     "output_type": "stream",
     "text": [
      "0-78 / 78 (1.23s)\u001b[0m\n",
      "===\n",
      "Records extracted: 78\u001b[0m\n",
      "Starting iteration with limit=1000 skip=0 ...\u001b[0m\n"
     ]
    },
    {
     "name": "stdout",
     "output_type": "stream",
     "text": [
      "ur.01103241125.97 id has 78 patents\n",
      "151. Keith Hruska\n",
      "ur.0750646733.23\n"
     ]
    },
    {
     "name": "stderr",
     "output_type": "stream",
     "text": [
      "0-3 / 3 (4.14s)\u001b[0m\n",
      "===\n",
      "Records extracted: 3\u001b[0m\n",
      "Starting iteration with limit=1000 skip=0 ...\u001b[0m\n"
     ]
    },
    {
     "name": "stdout",
     "output_type": "stream",
     "text": [
      "ur.0750646733.23 id has 3 patents\n",
      "152. J. Kolhouse\n",
      "ur.011446042637.05\n"
     ]
    },
    {
     "name": "stderr",
     "output_type": "stream",
     "text": [
      "0-122 / 122 (1.27s)\u001b[0m\n",
      "===\n",
      "Records extracted: 122\u001b[0m\n",
      "Starting iteration with limit=1000 skip=0 ...\u001b[0m\n"
     ]
    },
    {
     "name": "stdout",
     "output_type": "stream",
     "text": [
      "ur.011446042637.05 id has 122 patents\n",
      "153. Douglas Lowy\n",
      "ur.01113146030.98\n"
     ]
    },
    {
     "name": "stderr",
     "output_type": "stream",
     "text": [
      "===\n",
      "Records extracted: 0\u001b[0m\n",
      "Starting iteration with limit=1000 skip=0 ...\u001b[0m\n"
     ]
    },
    {
     "name": "stdout",
     "output_type": "stream",
     "text": [
      "ur.01113146030.98 id has 0 patents\n",
      "154. Aubrey Morrison\n",
      "ur.013762667337.28\n"
     ]
    },
    {
     "name": "stderr",
     "output_type": "stream",
     "text": [
      "0-9 / 9 (6.12s)\u001b[0m\n",
      "===\n",
      "Records extracted: 9\u001b[0m\n",
      "Starting iteration with limit=1000 skip=0 ...\u001b[0m\n"
     ]
    },
    {
     "name": "stdout",
     "output_type": "stream",
     "text": [
      "ur.013762667337.28 id has 9 patents\n",
      "155. Carl Pepine\n",
      "ur.01055556723.00\n"
     ]
    },
    {
     "name": "stderr",
     "output_type": "stream",
     "text": [
      "0-45 / 45 (1.08s)\u001b[0m\n",
      "===\n",
      "Records extracted: 45\u001b[0m\n",
      "Starting iteration with limit=1000 skip=0 ...\u001b[0m\n"
     ]
    },
    {
     "name": "stdout",
     "output_type": "stream",
     "text": [
      "ur.01055556723.00 id has 45 patents\n",
      "156. Arnold Postlethwaite\n",
      "ur.01346240462.26\n"
     ]
    },
    {
     "name": "stderr",
     "output_type": "stream",
     "text": [
      "0-11 / 11 (0.82s)\u001b[0m\n",
      "===\n",
      "Records extracted: 11\u001b[0m\n",
      "Starting iteration with limit=1000 skip=0 ...\u001b[0m\n"
     ]
    },
    {
     "name": "stdout",
     "output_type": "stream",
     "text": [
      "ur.01346240462.26 id has 11 patents\n",
      "157. Alex Rabinovitch\n",
      "ur.01207552345.57\n"
     ]
    },
    {
     "name": "stderr",
     "output_type": "stream",
     "text": [
      "===\n",
      "Records extracted: 0\u001b[0m\n",
      "Starting iteration with limit=1000 skip=0 ...\u001b[0m\n"
     ]
    },
    {
     "name": "stdout",
     "output_type": "stream",
     "text": [
      "ur.01207552345.57 id has 0 patents\n",
      "158. Elliot Rayfield\n",
      "ur.0621030446.00\n"
     ]
    },
    {
     "name": "stderr",
     "output_type": "stream",
     "text": [
      "===\n",
      "Records extracted: 0\u001b[0m\n",
      "Starting iteration with limit=1000 skip=0 ...\u001b[0m\n"
     ]
    },
    {
     "name": "stdout",
     "output_type": "stream",
     "text": [
      "ur.0621030446.00 id has 0 patents\n",
      "159. Arleen Rifkind\n",
      "ur.0102433731.31\n"
     ]
    },
    {
     "name": "stderr",
     "output_type": "stream",
     "text": [
      "===\n",
      "Records extracted: 0\u001b[0m\n",
      "Starting iteration with limit=1000 skip=0 ...\u001b[0m\n"
     ]
    },
    {
     "name": "stdout",
     "output_type": "stream",
     "text": [
      "ur.0102433731.31 id has 0 patents\n",
      "160. Morris Schambelan\n",
      "ur.01002251711.59\n"
     ]
    },
    {
     "name": "stderr",
     "output_type": "stream",
     "text": [
      "0-5 / 5 (2.28s)\u001b[0m\n",
      "===\n",
      "Records extracted: 5\u001b[0m\n",
      "Starting iteration with limit=1000 skip=0 ...\u001b[0m\n"
     ]
    },
    {
     "name": "stdout",
     "output_type": "stream",
     "text": [
      "ur.01002251711.59 id has 5 patents\n",
      "161. Eugene Straus\n",
      "ur.07513071212.08\n"
     ]
    },
    {
     "name": "stderr",
     "output_type": "stream",
     "text": [
      "0-19 / 19 (3.95s)\u001b[0m\n",
      "===\n",
      "Records extracted: 19\u001b[0m\n",
      "Starting iteration with limit=1000 skip=0 ...\u001b[0m\n"
     ]
    },
    {
     "name": "stdout",
     "output_type": "stream",
     "text": [
      "ur.07513071212.08 id has 19 patents\n",
      "162. Bevra Hahn\n",
      "ur.0740455253.29\n"
     ]
    },
    {
     "name": "stderr",
     "output_type": "stream",
     "text": [
      "0-117 / 117 (6.79s)\u001b[0m\n",
      "===\n",
      "Records extracted: 117\u001b[0m\n",
      "Starting iteration with limit=1000 skip=0 ...\u001b[0m\n"
     ]
    },
    {
     "name": "stdout",
     "output_type": "stream",
     "text": [
      "ur.0740455253.29 id has 117 patents\n",
      "163. Carl Nathan\n",
      "ur.01332355273.62\n"
     ]
    },
    {
     "name": "stderr",
     "output_type": "stream",
     "text": [
      "0-1 / 1 (1.08s)\u001b[0m\n",
      "===\n",
      "Records extracted: 1\u001b[0m\n",
      "Starting iteration with limit=1000 skip=0 ...\u001b[0m\n"
     ]
    },
    {
     "name": "stdout",
     "output_type": "stream",
     "text": [
      "ur.01332355273.62 id has 1 patents\n",
      "164. Zalman Agus\n",
      "ur.01225171763.21\n"
     ]
    },
    {
     "name": "stderr",
     "output_type": "stream",
     "text": [
      "0-3 / 3 (1.06s)\u001b[0m\n",
      "===\n",
      "Records extracted: 3\u001b[0m\n",
      "Starting iteration with limit=1000 skip=0 ...\u001b[0m\n"
     ]
    },
    {
     "name": "stdout",
     "output_type": "stream",
     "text": [
      "ur.01225171763.21 id has 3 patents\n",
      "165. Carl Apstein\n",
      "ur.01043742346.49\n"
     ]
    },
    {
     "name": "stderr",
     "output_type": "stream",
     "text": [
      "0-345 / 345 (5.37s)\u001b[0m\n",
      "===\n",
      "Records extracted: 345\u001b[0m\n",
      "Starting iteration with limit=1000 skip=0 ...\u001b[0m\n"
     ]
    },
    {
     "name": "stdout",
     "output_type": "stream",
     "text": [
      "ur.01043742346.49 id has 345 patents\n",
      "166. Jay Berzofsky\n",
      "ur.012332732537.73\n"
     ]
    },
    {
     "name": "stderr",
     "output_type": "stream",
     "text": [
      "0-890 / 890 (7.39s)\u001b[0m\n",
      "===\n",
      "Records extracted: 890\u001b[0m\n",
      "Starting iteration with limit=1000 skip=0 ...\u001b[0m\n"
     ]
    },
    {
     "name": "stdout",
     "output_type": "stream",
     "text": [
      "ur.012332732537.73 id has 890 patents\n",
      "167. Barton Haynes\n",
      "ur.015572344117.13\n"
     ]
    },
    {
     "name": "stderr",
     "output_type": "stream",
     "text": [
      "===\n",
      "Records extracted: 0\u001b[0m\n",
      "Starting iteration with limit=1000 skip=0 ...\u001b[0m\n"
     ]
    },
    {
     "name": "stdout",
     "output_type": "stream",
     "text": [
      "ur.015572344117.13 id has 0 patents\n",
      "168. Carl Leier\n",
      "ur.0734220567.62\n"
     ]
    },
    {
     "name": "stderr",
     "output_type": "stream",
     "text": [
      "===\n",
      "Records extracted: 0\u001b[0m\n",
      "Starting iteration with limit=1000 skip=0 ...\u001b[0m\n"
     ]
    },
    {
     "name": "stdout",
     "output_type": "stream",
     "text": [
      "ur.0734220567.62 id has 0 patents\n",
      "169. Meyer Lifschitz\n",
      "ur.01043015516.87\n"
     ]
    },
    {
     "name": "stderr",
     "output_type": "stream",
     "text": [
      "===\n",
      "Records extracted: 0\u001b[0m\n",
      "Starting iteration with limit=1000 skip=0 ...\u001b[0m\n"
     ]
    },
    {
     "name": "stdout",
     "output_type": "stream",
     "text": [
      "ur.01043015516.87 id has 0 patents\n",
      "170. James Niedel\n",
      "ur.012226113657.42\n"
     ]
    },
    {
     "name": "stderr",
     "output_type": "stream",
     "text": [
      "0-9 / 9 (1.04s)\u001b[0m\n",
      "===\n",
      "Records extracted: 9\u001b[0m\n",
      "Starting iteration with limit=1000 skip=0 ...\u001b[0m\n"
     ]
    },
    {
     "name": "stdout",
     "output_type": "stream",
     "text": [
      "ur.012226113657.42 id has 9 patents\n",
      "171. John Repine\n",
      "ur.01260062126.48\n"
     ]
    },
    {
     "name": "stderr",
     "output_type": "stream",
     "text": [
      "===\n",
      "Records extracted: 0\u001b[0m\n",
      "Starting iteration with limit=1000 skip=0 ...\u001b[0m\n"
     ]
    },
    {
     "name": "stdout",
     "output_type": "stream",
     "text": [
      "ur.01260062126.48 id has 0 patents\n",
      "172. Anton Schoolwerth\n",
      "ur.0103102412.32\n"
     ]
    },
    {
     "name": "stderr",
     "output_type": "stream",
     "text": [
      "0-11 / 11 (0.82s)\u001b[0m\n",
      "===\n",
      "Records extracted: 11\u001b[0m\n",
      "Starting iteration with limit=1000 skip=0 ...\u001b[0m\n"
     ]
    },
    {
     "name": "stdout",
     "output_type": "stream",
     "text": [
      "ur.0103102412.32 id has 11 patents\n",
      "173. Sanford Shattil\n",
      "ur.0741330002.15\n"
     ]
    },
    {
     "name": "stderr",
     "output_type": "stream",
     "text": [
      "0-24 / 24 (3.77s)\u001b[0m\n",
      "===\n",
      "Records extracted: 24\u001b[0m\n",
      "Starting iteration with limit=1000 skip=0 ...\u001b[0m\n"
     ]
    },
    {
     "name": "stdout",
     "output_type": "stream",
     "text": [
      "ur.0741330002.15 id has 24 patents\n",
      "174. F. Toback\n",
      "ur.01140220037.74\n"
     ]
    },
    {
     "name": "stderr",
     "output_type": "stream",
     "text": [
      "0-22 / 22 (0.86s)\u001b[0m\n",
      "===\n",
      "Records extracted: 22\u001b[0m\n",
      "Starting iteration with limit=1000 skip=0 ...\u001b[0m\n"
     ]
    },
    {
     "name": "stdout",
     "output_type": "stream",
     "text": [
      "ur.01140220037.74 id has 22 patents\n",
      "175. George Wilner\n",
      "ur.01136354062.19\n"
     ]
    },
    {
     "name": "stderr",
     "output_type": "stream",
     "text": [
      "===\n",
      "Records extracted: 0\u001b[0m\n",
      "Starting iteration with limit=1000 skip=0 ...\u001b[0m\n"
     ]
    },
    {
     "name": "stdout",
     "output_type": "stream",
     "text": [
      "ur.01136354062.19 id has 0 patents\n",
      "176. Allan Wolkoff\n",
      "ur.01021210130.06\n"
     ]
    },
    {
     "name": "stderr",
     "output_type": "stream",
     "text": [
      "===\n",
      "Records extracted: 0\u001b[0m\n",
      "Starting iteration with limit=1000 skip=0 ...\u001b[0m\n"
     ]
    },
    {
     "name": "stdout",
     "output_type": "stream",
     "text": [
      "ur.01021210130.06 id has 0 patents\n",
      "177. Stephen Zinner\n",
      "ur.01133451070.97\n"
     ]
    },
    {
     "name": "stderr",
     "output_type": "stream",
     "text": [
      "0-4 / 4 (3.83s)\u001b[0m\n",
      "===\n",
      "Records extracted: 4\u001b[0m\n",
      "Starting iteration with limit=1000 skip=0 ...\u001b[0m\n"
     ]
    },
    {
     "name": "stdout",
     "output_type": "stream",
     "text": [
      "ur.01133451070.97 id has 4 patents\n",
      "178. Thomas Lawley\n",
      "ur.0737034617.62\n"
     ]
    },
    {
     "name": "stderr",
     "output_type": "stream",
     "text": [
      "===\n",
      "Records extracted: 0\u001b[0m\n",
      "Starting iteration with limit=1000 skip=0 ...\u001b[0m\n"
     ]
    },
    {
     "name": "stdout",
     "output_type": "stream",
     "text": [
      "ur.0737034617.62 id has 0 patents\n",
      "179. Itamar Abrass\n",
      "ur.012331422137.36\n"
     ]
    },
    {
     "name": "stderr",
     "output_type": "stream",
     "text": [
      "===\n",
      "Records extracted: 0\u001b[0m\n",
      "Starting iteration with limit=1000 skip=0 ...\u001b[0m\n"
     ]
    },
    {
     "name": "stdout",
     "output_type": "stream",
     "text": [
      "ur.012331422137.36 id has 0 patents\n",
      "180. Robert Bast Jr.\n",
      "ur.052772662.71\n"
     ]
    },
    {
     "name": "stderr",
     "output_type": "stream",
     "text": [
      "0-2 / 2 (2.12s)\u001b[0m\n",
      "===\n",
      "Records extracted: 2\u001b[0m\n",
      "Starting iteration with limit=1000 skip=0 ...\u001b[0m\n"
     ]
    },
    {
     "name": "stdout",
     "output_type": "stream",
     "text": [
      "ur.052772662.71 id has 2 patents\n",
      "181. Barry Festoff\n",
      "ur.0652635006.60\n"
     ]
    },
    {
     "name": "stderr",
     "output_type": "stream",
     "text": [
      "0-27 / 27 (1.91s)\u001b[0m\n",
      "===\n",
      "Records extracted: 27\u001b[0m\n",
      "Starting iteration with limit=1000 skip=0 ...\u001b[0m\n"
     ]
    },
    {
     "name": "stdout",
     "output_type": "stream",
     "text": [
      "ur.0652635006.60 id has 27 patents\n",
      "182. Fred Finkelman\n",
      "ur.01140751111.99\n"
     ]
    },
    {
     "name": "stderr",
     "output_type": "stream",
     "text": [
      "0-3 / 3 (0.86s)\u001b[0m\n",
      "===\n",
      "Records extracted: 3\u001b[0m\n",
      "Starting iteration with limit=1000 skip=0 ...\u001b[0m\n"
     ]
    },
    {
     "name": "stdout",
     "output_type": "stream",
     "text": [
      "ur.01140751111.99 id has 3 patents\n",
      "183. Curt Freed\n",
      "ur.01152404751.28\n"
     ]
    },
    {
     "name": "stderr",
     "output_type": "stream",
     "text": [
      "===\n",
      "Records extracted: 0\u001b[0m\n",
      "Starting iteration with limit=1000 skip=0 ...\u001b[0m\n"
     ]
    },
    {
     "name": "stdout",
     "output_type": "stream",
     "text": [
      "ur.01152404751.28 id has 0 patents\n",
      "184. Harvey Golomb\n",
      "ur.064446050.15\n"
     ]
    },
    {
     "name": "stderr",
     "output_type": "stream",
     "text": [
      "0-1 / 1 (20.92s)\u001b[0m\n",
      "===\n",
      "Records extracted: 1\u001b[0m\n",
      "Starting iteration with limit=1000 skip=0 ...\u001b[0m\n"
     ]
    },
    {
     "name": "stdout",
     "output_type": "stream",
     "text": [
      "ur.064446050.15 id has 1 patents\n",
      "185. Charles Homcy\n",
      "ur.01112364336.85\n"
     ]
    },
    {
     "name": "stderr",
     "output_type": "stream",
     "text": [
      "===\n",
      "Records extracted: 0\u001b[0m\n",
      "Starting iteration with limit=1000 skip=0 ...\u001b[0m\n"
     ]
    },
    {
     "name": "stdout",
     "output_type": "stream",
     "text": [
      "ur.01112364336.85 id has 0 patents\n",
      "186. Mae Hultin\n",
      "ur.0575723637.50\n"
     ]
    },
    {
     "name": "stderr",
     "output_type": "stream",
     "text": [
      "0-82 / 82 (1.56s)\u001b[0m\n",
      "===\n",
      "Records extracted: 82\u001b[0m\n",
      "Starting iteration with limit=1000 skip=0 ...\u001b[0m\n"
     ]
    },
    {
     "name": "stdout",
     "output_type": "stream",
     "text": [
      "ur.0575723637.50 id has 82 patents\n",
      "187. Vanda Lennon\n",
      "ur.01305767605.92\n"
     ]
    },
    {
     "name": "stderr",
     "output_type": "stream",
     "text": [
      "0-11 / 11 (0.91s)\u001b[0m\n",
      "===\n",
      "Records extracted: 11\u001b[0m\n",
      "Starting iteration with limit=1000 skip=0 ...\u001b[0m\n"
     ]
    },
    {
     "name": "stdout",
     "output_type": "stream",
     "text": [
      "ur.01305767605.92 id has 11 patents\n",
      "188. Thurman McKinney\n",
      "ur.0665544671.41\n"
     ]
    },
    {
     "name": "stderr",
     "output_type": "stream",
     "text": [
      "0-2 / 2 (4.53s)\u001b[0m\n",
      "===\n",
      "Records extracted: 2\u001b[0m\n",
      "Starting iteration with limit=1000 skip=0 ...\u001b[0m\n"
     ]
    },
    {
     "name": "stdout",
     "output_type": "stream",
     "text": [
      "ur.0665544671.41 id has 2 patents\n",
      "189. Bruce Nisula\n",
      "ur.01125066005.24\n"
     ]
    },
    {
     "name": "stderr",
     "output_type": "stream",
     "text": [
      "0-19 / 19 (1.11s)\u001b[0m\n",
      "===\n",
      "Records extracted: 19\u001b[0m\n",
      "Starting iteration with limit=1000 skip=0 ...\u001b[0m\n"
     ]
    },
    {
     "name": "stdout",
     "output_type": "stream",
     "text": [
      "ur.01125066005.24 id has 19 patents\n",
      "190. Ivor Royston\n",
      "ur.0656712353.96\n"
     ]
    },
    {
     "name": "stderr",
     "output_type": "stream",
     "text": [
      "===\n",
      "Records extracted: 0\u001b[0m\n",
      "Starting iteration with limit=1000 skip=0 ...\u001b[0m\n"
     ]
    },
    {
     "name": "stdout",
     "output_type": "stream",
     "text": [
      "ur.0656712353.96 id has 0 patents\n",
      "191. Glen Van Loon\n",
      "ur.0657415202.19\n"
     ]
    },
    {
     "name": "stderr",
     "output_type": "stream",
     "text": [
      "===\n",
      "Records extracted: 0\u001b[0m\n",
      "Starting iteration with limit=1000 skip=0 ...\u001b[0m\n"
     ]
    },
    {
     "name": "stdout",
     "output_type": "stream",
     "text": [
      "ur.0657415202.19 id has 0 patents\n",
      "192. Ronald Whisler\n",
      "ur.0711651377.29\n"
     ]
    },
    {
     "name": "stderr",
     "output_type": "stream",
     "text": [
      "0-5 / 5 (4.56s)\u001b[0m\n",
      "===\n",
      "Records extracted: 5\u001b[0m\n",
      "Starting iteration with limit=1000 skip=0 ...\u001b[0m\n"
     ]
    },
    {
     "name": "stdout",
     "output_type": "stream",
     "text": [
      "ur.0711651377.29 id has 5 patents\n",
      "193. Reed Wickner\n",
      "ur.0716254467.38\n"
     ]
    },
    {
     "name": "stderr",
     "output_type": "stream",
     "text": [
      "0-11 / 11 (6.06s)\u001b[0m\n",
      "===\n",
      "Records extracted: 11\u001b[0m\n",
      "Starting iteration with limit=1000 skip=0 ...\u001b[0m\n"
     ]
    },
    {
     "name": "stdout",
     "output_type": "stream",
     "text": [
      "ur.0716254467.38 id has 11 patents\n",
      "194. Iekuni Ichikawa\n",
      "ur.0677731563.23\n"
     ]
    },
    {
     "name": "stderr",
     "output_type": "stream",
     "text": [
      "0-78 / 78 (0.95s)\u001b[0m\n",
      "===\n",
      "Records extracted: 78\u001b[0m\n",
      "Starting iteration with limit=1000 skip=0 ...\u001b[0m\n"
     ]
    },
    {
     "name": "stdout",
     "output_type": "stream",
     "text": [
      "ur.0677731563.23 id has 78 patents\n",
      "195. Douglas Cines\n",
      "ur.0731357426.44\n"
     ]
    },
    {
     "name": "stderr",
     "output_type": "stream",
     "text": [
      "===\n",
      "Records extracted: 0\u001b[0m\n",
      "Starting iteration with limit=1000 skip=0 ...\u001b[0m\n"
     ]
    },
    {
     "name": "stdout",
     "output_type": "stream",
     "text": [
      "ur.0731357426.44 id has 0 patents\n",
      "196. Martin Cogan\n",
      "ur.01072513462.18\n"
     ]
    },
    {
     "name": "stderr",
     "output_type": "stream",
     "text": [
      "===\n",
      "Records extracted: 0\u001b[0m\n",
      "Starting iteration with limit=1000 skip=0 ...\u001b[0m\n"
     ]
    },
    {
     "name": "stdout",
     "output_type": "stream",
     "text": [
      "ur.01072513462.18 id has 0 patents\n",
      "197. Theodore Gabig\n",
      "ur.01126051654.01\n"
     ]
    },
    {
     "name": "stderr",
     "output_type": "stream",
     "text": [
      "0-1 / 1 (3.57s)\u001b[0m\n",
      "===\n",
      "Records extracted: 1\u001b[0m\n",
      "Starting iteration with limit=1000 skip=0 ...\u001b[0m\n"
     ]
    },
    {
     "name": "stdout",
     "output_type": "stream",
     "text": [
      "ur.01126051654.01 id has 1 patents\n",
      "198. Louis Lange\n",
      "ur.01361155126.55\n"
     ]
    },
    {
     "name": "stderr",
     "output_type": "stream",
     "text": [
      "0-6 / 6 (1.04s)\u001b[0m\n",
      "===\n",
      "Records extracted: 6\u001b[0m\n",
      "Starting iteration with limit=1000 skip=0 ...\u001b[0m\n"
     ]
    },
    {
     "name": "stdout",
     "output_type": "stream",
     "text": [
      "ur.01361155126.55 id has 6 patents\n",
      "199. Mercio Perrin\n",
      "ur.0610325312.98\n"
     ]
    },
    {
     "name": "stderr",
     "output_type": "stream",
     "text": [
      "0-10 / 10 (3.56s)\u001b[0m\n",
      "===\n",
      "Records extracted: 10\u001b[0m\n",
      "Starting iteration with limit=1000 skip=0 ...\u001b[0m\n"
     ]
    },
    {
     "name": "stdout",
     "output_type": "stream",
     "text": [
      "ur.0610325312.98 id has 10 patents\n",
      "200. Zaverio Ruggeri\n",
      "ur.01052600064.98\n"
     ]
    },
    {
     "name": "stderr",
     "output_type": "stream",
     "text": [
      "0-23 / 23 (0.85s)\u001b[0m\n",
      "===\n",
      "Records extracted: 23\u001b[0m\n",
      "Starting iteration with limit=1000 skip=0 ...\u001b[0m\n"
     ]
    },
    {
     "name": "stdout",
     "output_type": "stream",
     "text": [
      "ur.01052600064.98 id has 23 patents\n",
      "201. Allen Steere\n",
      "ur.01101357510.82\n"
     ]
    },
    {
     "name": "stderr",
     "output_type": "stream",
     "text": [
      "0-9 / 9 (0.95s)\u001b[0m\n",
      "===\n",
      "Records extracted: 9\u001b[0m\n",
      "Starting iteration with limit=1000 skip=0 ...\u001b[0m\n"
     ]
    },
    {
     "name": "stdout",
     "output_type": "stream",
     "text": [
      "ur.01101357510.82 id has 9 patents\n",
      "202. William Stenson\n",
      "ur.0733263207.26\n"
     ]
    },
    {
     "name": "stderr",
     "output_type": "stream",
     "text": [
      "===\n",
      "Records extracted: 0\u001b[0m\n",
      "Starting iteration with limit=1000 skip=0 ...\u001b[0m\n"
     ]
    },
    {
     "name": "stdout",
     "output_type": "stream",
     "text": [
      "ur.0733263207.26 id has 0 patents\n",
      "203. Jimmie Sylvester\n",
      "ur.015256461622.27\n"
     ]
    },
    {
     "name": "stderr",
     "output_type": "stream",
     "text": [
      "0-22 / 22 (1.97s)\u001b[0m\n",
      "===\n",
      "Records extracted: 22\u001b[0m\n",
      "Starting iteration with limit=1000 skip=0 ...\u001b[0m\n"
     ]
    },
    {
     "name": "stdout",
     "output_type": "stream",
     "text": [
      "ur.015256461622.27 id has 22 patents\n",
      "204. Robert Yolken\n",
      "ur.01246623425.29\n"
     ]
    },
    {
     "name": "stderr",
     "output_type": "stream",
     "text": [
      "===\n",
      "Records extracted: 0\u001b[0m\n",
      "Starting iteration with limit=1000 skip=0 ...\u001b[0m\n"
     ]
    },
    {
     "name": "stdout",
     "output_type": "stream",
     "text": [
      "ur.01246623425.29 id has 0 patents\n",
      "205. Ernesto Canalis\n",
      "ur.01346142621.31\n"
     ]
    },
    {
     "name": "stderr",
     "output_type": "stream",
     "text": [
      "===\n",
      "Records extracted: 0\u001b[0m\n",
      "Starting iteration with limit=1000 skip=0 ...\u001b[0m\n"
     ]
    },
    {
     "name": "stdout",
     "output_type": "stream",
     "text": [
      "ur.01346142621.31 id has 0 patents\n",
      "206. Clifton Bogardus\n",
      "ur.01015651621.72\n"
     ]
    },
    {
     "name": "stderr",
     "output_type": "stream",
     "text": [
      "===\n",
      "Records extracted: 0\u001b[0m\n",
      "Starting iteration with limit=1000 skip=0 ...\u001b[0m\n"
     ]
    },
    {
     "name": "stdout",
     "output_type": "stream",
     "text": [
      "ur.01015651621.72 id has 0 patents\n",
      "207. Kiertisin Dharmsathaphorn\n",
      "ur.01151345414.67\n"
     ]
    },
    {
     "name": "stderr",
     "output_type": "stream",
     "text": [
      "===\n",
      "Records extracted: 0\u001b[0m\n",
      "Starting iteration with limit=1000 skip=0 ...\u001b[0m\n"
     ]
    },
    {
     "name": "stdout",
     "output_type": "stream",
     "text": [
      "ur.01151345414.67 id has 0 patents\n",
      "208. Boris Draznin\n",
      "ur.01242325500.75\n"
     ]
    },
    {
     "name": "stderr",
     "output_type": "stream",
     "text": [
      "===\n",
      "Records extracted: 0\u001b[0m\n",
      "Starting iteration with limit=1000 skip=0 ...\u001b[0m\n"
     ]
    },
    {
     "name": "stdout",
     "output_type": "stream",
     "text": [
      "ur.01242325500.75 id has 0 patents\n",
      "209. Leslie Hillis\n",
      "ur.011411421337.71\n"
     ]
    },
    {
     "name": "stderr",
     "output_type": "stream",
     "text": [
      "===\n",
      "Records extracted: 0\u001b[0m\n",
      "Starting iteration with limit=1000 skip=0 ...\u001b[0m\n"
     ]
    },
    {
     "name": "stdout",
     "output_type": "stream",
     "text": [
      "ur.011411421337.71 id has 0 patents\n",
      "210. Marguerite Kay\n",
      "ur.01060743620.36\n"
     ]
    },
    {
     "name": "stderr",
     "output_type": "stream",
     "text": [
      "0-181 / 181 (6.91s)\u001b[0m\n",
      "===\n",
      "Records extracted: 181\u001b[0m\n",
      "Starting iteration with limit=1000 skip=0 ...\u001b[0m\n"
     ]
    },
    {
     "name": "stdout",
     "output_type": "stream",
     "text": [
      "ur.01060743620.36 id has 181 patents\n",
      "211. Stanley Korsmeyer\n",
      "ur.01112475503.47\n"
     ]
    },
    {
     "name": "stderr",
     "output_type": "stream",
     "text": [
      "0-6 / 6 (1.22s)\u001b[0m\n",
      "===\n",
      "Records extracted: 6\u001b[0m\n",
      "Starting iteration with limit=1000 skip=0 ...\u001b[0m\n"
     ]
    },
    {
     "name": "stdout",
     "output_type": "stream",
     "text": [
      "ur.01112475503.47 id has 6 patents\n",
      "212. Anne Nicholson-Weller\n",
      "ur.01160751167.95\n"
     ]
    },
    {
     "name": "stderr",
     "output_type": "stream",
     "text": [
      "===\n",
      "Records extracted: 0\u001b[0m\n",
      "Starting iteration with limit=1000 skip=0 ...\u001b[0m\n"
     ]
    },
    {
     "name": "stdout",
     "output_type": "stream",
     "text": [
      "ur.01160751167.95 id has 0 patents\n",
      "213. Jerry Radziuk\n",
      "ur.01302067362.24\n"
     ]
    },
    {
     "name": "stderr",
     "output_type": "stream",
     "text": [
      "0-6 / 6 (2.10s)\u001b[0m\n",
      "===\n",
      "Records extracted: 6\u001b[0m\n",
      "Starting iteration with limit=1000 skip=0 ...\u001b[0m\n"
     ]
    },
    {
     "name": "stdout",
     "output_type": "stream",
     "text": [
      "ur.01302067362.24 id has 6 patents\n",
      "214. Edward Shortliffe\n",
      "ur.01225466430.62\n"
     ]
    },
    {
     "name": "stderr",
     "output_type": "stream",
     "text": [
      "0-16 / 16 (4.08s)\u001b[0m\n",
      "===\n",
      "Records extracted: 16\u001b[0m\n",
      "Starting iteration with limit=1000 skip=0 ...\u001b[0m\n"
     ]
    },
    {
     "name": "stdout",
     "output_type": "stream",
     "text": [
      "ur.01225466430.62 id has 16 patents\n",
      "215. Jess Thoene\n",
      "ur.014136312017.32\n"
     ]
    },
    {
     "name": "stderr",
     "output_type": "stream",
     "text": [
      "0-8 / 8 (1.13s)\u001b[0m\n",
      "===\n",
      "Records extracted: 8\u001b[0m\n",
      "Starting iteration with limit=1000 skip=0 ...\u001b[0m\n"
     ]
    },
    {
     "name": "stdout",
     "output_type": "stream",
     "text": [
      "ur.014136312017.32 id has 8 patents\n",
      "216. Allan Pack\n",
      "ur.01142616362.27\n"
     ]
    },
    {
     "name": "stderr",
     "output_type": "stream",
     "text": [
      "===\n",
      "Records extracted: 0\u001b[0m\n",
      "Starting iteration with limit=1000 skip=0 ...\u001b[0m\n"
     ]
    },
    {
     "name": "stdout",
     "output_type": "stream",
     "text": [
      "ur.01142616362.27 id has 0 patents\n",
      "217. Bennett Blitzer\n",
      "ur.01217032657.75\n"
     ]
    },
    {
     "name": "stderr",
     "output_type": "stream",
     "text": [
      "0-22 / 22 (6.16s)\u001b[0m\n",
      "===\n",
      "Records extracted: 22\u001b[0m\n",
      "Starting iteration with limit=1000 skip=0 ...\u001b[0m\n"
     ]
    },
    {
     "name": "stdout",
     "output_type": "stream",
     "text": [
      "ur.01217032657.75 id has 22 patents\n",
      "218. Gerry Boss\n",
      "ur.0653017245.35\n"
     ]
    },
    {
     "name": "stderr",
     "output_type": "stream",
     "text": [
      "0-34 / 34 (0.94s)\u001b[0m\n",
      "===\n",
      "Records extracted: 34\u001b[0m\n",
      "Starting iteration with limit=1000 skip=0 ...\u001b[0m\n"
     ]
    },
    {
     "name": "stdout",
     "output_type": "stream",
     "text": [
      "ur.0653017245.35 id has 34 patents\n",
      "219. Gary Brittenham\n",
      "ur.0664252775.48\n"
     ]
    },
    {
     "name": "stderr",
     "output_type": "stream",
     "text": [
      "0-184 / 184 (4.89s)\u001b[0m\n",
      "===\n",
      "Records extracted: 184\u001b[0m\n",
      "Starting iteration with limit=1000 skip=0 ...\u001b[0m\n"
     ]
    },
    {
     "name": "stdout",
     "output_type": "stream",
     "text": [
      "ur.0664252775.48 id has 184 patents\n",
      "220. Dan Granoff\n",
      "ur.0111510653.49\n"
     ]
    },
    {
     "name": "stderr",
     "output_type": "stream",
     "text": [
      "===\n",
      "Records extracted: 0\u001b[0m\n",
      "Starting iteration with limit=1000 skip=0 ...\u001b[0m\n"
     ]
    },
    {
     "name": "stdout",
     "output_type": "stream",
     "text": [
      "ur.0111510653.49 id has 0 patents\n",
      "221. Henry Hulter\n",
      "ur.01146211452.37\n"
     ]
    },
    {
     "name": "stderr",
     "output_type": "stream",
     "text": [
      "0-54 / 54 (1.08s)\u001b[0m\n",
      "===\n",
      "Records extracted: 54\u001b[0m\n",
      "Starting iteration with limit=1000 skip=0 ...\u001b[0m\n"
     ]
    },
    {
     "name": "stdout",
     "output_type": "stream",
     "text": [
      "ur.01146211452.37 id has 54 patents\n",
      "222. Vishwanath Lingappa\n",
      "ur.011164443717.74\n"
     ]
    },
    {
     "name": "stderr",
     "output_type": "stream",
     "text": [
      "===\n",
      "Records extracted: 0\u001b[0m\n",
      "Starting iteration with limit=1000 skip=0 ...\u001b[0m\n"
     ]
    },
    {
     "name": "stdout",
     "output_type": "stream",
     "text": [
      "ur.011164443717.74 id has 0 patents\n",
      "223. Virginia Savin\n",
      "ur.0676632646.68\n"
     ]
    },
    {
     "name": "stderr",
     "output_type": "stream",
     "text": [
      "0-5 / 5 (0.97s)\u001b[0m\n",
      "===\n",
      "Records extracted: 5\u001b[0m\n",
      "Starting iteration with limit=1000 skip=0 ...\u001b[0m\n"
     ]
    },
    {
     "name": "stdout",
     "output_type": "stream",
     "text": [
      "ur.0676632646.68 id has 5 patents\n",
      "224. Arthur Slutsky\n",
      "ur.01350703006.10\n"
     ]
    },
    {
     "name": "stderr",
     "output_type": "stream",
     "text": [
      "0-2 / 2 (4.48s)\u001b[0m\n",
      "===\n",
      "Records extracted: 2\u001b[0m\n",
      "Starting iteration with limit=1000 skip=0 ...\u001b[0m\n"
     ]
    },
    {
     "name": "stdout",
     "output_type": "stream",
     "text": [
      "ur.01350703006.10 id has 2 patents\n",
      "225. Frederick Southwick\n",
      "ur.01157327243.98\n"
     ]
    },
    {
     "name": "stderr",
     "output_type": "stream",
     "text": [
      "===\n",
      "Records extracted: 0\u001b[0m\n",
      "Starting iteration with limit=1000 skip=0 ...\u001b[0m\n"
     ]
    },
    {
     "name": "stdout",
     "output_type": "stream",
     "text": [
      "ur.01157327243.98 id has 0 patents\n",
      "226. Joseph Verbalis\n",
      "ur.01345531157.31\n"
     ]
    },
    {
     "name": "stderr",
     "output_type": "stream",
     "text": [
      "0-17 / 17 (6.11s)\u001b[0m\n",
      "===\n",
      "Records extracted: 17\u001b[0m\n",
      "Starting iteration with limit=1000 skip=0 ...\u001b[0m\n"
     ]
    },
    {
     "name": "stdout",
     "output_type": "stream",
     "text": [
      "ur.01345531157.31 id has 17 patents\n",
      "227. Samuel Santoro\n",
      "ur.01307740237.22\n"
     ]
    },
    {
     "name": "stderr",
     "output_type": "stream",
     "text": [
      "===\n",
      "Records extracted: 0\u001b[0m\n",
      "Starting iteration with limit=1000 skip=0 ...\u001b[0m\n"
     ]
    },
    {
     "name": "stdout",
     "output_type": "stream",
     "text": [
      "ur.01307740237.22 id has 0 patents\n",
      "228. Greti Aguilera\n",
      "ur.015105677677.40\n"
     ]
    },
    {
     "name": "stderr",
     "output_type": "stream",
     "text": [
      "===\n",
      "Records extracted: 0\u001b[0m\n",
      "Starting iteration with limit=1000 skip=0 ...\u001b[0m\n"
     ]
    },
    {
     "name": "stdout",
     "output_type": "stream",
     "text": [
      "ur.015105677677.40 id has 0 patents\n",
      "229. Celso Gomez-Sanchez\n",
      "ur.01321354236.49\n"
     ]
    },
    {
     "name": "stderr",
     "output_type": "stream",
     "text": [
      "===\n",
      "Records extracted: 0\u001b[0m\n",
      "Starting iteration with limit=1000 skip=0 ...\u001b[0m\n"
     ]
    },
    {
     "name": "stdout",
     "output_type": "stream",
     "text": [
      "ur.01321354236.49 id has 0 patents\n",
      "230. Mark Knepper\n",
      "ur.01072037264.42\n"
     ]
    },
    {
     "name": "stderr",
     "output_type": "stream",
     "text": [
      "0-1 / 1 (6.06s)\u001b[0m\n",
      "===\n",
      "Records extracted: 1\u001b[0m\n",
      "Starting iteration with limit=1000 skip=0 ...\u001b[0m\n"
     ]
    },
    {
     "name": "stdout",
     "output_type": "stream",
     "text": [
      "ur.01072037264.42 id has 1 patents\n",
      "231. Roger Perlmutter\n",
      "ur.01216472205.69\n"
     ]
    },
    {
     "name": "stderr",
     "output_type": "stream",
     "text": [
      "0-59 / 59 (6.17s)\u001b[0m\n",
      "===\n",
      "Records extracted: 59\u001b[0m\n",
      "Starting iteration with limit=1000 skip=0 ...\u001b[0m\n"
     ]
    },
    {
     "name": "stdout",
     "output_type": "stream",
     "text": [
      "ur.01216472205.69 id has 59 patents\n",
      "232. Salvatore Pizzo\n",
      "ur.01221713604.51\n"
     ]
    },
    {
     "name": "stderr",
     "output_type": "stream",
     "text": [
      "0-9 / 9 (5.88s)\u001b[0m\n",
      "===\n",
      "Records extracted: 9\u001b[0m\n",
      "Starting iteration with limit=1000 skip=0 ...\u001b[0m\n"
     ]
    },
    {
     "name": "stdout",
     "output_type": "stream",
     "text": [
      "ur.01221713604.51 id has 9 patents\n",
      "233. Kenneth Polonsky\n",
      "ur.01101570400.85\n"
     ]
    },
    {
     "name": "stderr",
     "output_type": "stream",
     "text": [
      "===\n",
      "Records extracted: 0\u001b[0m\n",
      "Starting iteration with limit=1000 skip=0 ...\u001b[0m\n"
     ]
    },
    {
     "name": "stdout",
     "output_type": "stream",
     "text": [
      "ur.01101570400.85 id has 0 patents\n",
      "234. Paul Sondel\n",
      "ur.065230134.38\n"
     ]
    },
    {
     "name": "stderr",
     "output_type": "stream",
     "text": [
      "===\n",
      "Records extracted: 0\u001b[0m\n",
      "Starting iteration with limit=1000 skip=0 ...\u001b[0m\n"
     ]
    },
    {
     "name": "stdout",
     "output_type": "stream",
     "text": [
      "ur.065230134.38 id has 0 patents\n",
      "235. Howard Welgus\n",
      "ur.01201656612.94\n"
     ]
    },
    {
     "name": "stderr",
     "output_type": "stream",
     "text": [
      "0-10 / 10 (1.06s)\u001b[0m\n",
      "===\n",
      "Records extracted: 10\u001b[0m\n",
      "Starting iteration with limit=1000 skip=0 ...\u001b[0m\n"
     ]
    },
    {
     "name": "stdout",
     "output_type": "stream",
     "text": [
      "ur.01201656612.94 id has 10 patents\n",
      "236. Mark Zern\n",
      "ur.0753443440.69\n"
     ]
    },
    {
     "name": "stderr",
     "output_type": "stream",
     "text": [
      "0-165 / 165 (3.91s)\u001b[0m\n",
      "===\n",
      "Records extracted: 165\u001b[0m\n",
      "Starting iteration with limit=1000 skip=0 ...\u001b[0m\n"
     ]
    },
    {
     "name": "stdout",
     "output_type": "stream",
     "text": [
      "ur.0753443440.69 id has 165 patents\n",
      "237. Lee Nadler\n",
      "ur.0702771071.12\n"
     ]
    },
    {
     "name": "stderr",
     "output_type": "stream",
     "text": [
      "===\n",
      "Records extracted: 0\u001b[0m\n",
      "Starting iteration with limit=1000 skip=0 ...\u001b[0m\n"
     ]
    },
    {
     "name": "stdout",
     "output_type": "stream",
     "text": [
      "ur.0702771071.12 id has 0 patents\n",
      "238. Christine Abrass\n",
      "ur.01175471261.07\n"
     ]
    },
    {
     "name": "stderr",
     "output_type": "stream",
     "text": [
      "0-6 / 6 (4.53s)\u001b[0m\n",
      "===\n",
      "Records extracted: 6\u001b[0m\n",
      "Starting iteration with limit=1000 skip=0 ...\u001b[0m\n"
     ]
    },
    {
     "name": "stdout",
     "output_type": "stream",
     "text": [
      "ur.01175471261.07 id has 6 patents\n",
      "239. David Benditt\n",
      "ur.01267651242.46\n"
     ]
    },
    {
     "name": "stderr",
     "output_type": "stream",
     "text": [
      "===\n",
      "Records extracted: 0\u001b[0m\n",
      "Starting iteration with limit=1000 skip=0 ...\u001b[0m\n"
     ]
    },
    {
     "name": "stdout",
     "output_type": "stream",
     "text": [
      "ur.01267651242.46 id has 0 patents\n",
      "240. Loran Clement\n",
      "ur.01110763154.52\n"
     ]
    },
    {
     "name": "stderr",
     "output_type": "stream",
     "text": [
      "===\n",
      "Records extracted: 0\u001b[0m\n",
      "Starting iteration with limit=1000 skip=0 ...\u001b[0m\n"
     ]
    },
    {
     "name": "stdout",
     "output_type": "stream",
     "text": [
      "ur.01110763154.52 id has 0 patents\n",
      "241. Andre De Troyer\n",
      "ur.01274361400.12\n"
     ]
    },
    {
     "name": "stderr",
     "output_type": "stream",
     "text": [
      "0-74 / 74 (1.11s)\u001b[0m\n",
      "===\n",
      "Records extracted: 74\u001b[0m\n",
      "Starting iteration with limit=1000 skip=0 ...\u001b[0m\n"
     ]
    },
    {
     "name": "stdout",
     "output_type": "stream",
     "text": [
      "ur.01274361400.12 id has 74 patents\n",
      "242. Douglas Faller\n",
      "ur.063653037.37\n"
     ]
    },
    {
     "name": "stderr",
     "output_type": "stream",
     "text": [
      "===\n",
      "Records extracted: 0\u001b[0m\n",
      "Starting iteration with limit=1000 skip=0 ...\u001b[0m\n"
     ]
    },
    {
     "name": "stdout",
     "output_type": "stream",
     "text": [
      "ur.063653037.37 id has 0 patents\n",
      "243. James Gadek\n",
      "ur.0762656205.09\n"
     ]
    },
    {
     "name": "stderr",
     "output_type": "stream",
     "text": [
      "0-11 / 11 (4.57s)\u001b[0m\n",
      "===\n",
      "Records extracted: 11\u001b[0m\n",
      "Starting iteration with limit=1000 skip=0 ...\u001b[0m\n"
     ]
    },
    {
     "name": "stdout",
     "output_type": "stream",
     "text": [
      "ur.0762656205.09 id has 11 patents\n",
      "244. Jeffrey Kudlow\n",
      "ur.01255302340.86\n"
     ]
    },
    {
     "name": "stderr",
     "output_type": "stream",
     "text": [
      "===\n",
      "Records extracted: 0\u001b[0m\n",
      "Starting iteration with limit=1000 skip=0 ...\u001b[0m\n"
     ]
    },
    {
     "name": "stdout",
     "output_type": "stream",
     "text": [
      "ur.01255302340.86 id has 0 patents\n",
      "245. Henry Masur\n",
      "ur.012563065204.62\n"
     ]
    },
    {
     "name": "stderr",
     "output_type": "stream",
     "text": [
      "===\n",
      "Records extracted: 0\u001b[0m\n",
      "Starting iteration with limit=1000 skip=0 ...\u001b[0m\n"
     ]
    },
    {
     "name": "stdout",
     "output_type": "stream",
     "text": [
      "ur.012563065204.62 id has 0 patents\n",
      "246. Phillip Pizzo\n",
      "ur.015016321337.89\n"
     ]
    },
    {
     "name": "stderr",
     "output_type": "stream",
     "text": [
      "0-17 / 17 (4.67s)\u001b[0m\n",
      "===\n",
      "Records extracted: 17\u001b[0m\n",
      "Starting iteration with limit=1000 skip=0 ...\u001b[0m\n"
     ]
    },
    {
     "name": "stdout",
     "output_type": "stream",
     "text": [
      "ur.015016321337.89 id has 17 patents\n",
      "247. Edward Prochownik\n",
      "ur.01271341606.29\n"
     ]
    },
    {
     "name": "stderr",
     "output_type": "stream",
     "text": [
      "0-53 / 53 (6.05s)\u001b[0m\n",
      "===\n",
      "Records extracted: 53\u001b[0m\n",
      "Starting iteration with limit=1000 skip=0 ...\u001b[0m\n"
     ]
    },
    {
     "name": "stdout",
     "output_type": "stream",
     "text": [
      "ur.01271341606.29 id has 53 patents\n",
      "248. William Scheld\n",
      "ur.01034525706.01\n"
     ]
    },
    {
     "name": "stderr",
     "output_type": "stream",
     "text": [
      "===\n",
      "Records extracted: 0\u001b[0m\n",
      "Starting iteration with limit=1000 skip=0 ...\u001b[0m\n"
     ]
    },
    {
     "name": "stdout",
     "output_type": "stream",
     "text": [
      "ur.01034525706.01 id has 0 patents\n",
      "249. James Shelhamer\n",
      "ur.01055764270.32\n"
     ]
    },
    {
     "name": "stderr",
     "output_type": "stream",
     "text": [
      "0-55 / 55 (4.77s)\u001b[0m\n",
      "===\n",
      "Records extracted: 55\u001b[0m\n",
      "Starting iteration with limit=1000 skip=0 ...\u001b[0m\n"
     ]
    },
    {
     "name": "stdout",
     "output_type": "stream",
     "text": [
      "ur.01055764270.32 id has 55 patents\n",
      "250. Manikkam Suthanthiran\n",
      "ur.014041244377.34\n"
     ]
    },
    {
     "name": "stderr",
     "output_type": "stream",
     "text": [
      "===\n",
      "Records extracted: 0\u001b[0m\n",
      "Starting iteration with limit=1000 skip=0 ...\u001b[0m\n"
     ]
    },
    {
     "name": "stdout",
     "output_type": "stream",
     "text": [
      "ur.014041244377.34 id has 0 patents\n",
      "251. William Tamborlane\n",
      "ur.0721120124.57\n"
     ]
    },
    {
     "name": "stderr",
     "output_type": "stream",
     "text": [
      "0-214 / 214 (6.48s)\u001b[0m\n",
      "===\n",
      "Records extracted: 214\u001b[0m\n",
      "Starting iteration with limit=1000 skip=0 ...\u001b[0m\n"
     ]
    },
    {
     "name": "stdout",
     "output_type": "stream",
     "text": [
      "ur.0721120124.57 id has 214 patents\n",
      "252. Owen Witte\n",
      "ur.01254045526.51\n"
     ]
    },
    {
     "name": "stderr",
     "output_type": "stream",
     "text": [
      "===\n",
      "Records extracted: 0\u001b[0m\n",
      "Starting iteration with limit=1000 skip=0 ...\u001b[0m\n"
     ]
    },
    {
     "name": "stdout",
     "output_type": "stream",
     "text": [
      "ur.01254045526.51 id has 0 patents\n",
      "253. Wishwa Kapoor\n",
      "ur.01306576276.19\n"
     ]
    },
    {
     "name": "stderr",
     "output_type": "stream",
     "text": [
      "0-9 / 9 (1.20s)\u001b[0m\n",
      "===\n",
      "Records extracted: 9\u001b[0m\n",
      "Starting iteration with limit=1000 skip=0 ...\u001b[0m\n"
     ]
    },
    {
     "name": "stdout",
     "output_type": "stream",
     "text": [
      "ur.01306576276.19 id has 9 patents\n",
      "254. Jonathan Ashwell\n",
      "ur.01341052376.68\n"
     ]
    },
    {
     "name": "stderr",
     "output_type": "stream",
     "text": [
      "0-57 / 57 (4.53s)\u001b[0m\n",
      "===\n",
      "Records extracted: 57\u001b[0m\n",
      "Starting iteration with limit=1000 skip=0 ...\u001b[0m\n"
     ]
    },
    {
     "name": "stdout",
     "output_type": "stream",
     "text": [
      "ur.01341052376.68 id has 57 patents\n",
      "255. Bruce Beutler\n",
      "ur.01316247023.50\n"
     ]
    },
    {
     "name": "stderr",
     "output_type": "stream",
     "text": [
      "===\n",
      "Records extracted: 0\u001b[0m\n",
      "Starting iteration with limit=1000 skip=0 ...\u001b[0m\n"
     ]
    },
    {
     "name": "stdout",
     "output_type": "stream",
     "text": [
      "ur.01316247023.50 id has 0 patents\n",
      "256. David Bushinsky\n",
      "ur.0102123415.07\n"
     ]
    },
    {
     "name": "stderr",
     "output_type": "stream",
     "text": [
      "===\n",
      "Records extracted: 0\u001b[0m\n",
      "Starting iteration with limit=1000 skip=0 ...\u001b[0m\n"
     ]
    },
    {
     "name": "stdout",
     "output_type": "stream",
     "text": [
      "ur.0102123415.07 id has 0 patents\n",
      "257. Mario Chojkier\n",
      "ur.0707242143.09\n"
     ]
    },
    {
     "name": "stderr",
     "output_type": "stream",
     "text": [
      "0-45 / 45 (1.00s)\u001b[0m\n",
      "===\n",
      "Records extracted: 45\u001b[0m\n",
      "Starting iteration with limit=1000 skip=0 ...\u001b[0m\n"
     ]
    },
    {
     "name": "stdout",
     "output_type": "stream",
     "text": [
      "ur.0707242143.09 id has 45 patents\n",
      "258. Charles Czeisler\n",
      "ur.01154550601.10\n"
     ]
    },
    {
     "name": "stderr",
     "output_type": "stream",
     "text": [
      "0-12 / 12 (3.55s)\u001b[0m\n",
      "===\n",
      "Records extracted: 12\u001b[0m\n",
      "Starting iteration with limit=1000 skip=0 ...\u001b[0m\n"
     ]
    },
    {
     "name": "stdout",
     "output_type": "stream",
     "text": [
      "ur.01154550601.10 id has 12 patents\n",
      "259. Clark Distelhorst\n",
      "ur.01062534762.61\n"
     ]
    },
    {
     "name": "stderr",
     "output_type": "stream",
     "text": [
      "===\n",
      "Records extracted: 0\u001b[0m\n",
      "Starting iteration with limit=1000 skip=0 ...\u001b[0m\n"
     ]
    },
    {
     "name": "stdout",
     "output_type": "stream",
     "text": [
      "ur.01062534762.61 id has 0 patents\n",
      "260. Subhash Kukreja\n",
      "ur.0765421661.26\n"
     ]
    },
    {
     "name": "stderr",
     "output_type": "stream",
     "text": [
      "0-41 / 41 (4.79s)\u001b[0m\n",
      "===\n",
      "Records extracted: 41\u001b[0m\n",
      "Starting iteration with limit=1000 skip=0 ...\u001b[0m\n"
     ]
    },
    {
     "name": "stdout",
     "output_type": "stream",
     "text": [
      "ur.0765421661.26 id has 41 patents\n",
      "261. Joseph Majzoub\n",
      "ur.01221232163.40\n"
     ]
    },
    {
     "name": "stderr",
     "output_type": "stream",
     "text": [
      "===\n",
      "Records extracted: 0\u001b[0m\n",
      "Starting iteration with limit=1000 skip=0 ...\u001b[0m\n"
     ]
    },
    {
     "name": "stdout",
     "output_type": "stream",
     "text": [
      "ur.01221232163.40 id has 0 patents\n",
      "262. Cary Mariash\n",
      "ur.01307516763.51\n"
     ]
    },
    {
     "name": "stderr",
     "output_type": "stream",
     "text": [
      "===\n",
      "Records extracted: 0\u001b[0m\n",
      "Starting iteration with limit=1000 skip=0 ...\u001b[0m\n"
     ]
    },
    {
     "name": "stdout",
     "output_type": "stream",
     "text": [
      "ur.01307516763.51 id has 0 patents\n",
      "263. Robert Meenan\n",
      "ur.0744465762.69\n"
     ]
    },
    {
     "name": "stderr",
     "output_type": "stream",
     "text": [
      "===\n",
      "Records extracted: 0\u001b[0m\n",
      "Starting iteration with limit=1000 skip=0 ...\u001b[0m\n"
     ]
    },
    {
     "name": "stdout",
     "output_type": "stream",
     "text": [
      "ur.0744465762.69 id has 0 patents\n",
      "264. Reed Pyeritz\n",
      "ur.014144017545.24\n"
     ]
    },
    {
     "name": "stderr",
     "output_type": "stream",
     "text": [
      "===\n",
      "Records extracted: 0\u001b[0m\n",
      "Starting iteration with limit=1000 skip=0 ...\u001b[0m\n"
     ]
    },
    {
     "name": "stdout",
     "output_type": "stream",
     "text": [
      "ur.014144017545.24 id has 0 patents\n",
      "265. Alvin Schmaier\n",
      "ur.0623262740.47\n"
     ]
    },
    {
     "name": "stderr",
     "output_type": "stream",
     "text": [
      "===\n",
      "Records extracted: 0\u001b[0m\n",
      "Starting iteration with limit=1000 skip=0 ...\u001b[0m\n"
     ]
    },
    {
     "name": "stdout",
     "output_type": "stream",
     "text": [
      "ur.0623262740.47 id has 0 patents\n",
      "266. II Thomas\n",
      "ur.0731336524.18\n"
     ]
    },
    {
     "name": "stderr",
     "output_type": "stream",
     "text": [
      "0-27 / 27 (6.13s)\u001b[0m\n",
      "===\n",
      "Records extracted: 27\u001b[0m\n",
      "Starting iteration with limit=1000 skip=0 ...\u001b[0m\n"
     ]
    },
    {
     "name": "stdout",
     "output_type": "stream",
     "text": [
      "ur.0731336524.18 id has 27 patents\n",
      "267. Eric Topol\n",
      "ur.01042151240.70\n"
     ]
    },
    {
     "name": "stderr",
     "output_type": "stream",
     "text": [
      "0-17 / 17 (0.92s)\u001b[0m\n",
      "===\n",
      "Records extracted: 17\u001b[0m\n",
      "Starting iteration with limit=1000 skip=0 ...\u001b[0m\n"
     ]
    },
    {
     "name": "stdout",
     "output_type": "stream",
     "text": [
      "ur.01042151240.70 id has 17 patents\n",
      "268. Robert Califf\n",
      "ur.0772355732.83\n"
     ]
    },
    {
     "name": "stderr",
     "output_type": "stream",
     "text": [
      "0-26 / 26 (3.56s)\u001b[0m\n",
      "===\n",
      "Records extracted: 26\u001b[0m\n",
      "Starting iteration with limit=1000 skip=0 ...\u001b[0m\n"
     ]
    },
    {
     "name": "stdout",
     "output_type": "stream",
     "text": [
      "ur.0772355732.83 id has 26 patents\n",
      "269. Lawrence Samelson\n",
      "ur.0736106170.33\n"
     ]
    },
    {
     "name": "stderr",
     "output_type": "stream",
     "text": [
      "0-14 / 14 (6.00s)\u001b[0m\n",
      "===\n",
      "Records extracted: 14\u001b[0m\n",
      "Starting iteration with limit=1000 skip=0 ...\u001b[0m\n"
     ]
    },
    {
     "name": "stdout",
     "output_type": "stream",
     "text": [
      "ur.0736106170.33 id has 14 patents\n",
      "270. Carmen Allegra\n",
      "ur.01064433422.44\n"
     ]
    },
    {
     "name": "stderr",
     "output_type": "stream",
     "text": [
      "===\n",
      "Records extracted: 0\u001b[0m\n",
      "Starting iteration with limit=1000 skip=0 ...\u001b[0m\n"
     ]
    },
    {
     "name": "stdout",
     "output_type": "stream",
     "text": [
      "ur.01064433422.44 id has 0 patents\n",
      "271. Akhil Bidani\n",
      "ur.0752765456.96\n"
     ]
    },
    {
     "name": "stderr",
     "output_type": "stream",
     "text": [
      "===\n",
      "Records extracted: 0\u001b[0m\n",
      "Starting iteration with limit=1000 skip=0 ...\u001b[0m\n"
     ]
    },
    {
     "name": "stdout",
     "output_type": "stream",
     "text": [
      "ur.0752765456.96 id has 0 patents\n",
      "272. Gordon Ginder\n",
      "ur.01214375371.45\n"
     ]
    },
    {
     "name": "stderr",
     "output_type": "stream",
     "text": [
      "0-12 / 12 (4.55s)\u001b[0m\n",
      "===\n",
      "Records extracted: 12\u001b[0m\n",
      "Starting iteration with limit=1000 skip=0 ...\u001b[0m\n"
     ]
    },
    {
     "name": "stdout",
     "output_type": "stream",
     "text": [
      "ur.01214375371.45 id has 12 patents\n",
      "273. Michael Goligorsky\n",
      "ur.0706130231.54\n"
     ]
    },
    {
     "name": "stderr",
     "output_type": "stream",
     "text": [
      "0-50 / 50 (0.91s)\u001b[0m\n",
      "===\n",
      "Records extracted: 50\u001b[0m\n",
      "Starting iteration with limit=1000 skip=0 ...\u001b[0m\n"
     ]
    },
    {
     "name": "stdout",
     "output_type": "stream",
     "text": [
      "ur.0706130231.54 id has 50 patents\n",
      "274. Yusuf Hannun\n",
      "ur.0630661505.97\n"
     ]
    },
    {
     "name": "stderr",
     "output_type": "stream",
     "text": [
      "===\n",
      "Records extracted: 0\u001b[0m\n",
      "Starting iteration with limit=1000 skip=0 ...\u001b[0m\n"
     ]
    },
    {
     "name": "stdout",
     "output_type": "stream",
     "text": [
      "ur.0630661505.97 id has 0 patents\n",
      "275. Anne Klibanski\n",
      "ur.01277724577.12\n"
     ]
    },
    {
     "name": "stderr",
     "output_type": "stream",
     "text": [
      "0-166 / 166 (1.44s)\u001b[0m\n",
      "===\n",
      "Records extracted: 166\u001b[0m\n",
      "Starting iteration with limit=1000 skip=0 ...\u001b[0m\n"
     ]
    },
    {
     "name": "stdout",
     "output_type": "stream",
     "text": [
      "ur.01277724577.12 id has 166 patents\n",
      "276. Richard Kolesnick\n",
      "ur.0647545076.53\n"
     ]
    },
    {
     "name": "stderr",
     "output_type": "stream",
     "text": [
      "0-2 / 2 (4.11s)\u001b[0m\n",
      "===\n",
      "Records extracted: 2\u001b[0m\n",
      "Starting iteration with limit=1000 skip=0 ...\u001b[0m\n"
     ]
    },
    {
     "name": "stdout",
     "output_type": "stream",
     "text": [
      "ur.0647545076.53 id has 2 patents\n",
      "277. Theodore Krontiris\n",
      "ur.0600436375.25\n"
     ]
    },
    {
     "name": "stderr",
     "output_type": "stream",
     "text": [
      "0-4 / 4 (0.84s)\u001b[0m\n",
      "===\n",
      "Records extracted: 4\u001b[0m\n",
      "Starting iteration with limit=1000 skip=0 ...\u001b[0m\n"
     ]
    },
    {
     "name": "stdout",
     "output_type": "stream",
     "text": [
      "ur.0600436375.25 id has 4 patents\n",
      "278. Jeffrey Leiden\n",
      "ur.0602664374.19\n"
     ]
    },
    {
     "name": "stderr",
     "output_type": "stream",
     "text": [
      "0-199 / 199 (5.05s)\u001b[0m\n",
      "===\n",
      "Records extracted: 199\u001b[0m\n",
      "Starting iteration with limit=1000 skip=0 ...\u001b[0m\n"
     ]
    },
    {
     "name": "stdout",
     "output_type": "stream",
     "text": [
      "ur.0602664374.19 id has 199 patents\n",
      "279. John Lollar\n",
      "ur.0600050640.33\n"
     ]
    },
    {
     "name": "stderr",
     "output_type": "stream",
     "text": [
      "0-8 / 8 (0.73s)\u001b[0m\n",
      "===\n",
      "Records extracted: 8\u001b[0m\n",
      "Starting iteration with limit=1000 skip=0 ...\u001b[0m\n"
     ]
    },
    {
     "name": "stdout",
     "output_type": "stream",
     "text": [
      "ur.0600050640.33 id has 8 patents\n",
      "280. York Miller\n",
      "ur.01257751664.41\n"
     ]
    },
    {
     "name": "stderr",
     "output_type": "stream",
     "text": [
      "0-88 / 88 (4.75s)\u001b[0m\n",
      "===\n",
      "Records extracted: 88\u001b[0m\n",
      "Starting iteration with limit=1000 skip=0 ...\u001b[0m\n"
     ]
    },
    {
     "name": "stdout",
     "output_type": "stream",
     "text": [
      "ur.01257751664.41 id has 88 patents\n",
      "281. Chikao Morimoto\n",
      "ur.011401601037.34\n"
     ]
    },
    {
     "name": "stderr",
     "output_type": "stream",
     "text": [
      "0-23 / 23 (0.89s)\u001b[0m\n",
      "===\n",
      "Records extracted: 23\u001b[0m\n",
      "Starting iteration with limit=1000 skip=0 ...\u001b[0m\n"
     ]
    },
    {
     "name": "stdout",
     "output_type": "stream",
     "text": [
      "ur.011401601037.34 id has 23 patents\n",
      "282. Mortimer Poncz\n",
      "ur.01156200275.54\n"
     ]
    },
    {
     "name": "stderr",
     "output_type": "stream",
     "text": [
      "0-24 / 24 (0.92s)\u001b[0m\n",
      "===\n",
      "Records extracted: 24\u001b[0m\n",
      "Starting iteration with limit=1000 skip=0 ...\u001b[0m\n"
     ]
    },
    {
     "name": "stdout",
     "output_type": "stream",
     "text": [
      "ur.01156200275.54 id has 24 patents\n",
      "283. Lanny Rosenwasser\n",
      "ur.0616357771.60\n"
     ]
    },
    {
     "name": "stderr",
     "output_type": "stream",
     "text": [
      "0-6 / 6 (2.02s)\u001b[0m\n",
      "===\n",
      "Records extracted: 6\u001b[0m\n",
      "Starting iteration with limit=1000 skip=0 ...\u001b[0m\n"
     ]
    },
    {
     "name": "stdout",
     "output_type": "stream",
     "text": [
      "ur.0616357771.60 id has 6 patents\n",
      "284. Julian Solway\n",
      "ur.0615524341.08\n"
     ]
    },
    {
     "name": "stderr",
     "output_type": "stream",
     "text": [
      "===\n",
      "Records extracted: 0\u001b[0m\n",
      "Starting iteration with limit=1000 skip=0 ...\u001b[0m\n"
     ]
    },
    {
     "name": "stdout",
     "output_type": "stream",
     "text": [
      "ur.0615524341.08 id has 0 patents\n",
      "285. Joel Taurog\n",
      "ur.01351762701.50\n"
     ]
    },
    {
     "name": "stderr",
     "output_type": "stream",
     "text": [
      "===\n",
      "Records extracted: 0\u001b[0m\n",
      "Starting iteration with limit=1000 skip=0 ...\u001b[0m\n"
     ]
    },
    {
     "name": "stdout",
     "output_type": "stream",
     "text": [
      "ur.01351762701.50 id has 0 patents\n",
      "286. Petros Tsipouras\n",
      "ur.0611137240.46\n"
     ]
    },
    {
     "name": "stderr",
     "output_type": "stream",
     "text": [
      "0-34 / 34 (1.11s)\u001b[0m\n",
      "===\n",
      "Records extracted: 34\u001b[0m\n",
      "Starting iteration with limit=1000 skip=0 ...\u001b[0m\n"
     ]
    },
    {
     "name": "stdout",
     "output_type": "stream",
     "text": [
      "ur.0611137240.46 id has 34 patents\n",
      "287. Carl-Wilhelm Vogel\n",
      "ur.07365743047.65\n"
     ]
    },
    {
     "name": "stderr",
     "output_type": "stream",
     "text": [
      "0-2 / 2 (3.48s)\u001b[0m\n",
      "===\n",
      "Records extracted: 2\u001b[0m\n",
      "Starting iteration with limit=1000 skip=0 ...\u001b[0m\n"
     ]
    },
    {
     "name": "stdout",
     "output_type": "stream",
     "text": [
      "ur.07365743047.65 id has 2 patents\n",
      "288. Janis Abkowitz\n",
      "ur.0741177060.19\n"
     ]
    },
    {
     "name": "stderr",
     "output_type": "stream",
     "text": [
      "0-2 / 2 (1.56s)\u001b[0m\n",
      "===\n",
      "Records extracted: 2\u001b[0m\n",
      "Starting iteration with limit=1000 skip=0 ...\u001b[0m\n"
     ]
    },
    {
     "name": "stdout",
     "output_type": "stream",
     "text": [
      "ur.0741177060.19 id has 2 patents\n",
      "289. Marilyn Telen\n",
      "ur.01236756320.61\n"
     ]
    },
    {
     "name": "stderr",
     "output_type": "stream",
     "text": [
      "===\n",
      "Records extracted: 0\u001b[0m\n",
      "Starting iteration with limit=1000 skip=0 ...\u001b[0m\n"
     ]
    },
    {
     "name": "stdout",
     "output_type": "stream",
     "text": [
      "ur.01236756320.61 id has 0 patents\n",
      "290. Andres Blei\n",
      "ur.016210700061.88\n"
     ]
    },
    {
     "name": "stderr",
     "output_type": "stream",
     "text": [
      "===\n",
      "Records extracted: 0\u001b[0m\n",
      "Starting iteration with limit=1000 skip=0 ...\u001b[0m\n"
     ]
    },
    {
     "name": "stdout",
     "output_type": "stream",
     "text": [
      "ur.016210700061.88 id has 0 patents\n",
      "291. Allan Detsky\n",
      "ur.0102251521.31\n"
     ]
    },
    {
     "name": "stderr",
     "output_type": "stream",
     "text": [
      "0-1 / 1 (1.70s)\u001b[0m\n",
      "===\n",
      "Records extracted: 1\u001b[0m\n",
      "Starting iteration with limit=1000 skip=0 ...\u001b[0m\n"
     ]
    },
    {
     "name": "stdout",
     "output_type": "stream",
     "text": [
      "ur.0102251521.31 id has 1 patents\n",
      "292. Francisco Gonzalez-Scarano\n",
      "ur.01114017073.53\n"
     ]
    },
    {
     "name": "stderr",
     "output_type": "stream",
     "text": [
      "===\n",
      "Records extracted: 0\u001b[0m\n",
      "Starting iteration with limit=1000 skip=0 ...\u001b[0m\n"
     ]
    },
    {
     "name": "stdout",
     "output_type": "stream",
     "text": [
      "ur.01114017073.53 id has 0 patents\n",
      "293. Frederick Gorelick\n",
      "ur.014235534277.63\n"
     ]
    },
    {
     "name": "stderr",
     "output_type": "stream",
     "text": [
      "0-1000 / 1214 (3.63s)\u001b[0m\n",
      "1000-1214 / 1214 (5.17s)\u001b[0m\n",
      "===\n",
      "Records extracted: 1214\u001b[0m\n",
      "Starting iteration with limit=1000 skip=0 ...\u001b[0m\n"
     ]
    },
    {
     "name": "stdout",
     "output_type": "stream",
     "text": [
      "ur.014235534277.63 id has 1214 patents\n",
      "294. Carl June\n",
      "ur.01252416533.07\n"
     ]
    },
    {
     "name": "stderr",
     "output_type": "stream",
     "text": [
      "0-240 / 240 (5.72s)\u001b[0m\n",
      "===\n",
      "Records extracted: 240\u001b[0m\n",
      "Starting iteration with limit=1000 skip=0 ...\u001b[0m\n"
     ]
    },
    {
     "name": "stdout",
     "output_type": "stream",
     "text": [
      "ur.01252416533.07 id has 240 patents\n",
      "295. Dennis Klinman\n",
      "ur.01335247766.01\n"
     ]
    },
    {
     "name": "stderr",
     "output_type": "stream",
     "text": [
      "0-16 / 16 (5.41s)\u001b[0m\n",
      "===\n",
      "Records extracted: 16\u001b[0m\n",
      "Starting iteration with limit=1000 skip=0 ...\u001b[0m\n"
     ]
    },
    {
     "name": "stdout",
     "output_type": "stream",
     "text": [
      "ur.01335247766.01 id has 16 patents\n",
      "296. Neil Reiner\n",
      "ur.010707121234.89\n"
     ]
    },
    {
     "name": "stderr",
     "output_type": "stream",
     "text": [
      "0-31 / 31 (2.45s)\u001b[0m\n",
      "===\n",
      "Records extracted: 31\u001b[0m\n",
      "Starting iteration with limit=1000 skip=0 ...\u001b[0m\n"
     ]
    },
    {
     "name": "stdout",
     "output_type": "stream",
     "text": [
      "ur.010707121234.89 id has 31 patents\n",
      "297. Victor Schuster\n",
      "ur.0623351271.28\n"
     ]
    },
    {
     "name": "stderr",
     "output_type": "stream",
     "text": [
      "0-1 / 1 (2.65s)\u001b[0m\n",
      "===\n",
      "Records extracted: 1\u001b[0m\n",
      "Starting iteration with limit=1000 skip=0 ...\u001b[0m\n"
     ]
    },
    {
     "name": "stdout",
     "output_type": "stream",
     "text": [
      "ur.0623351271.28 id has 1 patents\n",
      "298. Harry Shamoon\n",
      "ur.01065024137.49\n"
     ]
    },
    {
     "name": "stderr",
     "output_type": "stream",
     "text": [
      "0-103 / 103 (6.38s)\u001b[0m\n",
      "===\n",
      "Records extracted: 103\u001b[0m\n",
      "Starting iteration with limit=1000 skip=0 ...\u001b[0m\n"
     ]
    },
    {
     "name": "stdout",
     "output_type": "stream",
     "text": [
      "ur.01065024137.49 id has 103 patents\n",
      "299. Elizabeth Nabel\n",
      "ur.0651332106.96\n"
     ]
    },
    {
     "name": "stderr",
     "output_type": "stream",
     "text": [
      "===\n",
      "Records extracted: 0\u001b[0m\n",
      "Starting iteration with limit=1000 skip=0 ...\u001b[0m\n"
     ]
    },
    {
     "name": "stdout",
     "output_type": "stream",
     "text": [
      "ur.0651332106.96 id has 0 patents\n",
      "300. William Nauseef\n",
      "ur.01165200501.93\n"
     ]
    },
    {
     "name": "stderr",
     "output_type": "stream",
     "text": [
      "===\n",
      "Records extracted: 0\u001b[0m\n",
      "Starting iteration with limit=1000 skip=0 ...\u001b[0m\n"
     ]
    },
    {
     "name": "stdout",
     "output_type": "stream",
     "text": [
      "ur.01165200501.93 id has 0 patents\n",
      "301. Perumal Thiagarajan\n",
      "ur.01340412425.56\n"
     ]
    },
    {
     "name": "stderr",
     "output_type": "stream",
     "text": [
      "0-5 / 5 (1.39s)\u001b[0m\n",
      "===\n",
      "Records extracted: 5\u001b[0m\n",
      "Starting iteration with limit=1000 skip=0 ...\u001b[0m\n"
     ]
    },
    {
     "name": "stdout",
     "output_type": "stream",
     "text": [
      "ur.01340412425.56 id has 5 patents\n",
      "302. Mark Zeidel\n",
      "ur.0720013116.88\n"
     ]
    },
    {
     "name": "stderr",
     "output_type": "stream",
     "text": [
      "0-25 / 25 (9.04s)\u001b[0m\n",
      "===\n",
      "Records extracted: 25\u001b[0m\n",
      "Starting iteration with limit=1000 skip=0 ...\u001b[0m\n"
     ]
    },
    {
     "name": "stdout",
     "output_type": "stream",
     "text": [
      "ur.0720013116.88 id has 25 patents\n",
      "303. Bradley Britigan\n",
      "ur.0731571070.25\n"
     ]
    },
    {
     "name": "stderr",
     "output_type": "stream",
     "text": [
      "===\n",
      "Records extracted: 0\u001b[0m\n",
      "Starting iteration with limit=1000 skip=0 ...\u001b[0m\n"
     ]
    },
    {
     "name": "stdout",
     "output_type": "stream",
     "text": [
      "ur.0731571070.25 id has 0 patents\n",
      "304. George Caughey\n",
      "ur.016337611277.13\n"
     ]
    },
    {
     "name": "stderr",
     "output_type": "stream",
     "text": [
      "0-11 / 11 (5.70s)\u001b[0m\n",
      "===\n",
      "Records extracted: 11\u001b[0m\n",
      "Starting iteration with limit=1000 skip=0 ...\u001b[0m\n"
     ]
    },
    {
     "name": "stdout",
     "output_type": "stream",
     "text": [
      "ur.016337611277.13 id has 11 patents\n",
      "305. Israel Charo\n",
      "ur.01007263401.00\n"
     ]
    },
    {
     "name": "stderr",
     "output_type": "stream",
     "text": [
      "===\n",
      "Records extracted: 0\u001b[0m\n",
      "Starting iteration with limit=1000 skip=0 ...\u001b[0m\n"
     ]
    },
    {
     "name": "stdout",
     "output_type": "stream",
     "text": [
      "ur.01007263401.00 id has 0 patents\n",
      "306. Arthur Gutierrez-Hartmann\n",
      "ur.01364413472.54\n"
     ]
    },
    {
     "name": "stderr",
     "output_type": "stream",
     "text": [
      "0-76 / 76 (1.81s)\u001b[0m\n",
      "===\n",
      "Records extracted: 76\u001b[0m\n",
      "Starting iteration with limit=1000 skip=0 ...\u001b[0m\n"
     ]
    },
    {
     "name": "stdout",
     "output_type": "stream",
     "text": [
      "ur.01364413472.54 id has 76 patents\n",
      "307. V. Holers\n",
      "ur.010416624237.26\n"
     ]
    },
    {
     "name": "stderr",
     "output_type": "stream",
     "text": [
      "===\n",
      "Records extracted: 0\u001b[0m\n",
      "Starting iteration with limit=1000 skip=0 ...\u001b[0m\n"
     ]
    },
    {
     "name": "stdout",
     "output_type": "stream",
     "text": [
      "ur.010416624237.26 id has 0 patents\n",
      "308. John Kehrl\n",
      "ur.01006031751.08\n"
     ]
    },
    {
     "name": "stderr",
     "output_type": "stream",
     "text": [
      "0-4 / 4 (4.89s)\u001b[0m\n",
      "===\n",
      "Records extracted: 4\u001b[0m\n",
      "Starting iteration with limit=1000 skip=0 ...\u001b[0m\n"
     ]
    },
    {
     "name": "stdout",
     "output_type": "stream",
     "text": [
      "ur.01006031751.08 id has 4 patents\n",
      "309. Daniel Rotrosen\n",
      "ur.01021130270.20\n"
     ]
    },
    {
     "name": "stderr",
     "output_type": "stream",
     "text": [
      "0-40 / 40 (4.11s)\u001b[0m\n",
      "===\n",
      "Records extracted: 40\u001b[0m\n",
      "Starting iteration with limit=1000 skip=0 ...\u001b[0m\n"
     ]
    },
    {
     "name": "stdout",
     "output_type": "stream",
     "text": [
      "ur.01021130270.20 id has 40 patents\n",
      "310. Steven Shoelson\n",
      "ur.015676236177.39\n"
     ]
    },
    {
     "name": "stderr",
     "output_type": "stream",
     "text": [
      "0-17 / 17 (4.05s)\u001b[0m\n",
      "===\n",
      "Records extracted: 17\u001b[0m\n",
      "Starting iteration with limit=1000 skip=0 ...\u001b[0m\n"
     ]
    },
    {
     "name": "stdout",
     "output_type": "stream",
     "text": [
      "ur.015676236177.39 id has 17 patents\n",
      "311. Gregory Vercellotti\n",
      "ur.01320571066.70\n"
     ]
    },
    {
     "name": "stderr",
     "output_type": "stream",
     "text": [
      "===\n",
      "Records extracted: 0\u001b[0m\n",
      "Starting iteration with limit=1000 skip=0 ...\u001b[0m\n"
     ]
    },
    {
     "name": "stdout",
     "output_type": "stream",
     "text": [
      "ur.01320571066.70 id has 0 patents\n",
      "312. Katherine Hajjar\n",
      "ur.01112411132.31\n"
     ]
    },
    {
     "name": "stderr",
     "output_type": "stream",
     "text": [
      "0-13 / 13 (0.91s)\u001b[0m\n",
      "===\n",
      "Records extracted: 13\u001b[0m\n",
      "Starting iteration with limit=1000 skip=0 ...\u001b[0m\n"
     ]
    },
    {
     "name": "stdout",
     "output_type": "stream",
     "text": [
      "ur.01112411132.31 id has 13 patents\n",
      "313. Jeff Sands\n",
      "ur.0706401556.06\n"
     ]
    },
    {
     "name": "stderr",
     "output_type": "stream",
     "text": [
      "0-97 / 97 (33.92s)\u001b[0m\n",
      "===\n",
      "Records extracted: 97\u001b[0m\n",
      "Starting iteration with limit=1000 skip=0 ...\u001b[0m\n"
     ]
    },
    {
     "name": "stdout",
     "output_type": "stream",
     "text": [
      "ur.0706401556.06 id has 97 patents\n",
      "314. Elliot Androphy\n",
      "ur.0630632272.79\n"
     ]
    },
    {
     "name": "stderr",
     "output_type": "stream",
     "text": [
      "0-6 / 6 (1.28s)\u001b[0m\n",
      "===\n",
      "Records extracted: 6\u001b[0m\n",
      "Starting iteration with limit=1000 skip=0 ...\u001b[0m\n"
     ]
    },
    {
     "name": "stdout",
     "output_type": "stream",
     "text": [
      "ur.0630632272.79 id has 6 patents\n",
      "315. Barbara Ballermann\n",
      "ur.01016751310.55\n"
     ]
    },
    {
     "name": "stderr",
     "output_type": "stream",
     "text": [
      "===\n",
      "Records extracted: 0\u001b[0m\n",
      "Starting iteration with limit=1000 skip=0 ...\u001b[0m\n"
     ]
    },
    {
     "name": "stdout",
     "output_type": "stream",
     "text": [
      "ur.01016751310.55 id has 0 patents\n",
      "316. Luiz Belardinelli\n",
      "ur.01133367346.77\n"
     ]
    },
    {
     "name": "stderr",
     "output_type": "stream",
     "text": [
      "0-5 / 5 (1.71s)\u001b[0m\n",
      "===\n",
      "Records extracted: 5\u001b[0m\n",
      "Starting iteration with limit=1000 skip=0 ...\u001b[0m\n"
     ]
    },
    {
     "name": "stdout",
     "output_type": "stream",
     "text": [
      "ur.01133367346.77 id has 5 patents\n",
      "317. Peter Bitterman\n",
      "ur.0611642544.54\n"
     ]
    },
    {
     "name": "stderr",
     "output_type": "stream",
     "text": [
      "0-15 / 15 (1.31s)\u001b[0m\n",
      "===\n",
      "Records extracted: 15\u001b[0m\n",
      "Starting iteration with limit=1000 skip=0 ...\u001b[0m\n"
     ]
    },
    {
     "name": "stdout",
     "output_type": "stream",
     "text": [
      "ur.0611642544.54 id has 15 patents\n",
      "318. Karol Bomsztyk\n",
      "ur.01040621322.83\n"
     ]
    },
    {
     "name": "stderr",
     "output_type": "stream",
     "text": [
      "===\n",
      "Records extracted: 0\u001b[0m\n",
      "Starting iteration with limit=1000 skip=0 ...\u001b[0m\n"
     ]
    },
    {
     "name": "stdout",
     "output_type": "stream",
     "text": [
      "ur.01040621322.83 id has 0 patents\n",
      "319. John Cowdery\n",
      "ur.01025271203.51\n"
     ]
    },
    {
     "name": "stderr",
     "output_type": "stream",
     "text": [
      "0-25 / 25 (4.64s)\u001b[0m\n",
      "===\n",
      "Records extracted: 25\u001b[0m\n",
      "Starting iteration with limit=1000 skip=0 ...\u001b[0m\n"
     ]
    },
    {
     "name": "stdout",
     "output_type": "stream",
     "text": [
      "ur.01025271203.51 id has 25 patents\n",
      "320. Jörg Goronzy\n",
      "ur.066402533.95\n"
     ]
    },
    {
     "name": "stderr",
     "output_type": "stream",
     "text": [
      "0-6 / 6 (1.55s)\u001b[0m\n",
      "===\n",
      "Records extracted: 6\u001b[0m\n",
      "Starting iteration with limit=1000 skip=0 ...\u001b[0m\n"
     ]
    },
    {
     "name": "stdout",
     "output_type": "stream",
     "text": [
      "ur.066402533.95 id has 6 patents\n",
      "321. Richard Granstein\n",
      "ur.0716700712.01\n"
     ]
    },
    {
     "name": "stderr",
     "output_type": "stream",
     "text": [
      "===\n",
      "Records extracted: 0\u001b[0m\n",
      "Starting iteration with limit=1000 skip=0 ...\u001b[0m\n"
     ]
    },
    {
     "name": "stdout",
     "output_type": "stream",
     "text": [
      "ur.0716700712.01 id has 0 patents\n",
      "322. Lisa Iezzoni\n",
      "ur.01236367336.23\n"
     ]
    },
    {
     "name": "stderr",
     "output_type": "stream",
     "text": [
      "0-7 / 7 (6.13s)\u001b[0m\n",
      "===\n",
      "Records extracted: 7\u001b[0m\n",
      "Starting iteration with limit=1000 skip=0 ...\u001b[0m\n"
     ]
    },
    {
     "name": "stdout",
     "output_type": "stream",
     "text": [
      "ur.01236367336.23 id has 7 patents\n",
      "323. Seigo Izumo\n",
      "ur.01202645067.18\n"
     ]
    },
    {
     "name": "stderr",
     "output_type": "stream",
     "text": [
      "0-9 / 9 (5.91s)\u001b[0m\n",
      "===\n",
      "Records extracted: 9\u001b[0m\n",
      "Starting iteration with limit=1000 skip=0 ...\u001b[0m\n"
     ]
    },
    {
     "name": "stdout",
     "output_type": "stream",
     "text": [
      "ur.01202645067.18 id has 9 patents\n",
      "324. Donald Kohan\n",
      "ur.01322023063.43\n"
     ]
    },
    {
     "name": "stderr",
     "output_type": "stream",
     "text": [
      "0-96 / 96 (1.61s)\u001b[0m\n",
      "===\n",
      "Records extracted: 96\u001b[0m\n",
      "Starting iteration with limit=1000 skip=0 ...\u001b[0m\n"
     ]
    },
    {
     "name": "stdout",
     "output_type": "stream",
     "text": [
      "ur.01322023063.43 id has 96 patents\n",
      "325. Alan Krensky\n",
      "ur.01076655475.08\n"
     ]
    },
    {
     "name": "stderr",
     "output_type": "stream",
     "text": [
      "===\n",
      "Records extracted: 0\u001b[0m\n",
      "Starting iteration with limit=1000 skip=0 ...\u001b[0m\n"
     ]
    },
    {
     "name": "stdout",
     "output_type": "stream",
     "text": [
      "ur.01076655475.08 id has 0 patents\n",
      "326. Elias Lianos\n",
      "ur.0652122055.36\n"
     ]
    },
    {
     "name": "stderr",
     "output_type": "stream",
     "text": [
      "===\n",
      "Records extracted: 0\u001b[0m\n",
      "Starting iteration with limit=1000 skip=0 ...\u001b[0m\n"
     ]
    },
    {
     "name": "stdout",
     "output_type": "stream",
     "text": [
      "ur.0652122055.36 id has 0 patents\n",
      "327. Charles Natanson\n",
      "ur.015352363614.30\n"
     ]
    },
    {
     "name": "stderr",
     "output_type": "stream",
     "text": [
      "0-185 / 185 (1.77s)\u001b[0m\n",
      "===\n",
      "Records extracted: 185\u001b[0m\n",
      "Starting iteration with limit=1000 skip=0 ...\u001b[0m\n"
     ]
    },
    {
     "name": "stdout",
     "output_type": "stream",
     "text": [
      "ur.015352363614.30 id has 185 patents\n",
      "328. Michael Selsted\n",
      "ur.01300670354.66\n"
     ]
    },
    {
     "name": "stderr",
     "output_type": "stream",
     "text": [
      "0-122 / 122 (1.72s)\u001b[0m\n",
      "===\n",
      "Records extracted: 122\u001b[0m\n",
      "Starting iteration with limit=1000 skip=0 ...\u001b[0m\n"
     ]
    },
    {
     "name": "stdout",
     "output_type": "stream",
     "text": [
      "ur.01300670354.66 id has 122 patents\n",
      "329. James Shayman\n",
      "ur.0630221300.13\n"
     ]
    },
    {
     "name": "stderr",
     "output_type": "stream",
     "text": [
      "0-4 / 4 (4.12s)\u001b[0m\n",
      "===\n",
      "Records extracted: 4\u001b[0m\n",
      "Starting iteration with limit=1000 skip=0 ...\u001b[0m\n"
     ]
    },
    {
     "name": "stdout",
     "output_type": "stream",
     "text": [
      "ur.0630221300.13 id has 4 patents\n",
      "330. Steven Spitalnik\n",
      "ur.01050616075.82\n"
     ]
    },
    {
     "name": "stderr",
     "output_type": "stream",
     "text": [
      "0-6 / 6 (1.13s)\u001b[0m\n",
      "===\n",
      "Records extracted: 6\u001b[0m\n",
      "Starting iteration with limit=1000 skip=0 ...\u001b[0m\n"
     ]
    },
    {
     "name": "stdout",
     "output_type": "stream",
     "text": [
      "ur.01050616075.82 id has 6 patents\n",
      "331. Mary Sunday\n",
      "ur.01372654133.72\n"
     ]
    },
    {
     "name": "stderr",
     "output_type": "stream",
     "text": [
      "===\n",
      "Records extracted: 0\u001b[0m\n",
      "Starting iteration with limit=1000 skip=0 ...\u001b[0m\n"
     ]
    },
    {
     "name": "stdout",
     "output_type": "stream",
     "text": [
      "ur.01372654133.72 id has 0 patents\n",
      "332. Larry Tobacman\n",
      "ur.0626116504.78\n"
     ]
    },
    {
     "name": "stderr",
     "output_type": "stream",
     "text": [
      "0-156 / 156 (4.93s)\u001b[0m\n",
      "===\n",
      "Records extracted: 156\u001b[0m\n",
      "Starting iteration with limit=1000 skip=0 ...\u001b[0m\n"
     ]
    },
    {
     "name": "stdout",
     "output_type": "stream",
     "text": [
      "ur.0626116504.78 id has 156 patents\n",
      "333. Dale Umetsu\n",
      "ur.016037521777.49\n"
     ]
    },
    {
     "name": "stderr",
     "output_type": "stream",
     "text": [
      "0-40 / 40 (1.45s)\u001b[0m\n",
      "===\n",
      "Records extracted: 40\u001b[0m\n",
      "Starting iteration with limit=1000 skip=0 ...\u001b[0m\n"
     ]
    },
    {
     "name": "stdout",
     "output_type": "stream",
     "text": [
      "ur.016037521777.49 id has 40 patents\n",
      "334. Cornelia Weyand\n",
      "ur.014544026677.21\n"
     ]
    },
    {
     "name": "stderr",
     "output_type": "stream",
     "text": [
      "0-23 / 23 (1.23s)\u001b[0m\n",
      "===\n",
      "Records extracted: 23\u001b[0m\n",
      "Starting iteration with limit=1000 skip=0 ...\u001b[0m\n"
     ]
    },
    {
     "name": "stdout",
     "output_type": "stream",
     "text": [
      "ur.014544026677.21 id has 23 patents\n",
      "335. Jay Zweier\n",
      "ur.0621613670.95\n"
     ]
    },
    {
     "name": "stderr",
     "output_type": "stream",
     "text": [
      "0-4 / 4 (1.57s)\u001b[0m\n",
      "===\n",
      "Records extracted: 4\u001b[0m\n",
      "Starting iteration with limit=1000 skip=0 ...\u001b[0m\n"
     ]
    },
    {
     "name": "stdout",
     "output_type": "stream",
     "text": [
      "ur.0621613670.95 id has 4 patents\n",
      "336. Karl Nath\n",
      "ur.014730211054.29\n"
     ]
    },
    {
     "name": "stderr",
     "output_type": "stream",
     "text": [
      "0-11 / 11 (4.52s)\u001b[0m\n",
      "===\n",
      "Records extracted: 11\u001b[0m\n",
      "Starting iteration with limit=1000 skip=0 ...\u001b[0m\n"
     ]
    },
    {
     "name": "stdout",
     "output_type": "stream",
     "text": [
      "ur.014730211054.29 id has 11 patents\n",
      "337. Bishr Omary\n",
      "ur.0761676730.05\n"
     ]
    },
    {
     "name": "stderr",
     "output_type": "stream",
     "text": [
      "===\n",
      "Records extracted: 0\u001b[0m\n",
      "Starting iteration with limit=1000 skip=0 ...\u001b[0m\n"
     ]
    },
    {
     "name": "stdout",
     "output_type": "stream",
     "text": [
      "ur.0761676730.05 id has 0 patents\n",
      "338. Fuad Ziyadeh\n",
      "ur.01002760245.88\n"
     ]
    },
    {
     "name": "stderr",
     "output_type": "stream",
     "text": [
      "0-4 / 4 (4.64s)\u001b[0m\n",
      "===\n",
      "Records extracted: 4\u001b[0m\n",
      "Starting iteration with limit=1000 skip=0 ...\u001b[0m\n"
     ]
    },
    {
     "name": "stdout",
     "output_type": "stream",
     "text": [
      "ur.01002760245.88 id has 4 patents\n",
      "339. Peter Arvan\n",
      "ur.012740223223.69\n"
     ]
    },
    {
     "name": "stderr",
     "output_type": "stream",
     "text": [
      "0-13 / 13 (1.23s)\u001b[0m\n",
      "===\n",
      "Records extracted: 13\u001b[0m\n",
      "Starting iteration with limit=1000 skip=0 ...\u001b[0m\n"
     ]
    },
    {
     "name": "stdout",
     "output_type": "stream",
     "text": [
      "ur.012740223223.69 id has 13 patents\n",
      "340. Webster Cavenee\n",
      "ur.0620555626.93\n"
     ]
    },
    {
     "name": "stderr",
     "output_type": "stream",
     "text": [
      "0-7 / 7 (1.35s)\u001b[0m\n",
      "===\n",
      "Records extracted: 7\u001b[0m\n",
      "Starting iteration with limit=1000 skip=0 ...\u001b[0m\n"
     ]
    },
    {
     "name": "stdout",
     "output_type": "stream",
     "text": [
      "ur.0620555626.93 id has 7 patents\n",
      "341. Fabio Cominelli\n",
      "ur.0651722340.16\n"
     ]
    },
    {
     "name": "stderr",
     "output_type": "stream",
     "text": [
      "===\n",
      "Records extracted: 0\u001b[0m\n",
      "Starting iteration with limit=1000 skip=0 ...\u001b[0m\n"
     ]
    },
    {
     "name": "stdout",
     "output_type": "stream",
     "text": [
      "ur.0651722340.16 id has 0 patents\n",
      "342. Mary Dinauer\n",
      "ur.013155066547.55\n"
     ]
    },
    {
     "name": "stderr",
     "output_type": "stream",
     "text": [
      "===\n",
      "Records extracted: 0\u001b[0m\n",
      "Starting iteration with limit=1000 skip=0 ...\u001b[0m\n"
     ]
    },
    {
     "name": "stdout",
     "output_type": "stream",
     "text": [
      "ur.013155066547.55 id has 0 patents\n",
      "343. Samuel Hawgood\n",
      "ur.01107022045.13\n"
     ]
    },
    {
     "name": "stderr",
     "output_type": "stream",
     "text": [
      "0-189 / 189 (2.44s)\u001b[0m\n",
      "===\n",
      "Records extracted: 189\u001b[0m\n",
      "Starting iteration with limit=1000 skip=0 ...\u001b[0m\n"
     ]
    },
    {
     "name": "stdout",
     "output_type": "stream",
     "text": [
      "ur.01107022045.13 id has 189 patents\n",
      "344. Brian Kobilka\n",
      "ur.01236526331.24\n"
     ]
    },
    {
     "name": "stderr",
     "output_type": "stream",
     "text": [
      "===\n",
      "Records extracted: 0\u001b[0m\n",
      "Starting iteration with limit=1000 skip=0 ...\u001b[0m\n"
     ]
    },
    {
     "name": "stdout",
     "output_type": "stream",
     "text": [
      "ur.01236526331.24 id has 0 patents\n",
      "345. Howard Lippton\n",
      "ur.015750001717.89\n"
     ]
    },
    {
     "name": "stderr",
     "output_type": "stream",
     "text": [
      "0-345 / 345 (5.32s)\u001b[0m\n",
      "===\n",
      "Records extracted: 345\u001b[0m\n",
      "Starting iteration with limit=1000 skip=0 ...\u001b[0m\n"
     ]
    },
    {
     "name": "stdout",
     "output_type": "stream",
     "text": [
      "ur.015750001717.89 id has 345 patents\n",
      "346. Sanford Markowitz\n",
      "ur.01122016026.09\n"
     ]
    },
    {
     "name": "stderr",
     "output_type": "stream",
     "text": [
      "===\n",
      "Records extracted: 0\u001b[0m\n",
      "Starting iteration with limit=1000 skip=0 ...\u001b[0m\n"
     ]
    },
    {
     "name": "stdout",
     "output_type": "stream",
     "text": [
      "ur.01122016026.09 id has 0 patents\n",
      "347. Thomas Pallone\n",
      "ur.012610556027.35\n"
     ]
    },
    {
     "name": "stderr",
     "output_type": "stream",
     "text": [
      "===\n",
      "Records extracted: 0\u001b[0m\n",
      "Starting iteration with limit=1000 skip=0 ...\u001b[0m\n"
     ]
    },
    {
     "name": "stdout",
     "output_type": "stream",
     "text": [
      "ur.012610556027.35 id has 0 patents\n",
      "348. William Petri Jr.\n",
      "ur.01272213066.16\n"
     ]
    },
    {
     "name": "stderr",
     "output_type": "stream",
     "text": [
      "0-20 / 20 (2.37s)\u001b[0m\n",
      "===\n",
      "Records extracted: 20\u001b[0m\n",
      "Starting iteration with limit=1000 skip=0 ...\u001b[0m\n"
     ]
    },
    {
     "name": "stdout",
     "output_type": "stream",
     "text": [
      "ur.01272213066.16 id has 20 patents\n",
      "349. Peter St. George-Hyslop\n",
      "ur.0673753523.71\n"
     ]
    },
    {
     "name": "stderr",
     "output_type": "stream",
     "text": [
      "0-612 / 612 (2.67s)\u001b[0m\n",
      "===\n",
      "Records extracted: 612\u001b[0m\n",
      "Starting iteration with limit=1000 skip=0 ...\u001b[0m\n"
     ]
    },
    {
     "name": "stdout",
     "output_type": "stream",
     "text": [
      "ur.0673753523.71 id has 612 patents\n",
      "350. Jonathan Stamler\n",
      "ur.01315400021.90\n"
     ]
    },
    {
     "name": "stderr",
     "output_type": "stream",
     "text": [
      "0-15 / 15 (4.60s)\u001b[0m\n",
      "===\n",
      "Records extracted: 15\u001b[0m\n",
      "Starting iteration with limit=1000 skip=0 ...\u001b[0m\n"
     ]
    },
    {
     "name": "stdout",
     "output_type": "stream",
     "text": [
      "ur.01315400021.90 id has 15 patents\n",
      "351. Laurence Turka\n",
      "ur.01014762776.19\n"
     ]
    },
    {
     "name": "stderr",
     "output_type": "stream",
     "text": [
      "===\n",
      "Records extracted: 0\u001b[0m\n",
      "Starting iteration with limit=1000 skip=0 ...\u001b[0m\n"
     ]
    },
    {
     "name": "stdout",
     "output_type": "stream",
     "text": [
      "ur.01014762776.19 id has 0 patents\n",
      "352. Stephen Wank\n",
      "ur.0575545206.08\n"
     ]
    },
    {
     "name": "stderr",
     "output_type": "stream",
     "text": [
      "0-8 / 8 (4.65s)\u001b[0m\n",
      "===\n",
      "Records extracted: 8\u001b[0m\n",
      "Starting iteration with limit=1000 skip=0 ...\u001b[0m\n"
     ]
    },
    {
     "name": "stdout",
     "output_type": "stream",
     "text": [
      "ur.0575545206.08 id has 8 patents\n",
      "353. Fredric Wondisford\n",
      "ur.01331435353.26\n"
     ]
    },
    {
     "name": "stderr",
     "output_type": "stream",
     "text": [
      "===\n",
      "Records extracted: 0\u001b[0m\n",
      "Starting iteration with limit=1000 skip=0 ...\u001b[0m\n"
     ]
    },
    {
     "name": "stdout",
     "output_type": "stream",
     "text": [
      "ur.01331435353.26 id has 0 patents\n",
      "354. Troyen Brennan\n",
      "ur.013151720017.63\n"
     ]
    },
    {
     "name": "stderr",
     "output_type": "stream",
     "text": [
      "0-207 / 207 (1.98s)\u001b[0m\n",
      "===\n",
      "Records extracted: 207\u001b[0m\n",
      "Starting iteration with limit=1000 skip=0 ...\u001b[0m\n"
     ]
    },
    {
     "name": "stdout",
     "output_type": "stream",
     "text": [
      "ur.013151720017.63 id has 207 patents\n",
      "355. Richard Bucala\n",
      "ur.01224060372.64\n"
     ]
    },
    {
     "name": "stderr",
     "output_type": "stream",
     "text": [
      "0-4 / 4 (2.85s)\u001b[0m\n",
      "===\n",
      "Records extracted: 4\u001b[0m\n",
      "Starting iteration with limit=1000 skip=0 ...\u001b[0m\n"
     ]
    },
    {
     "name": "stdout",
     "output_type": "stream",
     "text": [
      "ur.01224060372.64 id has 4 patents\n",
      "356. Phillip Chance\n",
      "ur.0755514036.46\n"
     ]
    },
    {
     "name": "stderr",
     "output_type": "stream",
     "text": [
      "0-66 / 66 (1.35s)\u001b[0m\n",
      "===\n",
      "Records extracted: 66\u001b[0m\n",
      "Starting iteration with limit=1000 skip=0 ...\u001b[0m\n"
     ]
    },
    {
     "name": "stdout",
     "output_type": "stream",
     "text": [
      "ur.0755514036.46 id has 66 patents\n",
      "357. John DiPersio\n",
      "ur.01051423553.47\n"
     ]
    },
    {
     "name": "stderr",
     "output_type": "stream",
     "text": [
      "0-10 / 10 (3.18s)\u001b[0m\n",
      "===\n",
      "Records extracted: 10\u001b[0m\n",
      "Starting iteration with limit=1000 skip=0 ...\u001b[0m\n"
     ]
    },
    {
     "name": "stdout",
     "output_type": "stream",
     "text": [
      "ur.01051423553.47 id has 10 patents\n",
      "358. Lee Helman\n",
      "ur.0106121602.29\n"
     ]
    },
    {
     "name": "stderr",
     "output_type": "stream",
     "text": [
      "0-71 / 71 (1.47s)\u001b[0m\n",
      "===\n",
      "Records extracted: 71\u001b[0m\n",
      "Starting iteration with limit=1000 skip=0 ...\u001b[0m\n"
     ]
    },
    {
     "name": "stdout",
     "output_type": "stream",
     "text": [
      "ur.0106121602.29 id has 71 patents\n",
      "359. Harald Jüppner\n",
      "ur.01134462774.93\n"
     ]
    },
    {
     "name": "stderr",
     "output_type": "stream",
     "text": [
      "0-3 / 3 (4.29s)\u001b[0m\n",
      "===\n",
      "Records extracted: 3\u001b[0m\n",
      "Starting iteration with limit=1000 skip=0 ...\u001b[0m\n"
     ]
    },
    {
     "name": "stdout",
     "output_type": "stream",
     "text": [
      "ur.01134462774.93 id has 3 patents\n",
      "360. Thomas Kleyman\n",
      "ur.01325632021.52\n"
     ]
    },
    {
     "name": "stderr",
     "output_type": "stream",
     "text": [
      "0-12 / 12 (1.63s)\u001b[0m\n",
      "===\n",
      "Records extracted: 12\u001b[0m\n",
      "Starting iteration with limit=1000 skip=0 ...\u001b[0m\n"
     ]
    },
    {
     "name": "stdout",
     "output_type": "stream",
     "text": [
      "ur.01325632021.52 id has 12 patents\n",
      "361. Gary Koretzky\n",
      "ur.0727765034.53\n"
     ]
    },
    {
     "name": "stderr",
     "output_type": "stream",
     "text": [
      "===\n",
      "Records extracted: 0\u001b[0m\n",
      "Starting iteration with limit=1000 skip=0 ...\u001b[0m\n"
     ]
    },
    {
     "name": "stdout",
     "output_type": "stream",
     "text": [
      "ur.0727765034.53 id has 0 patents\n",
      "362. Joan Kreiss\n",
      "ur.012104761257.50\n"
     ]
    },
    {
     "name": "stderr",
     "output_type": "stream",
     "text": [
      "===\n",
      "Records extracted: 0\u001b[0m\n",
      "Starting iteration with limit=1000 skip=0 ...\u001b[0m\n"
     ]
    },
    {
     "name": "stdout",
     "output_type": "stream",
     "text": [
      "ur.012104761257.50 id has 0 patents\n",
      "363. Laurence McMahon\n",
      "ur.015510134432.24\n"
     ]
    },
    {
     "name": "stderr",
     "output_type": "stream",
     "text": [
      "===\n",
      "Records extracted: 0\u001b[0m\n",
      "Starting iteration with limit=1000 skip=0 ...\u001b[0m\n"
     ]
    },
    {
     "name": "stdout",
     "output_type": "stream",
     "text": [
      "ur.015510134432.24 id has 0 patents\n",
      "364. Westley Reeves\n",
      "ur.01322200237.75\n"
     ]
    },
    {
     "name": "stderr",
     "output_type": "stream",
     "text": [
      "0-25 / 25 (4.70s)\u001b[0m\n",
      "===\n",
      "Records extracted: 25\u001b[0m\n",
      "Starting iteration with limit=1000 skip=0 ...\u001b[0m\n"
     ]
    },
    {
     "name": "stdout",
     "output_type": "stream",
     "text": [
      "ur.01322200237.75 id has 25 patents\n",
      "365. Barrett Rollins\n",
      "ur.0706001031.03\n"
     ]
    },
    {
     "name": "stderr",
     "output_type": "stream",
     "text": [
      "===\n",
      "Records extracted: 0\u001b[0m\n",
      "Starting iteration with limit=1000 skip=0 ...\u001b[0m\n"
     ]
    },
    {
     "name": "stdout",
     "output_type": "stream",
     "text": [
      "ur.0706001031.03 id has 0 patents\n",
      "366. Robert Star\n",
      "ur.011234664717.69\n"
     ]
    },
    {
     "name": "stderr",
     "output_type": "stream",
     "text": [
      "0-68 / 68 (6.26s)\u001b[0m\n",
      "===\n",
      "Records extracted: 68\u001b[0m\n",
      "Starting iteration with limit=1000 skip=0 ...\u001b[0m\n"
     ]
    },
    {
     "name": "stdout",
     "output_type": "stream",
     "text": [
      "ur.011234664717.69 id has 68 patents\n",
      "367. CY Stein\n",
      "ur.0621050500.59\n"
     ]
    },
    {
     "name": "stderr",
     "output_type": "stream",
     "text": [
      "===\n",
      "Records extracted: 0\u001b[0m\n",
      "Starting iteration with limit=1000 skip=0 ...\u001b[0m\n"
     ]
    },
    {
     "name": "stdout",
     "output_type": "stream",
     "text": [
      "ur.0621050500.59 id has 0 patents\n",
      "368. Mary Tinetti\n",
      "ur.01207143557.99\n"
     ]
    },
    {
     "name": "stderr",
     "output_type": "stream",
     "text": [
      "0-11 / 11 (2.78s)\u001b[0m\n",
      "===\n",
      "Records extracted: 11\u001b[0m\n",
      "Starting iteration with limit=1000 skip=0 ...\u001b[0m\n"
     ]
    },
    {
     "name": "stdout",
     "output_type": "stream",
     "text": [
      "ur.01207143557.99 id has 11 patents\n",
      "369. Peter Igarashi\n",
      "ur.01345726370.58\n"
     ]
    },
    {
     "name": "stderr",
     "output_type": "stream",
     "text": [
      "0-6 / 6 (4.41s)\u001b[0m\n",
      "===\n",
      "Records extracted: 6\u001b[0m\n",
      "Starting iteration with limit=1000 skip=0 ...\u001b[0m\n"
     ]
    },
    {
     "name": "stdout",
     "output_type": "stream",
     "text": [
      "ur.01345726370.58 id has 6 patents\n",
      "370. Sally Radovick\n",
      "ur.01176653602.55\n"
     ]
    },
    {
     "name": "stderr",
     "output_type": "stream",
     "text": [
      "0-15 / 15 (6.03s)\u001b[0m\n",
      "===\n",
      "Records extracted: 15\u001b[0m\n",
      "Starting iteration with limit=1000 skip=0 ...\u001b[0m\n"
     ]
    },
    {
     "name": "stdout",
     "output_type": "stream",
     "text": [
      "ur.01176653602.55 id has 15 patents\n",
      "371. Virginia Broudy\n",
      "ur.01030214547.07\n"
     ]
    },
    {
     "name": "stderr",
     "output_type": "stream",
     "text": [
      "===\n",
      "Records extracted: 0\u001b[0m\n",
      "Starting iteration with limit=1000 skip=0 ...\u001b[0m\n"
     ]
    },
    {
     "name": "stdout",
     "output_type": "stream",
     "text": [
      "ur.01030214547.07 id has 0 patents\n",
      "372. Sherin Devaskar\n",
      "ur.0726513326.02\n"
     ]
    },
    {
     "name": "stderr",
     "output_type": "stream",
     "text": [
      "0-24 / 24 (1.32s)\u001b[0m\n",
      "===\n",
      "Records extracted: 24\u001b[0m\n",
      "Starting iteration with limit=1000 skip=0 ...\u001b[0m\n"
     ]
    },
    {
     "name": "stdout",
     "output_type": "stream",
     "text": [
      "ur.0726513326.02 id has 24 patents\n",
      "373. Robert Doms\n",
      "ur.01115362635.66\n"
     ]
    },
    {
     "name": "stderr",
     "output_type": "stream",
     "text": [
      "0-11 / 11 (3.20s)\u001b[0m\n",
      "===\n",
      "Records extracted: 11\u001b[0m\n",
      "Starting iteration with limit=1000 skip=0 ...\u001b[0m\n"
     ]
    },
    {
     "name": "stdout",
     "output_type": "stream",
     "text": [
      "ur.01115362635.66 id has 11 patents\n",
      "374. Pascal Goldschmidt-Clermont\n",
      "ur.01246314570.56\n"
     ]
    },
    {
     "name": "stderr",
     "output_type": "stream",
     "text": [
      "0-26 / 26 (1.23s)\u001b[0m\n",
      "===\n",
      "Records extracted: 26\u001b[0m\n",
      "Starting iteration with limit=1000 skip=0 ...\u001b[0m\n"
     ]
    },
    {
     "name": "stdout",
     "output_type": "stream",
     "text": [
      "ur.01246314570.56 id has 26 patents\n",
      "375. Douglas Golenbock\n",
      "ur.0772022470.64\n"
     ]
    },
    {
     "name": "stderr",
     "output_type": "stream",
     "text": [
      "0-18 / 18 (3.24s)\u001b[0m\n",
      "===\n",
      "Records extracted: 18\u001b[0m\n",
      "Starting iteration with limit=1000 skip=0 ...\u001b[0m\n"
     ]
    },
    {
     "name": "stdout",
     "output_type": "stream",
     "text": [
      "ur.0772022470.64 id has 18 patents\n",
      "376. Razelle Kurzrock\n",
      "ur.01033746104.09\n"
     ]
    },
    {
     "name": "stderr",
     "output_type": "stream",
     "text": [
      "0-54 / 54 (6.10s)\u001b[0m\n",
      "===\n",
      "Records extracted: 54\u001b[0m\n",
      "Starting iteration with limit=1000 skip=0 ...\u001b[0m\n"
     ]
    },
    {
     "name": "stdout",
     "output_type": "stream",
     "text": [
      "ur.01033746104.09 id has 54 patents\n",
      "377. Stephen Meltzer\n",
      "ur.01356117464.07\n"
     ]
    },
    {
     "name": "stderr",
     "output_type": "stream",
     "text": [
      "0-7 / 7 (5.84s)\u001b[0m\n",
      "===\n",
      "Records extracted: 7\u001b[0m\n",
      "Starting iteration with limit=1000 skip=0 ...\u001b[0m\n"
     ]
    },
    {
     "name": "stdout",
     "output_type": "stream",
     "text": [
      "ur.01356117464.07 id has 7 patents\n",
      "378. Mark Musen\n",
      "ur.0657552271.41\n"
     ]
    },
    {
     "name": "stderr",
     "output_type": "stream",
     "text": [
      "0-5 / 5 (1.24s)\u001b[0m\n",
      "===\n",
      "Records extracted: 5\u001b[0m\n",
      "Starting iteration with limit=1000 skip=0 ...\u001b[0m\n"
     ]
    },
    {
     "name": "stdout",
     "output_type": "stream",
     "text": [
      "ur.0657552271.41 id has 5 patents\n",
      "379. Stephen Nimer\n",
      "ur.01272072077.09\n"
     ]
    },
    {
     "name": "stderr",
     "output_type": "stream",
     "text": [
      "0-14 / 14 (1.24s)\u001b[0m\n",
      "===\n",
      "Records extracted: 14\u001b[0m\n",
      "Starting iteration with limit=1000 skip=0 ...\u001b[0m\n"
     ]
    },
    {
     "name": "stdout",
     "output_type": "stream",
     "text": [
      "ur.01272072077.09 id has 14 patents\n",
      "380. Dwain Thiele\n",
      "ur.0643440511.18\n"
     ]
    },
    {
     "name": "stderr",
     "output_type": "stream",
     "text": [
      "0-3 / 3 (1.87s)\u001b[0m\n",
      "===\n",
      "Records extracted: 3\u001b[0m\n",
      "Starting iteration with limit=1000 skip=0 ...\u001b[0m\n"
     ]
    },
    {
     "name": "stdout",
     "output_type": "stream",
     "text": [
      "ur.0643440511.18 id has 3 patents\n",
      "381. Hagop Youssoufian\n",
      "ur.01121315670.74\n"
     ]
    },
    {
     "name": "stderr",
     "output_type": "stream",
     "text": [
      "0-2 / 2 (4.55s)\u001b[0m\n",
      "===\n",
      "Records extracted: 2\u001b[0m\n",
      "Starting iteration with limit=1000 skip=0 ...\u001b[0m\n"
     ]
    },
    {
     "name": "stdout",
     "output_type": "stream",
     "text": [
      "ur.01121315670.74 id has 2 patents\n",
      "382. Ferric Fang\n",
      "ur.0646271436.68\n"
     ]
    },
    {
     "name": "stderr",
     "output_type": "stream",
     "text": [
      "0-657 / 657 (2.60s)\u001b[0m\n",
      "===\n",
      "Records extracted: 657\u001b[0m\n",
      "Starting iteration with limit=1000 skip=0 ...\u001b[0m\n"
     ]
    },
    {
     "name": "stdout",
     "output_type": "stream",
     "text": [
      "ur.0646271436.68 id has 657 patents\n",
      "383. Donald Landry\n",
      "ur.01234756730.32\n"
     ]
    },
    {
     "name": "stderr",
     "output_type": "stream",
     "text": [
      "===\n",
      "Records extracted: 0\u001b[0m\n",
      "Starting iteration with limit=1000 skip=0 ...\u001b[0m\n"
     ]
    },
    {
     "name": "stdout",
     "output_type": "stream",
     "text": [
      "ur.01234756730.32 id has 0 patents\n",
      "384. Michael Parmacek\n",
      "ur.01344055300.40\n"
     ]
    },
    {
     "name": "stderr",
     "output_type": "stream",
     "text": [
      "===\n",
      "Records extracted: 0\u001b[0m\n",
      "Starting iteration with limit=1000 skip=0 ...\u001b[0m\n"
     ]
    },
    {
     "name": "stdout",
     "output_type": "stream",
     "text": [
      "ur.01344055300.40 id has 0 patents\n",
      "385. Wadie Bahou\n",
      "ur.0754007721.11\n"
     ]
    },
    {
     "name": "stderr",
     "output_type": "stream",
     "text": [
      "===\n",
      "Records extracted: 0\u001b[0m\n",
      "Starting iteration with limit=1000 skip=0 ...\u001b[0m\n"
     ]
    },
    {
     "name": "stdout",
     "output_type": "stream",
     "text": [
      "ur.0754007721.11 id has 0 patents\n",
      "386. Roberto Civitelli\n",
      "ur.01372314464.01\n"
     ]
    },
    {
     "name": "stderr",
     "output_type": "stream",
     "text": [
      "0-51 / 51 (6.18s)\u001b[0m\n",
      "===\n",
      "Records extracted: 51\u001b[0m\n",
      "Starting iteration with limit=1000 skip=0 ...\u001b[0m\n"
     ]
    },
    {
     "name": "stdout",
     "output_type": "stream",
     "text": [
      "ur.01372314464.01 id has 51 patents\n",
      "387. Terence Dermody\n",
      "ur.01312272166.40\n"
     ]
    },
    {
     "name": "stderr",
     "output_type": "stream",
     "text": [
      "0-57 / 57 (1.48s)\u001b[0m\n",
      "===\n",
      "Records extracted: 57\u001b[0m\n",
      "Starting iteration with limit=1000 skip=0 ...\u001b[0m\n"
     ]
    },
    {
     "name": "stdout",
     "output_type": "stream",
     "text": [
      "ur.01312272166.40 id has 57 patents\n",
      "388. Erol Fikrig\n",
      "ur.07420031403.62\n"
     ]
    },
    {
     "name": "stderr",
     "output_type": "stream",
     "text": [
      "===\n",
      "Records extracted: 0\u001b[0m\n",
      "Starting iteration with limit=1000 skip=0 ...\u001b[0m\n"
     ]
    },
    {
     "name": "stdout",
     "output_type": "stream",
     "text": [
      "ur.07420031403.62 id has 0 patents\n",
      "389. Alfred George Jr.\n",
      "ur.01175742446.56\n"
     ]
    },
    {
     "name": "stderr",
     "output_type": "stream",
     "text": [
      "0-6 / 6 (1.34s)\u001b[0m\n",
      "===\n",
      "Records extracted: 6\u001b[0m\n",
      "Starting iteration with limit=1000 skip=0 ...\u001b[0m\n"
     ]
    },
    {
     "name": "stdout",
     "output_type": "stream",
     "text": [
      "ur.01175742446.56 id has 6 patents\n",
      "390. Richard Kitsis\n",
      "ur.01342231200.09\n"
     ]
    },
    {
     "name": "stderr",
     "output_type": "stream",
     "text": [
      "0-99 / 99 (4.78s)\u001b[0m\n",
      "===\n",
      "Records extracted: 99\u001b[0m\n",
      "Starting iteration with limit=1000 skip=0 ...\u001b[0m\n"
     ]
    },
    {
     "name": "stdout",
     "output_type": "stream",
     "text": [
      "ur.01342231200.09 id has 99 patents\n",
      "391. Alan Kopin\n",
      "ur.01200341421.80\n"
     ]
    },
    {
     "name": "stderr",
     "output_type": "stream",
     "text": [
      "===\n",
      "Records extracted: 0\u001b[0m\n",
      "Starting iteration with limit=1000 skip=0 ...\u001b[0m\n"
     ]
    },
    {
     "name": "stdout",
     "output_type": "stream",
     "text": [
      "ur.01200341421.80 id has 0 patents\n",
      "392. Juanita Merchant\n",
      "ur.01361663050.08\n"
     ]
    },
    {
     "name": "stderr",
     "output_type": "stream",
     "text": [
      "0-4 / 4 (3.29s)\u001b[0m\n",
      "===\n",
      "Records extracted: 4\u001b[0m\n",
      "Starting iteration with limit=1000 skip=0 ...\u001b[0m\n"
     ]
    },
    {
     "name": "stdout",
     "output_type": "stream",
     "text": [
      "ur.01361663050.08 id has 4 patents\n",
      "393. Ori Rotstein\n",
      "ur.0654100716.33\n"
     ]
    },
    {
     "name": "stderr",
     "output_type": "stream",
     "text": [
      "===\n",
      "Records extracted: 0\u001b[0m\n",
      "Starting iteration with limit=1000 skip=0 ...\u001b[0m\n"
     ]
    },
    {
     "name": "stdout",
     "output_type": "stream",
     "text": [
      "ur.0654100716.33 id has 0 patents\n",
      "394. Mark Schlissel\n",
      "ur.0704216004.06\n"
     ]
    },
    {
     "name": "stderr",
     "output_type": "stream",
     "text": [
      "0-28 / 28 (1.75s)\u001b[0m\n",
      "===\n",
      "Records extracted: 28\u001b[0m\n",
      "Starting iteration with limit=1000 skip=0 ...\u001b[0m\n"
     ]
    },
    {
     "name": "stdout",
     "output_type": "stream",
     "text": [
      "ur.0704216004.06 id has 28 patents\n",
      "395. Robert Seder\n",
      "ur.0613627742.50\n"
     ]
    },
    {
     "name": "stderr",
     "output_type": "stream",
     "text": [
      "0-18 / 18 (2.95s)\u001b[0m\n",
      "===\n",
      "Records extracted: 18\u001b[0m\n",
      "Starting iteration with limit=1000 skip=0 ...\u001b[0m\n"
     ]
    },
    {
     "name": "stdout",
     "output_type": "stream",
     "text": [
      "ur.0613627742.50 id has 18 patents\n",
      "396. Stefan Somlo\n",
      "ur.01037567300.85\n"
     ]
    },
    {
     "name": "stderr",
     "output_type": "stream",
     "text": [
      "0-12 / 12 (1.73s)\u001b[0m\n",
      "===\n",
      "Records extracted: 12\u001b[0m\n",
      "Starting iteration with limit=1000 skip=0 ...\u001b[0m\n"
     ]
    },
    {
     "name": "stdout",
     "output_type": "stream",
     "text": [
      "ur.01037567300.85 id has 12 patents\n",
      "397. Howard Worman\n",
      "ur.01320537310.58\n"
     ]
    },
    {
     "name": "stderr",
     "output_type": "stream",
     "text": [
      "0-118 / 118 (3.03s)\u001b[0m\n",
      "===\n",
      "Records extracted: 118\u001b[0m\n",
      "Starting iteration with limit=1000 skip=0 ...\u001b[0m\n"
     ]
    },
    {
     "name": "stdout",
     "output_type": "stream",
     "text": [
      "ur.01320537310.58 id has 118 patents\n",
      "398. Wafik El-Deiry\n",
      "ur.010616253707.83\n"
     ]
    },
    {
     "name": "stderr",
     "output_type": "stream",
     "text": [
      "===\n",
      "Records extracted: 0\u001b[0m\n",
      "Starting iteration with limit=1000 skip=0 ...\u001b[0m\n"
     ]
    },
    {
     "name": "stdout",
     "output_type": "stream",
     "text": [
      "ur.010616253707.83 id has 0 patents\n",
      "399. Robert Farese Jr.\n",
      "ur.0622300504.22\n"
     ]
    },
    {
     "name": "stderr",
     "output_type": "stream",
     "text": [
      "0-19 / 19 (6.03s)\u001b[0m\n",
      "===\n",
      "Records extracted: 19\u001b[0m\n",
      "Starting iteration with limit=1000 skip=0 ...\u001b[0m\n"
     ]
    },
    {
     "name": "stdout",
     "output_type": "stream",
     "text": [
      "ur.0622300504.22 id has 19 patents\n",
      "400. Andrew Karaplis\n",
      "ur.01240331671.16\n"
     ]
    },
    {
     "name": "stderr",
     "output_type": "stream",
     "text": [
      "0-36 / 36 (1.23s)\u001b[0m\n",
      "===\n",
      "Records extracted: 36\u001b[0m\n",
      "Starting iteration with limit=1000 skip=0 ...\u001b[0m\n"
     ]
    },
    {
     "name": "stdout",
     "output_type": "stream",
     "text": [
      "ur.01240331671.16 id has 36 patents\n",
      "401. Richard Koup\n",
      "ur.01260056524.04\n"
     ]
    },
    {
     "name": "stderr",
     "output_type": "stream",
     "text": [
      "===\n",
      "Records extracted: 0\u001b[0m\n",
      "Starting iteration with limit=1000 skip=0 ...\u001b[0m\n"
     ]
    },
    {
     "name": "stdout",
     "output_type": "stream",
     "text": [
      "ur.01260056524.04 id has 0 patents\n",
      "402. Donna Mancini\n",
      "ur.012736403121.07\n"
     ]
    },
    {
     "name": "stderr",
     "output_type": "stream",
     "text": [
      "===\n",
      "Records extracted: 0\u001b[0m\n",
      "Starting iteration with limit=1000 skip=0 ...\u001b[0m\n"
     ]
    },
    {
     "name": "stdout",
     "output_type": "stream",
     "text": [
      "ur.012736403121.07 id has 0 patents\n",
      "403. Paul McCray Jr.\n",
      "ur.0747627025.50\n"
     ]
    },
    {
     "name": "stderr",
     "output_type": "stream",
     "text": [
      "0-220 / 220 (6.52s)\u001b[0m\n",
      "===\n",
      "Records extracted: 220\u001b[0m\n",
      "Starting iteration with limit=1000 skip=0 ...\u001b[0m\n"
     ]
    },
    {
     "name": "stdout",
     "output_type": "stream",
     "text": [
      "ur.0747627025.50 id has 220 patents\n",
      "404. Michel Nussenzweig\n",
      "ur.0754355623.51\n"
     ]
    },
    {
     "name": "stderr",
     "output_type": "stream",
     "text": [
      "0-2 / 2 (5.57s)\u001b[0m\n",
      "===\n",
      "Records extracted: 2\u001b[0m\n",
      "Starting iteration with limit=1000 skip=0 ...\u001b[0m\n"
     ]
    },
    {
     "name": "stdout",
     "output_type": "stream",
     "text": [
      "ur.0754355623.51 id has 2 patents\n",
      "405. Marc Reitman\n",
      "ur.01221036340.24\n"
     ]
    },
    {
     "name": "stderr",
     "output_type": "stream",
     "text": [
      "0-55 / 55 (1.33s)\u001b[0m\n",
      "===\n",
      "Records extracted: 55\u001b[0m\n",
      "Starting iteration with limit=1000 skip=0 ...\u001b[0m\n"
     ]
    },
    {
     "name": "stdout",
     "output_type": "stream",
     "text": [
      "ur.01221036340.24 id has 55 patents\n",
      "406. Marschall Runge\n",
      "ur.0753760235.39\n"
     ]
    },
    {
     "name": "stderr",
     "output_type": "stream",
     "text": [
      "0-15 / 15 (4.63s)\u001b[0m\n",
      "===\n",
      "Records extracted: 15\u001b[0m\n",
      "Starting iteration with limit=1000 skip=0 ...\u001b[0m\n"
     ]
    },
    {
     "name": "stdout",
     "output_type": "stream",
     "text": [
      "ur.0753760235.39 id has 15 patents\n",
      "407. Clay Semenkovich\n",
      "ur.015253471557.49\n"
     ]
    },
    {
     "name": "stderr",
     "output_type": "stream",
     "text": [
      "0-11 / 11 (1.60s)\u001b[0m\n",
      "===\n",
      "Records extracted: 11\u001b[0m\n",
      "Starting iteration with limit=1000 skip=0 ...\u001b[0m\n"
     ]
    },
    {
     "name": "stdout",
     "output_type": "stream",
     "text": [
      "ur.015253471557.49 id has 11 patents\n",
      "408. Philip Shaul\n",
      "ur.01004656642.21\n"
     ]
    },
    {
     "name": "stderr",
     "output_type": "stream",
     "text": [
      "0-65 / 65 (1.38s)\u001b[0m\n",
      "===\n",
      "Records extracted: 65\u001b[0m\n",
      "Starting iteration with limit=1000 skip=0 ...\u001b[0m\n"
     ]
    },
    {
     "name": "stdout",
     "output_type": "stream",
     "text": [
      "ur.01004656642.21 id has 65 patents\n",
      "409. Virend Somers\n",
      "ur.01311602010.22\n"
     ]
    },
    {
     "name": "stderr",
     "output_type": "stream",
     "text": [
      "0-71 / 71 (1.42s)\u001b[0m\n",
      "===\n",
      "Records extracted: 71\u001b[0m\n",
      "Starting iteration with limit=1000 skip=0 ...\u001b[0m\n"
     ]
    },
    {
     "name": "stdout",
     "output_type": "stream",
     "text": [
      "ur.01311602010.22 id has 71 patents\n",
      "410. Raymond Warrell\n",
      "ur.01274702531.47\n"
     ]
    },
    {
     "name": "stderr",
     "output_type": "stream",
     "text": [
      "0-292 / 292 (2.03s)\u001b[0m\n",
      "===\n",
      "Records extracted: 292\u001b[0m\n",
      "Starting iteration with limit=1000 skip=0 ...\u001b[0m\n"
     ]
    },
    {
     "name": "stdout",
     "output_type": "stream",
     "text": [
      "ur.01274702531.47 id has 292 patents\n",
      "411. George Yancopoulos\n",
      "ur.0634104106.31\n"
     ]
    },
    {
     "name": "stderr",
     "output_type": "stream",
     "text": [
      "0-141 / 141 (2.67s)\u001b[0m\n",
      "===\n",
      "Records extracted: 141\u001b[0m\n",
      "Starting iteration with limit=1000 skip=0 ...\u001b[0m\n"
     ]
    },
    {
     "name": "stdout",
     "output_type": "stream",
     "text": [
      "ur.0634104106.31 id has 141 patents\n",
      "412. Jonathan Barasch\n",
      "ur.01257716635.83\n"
     ]
    },
    {
     "name": "stderr",
     "output_type": "stream",
     "text": [
      "0-10 / 10 (2.10s)\u001b[0m\n",
      "===\n",
      "Records extracted: 10\u001b[0m\n",
      "Starting iteration with limit=1000 skip=0 ...\u001b[0m\n"
     ]
    },
    {
     "name": "stdout",
     "output_type": "stream",
     "text": [
      "ur.01257716635.83 id has 10 patents\n",
      "413. David Virshup\n",
      "ur.01033627435.43\n"
     ]
    },
    {
     "name": "stderr",
     "output_type": "stream",
     "text": [
      "0-26 / 26 (3.68s)\u001b[0m\n",
      "===\n",
      "Records extracted: 26\u001b[0m\n",
      "Starting iteration with limit=1000 skip=0 ...\u001b[0m\n"
     ]
    },
    {
     "name": "stdout",
     "output_type": "stream",
     "text": [
      "ur.01033627435.43 id has 26 patents\n",
      "414. Mone Zaidi\n",
      "ur.0612270466.89\n"
     ]
    },
    {
     "name": "stderr",
     "output_type": "stream",
     "text": [
      "0-31 / 31 (6.03s)\u001b[0m\n",
      "===\n",
      "Records extracted: 31\u001b[0m\n",
      "Starting iteration with limit=1000 skip=0 ...\u001b[0m\n"
     ]
    },
    {
     "name": "stdout",
     "output_type": "stream",
     "text": [
      "ur.0612270466.89 id has 31 patents\n",
      "415. Mario Capecchi\n",
      "ur.0755340136.89\n"
     ]
    },
    {
     "name": "stderr",
     "output_type": "stream",
     "text": [
      "0-48 / 48 (6.05s)\u001b[0m\n",
      "===\n",
      "Records extracted: 48\u001b[0m\n",
      "Starting iteration with limit=1000 skip=0 ...\u001b[0m\n"
     ]
    },
    {
     "name": "stdout",
     "output_type": "stream",
     "text": [
      "ur.0755340136.89 id has 48 patents\n",
      "416. Timothy Cover\n",
      "ur.01275466263.45\n"
     ]
    },
    {
     "name": "stderr",
     "output_type": "stream",
     "text": [
      "===\n",
      "Records extracted: 0\u001b[0m\n",
      "Starting iteration with limit=1000 skip=0 ...\u001b[0m\n"
     ]
    },
    {
     "name": "stdout",
     "output_type": "stream",
     "text": [
      "ur.01275466263.45 id has 0 patents\n",
      "417. Linda Demer\n",
      "ur.0612735026.41\n"
     ]
    },
    {
     "name": "stderr",
     "output_type": "stream",
     "text": [
      "0-3 / 3 (4.50s)\u001b[0m\n",
      "===\n",
      "Records extracted: 3\u001b[0m\n",
      "Starting iteration with limit=1000 skip=0 ...\u001b[0m\n"
     ]
    },
    {
     "name": "stdout",
     "output_type": "stream",
     "text": [
      "ur.0612735026.41 id has 3 patents\n",
      "418. Iswar Hariharan\n",
      "ur.01321112106.55\n"
     ]
    },
    {
     "name": "stderr",
     "output_type": "stream",
     "text": [
      "===\n",
      "Records extracted: 0\u001b[0m\n",
      "Starting iteration with limit=1000 skip=0 ...\u001b[0m\n"
     ]
    },
    {
     "name": "stdout",
     "output_type": "stream",
     "text": [
      "ur.01321112106.55 id has 0 patents\n",
      "419. Kirk Knowlton\n",
      "ur.01164505111.49\n"
     ]
    },
    {
     "name": "stderr",
     "output_type": "stream",
     "text": [
      "===\n",
      "Records extracted: 0\u001b[0m\n",
      "Starting iteration with limit=1000 skip=0 ...\u001b[0m\n"
     ]
    },
    {
     "name": "stdout",
     "output_type": "stream",
     "text": [
      "ur.01164505111.49 id has 0 patents\n",
      "420. Larry Moreland\n",
      "ur.0603523346.14\n"
     ]
    },
    {
     "name": "stderr",
     "output_type": "stream",
     "text": [
      "0-3 / 3 (2.05s)\u001b[0m\n",
      "===\n",
      "Records extracted: 3\u001b[0m\n",
      "Starting iteration with limit=1000 skip=0 ...\u001b[0m\n"
     ]
    },
    {
     "name": "stdout",
     "output_type": "stream",
     "text": [
      "ur.0603523346.14 id has 3 patents\n",
      "421. William Skach\n",
      "ur.0612643232.34\n"
     ]
    },
    {
     "name": "stderr",
     "output_type": "stream",
     "text": [
      "0-92 / 92 (4.43s)\u001b[0m\n",
      "===\n",
      "Records extracted: 92\u001b[0m\n",
      "Starting iteration with limit=1000 skip=0 ...\u001b[0m\n"
     ]
    },
    {
     "name": "stdout",
     "output_type": "stream",
     "text": [
      "ur.0612643232.34 id has 92 patents\n",
      "422. Francis Spinale\n",
      "ur.01172556164.02\n"
     ]
    },
    {
     "name": "stderr",
     "output_type": "stream",
     "text": [
      "===\n",
      "Records extracted: 0\u001b[0m\n",
      "Starting iteration with limit=1000 skip=0 ...\u001b[0m\n"
     ]
    },
    {
     "name": "stdout",
     "output_type": "stream",
     "text": [
      "ur.01172556164.02 id has 0 patents\n",
      "423. Jerry Vockley\n",
      "ur.01006211233.89\n"
     ]
    },
    {
     "name": "stderr",
     "output_type": "stream",
     "text": [
      "===\n",
      "Records extracted: 0\u001b[0m\n",
      "Starting iteration with limit=1000 skip=0 ...\u001b[0m\n"
     ]
    },
    {
     "name": "stdout",
     "output_type": "stream",
     "text": [
      "ur.01006211233.89 id has 0 patents\n",
      "424. Per Westermark\n",
      "ur.01107664536.85\n"
     ]
    },
    {
     "name": "stderr",
     "output_type": "stream",
     "text": [
      "0-11 / 11 (4.67s)\u001b[0m\n",
      "===\n",
      "Records extracted: 11\u001b[0m\n",
      "Starting iteration with limit=1000 skip=0 ...\u001b[0m\n"
     ]
    },
    {
     "name": "stdout",
     "output_type": "stream",
     "text": [
      "ur.01107664536.85 id has 11 patents\n",
      "425. Jeffrey Balser\n",
      "ur.01340413302.95\n"
     ]
    },
    {
     "name": "stderr",
     "output_type": "stream",
     "text": [
      "===\n",
      "Records extracted: 0\u001b[0m\n",
      "Starting iteration with limit=1000 skip=0 ...\u001b[0m\n"
     ]
    },
    {
     "name": "stdout",
     "output_type": "stream",
     "text": [
      "ur.01340413302.95 id has 0 patents\n",
      "426. Lionel Ivashkiv\n",
      "ur.0666217770.24\n"
     ]
    },
    {
     "name": "stderr",
     "output_type": "stream",
     "text": [
      "0-14 / 14 (2.84s)\u001b[0m\n",
      "===\n",
      "Records extracted: 14\u001b[0m\n",
      "Starting iteration with limit=1000 skip=0 ...\u001b[0m\n"
     ]
    },
    {
     "name": "stdout",
     "output_type": "stream",
     "text": [
      "ur.0666217770.24 id has 14 patents\n",
      "427. David Nanus\n",
      "ur.0641133151.51\n"
     ]
    },
    {
     "name": "stderr",
     "output_type": "stream",
     "text": [
      "0-31 / 31 (6.03s)\u001b[0m\n",
      "===\n",
      "Records extracted: 31\u001b[0m\n",
      "Starting iteration with limit=1000 skip=0 ...\u001b[0m\n"
     ]
    },
    {
     "name": "stdout",
     "output_type": "stream",
     "text": [
      "ur.0641133151.51 id has 31 patents\n",
      "428. Allan Brasier\n",
      "ur.010354631757.33\n"
     ]
    },
    {
     "name": "stderr",
     "output_type": "stream",
     "text": [
      "0-17 / 17 (5.99s)\u001b[0m\n",
      "===\n",
      "Records extracted: 17\u001b[0m\n",
      "Starting iteration with limit=1000 skip=0 ...\u001b[0m\n"
     ]
    },
    {
     "name": "stdout",
     "output_type": "stream",
     "text": [
      "ur.010354631757.33 id has 17 patents\n",
      "429. Ethel Cesarman\n",
      "ur.014051624337.94\n"
     ]
    },
    {
     "name": "stderr",
     "output_type": "stream",
     "text": [
      "0-102 / 102 (1.79s)\u001b[0m\n",
      "===\n",
      "Records extracted: 102\u001b[0m\n",
      "Starting iteration with limit=1000 skip=0 ...\u001b[0m\n"
     ]
    },
    {
     "name": "stdout",
     "output_type": "stream",
     "text": [
      "ur.014051624337.94 id has 102 patents\n",
      "430. Augustine Choi\n",
      "ur.01201060406.46\n"
     ]
    },
    {
     "name": "stderr",
     "output_type": "stream",
     "text": [
      "0-23 / 23 (2.77s)\u001b[0m\n",
      "===\n",
      "Records extracted: 23\u001b[0m\n",
      "Starting iteration with limit=1000 skip=0 ...\u001b[0m\n"
     ]
    },
    {
     "name": "stdout",
     "output_type": "stream",
     "text": [
      "ur.01201060406.46 id has 23 patents\n",
      "431. Michael Donnenberg\n",
      "ur.01307127066.72\n"
     ]
    },
    {
     "name": "stderr",
     "output_type": "stream",
     "text": [
      "===\n",
      "Records extracted: 0\u001b[0m\n",
      "Starting iteration with limit=1000 skip=0 ...\u001b[0m\n"
     ]
    },
    {
     "name": "stdout",
     "output_type": "stream",
     "text": [
      "ur.01307127066.72 id has 0 patents\n",
      "432. Serpil Erzurum\n",
      "ur.0757734310.99\n"
     ]
    },
    {
     "name": "stderr",
     "output_type": "stream",
     "text": [
      "===\n",
      "Records extracted: 0\u001b[0m\n",
      "Starting iteration with limit=1000 skip=0 ...\u001b[0m\n"
     ]
    },
    {
     "name": "stdout",
     "output_type": "stream",
     "text": [
      "ur.0757734310.99 id has 0 patents\n",
      "433. Glenn Fishman\n",
      "ur.01107602660.28\n"
     ]
    },
    {
     "name": "stderr",
     "output_type": "stream",
     "text": [
      "0-20 / 20 (1.11s)\u001b[0m\n",
      "===\n",
      "Records extracted: 20\u001b[0m\n",
      "Starting iteration with limit=1000 skip=0 ...\u001b[0m\n"
     ]
    },
    {
     "name": "stdout",
     "output_type": "stream",
     "text": [
      "ur.01107602660.28 id has 20 patents\n",
      "434. David Harlan\n",
      "ur.01113441707.90\n"
     ]
    },
    {
     "name": "stderr",
     "output_type": "stream",
     "text": [
      "0-16 / 16 (4.52s)\u001b[0m\n",
      "===\n",
      "Records extracted: 16\u001b[0m\n",
      "Starting iteration with limit=1000 skip=0 ...\u001b[0m\n"
     ]
    },
    {
     "name": "stdout",
     "output_type": "stream",
     "text": [
      "ur.01113441707.90 id has 16 patents\n",
      "435. Stella Kourembanas\n",
      "ur.015150666017.55\n"
     ]
    },
    {
     "name": "stderr",
     "output_type": "stream",
     "text": [
      "===\n",
      "Records extracted: 0\u001b[0m\n",
      "Starting iteration with limit=1000 skip=0 ...\u001b[0m\n"
     ]
    },
    {
     "name": "stdout",
     "output_type": "stream",
     "text": [
      "ur.015150666017.55 id has 0 patents\n",
      "436. Jonathan Kurie\n",
      "ur.0660223576.18\n"
     ]
    },
    {
     "name": "stderr",
     "output_type": "stream",
     "text": [
      "0-7 / 7 (4.82s)\u001b[0m\n",
      "===\n",
      "Records extracted: 7\u001b[0m\n",
      "Starting iteration with limit=1000 skip=0 ...\u001b[0m\n"
     ]
    },
    {
     "name": "stdout",
     "output_type": "stream",
     "text": [
      "ur.0660223576.18 id has 7 patents\n",
      "437. Jonathan Licht\n",
      "ur.01326031522.43\n"
     ]
    },
    {
     "name": "stderr",
     "output_type": "stream",
     "text": [
      "0-17 / 17 (1.62s)\u001b[0m\n",
      "===\n",
      "Records extracted: 17\u001b[0m\n",
      "Starting iteration with limit=1000 skip=0 ...\u001b[0m\n"
     ]
    },
    {
     "name": "stdout",
     "output_type": "stream",
     "text": [
      "ur.01326031522.43 id has 17 patents\n",
      "438. MacRae Linton\n",
      "ur.0657530756.17\n"
     ]
    },
    {
     "name": "stderr",
     "output_type": "stream",
     "text": [
      "0-10 / 10 (1.16s)\u001b[0m\n",
      "===\n",
      "Records extracted: 10\u001b[0m\n",
      "Starting iteration with limit=1000 skip=0 ...\u001b[0m\n"
     ]
    },
    {
     "name": "stdout",
     "output_type": "stream",
     "text": [
      "ur.0657530756.17 id has 10 patents\n",
      "439. Keith McCrae\n",
      "ur.01002056472.36\n"
     ]
    },
    {
     "name": "stderr",
     "output_type": "stream",
     "text": [
      "0-51 / 51 (4.64s)\u001b[0m\n",
      "===\n",
      "Records extracted: 51\u001b[0m\n",
      "Starting iteration with limit=1000 skip=0 ...\u001b[0m\n"
     ]
    },
    {
     "name": "stdout",
     "output_type": "stream",
     "text": [
      "ur.01002056472.36 id has 51 patents\n",
      "440. Orson Moe\n",
      "ur.012165654677.03\n"
     ]
    },
    {
     "name": "stderr",
     "output_type": "stream",
     "text": [
      "0-2 / 2 (5.93s)\u001b[0m\n",
      "===\n",
      "Records extracted: 2\u001b[0m\n",
      "Starting iteration with limit=1000 skip=0 ...\u001b[0m\n"
     ]
    },
    {
     "name": "stdout",
     "output_type": "stream",
     "text": [
      "ur.012165654677.03 id has 2 patents\n",
      "441. Lloyd Cantley\n",
      "ur.01250743131.99\n"
     ]
    },
    {
     "name": "stderr",
     "output_type": "stream",
     "text": [
      "0-6 / 6 (6.02s)\u001b[0m\n",
      "===\n",
      "Records extracted: 6\u001b[0m\n",
      "Starting iteration with limit=1000 skip=0 ...\u001b[0m\n"
     ]
    },
    {
     "name": "stdout",
     "output_type": "stream",
     "text": [
      "ur.01250743131.99 id has 6 patents\n",
      "442. Fadi Lakkis\n",
      "ur.0624476515.28\n"
     ]
    },
    {
     "name": "stderr",
     "output_type": "stream",
     "text": [
      "0-91 / 91 (6.18s)\u001b[0m\n",
      "===\n",
      "Records extracted: 91\u001b[0m\n",
      "Starting iteration with limit=1000 skip=0 ...\u001b[0m\n"
     ]
    },
    {
     "name": "stdout",
     "output_type": "stream",
     "text": [
      "ur.0624476515.28 id has 91 patents\n",
      "443. William Bishai\n",
      "ur.01033041553.19\n"
     ]
    },
    {
     "name": "stderr",
     "output_type": "stream",
     "text": [
      "0-307 / 307 (6.75s)\u001b[0m\n",
      "===\n",
      "Records extracted: 307\u001b[0m\n",
      "Starting iteration with limit=1000 skip=0 ...\u001b[0m\n"
     ]
    },
    {
     "name": "stdout",
     "output_type": "stream",
     "text": [
      "ur.01033041553.19 id has 307 patents\n",
      "444. Peter Carmeliet\n",
      "ur.01027647073.78\n"
     ]
    },
    {
     "name": "stderr",
     "output_type": "stream",
     "text": [
      "0-21 / 21 (5.17s)\u001b[0m\n",
      "===\n",
      "Records extracted: 21\u001b[0m\n",
      "Starting iteration with limit=1000 skip=0 ...\u001b[0m\n"
     ]
    },
    {
     "name": "stdout",
     "output_type": "stream",
     "text": [
      "ur.01027647073.78 id has 21 patents\n",
      "445. Lewis Chodosh\n",
      "ur.01260410553.34\n"
     ]
    },
    {
     "name": "stderr",
     "output_type": "stream",
     "text": [
      "0-8 / 8 (1.30s)\u001b[0m\n",
      "===\n",
      "Records extracted: 8\u001b[0m\n",
      "Starting iteration with limit=1000 skip=0 ...\u001b[0m\n"
     ]
    },
    {
     "name": "stdout",
     "output_type": "stream",
     "text": [
      "ur.01260410553.34 id has 8 patents\n",
      "446. Marie Demay\n",
      "ur.01201503470.99\n"
     ]
    },
    {
     "name": "stderr",
     "output_type": "stream",
     "text": [
      "0-23 / 23 (3.21s)\u001b[0m\n",
      "===\n",
      "Records extracted: 23\u001b[0m\n",
      "Starting iteration with limit=1000 skip=0 ...\u001b[0m\n"
     ]
    },
    {
     "name": "stdout",
     "output_type": "stream",
     "text": [
      "ur.01201503470.99 id has 23 patents\n",
      "447. Jennifer Grandis\n",
      "ur.010106671017.42\n"
     ]
    },
    {
     "name": "stderr",
     "output_type": "stream",
     "text": [
      "0-11 / 11 (1.33s)\u001b[0m\n",
      "===\n",
      "Records extracted: 11\u001b[0m\n",
      "Starting iteration with limit=1000 skip=0 ...\u001b[0m\n"
     ]
    },
    {
     "name": "stdout",
     "output_type": "stream",
     "text": [
      "ur.010106671017.42 id has 11 patents\n",
      "448. Charles Lowenstein\n",
      "ur.0643475446.79\n"
     ]
    },
    {
     "name": "stderr",
     "output_type": "stream",
     "text": [
      "0-27 / 27 (1.36s)\u001b[0m\n",
      "===\n",
      "Records extracted: 27\u001b[0m\n",
      "Starting iteration with limit=1000 skip=0 ...\u001b[0m\n"
     ]
    },
    {
     "name": "stdout",
     "output_type": "stream",
     "text": [
      "ur.0643475446.79 id has 27 patents\n",
      "449. Anne Moscona\n",
      "ur.01116244651.73\n"
     ]
    },
    {
     "name": "stderr",
     "output_type": "stream",
     "text": [
      "0-15 / 15 (1.41s)\u001b[0m\n",
      "===\n",
      "Records extracted: 15\u001b[0m\n",
      "Starting iteration with limit=1000 skip=0 ...\u001b[0m\n"
     ]
    },
    {
     "name": "stdout",
     "output_type": "stream",
     "text": [
      "ur.01116244651.73 id has 15 patents\n",
      "450. Warren Pear\n",
      "ur.01156360632.48\n"
     ]
    },
    {
     "name": "stderr",
     "output_type": "stream",
     "text": [
      "0-18 / 18 (4.60s)\u001b[0m\n",
      "===\n",
      "Records extracted: 18\u001b[0m\n",
      "Starting iteration with limit=1000 skip=0 ...\u001b[0m\n"
     ]
    },
    {
     "name": "stdout",
     "output_type": "stream",
     "text": [
      "ur.01156360632.48 id has 18 patents\n",
      "451. David Pellman\n",
      "ur.01312427622.05\n"
     ]
    },
    {
     "name": "stderr",
     "output_type": "stream",
     "text": [
      "===\n",
      "Records extracted: 0\u001b[0m\n",
      "Starting iteration with limit=1000 skip=0 ...\u001b[0m\n"
     ]
    },
    {
     "name": "stdout",
     "output_type": "stream",
     "text": [
      "ur.01312427622.05 id has 0 patents\n",
      "452. Anthony Wynshaw-Boris\n",
      "ur.0614453416.31\n"
     ]
    },
    {
     "name": "stderr",
     "output_type": "stream",
     "text": [
      "===\n",
      "Records extracted: 0\u001b[0m\n",
      "Starting iteration with limit=1000 skip=0 ...\u001b[0m\n"
     ]
    },
    {
     "name": "stdout",
     "output_type": "stream",
     "text": [
      "ur.0614453416.31 id has 0 patents\n",
      "453. John Wysolmerski\n",
      "ur.01225126262.18\n"
     ]
    },
    {
     "name": "stderr",
     "output_type": "stream",
     "text": [
      "0-16 / 16 (1.70s)\u001b[0m\n",
      "===\n",
      "Records extracted: 16\u001b[0m\n",
      "Starting iteration with limit=1000 skip=0 ...\u001b[0m\n"
     ]
    },
    {
     "name": "stdout",
     "output_type": "stream",
     "text": [
      "ur.01225126262.18 id has 16 patents\n",
      "454. Christopher Karp\n",
      "ur.013303034437.60\n"
     ]
    },
    {
     "name": "stderr",
     "output_type": "stream",
     "text": [
      "0-220 / 220 (2.06s)\u001b[0m\n",
      "===\n",
      "Records extracted: 220\u001b[0m\n",
      "Starting iteration with limit=1000 skip=0 ...\u001b[0m\n"
     ]
    },
    {
     "name": "stdout",
     "output_type": "stream",
     "text": [
      "ur.013303034437.60 id has 220 patents\n",
      "455. Wadih Arap\n",
      "ur.0641515534.52\n"
     ]
    },
    {
     "name": "stderr",
     "output_type": "stream",
     "text": [
      "0-1 / 1 (5.34s)\u001b[0m\n",
      "===\n",
      "Records extracted: 1\u001b[0m\n",
      "Starting iteration with limit=1000 skip=0 ...\u001b[0m\n"
     ]
    },
    {
     "name": "stdout",
     "output_type": "stream",
     "text": [
      "ur.0641515534.52 id has 1 patents\n",
      "456. Serdar Bulun\n",
      "ur.01333157723.84\n"
     ]
    },
    {
     "name": "stderr",
     "output_type": "stream",
     "text": [
      "0-23 / 23 (1.20s)\u001b[0m\n",
      "===\n",
      "Records extracted: 23\u001b[0m\n",
      "Starting iteration with limit=1000 skip=0 ...\u001b[0m\n"
     ]
    },
    {
     "name": "stdout",
     "output_type": "stream",
     "text": [
      "ur.01333157723.84 id has 23 patents\n",
      "457. Bruce Conklin\n",
      "ur.01007601275.21\n"
     ]
    },
    {
     "name": "stderr",
     "output_type": "stream",
     "text": [
      "===\n",
      "Records extracted: 0\u001b[0m\n",
      "Starting iteration with limit=1000 skip=0 ...\u001b[0m\n"
     ]
    },
    {
     "name": "stdout",
     "output_type": "stream",
     "text": [
      "ur.01007601275.21 id has 0 patents\n",
      "458. Kenneth Freedberg\n",
      "ur.01125225044.68\n"
     ]
    },
    {
     "name": "stderr",
     "output_type": "stream",
     "text": [
      "===\n",
      "Records extracted: 0\u001b[0m\n",
      "Starting iteration with limit=1000 skip=0 ...\u001b[0m\n"
     ]
    },
    {
     "name": "stdout",
     "output_type": "stream",
     "text": [
      "ur.01125225044.68 id has 0 patents\n",
      "459. Joseph Heitman\n",
      "ur.012503557017.43\n"
     ]
    },
    {
     "name": "stderr",
     "output_type": "stream",
     "text": [
      "0-80 / 80 (3.66s)\u001b[0m\n",
      "===\n",
      "Records extracted: 80\u001b[0m\n",
      "Starting iteration with limit=1000 skip=0 ...\u001b[0m\n"
     ]
    },
    {
     "name": "stdout",
     "output_type": "stream",
     "text": [
      "ur.012503557017.43 id has 80 patents\n",
      "460. Larry Kwak\n",
      "ur.012561325357.16\n"
     ]
    },
    {
     "name": "stderr",
     "output_type": "stream",
     "text": [
      "0-13 / 13 (1.17s)\u001b[0m\n",
      "===\n",
      "Records extracted: 13\u001b[0m\n",
      "Starting iteration with limit=1000 skip=0 ...\u001b[0m\n"
     ]
    },
    {
     "name": "stdout",
     "output_type": "stream",
     "text": [
      "ur.012561325357.16 id has 13 patents\n",
      "461. Louis Luttrell\n",
      "ur.014754421537.43\n"
     ]
    },
    {
     "name": "stderr",
     "output_type": "stream",
     "text": [
      "0-11 / 11 (4.63s)\u001b[0m\n",
      "===\n",
      "Records extracted: 11\u001b[0m\n",
      "Starting iteration with limit=1000 skip=0 ...\u001b[0m\n"
     ]
    },
    {
     "name": "stdout",
     "output_type": "stream",
     "text": [
      "ur.014754421537.43 id has 11 patents\n",
      "462. Louis Muglia\n",
      "ur.01040233763.03\n"
     ]
    },
    {
     "name": "stderr",
     "output_type": "stream",
     "text": [
      "===\n",
      "Records extracted: 0\u001b[0m\n",
      "Starting iteration with limit=1000 skip=0 ...\u001b[0m\n"
     ]
    },
    {
     "name": "stdout",
     "output_type": "stream",
     "text": [
      "ur.01040233763.03 id has 0 patents\n",
      "463. Peter Mundel\n",
      "ur.01017443554.56\n"
     ]
    },
    {
     "name": "stderr",
     "output_type": "stream",
     "text": [
      "===\n",
      "Records extracted: 0\u001b[0m\n",
      "Starting iteration with limit=1000 skip=0 ...\u001b[0m\n"
     ]
    },
    {
     "name": "stdout",
     "output_type": "stream",
     "text": [
      "ur.01017443554.56 id has 0 patents\n",
      "464. Ellis Neufeld\n",
      "ur.012521445402.96\n"
     ]
    },
    {
     "name": "stderr",
     "output_type": "stream",
     "text": [
      "0-52 / 52 (1.30s)\u001b[0m\n",
      "===\n",
      "Records extracted: 52\u001b[0m\n",
      "Starting iteration with limit=1000 skip=0 ...\u001b[0m\n"
     ]
    },
    {
     "name": "stdout",
     "output_type": "stream",
     "text": [
      "ur.012521445402.96 id has 52 patents\n",
      "465. Douglas Nixon\n",
      "ur.0604100243.29\n"
     ]
    },
    {
     "name": "stderr",
     "output_type": "stream",
     "text": [
      "===\n",
      "Records extracted: 0\u001b[0m\n",
      "Starting iteration with limit=1000 skip=0 ...\u001b[0m\n"
     ]
    },
    {
     "name": "stdout",
     "output_type": "stream",
     "text": [
      "ur.0604100243.29 id has 0 patents\n",
      "466. Ariel Pablos-Mendez\n",
      "ur.0635763137.76\n"
     ]
    },
    {
     "name": "stderr",
     "output_type": "stream",
     "text": [
      "0-4 / 4 (6.34s)\u001b[0m\n",
      "===\n",
      "Records extracted: 4\u001b[0m\n",
      "Starting iteration with limit=1000 skip=0 ...\u001b[0m\n"
     ]
    },
    {
     "name": "stdout",
     "output_type": "stream",
     "text": [
      "ur.0635763137.76 id has 4 patents\n",
      "467. Richard Quigg\n",
      "ur.015014473357.17\n"
     ]
    },
    {
     "name": "stderr",
     "output_type": "stream",
     "text": [
      "0-35 / 35 (1.21s)\u001b[0m\n",
      "===\n",
      "Records extracted: 35\u001b[0m\n",
      "Starting iteration with limit=1000 skip=0 ...\u001b[0m\n"
     ]
    },
    {
     "name": "stdout",
     "output_type": "stream",
     "text": [
      "ur.015014473357.17 id has 35 patents\n",
      "468. Theodore Standiford\n",
      "ur.0715310154.73\n"
     ]
    },
    {
     "name": "stderr",
     "output_type": "stream",
     "text": [
      "0-92 / 92 (3.32s)\u001b[0m\n",
      "===\n",
      "Records extracted: 92\u001b[0m\n",
      "Starting iteration with limit=1000 skip=0 ...\u001b[0m\n"
     ]
    },
    {
     "name": "stdout",
     "output_type": "stream",
     "text": [
      "ur.0715310154.73 id has 92 patents\n",
      "469. Luc Teyton\n",
      "ur.01317345752.47\n"
     ]
    },
    {
     "name": "stderr",
     "output_type": "stream",
     "text": [
      "===\n",
      "Records extracted: 0\u001b[0m\n",
      "Starting iteration with limit=1000 skip=0 ...\u001b[0m\n"
     ]
    },
    {
     "name": "stdout",
     "output_type": "stream",
     "text": [
      "ur.01317345752.47 id has 0 patents\n",
      "470. Andrew Blauvelt\n",
      "ur.01114542411.82\n"
     ]
    },
    {
     "name": "stderr",
     "output_type": "stream",
     "text": [
      "===\n",
      "Records extracted: 0\u001b[0m\n",
      "Starting iteration with limit=1000 skip=0 ...\u001b[0m\n"
     ]
    },
    {
     "name": "stdout",
     "output_type": "stream",
     "text": [
      "ur.01114542411.82 id has 0 patents\n",
      "471. Fabio Candotti\n",
      "ur.015264075137.21\n"
     ]
    },
    {
     "name": "stderr",
     "output_type": "stream",
     "text": [
      "0-127 / 127 (1.94s)\u001b[0m\n",
      "===\n",
      "Records extracted: 127\u001b[0m\n",
      "Starting iteration with limit=1000 skip=0 ...\u001b[0m\n"
     ]
    },
    {
     "name": "stdout",
     "output_type": "stream",
     "text": [
      "ur.015264075137.21 id has 127 patents\n",
      "472. Preet Chaudhary\n",
      "ur.010600637157.24\n"
     ]
    },
    {
     "name": "stderr",
     "output_type": "stream",
     "text": [
      "0-20 / 20 (4.36s)\u001b[0m\n",
      "===\n",
      "Records extracted: 20\u001b[0m\n",
      "Starting iteration with limit=1000 skip=0 ...\u001b[0m\n"
     ]
    },
    {
     "name": "stdout",
     "output_type": "stream",
     "text": [
      "ur.010600637157.24 id has 20 patents\n",
      "473. Maripat Corr\n",
      "ur.01277365703.50\n"
     ]
    },
    {
     "name": "stderr",
     "output_type": "stream",
     "text": [
      "===\n",
      "Records extracted: 0\u001b[0m\n",
      "Starting iteration with limit=1000 skip=0 ...\u001b[0m\n"
     ]
    },
    {
     "name": "stdout",
     "output_type": "stream",
     "text": [
      "ur.01277365703.50 id has 0 patents\n",
      "474. Phyllis Dennery\n",
      "ur.01165771723.17\n"
     ]
    },
    {
     "name": "stderr",
     "output_type": "stream",
     "text": [
      "0-123 / 123 (1.60s)\u001b[0m\n",
      "===\n",
      "Records extracted: 123\u001b[0m\n",
      "Starting iteration with limit=1000 skip=0 ...\u001b[0m\n"
     ]
    },
    {
     "name": "stdout",
     "output_type": "stream",
     "text": [
      "ur.01165771723.17 id has 123 patents\n",
      "475. Mary Disis\n",
      "ur.01002076313.06\n"
     ]
    },
    {
     "name": "stderr",
     "output_type": "stream",
     "text": [
      "0-317 / 317 (5.20s)\u001b[0m\n",
      "===\n",
      "Records extracted: 317\u001b[0m\n",
      "Starting iteration with limit=1000 skip=0 ...\u001b[0m\n"
     ]
    },
    {
     "name": "stdout",
     "output_type": "stream",
     "text": [
      "ur.01002076313.06 id has 317 patents\n",
      "476. Glenn Dranoff\n",
      "ur.01211742755.37\n"
     ]
    },
    {
     "name": "stderr",
     "output_type": "stream",
     "text": [
      "===\n",
      "Records extracted: 0\u001b[0m\n",
      "Starting iteration with limit=1000 skip=0 ...\u001b[0m\n"
     ]
    },
    {
     "name": "stdout",
     "output_type": "stream",
     "text": [
      "ur.01211742755.37 id has 0 patents\n",
      "477. Samir El-Dahr\n",
      "ur.016616142042.21\n"
     ]
    },
    {
     "name": "stderr",
     "output_type": "stream",
     "text": [
      "===\n",
      "Records extracted: 0\u001b[0m\n",
      "Starting iteration with limit=1000 skip=0 ...\u001b[0m\n"
     ]
    },
    {
     "name": "stdout",
     "output_type": "stream",
     "text": [
      "ur.016616142042.21 id has 0 patents\n",
      "478. Paul Frenette\n",
      "ur.0764577653.99\n"
     ]
    },
    {
     "name": "stderr",
     "output_type": "stream",
     "text": [
      "0-22 / 22 (1.30s)\u001b[0m\n",
      "===\n",
      "Records extracted: 22\u001b[0m\n",
      "Starting iteration with limit=1000 skip=0 ...\u001b[0m\n"
     ]
    },
    {
     "name": "stdout",
     "output_type": "stream",
     "text": [
      "ur.0764577653.99 id has 22 patents\n",
      "479. I-Cheng Ho\n",
      "ur.01067422171.15\n"
     ]
    },
    {
     "name": "stderr",
     "output_type": "stream",
     "text": [
      "0-102 / 102 (1.56s)\u001b[0m\n",
      "===\n",
      "Records extracted: 102\u001b[0m\n",
      "Starting iteration with limit=1000 skip=0 ...\u001b[0m\n"
     ]
    },
    {
     "name": "stdout",
     "output_type": "stream",
     "text": [
      "ur.01067422171.15 id has 102 patents\n",
      "480. Clay Marsh\n",
      "ur.01146472616.47\n"
     ]
    },
    {
     "name": "stderr",
     "output_type": "stream",
     "text": [
      "0-30 / 30 (1.47s)\u001b[0m\n",
      "===\n",
      "Records extracted: 30\u001b[0m\n",
      "Starting iteration with limit=1000 skip=0 ...\u001b[0m\n"
     ]
    },
    {
     "name": "stdout",
     "output_type": "stream",
     "text": [
      "ur.01146472616.47 id has 30 patents\n",
      "481. Jorge Plutzky\n",
      "ur.01033070736.59\n"
     ]
    },
    {
     "name": "stderr",
     "output_type": "stream",
     "text": [
      "0-15 / 15 (1.22s)\u001b[0m\n",
      "===\n",
      "Records extracted: 15\u001b[0m\n",
      "Starting iteration with limit=1000 skip=0 ...\u001b[0m\n"
     ]
    },
    {
     "name": "stdout",
     "output_type": "stream",
     "text": [
      "ur.01033070736.59 id has 15 patents\n",
      "482. Theodora Ross\n",
      "ur.01115412332.53\n"
     ]
    },
    {
     "name": "stderr",
     "output_type": "stream",
     "text": [
      "0-6 / 6 (4.49s)\u001b[0m\n",
      "===\n",
      "Records extracted: 6\u001b[0m\n",
      "Starting iteration with limit=1000 skip=0 ...\u001b[0m\n"
     ]
    },
    {
     "name": "stdout",
     "output_type": "stream",
     "text": [
      "ur.01115412332.53 id has 6 patents\n",
      "483. Barry Sleckman\n",
      "ur.011122213674.07\n"
     ]
    },
    {
     "name": "stderr",
     "output_type": "stream",
     "text": [
      "0-34 / 34 (1.18s)\u001b[0m\n",
      "===\n",
      "Records extracted: 34\u001b[0m\n",
      "Starting iteration with limit=1000 skip=0 ...\u001b[0m\n"
     ]
    },
    {
     "name": "stdout",
     "output_type": "stream",
     "text": [
      "ur.011122213674.07 id has 34 patents\n",
      "484. Dwight Towler\n",
      "ur.0606520215.55\n"
     ]
    },
    {
     "name": "stderr",
     "output_type": "stream",
     "text": [
      "0-35 / 35 (1.36s)\u001b[0m\n",
      "===\n",
      "Records extracted: 35\u001b[0m\n",
      "Starting iteration with limit=1000 skip=0 ...\u001b[0m\n"
     ]
    },
    {
     "name": "stdout",
     "output_type": "stream",
     "text": [
      "ur.0606520215.55 id has 35 patents\n",
      "485. Flordeliza Villanueva\n",
      "ur.01317072404.15\n"
     ]
    },
    {
     "name": "stderr",
     "output_type": "stream",
     "text": [
      "0-2 / 2 (4.38s)\u001b[0m\n",
      "===\n",
      "Records extracted: 2\u001b[0m\n",
      "Starting iteration with limit=1000 skip=0 ...\u001b[0m\n"
     ]
    },
    {
     "name": "stdout",
     "output_type": "stream",
     "text": [
      "ur.01317072404.15 id has 2 patents\n",
      "486. Rexford Ahima\n",
      "ur.0644163123.96\n"
     ]
    },
    {
     "name": "stderr",
     "output_type": "stream",
     "text": [
      "0-206 / 206 (1.56s)\u001b[0m\n",
      "===\n",
      "Records extracted: 206\u001b[0m\n",
      "Starting iteration with limit=1000 skip=0 ...\u001b[0m\n"
     ]
    },
    {
     "name": "stdout",
     "output_type": "stream",
     "text": [
      "ur.0644163123.96 id has 206 patents\n",
      "487. Crystal Mackall\n",
      "ur.0703105717.40\n"
     ]
    },
    {
     "name": "stderr",
     "output_type": "stream",
     "text": [
      "===\n",
      "Records extracted: 0\u001b[0m\n",
      "Starting iteration with limit=1000 skip=0 ...\u001b[0m\n"
     ]
    },
    {
     "name": "stdout",
     "output_type": "stream",
     "text": [
      "ur.0703105717.40 id has 0 patents\n",
      "488. Carol Mangione\n",
      "ur.0744431504.68\n"
     ]
    },
    {
     "name": "stderr",
     "output_type": "stream",
     "text": [
      "0-42 / 42 (4.84s)\u001b[0m\n",
      "===\n",
      "Records extracted: 42\u001b[0m\n",
      "Starting iteration with limit=1000 skip=0 ...\u001b[0m\n"
     ]
    },
    {
     "name": "stdout",
     "output_type": "stream",
     "text": [
      "ur.0744431504.68 id has 42 patents\n",
      "489. Rhoda Alani\n",
      "ur.01063677263.55\n"
     ]
    },
    {
     "name": "stderr",
     "output_type": "stream",
     "text": [
      "0-22 / 22 (6.07s)\u001b[0m\n",
      "===\n",
      "Records extracted: 22\u001b[0m\n",
      "Starting iteration with limit=1000 skip=0 ...\u001b[0m\n"
     ]
    },
    {
     "name": "stdout",
     "output_type": "stream",
     "text": [
      "ur.01063677263.55 id has 22 patents\n",
      "490. José Baselga\n",
      "ur.01313356712.60\n"
     ]
    },
    {
     "name": "stderr",
     "output_type": "stream",
     "text": [
      "0-1 / 1 (1.07s)\u001b[0m\n",
      "===\n",
      "Records extracted: 1\u001b[0m\n",
      "Starting iteration with limit=1000 skip=0 ...\u001b[0m\n"
     ]
    },
    {
     "name": "stdout",
     "output_type": "stream",
     "text": [
      "ur.01313356712.60 id has 1 patents\n",
      "491. Tamara Doering\n",
      "ur.0707347445.42\n"
     ]
    },
    {
     "name": "stderr",
     "output_type": "stream",
     "text": [
      "0-4 / 4 (4.53s)\u001b[0m\n",
      "===\n",
      "Records extracted: 4\u001b[0m\n",
      "Starting iteration with limit=1000 skip=0 ...\u001b[0m\n"
     ]
    },
    {
     "name": "stdout",
     "output_type": "stream",
     "text": [
      "ur.0707347445.42 id has 4 patents\n",
      "492. Daniel Eitzman\n",
      "ur.01244765354.89\n"
     ]
    },
    {
     "name": "stderr",
     "output_type": "stream",
     "text": [
      "0-11 / 11 (1.14s)\u001b[0m\n",
      "===\n",
      "Records extracted: 11\u001b[0m\n",
      "Starting iteration with limit=1000 skip=0 ...\u001b[0m\n"
     ]
    },
    {
     "name": "stdout",
     "output_type": "stream",
     "text": [
      "ur.01244765354.89 id has 11 patents\n",
      "493. Elizabeth Henske\n",
      "ur.01210642425.39\n"
     ]
    },
    {
     "name": "stderr",
     "output_type": "stream",
     "text": [
      "0-6 / 6 (1.00s)\u001b[0m\n",
      "===\n",
      "Records extracted: 6\u001b[0m\n",
      "Starting iteration with limit=1000 skip=0 ...\u001b[0m\n"
     ]
    },
    {
     "name": "stdout",
     "output_type": "stream",
     "text": [
      "ur.01210642425.39 id has 6 patents\n",
      "494. Alp Ikizler\n",
      "ur.01350411276.47\n"
     ]
    },
    {
     "name": "stderr",
     "output_type": "stream",
     "text": [
      "0-56 / 56 (1.21s)\u001b[0m\n",
      "===\n",
      "Records extracted: 56\u001b[0m\n",
      "Starting iteration with limit=1000 skip=0 ...\u001b[0m\n"
     ]
    },
    {
     "name": "stdout",
     "output_type": "stream",
     "text": [
      "ur.01350411276.47 id has 56 patents\n",
      "495. Hans-Peter Kiem\n",
      "ur.01205600534.26\n"
     ]
    },
    {
     "name": "stderr",
     "output_type": "stream",
     "text": [
      "0-4 / 4 (4.39s)\u001b[0m\n",
      "===\n",
      "Records extracted: 4\u001b[0m\n",
      "Starting iteration with limit=1000 skip=0 ...\u001b[0m\n"
     ]
    },
    {
     "name": "stdout",
     "output_type": "stream",
     "text": [
      "ur.01205600534.26 id has 4 patents\n",
      "496. Sharon Moe\n",
      "ur.01203460064.68\n"
     ]
    },
    {
     "name": "stderr",
     "output_type": "stream",
     "text": [
      "0-3 / 3 (1.01s)\u001b[0m\n",
      "===\n",
      "Records extracted: 3\u001b[0m\n",
      "Starting iteration with limit=1000 skip=0 ...\u001b[0m\n"
     ]
    },
    {
     "name": "stdout",
     "output_type": "stream",
     "text": [
      "ur.01203460064.68 id has 3 patents\n",
      "497. Kelle Moley\n",
      "ur.01366200252.53\n"
     ]
    },
    {
     "name": "stderr",
     "output_type": "stream",
     "text": [
      "0-8 / 8 (4.70s)\u001b[0m\n",
      "===\n",
      "Records extracted: 8\u001b[0m\n",
      "Starting iteration with limit=1000 skip=0 ...\u001b[0m\n"
     ]
    },
    {
     "name": "stdout",
     "output_type": "stream",
     "text": [
      "ur.01366200252.53 id has 8 patents\n",
      "498. Alessandra Pernis\n",
      "ur.013271155377.15\n"
     ]
    },
    {
     "name": "stderr",
     "output_type": "stream",
     "text": [
      "0-52 / 52 (1.44s)\u001b[0m\n",
      "===\n",
      "Records extracted: 52\u001b[0m\n",
      "Starting iteration with limit=1000 skip=0 ...\u001b[0m\n"
     ]
    },
    {
     "name": "stdout",
     "output_type": "stream",
     "text": [
      "ur.013271155377.15 id has 52 patents\n",
      "499. Kenneth Pienta\n",
      "ur.01110701370.06\n"
     ]
    },
    {
     "name": "stderr",
     "output_type": "stream",
     "text": [
      "0-22 / 22 (1.13s)\u001b[0m\n",
      "===\n",
      "Records extracted: 22\u001b[0m\n",
      "Starting iteration with limit=1000 skip=0 ...\u001b[0m\n"
     ]
    },
    {
     "name": "stdout",
     "output_type": "stream",
     "text": [
      "ur.01110701370.06 id has 22 patents\n",
      "500. Ernestina Schipani\n",
      "ur.0666246216.28\n"
     ]
    },
    {
     "name": "stderr",
     "output_type": "stream",
     "text": [
      "0-1 / 1 (1.77s)\u001b[0m\n",
      "===\n",
      "Records extracted: 1\u001b[0m\n",
      "Starting iteration with limit=1000 skip=0 ...\u001b[0m\n"
     ]
    },
    {
     "name": "stdout",
     "output_type": "stream",
     "text": [
      "ur.0666246216.28 id has 1 patents\n",
      "501. Ramesh Shivdasani\n",
      "ur.01236772504.97\n"
     ]
    },
    {
     "name": "stderr",
     "output_type": "stream",
     "text": [
      "===\n",
      "Records extracted: 0\u001b[0m\n",
      "Starting iteration with limit=1000 skip=0 ...\u001b[0m\n"
     ]
    },
    {
     "name": "stdout",
     "output_type": "stream",
     "text": [
      "ur.01236772504.97 id has 0 patents\n",
      "502. Andrea Todisco\n",
      "ur.01355745464.73\n"
     ]
    },
    {
     "name": "stderr",
     "output_type": "stream",
     "text": [
      "0-118 / 118 (6.36s)\u001b[0m\n",
      "===\n",
      "Records extracted: 118\u001b[0m\n",
      "Starting iteration with limit=1000 skip=0 ...\u001b[0m\n"
     ]
    },
    {
     "name": "stdout",
     "output_type": "stream",
     "text": [
      "ur.01355745464.73 id has 118 patents\n",
      "503. Pier Pandolfi\n",
      "ur.01065272160.75\n"
     ]
    },
    {
     "name": "stderr",
     "output_type": "stream",
     "text": [
      "0-19 / 19 (1.30s)\u001b[0m\n",
      "===\n",
      "Records extracted: 19\u001b[0m\n",
      "Starting iteration with limit=1000 skip=0 ...\u001b[0m\n"
     ]
    },
    {
     "name": "stdout",
     "output_type": "stream",
     "text": [
      "ur.01065272160.75 id has 19 patents\n",
      "504. Susan Quaggin\n",
      "ur.0715343137.38\n"
     ]
    },
    {
     "name": "stderr",
     "output_type": "stream",
     "text": [
      "0-21 / 21 (4.54s)\u001b[0m\n",
      "===\n",
      "Records extracted: 21\u001b[0m\n",
      "Starting iteration with limit=1000 skip=0 ...\u001b[0m\n"
     ]
    },
    {
     "name": "stdout",
     "output_type": "stream",
     "text": [
      "ur.0715343137.38 id has 21 patents\n",
      "505. Joseph Zabner\n",
      "ur.01307216424.37\n"
     ]
    },
    {
     "name": "stderr",
     "output_type": "stream",
     "text": [
      "0-15 / 15 (5.93s)\u001b[0m\n",
      "===\n",
      "Records extracted: 15\u001b[0m\n",
      "Starting iteration with limit=1000 skip=0 ...\u001b[0m\n"
     ]
    },
    {
     "name": "stdout",
     "output_type": "stream",
     "text": [
      "ur.01307216424.37 id has 15 patents\n",
      "506. George Gittes\n",
      "ur.01352644654.67\n"
     ]
    },
    {
     "name": "stderr",
     "output_type": "stream",
     "text": [
      "0-43 / 43 (6.01s)\u001b[0m\n",
      "===\n",
      "Records extracted: 43\u001b[0m\n",
      "Starting iteration with limit=1000 skip=0 ...\u001b[0m\n"
     ]
    },
    {
     "name": "stdout",
     "output_type": "stream",
     "text": [
      "ur.01352644654.67 id has 43 patents\n",
      "507. Julie Saba\n",
      "ur.014245472677.03\n"
     ]
    },
    {
     "name": "stderr",
     "output_type": "stream",
     "text": [
      "0-1 / 1 (1.25s)\u001b[0m\n",
      "===\n",
      "Records extracted: 1\u001b[0m\n",
      "Starting iteration with limit=1000 skip=0 ...\u001b[0m\n"
     ]
    },
    {
     "name": "stdout",
     "output_type": "stream",
     "text": [
      "ur.014245472677.03 id has 1 patents\n",
      "508. Shanthi Sitaraman\n",
      "ur.01212501203.03\n"
     ]
    },
    {
     "name": "stderr",
     "output_type": "stream",
     "text": [
      "0-1 / 1 (1.26s)\u001b[0m\n",
      "===\n",
      "Records extracted: 1\u001b[0m\n",
      "Starting iteration with limit=1000 skip=0 ...\u001b[0m\n"
     ]
    },
    {
     "name": "stdout",
     "output_type": "stream",
     "text": [
      "ur.01212501203.03 id has 1 patents\n",
      "509. John Spertus\n",
      "ur.01342205752.62\n"
     ]
    },
    {
     "name": "stderr",
     "output_type": "stream",
     "text": [
      "0-241 / 241 (1.83s)\u001b[0m\n",
      "===\n",
      "Records extracted: 241\u001b[0m\n",
      "Starting iteration with limit=1000 skip=0 ...\u001b[0m\n"
     ]
    },
    {
     "name": "stdout",
     "output_type": "stream",
     "text": [
      "ur.01342205752.62 id has 241 patents\n",
      "510. Kai Wucherpfennig\n",
      "ur.0733426416.91\n"
     ]
    },
    {
     "name": "stderr",
     "output_type": "stream",
     "text": [
      "0-139 / 139 (1.81s)\u001b[0m\n",
      "===\n",
      "Records extracted: 139\u001b[0m\n",
      "Starting iteration with limit=1000 skip=0 ...\u001b[0m\n"
     ]
    },
    {
     "name": "stdout",
     "output_type": "stream",
     "text": [
      "ur.0733426416.91 id has 139 patents\n",
      "511. Jayakrishna Ambati\n",
      "ur.0665451323.77\n"
     ]
    },
    {
     "name": "stderr",
     "output_type": "stream",
     "text": [
      "0-122 / 122 (2.89s)\u001b[0m\n",
      "===\n",
      "Records extracted: 122\u001b[0m\n",
      "Starting iteration with limit=1000 skip=0 ...\u001b[0m\n"
     ]
    },
    {
     "name": "stdout",
     "output_type": "stream",
     "text": [
      "ur.0665451323.77 id has 122 patents\n",
      "512. George Cotsarelis\n",
      "ur.015415235177.37\n"
     ]
    },
    {
     "name": "stderr",
     "output_type": "stream",
     "text": [
      "===\n",
      "Records extracted: 0\u001b[0m\n",
      "Starting iteration with limit=1000 skip=0 ...\u001b[0m\n"
     ]
    },
    {
     "name": "stdout",
     "output_type": "stream",
     "text": [
      "ur.015415235177.37 id has 0 patents\n",
      "513. Kenneth Covinsky\n",
      "ur.01112672004.80\n"
     ]
    },
    {
     "name": "stderr",
     "output_type": "stream",
     "text": [
      "0-2 / 2 (5.94s)\u001b[0m\n",
      "===\n",
      "Records extracted: 2\u001b[0m\n",
      "Starting iteration with limit=1000 skip=0 ...\u001b[0m\n"
     ]
    },
    {
     "name": "stdout",
     "output_type": "stream",
     "text": [
      "ur.01112672004.80 id has 2 patents\n",
      "514. David Engman\n",
      "ur.01153672301.91\n"
     ]
    },
    {
     "name": "stderr",
     "output_type": "stream",
     "text": [
      "0-155 / 155 (6.61s)\u001b[0m\n",
      "===\n",
      "Records extracted: 155\u001b[0m\n",
      "Starting iteration with limit=1000 skip=0 ...\u001b[0m\n"
     ]
    },
    {
     "name": "stdout",
     "output_type": "stream",
     "text": [
      "ur.01153672301.91 id has 155 patents\n",
      "515. John Frangioni\n",
      "ur.014505252207.17\n"
     ]
    },
    {
     "name": "stderr",
     "output_type": "stream",
     "text": [
      "0-20 / 20 (1.27s)\u001b[0m\n",
      "===\n",
      "Records extracted: 20\u001b[0m\n",
      "Starting iteration with limit=1000 skip=0 ...\u001b[0m\n"
     ]
    },
    {
     "name": "stdout",
     "output_type": "stream",
     "text": [
      "ur.014505252207.17 id has 20 patents\n",
      "516. Tejvir Khurana\n",
      "ur.01057764272.14\n"
     ]
    },
    {
     "name": "stderr",
     "output_type": "stream",
     "text": [
      "===\n",
      "Records extracted: 0\u001b[0m\n",
      "Starting iteration with limit=1000 skip=0 ...\u001b[0m\n"
     ]
    },
    {
     "name": "stdout",
     "output_type": "stream",
     "text": [
      "ur.01057764272.14 id has 0 patents\n",
      "517. Fadlo Khuri\n",
      "ur.014006214657.80\n"
     ]
    },
    {
     "name": "stderr",
     "output_type": "stream",
     "text": [
      "0-27 / 27 (4.42s)\u001b[0m\n",
      "===\n",
      "Records extracted: 27\u001b[0m\n",
      "Starting iteration with limit=1000 skip=0 ...\u001b[0m\n"
     ]
    },
    {
     "name": "stdout",
     "output_type": "stream",
     "text": [
      "ur.014006214657.80 id has 27 patents\n",
      "518. Christos Mantzoros\n",
      "ur.0605173564.47\n"
     ]
    },
    {
     "name": "stderr",
     "output_type": "stream",
     "text": [
      "0-47 / 47 (1.45s)\u001b[0m\n",
      "===\n",
      "Records extracted: 47\u001b[0m\n",
      "Starting iteration with limit=1000 skip=0 ...\u001b[0m\n"
     ]
    },
    {
     "name": "stdout",
     "output_type": "stream",
     "text": [
      "ur.0605173564.47 id has 47 patents\n",
      "519. Scott Plevy\n",
      "ur.01121735072.06\n"
     ]
    },
    {
     "name": "stderr",
     "output_type": "stream",
     "text": [
      "0-7 / 7 (4.41s)\u001b[0m\n",
      "===\n",
      "Records extracted: 7\u001b[0m\n",
      "Starting iteration with limit=1000 skip=0 ...\u001b[0m\n"
     ]
    },
    {
     "name": "stdout",
     "output_type": "stream",
     "text": [
      "ur.01121735072.06 id has 7 patents\n",
      "520. Chaim Putterman\n",
      "ur.01205103105.56\n"
     ]
    },
    {
     "name": "stderr",
     "output_type": "stream",
     "text": [
      "0-39 / 39 (5.90s)\u001b[0m\n",
      "===\n",
      "Records extracted: 39\u001b[0m\n",
      "Starting iteration with limit=1000 skip=0 ...\u001b[0m\n"
     ]
    },
    {
     "name": "stdout",
     "output_type": "stream",
     "text": [
      "ur.01205103105.56 id has 39 patents\n",
      "521. Doris Stoffers\n",
      "ur.01235116353.64\n"
     ]
    },
    {
     "name": "stderr",
     "output_type": "stream",
     "text": [
      "0-18 / 18 (1.33s)\u001b[0m\n",
      "===\n",
      "Records extracted: 18\u001b[0m\n",
      "Starting iteration with limit=1000 skip=0 ...\u001b[0m\n"
     ]
    },
    {
     "name": "stdout",
     "output_type": "stream",
     "text": [
      "ur.01235116353.64 id has 18 patents\n",
      "522. Marcus Altfeld\n",
      "ur.0730304123.13\n"
     ]
    },
    {
     "name": "stderr",
     "output_type": "stream",
     "text": [
      "0-2 / 2 (1.19s)\u001b[0m\n",
      "===\n",
      "Records extracted: 2\u001b[0m\n",
      "Starting iteration with limit=1000 skip=0 ...\u001b[0m\n"
     ]
    },
    {
     "name": "stdout",
     "output_type": "stream",
     "text": [
      "ur.0730304123.13 id has 2 patents\n",
      "523. Frank Anania\n",
      "ur.0754271650.99\n"
     ]
    },
    {
     "name": "stderr",
     "output_type": "stream",
     "text": [
      "0-3 / 3 (1.87s)\u001b[0m\n",
      "===\n",
      "Records extracted: 3\u001b[0m\n",
      "Starting iteration with limit=1000 skip=0 ...\u001b[0m\n"
     ]
    },
    {
     "name": "stdout",
     "output_type": "stream",
     "text": [
      "ur.0754271650.99 id has 3 patents\n",
      "524. Gerard Blobe\n",
      "ur.01025737641.97\n"
     ]
    },
    {
     "name": "stderr",
     "output_type": "stream",
     "text": [
      "0-50 / 50 (4.63s)\u001b[0m\n",
      "===\n",
      "Records extracted: 50\u001b[0m\n",
      "Starting iteration with limit=1000 skip=0 ...\u001b[0m\n"
     ]
    },
    {
     "name": "stdout",
     "output_type": "stream",
     "text": [
      "ur.01025737641.97 id has 50 patents\n",
      "525. Ivan Fuss\n",
      "ur.0616337446.39\n"
     ]
    },
    {
     "name": "stderr",
     "output_type": "stream",
     "text": [
      "0-245 / 245 (1.88s)\u001b[0m\n",
      "===\n",
      "Records extracted: 245\u001b[0m\n",
      "Starting iteration with limit=1000 skip=0 ...\u001b[0m\n"
     ]
    },
    {
     "name": "stdout",
     "output_type": "stream",
     "text": [
      "ur.0616337446.39 id has 245 patents\n",
      "526. Sanjiv Gambhir\n",
      "ur.01266174106.03\n"
     ]
    },
    {
     "name": "stderr",
     "output_type": "stream",
     "text": [
      "0-4 / 4 (1.11s)\u001b[0m\n",
      "===\n",
      "Records extracted: 4\u001b[0m\n",
      "Starting iteration with limit=1000 skip=0 ...\u001b[0m\n"
     ]
    },
    {
     "name": "stdout",
     "output_type": "stream",
     "text": [
      "ur.01266174106.03 id has 4 patents\n",
      "527. Steve Georas\n",
      "ur.01143314231.31\n"
     ]
    },
    {
     "name": "stderr",
     "output_type": "stream",
     "text": [
      "0-97 / 97 (1.52s)\u001b[0m\n",
      "===\n",
      "Records extracted: 97\u001b[0m\n",
      "Starting iteration with limit=1000 skip=0 ...\u001b[0m\n"
     ]
    },
    {
     "name": "stdout",
     "output_type": "stream",
     "text": [
      "ur.01143314231.31 id has 97 patents\n",
      "528. Michael Girardi\n",
      "ur.01152644406.14\n"
     ]
    },
    {
     "name": "stderr",
     "output_type": "stream",
     "text": [
      "0-175 / 175 (1.77s)\u001b[0m\n",
      "===\n",
      "Records extracted: 175\u001b[0m\n",
      "Starting iteration with limit=1000 skip=0 ...\u001b[0m\n"
     ]
    },
    {
     "name": "stdout",
     "output_type": "stream",
     "text": [
      "ur.01152644406.14 id has 175 patents\n",
      "529. Todd Golub\n",
      "ur.01365052013.37\n"
     ]
    },
    {
     "name": "stderr",
     "output_type": "stream",
     "text": [
      "0-27 / 27 (4.05s)\u001b[0m\n",
      "===\n",
      "Records extracted: 27\u001b[0m\n",
      "Starting iteration with limit=1000 skip=0 ...\u001b[0m\n"
     ]
    },
    {
     "name": "stdout",
     "output_type": "stream",
     "text": [
      "ur.01365052013.37 id has 27 patents\n",
      "530. Robert Heuckeroth\n",
      "ur.0767133752.11\n"
     ]
    },
    {
     "name": "stderr",
     "output_type": "stream",
     "text": [
      "0-280 / 280 (1.77s)\u001b[0m\n",
      "===\n",
      "Records extracted: 280\u001b[0m\n",
      "Starting iteration with limit=1000 skip=0 ...\u001b[0m\n"
     ]
    },
    {
     "name": "stdout",
     "output_type": "stream",
     "text": [
      "ur.0767133752.11 id has 280 patents\n",
      "531. Pasi Janne\n",
      "ur.01342420117.42\n"
     ]
    },
    {
     "name": "stderr",
     "output_type": "stream",
     "text": [
      "0-2 / 2 (1.20s)\u001b[0m\n",
      "===\n",
      "Records extracted: 2\u001b[0m\n",
      "Starting iteration with limit=1000 skip=0 ...\u001b[0m\n"
     ]
    },
    {
     "name": "stdout",
     "output_type": "stream",
     "text": [
      "ur.01342420117.42 id has 2 patents\n",
      "532. Igor Koralnik\n",
      "ur.01372633162.92\n"
     ]
    },
    {
     "name": "stderr",
     "output_type": "stream",
     "text": [
      "===\n",
      "Records extracted: 0\u001b[0m\n",
      "Starting iteration with limit=1000 skip=0 ...\u001b[0m\n"
     ]
    },
    {
     "name": "stdout",
     "output_type": "stream",
     "text": [
      "ur.01372633162.92 id has 0 patents\n",
      "533. Barry Paw\n",
      "ur.0633511062.24\n"
     ]
    },
    {
     "name": "stderr",
     "output_type": "stream",
     "text": [
      "0-18 / 18 (4.66s)\u001b[0m\n",
      "===\n",
      "Records extracted: 18\u001b[0m\n",
      "Starting iteration with limit=1000 skip=0 ...\u001b[0m\n"
     ]
    },
    {
     "name": "stdout",
     "output_type": "stream",
     "text": [
      "ur.0633511062.24 id has 18 patents\n",
      "534. Warren Shlomchik\n",
      "ur.01244336023.55\n"
     ]
    },
    {
     "name": "stderr",
     "output_type": "stream",
     "text": [
      "0-1 / 1 (1.33s)\u001b[0m\n",
      "===\n",
      "Records extracted: 1\u001b[0m\n",
      "Starting iteration with limit=1000 skip=0 ...\u001b[0m\n"
     ]
    },
    {
     "name": "stdout",
     "output_type": "stream",
     "text": [
      "ur.01244336023.55 id has 1 patents\n",
      "535. Chloe Thio\n",
      "ur.01121642400.62\n"
     ]
    },
    {
     "name": "stderr",
     "output_type": "stream",
     "text": [
      "===\n",
      "Records extracted: 0\u001b[0m\n",
      "Starting iteration with limit=1000 skip=0 ...\u001b[0m\n"
     ]
    },
    {
     "name": "stdout",
     "output_type": "stream",
     "text": [
      "ur.01121642400.62 id has 0 patents\n",
      "536. Kevin Volpp\n",
      "ur.0644324362.10\n"
     ]
    },
    {
     "name": "stderr",
     "output_type": "stream",
     "text": [
      "0-336 / 336 (2.34s)\u001b[0m\n",
      "===\n",
      "Records extracted: 336\u001b[0m\n",
      "Starting iteration with limit=1000 skip=0 ...\u001b[0m\n"
     ]
    },
    {
     "name": "stdout",
     "output_type": "stream",
     "text": [
      "ur.0644324362.10 id has 336 patents\n",
      "537. Dan Barouch\n",
      "ur.016365175357.79\n"
     ]
    },
    {
     "name": "stderr",
     "output_type": "stream",
     "text": [
      "0-51 / 51 (4.05s)\u001b[0m\n",
      "===\n",
      "Records extracted: 51\u001b[0m\n",
      "Starting iteration with limit=1000 skip=0 ...\u001b[0m\n"
     ]
    },
    {
     "name": "stdout",
     "output_type": "stream",
     "text": [
      "ur.016365175357.79 id has 51 patents\n",
      "538. David Hackam\n",
      "ur.0637647532.17\n"
     ]
    },
    {
     "name": "stderr",
     "output_type": "stream",
     "text": [
      "===\n",
      "Records extracted: 0\u001b[0m\n",
      "Starting iteration with limit=1000 skip=0 ...\u001b[0m\n"
     ]
    },
    {
     "name": "stdout",
     "output_type": "stream",
     "text": [
      "ur.0637647532.17 id has 0 patents\n",
      "539. Rulan Parekh\n",
      "ur.01365700023.08\n"
     ]
    },
    {
     "name": "stderr",
     "output_type": "stream",
     "text": [
      "0-10 / 10 (1.28s)\u001b[0m\n",
      "===\n",
      "Records extracted: 10\u001b[0m\n",
      "Starting iteration with limit=1000 skip=0 ...\u001b[0m\n"
     ]
    },
    {
     "name": "stdout",
     "output_type": "stream",
     "text": [
      "ur.01365700023.08 id has 10 patents\n",
      "540. Murat Arcasoy\n",
      "ur.01035106403.91\n"
     ]
    },
    {
     "name": "stderr",
     "output_type": "stream",
     "text": [
      "0-82 / 82 (4.75s)\u001b[0m\n",
      "===\n",
      "Records extracted: 82\u001b[0m\n",
      "Starting iteration with limit=1000 skip=0 ...\u001b[0m\n"
     ]
    },
    {
     "name": "stdout",
     "output_type": "stream",
     "text": [
      "ur.01035106403.91 id has 82 patents\n",
      "541. Valder Arruda\n",
      "ur.01031472200.54\n"
     ]
    },
    {
     "name": "stderr",
     "output_type": "stream",
     "text": [
      "0-9 / 9 (1.31s)\u001b[0m\n",
      "===\n",
      "Records extracted: 9\u001b[0m\n",
      "Starting iteration with limit=1000 skip=0 ...\u001b[0m\n"
     ]
    },
    {
     "name": "stdout",
     "output_type": "stream",
     "text": [
      "ur.01031472200.54 id has 9 patents\n",
      "542. Phillip Febbo\n",
      "ur.01145642531.34\n"
     ]
    },
    {
     "name": "stderr",
     "output_type": "stream",
     "text": [
      "===\n",
      "Records extracted: 0\u001b[0m\n",
      "Starting iteration with limit=1000 skip=0 ...\u001b[0m\n"
     ]
    },
    {
     "name": "stdout",
     "output_type": "stream",
     "text": [
      "ur.01145642531.34 id has 0 patents\n",
      "543. Tina Hartert\n",
      "ur.014652421020.78\n"
     ]
    },
    {
     "name": "stderr",
     "output_type": "stream",
     "text": [
      "0-6 / 6 (6.01s)\u001b[0m\n",
      "===\n",
      "Records extracted: 6\u001b[0m\n",
      "Starting iteration with limit=1000 skip=0 ...\u001b[0m\n"
     ]
    },
    {
     "name": "stdout",
     "output_type": "stream",
     "text": [
      "ur.014652421020.78 id has 6 patents\n",
      "544. JeanMarie Houghton\n",
      "ur.01240104744.46\n"
     ]
    },
    {
     "name": "stderr",
     "output_type": "stream",
     "text": [
      "0-138 / 138 (6.41s)\u001b[0m\n",
      "===\n",
      "Records extracted: 138\u001b[0m\n",
      "Starting iteration with limit=1000 skip=0 ...\u001b[0m\n"
     ]
    },
    {
     "name": "stdout",
     "output_type": "stream",
     "text": [
      "ur.01240104744.46 id has 138 patents\n",
      "545. Samir Khleif\n",
      "ur.0763046066.09\n"
     ]
    },
    {
     "name": "stderr",
     "output_type": "stream",
     "text": [
      "0-61 / 61 (1.40s)\u001b[0m\n",
      "===\n",
      "Records extracted: 61\u001b[0m\n",
      "Starting iteration with limit=1000 skip=0 ...\u001b[0m\n"
     ]
    },
    {
     "name": "stdout",
     "output_type": "stream",
     "text": [
      "ur.0763046066.09 id has 61 patents\n",
      "546. Keith March\n",
      "ur.01364576130.10\n"
     ]
    },
    {
     "name": "stderr",
     "output_type": "stream",
     "text": [
      "0-47 / 47 (4.54s)\u001b[0m\n",
      "===\n",
      "Records extracted: 47\u001b[0m\n",
      "Starting iteration with limit=1000 skip=0 ...\u001b[0m\n"
     ]
    },
    {
     "name": "stdout",
     "output_type": "stream",
     "text": [
      "ur.01364576130.10 id has 47 patents\n",
      "547. Ari Melnick\n",
      "ur.01022252731.58\n"
     ]
    },
    {
     "name": "stderr",
     "output_type": "stream",
     "text": [
      "0-59 / 59 (1.60s)\u001b[0m\n",
      "===\n",
      "Records extracted: 59\u001b[0m\n",
      "Starting iteration with limit=1000 skip=0 ...\u001b[0m\n"
     ]
    },
    {
     "name": "stdout",
     "output_type": "stream",
     "text": [
      "ur.01022252731.58 id has 59 patents\n",
      "548. Vamsi Mootha\n",
      "ur.01236117732.88\n"
     ]
    },
    {
     "name": "stderr",
     "output_type": "stream",
     "text": [
      "===\n",
      "Records extracted: 0\u001b[0m\n",
      "Starting iteration with limit=1000 skip=0 ...\u001b[0m\n"
     ]
    },
    {
     "name": "stdout",
     "output_type": "stream",
     "text": [
      "ur.01236117732.88 id has 0 patents\n",
      "549. Mary Patti\n",
      "ur.01026162025.21\n"
     ]
    },
    {
     "name": "stderr",
     "output_type": "stream",
     "text": [
      "0-12 / 12 (1.11s)\u001b[0m\n",
      "===\n",
      "Records extracted: 12\u001b[0m\n",
      "Starting iteration with limit=1000 skip=0 ...\u001b[0m\n"
     ]
    },
    {
     "name": "stdout",
     "output_type": "stream",
     "text": [
      "ur.01026162025.21 id has 12 patents\n",
      "550. Stephanie Seminara\n",
      "ur.01107035267.40\n"
     ]
    },
    {
     "name": "stderr",
     "output_type": "stream",
     "text": [
      "0-40 / 40 (1.34s)\u001b[0m\n",
      "===\n",
      "Records extracted: 40\u001b[0m\n",
      "Starting iteration with limit=1000 skip=0 ...\u001b[0m\n"
     ]
    },
    {
     "name": "stdout",
     "output_type": "stream",
     "text": [
      "ur.01107035267.40 id has 40 patents\n",
      "551. John Stamatoyannopoulos\n",
      "ur.01351357352.20\n"
     ]
    },
    {
     "name": "stderr",
     "output_type": "stream",
     "text": [
      "===\n",
      "Records extracted: 0\u001b[0m\n",
      "Starting iteration with limit=1000 skip=0 ...\u001b[0m\n"
     ]
    },
    {
     "name": "stdout",
     "output_type": "stream",
     "text": [
      "ur.01351357352.20 id has 0 patents\n",
      "552. Sapna Syngal\n",
      "ur.0707031611.51\n"
     ]
    },
    {
     "name": "stderr",
     "output_type": "stream",
     "text": [
      "0-2 / 2 (4.77s)\u001b[0m\n",
      "===\n",
      "Records extracted: 2\u001b[0m\n",
      "Starting iteration with limit=1000 skip=0 ...\u001b[0m\n"
     ]
    },
    {
     "name": "stdout",
     "output_type": "stream",
     "text": [
      "ur.0707031611.51 id has 2 patents\n",
      "553. Michael Tomasson\n",
      "ur.0656033046.08\n"
     ]
    },
    {
     "name": "stderr",
     "output_type": "stream",
     "text": [
      "===\n",
      "Records extracted: 0\u001b[0m\n",
      "Starting iteration with limit=1000 skip=0 ...\u001b[0m\n"
     ]
    },
    {
     "name": "stdout",
     "output_type": "stream",
     "text": [
      "ur.0656033046.08 id has 0 patents\n",
      "554. Hensin Tsao\n",
      "ur.0615376463.10\n"
     ]
    },
    {
     "name": "stderr",
     "output_type": "stream",
     "text": [
      "0-37 / 37 (3.54s)\u001b[0m\n",
      "===\n",
      "Records extracted: 37\u001b[0m\n",
      "Starting iteration with limit=1000 skip=0 ...\u001b[0m\n"
     ]
    },
    {
     "name": "stdout",
     "output_type": "stream",
     "text": [
      "ur.0615376463.10 id has 37 patents\n",
      "555. Omaida Velazquez\n",
      "ur.01147037443.33\n"
     ]
    },
    {
     "name": "stderr",
     "output_type": "stream",
     "text": [
      "0-54 / 54 (1.33s)\u001b[0m\n",
      "===\n",
      "Records extracted: 54\u001b[0m\n",
      "Starting iteration with limit=1000 skip=0 ...\u001b[0m\n"
     ]
    },
    {
     "name": "stdout",
     "output_type": "stream",
     "text": [
      "ur.01147037443.33 id has 54 patents\n",
      "556. Feroz Papa\n",
      "ur.01324277771.74\n"
     ]
    },
    {
     "name": "stderr",
     "output_type": "stream",
     "text": [
      "0-480 / 480 (2.25s)\u001b[0m\n",
      "===\n",
      "Records extracted: 480\u001b[0m\n",
      "Starting iteration with limit=1000 skip=0 ...\u001b[0m\n"
     ]
    },
    {
     "name": "stdout",
     "output_type": "stream",
     "text": [
      "ur.01324277771.74 id has 480 patents\n",
      "557. Loren Walensky\n",
      "ur.01101102662.02\n"
     ]
    },
    {
     "name": "stderr",
     "output_type": "stream",
     "text": [
      "0-4 / 4 (2.25s)\u001b[0m\n",
      "===\n",
      "Records extracted: 4\u001b[0m\n",
      "Starting iteration with limit=1000 skip=0 ...\u001b[0m\n"
     ]
    },
    {
     "name": "stdout",
     "output_type": "stream",
     "text": [
      "ur.01101102662.02 id has 4 patents\n",
      "558. Ernesto Bernal-Mizrachi\n",
      "ur.01125327571.07\n"
     ]
    },
    {
     "name": "stderr",
     "output_type": "stream",
     "text": [
      "0-69 / 69 (1.51s)\u001b[0m\n",
      "===\n",
      "Records extracted: 69\u001b[0m\n",
      "Starting iteration with limit=1000 skip=0 ...\u001b[0m\n"
     ]
    },
    {
     "name": "stdout",
     "output_type": "stream",
     "text": [
      "ur.01125327571.07 id has 69 patents\n",
      "559. Catherine Bollard\n",
      "ur.011070650007.71\n"
     ]
    },
    {
     "name": "stderr",
     "output_type": "stream",
     "text": [
      "0-5 / 5 (3.02s)\u001b[0m\n",
      "===\n",
      "Records extracted: 5\u001b[0m\n",
      "Starting iteration with limit=1000 skip=0 ...\u001b[0m\n"
     ]
    },
    {
     "name": "stdout",
     "output_type": "stream",
     "text": [
      "ur.011070650007.71 id has 5 patents\n",
      "560. Russ Carstens\n",
      "ur.01210111627.99\n"
     ]
    },
    {
     "name": "stderr",
     "output_type": "stream",
     "text": [
      "===\n",
      "Records extracted: 0\u001b[0m\n",
      "Starting iteration with limit=1000 skip=0 ...\u001b[0m\n"
     ]
    },
    {
     "name": "stdout",
     "output_type": "stream",
     "text": [
      "ur.01210111627.99 id has 0 patents\n",
      "561. Juan Celedón\n",
      "ur.07665720167.12\n"
     ]
    },
    {
     "name": "stderr",
     "output_type": "stream",
     "text": [
      "0-6 / 6 (4.74s)\u001b[0m\n",
      "===\n",
      "Records extracted: 6\u001b[0m\n",
      "Starting iteration with limit=1000 skip=0 ...\u001b[0m\n"
     ]
    },
    {
     "name": "stdout",
     "output_type": "stream",
     "text": [
      "ur.07665720167.12 id has 6 patents\n",
      "562. Charleen Chu\n",
      "ur.0703642674.64\n"
     ]
    },
    {
     "name": "stderr",
     "output_type": "stream",
     "text": [
      "===\n",
      "Records extracted: 0\u001b[0m\n",
      "Starting iteration with limit=1000 skip=0 ...\u001b[0m\n"
     ]
    },
    {
     "name": "stdout",
     "output_type": "stream",
     "text": [
      "ur.0703642674.64 id has 0 patents\n",
      "563. Jonathan Dranoff\n",
      "ur.01065507416.27\n"
     ]
    },
    {
     "name": "stderr",
     "output_type": "stream",
     "text": [
      "0-8 / 8 (3.59s)\u001b[0m\n",
      "===\n",
      "Records extracted: 8\u001b[0m\n",
      "Starting iteration with limit=1000 skip=0 ...\u001b[0m\n"
     ]
    },
    {
     "name": "stdout",
     "output_type": "stream",
     "text": [
      "ur.01065507416.27 id has 8 patents\n",
      "564. Charles Esmon\n",
      "ur.01255200715.86\n"
     ]
    },
    {
     "name": "stderr",
     "output_type": "stream",
     "text": [
      "===\n",
      "Records extracted: 0\u001b[0m\n",
      "Starting iteration with limit=1000 skip=0 ...\u001b[0m\n"
     ]
    },
    {
     "name": "stdout",
     "output_type": "stream",
     "text": [
      "ur.01255200715.86 id has 0 patents\n",
      "565. Nikolaos Frangogiannis\n",
      "ur.01106271435.77\n"
     ]
    },
    {
     "name": "stderr",
     "output_type": "stream",
     "text": [
      "===\n",
      "Records extracted: 0\u001b[0m\n",
      "Starting iteration with limit=1000 skip=0 ...\u001b[0m\n"
     ]
    },
    {
     "name": "stdout",
     "output_type": "stream",
     "text": [
      "ur.01106271435.77 id has 0 patents\n",
      "566. Maura Gillison\n",
      "ur.0625272302.13\n"
     ]
    },
    {
     "name": "stderr",
     "output_type": "stream",
     "text": [
      "===\n",
      "Records extracted: 0\u001b[0m\n",
      "Starting iteration with limit=1000 skip=0 ...\u001b[0m\n"
     ]
    },
    {
     "name": "stdout",
     "output_type": "stream",
     "text": [
      "ur.0625272302.13 id has 0 patents\n",
      "567. Paul Goepfert\n",
      "ur.0711517452.48\n"
     ]
    },
    {
     "name": "stderr",
     "output_type": "stream",
     "text": [
      "===\n",
      "Records extracted: 0\u001b[0m\n",
      "Starting iteration with limit=1000 skip=0 ...\u001b[0m\n"
     ]
    },
    {
     "name": "stdout",
     "output_type": "stream",
     "text": [
      "ur.0711517452.48 id has 0 patents\n",
      "568. Laura Haneline\n",
      "ur.01134672503.93\n"
     ]
    },
    {
     "name": "stderr",
     "output_type": "stream",
     "text": [
      "0-22 / 22 (1.06s)\u001b[0m\n",
      "===\n",
      "Records extracted: 22\u001b[0m\n",
      "Starting iteration with limit=1000 skip=0 ...\u001b[0m\n"
     ]
    },
    {
     "name": "stdout",
     "output_type": "stream",
     "text": [
      "ur.01134672503.93 id has 22 patents\n",
      "569. Tzung Hsiai\n",
      "ur.0620674221.66\n"
     ]
    },
    {
     "name": "stderr",
     "output_type": "stream",
     "text": [
      "===\n",
      "Records extracted: 0\u001b[0m\n",
      "Starting iteration with limit=1000 skip=0 ...\u001b[0m\n"
     ]
    },
    {
     "name": "stdout",
     "output_type": "stream",
     "text": [
      "ur.0620674221.66 id has 0 patents\n",
      "570. Terrie Inder\n",
      "ur.015045506007.80\n"
     ]
    },
    {
     "name": "stderr",
     "output_type": "stream",
     "text": [
      "0-11 / 11 (1.11s)\u001b[0m\n",
      "===\n",
      "Records extracted: 11\u001b[0m\n",
      "Starting iteration with limit=1000 skip=0 ...\u001b[0m\n"
     ]
    },
    {
     "name": "stdout",
     "output_type": "stream",
     "text": [
      "ur.015045506007.80 id has 11 patents\n",
      "571. Bjorn Knollmann\n",
      "ur.0727657075.71\n"
     ]
    },
    {
     "name": "stderr",
     "output_type": "stream",
     "text": [
      "0-3 / 3 (4.65s)\u001b[0m\n",
      "===\n",
      "Records extracted: 3\u001b[0m\n",
      "Starting iteration with limit=1000 skip=0 ...\u001b[0m\n"
     ]
    },
    {
     "name": "stdout",
     "output_type": "stream",
     "text": [
      "ur.0727657075.71 id has 3 patents\n",
      "572. Gary Luker\n",
      "ur.0772745010.90\n"
     ]
    },
    {
     "name": "stderr",
     "output_type": "stream",
     "text": [
      "===\n",
      "Records extracted: 0\u001b[0m\n",
      "Starting iteration with limit=1000 skip=0 ...\u001b[0m\n"
     ]
    },
    {
     "name": "stdout",
     "output_type": "stream",
     "text": [
      "ur.0772745010.90 id has 0 patents\n",
      "573. Mehrdad Matloubian\n",
      "ur.0703373116.16\n"
     ]
    },
    {
     "name": "stderr",
     "output_type": "stream",
     "text": [
      "===\n",
      "Records extracted: 0\u001b[0m\n",
      "Starting iteration with limit=1000 skip=0 ...\u001b[0m\n"
     ]
    },
    {
     "name": "stdout",
     "output_type": "stream",
     "text": [
      "ur.0703373116.16 id has 0 patents\n",
      "574. Franck Mauvais-Jarvis\n",
      "ur.0762775110.66\n"
     ]
    },
    {
     "name": "stderr",
     "output_type": "stream",
     "text": [
      "0-13 / 13 (3.36s)\u001b[0m\n",
      "===\n",
      "Records extracted: 13\u001b[0m\n",
      "Starting iteration with limit=1000 skip=0 ...\u001b[0m\n"
     ]
    },
    {
     "name": "stdout",
     "output_type": "stream",
     "text": [
      "ur.0762775110.66 id has 13 patents\n",
      "575. Raghavendra Mirmira\n",
      "ur.01143047214.87\n"
     ]
    },
    {
     "name": "stderr",
     "output_type": "stream",
     "text": [
      "===\n",
      "Records extracted: 0\u001b[0m\n",
      "Starting iteration with limit=1000 skip=0 ...\u001b[0m\n"
     ]
    },
    {
     "name": "stdout",
     "output_type": "stream",
     "text": [
      "ur.01143047214.87 id has 0 patents\n",
      "576. Lucila Ohno-Machado\n",
      "ur.0774334672.45\n"
     ]
    },
    {
     "name": "stderr",
     "output_type": "stream",
     "text": [
      "0-12 / 12 (3.41s)\u001b[0m\n",
      "===\n",
      "Records extracted: 12\u001b[0m\n",
      "Starting iteration with limit=1000 skip=0 ...\u001b[0m\n"
     ]
    },
    {
     "name": "stdout",
     "output_type": "stream",
     "text": [
      "ur.0774334672.45 id has 12 patents\n",
      "577. Jordan Orange\n",
      "ur.013551442357.17\n"
     ]
    },
    {
     "name": "stderr",
     "output_type": "stream",
     "text": [
      "0-2 / 2 (1.23s)\u001b[0m\n",
      "===\n",
      "Records extracted: 2\u001b[0m\n",
      "Starting iteration with limit=1000 skip=0 ...\u001b[0m\n"
     ]
    },
    {
     "name": "stdout",
     "output_type": "stream",
     "text": [
      "ur.013551442357.17 id has 2 patents\n",
      "578. Muredach Reilly\n",
      "ur.011151216517.08\n"
     ]
    },
    {
     "name": "stderr",
     "output_type": "stream",
     "text": [
      "0-16 / 16 (3.08s)\u001b[0m\n",
      "===\n",
      "Records extracted: 16\u001b[0m\n",
      "Starting iteration with limit=1000 skip=0 ...\u001b[0m\n"
     ]
    },
    {
     "name": "stdout",
     "output_type": "stream",
     "text": [
      "ur.011151216517.08 id has 16 patents\n",
      "579. Constantine Stratakis\n",
      "ur.014045614114.05\n"
     ]
    },
    {
     "name": "stderr",
     "output_type": "stream",
     "text": [
      "===\n",
      "Records extracted: 0\u001b[0m\n",
      "Starting iteration with limit=1000 skip=0 ...\u001b[0m\n"
     ]
    },
    {
     "name": "stdout",
     "output_type": "stream",
     "text": [
      "ur.014045614114.05 id has 0 patents\n",
      "580. Andrew Alspaugh\n",
      "ur.01220231147.23\n"
     ]
    },
    {
     "name": "stderr",
     "output_type": "stream",
     "text": [
      "===\n",
      "Records extracted: 0\u001b[0m\n",
      "Starting iteration with limit=1000 skip=0 ...\u001b[0m\n"
     ]
    },
    {
     "name": "stdout",
     "output_type": "stream",
     "text": [
      "ur.01220231147.23 id has 0 patents\n",
      "581. Kenneth Ataga\n",
      "ur.01002551055.27\n"
     ]
    },
    {
     "name": "stderr",
     "output_type": "stream",
     "text": [
      "0-625 / 625 (3.30s)\u001b[0m\n",
      "===\n",
      "Records extracted: 625\u001b[0m\n",
      "Starting iteration with limit=1000 skip=0 ...\u001b[0m\n"
     ]
    },
    {
     "name": "stdout",
     "output_type": "stream",
     "text": [
      "ur.01002551055.27 id has 625 patents\n",
      "582. James Bradner\n",
      "ur.0746365402.76\n"
     ]
    },
    {
     "name": "stderr",
     "output_type": "stream",
     "text": [
      "0-23 / 23 (1.42s)\u001b[0m\n",
      "===\n",
      "Records extracted: 23\u001b[0m\n",
      "Starting iteration with limit=1000 skip=0 ...\u001b[0m\n"
     ]
    },
    {
     "name": "stdout",
     "output_type": "stream",
     "text": [
      "ur.0746365402.76 id has 23 patents\n",
      "583. Jen-Tsan Chi\n",
      "ur.0654674363.79\n"
     ]
    },
    {
     "name": "stderr",
     "output_type": "stream",
     "text": [
      "0-25 / 25 (1.37s)\u001b[0m\n",
      "===\n",
      "Records extracted: 25\u001b[0m\n",
      "Starting iteration with limit=1000 skip=0 ...\u001b[0m\n"
     ]
    },
    {
     "name": "stdout",
     "output_type": "stream",
     "text": [
      "ur.0654674363.79 id has 25 patents\n",
      "584. Kojo Elenitoba-Johnson\n",
      "ur.014046757077.00\n"
     ]
    },
    {
     "name": "stderr",
     "output_type": "stream",
     "text": [
      "0-5 / 5 (4.64s)\u001b[0m\n",
      "===\n",
      "Records extracted: 5\u001b[0m\n",
      "Starting iteration with limit=1000 skip=0 ...\u001b[0m\n"
     ]
    },
    {
     "name": "stdout",
     "output_type": "stream",
     "text": [
      "ur.014046757077.00 id has 5 patents\n",
      "585. Evanthia Galanis\n",
      "ur.01371420370.01\n"
     ]
    },
    {
     "name": "stderr",
     "output_type": "stream",
     "text": [
      "0-6 / 6 (1.13s)\u001b[0m\n",
      "===\n",
      "Records extracted: 6\u001b[0m\n",
      "Starting iteration with limit=1000 skip=0 ...\u001b[0m\n"
     ]
    },
    {
     "name": "stdout",
     "output_type": "stream",
     "text": [
      "ur.01371420370.01 id has 6 patents\n",
      "586. Terrence Geiger\n",
      "ur.01000532205.19\n"
     ]
    },
    {
     "name": "stderr",
     "output_type": "stream",
     "text": [
      "0-14 / 14 (4.60s)\u001b[0m\n",
      "===\n",
      "Records extracted: 14\u001b[0m\n",
      "Starting iteration with limit=1000 skip=0 ...\u001b[0m\n"
     ]
    },
    {
     "name": "stdout",
     "output_type": "stream",
     "text": [
      "ur.01000532205.19 id has 14 patents\n",
      "587. Michael Kapiloff\n",
      "ur.01104417227.04\n"
     ]
    },
    {
     "name": "stderr",
     "output_type": "stream",
     "text": [
      "===\n",
      "Records extracted: 0\u001b[0m\n",
      "Starting iteration with limit=1000 skip=0 ...\u001b[0m\n"
     ]
    },
    {
     "name": "stdout",
     "output_type": "stream",
     "text": [
      "ur.01104417227.04 id has 0 patents\n",
      "588. Nancy Keating\n",
      "ur.01156612166.12\n"
     ]
    },
    {
     "name": "stderr",
     "output_type": "stream",
     "text": [
      "0-20 / 20 (2.17s)\u001b[0m\n",
      "===\n",
      "Records extracted: 20\u001b[0m\n",
      "Starting iteration with limit=1000 skip=0 ...\u001b[0m\n"
     ]
    },
    {
     "name": "stdout",
     "output_type": "stream",
     "text": [
      "ur.01156612166.12 id has 20 patents\n",
      "589. Darrell Kotton\n",
      "ur.01122604435.71\n"
     ]
    },
    {
     "name": "stderr",
     "output_type": "stream",
     "text": [
      "===\n",
      "Records extracted: 0\u001b[0m\n",
      "Starting iteration with limit=1000 skip=0 ...\u001b[0m\n"
     ]
    },
    {
     "name": "stdout",
     "output_type": "stream",
     "text": [
      "ur.01122604435.71 id has 0 patents\n",
      "590. Christopher Landrigan\n",
      "ur.01171122331.16\n"
     ]
    },
    {
     "name": "stderr",
     "output_type": "stream",
     "text": [
      "0-2 / 2 (1.23s)\u001b[0m\n",
      "===\n",
      "Records extracted: 2\u001b[0m\n",
      "Starting iteration with limit=1000 skip=0 ...\u001b[0m\n"
     ]
    },
    {
     "name": "stdout",
     "output_type": "stream",
     "text": [
      "ur.01171122331.16 id has 2 patents\n",
      "591. Theresa Lu\n",
      "ur.01302741605.47\n"
     ]
    },
    {
     "name": "stderr",
     "output_type": "stream",
     "text": [
      "0-39 / 39 (4.84s)\u001b[0m\n",
      "===\n",
      "Records extracted: 39\u001b[0m\n",
      "Starting iteration with limit=1000 skip=0 ...\u001b[0m\n"
     ]
    },
    {
     "name": "stdout",
     "output_type": "stream",
     "text": [
      "ur.01302741605.47 id has 39 patents\n",
      "592. William Matsui\n",
      "ur.0730324566.85\n"
     ]
    },
    {
     "name": "stderr",
     "output_type": "stream",
     "text": [
      "===\n",
      "Records extracted: 0\u001b[0m\n",
      "Starting iteration with limit=1000 skip=0 ...\u001b[0m\n"
     ]
    },
    {
     "name": "stdout",
     "output_type": "stream",
     "text": [
      "ur.0730324566.85 id has 0 patents\n",
      "593. Flora Sam\n",
      "ur.01174747033.45\n"
     ]
    },
    {
     "name": "stderr",
     "output_type": "stream",
     "text": [
      "0-17 / 17 (1.05s)\u001b[0m\n",
      "===\n",
      "Records extracted: 17\u001b[0m\n",
      "Starting iteration with limit=1000 skip=0 ...\u001b[0m\n"
     ]
    },
    {
     "name": "stdout",
     "output_type": "stream",
     "text": [
      "ur.01174747033.45 id has 17 patents\n",
      "594. Anath Shalev\n",
      "ur.0656335277.50\n"
     ]
    },
    {
     "name": "stderr",
     "output_type": "stream",
     "text": [
      "0-19 / 19 (1.23s)\u001b[0m\n",
      "===\n",
      "Records extracted: 19\u001b[0m\n",
      "Starting iteration with limit=1000 skip=0 ...\u001b[0m\n"
     ]
    },
    {
     "name": "stdout",
     "output_type": "stream",
     "text": [
      "ur.0656335277.50 id has 19 patents\n",
      "595. David Solit\n",
      "ur.0732415023.51\n"
     ]
    },
    {
     "name": "stderr",
     "output_type": "stream",
     "text": [
      "0-2 / 2 (1.87s)\u001b[0m\n",
      "===\n",
      "Records extracted: 2\u001b[0m\n",
      "Starting iteration with limit=1000 skip=0 ...\u001b[0m\n"
     ]
    },
    {
     "name": "stdout",
     "output_type": "stream",
     "text": [
      "ur.0732415023.51 id has 2 patents\n",
      "596. Katalin Susztak\n",
      "ur.01057154336.23\n"
     ]
    },
    {
     "name": "stderr",
     "output_type": "stream",
     "text": [
      "0-26 / 26 (1.26s)\u001b[0m\n",
      "===\n",
      "Records extracted: 26\u001b[0m\n",
      "Starting iteration with limit=1000 skip=0 ...\u001b[0m\n"
     ]
    },
    {
     "name": "stdout",
     "output_type": "stream",
     "text": [
      "ur.01057154336.23 id has 26 patents\n",
      "597. Eric Sweet-Cordero\n",
      "ur.011250753545.99\n"
     ]
    },
    {
     "name": "stderr",
     "output_type": "stream",
     "text": [
      "0-60 / 60 (1.81s)\u001b[0m\n",
      "===\n",
      "Records extracted: 60\u001b[0m\n",
      "Starting iteration with limit=1000 skip=0 ...\u001b[0m\n"
     ]
    },
    {
     "name": "stdout",
     "output_type": "stream",
     "text": [
      "ur.011250753545.99 id has 60 patents\n",
      "598. Joshua Thurman\n",
      "ur.0734467474.24\n"
     ]
    },
    {
     "name": "stderr",
     "output_type": "stream",
     "text": [
      "0-9 / 9 (1.20s)\u001b[0m\n",
      "===\n",
      "Records extracted: 9\u001b[0m\n",
      "Starting iteration with limit=1000 skip=0 ...\u001b[0m\n"
     ]
    },
    {
     "name": "stdout",
     "output_type": "stream",
     "text": [
      "ur.0734467474.24 id has 9 patents\n",
      "599. Xander Wehrens\n",
      "ur.0721745324.62\n"
     ]
    },
    {
     "name": "stderr",
     "output_type": "stream",
     "text": [
      "0-5 / 5 (1.66s)\u001b[0m\n",
      "===\n",
      "Records extracted: 5\u001b[0m\n",
      "Starting iteration with limit=1000 skip=0 ...\u001b[0m\n"
     ]
    },
    {
     "name": "stdout",
     "output_type": "stream",
     "text": [
      "ur.0721745324.62 id has 5 patents\n",
      "600. John Wemmie\n",
      "ur.0654140477.41\n"
     ]
    },
    {
     "name": "stderr",
     "output_type": "stream",
     "text": [
      "0-11 / 11 (1.25s)\u001b[0m\n",
      "===\n",
      "Records extracted: 11\u001b[0m\n",
      "Starting iteration with limit=1000 skip=0 ...\u001b[0m\n"
     ]
    },
    {
     "name": "stdout",
     "output_type": "stream",
     "text": [
      "ur.0654140477.41 id has 11 patents\n",
      "601. Michelle Winn\n",
      "ur.0635217446.08\n"
     ]
    },
    {
     "name": "stderr",
     "output_type": "stream",
     "text": [
      "0-15 / 15 (1.66s)\u001b[0m\n",
      "===\n",
      "Records extracted: 15\u001b[0m\n",
      "Starting iteration with limit=1000 skip=0 ...\u001b[0m\n"
     ]
    },
    {
     "name": "stdout",
     "output_type": "stream",
     "text": [
      "ur.0635217446.08 id has 15 patents\n",
      "602. James Zimring\n",
      "ur.0723304767.87\n"
     ]
    },
    {
     "name": "stderr",
     "output_type": "stream",
     "text": [
      "===\n",
      "Records extracted: 0\u001b[0m\n",
      "Starting iteration with limit=1000 skip=0 ...\u001b[0m\n"
     ]
    },
    {
     "name": "stdout",
     "output_type": "stream",
     "text": [
      "ur.0723304767.87 id has 0 patents\n",
      "603. Rochelle Walensky\n",
      "ur.01025663232.84\n"
     ]
    },
    {
     "name": "stderr",
     "output_type": "stream",
     "text": [
      "0-65 / 65 (1.27s)\u001b[0m\n",
      "===\n",
      "Records extracted: 65\u001b[0m\n",
      "Starting iteration with limit=1000 skip=0 ...\u001b[0m\n"
     ]
    },
    {
     "name": "stdout",
     "output_type": "stream",
     "text": [
      "ur.01025663232.84 id has 65 patents\n",
      "604. Brian Zuckerbraun\n",
      "ur.0661712365.40\n"
     ]
    },
    {
     "name": "stderr",
     "output_type": "stream",
     "text": [
      "0-5 / 5 (1.05s)\u001b[0m\n",
      "===\n",
      "Records extracted: 5\u001b[0m\n",
      "Starting iteration with limit=1000 skip=0 ...\u001b[0m\n"
     ]
    },
    {
     "name": "stdout",
     "output_type": "stream",
     "text": [
      "ur.0661712365.40 id has 5 patents\n",
      "605. Joel Blankson\n",
      "ur.01333402326.06\n"
     ]
    },
    {
     "name": "stderr",
     "output_type": "stream",
     "text": [
      "===\n",
      "Records extracted: 0\u001b[0m\n",
      "Starting iteration with limit=1000 skip=0 ...\u001b[0m\n"
     ]
    },
    {
     "name": "stdout",
     "output_type": "stream",
     "text": [
      "ur.01333402326.06 id has 0 patents\n",
      "606. Jorge Di Paola\n",
      "ur.0715007174.81\n"
     ]
    },
    {
     "name": "stderr",
     "output_type": "stream",
     "text": [
      "0-32 / 32 (1.26s)\u001b[0m\n",
      "===\n",
      "Records extracted: 32\u001b[0m\n",
      "Starting iteration with limit=1000 skip=0 ...\u001b[0m\n"
     ]
    },
    {
     "name": "stdout",
     "output_type": "stream",
     "text": [
      "ur.0715007174.81 id has 32 patents\n",
      "607. Adolfo Ferrando\n",
      "ur.01365026210.96\n"
     ]
    },
    {
     "name": "stderr",
     "output_type": "stream",
     "text": [
      "===\n",
      "Records extracted: 0\u001b[0m\n",
      "Starting iteration with limit=1000 skip=0 ...\u001b[0m\n"
     ]
    },
    {
     "name": "stdout",
     "output_type": "stream",
     "text": [
      "ur.01365026210.96 id has 0 patents\n",
      "608. Keith Flaherty\n",
      "ur.01313314270.12\n"
     ]
    },
    {
     "name": "stderr",
     "output_type": "stream",
     "text": [
      "0-8 / 8 (6.05s)\u001b[0m\n",
      "===\n",
      "Records extracted: 8\u001b[0m\n",
      "Starting iteration with limit=1000 skip=0 ...\u001b[0m\n"
     ]
    },
    {
     "name": "stdout",
     "output_type": "stream",
     "text": [
      "ur.01313314270.12 id has 8 patents\n",
      "609. Jaime Grutzendler\n",
      "ur.011447535552.01\n"
     ]
    },
    {
     "name": "stderr",
     "output_type": "stream",
     "text": [
      "===\n",
      "Records extracted: 0\u001b[0m\n",
      "Starting iteration with limit=1000 skip=0 ...\u001b[0m\n"
     ]
    },
    {
     "name": "stdout",
     "output_type": "stream",
     "text": [
      "ur.011447535552.01 id has 0 patents\n",
      "610. Chyi-Song Hsieh\n",
      "ur.0651746766.54\n"
     ]
    },
    {
     "name": "stderr",
     "output_type": "stream",
     "text": [
      "===\n",
      "Records extracted: 0\u001b[0m\n",
      "Starting iteration with limit=1000 skip=0 ...\u001b[0m\n"
     ]
    },
    {
     "name": "stdout",
     "output_type": "stream",
     "text": [
      "ur.0651746766.54 id has 0 patents\n",
      "611. Ola Landgren\n",
      "ur.01235523737.30\n"
     ]
    },
    {
     "name": "stderr",
     "output_type": "stream",
     "text": [
      "===\n",
      "Records extracted: 0\u001b[0m\n",
      "Starting iteration with limit=1000 skip=0 ...\u001b[0m\n"
     ]
    },
    {
     "name": "stdout",
     "output_type": "stream",
     "text": [
      "ur.01235523737.30 id has 0 patents\n",
      "612. Jonathan Maltzman\n",
      "ur.01057653066.21\n"
     ]
    },
    {
     "name": "stderr",
     "output_type": "stream",
     "text": [
      "===\n",
      "Records extracted: 0\u001b[0m\n",
      "Starting iteration with limit=1000 skip=0 ...\u001b[0m\n"
     ]
    },
    {
     "name": "stdout",
     "output_type": "stream",
     "text": [
      "ur.01057653066.21 id has 0 patents\n",
      "613. Kieren Mather\n",
      "ur.01242536354.02\n"
     ]
    },
    {
     "name": "stderr",
     "output_type": "stream",
     "text": [
      "===\n",
      "Records extracted: 0\u001b[0m\n",
      "Starting iteration with limit=1000 skip=0 ...\u001b[0m\n"
     ]
    },
    {
     "name": "stdout",
     "output_type": "stream",
     "text": [
      "ur.01242536354.02 id has 0 patents\n",
      "614. Hidayatullah Munshi\n",
      "ur.01307642610.92\n"
     ]
    },
    {
     "name": "stderr",
     "output_type": "stream",
     "text": [
      "===\n",
      "Records extracted: 0\u001b[0m\n",
      "Starting iteration with limit=1000 skip=0 ...\u001b[0m\n"
     ]
    },
    {
     "name": "stdout",
     "output_type": "stream",
     "text": [
      "ur.01307642610.92 id has 0 patents\n",
      "615. Nuria Pastor-Soler\n",
      "ur.01262142655.23\n"
     ]
    },
    {
     "name": "stderr",
     "output_type": "stream",
     "text": [
      "0-9 / 9 (6.14s)\u001b[0m\n",
      "===\n",
      "Records extracted: 9\u001b[0m\n",
      "Starting iteration with limit=1000 skip=0 ...\u001b[0m\n"
     ]
    },
    {
     "name": "stdout",
     "output_type": "stream",
     "text": [
      "ur.01262142655.23 id has 9 patents\n",
      "616. Amanda Paulovich\n",
      "ur.0755302003.05\n"
     ]
    },
    {
     "name": "stderr",
     "output_type": "stream",
     "text": [
      "0-22 / 22 (1.32s)\u001b[0m\n",
      "===\n",
      "Records extracted: 22\u001b[0m\n",
      "Starting iteration with limit=1000 skip=0 ...\u001b[0m\n"
     ]
    },
    {
     "name": "stdout",
     "output_type": "stream",
     "text": [
      "ur.0755302003.05 id has 22 patents\n",
      "617. Irina Petrache\n",
      "ur.01367356600.00\n"
     ]
    },
    {
     "name": "stderr",
     "output_type": "stream",
     "text": [
      "0-4 / 4 (3.10s)\u001b[0m\n",
      "===\n",
      "Records extracted: 4\u001b[0m\n",
      "Starting iteration with limit=1000 skip=0 ...\u001b[0m\n"
     ]
    },
    {
     "name": "stdout",
     "output_type": "stream",
     "text": [
      "ur.01367356600.00 id has 4 patents\n",
      "618. Marc Sabatine\n",
      "ur.01217305616.11\n"
     ]
    },
    {
     "name": "stderr",
     "output_type": "stream",
     "text": [
      "===\n",
      "Records extracted: 0\u001b[0m\n",
      "Starting iteration with limit=1000 skip=0 ...\u001b[0m\n"
     ]
    },
    {
     "name": "stdout",
     "output_type": "stream",
     "text": [
      "ur.01217305616.11 id has 0 patents\n",
      "619. Dorry Segev\n",
      "ur.013125514737.99\n"
     ]
    },
    {
     "name": "stderr",
     "output_type": "stream",
     "text": [
      "0-5 / 5 (4.71s)\u001b[0m\n",
      "===\n",
      "Records extracted: 5\u001b[0m\n",
      "Starting iteration with limit=1000 skip=0 ...\u001b[0m\n"
     ]
    },
    {
     "name": "stdout",
     "output_type": "stream",
     "text": [
      "ur.013125514737.99 id has 5 patents\n",
      "620. Michael Shlipak\n",
      "ur.01206027610.86\n"
     ]
    },
    {
     "name": "stderr",
     "output_type": "stream",
     "text": [
      "0-7 / 7 (1.22s)\u001b[0m\n",
      "===\n",
      "Records extracted: 7\u001b[0m\n",
      "Starting iteration with limit=1000 skip=0 ...\u001b[0m\n"
     ]
    },
    {
     "name": "stdout",
     "output_type": "stream",
     "text": [
      "ur.01206027610.86 id has 7 patents\n",
      "621. Fayyaz Sutterwala\n",
      "ur.01305004322.38\n"
     ]
    },
    {
     "name": "stderr",
     "output_type": "stream",
     "text": [
      "===\n",
      "Records extracted: 0\u001b[0m\n",
      "Starting iteration with limit=1000 skip=0 ...\u001b[0m\n"
     ]
    },
    {
     "name": "stdout",
     "output_type": "stream",
     "text": [
      "ur.01305004322.38 id has 0 patents\n",
      "622. Lorraine Ware\n",
      "ur.0672322664.16\n"
     ]
    },
    {
     "name": "stderr",
     "output_type": "stream",
     "text": [
      "0-3 / 3 (1.43s)\u001b[0m\n",
      "===\n",
      "Records extracted: 3\u001b[0m\n",
      "Starting iteration with limit=1000 skip=0 ...\u001b[0m\n"
     ]
    },
    {
     "name": "stdout",
     "output_type": "stream",
     "text": [
      "ur.0672322664.16 id has 3 patents\n",
      "623. Scott Floyd\n",
      "ur.01067120151.18\n"
     ]
    },
    {
     "name": "stderr",
     "output_type": "stream",
     "text": [
      "0-5 / 5 (1.26s)\u001b[0m\n",
      "===\n",
      "Records extracted: 5\u001b[0m\n",
      "Starting iteration with limit=1000 skip=0 ...\u001b[0m\n"
     ]
    },
    {
     "name": "stdout",
     "output_type": "stream",
     "text": [
      "ur.01067120151.18 id has 5 patents\n",
      "624. Benjamin Gewurz\n",
      "ur.01372326653.64\n"
     ]
    },
    {
     "name": "stderr",
     "output_type": "stream",
     "text": [
      "===\n",
      "Records extracted: 0\u001b[0m\n",
      "Starting iteration with limit=1000 skip=0 ...\u001b[0m\n"
     ]
    },
    {
     "name": "stdout",
     "output_type": "stream",
     "text": [
      "ur.01372326653.64 id has 0 patents\n",
      "625. Anne Cappola\n",
      "ur.01303277503.36\n"
     ]
    },
    {
     "name": "stderr",
     "output_type": "stream",
     "text": [
      "===\n",
      "Records extracted: 0\u001b[0m\n",
      "Starting iteration with limit=1000 skip=0 ...\u001b[0m\n"
     ]
    },
    {
     "name": "stdout",
     "output_type": "stream",
     "text": [
      "ur.01303277503.36 id has 0 patents\n",
      "626. Iris Jaffe\n",
      "ur.01045210302.52\n"
     ]
    },
    {
     "name": "stderr",
     "output_type": "stream",
     "text": [
      "===\n",
      "Records extracted: 0\u001b[0m\n",
      "Starting iteration with limit=1000 skip=0 ...\u001b[0m\n"
     ]
    },
    {
     "name": "stdout",
     "output_type": "stream",
     "text": [
      "ur.01045210302.52 id has 0 patents\n",
      "627. Vibha Lama\n",
      "ur.01241720007.14\n"
     ]
    },
    {
     "name": "stderr",
     "output_type": "stream",
     "text": [
      "===\n",
      "Records extracted: 0\u001b[0m\n",
      "Starting iteration with limit=1000 skip=0 ...\u001b[0m\n"
     ]
    },
    {
     "name": "stdout",
     "output_type": "stream",
     "text": [
      "ur.01241720007.14 id has 0 patents\n",
      "628. Sana Al-Khatib\n",
      "ur.01102707136.86\n"
     ]
    },
    {
     "name": "stderr",
     "output_type": "stream",
     "text": [
      "0-9 / 9 (1.12s)\u001b[0m\n",
      "===\n",
      "Records extracted: 9\u001b[0m\n",
      "Starting iteration with limit=1000 skip=0 ...\u001b[0m\n"
     ]
    },
    {
     "name": "stdout",
     "output_type": "stream",
     "text": [
      "ur.01102707136.86 id has 9 patents\n",
      "629. John Amory\n",
      "ur.01056710562.57\n"
     ]
    },
    {
     "name": "stderr",
     "output_type": "stream",
     "text": [
      "0-3 / 3 (4.55s)\u001b[0m\n",
      "===\n",
      "Records extracted: 3\u001b[0m\n",
      "Starting iteration with limit=1000 skip=0 ...\u001b[0m\n"
     ]
    },
    {
     "name": "stdout",
     "output_type": "stream",
     "text": [
      "ur.01056710562.57 id has 3 patents\n",
      "630. Mary Armanios\n",
      "ur.01000340656.51\n"
     ]
    },
    {
     "name": "stderr",
     "output_type": "stream",
     "text": [
      "===\n",
      "Records extracted: 0\u001b[0m\n",
      "Starting iteration with limit=1000 skip=0 ...\u001b[0m\n"
     ]
    },
    {
     "name": "stdout",
     "output_type": "stream",
     "text": [
      "ur.01000340656.51 id has 0 patents\n",
      "631. Carlos Bernal-Mizrachi\n",
      "ur.07760362735.09\n"
     ]
    },
    {
     "name": "stderr",
     "output_type": "stream",
     "text": [
      "===\n",
      "Records extracted: 0\u001b[0m\n",
      "Starting iteration with limit=1000 skip=0 ...\u001b[0m\n"
     ]
    },
    {
     "name": "stdout",
     "output_type": "stream",
     "text": [
      "ur.07760362735.09 id has 0 patents\n",
      "632. Ebony Boulware\n",
      "ur.01163437623.48\n"
     ]
    },
    {
     "name": "stderr",
     "output_type": "stream",
     "text": [
      "0-45 / 45 (4.75s)\u001b[0m\n",
      "===\n",
      "Records extracted: 45\u001b[0m\n",
      "Starting iteration with limit=1000 skip=0 ...\u001b[0m\n"
     ]
    },
    {
     "name": "stdout",
     "output_type": "stream",
     "text": [
      "ur.01163437623.48 id has 45 patents\n",
      "633. Laura Calvi\n",
      "ur.0614472645.05\n"
     ]
    },
    {
     "name": "stderr",
     "output_type": "stream",
     "text": [
      "===\n",
      "Records extracted: 0\u001b[0m\n",
      "Starting iteration with limit=1000 skip=0 ...\u001b[0m\n"
     ]
    },
    {
     "name": "stdout",
     "output_type": "stream",
     "text": [
      "ur.0614472645.05 id has 0 patents\n",
      "634. Andrew Einstein\n",
      "ur.0711761543.83\n"
     ]
    },
    {
     "name": "stderr",
     "output_type": "stream",
     "text": [
      "0-26 / 26 (1.15s)\u001b[0m\n",
      "===\n",
      "Records extracted: 26\u001b[0m\n",
      "Starting iteration with limit=1000 skip=0 ...\u001b[0m\n"
     ]
    },
    {
     "name": "stdout",
     "output_type": "stream",
     "text": [
      "ur.0711761543.83 id has 26 patents\n",
      "635. John Fingert\n",
      "ur.0763356577.14\n"
     ]
    },
    {
     "name": "stderr",
     "output_type": "stream",
     "text": [
      "===\n",
      "Records extracted: 0\u001b[0m\n",
      "Starting iteration with limit=1000 skip=0 ...\u001b[0m\n"
     ]
    },
    {
     "name": "stdout",
     "output_type": "stream",
     "text": [
      "ur.0763356577.14 id has 0 patents\n",
      "636. Kelly Gebo\n",
      "ur.01204140017.27\n"
     ]
    },
    {
     "name": "stderr",
     "output_type": "stream",
     "text": [
      "0-75 / 75 (1.34s)\u001b[0m\n",
      "===\n",
      "Records extracted: 75\u001b[0m\n",
      "Starting iteration with limit=1000 skip=0 ...\u001b[0m\n"
     ]
    },
    {
     "name": "stdout",
     "output_type": "stream",
     "text": [
      "ur.01204140017.27 id has 75 patents\n",
      "637. Wolfram Goessling\n",
      "ur.01206146072.36\n"
     ]
    },
    {
     "name": "stderr",
     "output_type": "stream",
     "text": [
      "0-1 / 1 (4.31s)\u001b[0m\n",
      "===\n",
      "Records extracted: 1\u001b[0m\n",
      "Starting iteration with limit=1000 skip=0 ...\u001b[0m\n"
     ]
    },
    {
     "name": "stdout",
     "output_type": "stream",
     "text": [
      "ur.01206146072.36 id has 1 patents\n",
      "638. Noyan Gokce\n",
      "ur.01161310313.07\n"
     ]
    },
    {
     "name": "stderr",
     "output_type": "stream",
     "text": [
      "===\n",
      "Records extracted: 0\u001b[0m\n",
      "Starting iteration with limit=1000 skip=0 ...\u001b[0m\n"
     ]
    },
    {
     "name": "stdout",
     "output_type": "stream",
     "text": [
      "ur.01161310313.07 id has 0 patents\n",
      "639. Sherita Golden\n",
      "ur.01147711775.28\n"
     ]
    },
    {
     "name": "stderr",
     "output_type": "stream",
     "text": [
      "===\n",
      "Records extracted: 0\u001b[0m\n",
      "Starting iteration with limit=1000 skip=0 ...\u001b[0m\n"
     ]
    },
    {
     "name": "stdout",
     "output_type": "stream",
     "text": [
      "ur.01147711775.28 id has 0 patents\n",
      "640. Priscilla Hsue\n",
      "ur.01124234272.64\n"
     ]
    },
    {
     "name": "stderr",
     "output_type": "stream",
     "text": [
      "0-44 / 44 (1.40s)\u001b[0m\n",
      "===\n",
      "Records extracted: 44\u001b[0m\n",
      "Starting iteration with limit=1000 skip=0 ...\u001b[0m\n"
     ]
    },
    {
     "name": "stdout",
     "output_type": "stream",
     "text": [
      "ur.01124234272.64 id has 44 patents\n",
      "641. Farouc Jaffer\n",
      "ur.01362671357.72\n"
     ]
    },
    {
     "name": "stderr",
     "output_type": "stream",
     "text": [
      "===\n",
      "Records extracted: 0\u001b[0m\n",
      "Starting iteration with limit=1000 skip=0 ...\u001b[0m\n"
     ]
    },
    {
     "name": "stdout",
     "output_type": "stream",
     "text": [
      "ur.01362671357.72 id has 0 patents\n",
      "642. Steven Kawut\n",
      "ur.011642263477.11\n"
     ]
    },
    {
     "name": "stderr",
     "output_type": "stream",
     "text": [
      "===\n",
      "Records extracted: 0\u001b[0m\n",
      "Starting iteration with limit=1000 skip=0 ...\u001b[0m\n"
     ]
    },
    {
     "name": "stdout",
     "output_type": "stream",
     "text": [
      "ur.011642263477.11 id has 0 patents\n",
      "643. Bryan Kestenbaum\n",
      "ur.0757222567.42\n"
     ]
    },
    {
     "name": "stderr",
     "output_type": "stream",
     "text": [
      "===\n",
      "Records extracted: 0\u001b[0m\n",
      "Starting iteration with limit=1000 skip=0 ...\u001b[0m\n"
     ]
    },
    {
     "name": "stdout",
     "output_type": "stream",
     "text": [
      "ur.0757222567.42 id has 0 patents\n",
      "644. Ivan Maillard\n",
      "ur.0762766274.13\n"
     ]
    },
    {
     "name": "stderr",
     "output_type": "stream",
     "text": [
      "0-16 / 16 (4.63s)\u001b[0m\n",
      "===\n",
      "Records extracted: 16\u001b[0m\n",
      "Starting iteration with limit=1000 skip=0 ...\u001b[0m\n"
     ]
    },
    {
     "name": "stdout",
     "output_type": "stream",
     "text": [
      "ur.0762766274.13 id has 16 patents\n",
      "645. Borna Mehrad\n",
      "ur.01161336657.05\n"
     ]
    },
    {
     "name": "stderr",
     "output_type": "stream",
     "text": [
      "0-9 / 9 (1.24s)\u001b[0m\n",
      "===\n",
      "Records extracted: 9\u001b[0m\n",
      "Starting iteration with limit=1000 skip=0 ...\u001b[0m\n"
     ]
    },
    {
     "name": "stdout",
     "output_type": "stream",
     "text": [
      "ur.01161336657.05 id has 9 patents\n",
      "646. Yaël Mossé\n",
      "ur.01150220444.39\n"
     ]
    },
    {
     "name": "stderr",
     "output_type": "stream",
     "text": [
      "0-26 / 26 (3.20s)\u001b[0m\n",
      "===\n",
      "Records extracted: 26\u001b[0m\n",
      "Starting iteration with limit=1000 skip=0 ...\u001b[0m\n"
     ]
    },
    {
     "name": "stdout",
     "output_type": "stream",
     "text": [
      "ur.01150220444.39 id has 26 patents\n",
      "647. Matthias Nahrendorf\n",
      "ur.01050777706.26\n"
     ]
    },
    {
     "name": "stderr",
     "output_type": "stream",
     "text": [
      "0-3 / 3 (6.02s)\u001b[0m\n",
      "===\n",
      "Records extracted: 3\u001b[0m\n",
      "Starting iteration with limit=1000 skip=0 ...\u001b[0m\n"
     ]
    },
    {
     "name": "stdout",
     "output_type": "stream",
     "text": [
      "ur.01050777706.26 id has 3 patents\n",
      "648. Puneet Opal\n",
      "ur.01225022325.73\n"
     ]
    },
    {
     "name": "stderr",
     "output_type": "stream",
     "text": [
      "0-25 / 25 (1.33s)\u001b[0m\n",
      "===\n",
      "Records extracted: 25\u001b[0m\n",
      "Starting iteration with limit=1000 skip=0 ...\u001b[0m\n"
     ]
    },
    {
     "name": "stdout",
     "output_type": "stream",
     "text": [
      "ur.01225022325.73 id has 25 patents\n",
      "649. Jean-Charles Soria\n",
      "ur.01201362637.02\n"
     ]
    },
    {
     "name": "stderr",
     "output_type": "stream",
     "text": [
      "0-1 / 1 (4.41s)\u001b[0m\n",
      "===\n",
      "Records extracted: 1\u001b[0m\n",
      "Starting iteration with limit=1000 skip=0 ...\u001b[0m\n"
     ]
    },
    {
     "name": "stdout",
     "output_type": "stream",
     "text": [
      "ur.01201362637.02 id has 1 patents\n",
      "650. Elizabeth Speliotes\n",
      "ur.0736447334.62\n"
     ]
    },
    {
     "name": "stderr",
     "output_type": "stream",
     "text": [
      "0-85 / 85 (1.37s)\u001b[0m\n",
      "===\n",
      "Records extracted: 85\u001b[0m\n",
      "Starting iteration with limit=1000 skip=0 ...\u001b[0m\n"
     ]
    },
    {
     "name": "stdout",
     "output_type": "stream",
     "text": [
      "ur.0736447334.62 id has 85 patents\n",
      "651. Hans-Guido Wendel\n",
      "ur.0664266345.68\n"
     ]
    },
    {
     "name": "stderr",
     "output_type": "stream",
     "text": [
      "0-2 / 2 (1.21s)\u001b[0m\n",
      "===\n",
      "Records extracted: 2\u001b[0m\n",
      "Starting iteration with limit=1000 skip=0 ...\u001b[0m\n"
     ]
    },
    {
     "name": "stdout",
     "output_type": "stream",
     "text": [
      "ur.0664266345.68 id has 2 patents\n",
      "652. Motoko Yanagita\n",
      "ur.01225632266.74\n"
     ]
    },
    {
     "name": "stderr",
     "output_type": "stream",
     "text": [
      "0-28 / 28 (4.63s)\u001b[0m\n",
      "===\n",
      "Records extracted: 28\u001b[0m\n",
      "Starting iteration with limit=1000 skip=0 ...\u001b[0m\n"
     ]
    },
    {
     "name": "stdout",
     "output_type": "stream",
     "text": [
      "ur.01225632266.74 id has 28 patents\n",
      "653. Gaorav Gupta\n",
      "ur.01231737377.70\n"
     ]
    },
    {
     "name": "stderr",
     "output_type": "stream",
     "text": [
      "0-40 / 40 (1.22s)\u001b[0m\n",
      "===\n",
      "Records extracted: 40\u001b[0m\n",
      "Starting iteration with limit=1000 skip=0 ...\u001b[0m\n"
     ]
    },
    {
     "name": "stdout",
     "output_type": "stream",
     "text": [
      "ur.01231737377.70 id has 40 patents\n",
      "654. Alex Kentsis\n",
      "ur.01152513476.12\n"
     ]
    },
    {
     "name": "stderr",
     "output_type": "stream",
     "text": [
      "===\n",
      "Records extracted: 0\u001b[0m\n",
      "Starting iteration with limit=1000 skip=0 ...\u001b[0m\n"
     ]
    },
    {
     "name": "stdout",
     "output_type": "stream",
     "text": [
      "ur.01152513476.12 id has 0 patents\n",
      "655. Jeniel Nett\n",
      "ur.01135543255.38\n"
     ]
    },
    {
     "name": "stderr",
     "output_type": "stream",
     "text": [
      "===\n",
      "Records extracted: 0\u001b[0m\n",
      "Starting iteration with limit=1000 skip=0 ...\u001b[0m\n"
     ]
    },
    {
     "name": "stdout",
     "output_type": "stream",
     "text": [
      "ur.01135543255.38 id has 0 patents\n",
      "656. Clara Abraham\n",
      "ur.0615726070.20\n"
     ]
    },
    {
     "name": "stderr",
     "output_type": "stream",
     "text": [
      "0-34 / 34 (1.32s)\u001b[0m\n",
      "===\n",
      "Records extracted: 34\u001b[0m\n",
      "Starting iteration with limit=1000 skip=0 ...\u001b[0m\n"
     ]
    },
    {
     "name": "stdout",
     "output_type": "stream",
     "text": [
      "ur.0615726070.20 id has 34 patents\n",
      "657. Rajendra Apte\n",
      "ur.01173334407.00\n"
     ]
    },
    {
     "name": "stderr",
     "output_type": "stream",
     "text": [
      "0-10 / 10 (4.63s)\u001b[0m\n",
      "===\n",
      "Records extracted: 10\u001b[0m\n",
      "Starting iteration with limit=1000 skip=0 ...\u001b[0m\n"
     ]
    },
    {
     "name": "stdout",
     "output_type": "stream",
     "text": [
      "ur.01173334407.00 id has 10 patents\n",
      "658. Hulya Bayir\n",
      "ur.01372672770.51\n"
     ]
    },
    {
     "name": "stderr",
     "output_type": "stream",
     "text": [
      "0-8 / 8 (1.42s)\u001b[0m\n",
      "===\n",
      "Records extracted: 8\u001b[0m\n",
      "Starting iteration with limit=1000 skip=0 ...\u001b[0m\n"
     ]
    },
    {
     "name": "stdout",
     "output_type": "stream",
     "text": [
      "ur.01372672770.51 id has 8 patents\n",
      "659. Alison Bertuch\n",
      "ur.010155215404.24\n"
     ]
    },
    {
     "name": "stderr",
     "output_type": "stream",
     "text": [
      "0-11 / 11 (4.22s)\u001b[0m\n",
      "===\n",
      "Records extracted: 11\u001b[0m\n",
      "Starting iteration with limit=1000 skip=0 ...\u001b[0m\n"
     ]
    },
    {
     "name": "stdout",
     "output_type": "stream",
     "text": [
      "ur.010155215404.24 id has 11 patents\n",
      "660. Jonathan Bogan\n",
      "ur.010140303337.54\n"
     ]
    },
    {
     "name": "stderr",
     "output_type": "stream",
     "text": [
      "===\n",
      "Records extracted: 0\u001b[0m\n",
      "Starting iteration with limit=1000 skip=0 ...\u001b[0m\n"
     ]
    },
    {
     "name": "stdout",
     "output_type": "stream",
     "text": [
      "ur.010140303337.54 id has 0 patents\n",
      "661. G.R. Budinger\n",
      "ur.01073273404.52\n"
     ]
    },
    {
     "name": "stderr",
     "output_type": "stream",
     "text": [
      "===\n",
      "Records extracted: 0\u001b[0m\n",
      "Starting iteration with limit=1000 skip=0 ...\u001b[0m\n"
     ]
    },
    {
     "name": "stdout",
     "output_type": "stream",
     "text": [
      "ur.01073273404.52 id has 0 patents\n",
      "662. Raphaela Goldbach-Mansky\n",
      "ur.01074505475.56\n"
     ]
    },
    {
     "name": "stderr",
     "output_type": "stream",
     "text": [
      "0-29 / 29 (1.23s)\u001b[0m\n",
      "===\n",
      "Records extracted: 29\u001b[0m\n",
      "Starting iteration with limit=1000 skip=0 ...\u001b[0m\n"
     ]
    },
    {
     "name": "stdout",
     "output_type": "stream",
     "text": [
      "ur.01074505475.56 id has 29 patents\n",
      "663. Eric Haura\n",
      "ur.012744603621.79\n"
     ]
    },
    {
     "name": "stderr",
     "output_type": "stream",
     "text": [
      "0-22 / 22 (4.41s)\u001b[0m\n",
      "===\n",
      "Records extracted: 22\u001b[0m\n",
      "Starting iteration with limit=1000 skip=0 ...\u001b[0m\n"
     ]
    },
    {
     "name": "stdout",
     "output_type": "stream",
     "text": [
      "ur.012744603621.79 id has 22 patents\n",
      "664. Gurjit Hershey\n",
      "ur.0746223072.08\n"
     ]
    },
    {
     "name": "stderr",
     "output_type": "stream",
     "text": [
      "0-1 / 1 (1.11s)\u001b[0m\n",
      "===\n",
      "Records extracted: 1\u001b[0m\n",
      "Starting iteration with limit=1000 skip=0 ...\u001b[0m\n"
     ]
    },
    {
     "name": "stdout",
     "output_type": "stream",
     "text": [
      "ur.0746223072.08 id has 1 patents\n",
      "665. Ken Inoki\n",
      "ur.011404773207.41\n"
     ]
    },
    {
     "name": "stderr",
     "output_type": "stream",
     "text": [
      "===\n",
      "Records extracted: 0\u001b[0m\n",
      "Starting iteration with limit=1000 skip=0 ...\u001b[0m\n"
     ]
    },
    {
     "name": "stdout",
     "output_type": "stream",
     "text": [
      "ur.011404773207.41 id has 0 patents\n",
      "666. Catherine Keegan\n",
      "ur.01230603732.44\n"
     ]
    },
    {
     "name": "stderr",
     "output_type": "stream",
     "text": [
      "===\n",
      "Records extracted: 0\u001b[0m\n",
      "Starting iteration with limit=1000 skip=0 ...\u001b[0m\n"
     ]
    },
    {
     "name": "stdout",
     "output_type": "stream",
     "text": [
      "ur.01230603732.44 id has 0 patents\n",
      "667. Celina Kleer\n",
      "ur.0647564343.25\n"
     ]
    },
    {
     "name": "stderr",
     "output_type": "stream",
     "text": [
      "===\n",
      "Records extracted: 0\u001b[0m\n",
      "Starting iteration with limit=1000 skip=0 ...\u001b[0m\n"
     ]
    },
    {
     "name": "stdout",
     "output_type": "stream",
     "text": [
      "ur.0647564343.25 id has 0 patents\n",
      "668. Kenneth Langa\n",
      "ur.01251027006.99\n"
     ]
    },
    {
     "name": "stderr",
     "output_type": "stream",
     "text": [
      "===\n",
      "Records extracted: 0\u001b[0m\n",
      "Starting iteration with limit=1000 skip=0 ...\u001b[0m\n"
     ]
    },
    {
     "name": "stdout",
     "output_type": "stream",
     "text": [
      "ur.01251027006.99 id has 0 patents\n",
      "669. Frederick Masoudi\n",
      "ur.0640007770.66\n"
     ]
    },
    {
     "name": "stderr",
     "output_type": "stream",
     "text": [
      "0-31 / 31 (1.23s)\u001b[0m\n",
      "===\n",
      "Records extracted: 31\u001b[0m\n",
      "Starting iteration with limit=1000 skip=0 ...\u001b[0m\n"
     ]
    },
    {
     "name": "stdout",
     "output_type": "stream",
     "text": [
      "ur.0640007770.66 id has 31 patents\n",
      "670. Linda McAllister-Lucas\n",
      "ur.01245651625.97\n"
     ]
    },
    {
     "name": "stderr",
     "output_type": "stream",
     "text": [
      "0-82 / 82 (3.62s)\u001b[0m\n",
      "===\n",
      "Records extracted: 82\u001b[0m\n",
      "Starting iteration with limit=1000 skip=0 ...\u001b[0m\n"
     ]
    },
    {
     "name": "stdout",
     "output_type": "stream",
     "text": [
      "ur.01245651625.97 id has 82 patents\n",
      "671. Leonid Metelitsa\n",
      "ur.014260320207.36\n"
     ]
    },
    {
     "name": "stderr",
     "output_type": "stream",
     "text": [
      "0-3 / 3 (5.71s)\u001b[0m\n",
      "===\n",
      "Records extracted: 3\u001b[0m\n",
      "Starting iteration with limit=1000 skip=0 ...\u001b[0m\n"
     ]
    },
    {
     "name": "stdout",
     "output_type": "stream",
     "text": [
      "ur.014260320207.36 id has 3 patents\n",
      "672. Ivan Moskowitz\n",
      "ur.0717057310.23\n"
     ]
    },
    {
     "name": "stderr",
     "output_type": "stream",
     "text": [
      "0-16 / 16 (6.14s)\u001b[0m\n",
      "===\n",
      "Records extracted: 16\u001b[0m\n",
      "Starting iteration with limit=1000 skip=0 ...\u001b[0m\n"
     ]
    },
    {
     "name": "stdout",
     "output_type": "stream",
     "text": [
      "ur.0717057310.23 id has 16 patents\n",
      "673. Paul Nghiem\n",
      "ur.01364051402.81\n"
     ]
    },
    {
     "name": "stderr",
     "output_type": "stream",
     "text": [
      "0-35 / 35 (1.31s)\u001b[0m\n",
      "===\n",
      "Records extracted: 35\u001b[0m\n",
      "Starting iteration with limit=1000 skip=0 ...\u001b[0m\n"
     ]
    },
    {
     "name": "stdout",
     "output_type": "stream",
     "text": [
      "ur.01364051402.81 id has 35 patents\n",
      "674. Mark Nicolls\n",
      "ur.01006336021.57\n"
     ]
    },
    {
     "name": "stderr",
     "output_type": "stream",
     "text": [
      "===\n",
      "Records extracted: 0\u001b[0m\n",
      "Starting iteration with limit=1000 skip=0 ...\u001b[0m\n"
     ]
    },
    {
     "name": "stdout",
     "output_type": "stream",
     "text": [
      "ur.01006336021.57 id has 0 patents\n",
      "675. Shuji Ogino\n",
      "ur.0707544173.95\n"
     ]
    },
    {
     "name": "stderr",
     "output_type": "stream",
     "text": [
      "0-20 / 20 (6.10s)\u001b[0m\n",
      "===\n",
      "Records extracted: 20\u001b[0m\n",
      "Starting iteration with limit=1000 skip=0 ...\u001b[0m\n"
     ]
    },
    {
     "name": "stdout",
     "output_type": "stream",
     "text": [
      "ur.0707544173.95 id has 20 patents\n",
      "676. Sophie Paczesny\n",
      "ur.01053445115.29\n"
     ]
    },
    {
     "name": "stderr",
     "output_type": "stream",
     "text": [
      "===\n",
      "Records extracted: 0\u001b[0m\n",
      "Starting iteration with limit=1000 skip=0 ...\u001b[0m\n"
     ]
    },
    {
     "name": "stdout",
     "output_type": "stream",
     "text": [
      "ur.01053445115.29 id has 0 patents\n",
      "677. Akhilesh Reddy\n",
      "ur.015226365724.06\n"
     ]
    },
    {
     "name": "stderr",
     "output_type": "stream",
     "text": [
      "0-3 / 3 (1.24s)\u001b[0m\n",
      "===\n",
      "Records extracted: 3\u001b[0m\n",
      "Starting iteration with limit=1000 skip=0 ...\u001b[0m\n"
     ]
    },
    {
     "name": "stdout",
     "output_type": "stream",
     "text": [
      "ur.015226365724.06 id has 3 patents\n",
      "678. Amr Sawalha\n",
      "ur.01155621056.58\n"
     ]
    },
    {
     "name": "stderr",
     "output_type": "stream",
     "text": [
      "0-28 / 28 (3.39s)\u001b[0m\n",
      "===\n",
      "Records extracted: 28\u001b[0m\n",
      "Starting iteration with limit=1000 skip=0 ...\u001b[0m\n"
     ]
    },
    {
     "name": "stdout",
     "output_type": "stream",
     "text": [
      "ur.01155621056.58 id has 28 patents\n",
      "679. Hans-Willem Snoeck\n",
      "ur.0642253700.03\n"
     ]
    },
    {
     "name": "stderr",
     "output_type": "stream",
     "text": [
      "0-303 / 303 (2.30s)\u001b[0m\n",
      "===\n",
      "Records extracted: 303\u001b[0m\n",
      "Starting iteration with limit=1000 skip=0 ...\u001b[0m\n"
     ]
    },
    {
     "name": "stdout",
     "output_type": "stream",
     "text": [
      "ur.0642253700.03 id has 303 patents\n",
      "680. Lorenz Studer\n",
      "ur.01127720751.27\n"
     ]
    },
    {
     "name": "stderr",
     "output_type": "stream",
     "text": [
      "0-17 / 17 (5.06s)\u001b[0m\n",
      "===\n",
      "Records extracted: 17\u001b[0m\n",
      "Starting iteration with limit=1000 skip=0 ...\u001b[0m\n"
     ]
    },
    {
     "name": "stdout",
     "output_type": "stream",
     "text": [
      "ur.01127720751.27 id has 17 patents\n",
      "681. Viviane Tabar\n",
      "ur.01115624740.06\n"
     ]
    },
    {
     "name": "stderr",
     "output_type": "stream",
     "text": [
      "0-1 / 1 (1.22s)\u001b[0m\n",
      "===\n",
      "Records extracted: 1\u001b[0m\n",
      "Starting iteration with limit=1000 skip=0 ...\u001b[0m\n"
     ]
    },
    {
     "name": "stdout",
     "output_type": "stream",
     "text": [
      "ur.01115624740.06 id has 1 patents\n",
      "682. Jens Titze\n",
      "ur.01245573343.45\n"
     ]
    },
    {
     "name": "stderr",
     "output_type": "stream",
     "text": [
      "0-5 / 5 (1.25s)\u001b[0m\n",
      "===\n",
      "Records extracted: 5\u001b[0m\n",
      "Starting iteration with limit=1000 skip=0 ...\u001b[0m\n"
     ]
    },
    {
     "name": "stdout",
     "output_type": "stream",
     "text": [
      "ur.01245573343.45 id has 5 patents\n",
      "683. Natalie Török\n",
      "ur.01035051773.68\n"
     ]
    },
    {
     "name": "stderr",
     "output_type": "stream",
     "text": [
      "0-6 / 6 (1.99s)\u001b[0m\n",
      "===\n",
      "Records extracted: 6\u001b[0m\n",
      "Starting iteration with limit=1000 skip=0 ...\u001b[0m\n"
     ]
    },
    {
     "name": "stdout",
     "output_type": "stream",
     "text": [
      "ur.01035051773.68 id has 6 patents\n",
      "684. Sing Way\n",
      "ur.0645565266.33\n"
     ]
    },
    {
     "name": "stderr",
     "output_type": "stream",
     "text": [
      "0-442 / 442 (2.25s)\u001b[0m\n",
      "===\n",
      "Records extracted: 442\u001b[0m\n",
      "Starting iteration with limit=1000 skip=0 ...\u001b[0m\n"
     ]
    },
    {
     "name": "stdout",
     "output_type": "stream",
     "text": [
      "ur.0645565266.33 id has 442 patents\n",
      "685. Jedd Wolchok\n",
      "ur.0764061137.20\n"
     ]
    },
    {
     "name": "stderr",
     "output_type": "stream",
     "text": [
      "===\n",
      "Records extracted: 0\u001b[0m\n",
      "Starting iteration with limit=1000 skip=0 ...\u001b[0m\n"
     ]
    },
    {
     "name": "stdout",
     "output_type": "stream",
     "text": [
      "ur.0764061137.20 id has 0 patents\n",
      "686. Theresa Alenghat\n",
      "ur.01132010630.04\n"
     ]
    },
    {
     "name": "stderr",
     "output_type": "stream",
     "text": [
      "===\n",
      "Records extracted: 0\u001b[0m\n",
      "Starting iteration with limit=1000 skip=0 ...\u001b[0m\n"
     ]
    },
    {
     "name": "stdout",
     "output_type": "stream",
     "text": [
      "ur.01132010630.04 id has 0 patents\n",
      "687. Christina Barkauskas\n",
      "ur.0733255332.16\n"
     ]
    },
    {
     "name": "stderr",
     "output_type": "stream",
     "text": [
      "===\n",
      "Records extracted: 0\u001b[0m\n",
      "Starting iteration with limit=1000 skip=0 ...\u001b[0m\n"
     ]
    },
    {
     "name": "stdout",
     "output_type": "stream",
     "text": [
      "ur.0733255332.16 id has 0 patents\n",
      "688. Ethan Goldberg\n",
      "ur.0576400340.12\n"
     ]
    },
    {
     "name": "stderr",
     "output_type": "stream",
     "text": [
      "0-1 / 1 (1.15s)\u001b[0m\n",
      "===\n",
      "Records extracted: 1\u001b[0m\n",
      "Starting iteration with limit=1000 skip=0 ...\u001b[0m\n"
     ]
    },
    {
     "name": "stdout",
     "output_type": "stream",
     "text": [
      "ur.0576400340.12 id has 1 patents\n",
      "689. Jeffery Klco\n",
      "ur.0607534146.06\n"
     ]
    },
    {
     "name": "stderr",
     "output_type": "stream",
     "text": [
      "===\n",
      "Records extracted: 0\u001b[0m\n",
      "Starting iteration with limit=1000 skip=0 ...\u001b[0m\n"
     ]
    },
    {
     "name": "stdout",
     "output_type": "stream",
     "text": [
      "ur.0607534146.06 id has 0 patents\n",
      "690. Anita McElroy\n",
      "ur.01146061502.40\n"
     ]
    },
    {
     "name": "stderr",
     "output_type": "stream",
     "text": [
      "0-11 / 11 (1.33s)\u001b[0m\n",
      "===\n",
      "Records extracted: 11\u001b[0m\n",
      "Starting iteration with limit=1000 skip=0 ...\u001b[0m\n"
     ]
    },
    {
     "name": "stdout",
     "output_type": "stream",
     "text": [
      "ur.01146061502.40 id has 11 patents\n",
      "691. Sudarshan Rajagopal\n",
      "ur.016324315037.55\n"
     ]
    },
    {
     "name": "stderr",
     "output_type": "stream",
     "text": [
      "0-23 / 23 (3.40s)\u001b[0m\n",
      "===\n",
      "Records extracted: 23\u001b[0m\n",
      "Starting iteration with limit=1000 skip=0 ...\u001b[0m\n"
     ]
    },
    {
     "name": "stdout",
     "output_type": "stream",
     "text": [
      "ur.016324315037.55 id has 23 patents\n",
      "692. Christine Iacobuzio-Donahue\n",
      "ur.01371400664.16\n"
     ]
    },
    {
     "name": "stderr",
     "output_type": "stream",
     "text": [
      "0-145 / 145 (1.61s)\u001b[0m\n",
      "===\n",
      "Records extracted: 145\u001b[0m\n",
      "Starting iteration with limit=1000 skip=0 ...\u001b[0m\n"
     ]
    },
    {
     "name": "stdout",
     "output_type": "stream",
     "text": [
      "ur.01371400664.16 id has 145 patents\n",
      "693. Sohail Tavazoie\n",
      "ur.01054735246.72\n"
     ]
    },
    {
     "name": "stderr",
     "output_type": "stream",
     "text": [
      "===\n",
      "Records extracted: 0\u001b[0m\n",
      "Starting iteration with limit=1000 skip=0 ...\u001b[0m\n"
     ]
    },
    {
     "name": "stdout",
     "output_type": "stream",
     "text": [
      "ur.01054735246.72 id has 0 patents\n",
      "694. Jennifer Temel\n",
      "ur.01063436237.05\n"
     ]
    },
    {
     "name": "stderr",
     "output_type": "stream",
     "text": [
      "0-46 / 46 (4.77s)\u001b[0m\n",
      "===\n",
      "Records extracted: 46\u001b[0m\n",
      "Starting iteration with limit=1000 skip=0 ...\u001b[0m\n"
     ]
    },
    {
     "name": "stdout",
     "output_type": "stream",
     "text": [
      "ur.01063436237.05 id has 46 patents\n",
      "695. Muneesh Tewari\n",
      "ur.01217717045.90\n"
     ]
    },
    {
     "name": "stderr",
     "output_type": "stream",
     "text": [
      "0-19 / 19 (1.35s)\u001b[0m\n",
      "===\n",
      "Records extracted: 19\u001b[0m\n",
      "Starting iteration with limit=1000 skip=0 ...\u001b[0m\n"
     ]
    },
    {
     "name": "stdout",
     "output_type": "stream",
     "text": [
      "ur.01217717045.90 id has 19 patents\n",
      "696. Manish Aghi\n",
      "ur.0734561146.72\n"
     ]
    },
    {
     "name": "stderr",
     "output_type": "stream",
     "text": [
      "0-45 / 45 (1.57s)\u001b[0m\n",
      "===\n",
      "Records extracted: 45\u001b[0m\n",
      "Starting iteration with limit=1000 skip=0 ...\u001b[0m\n"
     ]
    },
    {
     "name": "stdout",
     "output_type": "stream",
     "text": [
      "ur.0734561146.72 id has 45 patents\n",
      "697. Ravi Amaravadi\n",
      "ur.01325214006.43\n"
     ]
    },
    {
     "name": "stderr",
     "output_type": "stream",
     "text": [
      "===\n",
      "Records extracted: 0\u001b[0m\n",
      "Starting iteration with limit=1000 skip=0 ...\u001b[0m\n"
     ]
    },
    {
     "name": "stdout",
     "output_type": "stream",
     "text": [
      "ur.01325214006.43 id has 0 patents\n",
      "698. Jennifer Anolik\n",
      "ur.0620010140.17\n"
     ]
    },
    {
     "name": "stderr",
     "output_type": "stream",
     "text": [
      "===\n",
      "Records extracted: 0\u001b[0m\n",
      "Starting iteration with limit=1000 skip=0 ...\u001b[0m\n"
     ]
    },
    {
     "name": "stdout",
     "output_type": "stream",
     "text": [
      "ur.0620010140.17 id has 0 patents\n",
      "699. Elliott Bennett-Guerrero\n",
      "ur.01105315753.95\n"
     ]
    },
    {
     "name": "stderr",
     "output_type": "stream",
     "text": [
      "0-8 / 8 (4.79s)\u001b[0m\n",
      "===\n",
      "Records extracted: 8\u001b[0m\n",
      "Starting iteration with limit=1000 skip=0 ...\u001b[0m\n"
     ]
    },
    {
     "name": "stdout",
     "output_type": "stream",
     "text": [
      "ur.01105315753.95 id has 8 patents\n",
      "700. Thomas Benzing\n",
      "ur.01263050511.77\n"
     ]
    },
    {
     "name": "stderr",
     "output_type": "stream",
     "text": [
      "0-366 / 366 (2.05s)\u001b[0m\n",
      "===\n",
      "Records extracted: 366\u001b[0m\n",
      "Starting iteration with limit=1000 skip=0 ...\u001b[0m\n"
     ]
    },
    {
     "name": "stdout",
     "output_type": "stream",
     "text": [
      "ur.01263050511.77 id has 366 patents\n",
      "701. Renier Brentjens\n",
      "ur.0722037512.05\n"
     ]
    },
    {
     "name": "stderr",
     "output_type": "stream",
     "text": [
      "0-6 / 6 (1.23s)\u001b[0m\n",
      "===\n",
      "Records extracted: 6\u001b[0m\n",
      "Starting iteration with limit=1000 skip=0 ...\u001b[0m\n"
     ]
    },
    {
     "name": "stdout",
     "output_type": "stream",
     "text": [
      "ur.0722037512.05 id has 6 patents\n",
      "702. Michael Fessler\n",
      "ur.015356647617.45\n"
     ]
    },
    {
     "name": "stderr",
     "output_type": "stream",
     "text": [
      "0-4 / 4 (1.22s)\u001b[0m\n",
      "===\n",
      "Records extracted: 4\u001b[0m\n",
      "Starting iteration with limit=1000 skip=0 ...\u001b[0m\n"
     ]
    },
    {
     "name": "stdout",
     "output_type": "stream",
     "text": [
      "ur.015356647617.45 id has 4 patents\n",
      "703. Joachim Ix\n",
      "ur.01210461443.18\n"
     ]
    },
    {
     "name": "stderr",
     "output_type": "stream",
     "text": [
      "0-19 / 19 (4.66s)\u001b[0m\n",
      "===\n",
      "Records extracted: 19\u001b[0m\n",
      "Starting iteration with limit=1000 skip=0 ...\u001b[0m\n"
     ]
    },
    {
     "name": "stdout",
     "output_type": "stream",
     "text": [
      "ur.01210461443.18 id has 19 patents\n",
      "704. Alec Kimmelman\n",
      "ur.01244566417.20\n"
     ]
    },
    {
     "name": "stderr",
     "output_type": "stream",
     "text": [
      "0-92 / 92 (1.59s)\u001b[0m\n",
      "===\n",
      "Records extracted: 92\u001b[0m\n",
      "Starting iteration with limit=1000 skip=0 ...\u001b[0m\n"
     ]
    },
    {
     "name": "stdout",
     "output_type": "stream",
     "text": [
      "ur.01244566417.20 id has 92 patents\n",
      "705. Atsushi Kumanogoh\n",
      "ur.01001144433.77\n"
     ]
    },
    {
     "name": "stderr",
     "output_type": "stream",
     "text": [
      "0-10 / 10 (2.94s)\u001b[0m\n",
      "===\n",
      "Records extracted: 10\u001b[0m\n",
      "Starting iteration with limit=1000 skip=0 ...\u001b[0m\n"
     ]
    },
    {
     "name": "stdout",
     "output_type": "stream",
     "text": [
      "ur.01001144433.77 id has 10 patents\n",
      "706. Mathias Lichterfeld\n",
      "ur.011567734677.67\n"
     ]
    },
    {
     "name": "stderr",
     "output_type": "stream",
     "text": [
      "0-5 / 5 (1.23s)\u001b[0m\n",
      "===\n",
      "Records extracted: 5\u001b[0m\n",
      "Starting iteration with limit=1000 skip=0 ...\u001b[0m\n"
     ]
    },
    {
     "name": "stdout",
     "output_type": "stream",
     "text": [
      "ur.011567734677.67 id has 5 patents\n",
      "707. Steven Lipkin\n",
      "ur.0737642720.88\n"
     ]
    },
    {
     "name": "stderr",
     "output_type": "stream",
     "text": [
      "0-14 / 14 (4.73s)\u001b[0m\n",
      "===\n",
      "Records extracted: 14\u001b[0m\n",
      "Starting iteration with limit=1000 skip=0 ...\u001b[0m\n"
     ]
    },
    {
     "name": "stdout",
     "output_type": "stream",
     "text": [
      "ur.0737642720.88 id has 14 patents\n",
      "708. Thorsten Mempel\n",
      "ur.0607153637.02\n"
     ]
    },
    {
     "name": "stderr",
     "output_type": "stream",
     "text": [
      "0-3 / 3 (1.22s)\u001b[0m\n",
      "===\n",
      "Records extracted: 3\u001b[0m\n",
      "Starting iteration with limit=1000 skip=0 ...\u001b[0m\n"
     ]
    },
    {
     "name": "stdout",
     "output_type": "stream",
     "text": [
      "ur.0607153637.02 id has 3 patents\n",
      "709. János Peti-Peterdi\n",
      "ur.0660041130.56\n"
     ]
    },
    {
     "name": "stderr",
     "output_type": "stream",
     "text": [
      "0-6 / 6 (3.16s)\u001b[0m\n",
      "===\n",
      "Records extracted: 6\u001b[0m\n",
      "Starting iteration with limit=1000 skip=0 ...\u001b[0m\n"
     ]
    },
    {
     "name": "stdout",
     "output_type": "stream",
     "text": [
      "ur.0660041130.56 id has 6 patents\n",
      "710. Ekihiro Seki\n",
      "ur.01051711774.08\n"
     ]
    },
    {
     "name": "stderr",
     "output_type": "stream",
     "text": [
      "===\n",
      "Records extracted: 0\u001b[0m\n",
      "Starting iteration with limit=1000 skip=0 ...\u001b[0m\n"
     ]
    },
    {
     "name": "stdout",
     "output_type": "stream",
     "text": [
      "ur.01051711774.08 id has 0 patents\n",
      "711. William Steinbach\n",
      "ur.01315205133.09\n"
     ]
    },
    {
     "name": "stderr",
     "output_type": "stream",
     "text": [
      "===\n",
      "Records extracted: 0\u001b[0m\n",
      "Starting iteration with limit=1000 skip=0 ...\u001b[0m\n"
     ]
    },
    {
     "name": "stdout",
     "output_type": "stream",
     "text": [
      "ur.01315205133.09 id has 0 patents\n",
      "712. Lynda Stuart\n",
      "ur.01354524121.05\n"
     ]
    },
    {
     "name": "stderr",
     "output_type": "stream",
     "text": [
      "===\n",
      "Records extracted: 0\u001b[0m\n",
      "Starting iteration with limit=1000 skip=0 ...\u001b[0m\n"
     ]
    },
    {
     "name": "stdout",
     "output_type": "stream",
     "text": [
      "ur.01354524121.05 id has 0 patents\n",
      "713. Wolfgang Winkelmayer\n",
      "ur.0604042027.56\n"
     ]
    },
    {
     "name": "stderr",
     "output_type": "stream",
     "text": [
      "===\n",
      "Records extracted: 0\u001b[0m\n",
      "Starting iteration with limit=1000 skip=0 ...\u001b[0m\n"
     ]
    },
    {
     "name": "stdout",
     "output_type": "stream",
     "text": [
      "ur.0604042027.56 id has 0 patents\n",
      "714. Jennifer Alexander-Brett\n",
      "ur.01330767377.02\n"
     ]
    },
    {
     "name": "stderr",
     "output_type": "stream",
     "text": [
      "0-49 / 49 (3.62s)\u001b[0m\n",
      "===\n",
      "Records extracted: 49\u001b[0m\n",
      "Starting iteration with limit=1000 skip=0 ...\u001b[0m\n"
     ]
    },
    {
     "name": "stdout",
     "output_type": "stream",
     "text": [
      "ur.01330767377.02 id has 49 patents\n",
      "715. Shadmehr Demehri\n",
      "ur.01051561736.35\n"
     ]
    },
    {
     "name": "stderr",
     "output_type": "stream",
     "text": [
      "0-20 / 20 (1.33s)\u001b[0m\n",
      "===\n",
      "Records extracted: 20\u001b[0m\n",
      "Starting iteration with limit=1000 skip=0 ...\u001b[0m\n"
     ]
    },
    {
     "name": "stdout",
     "output_type": "stream",
     "text": [
      "ur.01051561736.35 id has 20 patents\n",
      "716. Charles Gawad\n",
      "ur.01212603713.24\n"
     ]
    },
    {
     "name": "stderr",
     "output_type": "stream",
     "text": [
      "===\n",
      "Records extracted: 0\u001b[0m\n",
      "Starting iteration with limit=1000 skip=0 ...\u001b[0m\n"
     ]
    },
    {
     "name": "stdout",
     "output_type": "stream",
     "text": [
      "ur.01212603713.24 id has 0 patents\n",
      "717. Kory Lavine\n",
      "ur.01167764670.05\n"
     ]
    },
    {
     "name": "stderr",
     "output_type": "stream",
     "text": [
      "===\n",
      "Records extracted: 0\u001b[0m\n",
      "Starting iteration with limit=1000 skip=0 ...\u001b[0m\n"
     ]
    },
    {
     "name": "stdout",
     "output_type": "stream",
     "text": [
      "ur.01167764670.05 id has 0 patents\n",
      "718. Bluma Lesch\n",
      "ur.0737541257.66\n"
     ]
    },
    {
     "name": "stderr",
     "output_type": "stream",
     "text": [
      "0-3 / 3 (1.12s)\u001b[0m\n",
      "===\n",
      "Records extracted: 3\u001b[0m\n",
      "Starting iteration with limit=1000 skip=0 ...\u001b[0m\n"
     ]
    },
    {
     "name": "stdout",
     "output_type": "stream",
     "text": [
      "ur.0737541257.66 id has 3 patents\n",
      "719. Anna Molofsky\n",
      "ur.0646602476.63\n"
     ]
    },
    {
     "name": "stderr",
     "output_type": "stream",
     "text": [
      "===\n",
      "Records extracted: 0\u001b[0m\n",
      "Starting iteration with limit=1000 skip=0 ...\u001b[0m\n"
     ]
    },
    {
     "name": "stdout",
     "output_type": "stream",
     "text": [
      "ur.0646602476.63 id has 0 patents\n",
      "720. Sahar Nissim\n",
      "ur.0626731255.90\n"
     ]
    },
    {
     "name": "stderr",
     "output_type": "stream",
     "text": [
      "0-3 / 3 (1.20s)\u001b[0m\n",
      "===\n",
      "Records extracted: 3\u001b[0m\n",
      "Starting iteration with limit=1000 skip=0 ...\u001b[0m\n"
     ]
    },
    {
     "name": "stdout",
     "output_type": "stream",
     "text": [
      "ur.0626731255.90 id has 3 patents\n",
      "721. Vahid Afshar-Kharghan\n",
      "ur.013531474347.30\n"
     ]
    },
    {
     "name": "stderr",
     "output_type": "stream",
     "text": [
      "0-101 / 101 (1.42s)\u001b[0m\n",
      "===\n",
      "Records extracted: 101\u001b[0m\n",
      "Starting iteration with limit=1000 skip=0 ...\u001b[0m\n"
     ]
    },
    {
     "name": "stdout",
     "output_type": "stream",
     "text": [
      "ur.013531474347.30 id has 101 patents\n",
      "722. Balamurali Ambati\n",
      "ur.010514764655.00\n"
     ]
    },
    {
     "name": "stderr",
     "output_type": "stream",
     "text": [
      "0-19 / 19 (1.68s)\u001b[0m\n",
      "===\n",
      "Records extracted: 19\u001b[0m\n",
      "Starting iteration with limit=1000 skip=0 ...\u001b[0m\n"
     ]
    },
    {
     "name": "stdout",
     "output_type": "stream",
     "text": [
      "ur.010514764655.00 id has 19 patents\n",
      "723. Joseph Arron\n",
      "ur.0770545255.39\n"
     ]
    },
    {
     "name": "stderr",
     "output_type": "stream",
     "text": [
      "===\n",
      "Records extracted: 0\u001b[0m\n",
      "Starting iteration with limit=1000 skip=0 ...\u001b[0m\n"
     ]
    },
    {
     "name": "stdout",
     "output_type": "stream",
     "text": [
      "ur.0770545255.39 id has 0 patents\n",
      "724. Kamran Atabai\n",
      "ur.0666534530.94\n"
     ]
    },
    {
     "name": "stderr",
     "output_type": "stream",
     "text": [
      "0-12 / 12 (1.37s)\u001b[0m\n",
      "===\n",
      "Records extracted: 12\u001b[0m\n",
      "Starting iteration with limit=1000 skip=0 ...\u001b[0m\n"
     ]
    },
    {
     "name": "stdout",
     "output_type": "stream",
     "text": [
      "ur.0666534530.94 id has 12 patents\n",
      "725. Jasmohan Bajaj\n",
      "ur.01025720552.73\n"
     ]
    },
    {
     "name": "stderr",
     "output_type": "stream",
     "text": [
      "0-27 / 27 (1.34s)\u001b[0m\n",
      "===\n",
      "Records extracted: 27\u001b[0m\n",
      "Starting iteration with limit=1000 skip=0 ...\u001b[0m\n"
     ]
    },
    {
     "name": "stdout",
     "output_type": "stream",
     "text": [
      "ur.01025720552.73 id has 27 patents\n",
      "726. Trever Bivona\n",
      "ur.01214745664.12\n"
     ]
    },
    {
     "name": "stderr",
     "output_type": "stream",
     "text": [
      "0-3 / 3 (4.38s)\u001b[0m\n",
      "===\n",
      "Records extracted: 3\u001b[0m\n",
      "Starting iteration with limit=1000 skip=0 ...\u001b[0m\n"
     ]
    },
    {
     "name": "stdout",
     "output_type": "stream",
     "text": [
      "ur.01214745664.12 id has 3 patents\n",
      "727. Catherine Blish\n",
      "ur.01125360070.51\n"
     ]
    },
    {
     "name": "stderr",
     "output_type": "stream",
     "text": [
      "0-6 / 6 (1.28s)\u001b[0m\n",
      "===\n",
      "Records extracted: 6\u001b[0m\n",
      "Starting iteration with limit=1000 skip=0 ...\u001b[0m\n"
     ]
    },
    {
     "name": "stdout",
     "output_type": "stream",
     "text": [
      "ur.01125360070.51 id has 6 patents\n",
      "728. Keith Choate\n",
      "ur.01137202377.23\n"
     ]
    },
    {
     "name": "stderr",
     "output_type": "stream",
     "text": [
      "0-1 / 1 (3.29s)\u001b[0m\n",
      "===\n",
      "Records extracted: 1\u001b[0m\n",
      "Starting iteration with limit=1000 skip=0 ...\u001b[0m\n"
     ]
    },
    {
     "name": "stdout",
     "output_type": "stream",
     "text": [
      "ur.01137202377.23 id has 1 patents\n",
      "729. Wonder Drake\n",
      "ur.01127416463.40\n"
     ]
    },
    {
     "name": "stderr",
     "output_type": "stream",
     "text": [
      "0-2 / 2 (5.92s)\u001b[0m\n",
      "===\n",
      "Records extracted: 2\u001b[0m\n",
      "Starting iteration with limit=1000 skip=0 ...\u001b[0m\n"
     ]
    },
    {
     "name": "stdout",
     "output_type": "stream",
     "text": [
      "ur.01127416463.40 id has 2 patents\n",
      "730. Elia Duh\n",
      "ur.01346061322.31\n"
     ]
    },
    {
     "name": "stderr",
     "output_type": "stream",
     "text": [
      "0-13 / 13 (1.27s)\u001b[0m\n",
      "===\n",
      "Records extracted: 13\u001b[0m\n",
      "Starting iteration with limit=1000 skip=0 ...\u001b[0m\n"
     ]
    },
    {
     "name": "stdout",
     "output_type": "stream",
     "text": [
      "ur.01346061322.31 id has 13 patents\n",
      "731. Todd Fehniger\n",
      "ur.0673633560.16\n"
     ]
    },
    {
     "name": "stderr",
     "output_type": "stream",
     "text": [
      "0-50 / 50 (3.44s)\u001b[0m\n",
      "===\n",
      "Records extracted: 50\u001b[0m\n",
      "Starting iteration with limit=1000 skip=0 ...\u001b[0m\n"
     ]
    },
    {
     "name": "stdout",
     "output_type": "stream",
     "text": [
      "ur.0673633560.16 id has 50 patents\n",
      "732. Hitinder Gurm\n",
      "ur.0730532315.48\n"
     ]
    },
    {
     "name": "stderr",
     "output_type": "stream",
     "text": [
      "0-41 / 41 (1.32s)\u001b[0m\n",
      "===\n",
      "Records extracted: 41\u001b[0m\n",
      "Starting iteration with limit=1000 skip=0 ...\u001b[0m\n"
     ]
    },
    {
     "name": "stdout",
     "output_type": "stream",
     "text": [
      "ur.0730532315.48 id has 41 patents\n",
      "733. Melina Kibbe\n",
      "ur.0772067763.56\n"
     ]
    },
    {
     "name": "stderr",
     "output_type": "stream",
     "text": [
      "===\n",
      "Records extracted: 0\u001b[0m\n",
      "Starting iteration with limit=1000 skip=0 ...\u001b[0m\n"
     ]
    },
    {
     "name": "stdout",
     "output_type": "stream",
     "text": [
      "ur.0772067763.56 id has 0 patents\n",
      "734. Pamela Ling\n",
      "ur.01065126442.79\n"
     ]
    },
    {
     "name": "stderr",
     "output_type": "stream",
     "text": [
      "0-6 / 6 (1.05s)\u001b[0m\n",
      "===\n",
      "Records extracted: 6\u001b[0m\n",
      "Starting iteration with limit=1000 skip=0 ...\u001b[0m\n"
     ]
    },
    {
     "name": "stdout",
     "output_type": "stream",
     "text": [
      "ur.01065126442.79 id has 6 patents\n",
      "735. Funda Meric-Bernstam\n",
      "ur.01304251301.12\n"
     ]
    },
    {
     "name": "stderr",
     "output_type": "stream",
     "text": [
      "0-26 / 26 (2.19s)\u001b[0m\n",
      "===\n",
      "Records extracted: 26\u001b[0m\n",
      "Starting iteration with limit=1000 skip=0 ...\u001b[0m\n"
     ]
    },
    {
     "name": "stdout",
     "output_type": "stream",
     "text": [
      "ur.01304251301.12 id has 26 patents\n",
      "736. Andy Minn\n",
      "ur.0653420277.08\n"
     ]
    },
    {
     "name": "stderr",
     "output_type": "stream",
     "text": [
      "0-15 / 15 (6.02s)\u001b[0m\n",
      "===\n",
      "Records extracted: 15\u001b[0m\n",
      "Starting iteration with limit=1000 skip=0 ...\u001b[0m\n"
     ]
    },
    {
     "name": "stdout",
     "output_type": "stream",
     "text": [
      "ur.0653420277.08 id has 15 patents\n",
      "737. Sallie Permar\n",
      "ur.01356377717.79\n"
     ]
    },
    {
     "name": "stderr",
     "output_type": "stream",
     "text": [
      "===\n",
      "Records extracted: 0\u001b[0m\n",
      "Starting iteration with limit=1000 skip=0 ...\u001b[0m\n"
     ]
    },
    {
     "name": "stdout",
     "output_type": "stream",
     "text": [
      "ur.01356377717.79 id has 0 patents\n",
      "738. Carla Pugh\n",
      "ur.01107642366.87\n"
     ]
    },
    {
     "name": "stderr",
     "output_type": "stream",
     "text": [
      "0-3 / 3 (6.14s)\u001b[0m\n",
      "===\n",
      "Records extracted: 3\u001b[0m\n",
      "Starting iteration with limit=1000 skip=0 ...\u001b[0m\n"
     ]
    },
    {
     "name": "stdout",
     "output_type": "stream",
     "text": [
      "ur.01107642366.87 id has 3 patents\n",
      "739. Ivan Rosas\n",
      "ur.01272154434.30\n"
     ]
    },
    {
     "name": "stderr",
     "output_type": "stream",
     "text": [
      "0-7 / 7 (1.39s)\u001b[0m\n",
      "===\n",
      "Records extracted: 7\u001b[0m\n",
      "Starting iteration with limit=1000 skip=0 ...\u001b[0m\n"
     ]
    },
    {
     "name": "stdout",
     "output_type": "stream",
     "text": [
      "ur.01272154434.30 id has 7 patents\n",
      "740. Lecia Sequist\n",
      "ur.01025167624.38\n"
     ]
    },
    {
     "name": "stderr",
     "output_type": "stream",
     "text": [
      "0-5 / 5 (3.23s)\u001b[0m\n",
      "===\n",
      "Records extracted: 5\u001b[0m\n",
      "Starting iteration with limit=1000 skip=0 ...\u001b[0m\n"
     ]
    },
    {
     "name": "stdout",
     "output_type": "stream",
     "text": [
      "ur.01025167624.38 id has 5 patents\n",
      "741. Agata Smogorzewska\n",
      "ur.01252742741.86\n"
     ]
    },
    {
     "name": "stderr",
     "output_type": "stream",
     "text": [
      "===\n",
      "Records extracted: 0\u001b[0m\n",
      "Starting iteration with limit=1000 skip=0 ...\u001b[0m\n"
     ]
    },
    {
     "name": "stdout",
     "output_type": "stream",
     "text": [
      "ur.01252742741.86 id has 0 patents\n",
      "742. Rebecca Sudore\n",
      "ur.01344557251.86\n"
     ]
    },
    {
     "name": "stderr",
     "output_type": "stream",
     "text": [
      "0-7 / 7 (3.20s)\u001b[0m\n",
      "===\n",
      "Records extracted: 7\u001b[0m\n",
      "Starting iteration with limit=1000 skip=0 ...\u001b[0m\n"
     ]
    },
    {
     "name": "stdout",
     "output_type": "stream",
     "text": [
      "ur.01344557251.86 id has 7 patents\n",
      "743. David Tuveson\n",
      "ur.01171407151.99\n"
     ]
    },
    {
     "name": "stderr",
     "output_type": "stream",
     "text": [
      "0-14 / 14 (1.26s)\u001b[0m\n",
      "===\n",
      "Records extracted: 14\u001b[0m\n",
      "Starting iteration with limit=1000 skip=0 ...\u001b[0m\n"
     ]
    },
    {
     "name": "stdout",
     "output_type": "stream",
     "text": [
      "ur.01171407151.99 id has 14 patents\n",
      "744. Koji Yasutomo\n",
      "ur.01241376653.14\n"
     ]
    },
    {
     "name": "stderr",
     "output_type": "stream",
     "text": [
      "===\n",
      "Records extracted: 0\u001b[0m\n",
      "Starting iteration with limit=1000 skip=0 ...\u001b[0m\n"
     ]
    },
    {
     "name": "stdout",
     "output_type": "stream",
     "text": [
      "ur.01241376653.14 id has 0 patents\n",
      "745. Heidi Cook-Andersen\n",
      "ur.01104216651.29\n"
     ]
    },
    {
     "name": "stderr",
     "output_type": "stream",
     "text": [
      "0-4 / 4 (1.21s)\u001b[0m\n",
      "===\n",
      "Records extracted: 4\u001b[0m\n",
      "Starting iteration with limit=1000 skip=0 ...\u001b[0m\n"
     ]
    },
    {
     "name": "stdout",
     "output_type": "stream",
     "text": [
      "ur.01104216651.29 id has 4 patents\n",
      "746. Mariella Filbin\n",
      "ur.0651360045.44\n"
     ]
    },
    {
     "name": "stderr",
     "output_type": "stream",
     "text": [
      "0-13 / 13 (4.64s)\u001b[0m\n",
      "===\n",
      "Records extracted: 13\u001b[0m\n",
      "Starting iteration with limit=1000 skip=0 ...\u001b[0m\n"
     ]
    },
    {
     "name": "stdout",
     "output_type": "stream",
     "text": [
      "ur.0651360045.44 id has 13 patents\n",
      "747. Andrew Intlekofer\n",
      "ur.0731162421.11\n"
     ]
    },
    {
     "name": "stderr",
     "output_type": "stream",
     "text": [
      "===\n",
      "Records extracted: 0\u001b[0m\n",
      "Starting iteration with limit=1000 skip=0 ...\u001b[0m\n"
     ]
    },
    {
     "name": "stdout",
     "output_type": "stream",
     "text": [
      "ur.0731162421.11 id has 0 patents\n",
      "748. Devanand Manoli\n",
      "ur.0744452335.27\n"
     ]
    },
    {
     "name": "stderr",
     "output_type": "stream",
     "text": [
      "0-12 / 12 (1.33s)\u001b[0m\n",
      "===\n",
      "Records extracted: 12\u001b[0m\n",
      "Starting iteration with limit=1000 skip=0 ...\u001b[0m\n"
     ]
    },
    {
     "name": "stdout",
     "output_type": "stream",
     "text": [
      "ur.0744452335.27 id has 12 patents\n",
      "749. Seth Rakoff-Nahoum\n",
      "ur.0726020447.78\n"
     ]
    },
    {
     "name": "stderr",
     "output_type": "stream",
     "text": [
      "0-10 / 10 (1.25s)\u001b[0m\n",
      "===\n",
      "Records extracted: 10\u001b[0m\n",
      "Starting iteration with limit=1000 skip=0 ...\u001b[0m\n"
     ]
    },
    {
     "name": "stdout",
     "output_type": "stream",
     "text": [
      "ur.0726020447.78 id has 10 patents\n",
      "750. Dhakshin Ramanathan\n",
      "ur.01360143743.71\n"
     ]
    },
    {
     "name": "stderr",
     "output_type": "stream",
     "text": [
      "===\n",
      "Records extracted: 0\u001b[0m\n",
      "Starting iteration with limit=1000 skip=0 ...\u001b[0m\n"
     ]
    },
    {
     "name": "stdout",
     "output_type": "stream",
     "text": [
      "ur.01360143743.71 id has 0 patents\n",
      "751. Tiffany Scharschmidt\n",
      "ur.01217742035.31\n"
     ]
    },
    {
     "name": "stderr",
     "output_type": "stream",
     "text": [
      "0-28 / 28 (1.45s)\u001b[0m\n",
      "===\n",
      "Records extracted: 28\u001b[0m\n",
      "Starting iteration with limit=1000 skip=0 ...\u001b[0m\n"
     ]
    },
    {
     "name": "stdout",
     "output_type": "stream",
     "text": [
      "ur.01217742035.31 id has 28 patents\n",
      "752. Aida Habtezion\n",
      "ur.01221741634.15\n"
     ]
    },
    {
     "name": "stderr",
     "output_type": "stream",
     "text": [
      "===\n",
      "Records extracted: 0\u001b[0m\n",
      "Starting iteration with limit=1000 skip=0 ...\u001b[0m\n"
     ]
    },
    {
     "name": "stdout",
     "output_type": "stream",
     "text": [
      "ur.01221741634.15 id has 0 patents\n",
      "753. Reshma Jagsi\n",
      "ur.01252143533.94\n"
     ]
    },
    {
     "name": "stderr",
     "output_type": "stream",
     "text": [
      "0-314 / 314 (6.72s)\u001b[0m\n",
      "===\n",
      "Records extracted: 314\u001b[0m\n",
      "Starting iteration with limit=1000 skip=0 ...\u001b[0m\n"
     ]
    },
    {
     "name": "stdout",
     "output_type": "stream",
     "text": [
      "ur.01252143533.94 id has 314 patents\n",
      "754. Ravindra Majeti\n",
      "ur.01151331063.92\n"
     ]
    },
    {
     "name": "stderr",
     "output_type": "stream",
     "text": [
      "0-21 / 21 (1.38s)\u001b[0m\n",
      "===\n",
      "Records extracted: 21\u001b[0m\n",
      "Starting iteration with limit=1000 skip=0 ...\u001b[0m\n"
     ]
    },
    {
     "name": "stdout",
     "output_type": "stream",
     "text": [
      "ur.01151331063.92 id has 21 patents\n",
      "755. Sarki Abdulkadir\n",
      "ur.01350734042.58\n"
     ]
    },
    {
     "name": "stderr",
     "output_type": "stream",
     "text": [
      "===\n",
      "Records extracted: 0\u001b[0m\n",
      "Starting iteration with limit=1000 skip=0 ...\u001b[0m\n"
     ]
    },
    {
     "name": "stdout",
     "output_type": "stream",
     "text": [
      "ur.01350734042.58 id has 0 patents\n",
      "756. Ash Alizadeh\n",
      "ur.0760705217.24\n"
     ]
    },
    {
     "name": "stderr",
     "output_type": "stream",
     "text": [
      "0-13 / 13 (1.35s)\u001b[0m\n",
      "===\n",
      "Records extracted: 13\u001b[0m\n",
      "Starting iteration with limit=1000 skip=0 ...\u001b[0m\n"
     ]
    },
    {
     "name": "stdout",
     "output_type": "stream",
     "text": [
      "ur.0760705217.24 id has 13 patents\n",
      "757. Nicole Calakos\n",
      "ur.0717331640.11\n"
     ]
    },
    {
     "name": "stderr",
     "output_type": "stream",
     "text": [
      "0-4 / 4 (4.42s)\u001b[0m\n",
      "===\n",
      "Records extracted: 4\u001b[0m\n",
      "Starting iteration with limit=1000 skip=0 ...\u001b[0m\n"
     ]
    },
    {
     "name": "stdout",
     "output_type": "stream",
     "text": [
      "ur.0717331640.11 id has 4 patents\n",
      "758. Sarat Chandarlapaty\n",
      "ur.01142301773.01\n"
     ]
    },
    {
     "name": "stderr",
     "output_type": "stream",
     "text": [
      "0-2 / 2 (1.22s)\u001b[0m\n",
      "===\n",
      "Records extracted: 2\u001b[0m\n",
      "Starting iteration with limit=1000 skip=0 ...\u001b[0m\n"
     ]
    },
    {
     "name": "stdout",
     "output_type": "stream",
     "text": [
      "ur.01142301773.01 id has 2 patents\n",
      "759. Aaron Cypess\n",
      "ur.01275742424.25\n"
     ]
    },
    {
     "name": "stderr",
     "output_type": "stream",
     "text": [
      "===\n",
      "Records extracted: 0\u001b[0m\n",
      "Starting iteration with limit=1000 skip=0 ...\u001b[0m\n"
     ]
    },
    {
     "name": "stdout",
     "output_type": "stream",
     "text": [
      "ur.01275742424.25 id has 0 patents\n",
      "760. Justin Dimick\n",
      "ur.01007031103.93\n"
     ]
    },
    {
     "name": "stderr",
     "output_type": "stream",
     "text": [
      "0-13 / 13 (6.52s)\u001b[0m\n",
      "===\n",
      "Records extracted: 13\u001b[0m\n",
      "Starting iteration with limit=1000 skip=0 ...\u001b[0m\n"
     ]
    },
    {
     "name": "stdout",
     "output_type": "stream",
     "text": [
      "ur.01007031103.93 id has 13 patents\n",
      "761. Ariel Feldstein\n",
      "ur.012356677447.93\n"
     ]
    },
    {
     "name": "stderr",
     "output_type": "stream",
     "text": [
      "===\n",
      "Records extracted: 0\u001b[0m\n",
      "Starting iteration with limit=1000 skip=0 ...\u001b[0m\n"
     ]
    },
    {
     "name": "stdout",
     "output_type": "stream",
     "text": [
      "ur.012356677447.93 id has 0 patents\n",
      "762. Martin Fernandez-Zapico\n",
      "ur.01201546624.28\n"
     ]
    },
    {
     "name": "stderr",
     "output_type": "stream",
     "text": [
      "0-19 / 19 (3.01s)\u001b[0m\n",
      "===\n",
      "Records extracted: 19\u001b[0m\n",
      "Starting iteration with limit=1000 skip=0 ...\u001b[0m\n"
     ]
    },
    {
     "name": "stdout",
     "output_type": "stream",
     "text": [
      "ur.01201546624.28 id has 19 patents\n",
      "763. Alessia Fornoni\n",
      "ur.01225347230.93\n"
     ]
    },
    {
     "name": "stderr",
     "output_type": "stream",
     "text": [
      "0-20 / 20 (1.59s)\u001b[0m\n",
      "===\n",
      "Records extracted: 20\u001b[0m\n",
      "Starting iteration with limit=1000 skip=0 ...\u001b[0m\n"
     ]
    },
    {
     "name": "stdout",
     "output_type": "stream",
     "text": [
      "ur.01225347230.93 id has 20 patents\n",
      "764. Anna Greka\n",
      "ur.01240201510.36\n"
     ]
    },
    {
     "name": "stderr",
     "output_type": "stream",
     "text": [
      "0-2 / 2 (3.09s)\u001b[0m\n",
      "===\n",
      "Records extracted: 2\u001b[0m\n",
      "Starting iteration with limit=1000 skip=0 ...\u001b[0m\n"
     ]
    },
    {
     "name": "stdout",
     "output_type": "stream",
     "text": [
      "ur.01240201510.36 id has 2 patents\n",
      "765. Erica Herzog\n",
      "ur.01107067740.47\n"
     ]
    },
    {
     "name": "stderr",
     "output_type": "stream",
     "text": [
      "===\n",
      "Records extracted: 0\u001b[0m\n",
      "Starting iteration with limit=1000 skip=0 ...\u001b[0m\n"
     ]
    },
    {
     "name": "stdout",
     "output_type": "stream",
     "text": [
      "ur.01107067740.47 id has 0 patents\n",
      "766. Beth Kirkpatrick\n",
      "ur.014003652657.02\n"
     ]
    },
    {
     "name": "stderr",
     "output_type": "stream",
     "text": [
      "===\n",
      "Records extracted: 0\u001b[0m\n",
      "Starting iteration with limit=1000 skip=0 ...\u001b[0m\n"
     ]
    },
    {
     "name": "stdout",
     "output_type": "stream",
     "text": [
      "ur.014003652657.02 id has 0 patents\n",
      "767. Shyamasundaran Kottilil\n",
      "ur.0742512260.11\n"
     ]
    },
    {
     "name": "stderr",
     "output_type": "stream",
     "text": [
      "0-3 / 3 (2.13s)\u001b[0m\n",
      "===\n",
      "Records extracted: 3\u001b[0m\n",
      "Starting iteration with limit=1000 skip=0 ...\u001b[0m\n"
     ]
    },
    {
     "name": "stdout",
     "output_type": "stream",
     "text": [
      "ur.0742512260.11 id has 3 patents\n",
      "768. Mondira Kundu\n",
      "ur.01162774623.50\n"
     ]
    },
    {
     "name": "stderr",
     "output_type": "stream",
     "text": [
      "0-41 / 41 (1.22s)\u001b[0m\n",
      "===\n",
      "Records extracted: 41\u001b[0m\n",
      "Starting iteration with limit=1000 skip=0 ...\u001b[0m\n"
     ]
    },
    {
     "name": "stdout",
     "output_type": "stream",
     "text": [
      "ur.01162774623.50 id has 41 patents\n",
      "769. Jonathan Kurtis\n",
      "ur.0776622753.40\n"
     ]
    },
    {
     "name": "stderr",
     "output_type": "stream",
     "text": [
      "===\n",
      "Records extracted: 0\u001b[0m\n",
      "Starting iteration with limit=1000 skip=0 ...\u001b[0m\n"
     ]
    },
    {
     "name": "stdout",
     "output_type": "stream",
     "text": [
      "ur.0776622753.40 id has 0 patents\n",
      "770. Lona Mody\n",
      "ur.01115401722.27\n"
     ]
    },
    {
     "name": "stderr",
     "output_type": "stream",
     "text": [
      "0-9 / 9 (1.37s)\u001b[0m\n",
      "===\n",
      "Records extracted: 9\u001b[0m\n",
      "Starting iteration with limit=1000 skip=0 ...\u001b[0m\n"
     ]
    },
    {
     "name": "stdout",
     "output_type": "stream",
     "text": [
      "ur.01115401722.27 id has 9 patents\n",
      "771. Thangamani Muthukumar\n",
      "ur.015765661627.12\n"
     ]
    },
    {
     "name": "stderr",
     "output_type": "stream",
     "text": [
      "===\n",
      "Records extracted: 0\u001b[0m\n",
      "Starting iteration with limit=1000 skip=0 ...\u001b[0m\n"
     ]
    },
    {
     "name": "stdout",
     "output_type": "stream",
     "text": [
      "ur.015765661627.12 id has 0 patents\n",
      "772. Ivona Pandrea\n",
      "ur.01130071251.63\n"
     ]
    },
    {
     "name": "stderr",
     "output_type": "stream",
     "text": [
      "0-39 / 39 (6.15s)\u001b[0m\n",
      "===\n",
      "Records extracted: 39\u001b[0m\n",
      "Starting iteration with limit=1000 skip=0 ...\u001b[0m\n"
     ]
    },
    {
     "name": "stdout",
     "output_type": "stream",
     "text": [
      "ur.01130071251.63 id has 39 patents\n",
      "773. Vijay Bhoj\n",
      "ur.0674046076.97\n"
     ]
    },
    {
     "name": "stderr",
     "output_type": "stream",
     "text": [
      "===\n",
      "Records extracted: 0\u001b[0m\n",
      "Starting iteration with limit=1000 skip=0 ...\u001b[0m\n"
     ]
    },
    {
     "name": "stdout",
     "output_type": "stream",
     "text": [
      "ur.0674046076.97 id has 0 patents\n",
      "774. Aaron Carlin\n",
      "ur.0771441056.74\n"
     ]
    },
    {
     "name": "stderr",
     "output_type": "stream",
     "text": [
      "===\n",
      "Records extracted: 0\u001b[0m\n",
      "Starting iteration with limit=1000 skip=0 ...\u001b[0m\n"
     ]
    },
    {
     "name": "stdout",
     "output_type": "stream",
     "text": [
      "ur.0771441056.74 id has 0 patents\n",
      "775. Whitney Harrington\n",
      "ur.012277651022.12\n"
     ]
    },
    {
     "name": "stderr",
     "output_type": "stream",
     "text": [
      "===\n",
      "Records extracted: 0\u001b[0m\n",
      "Starting iteration with limit=1000 skip=0 ...\u001b[0m\n"
     ]
    },
    {
     "name": "stdout",
     "output_type": "stream",
     "text": [
      "ur.012277651022.12 id has 0 patents\n",
      "776. Tamia Harris-Tryon\n",
      "ur.01366422751.52\n"
     ]
    },
    {
     "name": "stderr",
     "output_type": "stream",
     "text": [
      "===\n",
      "Records extracted: 0\u001b[0m\n",
      "Starting iteration with limit=1000 skip=0 ...\u001b[0m\n"
     ]
    },
    {
     "name": "stdout",
     "output_type": "stream",
     "text": [
      "ur.01366422751.52 id has 0 patents\n",
      "777. Kara Maxwell\n",
      "ur.01331645101.36\n"
     ]
    },
    {
     "name": "stderr",
     "output_type": "stream",
     "text": [
      "0-1 / 1 (1.20s)\u001b[0m\n",
      "===\n",
      "Records extracted: 1\u001b[0m\n",
      "Starting iteration with limit=1000 skip=0 ...\u001b[0m\n"
     ]
    },
    {
     "name": "stdout",
     "output_type": "stream",
     "text": [
      "ur.01331645101.36 id has 1 patents\n",
      "778. Kent Mouw\n",
      "ur.01020612200.64\n"
     ]
    },
    {
     "name": "stderr",
     "output_type": "stream",
     "text": [
      "===\n",
      "Records extracted: 0\u001b[0m\n",
      "Starting iteration with limit=1000 skip=0 ...\u001b[0m\n"
     ]
    },
    {
     "name": "stdout",
     "output_type": "stream",
     "text": [
      "ur.01020612200.64 id has 0 patents\n",
      "779. Tamer Sallam\n",
      "ur.01043721773.73\n"
     ]
    },
    {
     "name": "stderr",
     "output_type": "stream",
     "text": [
      "0-2 / 2 (5.94s)\u001b[0m\n",
      "===\n",
      "Records extracted: 2\u001b[0m\n",
      "Starting iteration with limit=1000 skip=0 ...\u001b[0m\n"
     ]
    },
    {
     "name": "stdout",
     "output_type": "stream",
     "text": [
      "ur.01043721773.73 id has 2 patents\n",
      "780. Craig Wilen\n",
      "ur.0611721335.42\n"
     ]
    },
    {
     "name": "stderr",
     "output_type": "stream",
     "text": [
      "0-5 / 5 (1.21s)\u001b[0m\n",
      "===\n",
      "Records extracted: 5\u001b[0m\n",
      "Starting iteration with limit=1000 skip=0 ...\u001b[0m\n"
     ]
    },
    {
     "name": "stdout",
     "output_type": "stream",
     "text": [
      "ur.0611721335.42 id has 5 patents\n",
      "781. Michael Agus\n",
      "ur.01270350137.14\n"
     ]
    },
    {
     "name": "stderr",
     "output_type": "stream",
     "text": [
      "0-84 / 84 (1.39s)\u001b[0m\n",
      "===\n",
      "Records extracted: 84\u001b[0m\n",
      "Starting iteration with limit=1000 skip=0 ...\u001b[0m\n"
     ]
    },
    {
     "name": "stdout",
     "output_type": "stream",
     "text": [
      "ur.01270350137.14 id has 84 patents\n",
      "782. Jodie Babitt\n",
      "ur.01317656475.13\n"
     ]
    },
    {
     "name": "stderr",
     "output_type": "stream",
     "text": [
      "===\n",
      "Records extracted: 0\u001b[0m\n",
      "Starting iteration with limit=1000 skip=0 ...\u001b[0m\n"
     ]
    },
    {
     "name": "stdout",
     "output_type": "stream",
     "text": [
      "ur.01317656475.13 id has 0 patents\n",
      "783. Murat Bastepe\n",
      "ur.01334721411.83\n"
     ]
    },
    {
     "name": "stderr",
     "output_type": "stream",
     "text": [
      "===\n",
      "Records extracted: 0\u001b[0m\n",
      "Starting iteration with limit=1000 skip=0 ...\u001b[0m\n"
     ]
    },
    {
     "name": "stdout",
     "output_type": "stream",
     "text": [
      "ur.01334721411.83 id has 0 patents\n",
      "784. Sudha Biddinger\n",
      "ur.01261010362.33\n"
     ]
    },
    {
     "name": "stderr",
     "output_type": "stream",
     "text": [
      "0-33 / 33 (4.81s)\u001b[0m\n",
      "===\n",
      "Records extracted: 33\u001b[0m\n",
      "Starting iteration with limit=1000 skip=0 ...\u001b[0m\n"
     ]
    },
    {
     "name": "stdout",
     "output_type": "stream",
     "text": [
      "ur.01261010362.33 id has 33 patents\n",
      "785. Paul Bollyky\n",
      "ur.01023564545.38\n"
     ]
    },
    {
     "name": "stderr",
     "output_type": "stream",
     "text": [
      "===\n",
      "Records extracted: 0\u001b[0m\n",
      "Starting iteration with limit=1000 skip=0 ...\u001b[0m\n"
     ]
    },
    {
     "name": "stdout",
     "output_type": "stream",
     "text": [
      "ur.01023564545.38 id has 0 patents\n",
      "786. Jeremy Dittman\n",
      "ur.015767744007.71\n"
     ]
    },
    {
     "name": "stderr",
     "output_type": "stream",
     "text": [
      "===\n",
      "Records extracted: 0\u001b[0m\n",
      "Starting iteration with limit=1000 skip=0 ...\u001b[0m\n"
     ]
    },
    {
     "name": "stdout",
     "output_type": "stream",
     "text": [
      "ur.015767744007.71 id has 0 patents\n",
      "787. Alexandre Dombrovski\n",
      "ur.012232140147.52\n"
     ]
    },
    {
     "name": "stderr",
     "output_type": "stream",
     "text": [
      "===\n",
      "Records extracted: 0\u001b[0m\n",
      "Starting iteration with limit=1000 skip=0 ...\u001b[0m\n"
     ]
    },
    {
     "name": "stdout",
     "output_type": "stream",
     "text": [
      "ur.012232140147.52 id has 0 patents\n",
      "788. Matthew Freiberg\n",
      "ur.0644541224.26\n"
     ]
    },
    {
     "name": "stderr",
     "output_type": "stream",
     "text": [
      "===\n",
      "Records extracted: 0\u001b[0m\n",
      "Starting iteration with limit=1000 skip=0 ...\u001b[0m\n"
     ]
    },
    {
     "name": "stdout",
     "output_type": "stream",
     "text": [
      "ur.0644541224.26 id has 0 patents\n",
      "789. Cary Gross\n",
      "ur.011650114277.94\n"
     ]
    },
    {
     "name": "stderr",
     "output_type": "stream",
     "text": [
      "0-5 / 5 (1.16s)\u001b[0m\n",
      "===\n",
      "Records extracted: 5\u001b[0m\n",
      "Starting iteration with limit=1000 skip=0 ...\u001b[0m\n"
     ]
    },
    {
     "name": "stdout",
     "output_type": "stream",
     "text": [
      "ur.011650114277.94 id has 5 patents\n",
      "790. Saptarsi Haldar\n",
      "ur.01321343543.15\n"
     ]
    },
    {
     "name": "stderr",
     "output_type": "stream",
     "text": [
      "===\n",
      "Records extracted: 0\u001b[0m\n",
      "Starting iteration with limit=1000 skip=0 ...\u001b[0m\n"
     ]
    },
    {
     "name": "stdout",
     "output_type": "stream",
     "text": [
      "ur.01321343543.15 id has 0 patents\n",
      "791. Megan Haymart\n",
      "ur.01162563617.58\n"
     ]
    },
    {
     "name": "stderr",
     "output_type": "stream",
     "text": [
      "0-15 / 15 (1.21s)\u001b[0m\n",
      "===\n",
      "Records extracted: 15\u001b[0m\n",
      "Starting iteration with limit=1000 skip=0 ...\u001b[0m\n"
     ]
    },
    {
     "name": "stdout",
     "output_type": "stream",
     "text": [
      "ur.01162563617.58 id has 15 patents\n",
      "792. Maureen Horton\n",
      "ur.0612600561.47\n"
     ]
    },
    {
     "name": "stderr",
     "output_type": "stream",
     "text": [
      "===\n",
      "Records extracted: 0\u001b[0m\n",
      "Starting iteration with limit=1000 skip=0 ...\u001b[0m\n"
     ]
    },
    {
     "name": "stdout",
     "output_type": "stream",
     "text": [
      "ur.0612600561.47 id has 0 patents\n",
      "793. Leora Horwitz\n",
      "ur.01001522721.19\n"
     ]
    },
    {
     "name": "stderr",
     "output_type": "stream",
     "text": [
      "0-13 / 13 (1.46s)\u001b[0m\n",
      "===\n",
      "Records extracted: 13\u001b[0m\n",
      "Starting iteration with limit=1000 skip=0 ...\u001b[0m\n"
     ]
    },
    {
     "name": "stdout",
     "output_type": "stream",
     "text": [
      "ur.01001522721.19 id has 13 patents\n",
      "794. Yujin Hoshida\n",
      "ur.01340273066.85\n"
     ]
    },
    {
     "name": "stderr",
     "output_type": "stream",
     "text": [
      "===\n",
      "Records extracted: 0\u001b[0m\n",
      "Starting iteration with limit=1000 skip=0 ...\u001b[0m\n"
     ]
    },
    {
     "name": "stdout",
     "output_type": "stream",
     "text": [
      "ur.01340273066.85 id has 0 patents\n",
      "795. Arti Hurria\n",
      "ur.01270371277.11\n"
     ]
    },
    {
     "name": "stderr",
     "output_type": "stream",
     "text": [
      "0-23 / 23 (6.13s)\u001b[0m\n",
      "===\n",
      "Records extracted: 23\u001b[0m\n",
      "Starting iteration with limit=1000 skip=0 ...\u001b[0m\n"
     ]
    },
    {
     "name": "stdout",
     "output_type": "stream",
     "text": [
      "ur.01270371277.11 id has 23 patents\n",
      "796. Rahul Kohli\n",
      "ur.01300606711.41\n"
     ]
    },
    {
     "name": "stderr",
     "output_type": "stream",
     "text": [
      "===\n",
      "Records extracted: 0\u001b[0m\n",
      "Starting iteration with limit=1000 skip=0 ...\u001b[0m\n"
     ]
    },
    {
     "name": "stdout",
     "output_type": "stream",
     "text": [
      "ur.01300606711.41 id has 0 patents\n",
      "797. Suneil Koliwad\n",
      "ur.0710064446.97\n"
     ]
    },
    {
     "name": "stderr",
     "output_type": "stream",
     "text": [
      "===\n",
      "Records extracted: 0\u001b[0m\n",
      "Starting iteration with limit=1000 skip=0 ...\u001b[0m\n"
     ]
    },
    {
     "name": "stdout",
     "output_type": "stream",
     "text": [
      "ur.0710064446.97 id has 0 patents\n",
      "798. Margot Kushel\n",
      "ur.01364247030.02\n"
     ]
    },
    {
     "name": "stderr",
     "output_type": "stream",
     "text": [
      "===\n",
      "Records extracted: 0\u001b[0m\n",
      "Starting iteration with limit=1000 skip=0 ...\u001b[0m\n"
     ]
    },
    {
     "name": "stdout",
     "output_type": "stream",
     "text": [
      "ur.01364247030.02 id has 0 patents\n",
      "799. Nehal Mehta\n",
      "ur.01234654663.53\n"
     ]
    },
    {
     "name": "stderr",
     "output_type": "stream",
     "text": [
      "===\n",
      "Records extracted: 0\u001b[0m\n",
      "Starting iteration with limit=1000 skip=0 ...\u001b[0m\n"
     ]
    },
    {
     "name": "stdout",
     "output_type": "stream",
     "text": [
      "ur.01234654663.53 id has 0 patents\n",
      "800. Ann Mullally\n",
      "ur.01175455717.64\n"
     ]
    },
    {
     "name": "stderr",
     "output_type": "stream",
     "text": [
      "===\n",
      "Records extracted: 0\u001b[0m\n",
      "Starting iteration with limit=1000 skip=0 ...\u001b[0m\n"
     ]
    },
    {
     "name": "stdout",
     "output_type": "stream",
     "text": [
      "ur.01175455717.64 id has 0 patents\n",
      "801. Eirini Papapetrou\n",
      "ur.0637544657.23\n"
     ]
    },
    {
     "name": "stderr",
     "output_type": "stream",
     "text": [
      "0-3 / 3 (4.67s)\u001b[0m\n",
      "===\n",
      "Records extracted: 3\u001b[0m\n",
      "Starting iteration with limit=1000 skip=0 ...\u001b[0m\n"
     ]
    },
    {
     "name": "stdout",
     "output_type": "stream",
     "text": [
      "ur.0637544657.23 id has 3 patents\n",
      "802. Simone Sanna-Cherchi\n",
      "ur.01204141712.61\n"
     ]
    },
    {
     "name": "stderr",
     "output_type": "stream",
     "text": [
      "0-90 / 90 (1.32s)\u001b[0m\n",
      "===\n",
      "Records extracted: 90\u001b[0m\n",
      "Starting iteration with limit=1000 skip=0 ...\u001b[0m\n"
     ]
    },
    {
     "name": "stdout",
     "output_type": "stream",
     "text": [
      "ur.01204141712.61 id has 90 patents\n",
      "803. Brad Spellberg\n",
      "ur.01336640712.23\n"
     ]
    },
    {
     "name": "stderr",
     "output_type": "stream",
     "text": [
      "0-9 / 9 (4.64s)\u001b[0m\n",
      "===\n",
      "Records extracted: 9\u001b[0m\n",
      "Starting iteration with limit=1000 skip=0 ...\u001b[0m\n"
     ]
    },
    {
     "name": "stdout",
     "output_type": "stream",
     "text": [
      "ur.01336640712.23 id has 9 patents\n",
      "804. Charlotte Sumner\n",
      "ur.0724555002.86\n"
     ]
    },
    {
     "name": "stderr",
     "output_type": "stream",
     "text": [
      "0-7 / 7 (1.22s)\u001b[0m\n",
      "===\n",
      "Records extracted: 7\u001b[0m\n",
      "Starting iteration with limit=1000 skip=0 ...\u001b[0m\n"
     ]
    },
    {
     "name": "stdout",
     "output_type": "stream",
     "text": [
      "ur.0724555002.86 id has 7 patents\n",
      "805. David Teachey\n",
      "ur.01265041163.04\n"
     ]
    },
    {
     "name": "stderr",
     "output_type": "stream",
     "text": [
      "===\n",
      "Records extracted: 0\u001b[0m\n",
      "Starting iteration with limit=1000 skip=0 ...\u001b[0m\n"
     ]
    },
    {
     "name": "stdout",
     "output_type": "stream",
     "text": [
      "ur.01265041163.04 id has 0 patents\n",
      "806. Mintu Turakhia\n",
      "ur.01015255665.57\n"
     ]
    },
    {
     "name": "stderr",
     "output_type": "stream",
     "text": [
      "===\n",
      "Records extracted: 0\u001b[0m\n",
      "Starting iteration with limit=1000 skip=0 ...\u001b[0m\n"
     ]
    },
    {
     "name": "stdout",
     "output_type": "stream",
     "text": [
      "ur.01015255665.57 id has 0 patents\n",
      "807. Kareem Zaghloul\n",
      "ur.01342062715.43\n"
     ]
    },
    {
     "name": "stderr",
     "output_type": "stream",
     "text": [
      "0-29 / 29 (3.68s)\u001b[0m\n",
      "===\n",
      "Records extracted: 29\u001b[0m\n",
      "Starting iteration with limit=1000 skip=0 ...\u001b[0m\n"
     ]
    },
    {
     "name": "stdout",
     "output_type": "stream",
     "text": [
      "ur.01342062715.43 id has 29 patents\n",
      "808. Samuel Bakhoum\n",
      "ur.01112225651.32\n"
     ]
    },
    {
     "name": "stderr",
     "output_type": "stream",
     "text": [
      "===\n",
      "Records extracted: 0\u001b[0m\n",
      "Starting iteration with limit=1000 skip=0 ...\u001b[0m\n"
     ]
    },
    {
     "name": "stdout",
     "output_type": "stream",
     "text": [
      "ur.01112225651.32 id has 0 patents\n",
      "809. Elizabeth Bhoj\n",
      "ur.01076470631.32\n"
     ]
    },
    {
     "name": "stderr",
     "output_type": "stream",
     "text": [
      "0-6 / 6 (3.40s)\u001b[0m\n",
      "===\n",
      "Records extracted: 6\u001b[0m\n",
      "Starting iteration with limit=1000 skip=0 ...\u001b[0m\n"
     ]
    },
    {
     "name": "stdout",
     "output_type": "stream",
     "text": [
      "ur.01076470631.32 id has 6 patents\n",
      "810. Keira Cohen\n",
      "ur.01030712070.07\n"
     ]
    },
    {
     "name": "stderr",
     "output_type": "stream",
     "text": [
      "0-22 / 22 (1.22s)\u001b[0m\n",
      "===\n",
      "Records extracted: 22\u001b[0m\n",
      "Starting iteration with limit=1000 skip=0 ...\u001b[0m\n"
     ]
    },
    {
     "name": "stdout",
     "output_type": "stream",
     "text": [
      "ur.01030712070.07 id has 22 patents\n",
      "811. Benjamin Izar\n",
      "ur.0610355470.25\n"
     ]
    },
    {
     "name": "stderr",
     "output_type": "stream",
     "text": [
      "0-2 / 2 (4.44s)\u001b[0m\n",
      "===\n",
      "Records extracted: 2\u001b[0m\n",
      "Starting iteration with limit=1000 skip=0 ...\u001b[0m\n"
     ]
    },
    {
     "name": "stdout",
     "output_type": "stream",
     "text": [
      "ur.0610355470.25 id has 2 patents\n",
      "812. Corrine Kliment\n",
      "ur.01266550211.89\n"
     ]
    },
    {
     "name": "stderr",
     "output_type": "stream",
     "text": [
      "0-21 / 21 (1.32s)\u001b[0m\n",
      "===\n",
      "Records extracted: 21\u001b[0m\n",
      "Starting iteration with limit=1000 skip=0 ...\u001b[0m\n"
     ]
    },
    {
     "name": "stdout",
     "output_type": "stream",
     "text": [
      "ur.01266550211.89 id has 21 patents\n",
      "813. Mark Sellmyer\n",
      "ur.0707556420.22\n"
     ]
    },
    {
     "name": "stderr",
     "output_type": "stream",
     "text": [
      "===\n",
      "Records extracted: 0\u001b[0m\n",
      "Starting iteration with limit=1000 skip=0 ...\u001b[0m\n"
     ]
    },
    {
     "name": "stdout",
     "output_type": "stream",
     "text": [
      "ur.0707556420.22 id has 0 patents\n",
      "814. Tanya Sippy\n",
      "ur.0603711133.51\n"
     ]
    },
    {
     "name": "stderr",
     "output_type": "stream",
     "text": [
      "0-17 / 17 (1.33s)\u001b[0m\n",
      "===\n",
      "Records extracted: 17\u001b[0m\n",
      "Starting iteration with limit=1000 skip=0 ...\u001b[0m\n"
     ]
    },
    {
     "name": "stdout",
     "output_type": "stream",
     "text": [
      "ur.0603711133.51 id has 17 patents\n",
      "815. Joshi Alumkal\n",
      "ur.0642551050.54\n"
     ]
    },
    {
     "name": "stderr",
     "output_type": "stream",
     "text": [
      "===\n",
      "Records extracted: 0\u001b[0m\n",
      "Starting iteration with limit=1000 skip=0 ...\u001b[0m\n"
     ]
    },
    {
     "name": "stdout",
     "output_type": "stream",
     "text": [
      "ur.0642551050.54 id has 0 patents\n",
      "816. Eran Bendavid\n",
      "ur.01170750371.02\n"
     ]
    },
    {
     "name": "stderr",
     "output_type": "stream",
     "text": [
      "0-75 / 75 (1.53s)\u001b[0m\n",
      "===\n",
      "Records extracted: 75\u001b[0m\n",
      "Starting iteration with limit=1000 skip=0 ...\u001b[0m\n"
     ]
    },
    {
     "name": "stdout",
     "output_type": "stream",
     "text": [
      "ur.01170750371.02 id has 75 patents\n",
      "817. Bibiana Bielekova\n",
      "ur.0673200436.20\n"
     ]
    },
    {
     "name": "stderr",
     "output_type": "stream",
     "text": [
      "0-16 / 16 (4.20s)\u001b[0m\n",
      "===\n",
      "Records extracted: 16\u001b[0m\n",
      "Starting iteration with limit=1000 skip=0 ...\u001b[0m\n"
     ]
    },
    {
     "name": "stdout",
     "output_type": "stream",
     "text": [
      "ur.0673200436.20 id has 16 patents\n",
      "818. Barry Borlaug\n",
      "ur.0753131466.05\n"
     ]
    },
    {
     "name": "stderr",
     "output_type": "stream",
     "text": [
      "===\n",
      "Records extracted: 0\u001b[0m\n",
      "Starting iteration with limit=1000 skip=0 ...\u001b[0m\n"
     ]
    },
    {
     "name": "stdout",
     "output_type": "stream",
     "text": [
      "ur.0753131466.05 id has 0 patents\n",
      "819. Marina Caskey\n",
      "ur.0765703711.66\n"
     ]
    },
    {
     "name": "stderr",
     "output_type": "stream",
     "text": [
      "0-5 / 5 (1.36s)\u001b[0m\n",
      "===\n",
      "Records extracted: 5\u001b[0m\n",
      "Starting iteration with limit=1000 skip=0 ...\u001b[0m\n"
     ]
    },
    {
     "name": "stdout",
     "output_type": "stream",
     "text": [
      "ur.0765703711.66 id has 5 patents\n",
      "820. Kafui Dzirasa\n",
      "ur.0775001434.11\n"
     ]
    },
    {
     "name": "stderr",
     "output_type": "stream",
     "text": [
      "===\n",
      "Records extracted: 0\u001b[0m\n",
      "Starting iteration with limit=1000 skip=0 ...\u001b[0m\n"
     ]
    },
    {
     "name": "stdout",
     "output_type": "stream",
     "text": [
      "ur.0775001434.11 id has 0 patents\n",
      "821. Souheil El-Chemaly\n",
      "ur.0763462601.60\n"
     ]
    },
    {
     "name": "stderr",
     "output_type": "stream",
     "text": [
      "0-1 / 1 (1.78s)\u001b[0m\n",
      "===\n",
      "Records extracted: 1\u001b[0m\n",
      "Starting iteration with limit=1000 skip=0 ...\u001b[0m\n"
     ]
    },
    {
     "name": "stdout",
     "output_type": "stream",
     "text": [
      "ur.0763462601.60 id has 1 patents\n",
      "822. Peter Groeneveld\n",
      "ur.01154073677.02\n"
     ]
    },
    {
     "name": "stderr",
     "output_type": "stream",
     "text": [
      "===\n",
      "Records extracted: 0\u001b[0m\n",
      "Starting iteration with limit=1000 skip=0 ...\u001b[0m\n"
     ]
    },
    {
     "name": "stdout",
     "output_type": "stream",
     "text": [
      "ur.01154073677.02 id has 0 patents\n",
      "823. Elliott Haut\n",
      "ur.01013105004.73\n"
     ]
    },
    {
     "name": "stderr",
     "output_type": "stream",
     "text": [
      "0-11 / 11 (1.32s)\u001b[0m\n",
      "===\n",
      "Records extracted: 11\u001b[0m\n",
      "Starting iteration with limit=1000 skip=0 ...\u001b[0m\n"
     ]
    },
    {
     "name": "stdout",
     "output_type": "stream",
     "text": [
      "ur.01013105004.73 id has 11 patents\n",
      "824. Anna Hemnes\n",
      "ur.0626721046.54\n"
     ]
    },
    {
     "name": "stderr",
     "output_type": "stream",
     "text": [
      "===\n",
      "Records extracted: 0\u001b[0m\n",
      "Starting iteration with limit=1000 skip=0 ...\u001b[0m\n"
     ]
    },
    {
     "name": "stdout",
     "output_type": "stream",
     "text": [
      "ur.0626721046.54 id has 0 patents\n",
      "825. Renee Hsia\n",
      "ur.01361417762.10\n"
     ]
    },
    {
     "name": "stderr",
     "output_type": "stream",
     "text": [
      "===\n",
      "Records extracted: 0\u001b[0m\n",
      "Starting iteration with limit=1000 skip=0 ...\u001b[0m\n"
     ]
    },
    {
     "name": "stdout",
     "output_type": "stream",
     "text": [
      "ur.01361417762.10 id has 0 patents\n",
      "826. Dineo Khabele\n",
      "ur.01320500077.48\n"
     ]
    },
    {
     "name": "stderr",
     "output_type": "stream",
     "text": [
      "0-5 / 5 (4.62s)\u001b[0m\n",
      "===\n",
      "Records extracted: 5\u001b[0m\n",
      "Starting iteration with limit=1000 skip=0 ...\u001b[0m\n"
     ]
    },
    {
     "name": "stdout",
     "output_type": "stream",
     "text": [
      "ur.01320500077.48 id has 5 patents\n",
      "827. Scott Kopetz\n",
      "ur.0635771607.43\n"
     ]
    },
    {
     "name": "stderr",
     "output_type": "stream",
     "text": [
      "0-20 / 20 (6.13s)\u001b[0m\n",
      "===\n",
      "Records extracted: 20\u001b[0m\n",
      "Starting iteration with limit=1000 skip=0 ...\u001b[0m\n"
     ]
    },
    {
     "name": "stdout",
     "output_type": "stream",
     "text": [
      "ur.0635771607.43 id has 20 patents\n",
      "828. Siavash Kurdistani\n",
      "ur.0713067525.42\n"
     ]
    },
    {
     "name": "stderr",
     "output_type": "stream",
     "text": [
      "===\n",
      "Records extracted: 0\u001b[0m\n",
      "Starting iteration with limit=1000 skip=0 ...\u001b[0m\n"
     ]
    },
    {
     "name": "stdout",
     "output_type": "stream",
     "text": [
      "ur.0713067525.42 id has 0 patents\n",
      "829. Samia Mora\n",
      "ur.01161222753.49\n"
     ]
    },
    {
     "name": "stderr",
     "output_type": "stream",
     "text": [
      "===\n",
      "Records extracted: 0\u001b[0m\n",
      "Starting iteration with limit=1000 skip=0 ...\u001b[0m\n"
     ]
    },
    {
     "name": "stdout",
     "output_type": "stream",
     "text": [
      "ur.01161222753.49 id has 0 patents\n",
      "830. Nima Mosammaparast\n",
      "ur.01130262641.11\n"
     ]
    },
    {
     "name": "stderr",
     "output_type": "stream",
     "text": [
      "===\n",
      "Records extracted: 0\u001b[0m\n",
      "Starting iteration with limit=1000 skip=0 ...\u001b[0m\n"
     ]
    },
    {
     "name": "stdout",
     "output_type": "stream",
     "text": [
      "ur.01130262641.11 id has 0 patents\n",
      "831. Nicolas Musi\n",
      "ur.0635415317.27\n"
     ]
    },
    {
     "name": "stderr",
     "output_type": "stream",
     "text": [
      "0-2 / 2 (1.43s)\u001b[0m\n",
      "===\n",
      "Records extracted: 2\u001b[0m\n",
      "Starting iteration with limit=1000 skip=0 ...\u001b[0m\n"
     ]
    },
    {
     "name": "stdout",
     "output_type": "stream",
     "text": [
      "ur.0635415317.27 id has 2 patents\n",
      "832. Markus Müschen\n",
      "ur.013107607437.89\n"
     ]
    },
    {
     "name": "stderr",
     "output_type": "stream",
     "text": [
      "0-47 / 47 (1.29s)\u001b[0m\n",
      "===\n",
      "Records extracted: 47\u001b[0m\n",
      "Starting iteration with limit=1000 skip=0 ...\u001b[0m\n"
     ]
    },
    {
     "name": "stdout",
     "output_type": "stream",
     "text": [
      "ur.013107607437.89 id has 47 patents\n",
      "833. Sattva Neelapu\n",
      "ur.015275051047.40\n"
     ]
    },
    {
     "name": "stderr",
     "output_type": "stream",
     "text": [
      "===\n",
      "Records extracted: 0\u001b[0m\n",
      "Starting iteration with limit=1000 skip=0 ...\u001b[0m\n"
     ]
    },
    {
     "name": "stdout",
     "output_type": "stream",
     "text": [
      "ur.015275051047.40 id has 0 patents\n",
      "834. Brian Primack\n",
      "ur.01102527734.95\n"
     ]
    },
    {
     "name": "stderr",
     "output_type": "stream",
     "text": [
      "===\n",
      "Records extracted: 0\u001b[0m\n",
      "Starting iteration with limit=1000 skip=0 ...\u001b[0m\n"
     ]
    },
    {
     "name": "stdout",
     "output_type": "stream",
     "text": [
      "ur.01102527734.95 id has 0 patents\n",
      "835. Jianwen Que\n",
      "ur.01031553477.19\n"
     ]
    },
    {
     "name": "stderr",
     "output_type": "stream",
     "text": [
      "0-3 / 3 (2.09s)\u001b[0m\n",
      "===\n",
      "Records extracted: 3\u001b[0m\n",
      "Starting iteration with limit=1000 skip=0 ...\u001b[0m\n"
     ]
    },
    {
     "name": "stdout",
     "output_type": "stream",
     "text": [
      "ur.01031553477.19 id has 3 patents\n",
      "836. Manuela Raffatellu\n",
      "ur.01353465236.93\n"
     ]
    },
    {
     "name": "stderr",
     "output_type": "stream",
     "text": [
      "0-1 / 1 (5.84s)\u001b[0m\n",
      "===\n",
      "Records extracted: 1\u001b[0m\n",
      "Starting iteration with limit=1000 skip=0 ...\u001b[0m\n"
     ]
    },
    {
     "name": "stdout",
     "output_type": "stream",
     "text": [
      "ur.01353465236.93 id has 1 patents\n",
      "837. Jordan Shavit\n",
      "ur.01344661677.25\n"
     ]
    },
    {
     "name": "stderr",
     "output_type": "stream",
     "text": [
      "===\n",
      "Records extracted: 0\u001b[0m\n",
      "Starting iteration with limit=1000 skip=0 ...\u001b[0m\n"
     ]
    },
    {
     "name": "stdout",
     "output_type": "stream",
     "text": [
      "ur.01344661677.25 id has 0 patents\n",
      "838. Aaron Tobian\n",
      "ur.01204736037.13\n"
     ]
    },
    {
     "name": "stderr",
     "output_type": "stream",
     "text": [
      "===\n",
      "Records extracted: 0\u001b[0m\n",
      "Starting iteration with limit=1000 skip=0 ...\u001b[0m\n"
     ]
    },
    {
     "name": "stdout",
     "output_type": "stream",
     "text": [
      "ur.01204736037.13 id has 0 patents\n",
      "839. Matthew Vander Heiden\n",
      "ur.053126143.88\n"
     ]
    },
    {
     "name": "stderr",
     "output_type": "stream",
     "text": [
      "===\n",
      "Records extracted: 0\u001b[0m\n",
      "Starting iteration with limit=1000 skip=0 ...\u001b[0m\n"
     ]
    },
    {
     "name": "stdout",
     "output_type": "stream",
     "text": [
      "ur.053126143.88 id has 0 patents\n",
      "840. Arnold Weissler\n",
      "ur.01353262371.38\n"
     ]
    },
    {
     "name": "stderr",
     "output_type": "stream",
     "text": [
      "===\n",
      "Records extracted: 0\u001b[0m\n",
      "Starting iteration with limit=1000 skip=0 ...\u001b[0m\n"
     ]
    },
    {
     "name": "stdout",
     "output_type": "stream",
     "text": [
      "ur.01353262371.38 id has 0 patents\n",
      "841. Jonathan Brestoff\n",
      "ur.01137537325.80\n"
     ]
    },
    {
     "name": "stderr",
     "output_type": "stream",
     "text": [
      "0-7 / 7 (1.17s)\u001b[0m\n",
      "===\n",
      "Records extracted: 7\u001b[0m\n",
      "Starting iteration with limit=1000 skip=0 ...\u001b[0m\n"
     ]
    },
    {
     "name": "stdout",
     "output_type": "stream",
     "text": [
      "ur.01137537325.80 id has 7 patents\n",
      "842. Gaurav Gaiha\n",
      "ur.01262315126.38\n"
     ]
    },
    {
     "name": "stderr",
     "output_type": "stream",
     "text": [
      "0-12 / 12 (4.59s)\u001b[0m\n",
      "===\n",
      "Records extracted: 12\u001b[0m\n",
      "Starting iteration with limit=1000 skip=0 ...\u001b[0m\n"
     ]
    },
    {
     "name": "stdout",
     "output_type": "stream",
     "text": [
      "ur.01262315126.38 id has 12 patents\n",
      "843. Karuna Ganesh\n",
      "ur.0624557505.32\n"
     ]
    },
    {
     "name": "stderr",
     "output_type": "stream",
     "text": [
      "===\n",
      "Records extracted: 0\u001b[0m\n",
      "Starting iteration with limit=1000 skip=0 ...\u001b[0m\n"
     ]
    },
    {
     "name": "stdout",
     "output_type": "stream",
     "text": [
      "ur.0624557505.32 id has 0 patents\n",
      "844. Marie Guerraty\n",
      "ur.01011433375.48\n"
     ]
    },
    {
     "name": "stderr",
     "output_type": "stream",
     "text": [
      "0-3 / 3 (1.23s)\u001b[0m\n",
      "===\n",
      "Records extracted: 3\u001b[0m\n",
      "Starting iteration with limit=1000 skip=0 ...\u001b[0m\n"
     ]
    },
    {
     "name": "stdout",
     "output_type": "stream",
     "text": [
      "ur.01011433375.48 id has 3 patents\n",
      "845. Michael Kattah\n",
      "ur.01147566056.48\n"
     ]
    },
    {
     "name": "stderr",
     "output_type": "stream",
     "text": [
      "0-16 / 16 (1.25s)\u001b[0m\n",
      "===\n",
      "Records extracted: 16\u001b[0m\n",
      "Starting iteration with limit=1000 skip=0 ...\u001b[0m\n"
     ]
    },
    {
     "name": "stdout",
     "output_type": "stream",
     "text": [
      "ur.01147566056.48 id has 16 patents\n",
      "846. Robert Samstein\n",
      "ur.07610707050.75\n"
     ]
    },
    {
     "name": "stderr",
     "output_type": "stream",
     "text": [
      "0-8 / 8 (4.64s)\u001b[0m\n",
      "===\n",
      "Records extracted: 8\u001b[0m\n",
      "Starting iteration with limit=1000 skip=0 ...\u001b[0m\n"
     ]
    },
    {
     "name": "stdout",
     "output_type": "stream",
     "text": [
      "ur.07610707050.75 id has 8 patents\n",
      "847. Santosha Vardhana\n",
      "ur.0711540714.19\n"
     ]
    },
    {
     "name": "stderr",
     "output_type": "stream",
     "text": [
      "0-4 / 4 (6.05s)\u001b[0m\n",
      "===\n",
      "Records extracted: 4\u001b[0m\n",
      "Starting iteration with limit=1000 skip=0 ...\u001b[0m\n"
     ]
    },
    {
     "name": "stdout",
     "output_type": "stream",
     "text": [
      "ur.0711540714.19 id has 4 patents\n",
      "848. Andrew Venteicher\n",
      "ur.0716373565.06\n"
     ]
    },
    {
     "name": "stderr",
     "output_type": "stream",
     "text": [
      "0-1 / 1 (5.92s)\u001b[0m\n",
      "===\n",
      "Records extracted: 1\u001b[0m\n",
      "Starting iteration with limit=1000 skip=0 ...\u001b[0m\n"
     ]
    },
    {
     "name": "stdout",
     "output_type": "stream",
     "text": [
      "ur.0716373565.06 id has 1 patents\n",
      "849. Themistocles Assimes\n",
      "ur.0777464651.51\n"
     ]
    },
    {
     "name": "stderr",
     "output_type": "stream",
     "text": [
      "===\n",
      "Records extracted: 0\u001b[0m\n",
      "Starting iteration with limit=1000 skip=0 ...\u001b[0m\n"
     ]
    },
    {
     "name": "stdout",
     "output_type": "stream",
     "text": [
      "ur.0777464651.51 id has 0 patents\n",
      "850. Julie Bastarache\n",
      "ur.01033115570.02\n"
     ]
    },
    {
     "name": "stderr",
     "output_type": "stream",
     "text": [
      "0-2 / 2 (1.06s)\u001b[0m\n",
      "===\n",
      "Records extracted: 2\u001b[0m\n",
      "Starting iteration with limit=1000 skip=0 ...\u001b[0m\n"
     ]
    },
    {
     "name": "stdout",
     "output_type": "stream",
     "text": [
      "ur.01033115570.02 id has 2 patents\n",
      "851. Gregory Bisson\n",
      "ur.0774552402.95\n"
     ]
    },
    {
     "name": "stderr",
     "output_type": "stream",
     "text": [
      "0-2 / 2 (1.45s)\u001b[0m\n",
      "===\n",
      "Records extracted: 2\u001b[0m\n",
      "Starting iteration with limit=1000 skip=0 ...\u001b[0m\n"
     ]
    },
    {
     "name": "stdout",
     "output_type": "stream",
     "text": [
      "ur.0774552402.95 id has 2 patents\n",
      "852. Katrin Chua\n",
      "ur.01212733661.87\n"
     ]
    },
    {
     "name": "stderr",
     "output_type": "stream",
     "text": [
      "===\n",
      "Records extracted: 0\u001b[0m\n",
      "Starting iteration with limit=1000 skip=0 ...\u001b[0m\n"
     ]
    },
    {
     "name": "stdout",
     "output_type": "stream",
     "text": [
      "ur.01212733661.87 id has 0 patents\n",
      "853. Stephanie Eisenbarth\n",
      "ur.0660114053.00\n"
     ]
    },
    {
     "name": "stderr",
     "output_type": "stream",
     "text": [
      "0-11 / 11 (1.46s)\u001b[0m\n",
      "===\n",
      "Records extracted: 11\u001b[0m\n",
      "Starting iteration with limit=1000 skip=0 ...\u001b[0m\n"
     ]
    },
    {
     "name": "stdout",
     "output_type": "stream",
     "text": [
      "ur.0660114053.00 id has 11 patents\n",
      "854. Amit Gaggar\n",
      "ur.01041573706.30\n"
     ]
    },
    {
     "name": "stderr",
     "output_type": "stream",
     "text": [
      "0-6 / 6 (4.32s)\u001b[0m\n",
      "===\n",
      "Records extracted: 6\u001b[0m\n",
      "Starting iteration with limit=1000 skip=0 ...\u001b[0m\n"
     ]
    },
    {
     "name": "stdout",
     "output_type": "stream",
     "text": [
      "ur.01041573706.30 id has 6 patents\n",
      "855. Santhi Ganesh\n",
      "ur.01242054035.01\n"
     ]
    },
    {
     "name": "stderr",
     "output_type": "stream",
     "text": [
      "0-10 / 10 (1.42s)\u001b[0m\n",
      "===\n",
      "Records extracted: 10\u001b[0m\n",
      "Starting iteration with limit=1000 skip=0 ...\u001b[0m\n"
     ]
    },
    {
     "name": "stdout",
     "output_type": "stream",
     "text": [
      "ur.01242054035.01 id has 10 patents\n",
      "856. Johann Gudjonsson\n",
      "ur.0667203543.79\n"
     ]
    },
    {
     "name": "stderr",
     "output_type": "stream",
     "text": [
      "0-23 / 23 (3.15s)\u001b[0m\n",
      "===\n",
      "Records extracted: 23\u001b[0m\n",
      "Starting iteration with limit=1000 skip=0 ...\u001b[0m\n"
     ]
    },
    {
     "name": "stdout",
     "output_type": "stream",
     "text": [
      "ur.0667203543.79 id has 23 patents\n",
      "857. Alan Hanash\n",
      "ur.0670106460.27\n"
     ]
    },
    {
     "name": "stderr",
     "output_type": "stream",
     "text": [
      "===\n",
      "Records extracted: 0\u001b[0m\n",
      "Starting iteration with limit=1000 skip=0 ...\u001b[0m\n"
     ]
    },
    {
     "name": "stdout",
     "output_type": "stream",
     "text": [
      "ur.0670106460.27 id has 0 patents\n",
      "858. Mark Hatley\n",
      "ur.01170431256.00\n"
     ]
    },
    {
     "name": "stderr",
     "output_type": "stream",
     "text": [
      "===\n",
      "Records extracted: 0\u001b[0m\n",
      "Starting iteration with limit=1000 skip=0 ...\u001b[0m\n"
     ]
    },
    {
     "name": "stdout",
     "output_type": "stream",
     "text": [
      "ur.01170431256.00 id has 0 patents\n",
      "859. Brent Hollenbeck\n",
      "ur.01145654113.82\n"
     ]
    },
    {
     "name": "stderr",
     "output_type": "stream",
     "text": [
      "===\n",
      "Records extracted: 0\u001b[0m\n",
      "Starting iteration with limit=1000 skip=0 ...\u001b[0m\n"
     ]
    },
    {
     "name": "stdout",
     "output_type": "stream",
     "text": [
      "ur.01145654113.82 id has 0 patents\n",
      "860. Erik Ingelsson\n",
      "ur.0577762654.83\n"
     ]
    },
    {
     "name": "stderr",
     "output_type": "stream",
     "text": [
      "===\n",
      "Records extracted: 0\u001b[0m\n",
      "Starting iteration with limit=1000 skip=0 ...\u001b[0m\n"
     ]
    },
    {
     "name": "stdout",
     "output_type": "stream",
     "text": [
      "ur.0577762654.83 id has 0 patents\n",
      "861. Shuta Ishibe\n",
      "ur.01054747732.03\n"
     ]
    },
    {
     "name": "stderr",
     "output_type": "stream",
     "text": [
      "===\n",
      "Records extracted: 0\u001b[0m\n",
      "Starting iteration with limit=1000 skip=0 ...\u001b[0m\n"
     ]
    },
    {
     "name": "stdout",
     "output_type": "stream",
     "text": [
      "ur.01054747732.03 id has 0 patents\n",
      "862. Fasiha Kanwal\n",
      "ur.01022631461.07\n"
     ]
    },
    {
     "name": "stderr",
     "output_type": "stream",
     "text": [
      "0-77 / 77 (3.66s)\u001b[0m\n",
      "===\n",
      "Records extracted: 77\u001b[0m\n",
      "Starting iteration with limit=1000 skip=0 ...\u001b[0m\n"
     ]
    },
    {
     "name": "stdout",
     "output_type": "stream",
     "text": [
      "ur.01022631461.07 id has 77 patents\n",
      "863. James Kochenderfer\n",
      "ur.01044511164.71\n"
     ]
    },
    {
     "name": "stderr",
     "output_type": "stream",
     "text": [
      "0-2 / 2 (5.82s)\u001b[0m\n",
      "===\n",
      "Records extracted: 2\u001b[0m\n",
      "Starting iteration with limit=1000 skip=0 ...\u001b[0m\n"
     ]
    },
    {
     "name": "stdout",
     "output_type": "stream",
     "text": [
      "ur.01044511164.71 id has 2 patents\n",
      "864. Michail Lionakis\n",
      "ur.07443060614.49\n"
     ]
    },
    {
     "name": "stderr",
     "output_type": "stream",
     "text": [
      "0-1 / 1 (1.29s)\u001b[0m\n",
      "===\n",
      "Records extracted: 1\u001b[0m\n",
      "Starting iteration with limit=1000 skip=0 ...\u001b[0m\n"
     ]
    },
    {
     "name": "stdout",
     "output_type": "stream",
     "text": [
      "ur.07443060614.49 id has 1 patents\n",
      "865. Meenakshi Madhur\n",
      "ur.01261750610.91\n"
     ]
    },
    {
     "name": "stderr",
     "output_type": "stream",
     "text": [
      "===\n",
      "Records extracted: 0\u001b[0m\n",
      "Starting iteration with limit=1000 skip=0 ...\u001b[0m\n"
     ]
    },
    {
     "name": "stdout",
     "output_type": "stream",
     "text": [
      "ur.01261750610.91 id has 0 patents\n",
      "866. Denise Marciano\n",
      "ur.0742116405.08\n"
     ]
    },
    {
     "name": "stderr",
     "output_type": "stream",
     "text": [
      "===\n",
      "Records extracted: 0\u001b[0m\n",
      "Starting iteration with limit=1000 skip=0 ...\u001b[0m\n"
     ]
    },
    {
     "name": "stdout",
     "output_type": "stream",
     "text": [
      "ur.0742116405.08 id has 0 patents\n",
      "867. Erica Marsh\n",
      "ur.0617760334.42\n"
     ]
    },
    {
     "name": "stderr",
     "output_type": "stream",
     "text": [
      "0-273 / 273 (5.74s)\u001b[0m\n",
      "===\n",
      "Records extracted: 273\u001b[0m\n",
      "Starting iteration with limit=1000 skip=0 ...\u001b[0m\n"
     ]
    },
    {
     "name": "stdout",
     "output_type": "stream",
     "text": [
      "ur.0617760334.42 id has 273 patents\n",
      "868. Marcela Maus\n",
      "ur.0720267646.48\n"
     ]
    },
    {
     "name": "stderr",
     "output_type": "stream",
     "text": [
      "0-7 / 7 (4.59s)\u001b[0m\n",
      "===\n",
      "Records extracted: 7\u001b[0m\n",
      "Starting iteration with limit=1000 skip=0 ...\u001b[0m\n"
     ]
    },
    {
     "name": "stdout",
     "output_type": "stream",
     "text": [
      "ur.0720267646.48 id has 7 patents\n",
      "869. Javid Moslehi\n",
      "ur.01207610716.07\n"
     ]
    },
    {
     "name": "stderr",
     "output_type": "stream",
     "text": [
      "===\n",
      "Records extracted: 0\u001b[0m\n",
      "Starting iteration with limit=1000 skip=0 ...\u001b[0m\n"
     ]
    },
    {
     "name": "stdout",
     "output_type": "stream",
     "text": [
      "ur.01207610716.07 id has 0 patents\n",
      "870. Lauren Sansing\n",
      "ur.0657425506.62\n"
     ]
    },
    {
     "name": "stderr",
     "output_type": "stream",
     "text": [
      "===\n",
      "Records extracted: 0\u001b[0m\n",
      "Starting iteration with limit=1000 skip=0 ...\u001b[0m\n"
     ]
    },
    {
     "name": "stdout",
     "output_type": "stream",
     "text": [
      "ur.0657425506.62 id has 0 patents\n",
      "871. Daichi Shimbo\n",
      "ur.01206322714.70\n"
     ]
    },
    {
     "name": "stderr",
     "output_type": "stream",
     "text": [
      "===\n",
      "Records extracted: 0\u001b[0m\n",
      "Starting iteration with limit=1000 skip=0 ...\u001b[0m\n"
     ]
    },
    {
     "name": "stdout",
     "output_type": "stream",
     "text": [
      "ur.01206322714.70 id has 0 patents\n",
      "872. Jennifer Taylor-Cousar\n",
      "ur.0645560304.68\n"
     ]
    },
    {
     "name": "stderr",
     "output_type": "stream",
     "text": [
      "0-71 / 71 (3.59s)\u001b[0m\n",
      "===\n",
      "Records extracted: 71\u001b[0m\n",
      "Starting iteration with limit=1000 skip=0 ...\u001b[0m\n"
     ]
    },
    {
     "name": "stdout",
     "output_type": "stream",
     "text": [
      "ur.0645560304.68 id has 71 patents\n",
      "873. Shreyas Vasanawala\n",
      "ur.01003501106.20\n"
     ]
    },
    {
     "name": "stderr",
     "output_type": "stream",
     "text": [
      "===\n",
      "Records extracted: 0\u001b[0m\n",
      "Starting iteration with limit=1000 skip=0 ...\u001b[0m\n"
     ]
    },
    {
     "name": "stdout",
     "output_type": "stream",
     "text": [
      "ur.01003501106.20 id has 0 patents\n",
      "874. Renda Wiener\n",
      "ur.01203627343.88\n"
     ]
    },
    {
     "name": "stderr",
     "output_type": "stream",
     "text": [
      "0-6 / 6 (4.76s)\u001b[0m\n",
      "===\n",
      "Records extracted: 6\u001b[0m\n",
      "Starting iteration with limit=1000 skip=0 ...\u001b[0m\n"
     ]
    },
    {
     "name": "stdout",
     "output_type": "stream",
     "text": [
      "ur.01203627343.88 id has 6 patents\n",
      "875. Jennifer Woyach\n",
      "ur.0746426567.23\n"
     ]
    },
    {
     "name": "stderr",
     "output_type": "stream",
     "text": [
      "===\n",
      "Records extracted: 0\u001b[0m\n",
      "Starting iteration with limit=1000 skip=0 ...\u001b[0m\n"
     ]
    },
    {
     "name": "stdout",
     "output_type": "stream",
     "text": [
      "ur.0746426567.23 id has 0 patents\n",
      "876. Xilma Ortiz-Gonzalez\n",
      "ur.01000217046.81\n"
     ]
    },
    {
     "name": "stderr",
     "output_type": "stream",
     "text": [
      "===\n",
      "Records extracted: 0\u001b[0m\n",
      "Starting iteration with limit=1000 skip=0 ...\u001b[0m\n"
     ]
    },
    {
     "name": "stdout",
     "output_type": "stream",
     "text": [
      "ur.01000217046.81 id has 0 patents\n",
      "877. Muktar Aliyu\n",
      "ur.0612157504.96\n"
     ]
    },
    {
     "name": "stderr",
     "output_type": "stream",
     "text": [
      "0-14 / 14 (1.42s)\u001b[0m\n",
      "===\n",
      "Records extracted: 14\u001b[0m\n",
      "Starting iteration with limit=1000 skip=0 ...\u001b[0m\n"
     ]
    },
    {
     "name": "stdout",
     "output_type": "stream",
     "text": [
      "ur.0612157504.96 id has 14 patents\n",
      "878. Himisha Beltran\n",
      "ur.0717207646.45\n"
     ]
    },
    {
     "name": "stderr",
     "output_type": "stream",
     "text": [
      "0-5 / 5 (1.42s)\u001b[0m\n",
      "===\n",
      "Records extracted: 5\u001b[0m\n",
      "Starting iteration with limit=1000 skip=0 ...\u001b[0m\n"
     ]
    },
    {
     "name": "stdout",
     "output_type": "stream",
     "text": [
      "ur.0717207646.45 id has 5 patents\n",
      "879. Supinda Bunyavanich\n",
      "ur.0733777727.54\n"
     ]
    },
    {
     "name": "stderr",
     "output_type": "stream",
     "text": [
      "===\n",
      "Records extracted: 0\u001b[0m\n",
      "Starting iteration with limit=1000 skip=0 ...\u001b[0m\n"
     ]
    },
    {
     "name": "stdout",
     "output_type": "stream",
     "text": [
      "ur.0733777727.54 id has 0 patents\n",
      "880. Mark Burkard\n",
      "ur.01044336330.82\n"
     ]
    },
    {
     "name": "stderr",
     "output_type": "stream",
     "text": [
      "===\n",
      "Records extracted: 0\u001b[0m\n",
      "Starting iteration with limit=1000 skip=0 ...\u001b[0m\n"
     ]
    },
    {
     "name": "stdout",
     "output_type": "stream",
     "text": [
      "ur.01044336330.82 id has 0 patents\n",
      "881. Nataki Douglas\n",
      "ur.01240757245.78\n"
     ]
    },
    {
     "name": "stderr",
     "output_type": "stream",
     "text": [
      "0-1 / 1 (1.29s)\u001b[0m\n",
      "===\n",
      "Records extracted: 1\u001b[0m\n",
      "Starting iteration with limit=1000 skip=0 ...\u001b[0m\n"
     ]
    },
    {
     "name": "stdout",
     "output_type": "stream",
     "text": [
      "ur.01240757245.78 id has 1 patents\n",
      "882. Brian Edelson\n",
      "ur.0750523305.07\n"
     ]
    },
    {
     "name": "stderr",
     "output_type": "stream",
     "text": [
      "0-7 / 7 (1.22s)\u001b[0m\n",
      "===\n",
      "Records extracted: 7\u001b[0m\n",
      "Starting iteration with limit=1000 skip=0 ...\u001b[0m\n"
     ]
    },
    {
     "name": "stdout",
     "output_type": "stream",
     "text": [
      "ur.0750523305.07 id has 7 patents\n",
      "883. Peter Fecci\n",
      "ur.0626621021.68\n"
     ]
    },
    {
     "name": "stderr",
     "output_type": "stream",
     "text": [
      "0-1 / 1 (1.85s)\u001b[0m\n",
      "===\n",
      "Records extracted: 1\u001b[0m\n",
      "Starting iteration with limit=1000 skip=0 ...\u001b[0m\n"
     ]
    },
    {
     "name": "stdout",
     "output_type": "stream",
     "text": [
      "ur.0626621021.68 id has 1 patents\n",
      "884. Walid Gellad\n",
      "ur.0612725321.87\n"
     ]
    },
    {
     "name": "stderr",
     "output_type": "stream",
     "text": [
      "===\n",
      "Records extracted: 0\u001b[0m\n",
      "Starting iteration with limit=1000 skip=0 ...\u001b[0m\n"
     ]
    },
    {
     "name": "stdout",
     "output_type": "stream",
     "text": [
      "ur.0612725321.87 id has 0 patents\n",
      "885. Peyman Golshani\n",
      "ur.0613641725.44\n"
     ]
    },
    {
     "name": "stderr",
     "output_type": "stream",
     "text": [
      "0-6 / 6 (1.77s)\u001b[0m\n",
      "===\n",
      "Records extracted: 6\u001b[0m\n",
      "Starting iteration with limit=1000 skip=0 ...\u001b[0m\n"
     ]
    },
    {
     "name": "stdout",
     "output_type": "stream",
     "text": [
      "ur.0613641725.44 id has 6 patents\n",
      "886. Petros Karakousis\n",
      "ur.01007613452.86\n"
     ]
    },
    {
     "name": "stderr",
     "output_type": "stream",
     "text": [
      "0-23 / 23 (1.46s)\u001b[0m\n",
      "===\n",
      "Records extracted: 23\u001b[0m\n",
      "Starting iteration with limit=1000 skip=0 ...\u001b[0m\n"
     ]
    },
    {
     "name": "stdout",
     "output_type": "stream",
     "text": [
      "ur.01007613452.86 id has 23 patents\n",
      "887. Purna Kashyap\n",
      "ur.01145454311.94\n"
     ]
    },
    {
     "name": "stderr",
     "output_type": "stream",
     "text": [
      "0-4 / 4 (1.15s)\u001b[0m\n",
      "===\n",
      "Records extracted: 4\u001b[0m\n",
      "Starting iteration with limit=1000 skip=0 ...\u001b[0m\n"
     ]
    },
    {
     "name": "stdout",
     "output_type": "stream",
     "text": [
      "ur.01145454311.94 id has 4 patents\n",
      "888. Anna Köttgen\n",
      "ur.01147736760.42\n"
     ]
    },
    {
     "name": "stderr",
     "output_type": "stream",
     "text": [
      "===\n",
      "Records extracted: 0\u001b[0m\n",
      "Starting iteration with limit=1000 skip=0 ...\u001b[0m\n"
     ]
    },
    {
     "name": "stdout",
     "output_type": "stream",
     "text": [
      "ur.01147736760.42 id has 0 patents\n",
      "889. Philana Lin\n",
      "ur.01116324012.77\n"
     ]
    },
    {
     "name": "stderr",
     "output_type": "stream",
     "text": [
      "0-10 / 10 (1.33s)\u001b[0m\n",
      "===\n",
      "Records extracted: 10\u001b[0m\n",
      "Starting iteration with limit=1000 skip=0 ...\u001b[0m\n"
     ]
    },
    {
     "name": "stdout",
     "output_type": "stream",
     "text": [
      "ur.01116324012.77 id has 10 patents\n",
      "890. Piro Lito\n",
      "ur.0721566206.32\n"
     ]
    },
    {
     "name": "stderr",
     "output_type": "stream",
     "text": [
      "0-8 / 8 (1.47s)\u001b[0m\n",
      "===\n",
      "Records extracted: 8\u001b[0m\n",
      "Starting iteration with limit=1000 skip=0 ...\u001b[0m\n"
     ]
    },
    {
     "name": "stdout",
     "output_type": "stream",
     "text": [
      "ur.0721566206.32 id has 8 patents\n",
      "891. Carey Lumeng\n",
      "ur.01273256011.82\n"
     ]
    },
    {
     "name": "stderr",
     "output_type": "stream",
     "text": [
      "0-9 / 9 (4.43s)\u001b[0m\n",
      "===\n",
      "Records extracted: 9\u001b[0m\n",
      "Starting iteration with limit=1000 skip=0 ...\u001b[0m\n"
     ]
    },
    {
     "name": "stdout",
     "output_type": "stream",
     "text": [
      "ur.01273256011.82 id has 9 patents\n",
      "892. Tippi MacKenzie\n",
      "ur.01325122762.14\n"
     ]
    },
    {
     "name": "stderr",
     "output_type": "stream",
     "text": [
      "0-2 / 2 (1.32s)\u001b[0m\n",
      "===\n",
      "Records extracted: 2\u001b[0m\n",
      "Starting iteration with limit=1000 skip=0 ...\u001b[0m\n"
     ]
    },
    {
     "name": "stdout",
     "output_type": "stream",
     "text": [
      "ur.01325122762.14 id has 2 patents\n",
      "893. Nuala Meyer\n",
      "ur.01201306234.13\n"
     ]
    },
    {
     "name": "stderr",
     "output_type": "stream",
     "text": [
      "===\n",
      "Records extracted: 0\u001b[0m\n",
      "Starting iteration with limit=1000 skip=0 ...\u001b[0m\n"
     ]
    },
    {
     "name": "stdout",
     "output_type": "stream",
     "text": [
      "ur.01201306234.13 id has 0 patents\n",
      "894. Erik Musiek\n",
      "ur.0642330361.12\n"
     ]
    },
    {
     "name": "stderr",
     "output_type": "stream",
     "text": [
      "===\n",
      "Records extracted: 0\u001b[0m\n",
      "Starting iteration with limit=1000 skip=0 ...\u001b[0m\n"
     ]
    },
    {
     "name": "stdout",
     "output_type": "stream",
     "text": [
      "ur.0642330361.12 id has 0 patents\n",
      "895. Peggy Myung\n",
      "ur.01227611626.52\n"
     ]
    },
    {
     "name": "stderr",
     "output_type": "stream",
     "text": [
      "0-33 / 33 (1.24s)\u001b[0m\n",
      "===\n",
      "Records extracted: 33\u001b[0m\n",
      "Starting iteration with limit=1000 skip=0 ...\u001b[0m\n"
     ]
    },
    {
     "name": "stdout",
     "output_type": "stream",
     "text": [
      "ur.01227611626.52 id has 33 patents\n",
      "896. Utpal Pajvani\n",
      "ur.01234015225.22\n"
     ]
    },
    {
     "name": "stderr",
     "output_type": "stream",
     "text": [
      "0-20 / 20 (4.53s)\u001b[0m\n",
      "===\n",
      "Records extracted: 20\u001b[0m\n",
      "Starting iteration with limit=1000 skip=0 ...\u001b[0m\n"
     ]
    },
    {
     "name": "stdout",
     "output_type": "stream",
     "text": [
      "ur.01234015225.22 id has 20 patents\n",
      "897. Chad Pecot\n",
      "ur.0611613645.20\n"
     ]
    },
    {
     "name": "stderr",
     "output_type": "stream",
     "text": [
      "0-12 / 12 (1.32s)\u001b[0m\n",
      "===\n",
      "Records extracted: 12\u001b[0m\n",
      "Starting iteration with limit=1000 skip=0 ...\u001b[0m\n"
     ]
    },
    {
     "name": "stdout",
     "output_type": "stream",
     "text": [
      "ur.0611613645.20 id has 12 patents\n",
      "898. Jalees Rehman\n",
      "ur.01350751743.31\n"
     ]
    },
    {
     "name": "stderr",
     "output_type": "stream",
     "text": [
      "===\n",
      "Records extracted: 0\u001b[0m\n",
      "Starting iteration with limit=1000 skip=0 ...\u001b[0m\n"
     ]
    },
    {
     "name": "stdout",
     "output_type": "stream",
     "text": [
      "ur.01350751743.31 id has 0 patents\n",
      "899. Nasia Safdar\n",
      "ur.0752143106.19\n"
     ]
    },
    {
     "name": "stderr",
     "output_type": "stream",
     "text": [
      "===\n",
      "Records extracted: 0\u001b[0m\n",
      "Starting iteration with limit=1000 skip=0 ...\u001b[0m\n"
     ]
    },
    {
     "name": "stdout",
     "output_type": "stream",
     "text": [
      "ur.0752143106.19 id has 0 patents\n",
      "900. Joanna Steinglass\n",
      "ur.01065735320.09\n"
     ]
    },
    {
     "name": "stderr",
     "output_type": "stream",
     "text": [
      "0-1 / 1 (1.22s)\u001b[0m\n",
      "===\n",
      "Records extracted: 1\u001b[0m\n",
      "Starting iteration with limit=1000 skip=0 ...\u001b[0m\n"
     ]
    },
    {
     "name": "stdout",
     "output_type": "stream",
     "text": [
      "ur.01065735320.09 id has 1 patents\n",
      "901. Nathan Stitziel\n",
      "ur.01320225021.62\n"
     ]
    },
    {
     "name": "stderr",
     "output_type": "stream",
     "text": [
      "===\n",
      "Records extracted: 0\u001b[0m\n",
      "Starting iteration with limit=1000 skip=0 ...\u001b[0m\n"
     ]
    },
    {
     "name": "stdout",
     "output_type": "stream",
     "text": [
      "ur.01320225021.62 id has 0 patents\n",
      "902. Hilary Tindle\n",
      "ur.01113575266.18\n"
     ]
    },
    {
     "name": "stderr",
     "output_type": "stream",
     "text": [
      "===\n",
      "Records extracted: 0\u001b[0m\n",
      "Starting iteration with limit=1000 skip=0 ...\u001b[0m\n"
     ]
    },
    {
     "name": "stdout",
     "output_type": "stream",
     "text": [
      "ur.01113575266.18 id has 0 patents\n",
      "903. Jinoos Yazdany\n",
      "ur.0704166426.67\n"
     ]
    },
    {
     "name": "stderr",
     "output_type": "stream",
     "text": [
      "===\n",
      "Records extracted: 0\u001b[0m\n",
      "Starting iteration with limit=1000 skip=0 ...\u001b[0m\n"
     ]
    },
    {
     "name": "stdout",
     "output_type": "stream",
     "text": [
      "ur.0704166426.67 id has 0 patents\n",
      "904. Julie Zikherman\n",
      "ur.0773257256.10\n"
     ]
    },
    {
     "name": "stderr",
     "output_type": "stream",
     "text": [
      "===\n",
      "Records extracted: 0\u001b[0m\n",
      "Starting iteration with limit=1000 skip=0 ...\u001b[0m\n"
     ]
    },
    {
     "name": "stdout",
     "output_type": "stream",
     "text": [
      "ur.0773257256.10 id has 0 patents\n",
      "905. Serine Avagyan\n",
      "ur.01345327306.14\n"
     ]
    },
    {
     "name": "stderr",
     "output_type": "stream",
     "text": [
      "===\n",
      "Records extracted: 0\u001b[0m\n",
      "Starting iteration with limit=1000 skip=0 ...\u001b[0m\n"
     ]
    },
    {
     "name": "stdout",
     "output_type": "stream",
     "text": [
      "ur.01345327306.14 id has 0 patents\n",
      "906. Jeeyeon Cha\n",
      "ur.01065210026.17\n"
     ]
    },
    {
     "name": "stderr",
     "output_type": "stream",
     "text": [
      "0-6 / 6 (2.83s)\u001b[0m\n",
      "===\n",
      "Records extracted: 6\u001b[0m\n",
      "Starting iteration with limit=1000 skip=0 ...\u001b[0m\n"
     ]
    },
    {
     "name": "stdout",
     "output_type": "stream",
     "text": [
      "ur.01065210026.17 id has 6 patents\n",
      "907. Raghu Chivukula\n",
      "ur.01073223207.22\n"
     ]
    },
    {
     "name": "stderr",
     "output_type": "stream",
     "text": [
      "===\n",
      "Records extracted: 0\u001b[0m\n",
      "Starting iteration with limit=1000 skip=0 ...\u001b[0m\n"
     ]
    },
    {
     "name": "stdout",
     "output_type": "stream",
     "text": [
      "ur.01073223207.22 id has 0 patents\n",
      "908. Carlos Diaz-Balzac\n",
      "ur.01313320247.74\n"
     ]
    },
    {
     "name": "stderr",
     "output_type": "stream",
     "text": [
      "0-1 / 1 (1.18s)\u001b[0m\n",
      "===\n",
      "Records extracted: 1\u001b[0m\n",
      "Starting iteration with limit=1000 skip=0 ...\u001b[0m\n"
     ]
    },
    {
     "name": "stdout",
     "output_type": "stream",
     "text": [
      "ur.01313320247.74 id has 1 patents\n",
      "909. Neir Eshel\n",
      "ur.01054776357.12\n"
     ]
    },
    {
     "name": "stderr",
     "output_type": "stream",
     "text": [
      "===\n",
      "Records extracted: 0\u001b[0m\n",
      "Starting iteration with limit=1000 skip=0 ...\u001b[0m\n"
     ]
    },
    {
     "name": "stdout",
     "output_type": "stream",
     "text": [
      "ur.01054776357.12 id has 0 patents\n",
      "910. Celestine Wanjalla\n",
      "ur.01140173463.29\n"
     ]
    },
    {
     "name": "stderr",
     "output_type": "stream",
     "text": [
      "0-86 / 86 (6.29s)\u001b[0m\n",
      "===\n",
      "Records extracted: 86\u001b[0m\n",
      "Starting iteration with limit=1000 skip=0 ...\u001b[0m\n"
     ]
    },
    {
     "name": "stdout",
     "output_type": "stream",
     "text": [
      "ur.01140173463.29 id has 86 patents\n",
      "911. Suneet Agarwal\n",
      "ur.01050245067.85\n"
     ]
    },
    {
     "name": "stderr",
     "output_type": "stream",
     "text": [
      "0-9 / 9 (1.28s)\u001b[0m\n",
      "===\n",
      "Records extracted: 9\u001b[0m\n",
      "Starting iteration with limit=1000 skip=0 ...\u001b[0m\n"
     ]
    },
    {
     "name": "stdout",
     "output_type": "stream",
     "text": [
      "ur.01050245067.85 id has 9 patents\n",
      "912. Emmanuel Antonarakis\n",
      "ur.0622760450.87\n"
     ]
    },
    {
     "name": "stderr",
     "output_type": "stream",
     "text": [
      "===\n",
      "Records extracted: 0\u001b[0m\n",
      "Starting iteration with limit=1000 skip=0 ...\u001b[0m\n"
     ]
    },
    {
     "name": "stdout",
     "output_type": "stream",
     "text": [
      "ur.0622760450.87 id has 0 patents\n",
      "913. Valerie Arboleda\n",
      "ur.01031777650.00\n"
     ]
    },
    {
     "name": "stderr",
     "output_type": "stream",
     "text": [
      "0-4 / 4 (1.44s)\u001b[0m\n",
      "===\n",
      "Records extracted: 4\u001b[0m\n",
      "Starting iteration with limit=1000 skip=0 ...\u001b[0m\n"
     ]
    },
    {
     "name": "stdout",
     "output_type": "stream",
     "text": [
      "ur.01031777650.00 id has 4 patents\n",
      "914. Ashwin Balagopal\n",
      "ur.01314524742.38\n"
     ]
    },
    {
     "name": "stderr",
     "output_type": "stream",
     "text": [
      "0-2 / 2 (4.65s)\u001b[0m\n",
      "===\n",
      "Records extracted: 2\u001b[0m\n",
      "Starting iteration with limit=1000 skip=0 ...\u001b[0m\n"
     ]
    },
    {
     "name": "stdout",
     "output_type": "stream",
     "text": [
      "ur.01314524742.38 id has 2 patents\n",
      "915. Grant Barish\n",
      "ur.01027071546.34\n"
     ]
    },
    {
     "name": "stderr",
     "output_type": "stream",
     "text": [
      "0-1 / 1 (5.92s)\u001b[0m\n",
      "===\n",
      "Records extracted: 1\u001b[0m\n",
      "Starting iteration with limit=1000 skip=0 ...\u001b[0m\n"
     ]
    },
    {
     "name": "stdout",
     "output_type": "stream",
     "text": [
      "ur.01027071546.34 id has 1 patents\n",
      "916. Ann Chahroudi\n",
      "ur.0701142553.39\n"
     ]
    },
    {
     "name": "stderr",
     "output_type": "stream",
     "text": [
      "===\n",
      "Records extracted: 0\u001b[0m\n",
      "Starting iteration with limit=1000 skip=0 ...\u001b[0m\n"
     ]
    },
    {
     "name": "stdout",
     "output_type": "stream",
     "text": [
      "ur.0701142553.39 id has 0 patents\n",
      "917. William Checkley\n",
      "ur.0734560734.09\n"
     ]
    },
    {
     "name": "stderr",
     "output_type": "stream",
     "text": [
      "===\n",
      "Records extracted: 0\u001b[0m\n",
      "Starting iteration with limit=1000 skip=0 ...\u001b[0m\n"
     ]
    },
    {
     "name": "stdout",
     "output_type": "stream",
     "text": [
      "ur.0734560734.09 id has 0 patents\n",
      "918. Daniel Chertow\n",
      "ur.01012127216.20\n"
     ]
    },
    {
     "name": "stderr",
     "output_type": "stream",
     "text": [
      "0-7 / 7 (1.66s)\u001b[0m\n",
      "===\n",
      "Records extracted: 7\u001b[0m\n",
      "Starting iteration with limit=1000 skip=0 ...\u001b[0m\n"
     ]
    },
    {
     "name": "stdout",
     "output_type": "stream",
     "text": [
      "ur.01012127216.20 id has 7 patents\n",
      "919. Julio Chirinos\n",
      "ur.01262352477.33\n"
     ]
    },
    {
     "name": "stderr",
     "output_type": "stream",
     "text": [
      "0-1 / 1 (1.24s)\u001b[0m\n",
      "===\n",
      "Records extracted: 1\u001b[0m\n",
      "Starting iteration with limit=1000 skip=0 ...\u001b[0m\n"
     ]
    },
    {
     "name": "stdout",
     "output_type": "stream",
     "text": [
      "ur.01262352477.33 id has 1 patents\n",
      "920. Vineet Chopra\n",
      "ur.01307323402.77\n"
     ]
    },
    {
     "name": "stderr",
     "output_type": "stream",
     "text": [
      "===\n",
      "Records extracted: 0\u001b[0m\n",
      "Starting iteration with limit=1000 skip=0 ...\u001b[0m\n"
     ]
    },
    {
     "name": "stdout",
     "output_type": "stream",
     "text": [
      "ur.01307323402.77 id has 0 patents\n",
      "921. Hitesh Deshmukh\n",
      "ur.0716644276.63\n"
     ]
    },
    {
     "name": "stderr",
     "output_type": "stream",
     "text": [
      "0-3 / 3 (1.12s)\u001b[0m\n",
      "===\n",
      "Records extracted: 3\u001b[0m\n",
      "Starting iteration with limit=1000 skip=0 ...\u001b[0m\n"
     ]
    },
    {
     "name": "stdout",
     "output_type": "stream",
     "text": [
      "ur.0716644276.63 id has 3 patents\n",
      "922. Tarek Ashkar\n",
      "ur.0714551420.04\n"
     ]
    },
    {
     "name": "stderr",
     "output_type": "stream",
     "text": [
      "===\n",
      "Records extracted: 0\u001b[0m\n",
      "Starting iteration with limit=1000 skip=0 ...\u001b[0m\n"
     ]
    },
    {
     "name": "stdout",
     "output_type": "stream",
     "text": [
      "ur.0714551420.04 id has 0 patents\n",
      "923. Areej El-Jawahri\n",
      "ur.01054404241.14\n"
     ]
    },
    {
     "name": "stderr",
     "output_type": "stream",
     "text": [
      "===\n",
      "Records extracted: 0\u001b[0m\n",
      "Starting iteration with limit=1000 skip=0 ...\u001b[0m\n"
     ]
    },
    {
     "name": "stdout",
     "output_type": "stream",
     "text": [
      "ur.01054404241.14 id has 0 patents\n",
      "924. Zachary Freyberg\n",
      "ur.01277770016.06\n"
     ]
    },
    {
     "name": "stderr",
     "output_type": "stream",
     "text": [
      "===\n",
      "Records extracted: 0\u001b[0m\n",
      "Starting iteration with limit=1000 skip=0 ...\u001b[0m\n"
     ]
    },
    {
     "name": "stdout",
     "output_type": "stream",
     "text": [
      "ur.01277770016.06 id has 0 patents\n",
      "925. Ankush Gosain\n",
      "ur.01176562041.07\n"
     ]
    },
    {
     "name": "stderr",
     "output_type": "stream",
     "text": [
      "===\n",
      "Records extracted: 0\u001b[0m\n",
      "Starting iteration with limit=1000 skip=0 ...\u001b[0m\n"
     ]
    },
    {
     "name": "stdout",
     "output_type": "stream",
     "text": [
      "ur.01176562041.07 id has 0 patents\n",
      "926. Ronna Hertzano\n",
      "ur.01351572451.48\n"
     ]
    },
    {
     "name": "stderr",
     "output_type": "stream",
     "text": [
      "===\n",
      "Records extracted: 0\u001b[0m\n",
      "Starting iteration with limit=1000 skip=0 ...\u001b[0m\n"
     ]
    },
    {
     "name": "stdout",
     "output_type": "stream",
     "text": [
      "ur.01351572451.48 id has 0 patents\n",
      "927. Lori Jordan\n",
      "ur.01061277120.04\n"
     ]
    },
    {
     "name": "stderr",
     "output_type": "stream",
     "text": [
      "===\n",
      "Records extracted: 0\u001b[0m\n",
      "Starting iteration with limit=1000 skip=0 ...\u001b[0m\n"
     ]
    },
    {
     "name": "stdout",
     "output_type": "stream",
     "text": [
      "ur.01061277120.04 id has 0 patents\n",
      "928. Kristopher Kahle\n",
      "ur.01232776263.17\n"
     ]
    },
    {
     "name": "stderr",
     "output_type": "stream",
     "text": [
      "0-17 / 17 (2.50s)\u001b[0m\n",
      "===\n",
      "Records extracted: 17\u001b[0m\n",
      "Starting iteration with limit=1000 skip=0 ...\u001b[0m\n"
     ]
    },
    {
     "name": "stdout",
     "output_type": "stream",
     "text": [
      "ur.01232776263.17 id has 17 patents\n",
      "929. Rosandra Kaplan\n",
      "ur.01056327621.83\n"
     ]
    },
    {
     "name": "stderr",
     "output_type": "stream",
     "text": [
      "0-79 / 79 (3.86s)\u001b[0m\n",
      "===\n",
      "Records extracted: 79\u001b[0m\n",
      "Starting iteration with limit=1000 skip=0 ...\u001b[0m\n"
     ]
    },
    {
     "name": "stdout",
     "output_type": "stream",
     "text": [
      "ur.01056327621.83 id has 79 patents\n",
      "930. Navin Kapur\n",
      "ur.0716536315.46\n"
     ]
    },
    {
     "name": "stderr",
     "output_type": "stream",
     "text": [
      "===\n",
      "Records extracted: 0\u001b[0m\n",
      "Starting iteration with limit=1000 skip=0 ...\u001b[0m\n"
     ]
    },
    {
     "name": "stdout",
     "output_type": "stream",
     "text": [
      "ur.0716536315.46 id has 0 patents\n",
      "931. Tim Lahm\n",
      "ur.01346416652.80\n"
     ]
    },
    {
     "name": "stderr",
     "output_type": "stream",
     "text": [
      "===\n",
      "Records extracted: 0\u001b[0m\n",
      "Starting iteration with limit=1000 skip=0 ...\u001b[0m\n"
     ]
    },
    {
     "name": "stdout",
     "output_type": "stream",
     "text": [
      "ur.01346416652.80 id has 0 patents\n",
      "932. Scott Lorch\n",
      "ur.0632745504.19\n"
     ]
    },
    {
     "name": "stderr",
     "output_type": "stream",
     "text": [
      "===\n",
      "Records extracted: 0\u001b[0m\n",
      "Starting iteration with limit=1000 skip=0 ...\u001b[0m\n"
     ]
    },
    {
     "name": "stdout",
     "output_type": "stream",
     "text": [
      "ur.0632745504.19 id has 0 patents\n",
      "933. Vincent Marconi\n",
      "ur.01061513235.38\n"
     ]
    },
    {
     "name": "stderr",
     "output_type": "stream",
     "text": [
      "0-5 / 5 (3.52s)\u001b[0m\n",
      "===\n",
      "Records extracted: 5\u001b[0m\n",
      "Starting iteration with limit=1000 skip=0 ...\u001b[0m\n"
     ]
    },
    {
     "name": "stdout",
     "output_type": "stream",
     "text": [
      "ur.01061513235.38 id has 5 patents\n",
      "934. Emanual Maverakis\n",
      "ur.0734133062.00\n"
     ]
    },
    {
     "name": "stderr",
     "output_type": "stream",
     "text": [
      "===\n",
      "Records extracted: 0\u001b[0m\n",
      "Starting iteration with limit=1000 skip=0 ...\u001b[0m\n"
     ]
    },
    {
     "name": "stdout",
     "output_type": "stream",
     "text": [
      "ur.0734133062.00 id has 0 patents\n",
      "935. Saurabh Mehandru\n",
      "ur.01057507054.23\n"
     ]
    },
    {
     "name": "stderr",
     "output_type": "stream",
     "text": [
      "===\n",
      "Records extracted: 0\u001b[0m\n",
      "Starting iteration with limit=1000 skip=0 ...\u001b[0m\n"
     ]
    },
    {
     "name": "stdout",
     "output_type": "stream",
     "text": [
      "ur.01057507054.23 id has 0 patents\n",
      "936. Raina Merchant\n",
      "ur.0771202634.00\n"
     ]
    },
    {
     "name": "stderr",
     "output_type": "stream",
     "text": [
      "===\n",
      "Records extracted: 0\u001b[0m\n",
      "Starting iteration with limit=1000 skip=0 ...\u001b[0m\n"
     ]
    },
    {
     "name": "stdout",
     "output_type": "stream",
     "text": [
      "ur.0771202634.00 id has 0 patents\n",
      "937. Marcella Nunez-Smith\n",
      "ur.01053524376.38\n"
     ]
    },
    {
     "name": "stderr",
     "output_type": "stream",
     "text": [
      "0-7 / 7 (3.60s)\u001b[0m\n",
      "===\n",
      "Records extracted: 7\u001b[0m\n",
      "Starting iteration with limit=1000 skip=0 ...\u001b[0m\n"
     ]
    },
    {
     "name": "stdout",
     "output_type": "stream",
     "text": [
      "ur.01053524376.38 id has 7 patents\n",
      "938. Sara Pai\n",
      "ur.01074046201.27\n"
     ]
    },
    {
     "name": "stderr",
     "output_type": "stream",
     "text": [
      "0-6 / 6 (1.22s)\u001b[0m\n",
      "===\n",
      "Records extracted: 6\u001b[0m\n",
      "Starting iteration with limit=1000 skip=0 ...\u001b[0m\n"
     ]
    },
    {
     "name": "stdout",
     "output_type": "stream",
     "text": [
      "ur.01074046201.27 id has 6 patents\n",
      "939. Matthew Rondina\n",
      "ur.0746153667.13\n"
     ]
    },
    {
     "name": "stderr",
     "output_type": "stream",
     "text": [
      "===\n",
      "Records extracted: 0\u001b[0m\n",
      "Starting iteration with limit=1000 skip=0 ...\u001b[0m\n"
     ]
    },
    {
     "name": "stdout",
     "output_type": "stream",
     "text": [
      "ur.0746153667.13 id has 0 patents\n",
      "940. Mara Schonberg\n",
      "ur.0707061024.05\n"
     ]
    },
    {
     "name": "stderr",
     "output_type": "stream",
     "text": [
      "0-2 / 2 (4.54s)\u001b[0m\n",
      "===\n",
      "Records extracted: 2\u001b[0m\n",
      "Starting iteration with limit=1000 skip=0 ...\u001b[0m\n"
     ]
    },
    {
     "name": "stdout",
     "output_type": "stream",
     "text": [
      "ur.0707061024.05 id has 2 patents\n",
      "941. Julie Schwarz\n",
      "ur.01362575676.38\n"
     ]
    },
    {
     "name": "stderr",
     "output_type": "stream",
     "text": [
      "===\n",
      "Records extracted: 0\u001b[0m\n",
      "Starting iteration with limit=1000 skip=0 ...\u001b[0m\n"
     ]
    },
    {
     "name": "stdout",
     "output_type": "stream",
     "text": [
      "ur.01362575676.38 id has 0 patents\n",
      "942. Mark Siedner\n",
      "ur.01170444001.02\n"
     ]
    },
    {
     "name": "stderr",
     "output_type": "stream",
     "text": [
      "===\n",
      "Records extracted: 0\u001b[0m\n",
      "Starting iteration with limit=1000 skip=0 ...\u001b[0m\n"
     ]
    },
    {
     "name": "stdout",
     "output_type": "stream",
     "text": [
      "ur.01170444001.02 id has 0 patents\n",
      "943. Jason Sperry\n",
      "ur.0740353704.37\n"
     ]
    },
    {
     "name": "stderr",
     "output_type": "stream",
     "text": [
      "===\n",
      "Records extracted: 0\u001b[0m\n",
      "Starting iteration with limit=1000 skip=0 ...\u001b[0m\n"
     ]
    },
    {
     "name": "stdout",
     "output_type": "stream",
     "text": [
      "ur.0740353704.37 id has 0 patents\n",
      "944. Consuelo Wilkins\n",
      "ur.01200476165.38\n"
     ]
    },
    {
     "name": "stderr",
     "output_type": "stream",
     "text": [
      "===\n",
      "Records extracted: 0\u001b[0m\n",
      "Starting iteration with limit=1000 skip=0 ...\u001b[0m\n"
     ]
    },
    {
     "name": "stdout",
     "output_type": "stream",
     "text": [
      "ur.01200476165.38 id has 0 patents\n",
      "945. Rachel Zemans\n",
      "ur.0776545751.25\n"
     ]
    },
    {
     "name": "stderr",
     "output_type": "stream",
     "text": [
      "===\n",
      "Records extracted: 0\u001b[0m\n",
      "Starting iteration with limit=1000 skip=0 ...\u001b[0m\n"
     ]
    },
    {
     "name": "stdout",
     "output_type": "stream",
     "text": [
      "ur.0776545751.25 id has 0 patents\n",
      "946. Shan Zha\n",
      "ur.01361423240.48\n"
     ]
    },
    {
     "name": "stderr",
     "output_type": "stream",
     "text": [
      "0-7 / 7 (1.35s)\u001b[0m\n",
      "===\n",
      "Records extracted: 7\u001b[0m\n",
      "Starting iteration with limit=1000 skip=0 ...\u001b[0m\n"
     ]
    },
    {
     "name": "stdout",
     "output_type": "stream",
     "text": [
      "ur.01361423240.48 id has 7 patents\n",
      "947. William Freed-Pastor\n",
      "ur.01357104206.78\n"
     ]
    },
    {
     "name": "stderr",
     "output_type": "stream",
     "text": [
      "===\n",
      "Records extracted: 0\u001b[0m\n",
      "Starting iteration with limit=1000 skip=0 ...\u001b[0m\n"
     ]
    },
    {
     "name": "stdout",
     "output_type": "stream",
     "text": [
      "ur.01357104206.78 id has 0 patents\n",
      "948. Alexander Gitlin\n",
      "ur.0656645312.25\n"
     ]
    },
    {
     "name": "stderr",
     "output_type": "stream",
     "text": [
      "===\n",
      "Records extracted: 0\u001b[0m\n",
      "Starting iteration with limit=1000 skip=0 ...\u001b[0m\n"
     ]
    },
    {
     "name": "stdout",
     "output_type": "stream",
     "text": [
      "ur.0656645312.25 id has 0 patents\n",
      "949. Gil Hoftman\n",
      "ur.01327566116.14\n"
     ]
    },
    {
     "name": "stderr",
     "output_type": "stream",
     "text": [
      "===\n",
      "Records extracted: 0\u001b[0m\n",
      "Starting iteration with limit=1000 skip=0 ...\u001b[0m\n"
     ]
    },
    {
     "name": "stdout",
     "output_type": "stream",
     "text": [
      "ur.01327566116.14 id has 0 patents\n",
      "950. Kartik Pattabiraman\n",
      "ur.0751554667.55\n"
     ]
    },
    {
     "name": "stderr",
     "output_type": "stream",
     "text": [
      "===\n",
      "Records extracted: 0\u001b[0m\n",
      "Starting iteration with limit=1000 skip=0 ...\u001b[0m\n"
     ]
    },
    {
     "name": "stdout",
     "output_type": "stream",
     "text": [
      "ur.0751554667.55 id has 0 patents\n",
      "951. Carolyn Sangokoya\n",
      "ur.0767276205.71\n"
     ]
    },
    {
     "name": "stderr",
     "output_type": "stream",
     "text": [
      "===\n",
      "Records extracted: 0\u001b[0m\n",
      "Starting iteration with limit=1000 skip=0 ...\u001b[0m\n"
     ]
    },
    {
     "name": "stdout",
     "output_type": "stream",
     "text": [
      "ur.0767276205.71 id has 0 patents\n",
      "952. Jay Sarthy\n",
      "ur.0615333007.52\n"
     ]
    },
    {
     "name": "stderr",
     "output_type": "stream",
     "text": [
      "===\n",
      "Records extracted: 0\u001b[0m\n",
      "Starting iteration with limit=1000 skip=0 ...\u001b[0m\n"
     ]
    },
    {
     "name": "stdout",
     "output_type": "stream",
     "text": [
      "ur.0615333007.52 id has 0 patents\n",
      "953. Josephine Thinwa\n",
      "ur.07427726171.80\n"
     ]
    },
    {
     "name": "stderr",
     "output_type": "stream",
     "text": [
      "===\n",
      "Records extracted: 0\u001b[0m\n",
      "Starting iteration with limit=1000 skip=0 ...\u001b[0m\n"
     ]
    },
    {
     "name": "stdout",
     "output_type": "stream",
     "text": [
      "ur.07427726171.80 id has 0 patents\n",
      "954. Maria  Basil\n",
      "ur.0711535432.99\n"
     ]
    },
    {
     "name": "stderr",
     "output_type": "stream",
     "text": [
      "===\n",
      "Records extracted: 0\u001b[0m\n",
      "Starting iteration with limit=1000 skip=0 ...\u001b[0m\n"
     ]
    },
    {
     "name": "stdout",
     "output_type": "stream",
     "text": [
      "ur.0711535432.99 id has 0 patents\n",
      "955. Glynnis Garry\n",
      "ur.016402323760.15\n"
     ]
    },
    {
     "name": "stderr",
     "output_type": "stream",
     "text": [
      "===\n",
      "Records extracted: 0\u001b[0m\n",
      "Starting iteration with limit=1000 skip=0 ...\u001b[0m\n"
     ]
    },
    {
     "name": "stdout",
     "output_type": "stream",
     "text": [
      "ur.016402323760.15 id has 0 patents\n",
      "956. Sattar Khoshkhoo\n",
      "ur.0647533747.03\n"
     ]
    },
    {
     "name": "stderr",
     "output_type": "stream",
     "text": [
      "===\n",
      "Records extracted: 0\u001b[0m\n",
      "Starting iteration with limit=1000 skip=0 ...\u001b[0m\n"
     ]
    },
    {
     "name": "stdout",
     "output_type": "stream",
     "text": [
      "ur.0647533747.03 id has 0 patents\n",
      "957. Paulo Lizano\n",
      "ur.014203572140.09\n"
     ]
    },
    {
     "name": "stderr",
     "output_type": "stream",
     "text": [
      "===\n",
      "Records extracted: 0\u001b[0m\n",
      "Starting iteration with limit=1000 skip=0 ...\u001b[0m\n"
     ]
    },
    {
     "name": "stdout",
     "output_type": "stream",
     "text": [
      "ur.014203572140.09 id has 0 patents\n",
      "958. Jacqueline Parchem\n",
      "ur.0734443231.49\n"
     ]
    },
    {
     "name": "stderr",
     "output_type": "stream",
     "text": [
      "===\n",
      "Records extracted: 0\u001b[0m\n",
      "Starting iteration with limit=1000 skip=0 ...\u001b[0m\n"
     ]
    },
    {
     "name": "stdout",
     "output_type": "stream",
     "text": [
      "ur.0734443231.49 id has 0 patents\n",
      "959. Sheila Shanmugan\n",
      "ur.011770622237.08\n"
     ]
    },
    {
     "name": "stderr",
     "output_type": "stream",
     "text": [
      "0-2 / 2 (1.29s)\u001b[0m\n",
      "===\n",
      "Records extracted: 2\u001b[0m\n",
      "Starting iteration with limit=1000 skip=0 ...\u001b[0m\n"
     ]
    },
    {
     "name": "stdout",
     "output_type": "stream",
     "text": [
      "ur.011770622237.08 id has 2 patents\n",
      "960. Diana Shi\n",
      "ur.01335645364.68\n"
     ]
    },
    {
     "name": "stderr",
     "output_type": "stream",
     "text": [
      "0-2 / 2 (4.49s)\u001b[0m\n",
      "===\n",
      "Records extracted: 2\u001b[0m\n",
      "Starting iteration with limit=1000 skip=0 ...\u001b[0m\n"
     ]
    },
    {
     "name": "stdout",
     "output_type": "stream",
     "text": [
      "ur.01335645364.68 id has 2 patents\n",
      "961. Joelle Straehla\n",
      "ur.01315145763.77\n"
     ]
    },
    {
     "name": "stderr",
     "output_type": "stream",
     "text": [
      "===\n",
      "Records extracted: 0\u001b[0m\n",
      "Starting iteration with limit=1000 skip=0 ...\u001b[0m\n"
     ]
    },
    {
     "name": "stdout",
     "output_type": "stream",
     "text": [
      "ur.01315145763.77 id has 0 patents\n",
      "962. Brian Sweis\n",
      "ur.015123200237.36\n"
     ]
    },
    {
     "name": "stderr",
     "output_type": "stream",
     "text": [
      "===\n",
      "Records extracted: 0\u001b[0m\n",
      "Starting iteration with limit=1000 skip=0 ...\u001b[0m\n"
     ]
    },
    {
     "name": "stdout",
     "output_type": "stream",
     "text": [
      "ur.015123200237.36 id has 0 patents\n",
      "963. Tobiloba Oni\n",
      "ur.01335645364.68\n"
     ]
    },
    {
     "name": "stderr",
     "output_type": "stream",
     "text": [
      "0-2 / 2 (6.14s)\u001b[0m\n",
      "===\n",
      "Records extracted: 2\u001b[0m\n",
      "Starting iteration with limit=1000 skip=0 ...\u001b[0m\n"
     ]
    },
    {
     "name": "stdout",
     "output_type": "stream",
     "text": [
      "ur.01335645364.68 id has 2 patents\n",
      "964. Joelle  Straehla\n",
      "ur.0707636060.17\n"
     ]
    },
    {
     "name": "stderr",
     "output_type": "stream",
     "text": [
      "===\n",
      "Records extracted: 0\u001b[0m\n",
      "Starting iteration with limit=1000 skip=0 ...\u001b[0m\n"
     ]
    },
    {
     "name": "stdout",
     "output_type": "stream",
     "text": [
      "ur.0707636060.17 id has 0 patents\n",
      "965. Sean Agbor-Enoh\n",
      "ur.0633667433.22\n"
     ]
    },
    {
     "name": "stderr",
     "output_type": "stream",
     "text": [
      "===\n",
      "Records extracted: 0\u001b[0m\n",
      "Starting iteration with limit=1000 skip=0 ...\u001b[0m\n"
     ]
    },
    {
     "name": "stdout",
     "output_type": "stream",
     "text": [
      "ur.0633667433.22 id has 0 patents\n",
      "966. Megan Baldridge\n",
      "ur.01126107351.55\n"
     ]
    },
    {
     "name": "stderr",
     "output_type": "stream",
     "text": [
      "0-2 / 2 (1.02s)\u001b[0m\n",
      "===\n",
      "Records extracted: 2\u001b[0m\n",
      "Starting iteration with limit=1000 skip=0 ...\u001b[0m\n"
     ]
    },
    {
     "name": "stdout",
     "output_type": "stream",
     "text": [
      "ur.01126107351.55 id has 2 patents\n",
      "967. Evan Brittain\n",
      "ur.0730017155.21\n"
     ]
    },
    {
     "name": "stderr",
     "output_type": "stream",
     "text": [
      "0-5 / 5 (4.64s)\u001b[0m\n",
      "===\n",
      "Records extracted: 5\u001b[0m\n",
      "Starting iteration with limit=1000 skip=0 ...\u001b[0m\n"
     ]
    },
    {
     "name": "stdout",
     "output_type": "stream",
     "text": [
      "ur.0730017155.21 id has 5 patents\n",
      "968. Eugenio Cingolani\n",
      "ur.0705555013.31\n"
     ]
    },
    {
     "name": "stderr",
     "output_type": "stream",
     "text": [
      "0-2 / 2 (6.05s)\u001b[0m\n",
      "===\n",
      "Records extracted: 2\u001b[0m\n",
      "Starting iteration with limit=1000 skip=0 ...\u001b[0m\n"
     ]
    },
    {
     "name": "stdout",
     "output_type": "stream",
     "text": [
      "ur.0705555013.31 id has 2 patents\n",
      "969. Brian DeBosch\n",
      "ur.01106306220.13\n"
     ]
    },
    {
     "name": "stderr",
     "output_type": "stream",
     "text": [
      "0-7 / 7 (1.21s)\u001b[0m\n",
      "===\n",
      "Records extracted: 7\u001b[0m\n",
      "Starting iteration with limit=1000 skip=0 ...\u001b[0m\n"
     ]
    },
    {
     "name": "stdout",
     "output_type": "stream",
     "text": [
      "ur.01106306220.13 id has 7 patents\n",
      "970. Courtney DiNardo\n",
      "ur.01231067147.32\n"
     ]
    },
    {
     "name": "stderr",
     "output_type": "stream",
     "text": [
      "===\n",
      "Records extracted: 0\u001b[0m\n",
      "Starting iteration with limit=1000 skip=0 ...\u001b[0m\n"
     ]
    },
    {
     "name": "stdout",
     "output_type": "stream",
     "text": [
      "ur.01231067147.32 id has 0 patents\n",
      "971. Cynthia Gyamfi-Bannerman\n",
      "ur.01015332750.97\n"
     ]
    },
    {
     "name": "stderr",
     "output_type": "stream",
     "text": [
      "0-2 / 2 (1.18s)\u001b[0m\n",
      "===\n",
      "Records extracted: 2\u001b[0m\n",
      "Starting iteration with limit=1000 skip=0 ...\u001b[0m\n"
     ]
    },
    {
     "name": "stdout",
     "output_type": "stream",
     "text": [
      "ur.01015332750.97 id has 2 patents\n",
      "972. Lesley Inker\n",
      "ur.01117753275.35\n"
     ]
    },
    {
     "name": "stderr",
     "output_type": "stream",
     "text": [
      "===\n",
      "Records extracted: 0\u001b[0m\n",
      "Starting iteration with limit=1000 skip=0 ...\u001b[0m\n"
     ]
    },
    {
     "name": "stdout",
     "output_type": "stream",
     "text": [
      "ur.01117753275.35 id has 0 patents\n",
      "973. Yelena Janjigian\n",
      "ur.01351343672.57\n"
     ]
    },
    {
     "name": "stderr",
     "output_type": "stream",
     "text": [
      "0-32 / 32 (6.25s)\u001b[0m\n",
      "===\n",
      "Records extracted: 32\u001b[0m\n",
      "Starting iteration with limit=1000 skip=0 ...\u001b[0m\n"
     ]
    },
    {
     "name": "stdout",
     "output_type": "stream",
     "text": [
      "ur.01351343672.57 id has 32 patents\n",
      "974. Christopher Klebanoff\n",
      "ur.01366223722.25\n"
     ]
    },
    {
     "name": "stderr",
     "output_type": "stream",
     "text": [
      "===\n",
      "Records extracted: 0\u001b[0m\n",
      "Starting iteration with limit=1000 skip=0 ...\u001b[0m\n"
     ]
    },
    {
     "name": "stdout",
     "output_type": "stream",
     "text": [
      "ur.01366223722.25 id has 0 patents\n",
      "975. Joanna Klubo-Gwiezdzinska\n",
      "ur.0730602411.42\n"
     ]
    },
    {
     "name": "stderr",
     "output_type": "stream",
     "text": [
      "===\n",
      "Records extracted: 0\u001b[0m\n",
      "Starting iteration with limit=1000 skip=0 ...\u001b[0m\n"
     ]
    },
    {
     "name": "stdout",
     "output_type": "stream",
     "text": [
      "ur.0730602411.42 id has 0 patents\n",
      "976. Krista Lentine\n",
      "ur.01117616661.21\n"
     ]
    },
    {
     "name": "stderr",
     "output_type": "stream",
     "text": [
      "0-28 / 28 (4.64s)\u001b[0m\n",
      "===\n",
      "Records extracted: 28\u001b[0m\n",
      "Starting iteration with limit=1000 skip=0 ...\u001b[0m\n"
     ]
    },
    {
     "name": "stdout",
     "output_type": "stream",
     "text": [
      "ur.01117616661.21 id has 28 patents\n",
      "977. Josh Levitsky\n",
      "ur.0605731065.94\n"
     ]
    },
    {
     "name": "stderr",
     "output_type": "stream",
     "text": [
      "0-2 / 2 (1.17s)\u001b[0m\n",
      "===\n",
      "Records extracted: 2\u001b[0m\n",
      "Starting iteration with limit=1000 skip=0 ...\u001b[0m\n"
     ]
    },
    {
     "name": "stdout",
     "output_type": "stream",
     "text": [
      "ur.0605731065.94 id has 2 patents\n",
      "978. Harmeet Malhi\n",
      "ur.0607235055.77\n"
     ]
    },
    {
     "name": "stderr",
     "output_type": "stream",
     "text": [
      "0-5 / 5 (1.19s)\u001b[0m\n",
      "===\n",
      "Records extracted: 5\u001b[0m\n",
      "Starting iteration with limit=1000 skip=0 ...\u001b[0m\n"
     ]
    },
    {
     "name": "stdout",
     "output_type": "stream",
     "text": [
      "ur.0607235055.77 id has 5 patents\n",
      "979. Sandeep Mallipattu\n",
      "ur.0704273077.38\n"
     ]
    },
    {
     "name": "stderr",
     "output_type": "stream",
     "text": [
      "===\n",
      "Records extracted: 0\u001b[0m\n",
      "Starting iteration with limit=1000 skip=0 ...\u001b[0m\n"
     ]
    },
    {
     "name": "stdout",
     "output_type": "stream",
     "text": [
      "ur.0704273077.38 id has 0 patents\n",
      "980. Supriya Mohile\n",
      "ur.01042746057.07\n"
     ]
    },
    {
     "name": "stderr",
     "output_type": "stream",
     "text": [
      "0-42 / 42 (1.53s)\u001b[0m\n",
      "===\n",
      "Records extracted: 42\u001b[0m\n",
      "Starting iteration with limit=1000 skip=0 ...\u001b[0m\n"
     ]
    },
    {
     "name": "stdout",
     "output_type": "stream",
     "text": [
      "ur.01042746057.07 id has 42 patents\n",
      "981. Rahmi Oklu\n",
      "ur.0733152466.52\n"
     ]
    },
    {
     "name": "stderr",
     "output_type": "stream",
     "text": [
      "===\n",
      "Records extracted: 0\u001b[0m\n",
      "Starting iteration with limit=1000 skip=0 ...\u001b[0m\n"
     ]
    },
    {
     "name": "stdout",
     "output_type": "stream",
     "text": [
      "ur.0733152466.52 id has 0 patents\n",
      "982. Tiffany Powell-Wiley\n",
      "ur.01254760707.06\n"
     ]
    },
    {
     "name": "stderr",
     "output_type": "stream",
     "text": [
      "0-1 / 1 (1.24s)\u001b[0m\n",
      "===\n",
      "Records extracted: 1\u001b[0m\n",
      "Starting iteration with limit=1000 skip=0 ...\u001b[0m\n"
     ]
    },
    {
     "name": "stdout",
     "output_type": "stream",
     "text": [
      "ur.01254760707.06 id has 1 patents\n",
      "983. Stacey Rentschler\n",
      "ur.014105203344.24\n"
     ]
    },
    {
     "name": "stderr",
     "output_type": "stream",
     "text": [
      "0-162 / 162 (4.95s)\u001b[0m\n",
      "===\n",
      "Records extracted: 162\u001b[0m\n",
      "Starting iteration with limit=1000 skip=0 ...\u001b[0m\n"
     ]
    },
    {
     "name": "stdout",
     "output_type": "stream",
     "text": [
      "ur.014105203344.24 id has 162 patents\n",
      "984. Katy Rezvani\n",
      "ur.01143741766.44\n"
     ]
    },
    {
     "name": "stderr",
     "output_type": "stream",
     "text": [
      "0-36 / 36 (1.30s)\u001b[0m\n",
      "===\n",
      "Records extracted: 36\u001b[0m\n",
      "Starting iteration with limit=1000 skip=0 ...\u001b[0m\n"
     ]
    },
    {
     "name": "stdout",
     "output_type": "stream",
     "text": [
      "ur.01143741766.44 id has 36 patents\n",
      "985. Todd Ridky\n",
      "ur.0621704354.13\n"
     ]
    },
    {
     "name": "stderr",
     "output_type": "stream",
     "text": [
      "===\n",
      "Records extracted: 0\u001b[0m\n",
      "Starting iteration with limit=1000 skip=0 ...\u001b[0m\n"
     ]
    },
    {
     "name": "stdout",
     "output_type": "stream",
     "text": [
      "ur.0621704354.13 id has 0 patents\n",
      "986. Aylin Rodan\n",
      "ur.0757762374.57\n"
     ]
    },
    {
     "name": "stderr",
     "output_type": "stream",
     "text": [
      "0-185 / 185 (4.97s)\u001b[0m\n",
      "===\n",
      "Records extracted: 185\u001b[0m\n",
      "Starting iteration with limit=1000 skip=0 ...\u001b[0m\n"
     ]
    },
    {
     "name": "stdout",
     "output_type": "stream",
     "text": [
      "ur.0757762374.57 id has 185 patents\n",
      "987. Marco Ruella\n",
      "ur.01205732650.11\n"
     ]
    },
    {
     "name": "stderr",
     "output_type": "stream",
     "text": [
      "0-1 / 1 (5.63s)\u001b[0m\n",
      "===\n",
      "Records extracted: 1\u001b[0m\n",
      "Starting iteration with limit=1000 skip=0 ...\u001b[0m\n"
     ]
    },
    {
     "name": "stdout",
     "output_type": "stream",
     "text": [
      "ur.01205732650.11 id has 1 patents\n",
      "988. Cyndya Shibao\n",
      "ur.0631447710.41\n"
     ]
    },
    {
     "name": "stderr",
     "output_type": "stream",
     "text": [
      "===\n",
      "Records extracted: 0\u001b[0m\n",
      "Starting iteration with limit=1000 skip=0 ...\u001b[0m\n"
     ]
    },
    {
     "name": "stdout",
     "output_type": "stream",
     "text": [
      "ur.0631447710.41 id has 0 patents\n",
      "989. Barbara Trautner\n",
      "ur.0755035374.92\n"
     ]
    },
    {
     "name": "stderr",
     "output_type": "stream",
     "text": [
      "===\n",
      "Records extracted: 0\u001b[0m\n",
      "Starting iteration with limit=1000 skip=0 ...\u001b[0m\n"
     ]
    },
    {
     "name": "stdout",
     "output_type": "stream",
     "text": [
      "ur.0755035374.92 id has 0 patents\n",
      "990. Duane Wesemann\n",
      "ur.010546227027.19\n"
     ]
    },
    {
     "name": "stderr",
     "output_type": "stream",
     "text": [
      "===\n",
      "Records extracted: 0\u001b[0m\n",
      "Starting iteration with limit=1000 skip=0 ...\u001b[0m\n"
     ]
    },
    {
     "name": "stdout",
     "output_type": "stream",
     "text": [
      "ur.010546227027.19 id has 0 patents\n",
      "991. Amir Zarrinpar\n",
      "ur.01052411656.50\n"
     ]
    },
    {
     "name": "stderr",
     "output_type": "stream",
     "text": [
      "===\n",
      "Records extracted: 0\u001b[0m\n",
      "Starting iteration with limit=1000 skip=0 ...\u001b[0m\n"
     ]
    },
    {
     "name": "stdout",
     "output_type": "stream",
     "text": [
      "ur.01052411656.50 id has 0 patents\n",
      "992. Elad Ziv\n",
      "ur.01205077360.52\n"
     ]
    },
    {
     "name": "stderr",
     "output_type": "stream",
     "text": [
      "===\n",
      "Records extracted: 0\u001b[0m\n"
     ]
    },
    {
     "name": "stdout",
     "output_type": "stream",
     "text": [
      "ur.01205077360.52 id has 0 patents\n",
      "993. Behdad Afzali\n",
      "The data has been written to all_Patents.json\n"
     ]
    }
   ],
   "source": [
    "def findby_Id(nameDict):\n",
    "    all_Patents= {}\n",
    "    count=0\n",
    "    for name, person_id in nameDict.items():\n",
    "        print(person_id[0])        \n",
    "        res = dsl.query_iterative(f\"\"\"search patents where researchers = \"{person_id[0]}\" return patents[basics+categories+extras+family_count+family_id+federal_support+filing_date+granted_date+publication_ids]\"\"\")\n",
    "        number = res.json['_stats']['total_count']\n",
    "        print(f'{person_id[0]} id has {number} patents')\n",
    "        listDict = res.json['patents']\n",
    "        name_list = []\n",
    "        for patent in listDict:\n",
    "            name_list.append(patent)\n",
    "        \n",
    "        all_Patents[name] = name_list\n",
    "        count+=1\n",
    "        print(f'{count}. {name}')\n",
    "  \n",
    "    return all_Patents\n",
    "patents = findby_Id(whole_Dict)\n",
    "# Specify the file name\n",
    "json_filename = \"all_Patents.json\"\n",
    "\n",
    "# Writing the dictionary to a JSON file\n",
    "with open(json_filename, 'w') as json_file:\n",
    "    json.dump(patents, json_file, indent=2)\n",
    "\n",
    "print(f'The data has been written to {json_filename}')"
   ]
  }
 ],
 "metadata": {
  "kernelspec": {
   "display_name": "Python 3 (ipykernel)",
   "language": "python",
   "name": "python3"
  },
  "language_info": {
   "codemirror_mode": {
    "name": "ipython",
    "version": 3
   },
   "file_extension": ".py",
   "mimetype": "text/x-python",
   "name": "python",
   "nbconvert_exporter": "python",
   "pygments_lexer": "ipython3",
   "version": "3.11.5"
  }
 },
 "nbformat": 4,
 "nbformat_minor": 5
}
