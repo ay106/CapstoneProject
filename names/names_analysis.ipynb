{
 "cells": [
  {
   "cell_type": "markdown",
   "metadata": {},
   "source": [
    "**Looking Over the full list of names from original_names**"
   ]
  },
  {
   "cell_type": "code",
   "execution_count": 1,
   "metadata": {},
   "outputs": [],
   "source": [
    "#packages needed\n",
    "import csv\n",
    "import pandas as pd\n",
    "import numpy as np\n",
    "import ast "
   ]
  },
  {
   "cell_type": "code",
   "execution_count": 67,
   "metadata": {},
   "outputs": [
    {
     "name": "stdout",
     "output_type": "stream",
     "text": [
      "993\n"
     ]
    }
   ],
   "source": [
    "with open(\"nameOneIDs.csv\", encoding=\"latin-1\") as fileToRead:\n",
    "    csvReader = csv.DictReader(fileToRead)   # create reader object\n",
    "    rows = [row for row in csvReader]        # do the reading of each row\n",
    "\n",
    "print(len(rows))\n",
    "#for row in rows:\n",
    "    #print(row)"
   ]
  },
  {
   "cell_type": "code",
   "execution_count": 71,
   "metadata": {},
   "outputs": [
    {
     "data": {
      "text/html": [
       "<div>\n",
       "<style scoped>\n",
       "    .dataframe tbody tr th:only-of-type {\n",
       "        vertical-align: middle;\n",
       "    }\n",
       "\n",
       "    .dataframe tbody tr th {\n",
       "        vertical-align: top;\n",
       "    }\n",
       "\n",
       "    .dataframe thead th {\n",
       "        text-align: right;\n",
       "    }\n",
       "</style>\n",
       "<table border=\"1\" class=\"dataframe\">\n",
       "  <thead>\n",
       "    <tr style=\"text-align: right;\">\n",
       "      <th></th>\n",
       "      <th>Name</th>\n",
       "      <th>ID</th>\n",
       "    </tr>\n",
       "  </thead>\n",
       "  <tbody>\n",
       "    <tr>\n",
       "      <th>count</th>\n",
       "      <td>993</td>\n",
       "      <td>993</td>\n",
       "    </tr>\n",
       "    <tr>\n",
       "      <th>unique</th>\n",
       "      <td>993</td>\n",
       "      <td>992</td>\n",
       "    </tr>\n",
       "    <tr>\n",
       "      <th>top</th>\n",
       "      <td>Yale Nemerson</td>\n",
       "      <td>['ur.01335645364.68']</td>\n",
       "    </tr>\n",
       "    <tr>\n",
       "      <th>freq</th>\n",
       "      <td>1</td>\n",
       "      <td>2</td>\n",
       "    </tr>\n",
       "  </tbody>\n",
       "</table>\n",
       "</div>"
      ],
      "text/plain": [
       "                 Name                     ID\n",
       "count             993                    993\n",
       "unique            993                    992\n",
       "top     Yale Nemerson  ['ur.01335645364.68']\n",
       "freq                1                      2"
      ]
     },
     "execution_count": 71,
     "metadata": {},
     "output_type": "execute_result"
    }
   ],
   "source": [
    "df = pd.DataFrame(data=rows)\n",
    "df.columns\n",
    "df.describe()\n"
   ]
  },
  {
   "cell_type": "code",
   "execution_count": 34,
   "metadata": {},
   "outputs": [
    {
     "data": {
      "text/html": [
       "<div>\n",
       "<style scoped>\n",
       "    .dataframe tbody tr th:only-of-type {\n",
       "        vertical-align: middle;\n",
       "    }\n",
       "\n",
       "    .dataframe tbody tr th {\n",
       "        vertical-align: top;\n",
       "    }\n",
       "\n",
       "    .dataframe thead th {\n",
       "        text-align: right;\n",
       "    }\n",
       "</style>\n",
       "<table border=\"1\" class=\"dataframe\">\n",
       "  <thead>\n",
       "    <tr style=\"text-align: right;\">\n",
       "      <th></th>\n",
       "      <th>year</th>\n",
       "      <th>first_name</th>\n",
       "      <th>middle_name</th>\n",
       "      <th>last_name</th>\n",
       "      <th>affiliation</th>\n",
       "      <th>original specialization</th>\n",
       "      <th>modified specializationmemoriam</th>\n",
       "      <th>email_affiliation</th>\n",
       "      <th>related_aff</th>\n",
       "      <th>umbrella_spec</th>\n",
       "      <th></th>\n",
       "    </tr>\n",
       "  </thead>\n",
       "  <tbody>\n",
       "    <tr>\n",
       "      <th>0</th>\n",
       "      <td>1969</td>\n",
       "      <td>Thomas</td>\n",
       "      <td>N</td>\n",
       "      <td>James</td>\n",
       "      <td>[]</td>\n",
       "      <td>[]</td>\n",
       "      <td>[]</td>\n",
       "      <td>['ASCI', 'AAP']</td>\n",
       "      <td>[]</td>\n",
       "      <td>[]</td>\n",
       "      <td></td>\n",
       "    </tr>\n",
       "    <tr>\n",
       "      <th>1</th>\n",
       "      <td>1969</td>\n",
       "      <td>Simon</td>\n",
       "      <td></td>\n",
       "      <td>Karpatkin</td>\n",
       "      <td>[]</td>\n",
       "      <td>[]</td>\n",
       "      <td>[]</td>\n",
       "      <td>['ASCI', 'AAP']</td>\n",
       "      <td>[]</td>\n",
       "      <td>[]</td>\n",
       "      <td></td>\n",
       "    </tr>\n",
       "    <tr>\n",
       "      <th>2</th>\n",
       "      <td>1969</td>\n",
       "      <td>Philip</td>\n",
       "      <td>W.</td>\n",
       "      <td>Majerus</td>\n",
       "      <td>[]</td>\n",
       "      <td>[]</td>\n",
       "      <td>[]</td>\n",
       "      <td>['ASCI', 'AAP']</td>\n",
       "      <td>[]</td>\n",
       "      <td>[]</td>\n",
       "      <td></td>\n",
       "    </tr>\n",
       "    <tr>\n",
       "      <th>3</th>\n",
       "      <td>1969</td>\n",
       "      <td>Ralph</td>\n",
       "      <td>L.</td>\n",
       "      <td>Nachman</td>\n",
       "      <td>['Weill Cornell Medical College']</td>\n",
       "      <td>['Oncology', 'Hematology', 'Administration']</td>\n",
       "      <td>['Hematology']</td>\n",
       "      <td>['ASCI', 'AAP']</td>\n",
       "      <td>[]</td>\n",
       "      <td>[]</td>\n",
       "      <td></td>\n",
       "    </tr>\n",
       "    <tr>\n",
       "      <th>4</th>\n",
       "      <td>1969</td>\n",
       "      <td>Yale</td>\n",
       "      <td></td>\n",
       "      <td>Nemerson</td>\n",
       "      <td>[]</td>\n",
       "      <td>[]</td>\n",
       "      <td>[]</td>\n",
       "      <td>['ASCI', 'AAP']</td>\n",
       "      <td>[]</td>\n",
       "      <td>[]</td>\n",
       "      <td></td>\n",
       "    </tr>\n",
       "  </tbody>\n",
       "</table>\n",
       "</div>"
      ],
      "text/plain": [
       "   year first_name middle_name  last_name                        affiliation  \\\n",
       "0  1969     Thomas           N      James                                 []   \n",
       "1  1969      Simon              Karpatkin                                 []   \n",
       "2  1969     Philip          W.    Majerus                                 []   \n",
       "3  1969      Ralph          L.    Nachman  ['Weill Cornell Medical College']   \n",
       "4  1969       Yale               Nemerson                                 []   \n",
       "\n",
       "                        original specialization  \\\n",
       "0                                            []   \n",
       "1                                            []   \n",
       "2                                            []   \n",
       "3  ['Oncology', 'Hematology', 'Administration']   \n",
       "4                                            []   \n",
       "\n",
       "  modified specializationmemoriam email_affiliation related_aff umbrella_spec  \\\n",
       "0                              []   ['ASCI', 'AAP']          []            []   \n",
       "1                              []   ['ASCI', 'AAP']          []            []   \n",
       "2                              []   ['ASCI', 'AAP']          []            []   \n",
       "3                  ['Hematology']   ['ASCI', 'AAP']          []            []   \n",
       "4                              []   ['ASCI', 'AAP']          []            []   \n",
       "\n",
       "     \n",
       "0    \n",
       "1    \n",
       "2    \n",
       "3    \n",
       "4    "
      ]
     },
     "execution_count": 34,
     "metadata": {},
     "output_type": "execute_result"
    }
   ],
   "source": [
    "df2.head()\n",
    "# df2['email_affiliation'].describe()\n",
    "# bject = df2.duplicated()\n",
    "# for o in bject:\n",
    "#     if o == True:\n",
    "#         print('Duplicate found')"
   ]
  },
  {
   "cell_type": "code",
   "execution_count": 4,
   "metadata": {},
   "outputs": [
    {
     "name": "stdout",
     "output_type": "stream",
     "text": [
      "year                                  0\n",
      "first_name                            0\n",
      "middle_name                        1493\n",
      "last_name                             0\n",
      "affiliation                         818\n",
      "original specialization             732\n",
      "modified specializationmemoriam    1265\n",
      "email_affiliation                     0\n",
      "related_aff                        3234\n",
      "umbrella_spec                      3234\n",
      "                                   4214\n",
      "dtype: int64\n"
     ]
    }
   ],
   "source": [
    "# Function to check if a value is missing or an empty list\n",
    "def is_missing_or_empty(value):\n",
    "    return pd.isna(value) or (isinstance(value, str) and (value.strip() == \"[]\" or value.strip() == \"\"))\n",
    "\n",
    "# Apply the function to each element in the DataFrame\n",
    "missing_values_count = df2.applymap(is_missing_or_empty).sum()\n",
    "\n",
    "# Print the result\n",
    "print(missing_values_count)"
   ]
  },
  {
   "cell_type": "markdown",
   "metadata": {},
   "source": [
    "#### Now I will be using the edited list of names that only have one username in Dimensions and OpenAlex"
   ]
  },
  {
   "cell_type": "code",
   "execution_count": null,
   "metadata": {},
   "outputs": [],
   "source": []
  },
  {
   "cell_type": "code",
   "execution_count": 53,
   "metadata": {},
   "outputs": [
    {
     "name": "stdout",
     "output_type": "stream",
     "text": [
      "Number of 2010 inductees: 68\n",
      "Number of 1990 inductees: 73\n",
      "Total number of people from both years: 141\n"
     ]
    }
   ],
   "source": [
    "df = pd.DataFrame(data=rows)\n",
    "#print(df['year'].unique())\n",
    "\n",
    "twentyten_df = df[df['year'] == '2010']\n",
    "nineteenninety_df = df[df['year'] == '1990']\n",
    "bothYears_df = df[df['year'].isin(['2010', '1990'])]\n",
    "\n",
    "\n",
    "print(f'Number of 2010 inductees: {len(twentyten_df)}')\n",
    "print(f'Number of 1990 inductees: {len(nineteenninety_df)}')\n",
    "print(f'Total number of people from both years: {len(bothYears_df)}')"
   ]
  },
  {
   "cell_type": "code",
   "execution_count": 54,
   "metadata": {},
   "outputs": [
    {
     "name": "stdout",
     "output_type": "stream",
     "text": [
      "['ASCI']           125\n",
      "['ASCI', 'AAP']     16\n",
      "Name: email_affiliation, dtype: int64\n"
     ]
    }
   ],
   "source": [
    "#get associations\n",
    "email_affiliation_counts = bothYears_df['email_affiliation'].value_counts()\n",
    "print(email_affiliation_counts)"
   ]
  },
  {
   "cell_type": "code",
   "execution_count": 64,
   "metadata": {},
   "outputs": [
    {
     "name": "stderr",
     "output_type": "stream",
     "text": [
      "C:\\Users\\ashle\\AppData\\Local\\Temp\\ipykernel_10292\\2744919398.py:6: SettingWithCopyWarning: \n",
      "A value is trying to be set on a copy of a slice from a DataFrame.\n",
      "Try using .loc[row_indexer,col_indexer] = value instead\n",
      "\n",
      "See the caveats in the documentation: https://pandas.pydata.org/pandas-docs/stable/user_guide/indexing.html#returning-a-view-versus-a-copy\n",
      "  bothYears_df['full_name'] = all_names\n"
     ]
    }
   ],
   "source": [
    "#names of bothYears\n",
    "all_names = bothYears_df['first_name'] + ' ' + bothYears_df['last_name']\n",
    "#print(len(all_names))\n",
    "all_names = bothYears_df['first_name'] + ' ' + bothYears_df['last_name']\n",
    "all_names = all_names.rename('full_name')  \n",
    "bothYears_df['full_name'] = all_names"
   ]
  },
  {
   "cell_type": "code",
   "execution_count": 66,
   "metadata": {},
   "outputs": [
    {
     "name": "stdout",
     "output_type": "stream",
     "text": [
      "                 full_name  year   first_name middle_name  last_name  \\\n",
      "0             Hanna Abboud  1990        Hanna          E.     Abboud   \n",
      "1               John Adams  1990         John          S.      Adams   \n",
      "2          Andrew Feinberg  1990       Andrew          P.   Feinberg   \n",
      "3            David Gardner  1990        David          G.    Gardner   \n",
      "4               J. Jameson  1990           J.       Larry    Jameson   \n",
      "..                     ...   ...          ...         ...        ...   \n",
      "136  Constantine Stratakis  2010  Constantine              Stratakis   \n",
      "137           John Tisdale  2010         John          F.    Tisdale   \n",
      "138            Thomas Wang  2010       Thomas          J.       Wang   \n",
      "139             Myles Wolf  2010        Myles                   Wolf   \n",
      "140                Alan Yu  2010         Alan       S. L.         Yu   \n",
      "\n",
      "                                           affiliation  \\\n",
      "0                                                   []   \n",
      "1    ['University of California, Los Angeles, David...   \n",
      "2      ['Johns Hopkins University School of Medicine']   \n",
      "3    ['University of California, San Francisco, Sch...   \n",
      "4    ['University of Pennsylvania Perelman School o...   \n",
      "..                                                 ...   \n",
      "136  ['NIH, Eunice Kennedy Shriver National Institu...   \n",
      "137  ['NIH, National Institute of Diabetes and Dige...   \n",
      "138  ['University of Texas Southwestern Medical Cen...   \n",
      "139             ['Duke University School of Medicine']   \n",
      "140        ['University of Kansas School of Medicine']   \n",
      "\n",
      "                               original specialization  \\\n",
      "0                                                   []   \n",
      "1    ['Genetics', 'Biochemistry', 'Molecular Biolog...   \n",
      "2    ['Genetics', 'Molecular Biology', 'Internal Me...   \n",
      "3                                                   []   \n",
      "4    ['Genetics', 'Biochemistry', 'Molecular Biolog...   \n",
      "..                                                 ...   \n",
      "136        ['Endocrinology', 'Pediatrics', 'Genetics']   \n",
      "137                              ['Internal Medicine']   \n",
      "138  ['Cardiovascular Disease', 'Internal Medicine'...   \n",
      "139                                     ['Nephrology']   \n",
      "140                            ['Laboratory Medicine']   \n",
      "\n",
      "                       modified specializationmemoriam email_affiliation  \\\n",
      "0                                                   []   ['ASCI', 'AAP']   \n",
      "1          ['Genetics', 'Metabolism', 'Endocrinology']   ['ASCI', 'AAP']   \n",
      "2                    ['Genetics', 'Internal Medicine']   ['ASCI', 'AAP']   \n",
      "3                                                   []   ['ASCI', 'AAP']   \n",
      "4    ['Genetics', 'Internal Medicine', 'Endocrinolo...   ['ASCI', 'AAP']   \n",
      "..                                                 ...               ...   \n",
      "136        ['Endocrinology', 'Pediatrics', 'Genetics']          ['ASCI']   \n",
      "137                              ['Internal Medicine']          ['ASCI']   \n",
      "138  ['Cardiovascular Disease', 'Internal Medicine'...          ['ASCI']   \n",
      "139                                     ['Nephrology']          ['ASCI']   \n",
      "140                            ['Laboratory Medicine']          ['ASCI']   \n",
      "\n",
      "                                  related_aff  \\\n",
      "0                                          []   \n",
      "1                                          []   \n",
      "2    ['Johns Hopkins University Affiliates*']   \n",
      "3                                          []   \n",
      "4                                          []   \n",
      "..                                        ...   \n",
      "136                       ['NIH Affiliates*']   \n",
      "137                       ['NIH Affiliates*']   \n",
      "138                                        []   \n",
      "139           ['Duke University Affiliates*']   \n",
      "140                                        []   \n",
      "\n",
      "                                         umbrella_spec     \n",
      "0                                                   []     \n",
      "1                                                   []     \n",
      "2    ['Johns Hopkins Bloomberg School of Public Hea...     \n",
      "3                                                   []     \n",
      "4                                                   []     \n",
      "..                                                 ... ..  \n",
      "136  ['NIH, Eunice Kennedy Shriver National Institu...     \n",
      "137  ['NIH, Eunice Kennedy Shriver National Institu...     \n",
      "138                                                 []     \n",
      "139  ['Duke University and Health System', 'Duke Un...     \n",
      "140                                                 []     \n",
      "\n",
      "[141 rows x 12 columns]\n"
     ]
    }
   ],
   "source": [
    "merged_df = pd.merge(all_names.to_frame(), bothYears_df, how='inner', left_on='full_name', right_on='full_name')\n",
    "print(merged_df)\n",
    "merged_df.to_csv('merged_data.csv', index=False)\n"
   ]
  }
 ],
 "metadata": {
  "kernelspec": {
   "display_name": "base",
   "language": "python",
   "name": "python3"
  },
  "language_info": {
   "codemirror_mode": {
    "name": "ipython",
    "version": 3
   },
   "file_extension": ".py",
   "mimetype": "text/x-python",
   "name": "python",
   "nbconvert_exporter": "python",
   "pygments_lexer": "ipython3",
   "version": "3.9.13"
  }
 },
 "nbformat": 4,
 "nbformat_minor": 2
}
